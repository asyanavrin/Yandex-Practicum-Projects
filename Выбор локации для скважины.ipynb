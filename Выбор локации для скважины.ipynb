{
 "cells": [
  {
   "cell_type": "markdown",
   "metadata": {},
   "source": [
    "# Выбор локации для скважины"
   ]
  },
  {
   "cell_type": "markdown",
   "metadata": {},
   "source": [
    "Допустим, вы работаете в добывающей компании «ГлавРосГосНефть». Нужно решить, где бурить новую скважину.\n",
    "\n",
    "**О датасете:** Вам предоставлены пробы нефти в трёх регионах: в каждом 10 000 месторождений, где измерили качество нефти и объём её запасов. \n",
    "\n",
    "**Задача:** Постройте модель машинного обучения, которая поможет определить регион, где добыча принесёт наибольшую прибыль. Проанализируйте возможную прибыль и риски техникой *Bootstrap.*\n",
    "\n",
    "Шаги для выбора локации:\n",
    "\n",
    "- В избранном регионе ищут месторождения, для каждого определяют значения признаков;\n",
    "- Строят модель и оценивают объём запасов;\n",
    "- Выбирают месторождения с самым высокими оценками значений. Количество месторождений зависит от бюджета компании и стоимости разработки одной скважины;\n",
    "- Прибыль равна суммарной прибыли отобранных месторождений."
   ]
  },
  {
   "cell_type": "code",
   "execution_count": 1,
   "metadata": {},
   "outputs": [],
   "source": [
    "import pandas as pd\n",
    "import numpy as np\n",
    "import matplotlib.pyplot as plt\n",
    "import seaborn as sns\n",
    "import warnings\n",
    "warnings.filterwarnings(\"ignore\")\n",
    "from sklearn.model_selection import train_test_split\n",
    "from sklearn.linear_model import LinearRegression\n",
    "from sklearn.preprocessing import StandardScaler\n",
    "from sklearn.metrics import mean_squared_error, r2_score, mean_absolute_error"
   ]
  },
  {
   "cell_type": "markdown",
   "metadata": {},
   "source": [
    "## Загрузка и подготовка данных"
   ]
  },
  {
   "cell_type": "code",
   "execution_count": 2,
   "metadata": {},
   "outputs": [],
   "source": [
    "df1 = pd.read_csv('/datasets/geo_data_0.csv')\n",
    "df2 = pd.read_csv('/datasets/geo_data_1.csv')\n",
    "df3 = pd.read_csv('/datasets/geo_data_2.csv')"
   ]
  },
  {
   "cell_type": "markdown",
   "metadata": {},
   "source": [
    "### Исследование данных 1 региона (geo_0)"
   ]
  },
  {
   "cell_type": "code",
   "execution_count": 3,
   "metadata": {},
   "outputs": [
    {
     "data": {
      "text/html": [
       "<div>\n",
       "<style scoped>\n",
       "    .dataframe tbody tr th:only-of-type {\n",
       "        vertical-align: middle;\n",
       "    }\n",
       "\n",
       "    .dataframe tbody tr th {\n",
       "        vertical-align: top;\n",
       "    }\n",
       "\n",
       "    .dataframe thead th {\n",
       "        text-align: right;\n",
       "    }\n",
       "</style>\n",
       "<table border=\"1\" class=\"dataframe\">\n",
       "  <thead>\n",
       "    <tr style=\"text-align: right;\">\n",
       "      <th></th>\n",
       "      <th>id</th>\n",
       "      <th>f0</th>\n",
       "      <th>f1</th>\n",
       "      <th>f2</th>\n",
       "      <th>product</th>\n",
       "    </tr>\n",
       "  </thead>\n",
       "  <tbody>\n",
       "    <tr>\n",
       "      <th>0</th>\n",
       "      <td>txEyH</td>\n",
       "      <td>0.705745</td>\n",
       "      <td>-0.497823</td>\n",
       "      <td>1.221170</td>\n",
       "      <td>105.280062</td>\n",
       "    </tr>\n",
       "    <tr>\n",
       "      <th>1</th>\n",
       "      <td>2acmU</td>\n",
       "      <td>1.334711</td>\n",
       "      <td>-0.340164</td>\n",
       "      <td>4.365080</td>\n",
       "      <td>73.037750</td>\n",
       "    </tr>\n",
       "    <tr>\n",
       "      <th>2</th>\n",
       "      <td>409Wp</td>\n",
       "      <td>1.022732</td>\n",
       "      <td>0.151990</td>\n",
       "      <td>1.419926</td>\n",
       "      <td>85.265647</td>\n",
       "    </tr>\n",
       "    <tr>\n",
       "      <th>3</th>\n",
       "      <td>iJLyR</td>\n",
       "      <td>-0.032172</td>\n",
       "      <td>0.139033</td>\n",
       "      <td>2.978566</td>\n",
       "      <td>168.620776</td>\n",
       "    </tr>\n",
       "    <tr>\n",
       "      <th>4</th>\n",
       "      <td>Xdl7t</td>\n",
       "      <td>1.988431</td>\n",
       "      <td>0.155413</td>\n",
       "      <td>4.751769</td>\n",
       "      <td>154.036647</td>\n",
       "    </tr>\n",
       "  </tbody>\n",
       "</table>\n",
       "</div>"
      ],
      "text/plain": [
       "      id        f0        f1        f2     product\n",
       "0  txEyH  0.705745 -0.497823  1.221170  105.280062\n",
       "1  2acmU  1.334711 -0.340164  4.365080   73.037750\n",
       "2  409Wp  1.022732  0.151990  1.419926   85.265647\n",
       "3  iJLyR -0.032172  0.139033  2.978566  168.620776\n",
       "4  Xdl7t  1.988431  0.155413  4.751769  154.036647"
      ]
     },
     "execution_count": 3,
     "metadata": {},
     "output_type": "execute_result"
    }
   ],
   "source": [
    "df1.head()"
   ]
  },
  {
   "cell_type": "code",
   "execution_count": 4,
   "metadata": {},
   "outputs": [
    {
     "name": "stdout",
     "output_type": "stream",
     "text": [
      "<class 'pandas.core.frame.DataFrame'>\n",
      "RangeIndex: 100000 entries, 0 to 99999\n",
      "Data columns (total 5 columns):\n",
      " #   Column   Non-Null Count   Dtype  \n",
      "---  ------   --------------   -----  \n",
      " 0   id       100000 non-null  object \n",
      " 1   f0       100000 non-null  float64\n",
      " 2   f1       100000 non-null  float64\n",
      " 3   f2       100000 non-null  float64\n",
      " 4   product  100000 non-null  float64\n",
      "dtypes: float64(4), object(1)\n",
      "memory usage: 3.8+ MB\n"
     ]
    }
   ],
   "source": [
    "df1.info()"
   ]
  },
  {
   "cell_type": "markdown",
   "metadata": {},
   "source": [
    "#### распределение независимых переменных"
   ]
  },
  {
   "cell_type": "code",
   "execution_count": 5,
   "metadata": {},
   "outputs": [
    {
     "data": {
      "image/png": "[encoded data removed]",
      "text/plain": [
       "<Figure size 432x288 with 1 Axes>"
      ]
     },
     "metadata": {
      "needs_background": "light"
     },
     "output_type": "display_data"
    }
   ],
   "source": [
    "sns.distplot(df1['f0']);\n",
    "sns.distplot(df1['f1']);"
   ]
  },
  {
   "cell_type": "code",
   "execution_count": 6,
   "metadata": {},
   "outputs": [
    {
     "data": {
      "image/png": "[encoded data removed]",
      "text/plain": [
       "<Figure size 432x288 with 1 Axes>"
      ]
     },
     "metadata": {
      "needs_background": "light"
     },
     "output_type": "display_data"
    }
   ],
   "source": [
    "sns.distplot(df1['f2']);"
   ]
  },
  {
   "cell_type": "markdown",
   "metadata": {},
   "source": [
    "#### распределение зависимой переменной"
   ]
  },
  {
   "cell_type": "code",
   "execution_count": 7,
   "metadata": {},
   "outputs": [
    {
     "data": {
      "image/png": "[encoded data removed]",
      "text/plain": [
       "<Figure size 432x288 with 1 Axes>"
      ]
     },
     "metadata": {
      "needs_background": "light"
     },
     "output_type": "display_data"
    }
   ],
   "source": [
    "sns.distplot(df1['product']);"
   ]
  },
  {
   "cell_type": "code",
   "execution_count": 8,
   "metadata": {},
   "outputs": [
    {
     "data": {
      "text/plain": [
       "(100000, 5)"
      ]
     },
     "execution_count": 8,
     "metadata": {},
     "output_type": "execute_result"
    }
   ],
   "source": [
    "df1.shape"
   ]
  },
  {
   "cell_type": "code",
   "execution_count": 9,
   "metadata": {},
   "outputs": [
    {
     "data": {
      "text/plain": [
       "fiKDv    2\n",
       "74z30    2\n",
       "TtcGQ    2\n",
       "A5aEY    2\n",
       "bxg6G    2\n",
       "Name: id, dtype: int64"
      ]
     },
     "execution_count": 9,
     "metadata": {},
     "output_type": "execute_result"
    }
   ],
   "source": [
    "df1['id'].value_counts().head()"
   ]
  },
  {
   "cell_type": "code",
   "execution_count": 10,
   "metadata": {},
   "outputs": [
    {
     "data": {
      "image/png": "[encoded data removed]",
      "text/plain": [
       "<Figure size 720x576 with 2 Axes>"
      ]
     },
     "metadata": {
      "needs_background": "light"
     },
     "output_type": "display_data"
    }
   ],
   "source": [
    "#посмотрим на связь целевой переменной и признаков\n",
    "plt.figure(figsize=(10,8))\n",
    "sns.heatmap(df1.corr(),\n",
    "            cmap='Blues', #палитра\n",
    "            annot=True);"
   ]
  },
  {
   "cell_type": "markdown",
   "metadata": {},
   "source": [
    "#### Проверка на наличие дубликатов"
   ]
  },
  {
   "cell_type": "code",
   "execution_count": 11,
   "metadata": {},
   "outputs": [
    {
     "data": {
      "text/plain": [
       "0"
      ]
     },
     "execution_count": 11,
     "metadata": {},
     "output_type": "execute_result"
    }
   ],
   "source": [
    "df1.duplicated().sum()"
   ]
  },
  {
   "cell_type": "markdown",
   "metadata": {},
   "source": [
    "Вывод по региону 1:\n",
    "- пропусков и явных дубликатов в данных не обнаружено\n",
    "- распеределения f0, f1 и product в первом регионе явно отклоняются от норммального\n",
    "- между независимыми переменными f0 и f1 есть не сильная отрицательная линейная свяязь (R-Пирсона = 0.44), что может стать причиной мультиколлинеарности\n",
    "- наибольшую связь с зависимой переменной имеет f2: не сильная положительная линейная связь (R-Пирсона = 0.48)"
   ]
  },
  {
   "cell_type": "markdown",
   "metadata": {},
   "source": [
    "### Исследование данных 2 региона (geo_1)"
   ]
  },
  {
   "cell_type": "code",
   "execution_count": 12,
   "metadata": {},
   "outputs": [
    {
     "data": {
      "text/html": [
       "<div>\n",
       "<style scoped>\n",
       "    .dataframe tbody tr th:only-of-type {\n",
       "        vertical-align: middle;\n",
       "    }\n",
       "\n",
       "    .dataframe tbody tr th {\n",
       "        vertical-align: top;\n",
       "    }\n",
       "\n",
       "    .dataframe thead th {\n",
       "        text-align: right;\n",
       "    }\n",
       "</style>\n",
       "<table border=\"1\" class=\"dataframe\">\n",
       "  <thead>\n",
       "    <tr style=\"text-align: right;\">\n",
       "      <th></th>\n",
       "      <th>id</th>\n",
       "      <th>f0</th>\n",
       "      <th>f1</th>\n",
       "      <th>f2</th>\n",
       "      <th>product</th>\n",
       "    </tr>\n",
       "  </thead>\n",
       "  <tbody>\n",
       "    <tr>\n",
       "      <th>0</th>\n",
       "      <td>kBEdx</td>\n",
       "      <td>-15.001348</td>\n",
       "      <td>-8.276000</td>\n",
       "      <td>-0.005876</td>\n",
       "      <td>3.179103</td>\n",
       "    </tr>\n",
       "    <tr>\n",
       "      <th>1</th>\n",
       "      <td>62mP7</td>\n",
       "      <td>14.272088</td>\n",
       "      <td>-3.475083</td>\n",
       "      <td>0.999183</td>\n",
       "      <td>26.953261</td>\n",
       "    </tr>\n",
       "    <tr>\n",
       "      <th>2</th>\n",
       "      <td>vyE1P</td>\n",
       "      <td>6.263187</td>\n",
       "      <td>-5.948386</td>\n",
       "      <td>5.001160</td>\n",
       "      <td>134.766305</td>\n",
       "    </tr>\n",
       "    <tr>\n",
       "      <th>3</th>\n",
       "      <td>KcrkZ</td>\n",
       "      <td>-13.081196</td>\n",
       "      <td>-11.506057</td>\n",
       "      <td>4.999415</td>\n",
       "      <td>137.945408</td>\n",
       "    </tr>\n",
       "    <tr>\n",
       "      <th>4</th>\n",
       "      <td>AHL4O</td>\n",
       "      <td>12.702195</td>\n",
       "      <td>-8.147433</td>\n",
       "      <td>5.004363</td>\n",
       "      <td>134.766305</td>\n",
       "    </tr>\n",
       "  </tbody>\n",
       "</table>\n",
       "</div>"
      ],
      "text/plain": [
       "      id         f0         f1        f2     product\n",
       "0  kBEdx -15.001348  -8.276000 -0.005876    3.179103\n",
       "1  62mP7  14.272088  -3.475083  0.999183   26.953261\n",
       "2  vyE1P   6.263187  -5.948386  5.001160  134.766305\n",
       "3  KcrkZ -13.081196 -11.506057  4.999415  137.945408\n",
       "4  AHL4O  12.702195  -8.147433  5.004363  134.766305"
      ]
     },
     "execution_count": 12,
     "metadata": {},
     "output_type": "execute_result"
    }
   ],
   "source": [
    "df2.head()"
   ]
  },
  {
   "cell_type": "code",
   "execution_count": 13,
   "metadata": {},
   "outputs": [
    {
     "name": "stdout",
     "output_type": "stream",
     "text": [
      "<class 'pandas.core.frame.DataFrame'>\n",
      "RangeIndex: 100000 entries, 0 to 99999\n",
      "Data columns (total 5 columns):\n",
      " #   Column   Non-Null Count   Dtype  \n",
      "---  ------   --------------   -----  \n",
      " 0   id       100000 non-null  object \n",
      " 1   f0       100000 non-null  float64\n",
      " 2   f1       100000 non-null  float64\n",
      " 3   f2       100000 non-null  float64\n",
      " 4   product  100000 non-null  float64\n",
      "dtypes: float64(4), object(1)\n",
      "memory usage: 3.8+ MB\n"
     ]
    }
   ],
   "source": [
    "df2.info()"
   ]
  },
  {
   "cell_type": "code",
   "execution_count": 14,
   "metadata": {},
   "outputs": [
    {
     "data": {
      "image/png": "[encoded data removed]",
      "text/plain": [
       "<Figure size 432x288 with 1 Axes>"
      ]
     },
     "metadata": {
      "needs_background": "light"
     },
     "output_type": "display_data"
    }
   ],
   "source": [
    "sns.distplot(df2['f0']);"
   ]
  },
  {
   "cell_type": "code",
   "execution_count": 15,
   "metadata": {},
   "outputs": [
    {
     "data": {
      "image/png": "[encoded data removed]",
      "text/plain": [
       "<Figure size 432x288 with 1 Axes>"
      ]
     },
     "metadata": {
      "needs_background": "light"
     },
     "output_type": "display_data"
    }
   ],
   "source": [
    "sns.distplot(df2['f1']);"
   ]
  },
  {
   "cell_type": "code",
   "execution_count": 16,
   "metadata": {},
   "outputs": [
    {
     "data": {
      "image/png": "[encoded data removed]",
      "text/plain": [
       "<Figure size 432x288 with 1 Axes>"
      ]
     },
     "metadata": {
      "needs_background": "light"
     },
     "output_type": "display_data"
    }
   ],
   "source": [
    "plt.hist(df2['f2'], color = 'lightblue');"
   ]
  },
  {
   "cell_type": "markdown",
   "metadata": {},
   "source": [
    "#### Распределение зависимой переменной"
   ]
  },
  {
   "cell_type": "code",
   "execution_count": 17,
   "metadata": {},
   "outputs": [
    {
     "data": {
      "image/png": "[encoded data removed]",
      "text/plain": [
       "<Figure size 432x288 with 1 Axes>"
      ]
     },
     "metadata": {
      "needs_background": "light"
     },
     "output_type": "display_data"
    }
   ],
   "source": [
    "sns.distplot(df2['product']);"
   ]
  },
  {
   "cell_type": "code",
   "execution_count": 18,
   "metadata": {},
   "outputs": [
    {
     "data": {
      "text/plain": [
       "LHZR0    2\n",
       "5ltQ6    2\n",
       "bfPNe    2\n",
       "wt4Uk    2\n",
       "eWXVZ    1\n",
       "Name: id, dtype: int64"
      ]
     },
     "execution_count": 18,
     "metadata": {},
     "output_type": "execute_result"
    }
   ],
   "source": [
    "df2['id'].value_counts().head()"
   ]
  },
  {
   "cell_type": "code",
   "execution_count": 19,
   "metadata": {},
   "outputs": [
    {
     "data": {
      "text/plain": [
       "(100000, 5)"
      ]
     },
     "execution_count": 19,
     "metadata": {},
     "output_type": "execute_result"
    }
   ],
   "source": [
    "df2.shape"
   ]
  },
  {
   "cell_type": "code",
   "execution_count": 20,
   "metadata": {},
   "outputs": [
    {
     "data": {
      "image/png": "[encoded data removed]",
      "text/plain": [
       "<Figure size 720x576 with 2 Axes>"
      ]
     },
     "metadata": {
      "needs_background": "light"
     },
     "output_type": "display_data"
    }
   ],
   "source": [
    "#посмотрим на связь целевой переменной и признаков\n",
    "plt.figure(figsize=(10,8))\n",
    "sns.heatmap(df2.corr(),\n",
    "            cmap='Blues', #палитра\n",
    "            annot=True);"
   ]
  },
  {
   "cell_type": "markdown",
   "metadata": {},
   "source": [
    "#### Проверка на наличие дубликатов"
   ]
  },
  {
   "cell_type": "code",
   "execution_count": 21,
   "metadata": {},
   "outputs": [
    {
     "data": {
      "text/plain": [
       "0"
      ]
     },
     "execution_count": 21,
     "metadata": {},
     "output_type": "execute_result"
    }
   ],
   "source": [
    "df2.duplicated().sum()"
   ]
  },
  {
   "cell_type": "markdown",
   "metadata": {},
   "source": [
    "Вывод по региону 2:\n",
    "- пропусков и явных дубликатов в данных не обнаружено\n",
    "- распеределения f0, f2 и product в явно отклоняются от норммального\n",
    "- между независимыми переменными f0 и f1 есть не сильная положительная линейная свяязь (R-Пирсона = 0.18), что может стать причиной мультиколлинеарности\n",
    "- наибольшую связь с зависимой переменной имеет f2: есть сильная положительная линейная связь (R-Пирсона = 1), две другие независимые переменные практически не связаны с зависимой (связь около 0)"
   ]
  },
  {
   "cell_type": "markdown",
   "metadata": {},
   "source": [
    "### Исследование данных 3 региона (geo_2)"
   ]
  },
  {
   "cell_type": "code",
   "execution_count": 22,
   "metadata": {},
   "outputs": [
    {
     "data": {
      "text/html": [
       "<div>\n",
       "<style scoped>\n",
       "    .dataframe tbody tr th:only-of-type {\n",
       "        vertical-align: middle;\n",
       "    }\n",
       "\n",
       "    .dataframe tbody tr th {\n",
       "        vertical-align: top;\n",
       "    }\n",
       "\n",
       "    .dataframe thead th {\n",
       "        text-align: right;\n",
       "    }\n",
       "</style>\n",
       "<table border=\"1\" class=\"dataframe\">\n",
       "  <thead>\n",
       "    <tr style=\"text-align: right;\">\n",
       "      <th></th>\n",
       "      <th>id</th>\n",
       "      <th>f0</th>\n",
       "      <th>f1</th>\n",
       "      <th>f2</th>\n",
       "      <th>product</th>\n",
       "    </tr>\n",
       "  </thead>\n",
       "  <tbody>\n",
       "    <tr>\n",
       "      <th>0</th>\n",
       "      <td>fwXo0</td>\n",
       "      <td>-1.146987</td>\n",
       "      <td>0.963328</td>\n",
       "      <td>-0.828965</td>\n",
       "      <td>27.758673</td>\n",
       "    </tr>\n",
       "    <tr>\n",
       "      <th>1</th>\n",
       "      <td>WJtFt</td>\n",
       "      <td>0.262778</td>\n",
       "      <td>0.269839</td>\n",
       "      <td>-2.530187</td>\n",
       "      <td>56.069697</td>\n",
       "    </tr>\n",
       "    <tr>\n",
       "      <th>2</th>\n",
       "      <td>ovLUW</td>\n",
       "      <td>0.194587</td>\n",
       "      <td>0.289035</td>\n",
       "      <td>-5.586433</td>\n",
       "      <td>62.871910</td>\n",
       "    </tr>\n",
       "    <tr>\n",
       "      <th>3</th>\n",
       "      <td>q6cA6</td>\n",
       "      <td>2.236060</td>\n",
       "      <td>-0.553760</td>\n",
       "      <td>0.930038</td>\n",
       "      <td>114.572842</td>\n",
       "    </tr>\n",
       "    <tr>\n",
       "      <th>4</th>\n",
       "      <td>WPMUX</td>\n",
       "      <td>-0.515993</td>\n",
       "      <td>1.716266</td>\n",
       "      <td>5.899011</td>\n",
       "      <td>149.600746</td>\n",
       "    </tr>\n",
       "  </tbody>\n",
       "</table>\n",
       "</div>"
      ],
      "text/plain": [
       "      id        f0        f1        f2     product\n",
       "0  fwXo0 -1.146987  0.963328 -0.828965   27.758673\n",
       "1  WJtFt  0.262778  0.269839 -2.530187   56.069697\n",
       "2  ovLUW  0.194587  0.289035 -5.586433   62.871910\n",
       "3  q6cA6  2.236060 -0.553760  0.930038  114.572842\n",
       "4  WPMUX -0.515993  1.716266  5.899011  149.600746"
      ]
     },
     "execution_count": 22,
     "metadata": {},
     "output_type": "execute_result"
    }
   ],
   "source": [
    "df3.head()"
   ]
  },
  {
   "cell_type": "code",
   "execution_count": 23,
   "metadata": {},
   "outputs": [
    {
     "name": "stdout",
     "output_type": "stream",
     "text": [
      "<class 'pandas.core.frame.DataFrame'>\n",
      "RangeIndex: 100000 entries, 0 to 99999\n",
      "Data columns (total 5 columns):\n",
      " #   Column   Non-Null Count   Dtype  \n",
      "---  ------   --------------   -----  \n",
      " 0   id       100000 non-null  object \n",
      " 1   f0       100000 non-null  float64\n",
      " 2   f1       100000 non-null  float64\n",
      " 3   f2       100000 non-null  float64\n",
      " 4   product  100000 non-null  float64\n",
      "dtypes: float64(4), object(1)\n",
      "memory usage: 3.8+ MB\n"
     ]
    }
   ],
   "source": [
    "df3.info()"
   ]
  },
  {
   "cell_type": "code",
   "execution_count": 24,
   "metadata": {},
   "outputs": [
    {
     "data": {
      "text/plain": [
       "(100000, 5)"
      ]
     },
     "execution_count": 24,
     "metadata": {},
     "output_type": "execute_result"
    }
   ],
   "source": [
    "df3.shape"
   ]
  },
  {
   "cell_type": "markdown",
   "metadata": {},
   "source": [
    "#### Распределение независимых переменных"
   ]
  },
  {
   "cell_type": "code",
   "execution_count": 25,
   "metadata": {},
   "outputs": [
    {
     "data": {
      "image/png": "[encoded data removed]",
      "text/plain": [
       "<Figure size 432x288 with 1 Axes>"
      ]
     },
     "metadata": {
      "needs_background": "light"
     },
     "output_type": "display_data"
    }
   ],
   "source": [
    "sns.distplot(df3['f0']);\n",
    "sns.distplot(df3['f1'], hist_kws=dict(alpha=0.2), color = 'pink');\n",
    "sns.distplot(df3['f2'], hist_kws=dict(alpha=0.2), color = 'red');"
   ]
  },
  {
   "cell_type": "markdown",
   "metadata": {},
   "source": [
    "#### Распрпеделение зависимой переменной"
   ]
  },
  {
   "cell_type": "code",
   "execution_count": 26,
   "metadata": {},
   "outputs": [
    {
     "data": {
      "image/png": "[encoded data removed]",
      "text/plain": [
       "<Figure size 432x288 with 1 Axes>"
      ]
     },
     "metadata": {
      "needs_background": "light"
     },
     "output_type": "display_data"
    }
   ],
   "source": [
    "sns.distplot(df3['product']);"
   ]
  },
  {
   "cell_type": "code",
   "execution_count": 27,
   "metadata": {},
   "outputs": [
    {
     "data": {
      "image/png": "[encoded data removed]",
      "text/plain": [
       "<Figure size 720x576 with 2 Axes>"
      ]
     },
     "metadata": {
      "needs_background": "light"
     },
     "output_type": "display_data"
    }
   ],
   "source": [
    "#посмотрим на связь целевой переменной и признаков\n",
    "plt.figure(figsize=(10,8))\n",
    "sns.heatmap(df3.corr(),\n",
    "            cmap='Blues', #палитра\n",
    "            annot=True);"
   ]
  },
  {
   "cell_type": "markdown",
   "metadata": {},
   "source": [
    "#### Проверка на наличие дубликатов"
   ]
  },
  {
   "cell_type": "code",
   "execution_count": 28,
   "metadata": {},
   "outputs": [
    {
     "data": {
      "text/plain": [
       "0"
      ]
     },
     "execution_count": 28,
     "metadata": {},
     "output_type": "execute_result"
    }
   ],
   "source": [
    "df3.duplicated().sum()"
   ]
  },
  {
   "cell_type": "code",
   "execution_count": 29,
   "metadata": {},
   "outputs": [
    {
     "data": {
      "text/plain": [
       "xCHr8    2\n",
       "Vcm5J    2\n",
       "KUPhW    2\n",
       "VF7Jo    2\n",
       "5UzYu    1\n",
       "Name: id, dtype: int64"
      ]
     },
     "execution_count": 29,
     "metadata": {},
     "output_type": "execute_result"
    }
   ],
   "source": [
    "df3['id'].value_counts().head()"
   ]
  },
  {
   "cell_type": "code",
   "execution_count": 30,
   "metadata": {},
   "outputs": [
    {
     "data": {
      "text/html": [
       "<div>\n",
       "<style scoped>\n",
       "    .dataframe tbody tr th:only-of-type {\n",
       "        vertical-align: middle;\n",
       "    }\n",
       "\n",
       "    .dataframe tbody tr th {\n",
       "        vertical-align: top;\n",
       "    }\n",
       "\n",
       "    .dataframe thead th {\n",
       "        text-align: right;\n",
       "    }\n",
       "</style>\n",
       "<table border=\"1\" class=\"dataframe\">\n",
       "  <thead>\n",
       "    <tr style=\"text-align: right;\">\n",
       "      <th></th>\n",
       "      <th>id</th>\n",
       "      <th>f0</th>\n",
       "      <th>f1</th>\n",
       "      <th>f2</th>\n",
       "      <th>product</th>\n",
       "    </tr>\n",
       "  </thead>\n",
       "  <tbody>\n",
       "    <tr>\n",
       "      <th>45404</th>\n",
       "      <td>KUPhW</td>\n",
       "      <td>0.231846</td>\n",
       "      <td>-1.698941</td>\n",
       "      <td>4.990775</td>\n",
       "      <td>11.716299</td>\n",
       "    </tr>\n",
       "    <tr>\n",
       "      <th>55967</th>\n",
       "      <td>KUPhW</td>\n",
       "      <td>1.211150</td>\n",
       "      <td>3.176408</td>\n",
       "      <td>5.543540</td>\n",
       "      <td>132.831802</td>\n",
       "    </tr>\n",
       "  </tbody>\n",
       "</table>\n",
       "</div>"
      ],
      "text/plain": [
       "          id        f0        f1        f2     product\n",
       "45404  KUPhW  0.231846 -1.698941  4.990775   11.716299\n",
       "55967  KUPhW  1.211150  3.176408  5.543540  132.831802"
      ]
     },
     "execution_count": 30,
     "metadata": {},
     "output_type": "execute_result"
    }
   ],
   "source": [
    "df3[df3['id']=='KUPhW']"
   ]
  },
  {
   "cell_type": "markdown",
   "metadata": {},
   "source": [
    "Видим, что если ID скважины повторяется, то это не дубликаты. Одна скаважина может иметь две точки."
   ]
  },
  {
   "cell_type": "markdown",
   "metadata": {},
   "source": [
    "Вывод по региону 3:\n",
    "- пропусков и явных дубликатов в данных не обнаружено\n",
    "- наибольшую связь с зависимой переменной имеет f2: есть слабая положительная линейная связь (R-Пирсона = 0.45), две другие независимые переменные практически не связаны с зависимой (связь около 0)"
   ]
  },
  {
   "cell_type": "markdown",
   "metadata": {},
   "source": [
    "## Обучение и проверка модели"
   ]
  },
  {
   "cell_type": "markdown",
   "metadata": {},
   "source": [
    "### Подготовка признаков"
   ]
  },
  {
   "cell_type": "markdown",
   "metadata": {},
   "source": [
    "ID - переменная, которая не понадобится нам в дальнейшем моделировании, можем исключить ее из датасета"
   ]
  },
  {
   "cell_type": "code",
   "execution_count": 31,
   "metadata": {},
   "outputs": [],
   "source": [
    "df3 = df3.drop('id', axis = 1)"
   ]
  },
  {
   "cell_type": "code",
   "execution_count": 32,
   "metadata": {},
   "outputs": [],
   "source": [
    "df2 = df2.drop('id', axis = 1)"
   ]
  },
  {
   "cell_type": "code",
   "execution_count": 33,
   "metadata": {},
   "outputs": [],
   "source": [
    "df1 = df1.drop('id', axis = 1)"
   ]
  },
  {
   "cell_type": "code",
   "execution_count": 34,
   "metadata": {},
   "outputs": [],
   "source": [
    "features_1 = df1.drop('product', axis = 1)\n",
    "target_1 = df1['product']\n",
    "\n",
    "features_2 = df2.drop('product', axis = 1)\n",
    "target_2 = df2['product']\n",
    "\n",
    "features_3 = df3.drop('product', axis = 1)\n",
    "target_3 = df3['product']"
   ]
  },
  {
   "cell_type": "markdown",
   "metadata": {},
   "source": [
    "### Разбиение на обучающую и тестовую выборки"
   ]
  },
  {
   "cell_type": "code",
   "execution_count": 35,
   "metadata": {},
   "outputs": [
    {
     "name": "stdout",
     "output_type": "stream",
     "text": [
      "(75000, 3)\n"
     ]
    },
    {
     "data": {
      "text/plain": [
       "(25000, 3)"
      ]
     },
     "execution_count": 35,
     "metadata": {},
     "output_type": "execute_result"
    }
   ],
   "source": [
    "features1_train, features1_test, target1_train, target1_test = train_test_split(features_1, \n",
    "                                                                                target_1, \n",
    "                                                                                test_size=0.25, \n",
    "                                                                                random_state=12345)\n",
    "print(features1_train.shape)\n",
    "features1_test.shape"
   ]
  },
  {
   "cell_type": "code",
   "execution_count": 36,
   "metadata": {},
   "outputs": [
    {
     "name": "stdout",
     "output_type": "stream",
     "text": [
      "(75000, 3)\n"
     ]
    },
    {
     "data": {
      "text/plain": [
       "(25000, 3)"
      ]
     },
     "execution_count": 36,
     "metadata": {},
     "output_type": "execute_result"
    }
   ],
   "source": [
    "features2_train, features2_test, target2_train, target2_test = train_test_split(features_2, \n",
    "                                                                                target_2, \n",
    "                                                                                test_size=0.25, \n",
    "                                                                                random_state=12345)\n",
    "print(features2_train.shape)\n",
    "features2_test.shape"
   ]
  },
  {
   "cell_type": "code",
   "execution_count": 37,
   "metadata": {},
   "outputs": [
    {
     "name": "stdout",
     "output_type": "stream",
     "text": [
      "(75000, 3)\n"
     ]
    },
    {
     "data": {
      "text/plain": [
       "(25000, 3)"
      ]
     },
     "execution_count": 37,
     "metadata": {},
     "output_type": "execute_result"
    }
   ],
   "source": [
    "features3_train, features3_test, target3_train, target3_test = train_test_split(features_3, \n",
    "                                                                                target_3, \n",
    "                                                                                test_size=0.25, \n",
    "                                                                                random_state=12345)\n",
    "print(features3_train.shape)\n",
    "features3_test.shape"
   ]
  },
  {
   "cell_type": "markdown",
   "metadata": {},
   "source": [
    "### Подготовка независимых переменных к моделированию (масштабирование)"
   ]
  },
  {
   "cell_type": "code",
   "execution_count": 38,
   "metadata": {},
   "outputs": [],
   "source": [
    "#масштабриуем Х для 1 региона\n",
    "scaler = StandardScaler() #импортируем scaler для стандартизации данных\n",
    "scaler.fit(features1_train)\n",
    "features1_train = scaler.transform(features1_train) \n",
    "features1_test = scaler.transform(features1_test)"
   ]
  },
  {
   "cell_type": "code",
   "execution_count": 39,
   "metadata": {},
   "outputs": [],
   "source": [
    "#масштабриуем Х для 2 региона\n",
    "scaler = StandardScaler() #импортируем scaler для стандартизации данных\n",
    "scaler.fit(features2_train)\n",
    "features2_train = scaler.transform(features2_train) \n",
    "features2_test = scaler.transform(features2_test)"
   ]
  },
  {
   "cell_type": "code",
   "execution_count": 40,
   "metadata": {},
   "outputs": [],
   "source": [
    "#масштабриуем Х для 3 региона\n",
    "scaler = StandardScaler() #импортируем scaler для стандартизации данных\n",
    "scaler.fit(features3_train)\n",
    "features3_train = scaler.transform(features3_train) \n",
    "features3_test = scaler.transform(features3_test)"
   ]
  },
  {
   "cell_type": "markdown",
   "metadata": {},
   "source": [
    "### Построение моделей"
   ]
  },
  {
   "cell_type": "code",
   "execution_count": 41,
   "metadata": {},
   "outputs": [
    {
     "name": "stdout",
     "output_type": "stream",
     "text": [
      "RMSE: 37.5794217150813\n",
      "R2:  0.27994321524487786\n",
      "MAE:  30.919600777151313\n",
      "Реальный средний объем запасов в скважине: 92.07859674082927\n",
      "Предсказанный средний объем запасов в скважине: 92.59256778438035\n"
     ]
    }
   ],
   "source": [
    "#прогноз для региона 1\n",
    "model_1 = LinearRegression()\n",
    "model_1.fit(features1_train, target1_train)\n",
    "pred_1 = model_1.predict(features1_test)\n",
    "mse_1 = mean_squared_error(target1_test, pred_1)\n",
    "rmse_1 = mse_1 ** 0.5 #более чувствительно к большим ошибкам\n",
    "print('RMSE:', rmse_1)\n",
    "print('R2: ', r2_score(target1_test, pred_1))\n",
    "print('MAE: ', mean_absolute_error(target1_test, pred_1))\n",
    "print('Реальный средний объем запасов в скважине:', target1_test.mean())\n",
    "print('Предсказанный средний объем запасов в скважине:', pred_1.mean())"
   ]
  },
  {
   "cell_type": "code",
   "execution_count": 42,
   "metadata": {},
   "outputs": [
    {
     "name": "stdout",
     "output_type": "stream",
     "text": [
      "RMSE: 0.893099286775617\n",
      "R2:  0.9996233978805127\n",
      "MAE:  0.7187662442124758\n",
      "Реальный средний объем запасов в скважине: 68.72313602435997\n",
      "Предсказанный средний объем запасов в скважине: 68.728546895446\n"
     ]
    }
   ],
   "source": [
    "#прогноз для региона 2\n",
    "model_2 = LinearRegression()\n",
    "model_2.fit(features2_train, target2_train)\n",
    "pred_2 = model_2.predict(features2_test)\n",
    "mse_2 = mean_squared_error(target2_test, pred_2)\n",
    "rmse_2 = mse_2 ** 0.5 #более чувствительно к большим ошибкам\n",
    "print('RMSE:', rmse_2)\n",
    "print('R2: ', r2_score(target2_test, pred_2))\n",
    "print('MAE: ', mean_absolute_error(target2_test, pred_2))\n",
    "print('Реальный средний объем запасов в скважине:', target2_test.mean())\n",
    "print('Предсказанный средний объем запасов в скважине:', pred_2.mean())"
   ]
  },
  {
   "cell_type": "code",
   "execution_count": 43,
   "metadata": {},
   "outputs": [
    {
     "name": "stdout",
     "output_type": "stream",
     "text": [
      "RMSE: 40.02970873393434\n",
      "R2:  0.20524758386040443\n",
      "MAE:  32.792652105481814\n",
      "Реальный средний объем запасов в скважине: 94.88423280885438\n",
      "Предсказанный средний объем запасов в скважине: 94.96504596800489\n"
     ]
    }
   ],
   "source": [
    "#прогноз для региона 3\n",
    "model_3 = LinearRegression()\n",
    "model_3.fit(features3_train, target3_train)\n",
    "pred_3 = model_3.predict(features3_test)\n",
    "mse_3 = mean_squared_error(target3_test, pred_3)\n",
    "rmse_3 = mse_3 ** 0.5 #более чувствительно к большим ошибкам\n",
    "print('RMSE:', rmse_3)\n",
    "print('R2: ', r2_score(target3_test, pred_3))\n",
    "print('MAE: ', mean_absolute_error(target3_test, pred_3))\n",
    "print('Реальный средний объем запасов в скважине:', target3_test.mean())\n",
    "print('Предсказанный средний объем запасов в скважине:', pred_3.mean())"
   ]
  },
  {
   "cell_type": "markdown",
   "metadata": {},
   "source": [
    "Я предположила, что можно повысить R2, убрав плохо коррелирующие с зависимой переменной независимые переменнные. Я отобрала переменную f2, у которой с production r-Пиросона = 0.45. "
   ]
  },
  {
   "cell_type": "code",
   "execution_count": 44,
   "metadata": {},
   "outputs": [],
   "source": [
    "features_add_train= features3_train[:,2]\n",
    "features_add_test = features3_test[:,2]\n",
    "features_add_train= features_add_train.reshape(-1, 1)\n",
    "features_add_test = features_add_test.reshape(-1, 1)"
   ]
  },
  {
   "cell_type": "code",
   "execution_count": 45,
   "metadata": {},
   "outputs": [
    {
     "name": "stdout",
     "output_type": "stream",
     "text": [
      "RMSE: 40.02970873393434\n",
      "R2:  0.2052753633827945\n",
      "MAE:  32.7922421367123\n",
      "Реальный средний объем запасов в скважине: 94.88423280885438\n",
      "Предсказанный средний объем запасов в скважине: 94.96585247522388\n"
     ]
    }
   ],
   "source": [
    "model_add = LinearRegression()\n",
    "model_add.fit(features_add_train, target3_train)\n",
    "pred_add = model_add.predict(features_add_test)\n",
    "mse_add = mean_squared_error(target3_test, pred_add)\n",
    "rmse_add = mse_add ** 0.5 #более чувствительно к большим ошибкам\n",
    "print('RMSE:', rmse_3)\n",
    "print('R2: ', r2_score(target3_test, pred_add))\n",
    "print('MAE: ', mean_absolute_error(target3_test, pred_add))\n",
    "print('Реальный средний объем запасов в скважине:', target3_test.mean())\n",
    "print('Предсказанный средний объем запасов в скважине:', pred_add.mean())"
   ]
  },
  {
   "cell_type": "markdown",
   "metadata": {},
   "source": [
    "Оставив одну переменную Х (f2) качество модели улучшилось на 0,00003. Мы видим, что при имеющихся данных значительно увеличить R2 не получится, к тому же, мы не знаем, что значат f0, f1, f2. "
   ]
  },
  {
   "cell_type": "markdown",
   "metadata": {},
   "source": [
    "Лучшая модель - модель, построенная для региона geo1 (model_2). R2 = 0.99. Он достигается за счет практически 100% корреляции между f2 и зависимой переменной. RMSE и MAE модели также наименьшие из всех трех моделей. "
   ]
  },
  {
   "cell_type": "markdown",
   "metadata": {},
   "source": [
    "## Подготовка к расчёту прибыли"
   ]
  },
  {
   "cell_type": "markdown",
   "metadata": {},
   "source": [
    "### Все ключевые значения для расчётов сохраните в отдельных переменных."
   ]
  },
  {
   "cell_type": "markdown",
   "metadata": {},
   "source": [
    "Предсказанные объемы добычи сохранены в переменных pred_1 (для geo_0), pred_2 (для geo_1) и pred_3 (для geo_2)"
   ]
  },
  {
   "cell_type": "code",
   "execution_count": 46,
   "metadata": {},
   "outputs": [],
   "source": [
    "pred_1 = pd.Series(pred_1)\n",
    "pred_2 = pd.Series(pred_2)\n",
    "pred_3 = pd.Series(pred_3)"
   ]
  },
  {
   "cell_type": "markdown",
   "metadata": {},
   "source": [
    "### Рассчитайте достаточный объём сырья для безубыточной разработки новой скважины. Сравните полученный объём сырья со средним запасом в каждом регионе. \n"
   ]
  },
  {
   "cell_type": "code",
   "execution_count": 47,
   "metadata": {},
   "outputs": [],
   "source": [
    "BUDGET = 10000000000\n",
    "ONE_BAR_PROFIT = 450000 #Доход с каждой единицы продукта составляет 450 тыс. рублей, поскольку объём указан в тысячах баррелей.\n",
    "NUM_ITEMS = 200"
   ]
  },
  {
   "cell_type": "code",
   "execution_count": 48,
   "metadata": {},
   "outputs": [
    {
     "data": {
      "text/plain": [
       "22222.222222222223"
      ]
     },
     "execution_count": 48,
     "metadata": {},
     "output_type": "execute_result"
    }
   ],
   "source": [
    "min_prod_200 = BUDGET/ONE_BAR_PROFIT\n",
    "min_prod_200"
   ]
  },
  {
   "cell_type": "markdown",
   "metadata": {},
   "source": [
    "Получается, что нам необходимо отобрать регионы, где 200 наиболее продуктивных скважин производят не менее min_prod (22222.222222222223 объема)"
   ]
  },
  {
   "cell_type": "code",
   "execution_count": 49,
   "metadata": {},
   "outputs": [
    {
     "data": {
      "text/plain": [
       "111.11111111111111"
      ]
     },
     "execution_count": 49,
     "metadata": {},
     "output_type": "execute_result"
    }
   ],
   "source": [
    "one_item_prod_mean = BUDGET/NUM_ITEMS/ONE_BAR_PROFIT\n",
    "one_item_prod_mean"
   ]
  },
  {
   "cell_type": "markdown",
   "metadata": {},
   "source": [
    "Средний же объем производства одной скважины в регионе должен быть более 111.11111111111111"
   ]
  },
  {
   "cell_type": "code",
   "execution_count": 50,
   "metadata": {},
   "outputs": [
    {
     "name": "stdout",
     "output_type": "stream",
     "text": [
      "Средний объём запасов в скважине в первом регионе: 92.50000000000001\n",
      "Средний объём запасов в скважине во втором регионе: 68.82500000000002\n",
      "Средний объём запасов в скважине в третьем регионе: 95.00000000000004\n"
     ]
    }
   ],
   "source": [
    "print('Средний объём запасов в скважине в первом регионе:', df1['product'].mean())\n",
    "print('Средний объём запасов в скважине во втором регионе:', df2['product'].mean())\n",
    "print('Средний объём запасов в скважине в третьем регионе:', df3['product'].mean())"
   ]
  },
  {
   "cell_type": "markdown",
   "metadata": {},
   "source": [
    "**Вывод:** Ни в одном из регионов средний объем запасов в скважине не достигает минимального порога в 111 тыс.баррелей. Наиболее же близкие к этому порогу значения наблюдаются в первом и третьем регионах - в регионах, в которых наша модель имеет наиболее низкую предсказательную силу (R2 = 0.27 и 0.20 соответственно) "
   ]
  },
  {
   "cell_type": "markdown",
   "metadata": {},
   "source": [
    "## Расчёт прибыли и рисков "
   ]
  },
  {
   "cell_type": "code",
   "execution_count": 51,
   "metadata": {},
   "outputs": [],
   "source": [
    "#Функция для подсчета прибыли\n",
    "def revenue(predicted_target, real_target, num_of_items_to_select):#на вход поступают предсказанные значения объема сырья для всех скважин региона\n",
    "    probs_sorted = predicted_target.sort_values(ascending = False)\n",
    "    selected_items = real_target[probs_sorted.index][:num_of_items_to_select]\n",
    "    volume = selected_items.sum()\n",
    "    profit = volume*ONE_BAR_PROFIT - BUDGET     \n",
    "    return profit"
   ]
  },
  {
   "cell_type": "code",
   "execution_count": 52,
   "metadata": {},
   "outputs": [
    {
     "data": {
      "text/plain": [
       "0         10.038645\n",
       "1        114.551489\n",
       "2        132.603635\n",
       "3        169.072125\n",
       "4        122.325180\n",
       "            ...    \n",
       "24995    170.116726\n",
       "24996     93.632175\n",
       "24997    127.352259\n",
       "24998     99.782700\n",
       "24999    177.821022\n",
       "Name: product, Length: 25000, dtype: float64"
      ]
     },
     "execution_count": 52,
     "metadata": {},
     "output_type": "execute_result"
    }
   ],
   "source": [
    "#меняем индексы в целевой переменной, чтобы посчитать прибыль \n",
    "target1_test = target1_test.reset_index(drop=True)\n",
    "target2_test = target2_test.reset_index(drop=True)\n",
    "target3_test = target3_test.reset_index(drop=True)\n",
    "target1_test"
   ]
  },
  {
   "cell_type": "markdown",
   "metadata": {},
   "source": [
    "### Прибыль и риски разработки модели в первом регионе (geo_0)"
   ]
  },
  {
   "cell_type": "code",
   "execution_count": 53,
   "metadata": {},
   "outputs": [],
   "source": [
    "state = np.random.RandomState(12345)"
   ]
  },
  {
   "cell_type": "code",
   "execution_count": 54,
   "metadata": {},
   "outputs": [
    {
     "name": "stdout",
     "output_type": "stream",
     "text": [
      "Средняя выручка: 425938526.91059244\n",
      "Риск убытков: 6.0 %\n",
      "В генеральной совокупности с вероятностью 95% истинное среднее лежит в интервале: [ -102090094.83793654 , 947976353.3583689 ]\n"
     ]
    },
    {
     "data": {
      "image/png": "[encoded data removed]",
      "text/plain": [
       "<Figure size 432x288 with 1 Axes>"
      ]
     },
     "metadata": {
      "needs_background": "light"
     },
     "output_type": "display_data"
    }
   ],
   "source": [
    "values = []\n",
    "losses = 0\n",
    "for i in range(1000):\n",
    "    target_subsample = target1_test.sample(n = 500, replace = True, random_state = state)\n",
    "    pred_subsample = pred_1[target_subsample.index]\n",
    "    profit_per_sample = revenue(pred_subsample, target_subsample, 200)\n",
    "    values.append(profit_per_sample)\n",
    "    if profit_per_sample<0: #расчет рисков\n",
    "        losses+=1\n",
    "        \n",
    "values = pd.Series(values)\n",
    "geo_0_mean = values.mean()\n",
    "geo_0_losses_share = (losses/1000)*100\n",
    "\n",
    "sns.distplot(values)\n",
    "\n",
    "lower_1 = values.quantile(0.025)\n",
    "upper_1 = values.quantile(0.975)\n",
    "print(\"Средняя выручка:\", geo_0_mean)\n",
    "print('Риск убытков:',geo_0_losses_share, '%' )\n",
    "print('В генеральной совокупности с вероятностью 95% истинное среднее лежит в интервале:', '[',lower_1, ',', upper_1, ']')"
   ]
  },
  {
   "cell_type": "markdown",
   "metadata": {},
   "source": [
    "### Прибыль и риски разработки модели во втором регионе (geo_1)"
   ]
  },
  {
   "cell_type": "code",
   "execution_count": 55,
   "metadata": {},
   "outputs": [
    {
     "name": "stdout",
     "output_type": "stream",
     "text": [
      "Средняя выручка: 518259493.6973249\n",
      "Риск убытков: 0.3 %\n",
      "В генеральной совокупности с вероятностью 95% истинное среднее лежит в интервале: [ 128123231.43308444 , 953612982.0669085 ]\n"
     ]
    },
    {
     "data": {
      "image/png": "[encoded data removed]",
      "text/plain": [
       "<Figure size 432x288 with 1 Axes>"
      ]
     },
     "metadata": {
      "needs_background": "light"
     },
     "output_type": "display_data"
    }
   ],
   "source": [
    "values = []\n",
    "losses = 0\n",
    "for i in range(1000):\n",
    "    target_subsample = target2_test.sample(n = 500, replace = True, random_state = state)\n",
    "    pred_subsample = pred_2[target_subsample.index]\n",
    "    profit_per_sample = revenue(pred_subsample, target_subsample, 200)\n",
    "    values.append(profit_per_sample)\n",
    "    if profit_per_sample<0:\n",
    "        losses+=1\n",
    "        \n",
    "values = pd.Series(values)\n",
    "geo_1_mean = values.mean()\n",
    "geo_1_losses_share = (losses/1000)*100\n",
    "\n",
    "sns.distplot(values)\n",
    "\n",
    "lower_2 = values.quantile(0.025)\n",
    "upper_2 = values.quantile(0.975)\n",
    "print(\"Средняя выручка:\", geo_1_mean)\n",
    "print('Риск убытков:',geo_1_losses_share, '%' )\n",
    "print('В генеральной совокупности с вероятностью 95% истинное среднее лежит в интервале:', '[',lower_2, ',', upper_2, ']')"
   ]
  },
  {
   "cell_type": "markdown",
   "metadata": {},
   "source": [
    "### Прибыль и риски разработки модели в третьем регионе (geo_2)"
   ]
  },
  {
   "cell_type": "code",
   "execution_count": 56,
   "metadata": {},
   "outputs": [
    {
     "name": "stdout",
     "output_type": "stream",
     "text": [
      "Средняя выручка: 420194005.3440501\n",
      "Риск убытков: 6.2 %\n",
      "В генеральной совокупности с вероятностью 95% истинное среднее лежит в интервале: [ -115852609.16001143 , 989629939.8445739 ]\n"
     ]
    },
    {
     "data": {
      "image/png": "[encoded data removed]",
      "text/plain": [
       "<Figure size 432x288 with 1 Axes>"
      ]
     },
     "metadata": {
      "needs_background": "light"
     },
     "output_type": "display_data"
    }
   ],
   "source": [
    "values = []\n",
    "losses = 0\n",
    "for i in range(1000):\n",
    "    target_subsample = target3_test.sample(n = 500, replace = True, random_state = state)\n",
    "    pred_subsample = pred_3[target_subsample.index]\n",
    "    profit_per_sample = revenue(pred_subsample, target_subsample, 200)\n",
    "    values.append(profit_per_sample)\n",
    "    if profit_per_sample<0:\n",
    "        losses+=1\n",
    "        \n",
    "values = pd.Series(values)\n",
    "geo_2_mean = values.mean()\n",
    "geo_2_losses_share = (losses/1000)*100\n",
    "\n",
    "sns.distplot(values)\n",
    "\n",
    "lower_3 = values.quantile(0.025)\n",
    "upper_3 = values.quantile(0.975)\n",
    "print(\"Средняя выручка:\", geo_2_mean)\n",
    "print('Риск убытков:',geo_2_losses_share, '%' )\n",
    "print('В генеральной совокупности с вероятностью 95% истинное среднее лежит в интервале:', '[',lower_3, ',', upper_3, ']')"
   ]
  },
  {
   "cell_type": "code",
   "execution_count": 57,
   "metadata": {},
   "outputs": [
    {
     "data": {
      "text/html": [
       "<div>\n",
       "<style scoped>\n",
       "    .dataframe tbody tr th:only-of-type {\n",
       "        vertical-align: middle;\n",
       "    }\n",
       "\n",
       "    .dataframe tbody tr th {\n",
       "        vertical-align: top;\n",
       "    }\n",
       "\n",
       "    .dataframe thead th {\n",
       "        text-align: right;\n",
       "    }\n",
       "</style>\n",
       "<table border=\"1\" class=\"dataframe\">\n",
       "  <thead>\n",
       "    <tr style=\"text-align: right;\">\n",
       "      <th></th>\n",
       "      <th>mean</th>\n",
       "      <th>losses_risk, %</th>\n",
       "      <th>conf_int_left</th>\n",
       "      <th>conf_int_right</th>\n",
       "    </tr>\n",
       "  </thead>\n",
       "  <tbody>\n",
       "    <tr>\n",
       "      <th>geo_0</th>\n",
       "      <td>4.259385e+08</td>\n",
       "      <td>6.0</td>\n",
       "      <td>-1.020901e+08</td>\n",
       "      <td>9.479764e+08</td>\n",
       "    </tr>\n",
       "    <tr>\n",
       "      <th>geo_1</th>\n",
       "      <td>5.182595e+08</td>\n",
       "      <td>0.3</td>\n",
       "      <td>1.281232e+08</td>\n",
       "      <td>9.536130e+08</td>\n",
       "    </tr>\n",
       "    <tr>\n",
       "      <th>geo_2</th>\n",
       "      <td>4.201940e+08</td>\n",
       "      <td>6.2</td>\n",
       "      <td>-1.158526e+08</td>\n",
       "      <td>9.896299e+08</td>\n",
       "    </tr>\n",
       "  </tbody>\n",
       "</table>\n",
       "</div>"
      ],
      "text/plain": [
       "               mean  losses_risk, %  conf_int_left  conf_int_right\n",
       "geo_0  4.259385e+08             6.0  -1.020901e+08    9.479764e+08\n",
       "geo_1  5.182595e+08             0.3   1.281232e+08    9.536130e+08\n",
       "geo_2  4.201940e+08             6.2  -1.158526e+08    9.896299e+08"
      ]
     },
     "execution_count": 57,
     "metadata": {},
     "output_type": "execute_result"
    }
   ],
   "source": [
    "#соберем все характеристики регионов в одну таблицу\n",
    "index = ['geo_0', 'geo_1', 'geo_2']\n",
    "columns = ['mean', 'losses_risk, %', 'conf_int_left', 'conf_int_right']\n",
    "data = [[geo_0_mean, geo_0_losses_share,lower_1, upper_1],\n",
    "       [geo_1_mean, geo_1_losses_share,lower_2, upper_2],\n",
    "       [geo_2_mean, geo_2_losses_share,lower_3, upper_3]]\n",
    "df = pd.DataFrame(data = data,\n",
    "                 index = index,\n",
    "                 columns = columns)\n",
    "df"
   ]
  },
  {
   "cell_type": "markdown",
   "metadata": {},
   "source": [
    "Выводы: \n",
    "- Исходя из подсчитанной средней прибыли по трем регионам, наиболее высокая средняя прибыль прогнозируется во втором регионе (geo_1), также для этого региона прогнозируются наиболее низкие риски убытков. Таким образом, для для разработки скважин рекомендуется именно этот регион. \n",
    "- В генеральной совокупности с вероятностью 95% средняя прибыль от разработки скважин в регионе 2 (geo_1) лежит в интервале: 128 123 231.4 - 953 612 982.1 руб и стремится к 518 259 493.7 руб. При этом, риск убытков в этом регионе составляет 0.3%\n",
    "- О модели линейной регресси, при помощи которой были получены предсказания: это лучшая модель по показателям ошибок ( RMSE и MAE модели наименьшие из всех трех моделей) и R2 (R2 = 0.99).Стоит учитывать, что такие характеристики модели достигаются за счет 100% корреляции между f2 и зависимой переменной."
   ]
  }
 ],
 "metadata": {
  "ExecuteTimeLog": [
   {
    "duration": 2719,
    "start_time": "2023-02-25T17:06:53.888Z"
   },
   {
    "duration": 2072,
    "start_time": "2023-02-25T17:06:56.610Z"
   },
   {
    "duration": 14,
    "start_time": "2023-02-25T17:06:58.687Z"
   },
   {
    "duration": 14,
    "start_time": "2023-02-25T17:06:58.702Z"
   },
   {
    "duration": 1373,
    "start_time": "2023-02-25T17:06:58.719Z"
   },
   {
    "duration": 809,
    "start_time": "2023-02-25T17:07:00.094Z"
   },
   {
    "duration": 739,
    "start_time": "2023-02-25T17:07:00.905Z"
   },
   {
    "duration": 5,
    "start_time": "2023-02-25T17:07:01.648Z"
   },
   {
    "duration": 118,
    "start_time": "2023-02-25T17:07:01.659Z"
   },
   {
    "duration": 494,
    "start_time": "2023-02-25T17:07:01.784Z"
   },
   {
    "duration": 59,
    "start_time": "2023-02-25T17:07:02.285Z"
   },
   {
    "duration": 26,
    "start_time": "2023-02-25T17:07:02.346Z"
   },
   {
    "duration": 42,
    "start_time": "2023-02-25T17:07:02.374Z"
   },
   {
    "duration": 824,
    "start_time": "2023-02-25T17:07:02.419Z"
   },
   {
    "duration": 900,
    "start_time": "2023-02-25T17:07:03.244Z"
   },
   {
    "duration": 187,
    "start_time": "2023-02-25T17:07:04.145Z"
   },
   {
    "duration": 766,
    "start_time": "2023-02-25T17:07:04.334Z"
   },
   {
    "duration": 82,
    "start_time": "2023-02-25T17:07:05.102Z"
   },
   {
    "duration": 12,
    "start_time": "2023-02-25T17:07:05.185Z"
   },
   {
    "duration": 335,
    "start_time": "2023-02-25T17:07:05.199Z"
   },
   {
    "duration": 60,
    "start_time": "2023-02-25T17:07:05.537Z"
   },
   {
    "duration": 9,
    "start_time": "2023-02-25T17:07:05.599Z"
   },
   {
    "duration": 20,
    "start_time": "2023-02-25T17:07:05.610Z"
   },
   {
    "duration": 12,
    "start_time": "2023-02-25T17:07:05.649Z"
   },
   {
    "duration": 2226,
    "start_time": "2023-02-25T17:07:05.666Z"
   },
   {
    "duration": 814,
    "start_time": "2023-02-25T17:07:07.893Z"
   },
   {
    "duration": 397,
    "start_time": "2023-02-25T17:07:08.709Z"
   },
   {
    "duration": 64,
    "start_time": "2023-02-25T17:07:09.109Z"
   },
   {
    "duration": 62,
    "start_time": "2023-02-25T17:07:09.174Z"
   },
   {
    "duration": 59,
    "start_time": "2023-02-25T17:07:09.238Z"
   },
   {
    "duration": 32,
    "start_time": "2023-02-25T17:07:09.299Z"
   },
   {
    "duration": 61,
    "start_time": "2023-02-25T17:07:09.333Z"
   },
   {
    "duration": 49,
    "start_time": "2023-02-25T17:07:09.397Z"
   },
   {
    "duration": 65,
    "start_time": "2023-02-25T17:07:09.447Z"
   },
   {
    "duration": 91,
    "start_time": "2023-02-25T17:07:09.514Z"
   },
   {
    "duration": 34,
    "start_time": "2023-02-25T17:07:09.606Z"
   },
   {
    "duration": 72,
    "start_time": "2023-02-25T17:07:09.643Z"
   },
   {
    "duration": 21,
    "start_time": "2023-02-25T17:07:09.717Z"
   },
   {
    "duration": 63,
    "start_time": "2023-02-25T17:07:09.741Z"
   },
   {
    "duration": 80,
    "start_time": "2023-02-25T17:07:09.806Z"
   },
   {
    "duration": 57,
    "start_time": "2023-02-25T17:07:09.893Z"
   },
   {
    "duration": 138,
    "start_time": "2023-02-25T17:07:09.951Z"
   },
   {
    "duration": 194,
    "start_time": "2023-02-25T17:07:10.092Z"
   },
   {
    "duration": 81,
    "start_time": "2023-02-25T17:07:10.288Z"
   },
   {
    "duration": 75,
    "start_time": "2023-02-25T17:07:10.371Z"
   },
   {
    "duration": 56,
    "start_time": "2023-02-25T17:07:10.448Z"
   },
   {
    "duration": 17,
    "start_time": "2023-02-25T17:07:10.506Z"
   },
   {
    "duration": 21,
    "start_time": "2023-02-25T17:07:10.525Z"
   },
   {
    "duration": 64,
    "start_time": "2023-02-25T17:07:10.548Z"
   },
   {
    "duration": 19,
    "start_time": "2023-02-25T17:07:10.614Z"
   },
   {
    "duration": 34,
    "start_time": "2023-02-25T17:07:10.635Z"
   },
   {
    "duration": 30,
    "start_time": "2023-02-25T17:07:10.675Z"
   },
   {
    "duration": 23,
    "start_time": "2023-02-25T17:07:10.707Z"
   },
   {
    "duration": 1823,
    "start_time": "2023-02-25T17:07:10.732Z"
   },
   {
    "duration": 1830,
    "start_time": "2023-02-25T17:07:12.557Z"
   },
   {
    "duration": 1818,
    "start_time": "2023-02-25T17:07:14.392Z"
   },
   {
    "duration": 13,
    "start_time": "2023-02-25T17:07:16.211Z"
   },
   {
    "duration": 1915,
    "start_time": "2023-02-25T17:07:33.998Z"
   },
   {
    "duration": 1824,
    "start_time": "2023-02-25T17:07:49.188Z"
   },
   {
    "duration": 15,
    "start_time": "2023-02-25T17:07:55.278Z"
   },
   {
    "duration": 1523,
    "start_time": "2023-02-25T17:29:13.276Z"
   },
   {
    "duration": 501,
    "start_time": "2023-02-25T17:29:14.801Z"
   },
   {
    "duration": 15,
    "start_time": "2023-02-25T17:29:15.304Z"
   },
   {
    "duration": 16,
    "start_time": "2023-02-25T17:29:15.321Z"
   },
   {
    "duration": 1480,
    "start_time": "2023-02-25T17:29:15.339Z"
   },
   {
    "duration": 944,
    "start_time": "2023-02-25T17:29:16.820Z"
   },
   {
    "duration": 735,
    "start_time": "2023-02-25T17:29:17.766Z"
   },
   {
    "duration": 5,
    "start_time": "2023-02-25T17:29:18.504Z"
   },
   {
    "duration": 87,
    "start_time": "2023-02-25T17:29:18.511Z"
   },
   {
    "duration": 420,
    "start_time": "2023-02-25T17:29:18.600Z"
   },
   {
    "duration": 70,
    "start_time": "2023-02-25T17:29:19.022Z"
   },
   {
    "duration": 10,
    "start_time": "2023-02-25T17:29:19.093Z"
   },
   {
    "duration": 19,
    "start_time": "2023-02-25T17:29:19.105Z"
   },
   {
    "duration": 833,
    "start_time": "2023-02-25T17:29:19.126Z"
   },
   {
    "duration": 845,
    "start_time": "2023-02-25T17:29:19.966Z"
   },
   {
    "duration": 158,
    "start_time": "2023-02-25T17:29:20.813Z"
   },
   {
    "duration": 725,
    "start_time": "2023-02-25T17:29:20.976Z"
   },
   {
    "duration": 80,
    "start_time": "2023-02-25T17:29:21.703Z"
   },
   {
    "duration": 16,
    "start_time": "2023-02-25T17:29:21.794Z"
   },
   {
    "duration": 400,
    "start_time": "2023-02-25T17:29:21.812Z"
   },
   {
    "duration": 56,
    "start_time": "2023-02-25T17:29:22.214Z"
   },
   {
    "duration": 11,
    "start_time": "2023-02-25T17:29:22.272Z"
   },
   {
    "duration": 20,
    "start_time": "2023-02-25T17:29:22.286Z"
   },
   {
    "duration": 6,
    "start_time": "2023-02-25T17:29:22.308Z"
   },
   {
    "duration": 2331,
    "start_time": "2023-02-25T17:29:22.316Z"
   },
   {
    "duration": 983,
    "start_time": "2023-02-25T17:29:24.648Z"
   },
   {
    "duration": 360,
    "start_time": "2023-02-25T17:29:25.633Z"
   },
   {
    "duration": 85,
    "start_time": "2023-02-25T17:29:25.995Z"
   },
   {
    "duration": 59,
    "start_time": "2023-02-25T17:29:26.086Z"
   },
   {
    "duration": 22,
    "start_time": "2023-02-25T17:29:26.146Z"
   },
   {
    "duration": 33,
    "start_time": "2023-02-25T17:29:26.169Z"
   },
   {
    "duration": 15,
    "start_time": "2023-02-25T17:29:26.203Z"
   },
   {
    "duration": 12,
    "start_time": "2023-02-25T17:29:26.220Z"
   },
   {
    "duration": 25,
    "start_time": "2023-02-25T17:29:26.234Z"
   },
   {
    "duration": 80,
    "start_time": "2023-02-25T17:29:26.261Z"
   },
   {
    "duration": 41,
    "start_time": "2023-02-25T17:29:26.344Z"
   },
   {
    "duration": 51,
    "start_time": "2023-02-25T17:29:26.389Z"
   },
   {
    "duration": 26,
    "start_time": "2023-02-25T17:29:26.443Z"
   },
   {
    "duration": 59,
    "start_time": "2023-02-25T17:29:26.471Z"
   },
   {
    "duration": 17,
    "start_time": "2023-02-25T17:29:26.532Z"
   },
   {
    "duration": 33,
    "start_time": "2023-02-25T17:29:26.556Z"
   },
   {
    "duration": 164,
    "start_time": "2023-02-25T17:29:26.594Z"
   },
   {
    "duration": 190,
    "start_time": "2023-02-25T17:29:26.762Z"
   },
   {
    "duration": 21,
    "start_time": "2023-02-25T17:29:26.963Z"
   },
   {
    "duration": 93,
    "start_time": "2023-02-25T17:29:26.990Z"
   },
   {
    "duration": 14,
    "start_time": "2023-02-25T17:29:27.090Z"
   },
   {
    "duration": 6,
    "start_time": "2023-02-25T17:29:27.105Z"
   },
   {
    "duration": 8,
    "start_time": "2023-02-25T17:29:27.112Z"
   },
   {
    "duration": 7,
    "start_time": "2023-02-25T17:29:27.122Z"
   },
   {
    "duration": 10,
    "start_time": "2023-02-25T17:29:27.130Z"
   },
   {
    "duration": 4,
    "start_time": "2023-02-25T17:29:27.142Z"
   },
   {
    "duration": 49,
    "start_time": "2023-02-25T17:29:27.153Z"
   },
   {
    "duration": 6,
    "start_time": "2023-02-25T17:29:27.203Z"
   },
   {
    "duration": 1799,
    "start_time": "2023-02-25T17:29:27.211Z"
   },
   {
    "duration": 1803,
    "start_time": "2023-02-25T17:29:29.012Z"
   },
   {
    "duration": 1824,
    "start_time": "2023-02-25T17:29:30.817Z"
   },
   {
    "duration": 15,
    "start_time": "2023-02-25T17:29:32.643Z"
   },
   {
    "duration": 1498,
    "start_time": "2023-02-25T17:30:17.719Z"
   },
   {
    "duration": 461,
    "start_time": "2023-02-25T17:30:19.220Z"
   },
   {
    "duration": 17,
    "start_time": "2023-02-25T17:30:19.687Z"
   },
   {
    "duration": 17,
    "start_time": "2023-02-25T17:30:19.706Z"
   },
   {
    "duration": 1195,
    "start_time": "2023-02-25T17:30:19.725Z"
   },
   {
    "duration": 805,
    "start_time": "2023-02-25T17:30:20.921Z"
   },
   {
    "duration": 671,
    "start_time": "2023-02-25T17:30:21.728Z"
   },
   {
    "duration": 4,
    "start_time": "2023-02-25T17:30:22.401Z"
   },
   {
    "duration": 75,
    "start_time": "2023-02-25T17:30:22.406Z"
   },
   {
    "duration": 424,
    "start_time": "2023-02-25T17:30:22.484Z"
   },
   {
    "duration": 71,
    "start_time": "2023-02-25T17:30:22.909Z"
   },
   {
    "duration": 10,
    "start_time": "2023-02-25T17:30:22.985Z"
   },
   {
    "duration": 17,
    "start_time": "2023-02-25T17:30:22.997Z"
   },
   {
    "duration": 757,
    "start_time": "2023-02-25T17:30:23.015Z"
   },
   {
    "duration": 937,
    "start_time": "2023-02-25T17:30:23.776Z"
   },
   {
    "duration": 161,
    "start_time": "2023-02-25T17:30:24.714Z"
   },
   {
    "duration": 824,
    "start_time": "2023-02-25T17:30:24.876Z"
   },
   {
    "duration": 65,
    "start_time": "2023-02-25T17:30:25.702Z"
   },
   {
    "duration": 13,
    "start_time": "2023-02-25T17:30:25.776Z"
   },
   {
    "duration": 320,
    "start_time": "2023-02-25T17:30:25.790Z"
   },
   {
    "duration": 68,
    "start_time": "2023-02-25T17:30:26.111Z"
   },
   {
    "duration": 10,
    "start_time": "2023-02-25T17:30:26.181Z"
   },
   {
    "duration": 16,
    "start_time": "2023-02-25T17:30:26.192Z"
   },
   {
    "duration": 4,
    "start_time": "2023-02-25T17:30:26.210Z"
   },
   {
    "duration": 2118,
    "start_time": "2023-02-25T17:30:26.216Z"
   },
   {
    "duration": 798,
    "start_time": "2023-02-25T17:30:28.336Z"
   },
   {
    "duration": 453,
    "start_time": "2023-02-25T17:30:29.136Z"
   },
   {
    "duration": 45,
    "start_time": "2023-02-25T17:30:29.593Z"
   },
   {
    "duration": 69,
    "start_time": "2023-02-25T17:30:29.640Z"
   },
   {
    "duration": 16,
    "start_time": "2023-02-25T17:30:29.711Z"
   },
   {
    "duration": 34,
    "start_time": "2023-02-25T17:30:29.728Z"
   },
   {
    "duration": 24,
    "start_time": "2023-02-25T17:30:29.767Z"
   },
   {
    "duration": 11,
    "start_time": "2023-02-25T17:30:29.793Z"
   },
   {
    "duration": 13,
    "start_time": "2023-02-25T17:30:29.806Z"
   },
   {
    "duration": 20,
    "start_time": "2023-02-25T17:30:29.821Z"
   },
   {
    "duration": 18,
    "start_time": "2023-02-25T17:30:29.842Z"
   },
   {
    "duration": 38,
    "start_time": "2023-02-25T17:30:29.862Z"
   },
   {
    "duration": 13,
    "start_time": "2023-02-25T17:30:29.902Z"
   },
   {
    "duration": 12,
    "start_time": "2023-02-25T17:30:29.917Z"
   },
   {
    "duration": 31,
    "start_time": "2023-02-25T17:30:29.931Z"
   },
   {
    "duration": 25,
    "start_time": "2023-02-25T17:30:29.964Z"
   },
   {
    "duration": 135,
    "start_time": "2023-02-25T17:30:30.053Z"
   },
   {
    "duration": 82,
    "start_time": "2023-02-25T17:30:30.272Z"
   },
   {
    "duration": 88,
    "start_time": "2023-02-25T17:30:30.364Z"
   },
   {
    "duration": 48,
    "start_time": "2023-02-25T17:30:30.456Z"
   },
   {
    "duration": 3,
    "start_time": "2023-02-25T17:30:30.506Z"
   },
   {
    "duration": 66,
    "start_time": "2023-02-25T17:30:30.511Z"
   },
   {
    "duration": 27,
    "start_time": "2023-02-25T17:30:30.579Z"
   },
   {
    "duration": 38,
    "start_time": "2023-02-25T17:30:30.607Z"
   },
   {
    "duration": 53,
    "start_time": "2023-02-25T17:30:30.647Z"
   },
   {
    "duration": 33,
    "start_time": "2023-02-25T17:30:30.702Z"
   },
   {
    "duration": 59,
    "start_time": "2023-02-25T17:30:30.737Z"
   },
   {
    "duration": 84,
    "start_time": "2023-02-25T17:30:30.799Z"
   },
   {
    "duration": 1789,
    "start_time": "2023-02-25T17:30:30.884Z"
   },
   {
    "duration": 1746,
    "start_time": "2023-02-25T17:30:32.677Z"
   },
   {
    "duration": 1740,
    "start_time": "2023-02-25T17:30:34.425Z"
   },
   {
    "duration": 15,
    "start_time": "2023-02-25T17:30:36.167Z"
   },
   {
    "duration": 1777,
    "start_time": "2023-04-26T07:16:52.972Z"
   },
   {
    "duration": 1602,
    "start_time": "2023-04-26T07:16:54.752Z"
   },
   {
    "duration": 15,
    "start_time": "2023-04-26T07:16:56.355Z"
   },
   {
    "duration": 22,
    "start_time": "2023-04-26T07:16:56.372Z"
   },
   {
    "duration": 1369,
    "start_time": "2023-04-26T07:16:56.396Z"
   },
   {
    "duration": 831,
    "start_time": "2023-04-26T07:16:57.767Z"
   },
   {
    "duration": 698,
    "start_time": "2023-04-26T07:16:58.599Z"
   },
   {
    "duration": 5,
    "start_time": "2023-04-26T07:16:59.299Z"
   },
   {
    "duration": 92,
    "start_time": "2023-04-26T07:16:59.305Z"
   },
   {
    "duration": 430,
    "start_time": "2023-04-26T07:16:59.400Z"
   },
   {
    "duration": 60,
    "start_time": "2023-04-26T07:16:59.832Z"
   },
   {
    "duration": 9,
    "start_time": "2023-04-26T07:16:59.894Z"
   },
   {
    "duration": 24,
    "start_time": "2023-04-26T07:16:59.905Z"
   },
   {
    "duration": 759,
    "start_time": "2023-04-26T07:16:59.931Z"
   },
   {
    "duration": 784,
    "start_time": "2023-04-26T07:17:00.692Z"
   },
   {
    "duration": 149,
    "start_time": "2023-04-26T07:17:01.478Z"
   },
   {
    "duration": 611,
    "start_time": "2023-04-26T07:17:01.629Z"
   },
   {
    "duration": 68,
    "start_time": "2023-04-26T07:17:02.241Z"
   },
   {
    "duration": 82,
    "start_time": "2023-04-26T07:17:02.311Z"
   },
   {
    "duration": 443,
    "start_time": "2023-04-26T07:17:02.396Z"
   },
   {
    "duration": 57,
    "start_time": "2023-04-26T07:17:02.841Z"
   },
   {
    "duration": 11,
    "start_time": "2023-04-26T07:17:02.899Z"
   },
   {
    "duration": 54,
    "start_time": "2023-04-26T07:17:02.912Z"
   },
   {
    "duration": 46,
    "start_time": "2023-04-26T07:17:02.968Z"
   },
   {
    "duration": 1975,
    "start_time": "2023-04-26T07:17:03.016Z"
   },
   {
    "duration": 674,
    "start_time": "2023-04-26T07:17:04.993Z"
   },
   {
    "duration": 442,
    "start_time": "2023-04-26T07:17:05.669Z"
   },
   {
    "duration": 44,
    "start_time": "2023-04-26T07:17:06.115Z"
   },
   {
    "duration": 83,
    "start_time": "2023-04-26T07:17:06.160Z"
   },
   {
    "duration": 16,
    "start_time": "2023-04-26T07:17:06.245Z"
   },
   {
    "duration": 23,
    "start_time": "2023-04-26T07:17:06.262Z"
   },
   {
    "duration": 9,
    "start_time": "2023-04-26T07:17:06.287Z"
   },
   {
    "duration": 12,
    "start_time": "2023-04-26T07:17:06.297Z"
   },
   {
    "duration": 20,
    "start_time": "2023-04-26T07:17:06.311Z"
   },
   {
    "duration": 16,
    "start_time": "2023-04-26T07:17:06.333Z"
   },
   {
    "duration": 44,
    "start_time": "2023-04-26T07:17:06.350Z"
   },
   {
    "duration": 25,
    "start_time": "2023-04-26T07:17:06.396Z"
   },
   {
    "duration": 18,
    "start_time": "2023-04-26T07:17:06.424Z"
   },
   {
    "duration": 43,
    "start_time": "2023-04-26T07:17:06.444Z"
   },
   {
    "duration": 11,
    "start_time": "2023-04-26T07:17:06.489Z"
   },
   {
    "duration": 86,
    "start_time": "2023-04-26T07:17:06.502Z"
   },
   {
    "duration": 105,
    "start_time": "2023-04-26T07:17:06.590Z"
   },
   {
    "duration": 104,
    "start_time": "2023-04-26T07:17:06.697Z"
   },
   {
    "duration": 8,
    "start_time": "2023-04-26T07:17:06.885Z"
   },
   {
    "duration": 102,
    "start_time": "2023-04-26T07:17:06.897Z"
   },
   {
    "duration": 4,
    "start_time": "2023-04-26T07:17:07.001Z"
   },
   {
    "duration": 10,
    "start_time": "2023-04-26T07:17:07.007Z"
   },
   {
    "duration": 15,
    "start_time": "2023-04-26T07:17:07.019Z"
   },
   {
    "duration": 4,
    "start_time": "2023-04-26T07:17:07.036Z"
   },
   {
    "duration": 40,
    "start_time": "2023-04-26T07:17:07.042Z"
   },
   {
    "duration": 9,
    "start_time": "2023-04-26T07:17:07.084Z"
   },
   {
    "duration": 16,
    "start_time": "2023-04-26T07:17:07.095Z"
   },
   {
    "duration": 5,
    "start_time": "2023-04-26T07:17:07.113Z"
   },
   {
    "duration": 1694,
    "start_time": "2023-04-26T07:17:07.119Z"
   },
   {
    "duration": 1619,
    "start_time": "2023-04-26T07:17:08.816Z"
   },
   {
    "duration": 1624,
    "start_time": "2023-04-26T07:17:10.437Z"
   },
   {
    "duration": 23,
    "start_time": "2023-04-26T07:17:12.064Z"
   }
  ],
  "kernelspec": {
   "display_name": "Python 3 (ipykernel)",
   "language": "python",
   "name": "python3"
  },
  "language_info": {
   "codemirror_mode": {
    "name": "ipython",
    "version": 3
   },
   "file_extension": ".py",
   "mimetype": "text/x-python",
   "name": "python",
   "nbconvert_exporter": "python",
   "pygments_lexer": "ipython3",
   "version": "3.9.5"
  },
  "toc": {
   "base_numbering": 1,
   "nav_menu": {},
   "number_sections": true,
   "sideBar": true,
   "skip_h1_title": true,
   "title_cell": "Table of Contents",
   "title_sidebar": "Contents",
   "toc_cell": false,
   "toc_position": {},
   "toc_section_display": true,
   "toc_window_display": false
  }
 },
 "nbformat": 4,
 "nbformat_minor": 2
}
