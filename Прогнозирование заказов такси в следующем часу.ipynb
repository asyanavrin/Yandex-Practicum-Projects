{
 "cells": [
  {
   "cell_type": "markdown",
   "metadata": {
    "id": "T5sYNC_TMBPC",
    "toc": true
   },
   "source": [
    "<h1>Содержание<span class=\"tocSkip\"></span></h1>\n",
    "<div class=\"toc\"><ul class=\"toc-item\"><li><span><a href=\"#Подготовка\" data-toc-modified-id=\"Подготовка-1\"><span class=\"toc-item-num\">1&nbsp;&nbsp;</span>Подготовка</a></span></li><li><span><a href=\"#Анализ\" data-toc-modified-id=\"Анализ-2\"><span class=\"toc-item-num\">2&nbsp;&nbsp;</span>Анализ</a></span><ul class=\"toc-item\"><li><span><a href=\"#Проверка-на-мультиколлинеарность\" data-toc-modified-id=\"Проверка-на-мультиколлинеарность-2.1\"><span class=\"toc-item-num\">2.1&nbsp;&nbsp;</span>Проверка на мультиколлинеарность</a></span></li></ul></li><li><span><a href=\"#Обучение-моделей\" data-toc-modified-id=\"Обучение-моделей-3\"><span class=\"toc-item-num\">3&nbsp;&nbsp;</span>Обучение моделей</a></span><ul class=\"toc-item\"><li><span><a href=\"#Ridge-Regression\" data-toc-modified-id=\"Ridge-Regression-3.1\"><span class=\"toc-item-num\">3.1&nbsp;&nbsp;</span>Ridge Regression</a></span></li><li><span><a href=\"#Lightgbm-(Decision-Tree-Regressor)\" data-toc-modified-id=\"Lightgbm-(Decision-Tree-Regressor)-3.2\"><span class=\"toc-item-num\">3.2&nbsp;&nbsp;</span>Lightgbm (Decision Tree Regressor)</a></span></li></ul></li><li><span><a href=\"#Тестирование\" data-toc-modified-id=\"Тестирование-4\"><span class=\"toc-item-num\">4&nbsp;&nbsp;</span>Тестирование</a></span><ul class=\"toc-item\"><li><span><a href=\"#Ridge-Regression-test\" data-toc-modified-id=\"Ridge-Regression-test-4.1\"><span class=\"toc-item-num\">4.1&nbsp;&nbsp;</span>Ridge Regression test</a></span></li></ul></li><li><span><a href=\"#Выводы\" data-toc-modified-id=\"Выводы-5\"><span class=\"toc-item-num\">5&nbsp;&nbsp;</span>Выводы</a></span></li><li><span><a href=\"#Чек-лист-проверки\" data-toc-modified-id=\"Чек-лист-проверки-6\"><span class=\"toc-item-num\">6&nbsp;&nbsp;</span>Чек-лист проверки</a></span></li></ul></div>"
   ]
  },
  {
   "cell_type": "markdown",
   "metadata": {
    "id": "mdXkQ5lDMBPD"
   },
   "source": [
    "#  Прогнозирование заказов такси"
   ]
  },
  {
   "cell_type": "markdown",
   "metadata": {
    "id": "XbFUkdocMBPE"
   },
   "source": [
    "**Оп проекте:** Компания «Чётенькое такси» собрала исторические данные о заказах такси в аэропортах. Чтобы привлекать больше водителей в период пиковой нагрузки, нужно спрогнозировать количество заказов такси на следующий час. Постройте модель для такого предсказания.\n",
    "\n",
    "Значение метрики *RMSE* на тестовой выборке должно быть не больше 48.\n",
    "\n",
    "**Задачи:**\n",
    "\n",
    "1. Загрузить данные и выполнить их ресемплирование по одному часу.\n",
    "2. Проанализировать данные.\n",
    "3. Обучить разные модели с различными гиперпараметрами. Сделать тестовую выборку размером 10% от исходных данных.\n",
    "4. Проверить данные на тестовой выборке и сделать выводы.\n"
   ]
  },
  {
   "cell_type": "code",
   "execution_count": 3,
   "metadata": {
    "id": "81p0xK7XMBPF"
   },
   "outputs": [],
   "source": [
    "import pandas as pd\n",
    "import numpy as np\n",
    "import seaborn as sns\n",
    "import matplotlib.pyplot as plt\n",
    "from statsmodels.tsa.seasonal import seasonal_decompose\n",
    "from sklearn.model_selection import (\n",
    "    GridSearchCV, \n",
    "    TimeSeriesSplit,\n",
    "    train_test_split)\n",
    "from sklearn.preprocessing import StandardScaler\n",
    "from sklearn.linear_model import Ridge\n",
    "from sklearn.metrics import mean_squared_error\n",
    "from lightgbm import LGBMRegressor"
   ]
  },
  {
   "cell_type": "markdown",
   "metadata": {
    "id": "L7967sfYMBPG"
   },
   "source": [
    "## Подготовка"
   ]
  },
  {
   "cell_type": "code",
   "execution_count": 4,
   "metadata": {
    "id": "lBOe9rqcMBPG"
   },
   "outputs": [],
   "source": [
    "data = pd.read_csv('/datasets/taxi.csv', index_col = 0, parse_dates=[0])"
   ]
  },
  {
   "cell_type": "code",
   "execution_count": 5,
   "metadata": {
    "id": "wTFli7oQMBPG"
   },
   "outputs": [],
   "source": [
    "data.sort_index(inplace=True)"
   ]
  },
  {
   "cell_type": "code",
   "execution_count": 6,
   "metadata": {
    "colab": {
     "base_uri": "https://localhost:8080/",
     "height": 238
    },
    "id": "ATGPSACTMBPH",
    "outputId": "93b4a4b1-129c-4e85-9921-a3c0f6e09e3e"
   },
   "outputs": [
    {
     "data": {
      "text/html": [
       "\n",
       "  <div id=\"df-b4b307fa-b4e7-4fea-a0df-74a5133b05bf\">\n",
       "    <div class=\"colab-df-container\">\n",
       "      <div>\n",
       "<style scoped>\n",
       "    .dataframe tbody tr th:only-of-type {\n",
       "        vertical-align: middle;\n",
       "    }\n",
       "\n",
       "    .dataframe tbody tr th {\n",
       "        vertical-align: top;\n",
       "    }\n",
       "\n",
       "    .dataframe thead th {\n",
       "        text-align: right;\n",
       "    }\n",
       "</style>\n",
       "<table border=\"1\" class=\"dataframe\">\n",
       "  <thead>\n",
       "    <tr style=\"text-align: right;\">\n",
       "      <th></th>\n",
       "      <th>num_orders</th>\n",
       "    </tr>\n",
       "    <tr>\n",
       "      <th>datetime</th>\n",
       "      <th></th>\n",
       "    </tr>\n",
       "  </thead>\n",
       "  <tbody>\n",
       "    <tr>\n",
       "      <th>2018-03-01 00:00:00</th>\n",
       "      <td>9</td>\n",
       "    </tr>\n",
       "    <tr>\n",
       "      <th>2018-03-01 00:10:00</th>\n",
       "      <td>14</td>\n",
       "    </tr>\n",
       "    <tr>\n",
       "      <th>2018-03-01 00:20:00</th>\n",
       "      <td>28</td>\n",
       "    </tr>\n",
       "    <tr>\n",
       "      <th>2018-03-01 00:30:00</th>\n",
       "      <td>20</td>\n",
       "    </tr>\n",
       "    <tr>\n",
       "      <th>2018-03-01 00:40:00</th>\n",
       "      <td>32</td>\n",
       "    </tr>\n",
       "  </tbody>\n",
       "</table>\n",
       "</div>\n",
       "      <button class=\"colab-df-convert\" onclick=\"convertToInteractive('df-b4b307fa-b4e7-4fea-a0df-74a5133b05bf')\"\n",
       "              title=\"Convert this dataframe to an interactive table.\"\n",
       "              style=\"display:none;\">\n",
       "        \n",
       "  <svg xmlns=\"http://www.w3.org/2000/svg\" height=\"24px\"viewBox=\"0 0 24 24\"\n",
       "       width=\"24px\">\n",
       "    <path d=\"M0 0h24v24H0V0z\" fill=\"none\"/>\n",
       "    <path d=\"M18.56 5.44l.94 2.06.94-2.06 2.06-.94-2.06-.94-.94-2.06-.94 2.06-2.06.94zm-11 1L8.5 8.5l.94-2.06 2.06-.94-2.06-.94L8.5 2.5l-.94 2.06-2.06.94zm10 10l.94 2.06.94-2.06 2.06-.94-2.06-.94-.94-2.06-.94 2.06-2.06.94z\"/><path d=\"M17.41 7.96l-1.37-1.37c-.4-.4-.92-.59-1.43-.59-.52 0-1.04.2-1.43.59L10.3 9.45l-7.72 7.72c-.78.78-.78 2.05 0 2.83L4 21.41c.39.39.9.59 1.41.59.51 0 1.02-.2 1.41-.59l7.78-7.78 2.81-2.81c.8-.78.8-2.07 0-2.86zM5.41 20L4 18.59l7.72-7.72 1.47 1.35L5.41 20z\"/>\n",
       "  </svg>\n",
       "      </button>\n",
       "      \n",
       "  <style>\n",
       "    .colab-df-container {\n",
       "      display:flex;\n",
       "      flex-wrap:wrap;\n",
       "      gap: 12px;\n",
       "    }\n",
       "\n",
       "    .colab-df-convert {\n",
       "      background-color: #E8F0FE;\n",
       "      border: none;\n",
       "      border-radius: 50%;\n",
       "      cursor: pointer;\n",
       "      display: none;\n",
       "      fill: #1967D2;\n",
       "      height: 32px;\n",
       "      padding: 0 0 0 0;\n",
       "      width: 32px;\n",
       "    }\n",
       "\n",
       "    .colab-df-convert:hover {\n",
       "      background-color: #E2EBFA;\n",
       "      box-shadow: 0px 1px 2px rgba(60, 64, 67, 0.3), 0px 1px 3px 1px rgba(60, 64, 67, 0.15);\n",
       "      fill: #174EA6;\n",
       "    }\n",
       "\n",
       "    [theme=dark] .colab-df-convert {\n",
       "      background-color: #3B4455;\n",
       "      fill: #D2E3FC;\n",
       "    }\n",
       "\n",
       "    [theme=dark] .colab-df-convert:hover {\n",
       "      background-color: #434B5C;\n",
       "      box-shadow: 0px 1px 3px 1px rgba(0, 0, 0, 0.15);\n",
       "      filter: drop-shadow(0px 1px 2px rgba(0, 0, 0, 0.3));\n",
       "      fill: #FFFFFF;\n",
       "    }\n",
       "  </style>\n",
       "\n",
       "      <script>\n",
       "        const buttonEl =\n",
       "          document.querySelector('#df-b4b307fa-b4e7-4fea-a0df-74a5133b05bf button.colab-df-convert');\n",
       "        buttonEl.style.display =\n",
       "          google.colab.kernel.accessAllowed ? 'block' : 'none';\n",
       "\n",
       "        async function convertToInteractive(key) {\n",
       "          const element = document.querySelector('#df-b4b307fa-b4e7-4fea-a0df-74a5133b05bf');\n",
       "          const dataTable =\n",
       "            await google.colab.kernel.invokeFunction('convertToInteractive',\n",
       "                                                     [key], {});\n",
       "          if (!dataTable) return;\n",
       "\n",
       "          const docLinkHtml = 'Like what you see? Visit the ' +\n",
       "            '<a target=\"_blank\" href=https://colab.research.google.com/notebooks/data_table.ipynb>data table notebook</a>'\n",
       "            + ' to learn more about interactive tables.';\n",
       "          element.innerHTML = '';\n",
       "          dataTable['output_type'] = 'display_data';\n",
       "          await google.colab.output.renderOutput(dataTable, element);\n",
       "          const docLink = document.createElement('div');\n",
       "          docLink.innerHTML = docLinkHtml;\n",
       "          element.appendChild(docLink);\n",
       "        }\n",
       "      </script>\n",
       "    </div>\n",
       "  </div>\n",
       "  "
      ],
      "text/plain": [
       "                     num_orders\n",
       "datetime                       \n",
       "2018-03-01 00:00:00           9\n",
       "2018-03-01 00:10:00          14\n",
       "2018-03-01 00:20:00          28\n",
       "2018-03-01 00:30:00          20\n",
       "2018-03-01 00:40:00          32"
      ]
     },
     "execution_count": 6,
     "metadata": {},
     "output_type": "execute_result"
    }
   ],
   "source": [
    "data.head()"
   ]
  },
  {
   "cell_type": "code",
   "execution_count": 7,
   "metadata": {
    "colab": {
     "base_uri": "https://localhost:8080/"
    },
    "id": "_nOME-WoMBPH",
    "outputId": "b266ba88-3896-4b5f-938c-4ad35122d052"
   },
   "outputs": [
    {
     "name": "stdout",
     "output_type": "stream",
     "text": [
      "num_orders   2018-03-01 05:20:00\n",
      "dtype: datetime64[ns]\n"
     ]
    },
    {
     "data": {
      "text/plain": [
       "num_orders   2018-08-13 02:20:00\n",
       "dtype: datetime64[ns]"
      ]
     },
     "execution_count": 7,
     "metadata": {},
     "output_type": "execute_result"
    }
   ],
   "source": [
    "print(data.idxmin())\n",
    "data.idxmax()"
   ]
  },
  {
   "cell_type": "markdown",
   "metadata": {
    "id": "dP1kNM0LMBPH"
   },
   "source": [
    "Мы имеем данные за период с 1 марта 2018 до 13 августа 2018. Данные имеют интервал добавления в 10 минут."
   ]
  },
  {
   "cell_type": "markdown",
   "metadata": {
    "id": "dejuFoHrMBPH"
   },
   "source": [
    "Мы будем прогнозировать заказ на следующий час, поэтому данные необходимо ресемплировать на почасовые "
   ]
  },
  {
   "cell_type": "code",
   "execution_count": 8,
   "metadata": {
    "id": "rvfbCGYXMBPH"
   },
   "outputs": [],
   "source": [
    "data = data.resample('1H').sum()"
   ]
  },
  {
   "cell_type": "code",
   "execution_count": 9,
   "metadata": {
    "colab": {
     "base_uri": "https://localhost:8080/",
     "height": 238
    },
    "id": "j9pzrKwIMBPH",
    "outputId": "1da48d28-11b0-4c35-f12f-92ef2d5af926"
   },
   "outputs": [
    {
     "data": {
      "text/html": [
       "\n",
       "  <div id=\"df-5a23b385-4b05-4ac1-bdf2-232d9cf5c42e\">\n",
       "    <div class=\"colab-df-container\">\n",
       "      <div>\n",
       "<style scoped>\n",
       "    .dataframe tbody tr th:only-of-type {\n",
       "        vertical-align: middle;\n",
       "    }\n",
       "\n",
       "    .dataframe tbody tr th {\n",
       "        vertical-align: top;\n",
       "    }\n",
       "\n",
       "    .dataframe thead th {\n",
       "        text-align: right;\n",
       "    }\n",
       "</style>\n",
       "<table border=\"1\" class=\"dataframe\">\n",
       "  <thead>\n",
       "    <tr style=\"text-align: right;\">\n",
       "      <th></th>\n",
       "      <th>num_orders</th>\n",
       "    </tr>\n",
       "    <tr>\n",
       "      <th>datetime</th>\n",
       "      <th></th>\n",
       "    </tr>\n",
       "  </thead>\n",
       "  <tbody>\n",
       "    <tr>\n",
       "      <th>2018-03-01 00:00:00</th>\n",
       "      <td>124</td>\n",
       "    </tr>\n",
       "    <tr>\n",
       "      <th>2018-03-01 01:00:00</th>\n",
       "      <td>85</td>\n",
       "    </tr>\n",
       "    <tr>\n",
       "      <th>2018-03-01 02:00:00</th>\n",
       "      <td>71</td>\n",
       "    </tr>\n",
       "    <tr>\n",
       "      <th>2018-03-01 03:00:00</th>\n",
       "      <td>66</td>\n",
       "    </tr>\n",
       "    <tr>\n",
       "      <th>2018-03-01 04:00:00</th>\n",
       "      <td>43</td>\n",
       "    </tr>\n",
       "  </tbody>\n",
       "</table>\n",
       "</div>\n",
       "      <button class=\"colab-df-convert\" onclick=\"convertToInteractive('df-5a23b385-4b05-4ac1-bdf2-232d9cf5c42e')\"\n",
       "              title=\"Convert this dataframe to an interactive table.\"\n",
       "              style=\"display:none;\">\n",
       "        \n",
       "  <svg xmlns=\"http://www.w3.org/2000/svg\" height=\"24px\"viewBox=\"0 0 24 24\"\n",
       "       width=\"24px\">\n",
       "    <path d=\"M0 0h24v24H0V0z\" fill=\"none\"/>\n",
       "    <path d=\"M18.56 5.44l.94 2.06.94-2.06 2.06-.94-2.06-.94-.94-2.06-.94 2.06-2.06.94zm-11 1L8.5 8.5l.94-2.06 2.06-.94-2.06-.94L8.5 2.5l-.94 2.06-2.06.94zm10 10l.94 2.06.94-2.06 2.06-.94-2.06-.94-.94-2.06-.94 2.06-2.06.94z\"/><path d=\"M17.41 7.96l-1.37-1.37c-.4-.4-.92-.59-1.43-.59-.52 0-1.04.2-1.43.59L10.3 9.45l-7.72 7.72c-.78.78-.78 2.05 0 2.83L4 21.41c.39.39.9.59 1.41.59.51 0 1.02-.2 1.41-.59l7.78-7.78 2.81-2.81c.8-.78.8-2.07 0-2.86zM5.41 20L4 18.59l7.72-7.72 1.47 1.35L5.41 20z\"/>\n",
       "  </svg>\n",
       "      </button>\n",
       "      \n",
       "  <style>\n",
       "    .colab-df-container {\n",
       "      display:flex;\n",
       "      flex-wrap:wrap;\n",
       "      gap: 12px;\n",
       "    }\n",
       "\n",
       "    .colab-df-convert {\n",
       "      background-color: #E8F0FE;\n",
       "      border: none;\n",
       "      border-radius: 50%;\n",
       "      cursor: pointer;\n",
       "      display: none;\n",
       "      fill: #1967D2;\n",
       "      height: 32px;\n",
       "      padding: 0 0 0 0;\n",
       "      width: 32px;\n",
       "    }\n",
       "\n",
       "    .colab-df-convert:hover {\n",
       "      background-color: #E2EBFA;\n",
       "      box-shadow: 0px 1px 2px rgba(60, 64, 67, 0.3), 0px 1px 3px 1px rgba(60, 64, 67, 0.15);\n",
       "      fill: #174EA6;\n",
       "    }\n",
       "\n",
       "    [theme=dark] .colab-df-convert {\n",
       "      background-color: #3B4455;\n",
       "      fill: #D2E3FC;\n",
       "    }\n",
       "\n",
       "    [theme=dark] .colab-df-convert:hover {\n",
       "      background-color: #434B5C;\n",
       "      box-shadow: 0px 1px 3px 1px rgba(0, 0, 0, 0.15);\n",
       "      filter: drop-shadow(0px 1px 2px rgba(0, 0, 0, 0.3));\n",
       "      fill: #FFFFFF;\n",
       "    }\n",
       "  </style>\n",
       "\n",
       "      <script>\n",
       "        const buttonEl =\n",
       "          document.querySelector('#df-5a23b385-4b05-4ac1-bdf2-232d9cf5c42e button.colab-df-convert');\n",
       "        buttonEl.style.display =\n",
       "          google.colab.kernel.accessAllowed ? 'block' : 'none';\n",
       "\n",
       "        async function convertToInteractive(key) {\n",
       "          const element = document.querySelector('#df-5a23b385-4b05-4ac1-bdf2-232d9cf5c42e');\n",
       "          const dataTable =\n",
       "            await google.colab.kernel.invokeFunction('convertToInteractive',\n",
       "                                                     [key], {});\n",
       "          if (!dataTable) return;\n",
       "\n",
       "          const docLinkHtml = 'Like what you see? Visit the ' +\n",
       "            '<a target=\"_blank\" href=https://colab.research.google.com/notebooks/data_table.ipynb>data table notebook</a>'\n",
       "            + ' to learn more about interactive tables.';\n",
       "          element.innerHTML = '';\n",
       "          dataTable['output_type'] = 'display_data';\n",
       "          await google.colab.output.renderOutput(dataTable, element);\n",
       "          const docLink = document.createElement('div');\n",
       "          docLink.innerHTML = docLinkHtml;\n",
       "          element.appendChild(docLink);\n",
       "        }\n",
       "      </script>\n",
       "    </div>\n",
       "  </div>\n",
       "  "
      ],
      "text/plain": [
       "                     num_orders\n",
       "datetime                       \n",
       "2018-03-01 00:00:00         124\n",
       "2018-03-01 01:00:00          85\n",
       "2018-03-01 02:00:00          71\n",
       "2018-03-01 03:00:00          66\n",
       "2018-03-01 04:00:00          43"
      ]
     },
     "execution_count": 9,
     "metadata": {},
     "output_type": "execute_result"
    }
   ],
   "source": [
    "data.head()"
   ]
  },
  {
   "cell_type": "code",
   "execution_count": 10,
   "metadata": {
    "colab": {
     "base_uri": "https://localhost:8080/"
    },
    "id": "NHyUAba-MBPI",
    "outputId": "20a7e903-36b1-4e77-9b4e-e5cbb52cd616"
   },
   "outputs": [
    {
     "name": "stdout",
     "output_type": "stream",
     "text": [
      "<class 'pandas.core.frame.DataFrame'>\n",
      "DatetimeIndex: 4416 entries, 2018-03-01 00:00:00 to 2018-08-31 23:00:00\n",
      "Freq: H\n",
      "Data columns (total 1 columns):\n",
      " #   Column      Non-Null Count  Dtype\n",
      "---  ------      --------------  -----\n",
      " 0   num_orders  4416 non-null   int64\n",
      "dtypes: int64(1)\n",
      "memory usage: 69.0 KB\n"
     ]
    }
   ],
   "source": [
    "data.info()"
   ]
  },
  {
   "cell_type": "code",
   "execution_count": 11,
   "metadata": {
    "colab": {
     "base_uri": "https://localhost:8080/"
    },
    "id": "f3mowpnSMBPI",
    "outputId": "4cb00497-bc70-4e20-9c9d-6142f88cab39"
   },
   "outputs": [
    {
     "data": {
      "text/plain": [
       "(4416, 1)"
      ]
     },
     "execution_count": 11,
     "metadata": {},
     "output_type": "execute_result"
    }
   ],
   "source": [
    "data.shape"
   ]
  },
  {
   "cell_type": "markdown",
   "metadata": {
    "id": "879rOeppMBPI"
   },
   "source": [
    "## Анализ"
   ]
  },
  {
   "cell_type": "code",
   "execution_count": 12,
   "metadata": {
    "colab": {
     "base_uri": "https://localhost:8080/"
    },
    "id": "YNwbQKohKJ-V",
    "outputId": "2ac6bb84-ec4e-404d-f4ea-e3b5153a6a05"
   },
   "outputs": [
    {
     "data": {
      "text/plain": [
       "num_orders   2018-04-06 06:00:00\n",
       "dtype: datetime64[ns]"
      ]
     },
     "execution_count": 12,
     "metadata": {},
     "output_type": "execute_result"
    }
   ],
   "source": [
    "data.idxmin()"
   ]
  },
  {
   "cell_type": "code",
   "execution_count": 13,
   "metadata": {
    "colab": {
     "base_uri": "https://localhost:8080/"
    },
    "id": "hL23AKWdKJ-V",
    "outputId": "76667f84-c508-46a6-b977-2e67cca2453d"
   },
   "outputs": [
    {
     "data": {
      "text/plain": [
       "num_orders   2018-08-20 02:00:00\n",
       "dtype: datetime64[ns]"
      ]
     },
     "execution_count": 13,
     "metadata": {},
     "output_type": "execute_result"
    }
   ],
   "source": [
    "data.idxmax()"
   ]
  },
  {
   "cell_type": "code",
   "execution_count": 14,
   "metadata": {
    "id": "MsWB_TemMBPI"
   },
   "outputs": [],
   "source": [
    "decomposed = seasonal_decompose(data)"
   ]
  },
  {
   "cell_type": "code",
   "execution_count": 15,
   "metadata": {
    "colab": {
     "base_uri": "https://localhost:8080/",
     "height": 321
    },
    "id": "pmvnp843KJ-W",
    "outputId": "1ef4553d-6c3c-43b0-9809-b45ce31d598c"
   },
   "outputs": [
    {
     "data": {
      "text/plain": [
       "<Axes: xlabel='datetime'>"
      ]
     },
     "execution_count": 15,
     "metadata": {},
     "output_type": "execute_result"
    },
    {
     "data": {
      "image/png": "[encoded data removed]",
      "text/plain": [
       "<Figure size 432x288 with 1 Axes>"
      ]
     },
     "metadata": {
      "needs_background": "light"
     },
     "output_type": "display_data"
    }
   ],
   "source": [
    "#посмотрим на декомпозированные данные в течение 2 суток \n",
    "#возьмем предпоследний день из доступных в данных\n",
    "decomposed.seasonal['2018-08-17 00:00:00':'2018-08-19 00:00:00'].plot()\n",
    "decomposed.resid['2018-08-17 00:00:00':'2018-08-19 00:00:00'].plot()\n",
    "decomposed.trend['2018-08-17 00:00:00':'2018-08-19 00:00:00'].plot()"
   ]
  },
  {
   "cell_type": "code",
   "execution_count": 16,
   "metadata": {
    "colab": {
     "base_uri": "https://localhost:8080/",
     "height": 344
    },
    "id": "WxpVOx7WKJ-W",
    "outputId": "638dec43-a82f-47d4-eb1b-13de89f9377c"
   },
   "outputs": [
    {
     "data": {
      "text/plain": [
       "<Axes: xlabel='datetime'>"
      ]
     },
     "execution_count": 16,
     "metadata": {},
     "output_type": "execute_result"
    },
    {
     "data": {
      "image/png": "[encoded data removed]",
      "text/plain": [
       "<Figure size 1440x360 with 1 Axes>"
      ]
     },
     "metadata": {
      "needs_background": "light"
     },
     "output_type": "display_data"
    }
   ],
   "source": [
    "#посмотрим на декомпозированные данные в течение месяца \n",
    "#возьмем предпоследний месяц из доступных в данных\n",
    "plt.figure(figsize = (20,5))\n",
    "decomposed.seasonal['2018-07-18 00:00:00':'2018-08-18 00:00:00'].plot(color = 'pink')\n",
    "decomposed.resid['2018-07-18 00:00:00':'2018-08-18 00:00:00'].plot(color = 'blue')\n",
    "decomposed.trend['2018-07-18 00:00:00':'2018-08-18 00:00:00'].plot(color = 'grey')"
   ]
  },
  {
   "cell_type": "markdown",
   "metadata": {
    "id": "vT-jmnJXKJ-W"
   },
   "source": [
    "Наблюдается ежедневная сезонность"
   ]
  },
  {
   "cell_type": "markdown",
   "metadata": {
    "id": "if1OjOgrbiOB"
   },
   "source": [
    "Видим, что почасовая сезонность отсутствует, есть возрастающий тренд и нестационарные остатки"
   ]
  },
  {
   "cell_type": "code",
   "execution_count": 17,
   "metadata": {
    "id": "b_2vQP_vMBPI"
   },
   "outputs": [],
   "source": [
    "#добавим в таблицу новые признаки\n",
    "#напишем для этого функцию\n",
    "def make_features(data, max_lag, rolling_mean_size):\n",
    "    data['dayofweek'] = data.index.dayofweek\n",
    "    data['hour'] = data.index.hour\n",
    "    for lag in range(1, max_lag + 1):\n",
    "        data['lag_{}'.format(lag)] = data['num_orders'].shift(lag)\n",
    "    \n",
    "    data['rolling_mean'] = data['num_orders'].shift().rolling(rolling_mean_size).mean()\n",
    "    return data"
   ]
  },
  {
   "cell_type": "markdown",
   "metadata": {
    "id": "Yum1wH2qZtG4"
   },
   "source": [
    "Посмотрев на распределение заказов одного дня, попробуем сглаживание (rolling_mean) в 6 часов как среднее между минимальным и максимальным значением заказов в течение дня"
   ]
  },
  {
   "cell_type": "markdown",
   "metadata": {
    "id": "Dis9MFKFaV7g"
   },
   "source": [
    "Лаги зададим на 24 часа из допущения, что количество закзов в предыдущие 24 часа может быть важно для прогназирования"
   ]
  },
  {
   "cell_type": "code",
   "execution_count": 18,
   "metadata": {
    "colab": {
     "base_uri": "https://localhost:8080/",
     "height": 504
    },
    "id": "mloSGiUtMBPJ",
    "outputId": "90a85e00-571b-4892-bffb-93491186152f"
   },
   "outputs": [
    {
     "data": {
      "text/html": [
       "\n",
       "  <div id=\"df-794ae157-0540-48d1-9442-5b9e275f5de6\">\n",
       "    <div class=\"colab-df-container\">\n",
       "      <div>\n",
       "<style scoped>\n",
       "    .dataframe tbody tr th:only-of-type {\n",
       "        vertical-align: middle;\n",
       "    }\n",
       "\n",
       "    .dataframe tbody tr th {\n",
       "        vertical-align: top;\n",
       "    }\n",
       "\n",
       "    .dataframe thead th {\n",
       "        text-align: right;\n",
       "    }\n",
       "</style>\n",
       "<table border=\"1\" class=\"dataframe\">\n",
       "  <thead>\n",
       "    <tr style=\"text-align: right;\">\n",
       "      <th></th>\n",
       "      <th>num_orders</th>\n",
       "      <th>dayofweek</th>\n",
       "      <th>hour</th>\n",
       "      <th>lag_1</th>\n",
       "      <th>lag_2</th>\n",
       "      <th>lag_3</th>\n",
       "      <th>lag_4</th>\n",
       "      <th>lag_5</th>\n",
       "      <th>lag_6</th>\n",
       "      <th>lag_7</th>\n",
       "      <th>...</th>\n",
       "      <th>lag_16</th>\n",
       "      <th>lag_17</th>\n",
       "      <th>lag_18</th>\n",
       "      <th>lag_19</th>\n",
       "      <th>lag_20</th>\n",
       "      <th>lag_21</th>\n",
       "      <th>lag_22</th>\n",
       "      <th>lag_23</th>\n",
       "      <th>lag_24</th>\n",
       "      <th>rolling_mean</th>\n",
       "    </tr>\n",
       "    <tr>\n",
       "      <th>datetime</th>\n",
       "      <th></th>\n",
       "      <th></th>\n",
       "      <th></th>\n",
       "      <th></th>\n",
       "      <th></th>\n",
       "      <th></th>\n",
       "      <th></th>\n",
       "      <th></th>\n",
       "      <th></th>\n",
       "      <th></th>\n",
       "      <th></th>\n",
       "      <th></th>\n",
       "      <th></th>\n",
       "      <th></th>\n",
       "      <th></th>\n",
       "      <th></th>\n",
       "      <th></th>\n",
       "      <th></th>\n",
       "      <th></th>\n",
       "      <th></th>\n",
       "      <th></th>\n",
       "    </tr>\n",
       "  </thead>\n",
       "  <tbody>\n",
       "    <tr>\n",
       "      <th>2018-03-01 00:00:00</th>\n",
       "      <td>124</td>\n",
       "      <td>3</td>\n",
       "      <td>0</td>\n",
       "      <td>NaN</td>\n",
       "      <td>NaN</td>\n",
       "      <td>NaN</td>\n",
       "      <td>NaN</td>\n",
       "      <td>NaN</td>\n",
       "      <td>NaN</td>\n",
       "      <td>NaN</td>\n",
       "      <td>...</td>\n",
       "      <td>NaN</td>\n",
       "      <td>NaN</td>\n",
       "      <td>NaN</td>\n",
       "      <td>NaN</td>\n",
       "      <td>NaN</td>\n",
       "      <td>NaN</td>\n",
       "      <td>NaN</td>\n",
       "      <td>NaN</td>\n",
       "      <td>NaN</td>\n",
       "      <td>NaN</td>\n",
       "    </tr>\n",
       "    <tr>\n",
       "      <th>2018-03-01 01:00:00</th>\n",
       "      <td>85</td>\n",
       "      <td>3</td>\n",
       "      <td>1</td>\n",
       "      <td>124.0</td>\n",
       "      <td>NaN</td>\n",
       "      <td>NaN</td>\n",
       "      <td>NaN</td>\n",
       "      <td>NaN</td>\n",
       "      <td>NaN</td>\n",
       "      <td>NaN</td>\n",
       "      <td>...</td>\n",
       "      <td>NaN</td>\n",
       "      <td>NaN</td>\n",
       "      <td>NaN</td>\n",
       "      <td>NaN</td>\n",
       "      <td>NaN</td>\n",
       "      <td>NaN</td>\n",
       "      <td>NaN</td>\n",
       "      <td>NaN</td>\n",
       "      <td>NaN</td>\n",
       "      <td>NaN</td>\n",
       "    </tr>\n",
       "    <tr>\n",
       "      <th>2018-03-01 02:00:00</th>\n",
       "      <td>71</td>\n",
       "      <td>3</td>\n",
       "      <td>2</td>\n",
       "      <td>85.0</td>\n",
       "      <td>124.0</td>\n",
       "      <td>NaN</td>\n",
       "      <td>NaN</td>\n",
       "      <td>NaN</td>\n",
       "      <td>NaN</td>\n",
       "      <td>NaN</td>\n",
       "      <td>...</td>\n",
       "      <td>NaN</td>\n",
       "      <td>NaN</td>\n",
       "      <td>NaN</td>\n",
       "      <td>NaN</td>\n",
       "      <td>NaN</td>\n",
       "      <td>NaN</td>\n",
       "      <td>NaN</td>\n",
       "      <td>NaN</td>\n",
       "      <td>NaN</td>\n",
       "      <td>NaN</td>\n",
       "    </tr>\n",
       "    <tr>\n",
       "      <th>2018-03-01 03:00:00</th>\n",
       "      <td>66</td>\n",
       "      <td>3</td>\n",
       "      <td>3</td>\n",
       "      <td>71.0</td>\n",
       "      <td>85.0</td>\n",
       "      <td>124.0</td>\n",
       "      <td>NaN</td>\n",
       "      <td>NaN</td>\n",
       "      <td>NaN</td>\n",
       "      <td>NaN</td>\n",
       "      <td>...</td>\n",
       "      <td>NaN</td>\n",
       "      <td>NaN</td>\n",
       "      <td>NaN</td>\n",
       "      <td>NaN</td>\n",
       "      <td>NaN</td>\n",
       "      <td>NaN</td>\n",
       "      <td>NaN</td>\n",
       "      <td>NaN</td>\n",
       "      <td>NaN</td>\n",
       "      <td>NaN</td>\n",
       "    </tr>\n",
       "    <tr>\n",
       "      <th>2018-03-01 04:00:00</th>\n",
       "      <td>43</td>\n",
       "      <td>3</td>\n",
       "      <td>4</td>\n",
       "      <td>66.0</td>\n",
       "      <td>71.0</td>\n",
       "      <td>85.0</td>\n",
       "      <td>124.0</td>\n",
       "      <td>NaN</td>\n",
       "      <td>NaN</td>\n",
       "      <td>NaN</td>\n",
       "      <td>...</td>\n",
       "      <td>NaN</td>\n",
       "      <td>NaN</td>\n",
       "      <td>NaN</td>\n",
       "      <td>NaN</td>\n",
       "      <td>NaN</td>\n",
       "      <td>NaN</td>\n",
       "      <td>NaN</td>\n",
       "      <td>NaN</td>\n",
       "      <td>NaN</td>\n",
       "      <td>NaN</td>\n",
       "    </tr>\n",
       "  </tbody>\n",
       "</table>\n",
       "<p>5 rows × 28 columns</p>\n",
       "</div>\n",
       "      <button class=\"colab-df-convert\" onclick=\"convertToInteractive('df-794ae157-0540-48d1-9442-5b9e275f5de6')\"\n",
       "              title=\"Convert this dataframe to an interactive table.\"\n",
       "              style=\"display:none;\">\n",
       "        \n",
       "  <svg xmlns=\"http://www.w3.org/2000/svg\" height=\"24px\"viewBox=\"0 0 24 24\"\n",
       "       width=\"24px\">\n",
       "    <path d=\"M0 0h24v24H0V0z\" fill=\"none\"/>\n",
       "    <path d=\"M18.56 5.44l.94 2.06.94-2.06 2.06-.94-2.06-.94-.94-2.06-.94 2.06-2.06.94zm-11 1L8.5 8.5l.94-2.06 2.06-.94-2.06-.94L8.5 2.5l-.94 2.06-2.06.94zm10 10l.94 2.06.94-2.06 2.06-.94-2.06-.94-.94-2.06-.94 2.06-2.06.94z\"/><path d=\"M17.41 7.96l-1.37-1.37c-.4-.4-.92-.59-1.43-.59-.52 0-1.04.2-1.43.59L10.3 9.45l-7.72 7.72c-.78.78-.78 2.05 0 2.83L4 21.41c.39.39.9.59 1.41.59.51 0 1.02-.2 1.41-.59l7.78-7.78 2.81-2.81c.8-.78.8-2.07 0-2.86zM5.41 20L4 18.59l7.72-7.72 1.47 1.35L5.41 20z\"/>\n",
       "  </svg>\n",
       "      </button>\n",
       "      \n",
       "  <style>\n",
       "    .colab-df-container {\n",
       "      display:flex;\n",
       "      flex-wrap:wrap;\n",
       "      gap: 12px;\n",
       "    }\n",
       "\n",
       "    .colab-df-convert {\n",
       "      background-color: #E8F0FE;\n",
       "      border: none;\n",
       "      border-radius: 50%;\n",
       "      cursor: pointer;\n",
       "      display: none;\n",
       "      fill: #1967D2;\n",
       "      height: 32px;\n",
       "      padding: 0 0 0 0;\n",
       "      width: 32px;\n",
       "    }\n",
       "\n",
       "    .colab-df-convert:hover {\n",
       "      background-color: #E2EBFA;\n",
       "      box-shadow: 0px 1px 2px rgba(60, 64, 67, 0.3), 0px 1px 3px 1px rgba(60, 64, 67, 0.15);\n",
       "      fill: #174EA6;\n",
       "    }\n",
       "\n",
       "    [theme=dark] .colab-df-convert {\n",
       "      background-color: #3B4455;\n",
       "      fill: #D2E3FC;\n",
       "    }\n",
       "\n",
       "    [theme=dark] .colab-df-convert:hover {\n",
       "      background-color: #434B5C;\n",
       "      box-shadow: 0px 1px 3px 1px rgba(0, 0, 0, 0.15);\n",
       "      filter: drop-shadow(0px 1px 2px rgba(0, 0, 0, 0.3));\n",
       "      fill: #FFFFFF;\n",
       "    }\n",
       "  </style>\n",
       "\n",
       "      <script>\n",
       "        const buttonEl =\n",
       "          document.querySelector('#df-794ae157-0540-48d1-9442-5b9e275f5de6 button.colab-df-convert');\n",
       "        buttonEl.style.display =\n",
       "          google.colab.kernel.accessAllowed ? 'block' : 'none';\n",
       "\n",
       "        async function convertToInteractive(key) {\n",
       "          const element = document.querySelector('#df-794ae157-0540-48d1-9442-5b9e275f5de6');\n",
       "          const dataTable =\n",
       "            await google.colab.kernel.invokeFunction('convertToInteractive',\n",
       "                                                     [key], {});\n",
       "          if (!dataTable) return;\n",
       "\n",
       "          const docLinkHtml = 'Like what you see? Visit the ' +\n",
       "            '<a target=\"_blank\" href=https://colab.research.google.com/notebooks/data_table.ipynb>data table notebook</a>'\n",
       "            + ' to learn more about interactive tables.';\n",
       "          element.innerHTML = '';\n",
       "          dataTable['output_type'] = 'display_data';\n",
       "          await google.colab.output.renderOutput(dataTable, element);\n",
       "          const docLink = document.createElement('div');\n",
       "          docLink.innerHTML = docLinkHtml;\n",
       "          element.appendChild(docLink);\n",
       "        }\n",
       "      </script>\n",
       "    </div>\n",
       "  </div>\n",
       "  "
      ],
      "text/plain": [
       "                     num_orders  dayofweek  hour  lag_1  lag_2  lag_3  lag_4  \\\n",
       "datetime                                                                       \n",
       "2018-03-01 00:00:00         124          3     0    NaN    NaN    NaN    NaN   \n",
       "2018-03-01 01:00:00          85          3     1  124.0    NaN    NaN    NaN   \n",
       "2018-03-01 02:00:00          71          3     2   85.0  124.0    NaN    NaN   \n",
       "2018-03-01 03:00:00          66          3     3   71.0   85.0  124.0    NaN   \n",
       "2018-03-01 04:00:00          43          3     4   66.0   71.0   85.0  124.0   \n",
       "\n",
       "                     lag_5  lag_6  lag_7  ...  lag_16  lag_17  lag_18  lag_19  \\\n",
       "datetime                                  ...                                   \n",
       "2018-03-01 00:00:00    NaN    NaN    NaN  ...     NaN     NaN     NaN     NaN   \n",
       "2018-03-01 01:00:00    NaN    NaN    NaN  ...     NaN     NaN     NaN     NaN   \n",
       "2018-03-01 02:00:00    NaN    NaN    NaN  ...     NaN     NaN     NaN     NaN   \n",
       "2018-03-01 03:00:00    NaN    NaN    NaN  ...     NaN     NaN     NaN     NaN   \n",
       "2018-03-01 04:00:00    NaN    NaN    NaN  ...     NaN     NaN     NaN     NaN   \n",
       "\n",
       "                     lag_20  lag_21  lag_22  lag_23  lag_24  rolling_mean  \n",
       "datetime                                                                   \n",
       "2018-03-01 00:00:00     NaN     NaN     NaN     NaN     NaN           NaN  \n",
       "2018-03-01 01:00:00     NaN     NaN     NaN     NaN     NaN           NaN  \n",
       "2018-03-01 02:00:00     NaN     NaN     NaN     NaN     NaN           NaN  \n",
       "2018-03-01 03:00:00     NaN     NaN     NaN     NaN     NaN           NaN  \n",
       "2018-03-01 04:00:00     NaN     NaN     NaN     NaN     NaN           NaN  \n",
       "\n",
       "[5 rows x 28 columns]"
      ]
     },
     "execution_count": 18,
     "metadata": {},
     "output_type": "execute_result"
    }
   ],
   "source": [
    "make_features(data,24,6)\n",
    "data.head()"
   ]
  },
  {
   "cell_type": "code",
   "execution_count": 19,
   "metadata": {
    "colab": {
     "base_uri": "https://localhost:8080/",
     "height": 298
    },
    "id": "_ZENp3Y3MBPJ",
    "outputId": "bd037767-c015-4825-b8db-f5500d7b1e2c"
   },
   "outputs": [
    {
     "data": {
      "text/plain": [
       "<Axes: xlabel='num_orders', ylabel='Count'>"
      ]
     },
     "execution_count": 19,
     "metadata": {},
     "output_type": "execute_result"
    },
    {
     "data": {
      "image/png": "[encoded data removed]",
      "text/plain": [
       "<Figure size 432x288 with 1 Axes>"
      ]
     },
     "metadata": {
      "needs_background": "light"
     },
     "output_type": "display_data"
    }
   ],
   "source": [
    "#распределение зависимой переменной\n",
    "sns.histplot(data['num_orders'])"
   ]
  },
  {
   "cell_type": "code",
   "execution_count": 20,
   "metadata": {
    "colab": {
     "base_uri": "https://localhost:8080/"
    },
    "id": "uWJmJ71UMBPJ",
    "outputId": "30ad9050-0c6b-4b30-b5f9-b6c143f2ab22"
   },
   "outputs": [
    {
     "data": {
      "text/plain": [
       "count    4416.000000\n",
       "mean       84.422781\n",
       "std        45.023853\n",
       "min         0.000000\n",
       "25%        54.000000\n",
       "50%        78.000000\n",
       "75%       107.000000\n",
       "max       462.000000\n",
       "Name: num_orders, dtype: float64"
      ]
     },
     "execution_count": 20,
     "metadata": {},
     "output_type": "execute_result"
    }
   ],
   "source": [
    "data['num_orders'].describe()"
   ]
  },
  {
   "cell_type": "code",
   "execution_count": 21,
   "metadata": {
    "colab": {
     "base_uri": "https://localhost:8080/",
     "height": 309
    },
    "id": "-v4KUNAQMBPJ",
    "outputId": "61d8f005-b59e-4eb7-c7ce-142654621c0d",
    "scrolled": true
   },
   "outputs": [
    {
     "data": {
      "text/plain": [
       "<Axes: xlabel='datetime'>"
      ]
     },
     "execution_count": 21,
     "metadata": {},
     "output_type": "execute_result"
    },
    {
     "data": {
      "image/png": "[encoded data removed]",
      "text/plain": [
       "<Figure size 432x288 with 1 Axes>"
      ]
     },
     "metadata": {
      "needs_background": "light"
     },
     "output_type": "display_data"
    }
   ],
   "source": [
    "#распределение количества заказов по времени\n",
    "data['num_orders'].plot()"
   ]
  },
  {
   "cell_type": "code",
   "execution_count": 22,
   "metadata": {
    "colab": {
     "base_uri": "https://localhost:8080/",
     "height": 309
    },
    "id": "iJ1a_jAEMBPJ",
    "outputId": "8eb6ba52-0427-4b22-95b3-22b2267ffffb"
   },
   "outputs": [
    {
     "data": {
      "text/plain": [
       "<Axes: xlabel='datetime'>"
      ]
     },
     "execution_count": 22,
     "metadata": {},
     "output_type": "execute_result"
    },
    {
     "data": {
      "image/png": "[encoded data removed]",
      "text/plain": [
       "<Figure size 432x288 with 1 Axes>"
      ]
     },
     "metadata": {
      "needs_background": "light"
     },
     "output_type": "display_data"
    }
   ],
   "source": [
    "#сглаженное распределение количества заказов\n",
    "data['rolling_mean'].plot()"
   ]
  },
  {
   "cell_type": "code",
   "execution_count": 23,
   "metadata": {
    "colab": {
     "base_uri": "https://localhost:8080/",
     "height": 394
    },
    "id": "AwktaWlpMBPK",
    "outputId": "b33f28bd-a706-40e5-d9e5-0595ad91005e"
   },
   "outputs": [
    {
     "data": {
      "text/html": [
       "\n",
       "  <div id=\"df-9ae6a49a-a510-4414-8b1e-469b45089f1c\">\n",
       "    <div class=\"colab-df-container\">\n",
       "      <div>\n",
       "<style scoped>\n",
       "    .dataframe tbody tr th:only-of-type {\n",
       "        vertical-align: middle;\n",
       "    }\n",
       "\n",
       "    .dataframe tbody tr th {\n",
       "        vertical-align: top;\n",
       "    }\n",
       "\n",
       "    .dataframe thead th {\n",
       "        text-align: right;\n",
       "    }\n",
       "</style>\n",
       "<table border=\"1\" class=\"dataframe\">\n",
       "  <thead>\n",
       "    <tr style=\"text-align: right;\">\n",
       "      <th></th>\n",
       "      <th>num_orders</th>\n",
       "      <th>dayofweek</th>\n",
       "      <th>hour</th>\n",
       "      <th>lag_1</th>\n",
       "      <th>lag_2</th>\n",
       "      <th>lag_3</th>\n",
       "      <th>lag_4</th>\n",
       "      <th>lag_5</th>\n",
       "      <th>lag_6</th>\n",
       "      <th>lag_7</th>\n",
       "      <th>...</th>\n",
       "      <th>lag_16</th>\n",
       "      <th>lag_17</th>\n",
       "      <th>lag_18</th>\n",
       "      <th>lag_19</th>\n",
       "      <th>lag_20</th>\n",
       "      <th>lag_21</th>\n",
       "      <th>lag_22</th>\n",
       "      <th>lag_23</th>\n",
       "      <th>lag_24</th>\n",
       "      <th>rolling_mean</th>\n",
       "    </tr>\n",
       "  </thead>\n",
       "  <tbody>\n",
       "    <tr>\n",
       "      <th>count</th>\n",
       "      <td>4416.000000</td>\n",
       "      <td>4416.000000</td>\n",
       "      <td>4416.00000</td>\n",
       "      <td>4415.000000</td>\n",
       "      <td>4414.000000</td>\n",
       "      <td>4413.000000</td>\n",
       "      <td>4412.000000</td>\n",
       "      <td>4411.000000</td>\n",
       "      <td>4410.000000</td>\n",
       "      <td>4409.000000</td>\n",
       "      <td>...</td>\n",
       "      <td>4400.000000</td>\n",
       "      <td>4399.000000</td>\n",
       "      <td>4398.000000</td>\n",
       "      <td>4397.000000</td>\n",
       "      <td>4396.000000</td>\n",
       "      <td>4395.000000</td>\n",
       "      <td>4394.000000</td>\n",
       "      <td>4393.000000</td>\n",
       "      <td>4392.000000</td>\n",
       "      <td>4410.000000</td>\n",
       "    </tr>\n",
       "    <tr>\n",
       "      <th>mean</th>\n",
       "      <td>84.422781</td>\n",
       "      <td>3.005435</td>\n",
       "      <td>11.50000</td>\n",
       "      <td>84.395470</td>\n",
       "      <td>84.364069</td>\n",
       "      <td>84.347156</td>\n",
       "      <td>84.331369</td>\n",
       "      <td>84.319655</td>\n",
       "      <td>84.291837</td>\n",
       "      <td>84.261737</td>\n",
       "      <td>...</td>\n",
       "      <td>84.095227</td>\n",
       "      <td>84.103887</td>\n",
       "      <td>84.115052</td>\n",
       "      <td>84.116443</td>\n",
       "      <td>84.074613</td>\n",
       "      <td>84.071217</td>\n",
       "      <td>84.038006</td>\n",
       "      <td>84.012975</td>\n",
       "      <td>83.969262</td>\n",
       "      <td>84.338473</td>\n",
       "    </tr>\n",
       "    <tr>\n",
       "      <th>std</th>\n",
       "      <td>45.023853</td>\n",
       "      <td>1.990684</td>\n",
       "      <td>6.92297</td>\n",
       "      <td>44.992356</td>\n",
       "      <td>44.949043</td>\n",
       "      <td>44.940088</td>\n",
       "      <td>44.932942</td>\n",
       "      <td>44.931299</td>\n",
       "      <td>44.898387</td>\n",
       "      <td>44.858959</td>\n",
       "      <td>...</td>\n",
       "      <td>44.733738</td>\n",
       "      <td>44.735135</td>\n",
       "      <td>44.734091</td>\n",
       "      <td>44.739084</td>\n",
       "      <td>44.658098</td>\n",
       "      <td>44.662612</td>\n",
       "      <td>44.613388</td>\n",
       "      <td>44.587597</td>\n",
       "      <td>44.498432</td>\n",
       "      <td>32.925423</td>\n",
       "    </tr>\n",
       "    <tr>\n",
       "      <th>min</th>\n",
       "      <td>0.000000</td>\n",
       "      <td>0.000000</td>\n",
       "      <td>0.00000</td>\n",
       "      <td>0.000000</td>\n",
       "      <td>0.000000</td>\n",
       "      <td>0.000000</td>\n",
       "      <td>0.000000</td>\n",
       "      <td>0.000000</td>\n",
       "      <td>0.000000</td>\n",
       "      <td>0.000000</td>\n",
       "      <td>...</td>\n",
       "      <td>0.000000</td>\n",
       "      <td>0.000000</td>\n",
       "      <td>0.000000</td>\n",
       "      <td>0.000000</td>\n",
       "      <td>0.000000</td>\n",
       "      <td>0.000000</td>\n",
       "      <td>0.000000</td>\n",
       "      <td>0.000000</td>\n",
       "      <td>0.000000</td>\n",
       "      <td>18.500000</td>\n",
       "    </tr>\n",
       "    <tr>\n",
       "      <th>25%</th>\n",
       "      <td>54.000000</td>\n",
       "      <td>1.000000</td>\n",
       "      <td>5.75000</td>\n",
       "      <td>54.000000</td>\n",
       "      <td>54.000000</td>\n",
       "      <td>54.000000</td>\n",
       "      <td>54.000000</td>\n",
       "      <td>54.000000</td>\n",
       "      <td>54.000000</td>\n",
       "      <td>54.000000</td>\n",
       "      <td>...</td>\n",
       "      <td>54.000000</td>\n",
       "      <td>54.000000</td>\n",
       "      <td>54.000000</td>\n",
       "      <td>54.000000</td>\n",
       "      <td>54.000000</td>\n",
       "      <td>54.000000</td>\n",
       "      <td>54.000000</td>\n",
       "      <td>54.000000</td>\n",
       "      <td>54.000000</td>\n",
       "      <td>61.875000</td>\n",
       "    </tr>\n",
       "    <tr>\n",
       "      <th>50%</th>\n",
       "      <td>78.000000</td>\n",
       "      <td>3.000000</td>\n",
       "      <td>11.50000</td>\n",
       "      <td>78.000000</td>\n",
       "      <td>78.000000</td>\n",
       "      <td>78.000000</td>\n",
       "      <td>78.000000</td>\n",
       "      <td>78.000000</td>\n",
       "      <td>78.000000</td>\n",
       "      <td>78.000000</td>\n",
       "      <td>...</td>\n",
       "      <td>78.000000</td>\n",
       "      <td>78.000000</td>\n",
       "      <td>78.000000</td>\n",
       "      <td>78.000000</td>\n",
       "      <td>78.000000</td>\n",
       "      <td>78.000000</td>\n",
       "      <td>78.000000</td>\n",
       "      <td>78.000000</td>\n",
       "      <td>78.000000</td>\n",
       "      <td>79.000000</td>\n",
       "    </tr>\n",
       "    <tr>\n",
       "      <th>75%</th>\n",
       "      <td>107.000000</td>\n",
       "      <td>5.000000</td>\n",
       "      <td>17.25000</td>\n",
       "      <td>107.000000</td>\n",
       "      <td>107.000000</td>\n",
       "      <td>107.000000</td>\n",
       "      <td>107.000000</td>\n",
       "      <td>107.000000</td>\n",
       "      <td>107.000000</td>\n",
       "      <td>107.000000</td>\n",
       "      <td>...</td>\n",
       "      <td>107.000000</td>\n",
       "      <td>107.000000</td>\n",
       "      <td>107.000000</td>\n",
       "      <td>107.000000</td>\n",
       "      <td>107.000000</td>\n",
       "      <td>107.000000</td>\n",
       "      <td>107.000000</td>\n",
       "      <td>107.000000</td>\n",
       "      <td>107.000000</td>\n",
       "      <td>102.166667</td>\n",
       "    </tr>\n",
       "    <tr>\n",
       "      <th>max</th>\n",
       "      <td>462.000000</td>\n",
       "      <td>6.000000</td>\n",
       "      <td>23.00000</td>\n",
       "      <td>462.000000</td>\n",
       "      <td>462.000000</td>\n",
       "      <td>462.000000</td>\n",
       "      <td>462.000000</td>\n",
       "      <td>462.000000</td>\n",
       "      <td>462.000000</td>\n",
       "      <td>462.000000</td>\n",
       "      <td>...</td>\n",
       "      <td>462.000000</td>\n",
       "      <td>462.000000</td>\n",
       "      <td>462.000000</td>\n",
       "      <td>462.000000</td>\n",
       "      <td>462.000000</td>\n",
       "      <td>462.000000</td>\n",
       "      <td>462.000000</td>\n",
       "      <td>462.000000</td>\n",
       "      <td>462.000000</td>\n",
       "      <td>272.333333</td>\n",
       "    </tr>\n",
       "  </tbody>\n",
       "</table>\n",
       "<p>8 rows × 28 columns</p>\n",
       "</div>\n",
       "      <button class=\"colab-df-convert\" onclick=\"convertToInteractive('df-9ae6a49a-a510-4414-8b1e-469b45089f1c')\"\n",
       "              title=\"Convert this dataframe to an interactive table.\"\n",
       "              style=\"display:none;\">\n",
       "        \n",
       "  <svg xmlns=\"http://www.w3.org/2000/svg\" height=\"24px\"viewBox=\"0 0 24 24\"\n",
       "       width=\"24px\">\n",
       "    <path d=\"M0 0h24v24H0V0z\" fill=\"none\"/>\n",
       "    <path d=\"M18.56 5.44l.94 2.06.94-2.06 2.06-.94-2.06-.94-.94-2.06-.94 2.06-2.06.94zm-11 1L8.5 8.5l.94-2.06 2.06-.94-2.06-.94L8.5 2.5l-.94 2.06-2.06.94zm10 10l.94 2.06.94-2.06 2.06-.94-2.06-.94-.94-2.06-.94 2.06-2.06.94z\"/><path d=\"M17.41 7.96l-1.37-1.37c-.4-.4-.92-.59-1.43-.59-.52 0-1.04.2-1.43.59L10.3 9.45l-7.72 7.72c-.78.78-.78 2.05 0 2.83L4 21.41c.39.39.9.59 1.41.59.51 0 1.02-.2 1.41-.59l7.78-7.78 2.81-2.81c.8-.78.8-2.07 0-2.86zM5.41 20L4 18.59l7.72-7.72 1.47 1.35L5.41 20z\"/>\n",
       "  </svg>\n",
       "      </button>\n",
       "      \n",
       "  <style>\n",
       "    .colab-df-container {\n",
       "      display:flex;\n",
       "      flex-wrap:wrap;\n",
       "      gap: 12px;\n",
       "    }\n",
       "\n",
       "    .colab-df-convert {\n",
       "      background-color: #E8F0FE;\n",
       "      border: none;\n",
       "      border-radius: 50%;\n",
       "      cursor: pointer;\n",
       "      display: none;\n",
       "      fill: #1967D2;\n",
       "      height: 32px;\n",
       "      padding: 0 0 0 0;\n",
       "      width: 32px;\n",
       "    }\n",
       "\n",
       "    .colab-df-convert:hover {\n",
       "      background-color: #E2EBFA;\n",
       "      box-shadow: 0px 1px 2px rgba(60, 64, 67, 0.3), 0px 1px 3px 1px rgba(60, 64, 67, 0.15);\n",
       "      fill: #174EA6;\n",
       "    }\n",
       "\n",
       "    [theme=dark] .colab-df-convert {\n",
       "      background-color: #3B4455;\n",
       "      fill: #D2E3FC;\n",
       "    }\n",
       "\n",
       "    [theme=dark] .colab-df-convert:hover {\n",
       "      background-color: #434B5C;\n",
       "      box-shadow: 0px 1px 3px 1px rgba(0, 0, 0, 0.15);\n",
       "      filter: drop-shadow(0px 1px 2px rgba(0, 0, 0, 0.3));\n",
       "      fill: #FFFFFF;\n",
       "    }\n",
       "  </style>\n",
       "\n",
       "      <script>\n",
       "        const buttonEl =\n",
       "          document.querySelector('#df-9ae6a49a-a510-4414-8b1e-469b45089f1c button.colab-df-convert');\n",
       "        buttonEl.style.display =\n",
       "          google.colab.kernel.accessAllowed ? 'block' : 'none';\n",
       "\n",
       "        async function convertToInteractive(key) {\n",
       "          const element = document.querySelector('#df-9ae6a49a-a510-4414-8b1e-469b45089f1c');\n",
       "          const dataTable =\n",
       "            await google.colab.kernel.invokeFunction('convertToInteractive',\n",
       "                                                     [key], {});\n",
       "          if (!dataTable) return;\n",
       "\n",
       "          const docLinkHtml = 'Like what you see? Visit the ' +\n",
       "            '<a target=\"_blank\" href=https://colab.research.google.com/notebooks/data_table.ipynb>data table notebook</a>'\n",
       "            + ' to learn more about interactive tables.';\n",
       "          element.innerHTML = '';\n",
       "          dataTable['output_type'] = 'display_data';\n",
       "          await google.colab.output.renderOutput(dataTable, element);\n",
       "          const docLink = document.createElement('div');\n",
       "          docLink.innerHTML = docLinkHtml;\n",
       "          element.appendChild(docLink);\n",
       "        }\n",
       "      </script>\n",
       "    </div>\n",
       "  </div>\n",
       "  "
      ],
      "text/plain": [
       "        num_orders    dayofweek        hour        lag_1        lag_2  \\\n",
       "count  4416.000000  4416.000000  4416.00000  4415.000000  4414.000000   \n",
       "mean     84.422781     3.005435    11.50000    84.395470    84.364069   \n",
       "std      45.023853     1.990684     6.92297    44.992356    44.949043   \n",
       "min       0.000000     0.000000     0.00000     0.000000     0.000000   \n",
       "25%      54.000000     1.000000     5.75000    54.000000    54.000000   \n",
       "50%      78.000000     3.000000    11.50000    78.000000    78.000000   \n",
       "75%     107.000000     5.000000    17.25000   107.000000   107.000000   \n",
       "max     462.000000     6.000000    23.00000   462.000000   462.000000   \n",
       "\n",
       "             lag_3        lag_4        lag_5        lag_6        lag_7  ...  \\\n",
       "count  4413.000000  4412.000000  4411.000000  4410.000000  4409.000000  ...   \n",
       "mean     84.347156    84.331369    84.319655    84.291837    84.261737  ...   \n",
       "std      44.940088    44.932942    44.931299    44.898387    44.858959  ...   \n",
       "min       0.000000     0.000000     0.000000     0.000000     0.000000  ...   \n",
       "25%      54.000000    54.000000    54.000000    54.000000    54.000000  ...   \n",
       "50%      78.000000    78.000000    78.000000    78.000000    78.000000  ...   \n",
       "75%     107.000000   107.000000   107.000000   107.000000   107.000000  ...   \n",
       "max     462.000000   462.000000   462.000000   462.000000   462.000000  ...   \n",
       "\n",
       "            lag_16       lag_17       lag_18       lag_19       lag_20  \\\n",
       "count  4400.000000  4399.000000  4398.000000  4397.000000  4396.000000   \n",
       "mean     84.095227    84.103887    84.115052    84.116443    84.074613   \n",
       "std      44.733738    44.735135    44.734091    44.739084    44.658098   \n",
       "min       0.000000     0.000000     0.000000     0.000000     0.000000   \n",
       "25%      54.000000    54.000000    54.000000    54.000000    54.000000   \n",
       "50%      78.000000    78.000000    78.000000    78.000000    78.000000   \n",
       "75%     107.000000   107.000000   107.000000   107.000000   107.000000   \n",
       "max     462.000000   462.000000   462.000000   462.000000   462.000000   \n",
       "\n",
       "            lag_21       lag_22       lag_23       lag_24  rolling_mean  \n",
       "count  4395.000000  4394.000000  4393.000000  4392.000000   4410.000000  \n",
       "mean     84.071217    84.038006    84.012975    83.969262     84.338473  \n",
       "std      44.662612    44.613388    44.587597    44.498432     32.925423  \n",
       "min       0.000000     0.000000     0.000000     0.000000     18.500000  \n",
       "25%      54.000000    54.000000    54.000000    54.000000     61.875000  \n",
       "50%      78.000000    78.000000    78.000000    78.000000     79.000000  \n",
       "75%     107.000000   107.000000   107.000000   107.000000    102.166667  \n",
       "max     462.000000   462.000000   462.000000   462.000000    272.333333  \n",
       "\n",
       "[8 rows x 28 columns]"
      ]
     },
     "execution_count": 23,
     "metadata": {},
     "output_type": "execute_result"
    }
   ],
   "source": [
    "data.describe()"
   ]
  },
  {
   "cell_type": "markdown",
   "metadata": {
    "id": "QdZ2CUWnV1JO"
   },
   "source": [
    "Переменный имеют различный масштаб, для первичного моделирования мы не будем применять масштабирование переменных, однако потенциально можем изменить масштаб для будущих моделей"
   ]
  },
  {
   "cell_type": "markdown",
   "metadata": {
    "id": "5XZZw98SMBPK"
   },
   "source": [
    "### Проверка на мультиколлинеарность"
   ]
  },
  {
   "cell_type": "code",
   "execution_count": 24,
   "metadata": {
    "colab": {
     "base_uri": "https://localhost:8080/",
     "height": 1000
    },
    "id": "_O4vFwn0MBPK",
    "outputId": "aae415bc-741a-4ff0-a30c-04a7c0027ddf"
   },
   "outputs": [
    {
     "data": {
      "text/html": [
       "\n",
       "  <div id=\"df-42fbe3ee-aadd-4f5a-9115-ed015618a52c\">\n",
       "    <div class=\"colab-df-container\">\n",
       "      <div>\n",
       "<style scoped>\n",
       "    .dataframe tbody tr th:only-of-type {\n",
       "        vertical-align: middle;\n",
       "    }\n",
       "\n",
       "    .dataframe tbody tr th {\n",
       "        vertical-align: top;\n",
       "    }\n",
       "\n",
       "    .dataframe thead th {\n",
       "        text-align: right;\n",
       "    }\n",
       "</style>\n",
       "<table border=\"1\" class=\"dataframe\">\n",
       "  <thead>\n",
       "    <tr style=\"text-align: right;\">\n",
       "      <th></th>\n",
       "      <th>num_orders</th>\n",
       "      <th>dayofweek</th>\n",
       "      <th>hour</th>\n",
       "      <th>lag_1</th>\n",
       "      <th>lag_2</th>\n",
       "      <th>lag_3</th>\n",
       "      <th>lag_4</th>\n",
       "      <th>lag_5</th>\n",
       "      <th>lag_6</th>\n",
       "      <th>lag_7</th>\n",
       "      <th>...</th>\n",
       "      <th>lag_16</th>\n",
       "      <th>lag_17</th>\n",
       "      <th>lag_18</th>\n",
       "      <th>lag_19</th>\n",
       "      <th>lag_20</th>\n",
       "      <th>lag_21</th>\n",
       "      <th>lag_22</th>\n",
       "      <th>lag_23</th>\n",
       "      <th>lag_24</th>\n",
       "      <th>rolling_mean</th>\n",
       "    </tr>\n",
       "  </thead>\n",
       "  <tbody>\n",
       "    <tr>\n",
       "      <th>num_orders</th>\n",
       "      <td>1.000000</td>\n",
       "      <td>-1.962844e-02</td>\n",
       "      <td>4.292046e-03</td>\n",
       "      <td>0.624138</td>\n",
       "      <td>0.465444</td>\n",
       "      <td>0.321173</td>\n",
       "      <td>0.248791</td>\n",
       "      <td>0.230489</td>\n",
       "      <td>0.238449</td>\n",
       "      <td>0.291733</td>\n",
       "      <td>...</td>\n",
       "      <td>0.273940</td>\n",
       "      <td>0.257664</td>\n",
       "      <td>0.212274</td>\n",
       "      <td>0.198663</td>\n",
       "      <td>0.219707</td>\n",
       "      <td>0.267113</td>\n",
       "      <td>0.406759</td>\n",
       "      <td>0.556994</td>\n",
       "      <td>0.691576</td>\n",
       "      <td>0.484648</td>\n",
       "    </tr>\n",
       "    <tr>\n",
       "      <th>dayofweek</th>\n",
       "      <td>-0.019628</td>\n",
       "      <td>1.000000e+00</td>\n",
       "      <td>2.160411e-18</td>\n",
       "      <td>-0.027331</td>\n",
       "      <td>-0.029567</td>\n",
       "      <td>-0.029056</td>\n",
       "      <td>-0.028695</td>\n",
       "      <td>-0.028752</td>\n",
       "      <td>-0.026911</td>\n",
       "      <td>-0.026913</td>\n",
       "      <td>...</td>\n",
       "      <td>-0.005003</td>\n",
       "      <td>-0.002608</td>\n",
       "      <td>-0.000616</td>\n",
       "      <td>-0.001592</td>\n",
       "      <td>0.000121</td>\n",
       "      <td>0.000522</td>\n",
       "      <td>0.011789</td>\n",
       "      <td>0.021074</td>\n",
       "      <td>0.030720</td>\n",
       "      <td>-0.038755</td>\n",
       "    </tr>\n",
       "    <tr>\n",
       "      <th>hour</th>\n",
       "      <td>0.004292</td>\n",
       "      <td>2.160411e-18</td>\n",
       "      <td>1.000000e+00</td>\n",
       "      <td>-0.076112</td>\n",
       "      <td>-0.120424</td>\n",
       "      <td>-0.154777</td>\n",
       "      <td>-0.146248</td>\n",
       "      <td>-0.123327</td>\n",
       "      <td>-0.074180</td>\n",
       "      <td>-0.100352</td>\n",
       "      <td>...</td>\n",
       "      <td>-0.080903</td>\n",
       "      <td>0.096427</td>\n",
       "      <td>0.287042</td>\n",
       "      <td>0.421498</td>\n",
       "      <td>0.414856</td>\n",
       "      <td>0.356750</td>\n",
       "      <td>0.264147</td>\n",
       "      <td>0.199136</td>\n",
       "      <td>0.004107</td>\n",
       "      <td>-0.158072</td>\n",
       "    </tr>\n",
       "    <tr>\n",
       "      <th>lag_1</th>\n",
       "      <td>0.624138</td>\n",
       "      <td>-2.733141e-02</td>\n",
       "      <td>-7.611189e-02</td>\n",
       "      <td>1.000000</td>\n",
       "      <td>0.623446</td>\n",
       "      <td>0.464959</td>\n",
       "      <td>0.320580</td>\n",
       "      <td>0.248332</td>\n",
       "      <td>0.229212</td>\n",
       "      <td>0.237082</td>\n",
       "      <td>...</td>\n",
       "      <td>0.236406</td>\n",
       "      <td>0.274704</td>\n",
       "      <td>0.258578</td>\n",
       "      <td>0.212530</td>\n",
       "      <td>0.196700</td>\n",
       "      <td>0.219685</td>\n",
       "      <td>0.265663</td>\n",
       "      <td>0.405869</td>\n",
       "      <td>0.555999</td>\n",
       "      <td>0.657145</td>\n",
       "    </tr>\n",
       "    <tr>\n",
       "      <th>lag_2</th>\n",
       "      <td>0.465444</td>\n",
       "      <td>-2.956675e-02</td>\n",
       "      <td>-1.204245e-01</td>\n",
       "      <td>0.623446</td>\n",
       "      <td>1.000000</td>\n",
       "      <td>0.623151</td>\n",
       "      <td>0.464503</td>\n",
       "      <td>0.320169</td>\n",
       "      <td>0.246899</td>\n",
       "      <td>0.227617</td>\n",
       "      <td>...</td>\n",
       "      <td>0.257357</td>\n",
       "      <td>0.237277</td>\n",
       "      <td>0.275808</td>\n",
       "      <td>0.258953</td>\n",
       "      <td>0.210283</td>\n",
       "      <td>0.196681</td>\n",
       "      <td>0.217897</td>\n",
       "      <td>0.264405</td>\n",
       "      <td>0.404142</td>\n",
       "      <td>0.746109</td>\n",
       "    </tr>\n",
       "    <tr>\n",
       "      <th>lag_3</th>\n",
       "      <td>0.321173</td>\n",
       "      <td>-2.905576e-02</td>\n",
       "      <td>-1.547765e-01</td>\n",
       "      <td>0.464959</td>\n",
       "      <td>0.623151</td>\n",
       "      <td>1.000000</td>\n",
       "      <td>0.622932</td>\n",
       "      <td>0.464285</td>\n",
       "      <td>0.319511</td>\n",
       "      <td>0.246106</td>\n",
       "      <td>...</td>\n",
       "      <td>0.311007</td>\n",
       "      <td>0.257780</td>\n",
       "      <td>0.237798</td>\n",
       "      <td>0.275946</td>\n",
       "      <td>0.257980</td>\n",
       "      <td>0.210226</td>\n",
       "      <td>0.195747</td>\n",
       "      <td>0.217185</td>\n",
       "      <td>0.263419</td>\n",
       "      <td>0.795296</td>\n",
       "    </tr>\n",
       "    <tr>\n",
       "      <th>lag_4</th>\n",
       "      <td>0.248791</td>\n",
       "      <td>-2.869538e-02</td>\n",
       "      <td>-1.462479e-01</td>\n",
       "      <td>0.320580</td>\n",
       "      <td>0.464503</td>\n",
       "      <td>0.622932</td>\n",
       "      <td>1.000000</td>\n",
       "      <td>0.622791</td>\n",
       "      <td>0.463843</td>\n",
       "      <td>0.318875</td>\n",
       "      <td>...</td>\n",
       "      <td>0.329509</td>\n",
       "      <td>0.311417</td>\n",
       "      <td>0.258272</td>\n",
       "      <td>0.237911</td>\n",
       "      <td>0.275103</td>\n",
       "      <td>0.257936</td>\n",
       "      <td>0.209387</td>\n",
       "      <td>0.195068</td>\n",
       "      <td>0.216184</td>\n",
       "      <td>0.795138</td>\n",
       "    </tr>\n",
       "    <tr>\n",
       "      <th>lag_5</th>\n",
       "      <td>0.230489</td>\n",
       "      <td>-2.875218e-02</td>\n",
       "      <td>-1.233272e-01</td>\n",
       "      <td>0.248332</td>\n",
       "      <td>0.320169</td>\n",
       "      <td>0.464285</td>\n",
       "      <td>0.622791</td>\n",
       "      <td>1.000000</td>\n",
       "      <td>0.622699</td>\n",
       "      <td>0.463602</td>\n",
       "      <td>...</td>\n",
       "      <td>0.315145</td>\n",
       "      <td>0.329808</td>\n",
       "      <td>0.311793</td>\n",
       "      <td>0.258347</td>\n",
       "      <td>0.237330</td>\n",
       "      <td>0.275061</td>\n",
       "      <td>0.257434</td>\n",
       "      <td>0.208919</td>\n",
       "      <td>0.194383</td>\n",
       "      <td>0.745848</td>\n",
       "    </tr>\n",
       "    <tr>\n",
       "      <th>lag_6</th>\n",
       "      <td>0.238449</td>\n",
       "      <td>-2.691094e-02</td>\n",
       "      <td>-7.417954e-02</td>\n",
       "      <td>0.229212</td>\n",
       "      <td>0.246899</td>\n",
       "      <td>0.319511</td>\n",
       "      <td>0.463843</td>\n",
       "      <td>0.622699</td>\n",
       "      <td>1.000000</td>\n",
       "      <td>0.622010</td>\n",
       "      <td>...</td>\n",
       "      <td>0.259809</td>\n",
       "      <td>0.315967</td>\n",
       "      <td>0.330815</td>\n",
       "      <td>0.312143</td>\n",
       "      <td>0.256506</td>\n",
       "      <td>0.237327</td>\n",
       "      <td>0.273596</td>\n",
       "      <td>0.256298</td>\n",
       "      <td>0.206857</td>\n",
       "      <td>0.655536</td>\n",
       "    </tr>\n",
       "    <tr>\n",
       "      <th>lag_7</th>\n",
       "      <td>0.291733</td>\n",
       "      <td>-2.691297e-02</td>\n",
       "      <td>-1.003519e-01</td>\n",
       "      <td>0.237082</td>\n",
       "      <td>0.227617</td>\n",
       "      <td>0.246106</td>\n",
       "      <td>0.318875</td>\n",
       "      <td>0.463602</td>\n",
       "      <td>0.622010</td>\n",
       "      <td>1.000000</td>\n",
       "      <td>...</td>\n",
       "      <td>0.265927</td>\n",
       "      <td>0.260662</td>\n",
       "      <td>0.317063</td>\n",
       "      <td>0.331236</td>\n",
       "      <td>0.310285</td>\n",
       "      <td>0.256539</td>\n",
       "      <td>0.235651</td>\n",
       "      <td>0.272398</td>\n",
       "      <td>0.254192</td>\n",
       "      <td>0.481147</td>\n",
       "    </tr>\n",
       "    <tr>\n",
       "      <th>lag_8</th>\n",
       "      <td>0.310036</td>\n",
       "      <td>-2.895528e-02</td>\n",
       "      <td>-1.960034e-01</td>\n",
       "      <td>0.290651</td>\n",
       "      <td>0.235748</td>\n",
       "      <td>0.226904</td>\n",
       "      <td>0.245466</td>\n",
       "      <td>0.318495</td>\n",
       "      <td>0.462768</td>\n",
       "      <td>0.621386</td>\n",
       "      <td>...</td>\n",
       "      <td>0.305306</td>\n",
       "      <td>0.266627</td>\n",
       "      <td>0.261512</td>\n",
       "      <td>0.317369</td>\n",
       "      <td>0.329758</td>\n",
       "      <td>0.310321</td>\n",
       "      <td>0.255165</td>\n",
       "      <td>0.234572</td>\n",
       "      <td>0.270702</td>\n",
       "      <td>0.404949</td>\n",
       "    </tr>\n",
       "    <tr>\n",
       "      <th>lag_9</th>\n",
       "      <td>0.270676</td>\n",
       "      <td>-3.204051e-02</td>\n",
       "      <td>-2.077349e-01</td>\n",
       "      <td>0.309875</td>\n",
       "      <td>0.290485</td>\n",
       "      <td>0.235568</td>\n",
       "      <td>0.226730</td>\n",
       "      <td>0.245332</td>\n",
       "      <td>0.318344</td>\n",
       "      <td>0.462778</td>\n",
       "      <td>...</td>\n",
       "      <td>0.286358</td>\n",
       "      <td>0.305485</td>\n",
       "      <td>0.266856</td>\n",
       "      <td>0.261550</td>\n",
       "      <td>0.317337</td>\n",
       "      <td>0.329728</td>\n",
       "      <td>0.310190</td>\n",
       "      <td>0.254959</td>\n",
       "      <td>0.234388</td>\n",
       "      <td>0.370049</td>\n",
       "    </tr>\n",
       "    <tr>\n",
       "      <th>lag_10</th>\n",
       "      <td>0.263643</td>\n",
       "      <td>-3.665555e-02</td>\n",
       "      <td>-1.780666e-01</td>\n",
       "      <td>0.270271</td>\n",
       "      <td>0.309489</td>\n",
       "      <td>0.290205</td>\n",
       "      <td>0.235281</td>\n",
       "      <td>0.226510</td>\n",
       "      <td>0.244898</td>\n",
       "      <td>0.317972</td>\n",
       "      <td>...</td>\n",
       "      <td>0.231874</td>\n",
       "      <td>0.286630</td>\n",
       "      <td>0.305839</td>\n",
       "      <td>0.266926</td>\n",
       "      <td>0.261071</td>\n",
       "      <td>0.317301</td>\n",
       "      <td>0.329364</td>\n",
       "      <td>0.309837</td>\n",
       "      <td>0.254466</td>\n",
       "      <td>0.358794</td>\n",
       "    </tr>\n",
       "    <tr>\n",
       "      <th>lag_11</th>\n",
       "      <td>0.317913</td>\n",
       "      <td>-3.575326e-02</td>\n",
       "      <td>-1.352894e-01</td>\n",
       "      <td>0.262848</td>\n",
       "      <td>0.269387</td>\n",
       "      <td>0.309015</td>\n",
       "      <td>0.289752</td>\n",
       "      <td>0.234929</td>\n",
       "      <td>0.225656</td>\n",
       "      <td>0.244008</td>\n",
       "      <td>...</td>\n",
       "      <td>0.222957</td>\n",
       "      <td>0.232334</td>\n",
       "      <td>0.287234</td>\n",
       "      <td>0.306013</td>\n",
       "      <td>0.265833</td>\n",
       "      <td>0.261034</td>\n",
       "      <td>0.316449</td>\n",
       "      <td>0.328693</td>\n",
       "      <td>0.308819</td>\n",
       "      <td>0.362234</td>\n",
       "    </tr>\n",
       "    <tr>\n",
       "      <th>lag_12</th>\n",
       "      <td>0.332466</td>\n",
       "      <td>-3.930161e-02</td>\n",
       "      <td>-8.131700e-02</td>\n",
       "      <td>0.317517</td>\n",
       "      <td>0.262362</td>\n",
       "      <td>0.269076</td>\n",
       "      <td>0.308740</td>\n",
       "      <td>0.289537</td>\n",
       "      <td>0.234447</td>\n",
       "      <td>0.225138</td>\n",
       "      <td>...</td>\n",
       "      <td>0.241750</td>\n",
       "      <td>0.223233</td>\n",
       "      <td>0.232689</td>\n",
       "      <td>0.287314</td>\n",
       "      <td>0.305567</td>\n",
       "      <td>0.265788</td>\n",
       "      <td>0.260532</td>\n",
       "      <td>0.316068</td>\n",
       "      <td>0.328305</td>\n",
       "      <td>0.382787</td>\n",
       "    </tr>\n",
       "    <tr>\n",
       "      <th>lag_13</th>\n",
       "      <td>0.313831</td>\n",
       "      <td>-2.673778e-02</td>\n",
       "      <td>-7.515823e-02</td>\n",
       "      <td>0.331742</td>\n",
       "      <td>0.316688</td>\n",
       "      <td>0.261849</td>\n",
       "      <td>0.268604</td>\n",
       "      <td>0.308423</td>\n",
       "      <td>0.288748</td>\n",
       "      <td>0.233529</td>\n",
       "      <td>...</td>\n",
       "      <td>0.315182</td>\n",
       "      <td>0.242222</td>\n",
       "      <td>0.223812</td>\n",
       "      <td>0.232837</td>\n",
       "      <td>0.286248</td>\n",
       "      <td>0.305549</td>\n",
       "      <td>0.264840</td>\n",
       "      <td>0.259776</td>\n",
       "      <td>0.315046</td>\n",
       "      <td>0.404272</td>\n",
       "    </tr>\n",
       "    <tr>\n",
       "      <th>lag_14</th>\n",
       "      <td>0.259667</td>\n",
       "      <td>-1.431765e-02</td>\n",
       "      <td>-1.032680e-01</td>\n",
       "      <td>0.312837</td>\n",
       "      <td>0.330643</td>\n",
       "      <td>0.316092</td>\n",
       "      <td>0.261250</td>\n",
       "      <td>0.268195</td>\n",
       "      <td>0.307403</td>\n",
       "      <td>0.287618</td>\n",
       "      <td>...</td>\n",
       "      <td>0.460431</td>\n",
       "      <td>0.315874</td>\n",
       "      <td>0.243007</td>\n",
       "      <td>0.224031</td>\n",
       "      <td>0.231203</td>\n",
       "      <td>0.286255</td>\n",
       "      <td>0.304343</td>\n",
       "      <td>0.263855</td>\n",
       "      <td>0.258152</td>\n",
       "      <td>0.408907</td>\n",
       "    </tr>\n",
       "    <tr>\n",
       "      <th>lag_15</th>\n",
       "      <td>0.237415</td>\n",
       "      <td>-7.909700e-03</td>\n",
       "      <td>-1.175269e-01</td>\n",
       "      <td>0.258470</td>\n",
       "      <td>0.311565</td>\n",
       "      <td>0.330010</td>\n",
       "      <td>0.315497</td>\n",
       "      <td>0.260805</td>\n",
       "      <td>0.266988</td>\n",
       "      <td>0.306170</td>\n",
       "      <td>...</td>\n",
       "      <td>0.619587</td>\n",
       "      <td>0.461353</td>\n",
       "      <td>0.316834</td>\n",
       "      <td>0.243285</td>\n",
       "      <td>0.222155</td>\n",
       "      <td>0.231189</td>\n",
       "      <td>0.284857</td>\n",
       "      <td>0.303307</td>\n",
       "      <td>0.262017</td>\n",
       "      <td>0.396820</td>\n",
       "    </tr>\n",
       "    <tr>\n",
       "      <th>lag_16</th>\n",
       "      <td>0.273940</td>\n",
       "      <td>-5.002689e-03</td>\n",
       "      <td>-8.090284e-02</td>\n",
       "      <td>0.236406</td>\n",
       "      <td>0.257357</td>\n",
       "      <td>0.311007</td>\n",
       "      <td>0.329509</td>\n",
       "      <td>0.315145</td>\n",
       "      <td>0.259809</td>\n",
       "      <td>0.265927</td>\n",
       "      <td>...</td>\n",
       "      <td>1.000000</td>\n",
       "      <td>0.620399</td>\n",
       "      <td>0.462213</td>\n",
       "      <td>0.317075</td>\n",
       "      <td>0.241837</td>\n",
       "      <td>0.222113</td>\n",
       "      <td>0.229967</td>\n",
       "      <td>0.283980</td>\n",
       "      <td>0.301965</td>\n",
       "      <td>0.389049</td>\n",
       "    </tr>\n",
       "    <tr>\n",
       "      <th>lag_17</th>\n",
       "      <td>0.257664</td>\n",
       "      <td>-2.608200e-03</td>\n",
       "      <td>9.642723e-02</td>\n",
       "      <td>0.274704</td>\n",
       "      <td>0.237277</td>\n",
       "      <td>0.257780</td>\n",
       "      <td>0.311417</td>\n",
       "      <td>0.329808</td>\n",
       "      <td>0.315967</td>\n",
       "      <td>0.260662</td>\n",
       "      <td>...</td>\n",
       "      <td>0.620399</td>\n",
       "      <td>1.000000</td>\n",
       "      <td>0.620323</td>\n",
       "      <td>0.462226</td>\n",
       "      <td>0.318510</td>\n",
       "      <td>0.241925</td>\n",
       "      <td>0.223036</td>\n",
       "      <td>0.230624</td>\n",
       "      <td>0.285443</td>\n",
       "      <td>0.393083</td>\n",
       "    </tr>\n",
       "    <tr>\n",
       "      <th>lag_18</th>\n",
       "      <td>0.212274</td>\n",
       "      <td>-6.161722e-04</td>\n",
       "      <td>2.870423e-01</td>\n",
       "      <td>0.258578</td>\n",
       "      <td>0.275808</td>\n",
       "      <td>0.237798</td>\n",
       "      <td>0.258272</td>\n",
       "      <td>0.311793</td>\n",
       "      <td>0.330815</td>\n",
       "      <td>0.317063</td>\n",
       "      <td>...</td>\n",
       "      <td>0.462213</td>\n",
       "      <td>0.620323</td>\n",
       "      <td>1.000000</td>\n",
       "      <td>0.620375</td>\n",
       "      <td>0.464209</td>\n",
       "      <td>0.318641</td>\n",
       "      <td>0.243070</td>\n",
       "      <td>0.223837</td>\n",
       "      <td>0.232224</td>\n",
       "      <td>0.380822</td>\n",
       "    </tr>\n",
       "    <tr>\n",
       "      <th>lag_19</th>\n",
       "      <td>0.198663</td>\n",
       "      <td>-1.592405e-03</td>\n",
       "      <td>4.214977e-01</td>\n",
       "      <td>0.212530</td>\n",
       "      <td>0.258953</td>\n",
       "      <td>0.275946</td>\n",
       "      <td>0.237911</td>\n",
       "      <td>0.258347</td>\n",
       "      <td>0.312143</td>\n",
       "      <td>0.331236</td>\n",
       "      <td>...</td>\n",
       "      <td>0.317075</td>\n",
       "      <td>0.462226</td>\n",
       "      <td>0.620375</td>\n",
       "      <td>1.000000</td>\n",
       "      <td>0.621700</td>\n",
       "      <td>0.464226</td>\n",
       "      <td>0.319131</td>\n",
       "      <td>0.243315</td>\n",
       "      <td>0.224446</td>\n",
       "      <td>0.354155</td>\n",
       "    </tr>\n",
       "    <tr>\n",
       "      <th>lag_20</th>\n",
       "      <td>0.219707</td>\n",
       "      <td>1.205535e-04</td>\n",
       "      <td>4.148565e-01</td>\n",
       "      <td>0.196700</td>\n",
       "      <td>0.210283</td>\n",
       "      <td>0.257980</td>\n",
       "      <td>0.275103</td>\n",
       "      <td>0.237330</td>\n",
       "      <td>0.256506</td>\n",
       "      <td>0.310285</td>\n",
       "      <td>...</td>\n",
       "      <td>0.241837</td>\n",
       "      <td>0.318510</td>\n",
       "      <td>0.464209</td>\n",
       "      <td>0.621700</td>\n",
       "      <td>1.000000</td>\n",
       "      <td>0.622593</td>\n",
       "      <td>0.462621</td>\n",
       "      <td>0.317656</td>\n",
       "      <td>0.240255</td>\n",
       "      <td>0.326417</td>\n",
       "    </tr>\n",
       "    <tr>\n",
       "      <th>lag_21</th>\n",
       "      <td>0.267113</td>\n",
       "      <td>5.216832e-04</td>\n",
       "      <td>3.567505e-01</td>\n",
       "      <td>0.219685</td>\n",
       "      <td>0.196681</td>\n",
       "      <td>0.210226</td>\n",
       "      <td>0.257936</td>\n",
       "      <td>0.275061</td>\n",
       "      <td>0.237327</td>\n",
       "      <td>0.256539</td>\n",
       "      <td>...</td>\n",
       "      <td>0.222113</td>\n",
       "      <td>0.241925</td>\n",
       "      <td>0.318641</td>\n",
       "      <td>0.464226</td>\n",
       "      <td>0.622593</td>\n",
       "      <td>1.000000</td>\n",
       "      <td>0.623110</td>\n",
       "      <td>0.462759</td>\n",
       "      <td>0.318004</td>\n",
       "      <td>0.318018</td>\n",
       "    </tr>\n",
       "    <tr>\n",
       "      <th>lag_22</th>\n",
       "      <td>0.406759</td>\n",
       "      <td>1.178935e-02</td>\n",
       "      <td>2.641467e-01</td>\n",
       "      <td>0.265663</td>\n",
       "      <td>0.217897</td>\n",
       "      <td>0.195747</td>\n",
       "      <td>0.209387</td>\n",
       "      <td>0.257434</td>\n",
       "      <td>0.273596</td>\n",
       "      <td>0.235651</td>\n",
       "      <td>...</td>\n",
       "      <td>0.229967</td>\n",
       "      <td>0.223036</td>\n",
       "      <td>0.243070</td>\n",
       "      <td>0.319131</td>\n",
       "      <td>0.462621</td>\n",
       "      <td>0.623110</td>\n",
       "      <td>1.000000</td>\n",
       "      <td>0.622463</td>\n",
       "      <td>0.461089</td>\n",
       "      <td>0.323231</td>\n",
       "    </tr>\n",
       "    <tr>\n",
       "      <th>lag_23</th>\n",
       "      <td>0.556994</td>\n",
       "      <td>2.107364e-02</td>\n",
       "      <td>1.991361e-01</td>\n",
       "      <td>0.405869</td>\n",
       "      <td>0.264405</td>\n",
       "      <td>0.217185</td>\n",
       "      <td>0.195068</td>\n",
       "      <td>0.208919</td>\n",
       "      <td>0.256298</td>\n",
       "      <td>0.272398</td>\n",
       "      <td>...</td>\n",
       "      <td>0.283980</td>\n",
       "      <td>0.230624</td>\n",
       "      <td>0.223837</td>\n",
       "      <td>0.243315</td>\n",
       "      <td>0.317656</td>\n",
       "      <td>0.462759</td>\n",
       "      <td>0.622463</td>\n",
       "      <td>1.000000</td>\n",
       "      <td>0.621790</td>\n",
       "      <td>0.352443</td>\n",
       "    </tr>\n",
       "    <tr>\n",
       "      <th>lag_24</th>\n",
       "      <td>0.691576</td>\n",
       "      <td>3.072031e-02</td>\n",
       "      <td>4.106977e-03</td>\n",
       "      <td>0.555999</td>\n",
       "      <td>0.404142</td>\n",
       "      <td>0.263419</td>\n",
       "      <td>0.216184</td>\n",
       "      <td>0.194383</td>\n",
       "      <td>0.206857</td>\n",
       "      <td>0.254192</td>\n",
       "      <td>...</td>\n",
       "      <td>0.301965</td>\n",
       "      <td>0.285443</td>\n",
       "      <td>0.232224</td>\n",
       "      <td>0.224446</td>\n",
       "      <td>0.240255</td>\n",
       "      <td>0.318004</td>\n",
       "      <td>0.461089</td>\n",
       "      <td>0.621790</td>\n",
       "      <td>1.000000</td>\n",
       "      <td>0.419270</td>\n",
       "    </tr>\n",
       "    <tr>\n",
       "      <th>rolling_mean</th>\n",
       "      <td>0.484648</td>\n",
       "      <td>-3.875475e-02</td>\n",
       "      <td>-1.580723e-01</td>\n",
       "      <td>0.657145</td>\n",
       "      <td>0.746109</td>\n",
       "      <td>0.795296</td>\n",
       "      <td>0.795138</td>\n",
       "      <td>0.745848</td>\n",
       "      <td>0.655536</td>\n",
       "      <td>0.481147</td>\n",
       "      <td>...</td>\n",
       "      <td>0.389049</td>\n",
       "      <td>0.393083</td>\n",
       "      <td>0.380822</td>\n",
       "      <td>0.354155</td>\n",
       "      <td>0.326417</td>\n",
       "      <td>0.318018</td>\n",
       "      <td>0.323231</td>\n",
       "      <td>0.352443</td>\n",
       "      <td>0.419270</td>\n",
       "      <td>1.000000</td>\n",
       "    </tr>\n",
       "  </tbody>\n",
       "</table>\n",
       "<p>28 rows × 28 columns</p>\n",
       "</div>\n",
       "      <button class=\"colab-df-convert\" onclick=\"convertToInteractive('df-42fbe3ee-aadd-4f5a-9115-ed015618a52c')\"\n",
       "              title=\"Convert this dataframe to an interactive table.\"\n",
       "              style=\"display:none;\">\n",
       "        \n",
       "  <svg xmlns=\"http://www.w3.org/2000/svg\" height=\"24px\"viewBox=\"0 0 24 24\"\n",
       "       width=\"24px\">\n",
       "    <path d=\"M0 0h24v24H0V0z\" fill=\"none\"/>\n",
       "    <path d=\"M18.56 5.44l.94 2.06.94-2.06 2.06-.94-2.06-.94-.94-2.06-.94 2.06-2.06.94zm-11 1L8.5 8.5l.94-2.06 2.06-.94-2.06-.94L8.5 2.5l-.94 2.06-2.06.94zm10 10l.94 2.06.94-2.06 2.06-.94-2.06-.94-.94-2.06-.94 2.06-2.06.94z\"/><path d=\"M17.41 7.96l-1.37-1.37c-.4-.4-.92-.59-1.43-.59-.52 0-1.04.2-1.43.59L10.3 9.45l-7.72 7.72c-.78.78-.78 2.05 0 2.83L4 21.41c.39.39.9.59 1.41.59.51 0 1.02-.2 1.41-.59l7.78-7.78 2.81-2.81c.8-.78.8-2.07 0-2.86zM5.41 20L4 18.59l7.72-7.72 1.47 1.35L5.41 20z\"/>\n",
       "  </svg>\n",
       "      </button>\n",
       "      \n",
       "  <style>\n",
       "    .colab-df-container {\n",
       "      display:flex;\n",
       "      flex-wrap:wrap;\n",
       "      gap: 12px;\n",
       "    }\n",
       "\n",
       "    .colab-df-convert {\n",
       "      background-color: #E8F0FE;\n",
       "      border: none;\n",
       "      border-radius: 50%;\n",
       "      cursor: pointer;\n",
       "      display: none;\n",
       "      fill: #1967D2;\n",
       "      height: 32px;\n",
       "      padding: 0 0 0 0;\n",
       "      width: 32px;\n",
       "    }\n",
       "\n",
       "    .colab-df-convert:hover {\n",
       "      background-color: #E2EBFA;\n",
       "      box-shadow: 0px 1px 2px rgba(60, 64, 67, 0.3), 0px 1px 3px 1px rgba(60, 64, 67, 0.15);\n",
       "      fill: #174EA6;\n",
       "    }\n",
       "\n",
       "    [theme=dark] .colab-df-convert {\n",
       "      background-color: #3B4455;\n",
       "      fill: #D2E3FC;\n",
       "    }\n",
       "\n",
       "    [theme=dark] .colab-df-convert:hover {\n",
       "      background-color: #434B5C;\n",
       "      box-shadow: 0px 1px 3px 1px rgba(0, 0, 0, 0.15);\n",
       "      filter: drop-shadow(0px 1px 2px rgba(0, 0, 0, 0.3));\n",
       "      fill: #FFFFFF;\n",
       "    }\n",
       "  </style>\n",
       "\n",
       "      <script>\n",
       "        const buttonEl =\n",
       "          document.querySelector('#df-42fbe3ee-aadd-4f5a-9115-ed015618a52c button.colab-df-convert');\n",
       "        buttonEl.style.display =\n",
       "          google.colab.kernel.accessAllowed ? 'block' : 'none';\n",
       "\n",
       "        async function convertToInteractive(key) {\n",
       "          const element = document.querySelector('#df-42fbe3ee-aadd-4f5a-9115-ed015618a52c');\n",
       "          const dataTable =\n",
       "            await google.colab.kernel.invokeFunction('convertToInteractive',\n",
       "                                                     [key], {});\n",
       "          if (!dataTable) return;\n",
       "\n",
       "          const docLinkHtml = 'Like what you see? Visit the ' +\n",
       "            '<a target=\"_blank\" href=https://colab.research.google.com/notebooks/data_table.ipynb>data table notebook</a>'\n",
       "            + ' to learn more about interactive tables.';\n",
       "          element.innerHTML = '';\n",
       "          dataTable['output_type'] = 'display_data';\n",
       "          await google.colab.output.renderOutput(dataTable, element);\n",
       "          const docLink = document.createElement('div');\n",
       "          docLink.innerHTML = docLinkHtml;\n",
       "          element.appendChild(docLink);\n",
       "        }\n",
       "      </script>\n",
       "    </div>\n",
       "  </div>\n",
       "  "
      ],
      "text/plain": [
       "              num_orders     dayofweek          hour     lag_1     lag_2  \\\n",
       "num_orders      1.000000 -1.962844e-02  4.292046e-03  0.624138  0.465444   \n",
       "dayofweek      -0.019628  1.000000e+00  2.160411e-18 -0.027331 -0.029567   \n",
       "hour            0.004292  2.160411e-18  1.000000e+00 -0.076112 -0.120424   \n",
       "lag_1           0.624138 -2.733141e-02 -7.611189e-02  1.000000  0.623446   \n",
       "lag_2           0.465444 -2.956675e-02 -1.204245e-01  0.623446  1.000000   \n",
       "lag_3           0.321173 -2.905576e-02 -1.547765e-01  0.464959  0.623151   \n",
       "lag_4           0.248791 -2.869538e-02 -1.462479e-01  0.320580  0.464503   \n",
       "lag_5           0.230489 -2.875218e-02 -1.233272e-01  0.248332  0.320169   \n",
       "lag_6           0.238449 -2.691094e-02 -7.417954e-02  0.229212  0.246899   \n",
       "lag_7           0.291733 -2.691297e-02 -1.003519e-01  0.237082  0.227617   \n",
       "lag_8           0.310036 -2.895528e-02 -1.960034e-01  0.290651  0.235748   \n",
       "lag_9           0.270676 -3.204051e-02 -2.077349e-01  0.309875  0.290485   \n",
       "lag_10          0.263643 -3.665555e-02 -1.780666e-01  0.270271  0.309489   \n",
       "lag_11          0.317913 -3.575326e-02 -1.352894e-01  0.262848  0.269387   \n",
       "lag_12          0.332466 -3.930161e-02 -8.131700e-02  0.317517  0.262362   \n",
       "lag_13          0.313831 -2.673778e-02 -7.515823e-02  0.331742  0.316688   \n",
       "lag_14          0.259667 -1.431765e-02 -1.032680e-01  0.312837  0.330643   \n",
       "lag_15          0.237415 -7.909700e-03 -1.175269e-01  0.258470  0.311565   \n",
       "lag_16          0.273940 -5.002689e-03 -8.090284e-02  0.236406  0.257357   \n",
       "lag_17          0.257664 -2.608200e-03  9.642723e-02  0.274704  0.237277   \n",
       "lag_18          0.212274 -6.161722e-04  2.870423e-01  0.258578  0.275808   \n",
       "lag_19          0.198663 -1.592405e-03  4.214977e-01  0.212530  0.258953   \n",
       "lag_20          0.219707  1.205535e-04  4.148565e-01  0.196700  0.210283   \n",
       "lag_21          0.267113  5.216832e-04  3.567505e-01  0.219685  0.196681   \n",
       "lag_22          0.406759  1.178935e-02  2.641467e-01  0.265663  0.217897   \n",
       "lag_23          0.556994  2.107364e-02  1.991361e-01  0.405869  0.264405   \n",
       "lag_24          0.691576  3.072031e-02  4.106977e-03  0.555999  0.404142   \n",
       "rolling_mean    0.484648 -3.875475e-02 -1.580723e-01  0.657145  0.746109   \n",
       "\n",
       "                 lag_3     lag_4     lag_5     lag_6     lag_7  ...    lag_16  \\\n",
       "num_orders    0.321173  0.248791  0.230489  0.238449  0.291733  ...  0.273940   \n",
       "dayofweek    -0.029056 -0.028695 -0.028752 -0.026911 -0.026913  ... -0.005003   \n",
       "hour         -0.154777 -0.146248 -0.123327 -0.074180 -0.100352  ... -0.080903   \n",
       "lag_1         0.464959  0.320580  0.248332  0.229212  0.237082  ...  0.236406   \n",
       "lag_2         0.623151  0.464503  0.320169  0.246899  0.227617  ...  0.257357   \n",
       "lag_3         1.000000  0.622932  0.464285  0.319511  0.246106  ...  0.311007   \n",
       "lag_4         0.622932  1.000000  0.622791  0.463843  0.318875  ...  0.329509   \n",
       "lag_5         0.464285  0.622791  1.000000  0.622699  0.463602  ...  0.315145   \n",
       "lag_6         0.319511  0.463843  0.622699  1.000000  0.622010  ...  0.259809   \n",
       "lag_7         0.246106  0.318875  0.463602  0.622010  1.000000  ...  0.265927   \n",
       "lag_8         0.226904  0.245466  0.318495  0.462768  0.621386  ...  0.305306   \n",
       "lag_9         0.235568  0.226730  0.245332  0.318344  0.462778  ...  0.286358   \n",
       "lag_10        0.290205  0.235281  0.226510  0.244898  0.317972  ...  0.231874   \n",
       "lag_11        0.309015  0.289752  0.234929  0.225656  0.244008  ...  0.222957   \n",
       "lag_12        0.269076  0.308740  0.289537  0.234447  0.225138  ...  0.241750   \n",
       "lag_13        0.261849  0.268604  0.308423  0.288748  0.233529  ...  0.315182   \n",
       "lag_14        0.316092  0.261250  0.268195  0.307403  0.287618  ...  0.460431   \n",
       "lag_15        0.330010  0.315497  0.260805  0.266988  0.306170  ...  0.619587   \n",
       "lag_16        0.311007  0.329509  0.315145  0.259809  0.265927  ...  1.000000   \n",
       "lag_17        0.257780  0.311417  0.329808  0.315967  0.260662  ...  0.620399   \n",
       "lag_18        0.237798  0.258272  0.311793  0.330815  0.317063  ...  0.462213   \n",
       "lag_19        0.275946  0.237911  0.258347  0.312143  0.331236  ...  0.317075   \n",
       "lag_20        0.257980  0.275103  0.237330  0.256506  0.310285  ...  0.241837   \n",
       "lag_21        0.210226  0.257936  0.275061  0.237327  0.256539  ...  0.222113   \n",
       "lag_22        0.195747  0.209387  0.257434  0.273596  0.235651  ...  0.229967   \n",
       "lag_23        0.217185  0.195068  0.208919  0.256298  0.272398  ...  0.283980   \n",
       "lag_24        0.263419  0.216184  0.194383  0.206857  0.254192  ...  0.301965   \n",
       "rolling_mean  0.795296  0.795138  0.745848  0.655536  0.481147  ...  0.389049   \n",
       "\n",
       "                lag_17    lag_18    lag_19    lag_20    lag_21    lag_22  \\\n",
       "num_orders    0.257664  0.212274  0.198663  0.219707  0.267113  0.406759   \n",
       "dayofweek    -0.002608 -0.000616 -0.001592  0.000121  0.000522  0.011789   \n",
       "hour          0.096427  0.287042  0.421498  0.414856  0.356750  0.264147   \n",
       "lag_1         0.274704  0.258578  0.212530  0.196700  0.219685  0.265663   \n",
       "lag_2         0.237277  0.275808  0.258953  0.210283  0.196681  0.217897   \n",
       "lag_3         0.257780  0.237798  0.275946  0.257980  0.210226  0.195747   \n",
       "lag_4         0.311417  0.258272  0.237911  0.275103  0.257936  0.209387   \n",
       "lag_5         0.329808  0.311793  0.258347  0.237330  0.275061  0.257434   \n",
       "lag_6         0.315967  0.330815  0.312143  0.256506  0.237327  0.273596   \n",
       "lag_7         0.260662  0.317063  0.331236  0.310285  0.256539  0.235651   \n",
       "lag_8         0.266627  0.261512  0.317369  0.329758  0.310321  0.255165   \n",
       "lag_9         0.305485  0.266856  0.261550  0.317337  0.329728  0.310190   \n",
       "lag_10        0.286630  0.305839  0.266926  0.261071  0.317301  0.329364   \n",
       "lag_11        0.232334  0.287234  0.306013  0.265833  0.261034  0.316449   \n",
       "lag_12        0.223233  0.232689  0.287314  0.305567  0.265788  0.260532   \n",
       "lag_13        0.242222  0.223812  0.232837  0.286248  0.305549  0.264840   \n",
       "lag_14        0.315874  0.243007  0.224031  0.231203  0.286255  0.304343   \n",
       "lag_15        0.461353  0.316834  0.243285  0.222155  0.231189  0.284857   \n",
       "lag_16        0.620399  0.462213  0.317075  0.241837  0.222113  0.229967   \n",
       "lag_17        1.000000  0.620323  0.462226  0.318510  0.241925  0.223036   \n",
       "lag_18        0.620323  1.000000  0.620375  0.464209  0.318641  0.243070   \n",
       "lag_19        0.462226  0.620375  1.000000  0.621700  0.464226  0.319131   \n",
       "lag_20        0.318510  0.464209  0.621700  1.000000  0.622593  0.462621   \n",
       "lag_21        0.241925  0.318641  0.464226  0.622593  1.000000  0.623110   \n",
       "lag_22        0.223036  0.243070  0.319131  0.462621  0.623110  1.000000   \n",
       "lag_23        0.230624  0.223837  0.243315  0.317656  0.462759  0.622463   \n",
       "lag_24        0.285443  0.232224  0.224446  0.240255  0.318004  0.461089   \n",
       "rolling_mean  0.393083  0.380822  0.354155  0.326417  0.318018  0.323231   \n",
       "\n",
       "                lag_23    lag_24  rolling_mean  \n",
       "num_orders    0.556994  0.691576      0.484648  \n",
       "dayofweek     0.021074  0.030720     -0.038755  \n",
       "hour          0.199136  0.004107     -0.158072  \n",
       "lag_1         0.405869  0.555999      0.657145  \n",
       "lag_2         0.264405  0.404142      0.746109  \n",
       "lag_3         0.217185  0.263419      0.795296  \n",
       "lag_4         0.195068  0.216184      0.795138  \n",
       "lag_5         0.208919  0.194383      0.745848  \n",
       "lag_6         0.256298  0.206857      0.655536  \n",
       "lag_7         0.272398  0.254192      0.481147  \n",
       "lag_8         0.234572  0.270702      0.404949  \n",
       "lag_9         0.254959  0.234388      0.370049  \n",
       "lag_10        0.309837  0.254466      0.358794  \n",
       "lag_11        0.328693  0.308819      0.362234  \n",
       "lag_12        0.316068  0.328305      0.382787  \n",
       "lag_13        0.259776  0.315046      0.404272  \n",
       "lag_14        0.263855  0.258152      0.408907  \n",
       "lag_15        0.303307  0.262017      0.396820  \n",
       "lag_16        0.283980  0.301965      0.389049  \n",
       "lag_17        0.230624  0.285443      0.393083  \n",
       "lag_18        0.223837  0.232224      0.380822  \n",
       "lag_19        0.243315  0.224446      0.354155  \n",
       "lag_20        0.317656  0.240255      0.326417  \n",
       "lag_21        0.462759  0.318004      0.318018  \n",
       "lag_22        0.622463  0.461089      0.323231  \n",
       "lag_23        1.000000  0.621790      0.352443  \n",
       "lag_24        0.621790  1.000000      0.419270  \n",
       "rolling_mean  0.352443  0.419270      1.000000  \n",
       "\n",
       "[28 rows x 28 columns]"
      ]
     },
     "execution_count": 24,
     "metadata": {},
     "output_type": "execute_result"
    }
   ],
   "source": [
    "data.corr()"
   ]
  },
  {
   "cell_type": "markdown",
   "metadata": {
    "id": "U5s3mCHGMBPK"
   },
   "source": [
    "Видим, что в нашем наборе данных есть высоко скоррелированные независимые перменные, например, лаги и rolling_mean сильно коррелируют друг с другом (R-Пирсона около 0.8). Мы не будем их убирать, применим Ridge Regression, которая учитывает мультиколлинеарность"
   ]
  },
  {
   "cell_type": "code",
   "execution_count": 25,
   "metadata": {
    "colab": {
     "base_uri": "https://localhost:8080/"
    },
    "id": "AwXSSbmYMBPK",
    "outputId": "9fb2c61b-c4e4-4308-cdad-caf1750c9a6e"
   },
   "outputs": [
    {
     "data": {
      "text/plain": [
       "num_orders       0\n",
       "dayofweek        0\n",
       "hour             0\n",
       "lag_1            1\n",
       "lag_2            2\n",
       "lag_3            3\n",
       "lag_4            4\n",
       "lag_5            5\n",
       "lag_6            6\n",
       "lag_7            7\n",
       "lag_8            8\n",
       "lag_9            9\n",
       "lag_10          10\n",
       "lag_11          11\n",
       "lag_12          12\n",
       "lag_13          13\n",
       "lag_14          14\n",
       "lag_15          15\n",
       "lag_16          16\n",
       "lag_17          17\n",
       "lag_18          18\n",
       "lag_19          19\n",
       "lag_20          20\n",
       "lag_21          21\n",
       "lag_22          22\n",
       "lag_23          23\n",
       "lag_24          24\n",
       "rolling_mean     6\n",
       "dtype: int64"
      ]
     },
     "execution_count": 25,
     "metadata": {},
     "output_type": "execute_result"
    }
   ],
   "source": [
    "#удалим пропуски\n",
    "data.isna().sum()"
   ]
  },
  {
   "cell_type": "code",
   "execution_count": 26,
   "metadata": {
    "id": "9ENnZzmPMBPK"
   },
   "outputs": [],
   "source": [
    "data = data.dropna()"
   ]
  },
  {
   "cell_type": "markdown",
   "metadata": {
    "id": "TQ2m__aIMBPK"
   },
   "source": [
    "## Обучение моделей"
   ]
  },
  {
   "cell_type": "code",
   "execution_count": 27,
   "metadata": {
    "id": "7TLzKGGOMBPK"
   },
   "outputs": [],
   "source": [
    "features = data.drop(['num_orders'], axis=1)\n",
    "target = data['num_orders']\n",
    "\n",
    "X_train, X_test, y_train, y_test = train_test_split(\n",
    "    features, target, test_size=0.1, random_state=12345, shuffle = False\n",
    ")"
   ]
  },
  {
   "cell_type": "code",
   "execution_count": 28,
   "metadata": {
    "colab": {
     "base_uri": "https://localhost:8080/"
    },
    "id": "7UEi99krMBPK",
    "outputId": "c186f48a-283c-4918-f23b-cb51d9d2a62f"
   },
   "outputs": [
    {
     "name": "stdout",
     "output_type": "stream",
     "text": [
      "(3952, 27) (440, 27) (3952,) (440,)\n"
     ]
    }
   ],
   "source": [
    "print(X_train.shape, X_test.shape, y_train.shape, y_test.shape)"
   ]
  },
  {
   "cell_type": "markdown",
   "metadata": {
    "id": "2gsqSA5DN_mu"
   },
   "source": [
    "### Ridge Regression"
   ]
  },
  {
   "cell_type": "code",
   "execution_count": 29,
   "metadata": {
    "id": "w_8j-9tSKJ-Y"
   },
   "outputs": [],
   "source": [
    "tscv = TimeSeriesSplit(n_splits=5)"
   ]
  },
  {
   "cell_type": "code",
   "execution_count": 30,
   "metadata": {
    "colab": {
     "base_uri": "https://localhost:8080/"
    },
    "id": "lpSFX8J1MBPL",
    "outputId": "d69864e8-b797-4a01-cf02-e6c67aeeb352",
    "scrolled": true
   },
   "outputs": [
    {
     "name": "stdout",
     "output_type": "stream",
     "text": [
      "best_score RMSE: 27.13835792299567\n",
      "best_params: {'alpha': 0.2}\n"
     ]
    }
   ],
   "source": [
    "model_ridge = Ridge(random_state=12345)\n",
    "\n",
    "# словарь с гиперпараметрами и значениями, которые хотим перебрать\n",
    "param_grid_ridge = {\n",
    "    'alpha': np.arange(0, 0.21, 0.01),\n",
    "}\n",
    "\n",
    "gs_ridge = GridSearchCV(\n",
    "    model_ridge, \n",
    "    param_grid=param_grid_ridge, \n",
    "    cv = tscv,\n",
    "    scoring= 'neg_root_mean_squared_error', \n",
    "    n_jobs=-1\n",
    ")\n",
    "\n",
    "gs_ridge.fit(X_train, y_train)\n",
    "\n",
    "# лучшее значение RMSE на кросс-валидации\n",
    "print(f'best_score RMSE: {gs_ridge.best_score_*(-1)}')\n",
    "\n",
    "# лучшие гиперпараметры\n",
    "print(f'best_params: {gs_ridge.best_params_}')"
   ]
  },
  {
   "cell_type": "markdown",
   "metadata": {
    "id": "Inbku3o5MBPL"
   },
   "source": [
    "### Lightgbm (Decision Tree Regressor)"
   ]
  },
  {
   "cell_type": "code",
   "execution_count": 31,
   "metadata": {
    "id": "VwEnKRKgMBPL"
   },
   "outputs": [],
   "source": [
    "param_grid = {'learning_rate': [0.05,0.08],\n",
    "              'n_estimators': [500,1000],\n",
    "              'max_depth': [5, 10]}"
   ]
  },
  {
   "cell_type": "code",
   "execution_count": 32,
   "metadata": {
    "id": "9837XydbNAbD"
   },
   "outputs": [],
   "source": [
    "estimator = LGBMRegressor(objective='regression', random_state=12345)"
   ]
  },
  {
   "cell_type": "code",
   "execution_count": 33,
   "metadata": {
    "colab": {
     "base_uri": "https://localhost:8080/"
    },
    "id": "LBSOaoRQNCJF",
    "outputId": "4f1f0e6e-9ea9-4ef4-fa29-9b4c05602c7f"
   },
   "outputs": [
    {
     "name": "stdout",
     "output_type": "stream",
     "text": [
      "best_score RMSE: 24.681412278762586\n",
      "best_params: {'learning_rate': 0.05, 'max_depth': 5, 'n_estimators': 500}\n",
      "CPU times: user 1.47 s, sys: 60.9 ms, total: 1.53 s\n",
      "Wall time: 23.1 s\n"
     ]
    }
   ],
   "source": [
    "%%time\n",
    "lgbm = GridSearchCV(estimator=estimator, \n",
    "                     param_grid=param_grid,\n",
    "                     cv=tscv,\n",
    "                     n_jobs=-1, \n",
    "                     scoring='neg_root_mean_squared_error')\n",
    "lgbm.fit(X_train, y_train)\n",
    "# лучшее значение RMSE на кросс-валидации\n",
    "print(f'best_score RMSE: {lgbm.best_score_*(-1)}')\n",
    "# лучшие гиперпараметры\n",
    "print(f'best_params: {lgbm.best_params_}')"
   ]
  },
  {
   "cell_type": "markdown",
   "metadata": {
    "id": "oX_Z5WckMBPL"
   },
   "source": [
    "## Тестирование"
   ]
  },
  {
   "cell_type": "markdown",
   "metadata": {
    "id": "oeQPNVt3P3_s"
   },
   "source": [
    "### Ridge Regression test"
   ]
  },
  {
   "cell_type": "code",
   "execution_count": 36,
   "metadata": {
    "colab": {
     "base_uri": "https://localhost:8080/"
    },
    "id": "Yhjv-qTNMBPL",
    "outputId": "21ca862e-a9eb-439b-b5f6-212b3bb63349"
   },
   "outputs": [
    {
     "data": {
      "text/plain": [
       "45.22409410120272"
      ]
     },
     "execution_count": 36,
     "metadata": {},
     "output_type": "execute_result"
    }
   ],
   "source": [
    "pred_ridge = gs_ridge.predict(X_test)\n",
    "np.sqrt(mean_squared_error(y_test, pred_ridge))"
   ]
  },
  {
   "cell_type": "markdown",
   "metadata": {
    "id": "uNKl21HGP8vt"
   },
   "source": [
    "LGBMRegression test"
   ]
  },
  {
   "cell_type": "code",
   "execution_count": 37,
   "metadata": {
    "colab": {
     "base_uri": "https://localhost:8080/"
    },
    "id": "U29_YfZ3Qbc1",
    "outputId": "aad0240d-9605-48b7-adc5-377df226d51c"
   },
   "outputs": [
    {
     "data": {
      "text/plain": [
       "40.363100413911205"
      ]
     },
     "execution_count": 37,
     "metadata": {},
     "output_type": "execute_result"
    }
   ],
   "source": [
    "pred_lgbm = lgbm.predict(X_test)\n",
    "np.sqrt(mean_squared_error(y_test, pred_lgbm))"
   ]
  },
  {
   "cell_type": "markdown",
   "metadata": {
    "id": "TI_tuHTrV6Kq"
   },
   "source": [
    "## Выводы"
   ]
  },
  {
   "cell_type": "markdown",
   "metadata": {
    "id": "2A7-EkarV-9M"
   },
   "source": [
    "\n",
    "*   Были построены две модели с кросс-валидацией и перебором гиперпараметров для поиска наиболее удачных. Построенные модели Ridge Regression и LightGBM Regression. RMSE на обучающей выборке 27.1 и 24.7 соответствено. RMSE на тестовой выборке 45.2 и 40.4 соответственно.\n",
    "*   Таким образом, лучшая модель\n",
    "LightGBM Regression. Эта модель ошибается в среднем на 40.4 для прогнозирования заказов в следующем часу."
   ]
  }
 ],
 "metadata": {
  "ExecuteTimeLog": [
   {
    "duration": 704,
    "start_time": "2023-03-29T11:09:52.941Z"
   },
   {
    "duration": 3,
    "start_time": "2023-03-29T11:09:53.646Z"
   },
   {
    "duration": 923,
    "start_time": "2023-03-29T11:09:53.650Z"
   },
   {
    "duration": 317,
    "start_time": "2023-03-29T11:09:54.576Z"
   },
   {
    "duration": 3,
    "start_time": "2023-03-29T11:09:54.894Z"
   },
   {
    "duration": 14,
    "start_time": "2023-03-29T11:09:54.899Z"
   },
   {
    "duration": 8,
    "start_time": "2023-03-29T11:09:54.914Z"
   },
   {
    "duration": 11,
    "start_time": "2023-03-29T11:09:54.924Z"
   },
   {
    "duration": 19,
    "start_time": "2023-03-29T11:09:54.936Z"
   },
   {
    "duration": 12,
    "start_time": "2023-03-29T11:09:54.958Z"
   },
   {
    "duration": 3,
    "start_time": "2023-03-29T11:09:54.972Z"
   },
   {
    "duration": 8,
    "start_time": "2023-03-29T11:10:05.121Z"
   },
   {
    "duration": 7,
    "start_time": "2023-03-29T11:10:38.992Z"
   },
   {
    "duration": 77,
    "start_time": "2023-03-29T11:10:43.514Z"
   },
   {
    "duration": 6,
    "start_time": "2023-03-29T11:10:49.880Z"
   },
   {
    "duration": 6,
    "start_time": "2023-03-29T11:10:58.972Z"
   },
   {
    "duration": 6,
    "start_time": "2023-03-29T11:11:43.059Z"
   },
   {
    "duration": 150,
    "start_time": "2023-03-29T11:12:17.856Z"
   },
   {
    "duration": 152,
    "start_time": "2023-03-29T11:12:39.663Z"
   },
   {
    "duration": 236,
    "start_time": "2023-03-29T11:12:48.913Z"
   },
   {
    "duration": 167,
    "start_time": "2023-03-29T11:13:38.354Z"
   },
   {
    "duration": 163,
    "start_time": "2023-03-29T11:13:50.453Z"
   },
   {
    "duration": 225,
    "start_time": "2023-03-29T11:15:00.714Z"
   },
   {
    "duration": 320,
    "start_time": "2023-03-29T11:15:22.664Z"
   },
   {
    "duration": 15,
    "start_time": "2023-03-29T11:15:48.505Z"
   },
   {
    "duration": 13,
    "start_time": "2023-03-29T11:15:58.960Z"
   },
   {
    "duration": 323,
    "start_time": "2023-03-29T11:16:02.332Z"
   },
   {
    "duration": 275,
    "start_time": "2023-03-29T11:20:09.396Z"
   },
   {
    "duration": 167,
    "start_time": "2023-03-29T11:21:59.525Z"
   },
   {
    "duration": 610,
    "start_time": "2023-03-29T11:22:45.597Z"
   },
   {
    "duration": 2,
    "start_time": "2023-03-29T11:22:46.209Z"
   },
   {
    "duration": 800,
    "start_time": "2023-03-29T11:22:46.213Z"
   },
   {
    "duration": 53,
    "start_time": "2023-03-29T11:22:47.016Z"
   },
   {
    "duration": 3,
    "start_time": "2023-03-29T11:22:47.073Z"
   },
   {
    "duration": 10,
    "start_time": "2023-03-29T11:22:47.078Z"
   },
   {
    "duration": 8,
    "start_time": "2023-03-29T11:22:47.089Z"
   },
   {
    "duration": 8,
    "start_time": "2023-03-29T11:22:47.100Z"
   },
   {
    "duration": 6,
    "start_time": "2023-03-29T11:22:47.110Z"
   },
   {
    "duration": 35,
    "start_time": "2023-03-29T11:22:47.118Z"
   },
   {
    "duration": 6,
    "start_time": "2023-03-29T11:22:47.155Z"
   },
   {
    "duration": 6,
    "start_time": "2023-03-29T11:22:47.163Z"
   },
   {
    "duration": 7,
    "start_time": "2023-03-29T11:22:47.171Z"
   },
   {
    "duration": 9,
    "start_time": "2023-03-29T11:22:47.181Z"
   },
   {
    "duration": 231,
    "start_time": "2023-03-29T11:22:47.192Z"
   },
   {
    "duration": 297,
    "start_time": "2023-03-29T11:22:47.425Z"
   },
   {
    "duration": 3,
    "start_time": "2023-03-29T11:22:47.724Z"
   },
   {
    "duration": 92,
    "start_time": "2023-03-29T11:22:47.728Z"
   },
   {
    "duration": 258,
    "start_time": "2023-03-29T11:22:47.822Z"
   },
   {
    "duration": 8,
    "start_time": "2023-03-29T11:22:48.081Z"
   },
   {
    "duration": 13,
    "start_time": "2023-03-29T11:22:48.090Z"
   },
   {
    "duration": 250,
    "start_time": "2023-03-29T11:22:48.104Z"
   },
   {
    "duration": 149,
    "start_time": "2023-03-29T11:22:48.355Z"
   },
   {
    "duration": 89,
    "start_time": "2023-03-29T11:22:48.507Z"
   },
   {
    "duration": 55,
    "start_time": "2023-03-29T11:22:48.598Z"
   },
   {
    "duration": 6,
    "start_time": "2023-03-29T11:22:48.655Z"
   },
   {
    "duration": 12,
    "start_time": "2023-03-29T11:22:48.663Z"
   },
   {
    "duration": 9,
    "start_time": "2023-03-29T11:22:48.677Z"
   },
   {
    "duration": 20,
    "start_time": "2023-03-29T11:22:48.687Z"
   },
   {
    "duration": 7857,
    "start_time": "2023-03-29T11:22:48.709Z"
   },
   {
    "duration": 0,
    "start_time": "2023-03-29T11:22:56.568Z"
   },
   {
    "duration": 0,
    "start_time": "2023-03-29T11:22:56.569Z"
   },
   {
    "duration": 0,
    "start_time": "2023-03-29T11:22:56.572Z"
   },
   {
    "duration": 0,
    "start_time": "2023-03-29T11:22:56.573Z"
   },
   {
    "duration": 0,
    "start_time": "2023-03-29T11:22:56.576Z"
   },
   {
    "duration": 4,
    "start_time": "2023-03-29T11:30:38.801Z"
   },
   {
    "duration": 5,
    "start_time": "2023-03-29T11:30:38.807Z"
   },
   {
    "duration": 5,
    "start_time": "2023-03-29T11:30:38.813Z"
   },
   {
    "duration": 54,
    "start_time": "2023-03-29T11:30:38.819Z"
   },
   {
    "duration": 3,
    "start_time": "2023-03-29T11:30:38.875Z"
   },
   {
    "duration": 8,
    "start_time": "2023-03-29T11:30:38.879Z"
   },
   {
    "duration": 13,
    "start_time": "2023-03-29T11:30:38.888Z"
   },
   {
    "duration": 5,
    "start_time": "2023-03-29T11:30:38.902Z"
   },
   {
    "duration": 6,
    "start_time": "2023-03-29T11:30:38.909Z"
   },
   {
    "duration": 8,
    "start_time": "2023-03-29T11:30:38.917Z"
   },
   {
    "duration": 19,
    "start_time": "2023-03-29T11:30:38.926Z"
   },
   {
    "duration": 8,
    "start_time": "2023-03-29T11:30:38.946Z"
   },
   {
    "duration": 14,
    "start_time": "2023-03-29T11:30:38.955Z"
   },
   {
    "duration": 10,
    "start_time": "2023-03-29T11:30:38.972Z"
   },
   {
    "duration": 186,
    "start_time": "2023-03-29T11:30:38.983Z"
   },
   {
    "duration": 299,
    "start_time": "2023-03-29T11:30:39.170Z"
   },
   {
    "duration": 4,
    "start_time": "2023-03-29T11:30:39.471Z"
   },
   {
    "duration": 39,
    "start_time": "2023-03-29T11:30:39.476Z"
   },
   {
    "duration": 245,
    "start_time": "2023-03-29T11:30:39.517Z"
   },
   {
    "duration": 10,
    "start_time": "2023-03-29T11:30:39.765Z"
   },
   {
    "duration": 205,
    "start_time": "2023-03-29T11:30:39.776Z"
   },
   {
    "duration": 274,
    "start_time": "2023-03-29T11:30:39.983Z"
   },
   {
    "duration": 84,
    "start_time": "2023-03-29T11:30:40.258Z"
   },
   {
    "duration": 44,
    "start_time": "2023-03-29T11:30:40.343Z"
   },
   {
    "duration": 6,
    "start_time": "2023-03-29T11:30:40.388Z"
   },
   {
    "duration": 5,
    "start_time": "2023-03-29T11:30:40.395Z"
   },
   {
    "duration": 5,
    "start_time": "2023-03-29T11:30:40.402Z"
   },
   {
    "duration": 3,
    "start_time": "2023-03-29T11:30:40.409Z"
   },
   {
    "duration": 37,
    "start_time": "2023-03-29T11:30:40.413Z"
   },
   {
    "duration": 80,
    "start_time": "2023-03-29T11:30:44.055Z"
   },
   {
    "duration": 7253,
    "start_time": "2023-03-29T11:31:14.996Z"
   },
   {
    "duration": 3,
    "start_time": "2023-03-29T11:31:48.865Z"
   },
   {
    "duration": 3,
    "start_time": "2023-03-29T11:31:49.321Z"
   }
  ],
  "colab": {
   "provenance": []
  },
  "kernelspec": {
   "display_name": "Python 3 (ipykernel)",
   "language": "python",
   "name": "python3"
  },
  "language_info": {
   "codemirror_mode": {
    "name": "ipython",
    "version": 3
   },
   "file_extension": ".py",
   "mimetype": "text/x-python",
   "name": "python",
   "nbconvert_exporter": "python",
   "pygments_lexer": "ipython3",
   "version": "3.9.5"
  },
  "toc": {
   "base_numbering": 1,
   "nav_menu": {},
   "number_sections": true,
   "sideBar": true,
   "skip_h1_title": true,
   "title_cell": "Содержание",
   "title_sidebar": "Contents",
   "toc_cell": true,
   "toc_position": {
    "height": "calc(100% - 180px)",
    "left": "10px",
    "top": "150px",
    "width": "165px"
   },
   "toc_section_display": true,
   "toc_window_display": true
  }
 },
 "nbformat": 4,
 "nbformat_minor": 1
}
