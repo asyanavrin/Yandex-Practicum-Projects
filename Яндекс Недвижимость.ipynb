{
 "cells": [
  {
   "cell_type": "markdown",
   "metadata": {},
   "source": [
    "# Исследование объявлений о продаже квартир. Собираем insights для бизнеса\n",
    "\n",
    "**Набор данных:** данные сервиса Яндекс.Недвижимость — архив объявлений о продаже квартир в Санкт-Петербурге и соседних населённых пунктов за несколько лет. Нужно научиться определять рыночную стоимость объектов недвижимости. По каждой квартире на продажу доступны два вида данных. Первые вписаны пользователем, вторые — получены автоматически на основе картографических данных. Например, расстояние до центра, аэропорта, ближайшего парка и водоёма. \n",
    "\n",
    "**Моя задача:** выполнить предобработку данных и изучить их, чтобы найти интересные особенности и зависимости, которые существуют на рынке недвижимости"
   ]
  },
  {
   "cell_type": "markdown",
   "metadata": {},
   "source": [
    "## Изучаем данные"
   ]
  },
  {
   "cell_type": "code",
   "execution_count": 1,
   "metadata": {},
   "outputs": [],
   "source": [
    "import pandas as pd\n",
    "import matplotlib.pyplot as plt\n",
    "import warnings\n",
    "warnings.filterwarnings(\"ignore\")"
   ]
  },
  {
   "cell_type": "code",
   "execution_count": 2,
   "metadata": {},
   "outputs": [
    {
     "data": {
      "text/html": [
       "<div>\n",
       "<style scoped>\n",
       "    .dataframe tbody tr th:only-of-type {\n",
       "        vertical-align: middle;\n",
       "    }\n",
       "\n",
       "    .dataframe tbody tr th {\n",
       "        vertical-align: top;\n",
       "    }\n",
       "\n",
       "    .dataframe thead th {\n",
       "        text-align: right;\n",
       "    }\n",
       "</style>\n",
       "<table border=\"1\" class=\"dataframe\">\n",
       "  <thead>\n",
       "    <tr style=\"text-align: right;\">\n",
       "      <th></th>\n",
       "      <th>total_images</th>\n",
       "      <th>last_price</th>\n",
       "      <th>total_area</th>\n",
       "      <th>first_day_exposition</th>\n",
       "      <th>rooms</th>\n",
       "      <th>ceiling_height</th>\n",
       "      <th>floors_total</th>\n",
       "      <th>living_area</th>\n",
       "      <th>floor</th>\n",
       "      <th>is_apartment</th>\n",
       "      <th>...</th>\n",
       "      <th>kitchen_area</th>\n",
       "      <th>balcony</th>\n",
       "      <th>locality_name</th>\n",
       "      <th>airports_nearest</th>\n",
       "      <th>cityCenters_nearest</th>\n",
       "      <th>parks_around3000</th>\n",
       "      <th>parks_nearest</th>\n",
       "      <th>ponds_around3000</th>\n",
       "      <th>ponds_nearest</th>\n",
       "      <th>days_exposition</th>\n",
       "    </tr>\n",
       "  </thead>\n",
       "  <tbody>\n",
       "    <tr>\n",
       "      <th>0</th>\n",
       "      <td>20</td>\n",
       "      <td>13000000.0</td>\n",
       "      <td>108.0</td>\n",
       "      <td>2019-03-07T00:00:00</td>\n",
       "      <td>3</td>\n",
       "      <td>2.70</td>\n",
       "      <td>16.0</td>\n",
       "      <td>51.0</td>\n",
       "      <td>8</td>\n",
       "      <td>NaN</td>\n",
       "      <td>...</td>\n",
       "      <td>25.0</td>\n",
       "      <td>NaN</td>\n",
       "      <td>Санкт-Петербург</td>\n",
       "      <td>18863.0</td>\n",
       "      <td>16028.0</td>\n",
       "      <td>1.0</td>\n",
       "      <td>482.0</td>\n",
       "      <td>2.0</td>\n",
       "      <td>755.0</td>\n",
       "      <td>NaN</td>\n",
       "    </tr>\n",
       "    <tr>\n",
       "      <th>1</th>\n",
       "      <td>7</td>\n",
       "      <td>3350000.0</td>\n",
       "      <td>40.4</td>\n",
       "      <td>2018-12-04T00:00:00</td>\n",
       "      <td>1</td>\n",
       "      <td>NaN</td>\n",
       "      <td>11.0</td>\n",
       "      <td>18.6</td>\n",
       "      <td>1</td>\n",
       "      <td>NaN</td>\n",
       "      <td>...</td>\n",
       "      <td>11.0</td>\n",
       "      <td>2.0</td>\n",
       "      <td>посёлок Шушары</td>\n",
       "      <td>12817.0</td>\n",
       "      <td>18603.0</td>\n",
       "      <td>0.0</td>\n",
       "      <td>NaN</td>\n",
       "      <td>0.0</td>\n",
       "      <td>NaN</td>\n",
       "      <td>81.0</td>\n",
       "    </tr>\n",
       "    <tr>\n",
       "      <th>2</th>\n",
       "      <td>10</td>\n",
       "      <td>5196000.0</td>\n",
       "      <td>56.0</td>\n",
       "      <td>2015-08-20T00:00:00</td>\n",
       "      <td>2</td>\n",
       "      <td>NaN</td>\n",
       "      <td>5.0</td>\n",
       "      <td>34.3</td>\n",
       "      <td>4</td>\n",
       "      <td>NaN</td>\n",
       "      <td>...</td>\n",
       "      <td>8.3</td>\n",
       "      <td>0.0</td>\n",
       "      <td>Санкт-Петербург</td>\n",
       "      <td>21741.0</td>\n",
       "      <td>13933.0</td>\n",
       "      <td>1.0</td>\n",
       "      <td>90.0</td>\n",
       "      <td>2.0</td>\n",
       "      <td>574.0</td>\n",
       "      <td>558.0</td>\n",
       "    </tr>\n",
       "    <tr>\n",
       "      <th>3</th>\n",
       "      <td>0</td>\n",
       "      <td>64900000.0</td>\n",
       "      <td>159.0</td>\n",
       "      <td>2015-07-24T00:00:00</td>\n",
       "      <td>3</td>\n",
       "      <td>NaN</td>\n",
       "      <td>14.0</td>\n",
       "      <td>NaN</td>\n",
       "      <td>9</td>\n",
       "      <td>NaN</td>\n",
       "      <td>...</td>\n",
       "      <td>NaN</td>\n",
       "      <td>0.0</td>\n",
       "      <td>Санкт-Петербург</td>\n",
       "      <td>28098.0</td>\n",
       "      <td>6800.0</td>\n",
       "      <td>2.0</td>\n",
       "      <td>84.0</td>\n",
       "      <td>3.0</td>\n",
       "      <td>234.0</td>\n",
       "      <td>424.0</td>\n",
       "    </tr>\n",
       "    <tr>\n",
       "      <th>4</th>\n",
       "      <td>2</td>\n",
       "      <td>10000000.0</td>\n",
       "      <td>100.0</td>\n",
       "      <td>2018-06-19T00:00:00</td>\n",
       "      <td>2</td>\n",
       "      <td>3.03</td>\n",
       "      <td>14.0</td>\n",
       "      <td>32.0</td>\n",
       "      <td>13</td>\n",
       "      <td>NaN</td>\n",
       "      <td>...</td>\n",
       "      <td>41.0</td>\n",
       "      <td>NaN</td>\n",
       "      <td>Санкт-Петербург</td>\n",
       "      <td>31856.0</td>\n",
       "      <td>8098.0</td>\n",
       "      <td>2.0</td>\n",
       "      <td>112.0</td>\n",
       "      <td>1.0</td>\n",
       "      <td>48.0</td>\n",
       "      <td>121.0</td>\n",
       "    </tr>\n",
       "  </tbody>\n",
       "</table>\n",
       "<p>5 rows × 22 columns</p>\n",
       "</div>"
      ],
      "text/plain": [
       "   total_images  last_price  total_area first_day_exposition  rooms  \\\n",
       "0            20  13000000.0       108.0  2019-03-07T00:00:00      3   \n",
       "1             7   3350000.0        40.4  2018-12-04T00:00:00      1   \n",
       "2            10   5196000.0        56.0  2015-08-20T00:00:00      2   \n",
       "3             0  64900000.0       159.0  2015-07-24T00:00:00      3   \n",
       "4             2  10000000.0       100.0  2018-06-19T00:00:00      2   \n",
       "\n",
       "   ceiling_height  floors_total  living_area  floor is_apartment  ...  \\\n",
       "0            2.70          16.0         51.0      8          NaN  ...   \n",
       "1             NaN          11.0         18.6      1          NaN  ...   \n",
       "2             NaN           5.0         34.3      4          NaN  ...   \n",
       "3             NaN          14.0          NaN      9          NaN  ...   \n",
       "4            3.03          14.0         32.0     13          NaN  ...   \n",
       "\n",
       "   kitchen_area  balcony    locality_name  airports_nearest  \\\n",
       "0          25.0      NaN  Санкт-Петербург           18863.0   \n",
       "1          11.0      2.0   посёлок Шушары           12817.0   \n",
       "2           8.3      0.0  Санкт-Петербург           21741.0   \n",
       "3           NaN      0.0  Санкт-Петербург           28098.0   \n",
       "4          41.0      NaN  Санкт-Петербург           31856.0   \n",
       "\n",
       "  cityCenters_nearest  parks_around3000  parks_nearest  ponds_around3000  \\\n",
       "0             16028.0               1.0          482.0               2.0   \n",
       "1             18603.0               0.0            NaN               0.0   \n",
       "2             13933.0               1.0           90.0               2.0   \n",
       "3              6800.0               2.0           84.0               3.0   \n",
       "4              8098.0               2.0          112.0               1.0   \n",
       "\n",
       "   ponds_nearest  days_exposition  \n",
       "0          755.0              NaN  \n",
       "1            NaN             81.0  \n",
       "2          574.0            558.0  \n",
       "3          234.0            424.0  \n",
       "4           48.0            121.0  \n",
       "\n",
       "[5 rows x 22 columns]"
      ]
     },
     "execution_count": 2,
     "metadata": {},
     "output_type": "execute_result"
    }
   ],
   "source": [
    "data=pd.read_csv('real_estate_data.csv',  sep='\\t')\n",
    "data.head()"
   ]
  },
  {
   "cell_type": "code",
   "execution_count": 3,
   "metadata": {},
   "outputs": [
    {
     "name": "stdout",
     "output_type": "stream",
     "text": [
      "<class 'pandas.core.frame.DataFrame'>\n",
      "RangeIndex: 23699 entries, 0 to 23698\n",
      "Data columns (total 22 columns):\n",
      " #   Column                Non-Null Count  Dtype  \n",
      "---  ------                --------------  -----  \n",
      " 0   total_images          23699 non-null  int64  \n",
      " 1   last_price            23699 non-null  float64\n",
      " 2   total_area            23699 non-null  float64\n",
      " 3   first_day_exposition  23699 non-null  object \n",
      " 4   rooms                 23699 non-null  int64  \n",
      " 5   ceiling_height        14504 non-null  float64\n",
      " 6   floors_total          23613 non-null  float64\n",
      " 7   living_area           21796 non-null  float64\n",
      " 8   floor                 23699 non-null  int64  \n",
      " 9   is_apartment          2775 non-null   object \n",
      " 10  studio                23699 non-null  bool   \n",
      " 11  open_plan             23699 non-null  bool   \n",
      " 12  kitchen_area          21421 non-null  float64\n",
      " 13  balcony               12180 non-null  float64\n",
      " 14  locality_name         23650 non-null  object \n",
      " 15  airports_nearest      18157 non-null  float64\n",
      " 16  cityCenters_nearest   18180 non-null  float64\n",
      " 17  parks_around3000      18181 non-null  float64\n",
      " 18  parks_nearest         8079 non-null   float64\n",
      " 19  ponds_around3000      18181 non-null  float64\n",
      " 20  ponds_nearest         9110 non-null   float64\n",
      " 21  days_exposition       20518 non-null  float64\n",
      "dtypes: bool(2), float64(14), int64(3), object(3)\n",
      "memory usage: 3.7+ MB\n"
     ]
    }
   ],
   "source": [
    "#общая информация о data\n",
    "data.info()"
   ]
  },
  {
   "cell_type": "markdown",
   "metadata": {},
   "source": [
    "Мы видим, что в данных есть пропуски, например, ceiling_height или floors_total. Также мы видим, какие типы данных представлены для работы - это целые числа, float, булевые значения, а также переменные типа object."
   ]
  },
  {
   "cell_type": "code",
   "execution_count": 66,
   "metadata": {},
   "outputs": [
    {
     "data": {
      "image/png": "[encoded data removed]",
      "text/plain": [
       "<Figure size 1080x1440 with 25 Axes>"
      ]
     },
     "metadata": {
      "needs_background": "light"
     },
     "output_type": "display_data"
    }
   ],
   "source": [
    "#графики для числовых переменных\n",
    "data.hist(figsize=(15, 20));"
   ]
  },
  {
   "cell_type": "markdown",
   "metadata": {},
   "source": [
    "Гистограммы показывают, что переменные имеют различное распределение, какие-то из них имеют высокую однородность (например, last_price или ceiling_height), а другие неоднородны (например, ponds_nearest или airports_nearest)"
   ]
  },
  {
   "cell_type": "markdown",
   "metadata": {},
   "source": [
    "### Предобработка данных"
   ]
  },
  {
   "cell_type": "code",
   "execution_count": 5,
   "metadata": {},
   "outputs": [
    {
     "data": {
      "text/plain": [
       "total_images                0\n",
       "last_price                  0\n",
       "total_area                  0\n",
       "first_day_exposition        0\n",
       "rooms                       0\n",
       "ceiling_height           9195\n",
       "floors_total               86\n",
       "living_area              1903\n",
       "floor                       0\n",
       "is_apartment            20924\n",
       "studio                      0\n",
       "open_plan                   0\n",
       "kitchen_area             2278\n",
       "balcony                 11519\n",
       "locality_name              49\n",
       "airports_nearest         5542\n",
       "cityCenters_nearest      5519\n",
       "parks_around3000         5518\n",
       "parks_nearest           15620\n",
       "ponds_around3000         5518\n",
       "ponds_nearest           14589\n",
       "days_exposition          3181\n",
       "dtype: int64"
      ]
     },
     "execution_count": 5,
     "metadata": {},
     "output_type": "execute_result"
    }
   ],
   "source": [
    "#посчитаем пропуски в данных\n",
    "data.isna().sum()"
   ]
  },
  {
   "cell_type": "markdown",
   "metadata": {},
   "source": [
    "Пропуски есть по переменным: ceiling_height, floors_total, living_area, is_apartment, kitchen_area, balcony, locality_name,airports_nearest,  cityCenters_nearest, parks_around3000, ponds_around3000, ponds_nearest, days_exposition"
   ]
  },
  {
   "cell_type": "markdown",
   "metadata": {},
   "source": [
    "Пропуски по is_apartment пожно заменить на False, поскольку скорее всего, если ничего не указано, то это не апартаменты. "
   ]
  },
  {
   "cell_type": "code",
   "execution_count": 6,
   "metadata": {},
   "outputs": [],
   "source": [
    "data.loc[:, 'is_apartment'] = data.loc[:, 'is_apartment'].fillna(False)"
   ]
  },
  {
   "cell_type": "markdown",
   "metadata": {},
   "source": [
    "Если наличие балкона не указано, значит скорее всего его нет, заполним пропуски по balcony нулями"
   ]
  },
  {
   "cell_type": "code",
   "execution_count": 7,
   "metadata": {},
   "outputs": [],
   "source": [
    "data['balcony'] = data['balcony'].fillna(0)"
   ]
  },
  {
   "cell_type": "markdown",
   "metadata": {},
   "source": [
    "Остальные переменные с пропусками я оставлю без изменений, поскольку замена пропусков в них может исказить данные, ведь виды построек очень вариативны,в том числе в зависимости от локации (центр города или сельская местность будут иметь различный характер застройки), заполнение числовых переменных средними или медианными значениями здесь не совсем корректно."
   ]
  },
  {
   "cell_type": "markdown",
   "metadata": {},
   "source": [
    "Пропуски по total_area, living_are и kitchen_area могли бы быть посчитаны, если бы total_area = living_are + kitchen_area, однако на данных без пропусков по всем трем показателям это равенство не выполняется, значит я оставлю их без изменений"
   ]
  },
  {
   "cell_type": "markdown",
   "metadata": {},
   "source": [
    "В целом, наличие пропусков здесь связана в большей степени с человеческим фактором: некоторые данные авторы объявлений могут считать не важными для заполнения, другие переменные могут получать пропуски ввиду отсутствия какой-либо характеристики у помещения."
   ]
  },
  {
   "cell_type": "markdown",
   "metadata": {},
   "source": [
    "#### Рассмотрите типы данных в каждом столбце:\n",
    " \n",
    "Найдем столбцы, в которых нужно изменить тип данных.\n",
    "Преобразуем тип данных в выбранных столбцах."
   ]
  },
  {
   "cell_type": "markdown",
   "metadata": {},
   "source": [
    "- last_price - заменим float на int, тк копейки в объявлениях не указывают\n",
    "- balcony, parks_around3000, ponds_around3000,days_exposition  - заменим float на int, тк их количество не может быть нецелым\n",
    "- airports_nearest, cityCenters_nearest, parks_nearest, ponds_nearest - можно заменить на целые, то есть, по сути, округлить до метров, потому что сантиметры не так важны\n",
    "- first_day_exposition - заменим формат на datetime, чтобы можно было работать со временем\n"
   ]
  },
  {
   "cell_type": "code",
   "execution_count": 8,
   "metadata": {},
   "outputs": [],
   "source": [
    "data['last_price'] = data['last_price'].astype('Int64')"
   ]
  },
  {
   "cell_type": "code",
   "execution_count": 9,
   "metadata": {},
   "outputs": [],
   "source": [
    "list_to_replace = ['balcony', 'parks_around3000', \n",
    "                   'ponds_around3000','days_exposition',\n",
    "                   'airports_nearest', 'cityCenters_nearest',\n",
    "                   'parks_nearest', 'ponds_nearest']\n",
    "for var in list_to_replace:\n",
    "    data[var]= data[var].astype('Int64', errors = 'ignore')"
   ]
  },
  {
   "cell_type": "code",
   "execution_count": 10,
   "metadata": {},
   "outputs": [],
   "source": [
    "#замена типа переменной first_day_exposition\n",
    "data['first_day_exposition']= pd.to_datetime(data['first_day_exposition'], format='%Y-%m-%dT%H:%M:%S')"
   ]
  },
  {
   "cell_type": "markdown",
   "metadata": {},
   "source": [
    "#### Изучаем уникальные значения в столбце с названиями и устраняем неявные дубликаты. \n",
    "\n",
    "Например, «поселок Рябово» и «поселок городского типа Рябово», «поселок Тельмана» и «посёлок Тельмана» — это обозначения одних и тех же населённых пунктов. Мы можем заменить названия в существующем столбце или создать новый с названиями без дубликатов."
   ]
  },
  {
   "cell_type": "markdown",
   "metadata": {},
   "source": [
    "Заменим 'посёлок', 'поселок городского типа' и 'городской поселок' на 'поселок'"
   ]
  },
  {
   "cell_type": "code",
   "execution_count": 11,
   "metadata": {},
   "outputs": [],
   "source": [
    "data['locality_new'] = data['locality_name'].apply(lambda x: str(x).replace('посёлок', 'поселок'))"
   ]
  },
  {
   "cell_type": "code",
   "execution_count": 12,
   "metadata": {},
   "outputs": [],
   "source": [
    "data['locality_new'] = data['locality_new'].apply(lambda x: str(x).replace('поселок городского типа', 'поселок'))"
   ]
  },
  {
   "cell_type": "code",
   "execution_count": 13,
   "metadata": {},
   "outputs": [],
   "source": [
    "data['locality_new'] = data['locality_new'].apply(lambda x: str(x).replace('городской поселок', 'поселок'))"
   ]
  },
  {
   "cell_type": "markdown",
   "metadata": {},
   "source": [
    "Остались \"Мурино\" и \"поселок Мурино\", \"Кудрово\" и \"деревня Кудрово\". Удалим подстроки \"поселок\" и \"деревня\": чтобы остались только названия локаций."
   ]
  },
  {
   "cell_type": "code",
   "execution_count": 14,
   "metadata": {},
   "outputs": [],
   "source": [
    "def drop_extra(string):\n",
    "    if 'поселок' in string:\n",
    "        string = string.replace('поселок ', '')\n",
    "        return string\n",
    "    elif 'деревня' in string:\n",
    "        string = string.replace('деревня ', '')\n",
    "        return string\n",
    "    else:\n",
    "        return string"
   ]
  },
  {
   "cell_type": "code",
   "execution_count": 15,
   "metadata": {},
   "outputs": [],
   "source": [
    "data['locality_new'] = data['locality_new'].apply(drop_extra)"
   ]
  },
  {
   "cell_type": "code",
   "execution_count": 16,
   "metadata": {},
   "outputs": [
    {
     "data": {
      "text/plain": [
       "array(['Санкт-Петербург', 'Шушары', 'Янино-1', 'Парголово', 'Мурино',\n",
       "       'Ломоносов', 'Сертолово', 'Петергоф', 'Пушкин', 'Кудрово',\n",
       "       'Коммунар', 'Колпино', 'Красный Бор', 'Гатчина', 'Фёдоровское',\n",
       "       'Выборг', 'Кронштадт', 'Кировск', 'Новое Девяткино',\n",
       "       'Металлострой', 'Лебяжье', 'Сиверский', 'Молодцово',\n",
       "       'Кузьмоловский', 'садовое товарищество Новая Ропша', 'Павловск',\n",
       "       'Пикколово', 'Всеволожск', 'Волхов', 'Кингисепп', 'Приозерск',\n",
       "       'Сестрорецк', 'Куттузи', 'Аннино', 'Ефимовский', 'Плодовое',\n",
       "       'Заклинье', 'Торковичи', 'Первомайское', 'Красное Село',\n",
       "       'Понтонный', 'Сясьстрой', 'Старая', 'Лесколово', 'Новый Свет',\n",
       "       'Сланцы', 'село Путилово', 'Ивангород', 'Шлиссельбург',\n",
       "       'Никольское', 'Зеленогорск', 'Сосновый Бор', 'Оржицы', 'Кальтино',\n",
       "       'Романовка', 'Бугры', 'Рощино', 'Кириши', 'Луга', 'Волосово',\n",
       "       'Отрадное', 'село Павлово', 'Оредеж', 'село Копорье', 'Молодёжное',\n",
       "       'Тихвин', 'Победа', 'Нурма', 'Синявино', 'Тосно', 'Стрельна',\n",
       "       'Бокситогорск', 'Александровская', 'Лопухинка', 'Пикалёво',\n",
       "       'Терволово', 'Советский', 'Подпорожье', 'Петровское', 'Токсово',\n",
       "       'Сельцо', 'Вырица', 'Кипень', 'Келози', 'Вартемяги', 'Тельмана',\n",
       "       'Севастьяново', 'Большая Ижора', 'nan', 'Павлово', 'Агалатово',\n",
       "       'Новогорелово', 'Лесогорский', 'Лаголово', 'Цвелодубово', 'Рахья',\n",
       "       'Белогорка', 'Заводской', 'Новоселье', 'Большие Колпаны',\n",
       "       'Горбунки', 'Батово', 'Заневка', 'Иссад', 'Приморск', 'Мистолово',\n",
       "       'Новая Ладога', 'Зимитицы', 'Барышево', 'Разметелево',\n",
       "       'имени Свердлова', 'Пеники', 'Рябово', 'Пудомяги',\n",
       "       'станции Корнево', 'Низино', 'Бегуницы', 'Поляны', 'Мга',\n",
       "       'Елизаветино', 'Кузнечное', 'Колтуши', 'Запорожское', 'Гостилицы',\n",
       "       'Малое Карлино', 'Мичуринское', 'имени Морозова', 'Песочный',\n",
       "       'Сосново', 'Аро', 'Ильичёво', 'Тайцы', 'Малое Верево', 'Извара',\n",
       "       'станции Вещево', 'село Паша', 'Калитино', 'Ульяновка',\n",
       "       'Чудской Бор', 'Дубровка', 'Мины', 'Войсковицы', 'Коркино',\n",
       "       'Ропша', 'Приладожский', 'Щеглово', 'Гаврилово', 'Лодейное Поле',\n",
       "       'Рабитицы', 'Никольский', 'Кузьмолово', 'Малые Колпаны',\n",
       "       'Петро-Славянка', 'Назия', 'Репино', 'Углово', 'Старая Малукса',\n",
       "       'садовое товарищество Рахья', 'Меньково', 'Старые Бегуницы',\n",
       "       'Сапёрный', 'Семрино', 'Глажево', 'Кобринское', 'Гарболово',\n",
       "       'Юкки', 'станции Приветнинское', 'Мануйлово', 'Пчева', 'Цвылёво',\n",
       "       'Мельниково', 'Пудость', 'Усть-Луга', 'Светогорск', 'Любань',\n",
       "       'Селезнёво', 'Каменногорск', 'Кривко', 'Глебычево', 'Парицы',\n",
       "       'Жилпоселок', 'Войскорово', 'село Никольское', 'Стеклянный',\n",
       "       'Важины', 'Мыза-Ивановка', 'село Русско-Высоцкое', 'Форносово',\n",
       "       'село Старая Ладога', 'Житково', 'Виллози', 'Лампово', 'Шпаньково',\n",
       "       'Лаврики', 'Сумино', 'Возрождение', 'Старосиверская', 'Кикерино',\n",
       "       'Старое Хинколово', 'Пригородный', 'Торфяное', 'Будогощь',\n",
       "       'Суходолье', 'Красная Долина', 'Хапо-Ое', 'Дружная Горка',\n",
       "       'Лисий Нос', 'Яльгелево', 'село Рождествено', 'Старополье',\n",
       "       'Левашово', 'Сяськелево', 'Камышовка',\n",
       "       'садоводческое некоммерческое товарищество Лесная Поляна',\n",
       "       'Хязельки', 'Жилгородок', 'Ялгино', 'Новый Учхоз', 'Гончарово',\n",
       "       'Почап', 'Сапёрное', 'Платформа 69-й километр', 'Каложицы',\n",
       "       'Фалилеево', 'Пельгора', 'Торошковичи', 'Белоостров', 'Алексеевка',\n",
       "       'Серебрянский', 'Лукаши', 'Тарасово', 'Кингисеппский',\n",
       "       'при железнодорожной станции Вещево', 'Ушаки', 'Котлы', 'Сижно',\n",
       "       'Торосово', 'Форт Красная Горка', 'Новолисино', 'станции Громово',\n",
       "       'Глинка', 'Старая Пустошь', 'Коммунары', 'Починок', 'Вознесенье',\n",
       "       'Разбегаево', 'Гладкое',\n",
       "       'при железнодорожной станции Приветнинское', 'Тёсово-4', 'Бор',\n",
       "       'Коробицыно', 'Большая Вруда', 'Курковицы', 'Кобралово',\n",
       "       'Суоранда', 'Кондратьево', 'коттеджный Счастье', 'Реброво',\n",
       "       'Тойворово', 'Семиозерье', 'Лесное', 'Совхозный', 'Ленинское',\n",
       "       'Суйда', 'Нижние Осельки', 'станции Свирь', 'Перово', 'Высоцк',\n",
       "       'село Шум', 'Котельский', 'станции Лужайка', 'Большая Пустомержа',\n",
       "       'Красносельское', 'Вахнова Кара', 'Пижма',\n",
       "       'коттеджный Кивеннапа Север', 'Ромашки', 'Каськово', 'Куровицы',\n",
       "       'Плоское', 'Кирпичное', 'Ям-Тесово', 'Раздолье', 'Терпилицы',\n",
       "       'Шугозеро', 'Ваганово', 'Пушное', 'садовое товарищество Садко',\n",
       "       'Усть-Ижора', 'Выскатка', 'Свирьстрой', 'Громово', 'Кисельня',\n",
       "       'Трубников Бор', 'Высокоключевой',\n",
       "       'садовое товарищество Приладожский', 'Пансионат Зелёный Бор',\n",
       "       'Ненимяки', 'Снегирёвка', 'Рапполово', 'Пустынка', 'Большой Сабск',\n",
       "       'Русско', 'Лупполово', 'Большое Рейзино', 'Малая Романовка',\n",
       "       'Дружноселье', 'Пчевжа', 'Володарское', 'Нижняя',\n",
       "       'коттеджный Лесное', 'Тихковицы', 'Борисова Грива', 'Дзержинского'],\n",
       "      dtype=object)"
      ]
     },
     "execution_count": 16,
     "metadata": {},
     "output_type": "execute_result"
    }
   ],
   "source": [
    "data['locality_new'].unique()"
   ]
  },
  {
   "cell_type": "code",
   "execution_count": 17,
   "metadata": {},
   "outputs": [
    {
     "data": {
      "text/plain": [
       "314"
      ]
     },
     "execution_count": 17,
     "metadata": {},
     "output_type": "execute_result"
    }
   ],
   "source": [
    "len(data['locality_new'].unique())"
   ]
  },
  {
   "cell_type": "code",
   "execution_count": 18,
   "metadata": {},
   "outputs": [
    {
     "data": {
      "text/plain": [
       "365"
      ]
     },
     "execution_count": 18,
     "metadata": {},
     "output_type": "execute_result"
    }
   ],
   "source": [
    "len(data['locality_name'].unique())"
   ]
  },
  {
   "cell_type": "markdown",
   "metadata": {},
   "source": [
    "Таким образом, нам удалось избавиться от 51 неявных дубликатов"
   ]
  },
  {
   "cell_type": "markdown",
   "metadata": {},
   "source": [
    "#### Найдем и устраним редкие и выбивающиеся значения.\n",
    "\n",
    "Например, в столбце ceiling_height может быть указана высота потолков 25 м и 32 м. Логично предположить, что на самом деле это вещественные значения: 2.5 м и 3.2 м. Попробуем обработать аномалии в этом и других столбцах.\n"
   ]
  },
  {
   "cell_type": "code",
   "execution_count": 19,
   "metadata": {},
   "outputs": [
    {
     "data": {
      "text/html": [
       "<div>\n",
       "<style scoped>\n",
       "    .dataframe tbody tr th:only-of-type {\n",
       "        vertical-align: middle;\n",
       "    }\n",
       "\n",
       "    .dataframe tbody tr th {\n",
       "        vertical-align: top;\n",
       "    }\n",
       "\n",
       "    .dataframe thead th {\n",
       "        text-align: right;\n",
       "    }\n",
       "</style>\n",
       "<table border=\"1\" class=\"dataframe\">\n",
       "  <thead>\n",
       "    <tr style=\"text-align: right;\">\n",
       "      <th></th>\n",
       "      <th>total_images</th>\n",
       "      <th>last_price</th>\n",
       "      <th>total_area</th>\n",
       "      <th>rooms</th>\n",
       "      <th>ceiling_height</th>\n",
       "      <th>floors_total</th>\n",
       "      <th>living_area</th>\n",
       "      <th>floor</th>\n",
       "      <th>kitchen_area</th>\n",
       "      <th>balcony</th>\n",
       "      <th>airports_nearest</th>\n",
       "      <th>cityCenters_nearest</th>\n",
       "      <th>parks_around3000</th>\n",
       "      <th>parks_nearest</th>\n",
       "      <th>ponds_around3000</th>\n",
       "      <th>ponds_nearest</th>\n",
       "      <th>days_exposition</th>\n",
       "    </tr>\n",
       "  </thead>\n",
       "  <tbody>\n",
       "    <tr>\n",
       "      <th>count</th>\n",
       "      <td>23699.000000</td>\n",
       "      <td>2.369900e+04</td>\n",
       "      <td>23699.000000</td>\n",
       "      <td>23699.000000</td>\n",
       "      <td>14504.000000</td>\n",
       "      <td>23613.000000</td>\n",
       "      <td>21796.000000</td>\n",
       "      <td>23699.000000</td>\n",
       "      <td>21421.000000</td>\n",
       "      <td>23699.000000</td>\n",
       "      <td>18157.000000</td>\n",
       "      <td>18180.000000</td>\n",
       "      <td>18181.000000</td>\n",
       "      <td>8079.000000</td>\n",
       "      <td>18181.000000</td>\n",
       "      <td>9110.000000</td>\n",
       "      <td>20518.000000</td>\n",
       "    </tr>\n",
       "    <tr>\n",
       "      <th>mean</th>\n",
       "      <td>9.858475</td>\n",
       "      <td>6.541549e+06</td>\n",
       "      <td>60.348651</td>\n",
       "      <td>2.070636</td>\n",
       "      <td>2.771499</td>\n",
       "      <td>10.673824</td>\n",
       "      <td>34.457852</td>\n",
       "      <td>5.892358</td>\n",
       "      <td>10.569807</td>\n",
       "      <td>0.591080</td>\n",
       "      <td>28793.672193</td>\n",
       "      <td>14191.277833</td>\n",
       "      <td>0.611408</td>\n",
       "      <td>490.804555</td>\n",
       "      <td>0.770255</td>\n",
       "      <td>517.980900</td>\n",
       "      <td>180.888634</td>\n",
       "    </tr>\n",
       "    <tr>\n",
       "      <th>std</th>\n",
       "      <td>5.682529</td>\n",
       "      <td>1.088701e+07</td>\n",
       "      <td>35.654083</td>\n",
       "      <td>1.078405</td>\n",
       "      <td>1.261056</td>\n",
       "      <td>6.597173</td>\n",
       "      <td>22.030445</td>\n",
       "      <td>4.885249</td>\n",
       "      <td>5.905438</td>\n",
       "      <td>0.959298</td>\n",
       "      <td>12630.880622</td>\n",
       "      <td>8608.386210</td>\n",
       "      <td>0.802074</td>\n",
       "      <td>342.317995</td>\n",
       "      <td>0.938346</td>\n",
       "      <td>277.720643</td>\n",
       "      <td>219.727988</td>\n",
       "    </tr>\n",
       "    <tr>\n",
       "      <th>min</th>\n",
       "      <td>0.000000</td>\n",
       "      <td>1.219000e+04</td>\n",
       "      <td>12.000000</td>\n",
       "      <td>0.000000</td>\n",
       "      <td>1.000000</td>\n",
       "      <td>1.000000</td>\n",
       "      <td>2.000000</td>\n",
       "      <td>1.000000</td>\n",
       "      <td>1.300000</td>\n",
       "      <td>0.000000</td>\n",
       "      <td>0.000000</td>\n",
       "      <td>181.000000</td>\n",
       "      <td>0.000000</td>\n",
       "      <td>1.000000</td>\n",
       "      <td>0.000000</td>\n",
       "      <td>13.000000</td>\n",
       "      <td>1.000000</td>\n",
       "    </tr>\n",
       "    <tr>\n",
       "      <th>25%</th>\n",
       "      <td>6.000000</td>\n",
       "      <td>3.400000e+06</td>\n",
       "      <td>40.000000</td>\n",
       "      <td>1.000000</td>\n",
       "      <td>2.520000</td>\n",
       "      <td>5.000000</td>\n",
       "      <td>18.600000</td>\n",
       "      <td>2.000000</td>\n",
       "      <td>7.000000</td>\n",
       "      <td>0.000000</td>\n",
       "      <td>18585.000000</td>\n",
       "      <td>9238.000000</td>\n",
       "      <td>0.000000</td>\n",
       "      <td>288.000000</td>\n",
       "      <td>0.000000</td>\n",
       "      <td>294.000000</td>\n",
       "      <td>45.000000</td>\n",
       "    </tr>\n",
       "    <tr>\n",
       "      <th>50%</th>\n",
       "      <td>9.000000</td>\n",
       "      <td>4.650000e+06</td>\n",
       "      <td>52.000000</td>\n",
       "      <td>2.000000</td>\n",
       "      <td>2.650000</td>\n",
       "      <td>9.000000</td>\n",
       "      <td>30.000000</td>\n",
       "      <td>4.000000</td>\n",
       "      <td>9.100000</td>\n",
       "      <td>0.000000</td>\n",
       "      <td>26726.000000</td>\n",
       "      <td>13098.500000</td>\n",
       "      <td>0.000000</td>\n",
       "      <td>455.000000</td>\n",
       "      <td>1.000000</td>\n",
       "      <td>502.000000</td>\n",
       "      <td>95.000000</td>\n",
       "    </tr>\n",
       "    <tr>\n",
       "      <th>75%</th>\n",
       "      <td>14.000000</td>\n",
       "      <td>6.800000e+06</td>\n",
       "      <td>69.900000</td>\n",
       "      <td>3.000000</td>\n",
       "      <td>2.800000</td>\n",
       "      <td>16.000000</td>\n",
       "      <td>42.300000</td>\n",
       "      <td>8.000000</td>\n",
       "      <td>12.000000</td>\n",
       "      <td>1.000000</td>\n",
       "      <td>37273.000000</td>\n",
       "      <td>16293.000000</td>\n",
       "      <td>1.000000</td>\n",
       "      <td>612.000000</td>\n",
       "      <td>1.000000</td>\n",
       "      <td>729.000000</td>\n",
       "      <td>232.000000</td>\n",
       "    </tr>\n",
       "    <tr>\n",
       "      <th>max</th>\n",
       "      <td>50.000000</td>\n",
       "      <td>7.630000e+08</td>\n",
       "      <td>900.000000</td>\n",
       "      <td>19.000000</td>\n",
       "      <td>100.000000</td>\n",
       "      <td>60.000000</td>\n",
       "      <td>409.700000</td>\n",
       "      <td>33.000000</td>\n",
       "      <td>112.000000</td>\n",
       "      <td>5.000000</td>\n",
       "      <td>84869.000000</td>\n",
       "      <td>65968.000000</td>\n",
       "      <td>3.000000</td>\n",
       "      <td>3190.000000</td>\n",
       "      <td>3.000000</td>\n",
       "      <td>1344.000000</td>\n",
       "      <td>1580.000000</td>\n",
       "    </tr>\n",
       "  </tbody>\n",
       "</table>\n",
       "</div>"
      ],
      "text/plain": [
       "       total_images    last_price    total_area         rooms  ceiling_height  \\\n",
       "count  23699.000000  2.369900e+04  23699.000000  23699.000000    14504.000000   \n",
       "mean       9.858475  6.541549e+06     60.348651      2.070636        2.771499   \n",
       "std        5.682529  1.088701e+07     35.654083      1.078405        1.261056   \n",
       "min        0.000000  1.219000e+04     12.000000      0.000000        1.000000   \n",
       "25%        6.000000  3.400000e+06     40.000000      1.000000        2.520000   \n",
       "50%        9.000000  4.650000e+06     52.000000      2.000000        2.650000   \n",
       "75%       14.000000  6.800000e+06     69.900000      3.000000        2.800000   \n",
       "max       50.000000  7.630000e+08    900.000000     19.000000      100.000000   \n",
       "\n",
       "       floors_total   living_area         floor  kitchen_area       balcony  \\\n",
       "count  23613.000000  21796.000000  23699.000000  21421.000000  23699.000000   \n",
       "mean      10.673824     34.457852      5.892358     10.569807      0.591080   \n",
       "std        6.597173     22.030445      4.885249      5.905438      0.959298   \n",
       "min        1.000000      2.000000      1.000000      1.300000      0.000000   \n",
       "25%        5.000000     18.600000      2.000000      7.000000      0.000000   \n",
       "50%        9.000000     30.000000      4.000000      9.100000      0.000000   \n",
       "75%       16.000000     42.300000      8.000000     12.000000      1.000000   \n",
       "max       60.000000    409.700000     33.000000    112.000000      5.000000   \n",
       "\n",
       "       airports_nearest  cityCenters_nearest  parks_around3000  parks_nearest  \\\n",
       "count      18157.000000         18180.000000      18181.000000    8079.000000   \n",
       "mean       28793.672193         14191.277833          0.611408     490.804555   \n",
       "std        12630.880622          8608.386210          0.802074     342.317995   \n",
       "min            0.000000           181.000000          0.000000       1.000000   \n",
       "25%        18585.000000          9238.000000          0.000000     288.000000   \n",
       "50%        26726.000000         13098.500000          0.000000     455.000000   \n",
       "75%        37273.000000         16293.000000          1.000000     612.000000   \n",
       "max        84869.000000         65968.000000          3.000000    3190.000000   \n",
       "\n",
       "       ponds_around3000  ponds_nearest  days_exposition  \n",
       "count      18181.000000    9110.000000     20518.000000  \n",
       "mean           0.770255     517.980900       180.888634  \n",
       "std            0.938346     277.720643       219.727988  \n",
       "min            0.000000      13.000000         1.000000  \n",
       "25%            0.000000     294.000000        45.000000  \n",
       "50%            1.000000     502.000000        95.000000  \n",
       "75%            1.000000     729.000000       232.000000  \n",
       "max            3.000000    1344.000000      1580.000000  "
      ]
     },
     "execution_count": 19,
     "metadata": {},
     "output_type": "execute_result"
    }
   ],
   "source": [
    "#посмотрим на общие характеристики каждой переменной, чтобы найти аномалии\n",
    "data.describe()"
   ]
  },
  {
   "cell_type": "code",
   "execution_count": 20,
   "metadata": {},
   "outputs": [
    {
     "data": {
      "text/html": [
       "<div>\n",
       "<style scoped>\n",
       "    .dataframe tbody tr th:only-of-type {\n",
       "        vertical-align: middle;\n",
       "    }\n",
       "\n",
       "    .dataframe tbody tr th {\n",
       "        vertical-align: top;\n",
       "    }\n",
       "\n",
       "    .dataframe thead th {\n",
       "        text-align: right;\n",
       "    }\n",
       "</style>\n",
       "<table border=\"1\" class=\"dataframe\">\n",
       "  <thead>\n",
       "    <tr style=\"text-align: right;\">\n",
       "      <th></th>\n",
       "      <th>total_images</th>\n",
       "      <th>last_price</th>\n",
       "      <th>total_area</th>\n",
       "      <th>first_day_exposition</th>\n",
       "      <th>rooms</th>\n",
       "      <th>ceiling_height</th>\n",
       "      <th>floors_total</th>\n",
       "      <th>living_area</th>\n",
       "      <th>floor</th>\n",
       "      <th>is_apartment</th>\n",
       "      <th>...</th>\n",
       "      <th>balcony</th>\n",
       "      <th>locality_name</th>\n",
       "      <th>airports_nearest</th>\n",
       "      <th>cityCenters_nearest</th>\n",
       "      <th>parks_around3000</th>\n",
       "      <th>parks_nearest</th>\n",
       "      <th>ponds_around3000</th>\n",
       "      <th>ponds_nearest</th>\n",
       "      <th>days_exposition</th>\n",
       "      <th>locality_new</th>\n",
       "    </tr>\n",
       "  </thead>\n",
       "  <tbody>\n",
       "    <tr>\n",
       "      <th>19540</th>\n",
       "      <td>8</td>\n",
       "      <td>420000000</td>\n",
       "      <td>900.0</td>\n",
       "      <td>2017-12-06</td>\n",
       "      <td>12</td>\n",
       "      <td>2.8</td>\n",
       "      <td>25.0</td>\n",
       "      <td>409.7</td>\n",
       "      <td>25</td>\n",
       "      <td>False</td>\n",
       "      <td>...</td>\n",
       "      <td>0</td>\n",
       "      <td>Санкт-Петербург</td>\n",
       "      <td>30706</td>\n",
       "      <td>7877</td>\n",
       "      <td>0</td>\n",
       "      <td>&lt;NA&gt;</td>\n",
       "      <td>2</td>\n",
       "      <td>318</td>\n",
       "      <td>106.0</td>\n",
       "      <td>Санкт-Петербург</td>\n",
       "    </tr>\n",
       "  </tbody>\n",
       "</table>\n",
       "<p>1 rows × 23 columns</p>\n",
       "</div>"
      ],
      "text/plain": [
       "       total_images  last_price  total_area first_day_exposition  rooms  \\\n",
       "19540             8   420000000       900.0           2017-12-06     12   \n",
       "\n",
       "       ceiling_height  floors_total  living_area  floor  is_apartment  ...  \\\n",
       "19540             2.8          25.0        409.7     25         False  ...   \n",
       "\n",
       "       balcony    locality_name  airports_nearest  cityCenters_nearest  \\\n",
       "19540        0  Санкт-Петербург             30706                 7877   \n",
       "\n",
       "      parks_around3000  parks_nearest  ponds_around3000  ponds_nearest  \\\n",
       "19540                0           <NA>                 2            318   \n",
       "\n",
       "       days_exposition     locality_new  \n",
       "19540            106.0  Санкт-Петербург  \n",
       "\n",
       "[1 rows x 23 columns]"
      ]
     },
     "execution_count": 20,
     "metadata": {},
     "output_type": "execute_result"
    }
   ],
   "source": [
    "#обратимся к самой болшой кухне в выборке, чтобы понять, нет ли здесь ошибкм\n",
    "data[data['kitchen_area']==112]"
   ]
  },
  {
   "cell_type": "markdown",
   "metadata": {},
   "source": [
    "Квартира с общей площадью 900 м2 и кухней в 112 м2 выглядит сильно отличающейся от других представителей выборки, удалим это наблюдение как аномальное"
   ]
  },
  {
   "cell_type": "code",
   "execution_count": 21,
   "metadata": {},
   "outputs": [],
   "source": [
    "data = data[data['kitchen_area']!=112]"
   ]
  },
  {
   "cell_type": "code",
   "execution_count": 22,
   "metadata": {},
   "outputs": [],
   "source": [
    "#добавим новые индексы после удаления одного наблюдения\n",
    "data = data.reset_index(drop=True)"
   ]
  },
  {
   "cell_type": "markdown",
   "metadata": {},
   "source": [
    "Наиболее подозрительно выглядит переменная ceiling_height, где максимальная высота потолка- 100 м. Рассмотрим эту переменную и попробуем избавиться от аномалии"
   ]
  },
  {
   "cell_type": "code",
   "execution_count": 23,
   "metadata": {},
   "outputs": [
    {
     "data": {
      "text/plain": [
       "<AxesSubplot:>"
      ]
     },
     "execution_count": 23,
     "metadata": {},
     "output_type": "execute_result"
    },
    {
     "data": {
      "image/png": "[encoded data removed]",
      "text/plain": [
       "<Figure size 432x288 with 1 Axes>"
      ]
     },
     "metadata": {
      "needs_background": "light"
     },
     "output_type": "display_data"
    }
   ],
   "source": [
    "data.boxplot('ceiling_height')"
   ]
  },
  {
   "cell_type": "markdown",
   "metadata": {},
   "source": [
    "75% значений переменной высоты потолков находятся до 2,8 метров. Если смотреть на боксплот, то потолки выше 10 метров встречаются реже, чем основная масса наблюдений, а после 20 метров возникают пики - скорее всего, это потолки в 2, 2,5 метров с искаженными значениями. "
   ]
  },
  {
   "cell_type": "code",
   "execution_count": 24,
   "metadata": {},
   "outputs": [
    {
     "data": {
      "text/plain": [
       "count    14502.000000\n",
       "mean         2.764792\n",
       "std          0.968774\n",
       "min          1.000000\n",
       "25%          2.520000\n",
       "50%          2.650000\n",
       "75%          2.800000\n",
       "max         32.000000\n",
       "Name: ceiling_height, dtype: float64"
      ]
     },
     "execution_count": 24,
     "metadata": {},
     "output_type": "execute_result"
    }
   ],
   "source": [
    "#Для начала избавимся от аномального 100 метрового потолка. даже если мы его разделим на 10, все равно получится слишком много, так что лучше его убрать. \n",
    "data['ceiling_height']= data.loc[data['ceiling_height']!=100, 'ceiling_height']\n",
    "data['ceiling_height'].describe()"
   ]
  },
  {
   "cell_type": "code",
   "execution_count": 25,
   "metadata": {},
   "outputs": [
    {
     "data": {
      "text/plain": [
       "<AxesSubplot:>"
      ]
     },
     "execution_count": 25,
     "metadata": {},
     "output_type": "execute_result"
    },
    {
     "data": {
      "image/png": "[encoded data removed]",
      "text/plain": [
       "<Figure size 432x288 with 1 Axes>"
      ]
     },
     "metadata": {
      "needs_background": "light"
     },
     "output_type": "display_data"
    }
   ],
   "source": [
    "data.boxplot('ceiling_height')"
   ]
  },
  {
   "cell_type": "markdown",
   "metadata": {},
   "source": [
    "Минимальная высота потолков в выборке - 1 метр - мало, но, возможно, это какие-то спец помещения или капсулы для сна. 1 метр будем считать адекватным минимальным значением, поэтому удалять аномалии будем для наблюдений с высотой потолка в 10 метров и больше."
   ]
  },
  {
   "cell_type": "code",
   "execution_count": 26,
   "metadata": {},
   "outputs": [],
   "source": [
    "data.loc[data['ceiling_height']>10, 'ceiling_height'] = data.loc[data['ceiling_height']>10, 'ceiling_height']/10"
   ]
  },
  {
   "cell_type": "markdown",
   "metadata": {},
   "source": [
    "### Решаем задачу: посчитайте и добавьте в таблицу новые столбцы"
   ]
  },
  {
   "cell_type": "markdown",
   "metadata": {},
   "source": [
    "- цена одного квадратного метра;\n",
    "- день недели публикации объявления (0 — понедельник, 1 — вторник и так далее);\n",
    "- месяц публикации объявления;\n",
    "- год публикации объявления;\n",
    "- тип этажа квартиры (значения — «‎первый», «последний», «другой»);\n",
    "- расстояние до центра города в километрах (переведите из м в км и округлите до целых значений)."
   ]
  },
  {
   "cell_type": "code",
   "execution_count": 27,
   "metadata": {},
   "outputs": [
    {
     "data": {
      "text/plain": [
       "0    120370.0\n",
       "1     82921.0\n",
       "2     92786.0\n",
       "3    408176.0\n",
       "4    100000.0\n",
       "5     95066.0\n",
       "6     99196.0\n",
       "7    110545.0\n",
       "8     87455.0\n",
       "9     88525.0\n",
       "Name: metr_price, dtype: float64"
      ]
     },
     "execution_count": 27,
     "metadata": {},
     "output_type": "execute_result"
    }
   ],
   "source": [
    "# добавим цену одного квадратного метра\n",
    "data['metr_price'] = (data['last_price']/data['total_area']).astype(float).round().round(0)\n",
    "data['metr_price'].head(10)"
   ]
  },
  {
   "cell_type": "code",
   "execution_count": 28,
   "metadata": {},
   "outputs": [],
   "source": [
    "# добавим день недели публикации\n",
    "data['expo_weekday'] = data['first_day_exposition'].dt.dayofweek"
   ]
  },
  {
   "cell_type": "code",
   "execution_count": 29,
   "metadata": {},
   "outputs": [],
   "source": [
    "#добавим год публикации объявления\n",
    "data['expo_year'] = data['first_day_exposition'].dt.year"
   ]
  },
  {
   "cell_type": "code",
   "execution_count": 30,
   "metadata": {},
   "outputs": [],
   "source": [
    "#тип этажа квартиры (значения — «‎первый», «последний», «другой»);\n",
    "data['floor_type'] = 0 #создаем столбец 'floor_type'\n",
    "\n",
    "for i in range(len(data)):\n",
    "    if data['floor'][i] == 1:\n",
    "        data['floor_type'][i] = 'первый'\n",
    "    elif data['floor'][i] == data['floors_total'][i]:\n",
    "        data['floor_type'][i] = 'последний'\n",
    "    else:\n",
    "        data['floor_type'][i] ='другой'"
   ]
  },
  {
   "cell_type": "code",
   "execution_count": 31,
   "metadata": {},
   "outputs": [
    {
     "data": {
      "text/html": [
       "<div>\n",
       "<style scoped>\n",
       "    .dataframe tbody tr th:only-of-type {\n",
       "        vertical-align: middle;\n",
       "    }\n",
       "\n",
       "    .dataframe tbody tr th {\n",
       "        vertical-align: top;\n",
       "    }\n",
       "\n",
       "    .dataframe thead th {\n",
       "        text-align: right;\n",
       "    }\n",
       "</style>\n",
       "<table border=\"1\" class=\"dataframe\">\n",
       "  <thead>\n",
       "    <tr style=\"text-align: right;\">\n",
       "      <th></th>\n",
       "      <th>cityCenters_nearest</th>\n",
       "      <th>km_to_center</th>\n",
       "    </tr>\n",
       "  </thead>\n",
       "  <tbody>\n",
       "    <tr>\n",
       "      <th>0</th>\n",
       "      <td>16028</td>\n",
       "      <td>16.0</td>\n",
       "    </tr>\n",
       "    <tr>\n",
       "      <th>1</th>\n",
       "      <td>18603</td>\n",
       "      <td>19.0</td>\n",
       "    </tr>\n",
       "    <tr>\n",
       "      <th>2</th>\n",
       "      <td>13933</td>\n",
       "      <td>14.0</td>\n",
       "    </tr>\n",
       "    <tr>\n",
       "      <th>3</th>\n",
       "      <td>6800</td>\n",
       "      <td>7.0</td>\n",
       "    </tr>\n",
       "    <tr>\n",
       "      <th>4</th>\n",
       "      <td>8098</td>\n",
       "      <td>8.0</td>\n",
       "    </tr>\n",
       "  </tbody>\n",
       "</table>\n",
       "</div>"
      ],
      "text/plain": [
       "   cityCenters_nearest  km_to_center\n",
       "0                16028          16.0\n",
       "1                18603          19.0\n",
       "2                13933          14.0\n",
       "3                 6800           7.0\n",
       "4                 8098           8.0"
      ]
     },
     "execution_count": 31,
     "metadata": {},
     "output_type": "execute_result"
    }
   ],
   "source": [
    "# расстояние до центра города в километрах\n",
    "data['km_to_center'] = (data['cityCenters_nearest']/1000).astype(float).round(0)\n",
    "data[['cityCenters_nearest', 'km_to_center']].head()"
   ]
  },
  {
   "cell_type": "code",
   "execution_count": 32,
   "metadata": {},
   "outputs": [
    {
     "data": {
      "text/html": [
       "<div>\n",
       "<style scoped>\n",
       "    .dataframe tbody tr th:only-of-type {\n",
       "        vertical-align: middle;\n",
       "    }\n",
       "\n",
       "    .dataframe tbody tr th {\n",
       "        vertical-align: top;\n",
       "    }\n",
       "\n",
       "    .dataframe thead th {\n",
       "        text-align: right;\n",
       "    }\n",
       "</style>\n",
       "<table border=\"1\" class=\"dataframe\">\n",
       "  <thead>\n",
       "    <tr style=\"text-align: right;\">\n",
       "      <th></th>\n",
       "      <th>total_images</th>\n",
       "      <th>last_price</th>\n",
       "      <th>total_area</th>\n",
       "      <th>first_day_exposition</th>\n",
       "      <th>rooms</th>\n",
       "      <th>ceiling_height</th>\n",
       "      <th>floors_total</th>\n",
       "      <th>living_area</th>\n",
       "      <th>floor</th>\n",
       "      <th>is_apartment</th>\n",
       "      <th>...</th>\n",
       "      <th>ponds_nearest</th>\n",
       "      <th>days_exposition</th>\n",
       "      <th>locality_new</th>\n",
       "      <th>metr_price</th>\n",
       "      <th>expo_weekday</th>\n",
       "      <th>expo_year</th>\n",
       "      <th>floor_type</th>\n",
       "      <th>km_to_center</th>\n",
       "      <th>expo_day</th>\n",
       "      <th>expo_month</th>\n",
       "    </tr>\n",
       "  </thead>\n",
       "  <tbody>\n",
       "    <tr>\n",
       "      <th>0</th>\n",
       "      <td>20</td>\n",
       "      <td>13000000</td>\n",
       "      <td>108.00</td>\n",
       "      <td>2019-03-07</td>\n",
       "      <td>3</td>\n",
       "      <td>2.70</td>\n",
       "      <td>16.0</td>\n",
       "      <td>51.0</td>\n",
       "      <td>8</td>\n",
       "      <td>False</td>\n",
       "      <td>...</td>\n",
       "      <td>755</td>\n",
       "      <td>NaN</td>\n",
       "      <td>Санкт-Петербург</td>\n",
       "      <td>120370.0</td>\n",
       "      <td>3</td>\n",
       "      <td>2019</td>\n",
       "      <td>другой</td>\n",
       "      <td>16.0</td>\n",
       "      <td>7</td>\n",
       "      <td>3</td>\n",
       "    </tr>\n",
       "    <tr>\n",
       "      <th>1</th>\n",
       "      <td>7</td>\n",
       "      <td>3350000</td>\n",
       "      <td>40.40</td>\n",
       "      <td>2018-12-04</td>\n",
       "      <td>1</td>\n",
       "      <td>NaN</td>\n",
       "      <td>11.0</td>\n",
       "      <td>18.6</td>\n",
       "      <td>1</td>\n",
       "      <td>False</td>\n",
       "      <td>...</td>\n",
       "      <td>&lt;NA&gt;</td>\n",
       "      <td>81.0</td>\n",
       "      <td>Шушары</td>\n",
       "      <td>82921.0</td>\n",
       "      <td>1</td>\n",
       "      <td>2018</td>\n",
       "      <td>первый</td>\n",
       "      <td>19.0</td>\n",
       "      <td>4</td>\n",
       "      <td>12</td>\n",
       "    </tr>\n",
       "    <tr>\n",
       "      <th>2</th>\n",
       "      <td>10</td>\n",
       "      <td>5196000</td>\n",
       "      <td>56.00</td>\n",
       "      <td>2015-08-20</td>\n",
       "      <td>2</td>\n",
       "      <td>NaN</td>\n",
       "      <td>5.0</td>\n",
       "      <td>34.3</td>\n",
       "      <td>4</td>\n",
       "      <td>False</td>\n",
       "      <td>...</td>\n",
       "      <td>574</td>\n",
       "      <td>558.0</td>\n",
       "      <td>Санкт-Петербург</td>\n",
       "      <td>92786.0</td>\n",
       "      <td>3</td>\n",
       "      <td>2015</td>\n",
       "      <td>другой</td>\n",
       "      <td>14.0</td>\n",
       "      <td>20</td>\n",
       "      <td>8</td>\n",
       "    </tr>\n",
       "    <tr>\n",
       "      <th>3</th>\n",
       "      <td>0</td>\n",
       "      <td>64900000</td>\n",
       "      <td>159.00</td>\n",
       "      <td>2015-07-24</td>\n",
       "      <td>3</td>\n",
       "      <td>NaN</td>\n",
       "      <td>14.0</td>\n",
       "      <td>NaN</td>\n",
       "      <td>9</td>\n",
       "      <td>False</td>\n",
       "      <td>...</td>\n",
       "      <td>234</td>\n",
       "      <td>424.0</td>\n",
       "      <td>Санкт-Петербург</td>\n",
       "      <td>408176.0</td>\n",
       "      <td>4</td>\n",
       "      <td>2015</td>\n",
       "      <td>другой</td>\n",
       "      <td>7.0</td>\n",
       "      <td>24</td>\n",
       "      <td>7</td>\n",
       "    </tr>\n",
       "    <tr>\n",
       "      <th>4</th>\n",
       "      <td>2</td>\n",
       "      <td>10000000</td>\n",
       "      <td>100.00</td>\n",
       "      <td>2018-06-19</td>\n",
       "      <td>2</td>\n",
       "      <td>3.03</td>\n",
       "      <td>14.0</td>\n",
       "      <td>32.0</td>\n",
       "      <td>13</td>\n",
       "      <td>False</td>\n",
       "      <td>...</td>\n",
       "      <td>48</td>\n",
       "      <td>121.0</td>\n",
       "      <td>Санкт-Петербург</td>\n",
       "      <td>100000.0</td>\n",
       "      <td>1</td>\n",
       "      <td>2018</td>\n",
       "      <td>другой</td>\n",
       "      <td>8.0</td>\n",
       "      <td>19</td>\n",
       "      <td>6</td>\n",
       "    </tr>\n",
       "    <tr>\n",
       "      <th>...</th>\n",
       "      <td>...</td>\n",
       "      <td>...</td>\n",
       "      <td>...</td>\n",
       "      <td>...</td>\n",
       "      <td>...</td>\n",
       "      <td>...</td>\n",
       "      <td>...</td>\n",
       "      <td>...</td>\n",
       "      <td>...</td>\n",
       "      <td>...</td>\n",
       "      <td>...</td>\n",
       "      <td>...</td>\n",
       "      <td>...</td>\n",
       "      <td>...</td>\n",
       "      <td>...</td>\n",
       "      <td>...</td>\n",
       "      <td>...</td>\n",
       "      <td>...</td>\n",
       "      <td>...</td>\n",
       "      <td>...</td>\n",
       "      <td>...</td>\n",
       "    </tr>\n",
       "    <tr>\n",
       "      <th>23693</th>\n",
       "      <td>9</td>\n",
       "      <td>9700000</td>\n",
       "      <td>133.81</td>\n",
       "      <td>2017-03-21</td>\n",
       "      <td>3</td>\n",
       "      <td>3.70</td>\n",
       "      <td>5.0</td>\n",
       "      <td>73.3</td>\n",
       "      <td>3</td>\n",
       "      <td>False</td>\n",
       "      <td>...</td>\n",
       "      <td>381</td>\n",
       "      <td>NaN</td>\n",
       "      <td>Санкт-Петербург</td>\n",
       "      <td>72491.0</td>\n",
       "      <td>1</td>\n",
       "      <td>2017</td>\n",
       "      <td>другой</td>\n",
       "      <td>4.0</td>\n",
       "      <td>21</td>\n",
       "      <td>3</td>\n",
       "    </tr>\n",
       "    <tr>\n",
       "      <th>23694</th>\n",
       "      <td>14</td>\n",
       "      <td>3100000</td>\n",
       "      <td>59.00</td>\n",
       "      <td>2018-01-15</td>\n",
       "      <td>3</td>\n",
       "      <td>NaN</td>\n",
       "      <td>5.0</td>\n",
       "      <td>38.0</td>\n",
       "      <td>4</td>\n",
       "      <td>False</td>\n",
       "      <td>...</td>\n",
       "      <td>&lt;NA&gt;</td>\n",
       "      <td>45.0</td>\n",
       "      <td>Тосно</td>\n",
       "      <td>52542.0</td>\n",
       "      <td>0</td>\n",
       "      <td>2018</td>\n",
       "      <td>другой</td>\n",
       "      <td>NaN</td>\n",
       "      <td>15</td>\n",
       "      <td>1</td>\n",
       "    </tr>\n",
       "    <tr>\n",
       "      <th>23695</th>\n",
       "      <td>18</td>\n",
       "      <td>2500000</td>\n",
       "      <td>56.70</td>\n",
       "      <td>2018-02-11</td>\n",
       "      <td>2</td>\n",
       "      <td>NaN</td>\n",
       "      <td>3.0</td>\n",
       "      <td>29.7</td>\n",
       "      <td>1</td>\n",
       "      <td>False</td>\n",
       "      <td>...</td>\n",
       "      <td>&lt;NA&gt;</td>\n",
       "      <td>NaN</td>\n",
       "      <td>село Рождествено</td>\n",
       "      <td>44092.0</td>\n",
       "      <td>6</td>\n",
       "      <td>2018</td>\n",
       "      <td>первый</td>\n",
       "      <td>NaN</td>\n",
       "      <td>11</td>\n",
       "      <td>2</td>\n",
       "    </tr>\n",
       "    <tr>\n",
       "      <th>23696</th>\n",
       "      <td>13</td>\n",
       "      <td>11475000</td>\n",
       "      <td>76.75</td>\n",
       "      <td>2017-03-28</td>\n",
       "      <td>2</td>\n",
       "      <td>3.00</td>\n",
       "      <td>17.0</td>\n",
       "      <td>NaN</td>\n",
       "      <td>12</td>\n",
       "      <td>False</td>\n",
       "      <td>...</td>\n",
       "      <td>196</td>\n",
       "      <td>602.0</td>\n",
       "      <td>Санкт-Петербург</td>\n",
       "      <td>149511.0</td>\n",
       "      <td>1</td>\n",
       "      <td>2017</td>\n",
       "      <td>другой</td>\n",
       "      <td>10.0</td>\n",
       "      <td>28</td>\n",
       "      <td>3</td>\n",
       "    </tr>\n",
       "    <tr>\n",
       "      <th>23697</th>\n",
       "      <td>4</td>\n",
       "      <td>1350000</td>\n",
       "      <td>32.30</td>\n",
       "      <td>2017-07-21</td>\n",
       "      <td>1</td>\n",
       "      <td>2.50</td>\n",
       "      <td>5.0</td>\n",
       "      <td>12.3</td>\n",
       "      <td>1</td>\n",
       "      <td>False</td>\n",
       "      <td>...</td>\n",
       "      <td>&lt;NA&gt;</td>\n",
       "      <td>NaN</td>\n",
       "      <td>Новый Учхоз</td>\n",
       "      <td>41796.0</td>\n",
       "      <td>4</td>\n",
       "      <td>2017</td>\n",
       "      <td>первый</td>\n",
       "      <td>NaN</td>\n",
       "      <td>21</td>\n",
       "      <td>7</td>\n",
       "    </tr>\n",
       "  </tbody>\n",
       "</table>\n",
       "<p>23698 rows × 30 columns</p>\n",
       "</div>"
      ],
      "text/plain": [
       "       total_images  last_price  total_area first_day_exposition  rooms  \\\n",
       "0                20    13000000      108.00           2019-03-07      3   \n",
       "1                 7     3350000       40.40           2018-12-04      1   \n",
       "2                10     5196000       56.00           2015-08-20      2   \n",
       "3                 0    64900000      159.00           2015-07-24      3   \n",
       "4                 2    10000000      100.00           2018-06-19      2   \n",
       "...             ...         ...         ...                  ...    ...   \n",
       "23693             9     9700000      133.81           2017-03-21      3   \n",
       "23694            14     3100000       59.00           2018-01-15      3   \n",
       "23695            18     2500000       56.70           2018-02-11      2   \n",
       "23696            13    11475000       76.75           2017-03-28      2   \n",
       "23697             4     1350000       32.30           2017-07-21      1   \n",
       "\n",
       "       ceiling_height  floors_total  living_area  floor  is_apartment  ...  \\\n",
       "0                2.70          16.0         51.0      8         False  ...   \n",
       "1                 NaN          11.0         18.6      1         False  ...   \n",
       "2                 NaN           5.0         34.3      4         False  ...   \n",
       "3                 NaN          14.0          NaN      9         False  ...   \n",
       "4                3.03          14.0         32.0     13         False  ...   \n",
       "...               ...           ...          ...    ...           ...  ...   \n",
       "23693            3.70           5.0         73.3      3         False  ...   \n",
       "23694             NaN           5.0         38.0      4         False  ...   \n",
       "23695             NaN           3.0         29.7      1         False  ...   \n",
       "23696            3.00          17.0          NaN     12         False  ...   \n",
       "23697            2.50           5.0         12.3      1         False  ...   \n",
       "\n",
       "       ponds_nearest  days_exposition      locality_new  metr_price  \\\n",
       "0                755              NaN   Санкт-Петербург    120370.0   \n",
       "1               <NA>             81.0            Шушары     82921.0   \n",
       "2                574            558.0   Санкт-Петербург     92786.0   \n",
       "3                234            424.0   Санкт-Петербург    408176.0   \n",
       "4                 48            121.0   Санкт-Петербург    100000.0   \n",
       "...              ...              ...               ...         ...   \n",
       "23693            381              NaN   Санкт-Петербург     72491.0   \n",
       "23694           <NA>             45.0             Тосно     52542.0   \n",
       "23695           <NA>              NaN  село Рождествено     44092.0   \n",
       "23696            196            602.0   Санкт-Петербург    149511.0   \n",
       "23697           <NA>              NaN       Новый Учхоз     41796.0   \n",
       "\n",
       "      expo_weekday  expo_year  floor_type  km_to_center  expo_day  expo_month  \n",
       "0                3       2019      другой          16.0         7           3  \n",
       "1                1       2018      первый          19.0         4          12  \n",
       "2                3       2015      другой          14.0        20           8  \n",
       "3                4       2015      другой           7.0        24           7  \n",
       "4                1       2018      другой           8.0        19           6  \n",
       "...            ...        ...         ...           ...       ...         ...  \n",
       "23693            1       2017      другой           4.0        21           3  \n",
       "23694            0       2018      другой           NaN        15           1  \n",
       "23695            6       2018      первый           NaN        11           2  \n",
       "23696            1       2017      другой          10.0        28           3  \n",
       "23697            4       2017      первый           NaN        21           7  \n",
       "\n",
       "[23698 rows x 30 columns]"
      ]
     },
     "execution_count": 32,
     "metadata": {},
     "output_type": "execute_result"
    }
   ],
   "source": [
    "# в следующем задании нужны день и месяц публикации, добавим их\n",
    "data['expo_day'] = data['first_day_exposition'].dt.day\n",
    "data['expo_month'] = data['first_day_exposition'].dt.month\n",
    "data"
   ]
  },
  {
   "cell_type": "markdown",
   "metadata": {},
   "source": [
    "### Решаем задачу: Проведите исследовательский анализ данных"
   ]
  },
  {
   "cell_type": "markdown",
   "metadata": {},
   "source": [
    "#### Изучите следующие параметры объектов:\n",
    " \n",
    "- общая площадь;\n",
    "- жилая площадь;\n",
    "- площадь кухни;\n",
    "- цена объекта;\n",
    "- количество комнат;\n",
    "- высота потолков;\n",
    "- этаж квартиры;\n",
    "- тип этажа квартиры («первый», «последний», «другой»);\n",
    "- общее количество этажей в доме;\n",
    "- расстояние до центра города в метрах;\n",
    "- расстояние до ближайшего аэропорта;\n",
    "- расстояние до ближайшего парка;\n",
    "- день и месяц публикации объявления."
   ]
  },
  {
   "cell_type": "code",
   "execution_count": 34,
   "metadata": {},
   "outputs": [
    {
     "data": {
      "text/plain": [
       "<AxesSubplot:>"
      ]
     },
     "execution_count": 34,
     "metadata": {},
     "output_type": "execute_result"
    },
    {
     "data": {
      "image/png": "[encoded data removed]",
      "text/plain": [
       "<Figure size 432x288 with 1 Axes>"
      ]
     },
     "metadata": {
      "needs_background": "light"
     },
     "output_type": "display_data"
    }
   ],
   "source": [
    "data['expo_day'].hist(bins=30)"
   ]
  },
  {
   "cell_type": "code",
   "execution_count": 35,
   "metadata": {},
   "outputs": [
    {
     "data": {
      "text/plain": [
       "<AxesSubplot:>"
      ]
     },
     "execution_count": 35,
     "metadata": {},
     "output_type": "execute_result"
    },
    {
     "data": {
      "image/png": "[encoded data removed]",
      "text/plain": [
       "<Figure size 432x288 with 1 Axes>"
      ]
     },
     "metadata": {
      "needs_background": "light"
     },
     "output_type": "display_data"
    }
   ],
   "source": [
    "data['expo_month'].hist(bins=12, range = (1,12))"
   ]
  },
  {
   "cell_type": "code",
   "execution_count": 36,
   "metadata": {},
   "outputs": [
    {
     "data": {
      "text/plain": [
       "<AxesSubplot:>"
      ]
     },
     "execution_count": 36,
     "metadata": {},
     "output_type": "execute_result"
    },
    {
     "data": {
      "image/png": "[encoded data removed]",
      "text/plain": [
       "<Figure size 432x288 with 1 Axes>"
      ]
     },
     "metadata": {
      "needs_background": "light"
     },
     "output_type": "display_data"
    }
   ],
   "source": [
    "data['total_area'].hist(bins = 100, range = (0, 150))"
   ]
  },
  {
   "cell_type": "markdown",
   "metadata": {},
   "source": [
    "В основном общая площадь, выставленных на продажу квартир, находятся в пределах 30-50 м2."
   ]
  },
  {
   "cell_type": "code",
   "execution_count": 37,
   "metadata": {},
   "outputs": [
    {
     "data": {
      "text/plain": [
       "<AxesSubplot:>"
      ]
     },
     "execution_count": 37,
     "metadata": {},
     "output_type": "execute_result"
    },
    {
     "data": {
      "image/png": "[encoded data removed]",
      "text/plain": [
       "<Figure size 432x288 with 1 Axes>"
      ]
     },
     "metadata": {
      "needs_background": "light"
     },
     "output_type": "display_data"
    }
   ],
   "source": [
    "data['living_area'].hist(bins = 100, range = (0, 100))"
   ]
  },
  {
   "cell_type": "markdown",
   "metadata": {},
   "source": [
    "В основном жилая площадь, выставленных на продажу квартир, находятся в пределах 15-20 м2 и 25-35 м2."
   ]
  },
  {
   "cell_type": "code",
   "execution_count": 38,
   "metadata": {},
   "outputs": [
    {
     "data": {
      "text/plain": [
       "<AxesSubplot:>"
      ]
     },
     "execution_count": 38,
     "metadata": {},
     "output_type": "execute_result"
    },
    {
     "data": {
      "image/png": "[encoded data removed]",
      "text/plain": [
       "<Figure size 432x288 with 1 Axes>"
      ]
     },
     "metadata": {
      "needs_background": "light"
     },
     "output_type": "display_data"
    }
   ],
   "source": [
    "data['kitchen_area'].hist(bins = 20, range = (0, 20))"
   ]
  },
  {
   "cell_type": "markdown",
   "metadata": {},
   "source": [
    "В основном площадь кухни, выставленных на продажу квартир, находятся в пределах 5-12 м2. Большинство кухонь около 8,5 м2"
   ]
  },
  {
   "cell_type": "code",
   "execution_count": 39,
   "metadata": {},
   "outputs": [
    {
     "data": {
      "text/plain": [
       "<AxesSubplot:>"
      ]
     },
     "execution_count": 39,
     "metadata": {},
     "output_type": "execute_result"
    },
    {
     "data": {
      "image/png": "[encoded data removed]",
      "text/plain": [
       "<Figure size 432x288 with 1 Axes>"
      ]
     },
     "metadata": {
      "needs_background": "light"
     },
     "output_type": "display_data"
    }
   ],
   "source": [
    "data['last_price'].hist(bins = 20, range = (10000, 20000000))"
   ]
  },
  {
   "cell_type": "markdown",
   "metadata": {},
   "source": [
    "В основном цены выставленных на продажу квартир находятся в пределах 2 млн. - 7,5 млн."
   ]
  },
  {
   "cell_type": "code",
   "execution_count": 40,
   "metadata": {},
   "outputs": [
    {
     "data": {
      "text/plain": [
       "<AxesSubplot:>"
      ]
     },
     "execution_count": 40,
     "metadata": {},
     "output_type": "execute_result"
    },
    {
     "data": {
      "image/png": "[encoded data removed]",
      "text/plain": [
       "<Figure size 432x288 with 1 Axes>"
      ]
     },
     "metadata": {
      "needs_background": "light"
     },
     "output_type": "display_data"
    }
   ],
   "source": [
    "data['rooms'].hist(bins = 10, range = (1, 11))"
   ]
  },
  {
   "cell_type": "markdown",
   "metadata": {},
   "source": [
    "В основном в выставленных на продажу квартирах 1 или 2 комнаты, однушек чуть больше. На третьем месте по распространенности - трехкомнатные квартиры"
   ]
  },
  {
   "cell_type": "code",
   "execution_count": 41,
   "metadata": {},
   "outputs": [
    {
     "data": {
      "text/plain": [
       "<AxesSubplot:>"
      ]
     },
     "execution_count": 41,
     "metadata": {},
     "output_type": "execute_result"
    },
    {
     "data": {
      "image/png": "[encoded data removed]",
      "text/plain": [
       "<Figure size 432x288 with 1 Axes>"
      ]
     },
     "metadata": {
      "needs_background": "light"
     },
     "output_type": "display_data"
    }
   ],
   "source": [
    "data['ceiling_height'].hist(bins = 20, range = (0, 6))"
   ]
  },
  {
   "cell_type": "markdown",
   "metadata": {},
   "source": [
    "В основном высота потолков в выставленных на продажу квартирах 2,5-3 метра"
   ]
  },
  {
   "cell_type": "code",
   "execution_count": 42,
   "metadata": {},
   "outputs": [
    {
     "data": {
      "text/plain": [
       "<AxesSubplot:>"
      ]
     },
     "execution_count": 42,
     "metadata": {},
     "output_type": "execute_result"
    },
    {
     "data": {
      "image/png": "[encoded data removed]",
      "text/plain": [
       "<Figure size 432x288 with 1 Axes>"
      ]
     },
     "metadata": {
      "needs_background": "light"
     },
     "output_type": "display_data"
    }
   ],
   "source": [
    "data['floor'].hist(bins = 30, range=(1,31))"
   ]
  },
  {
   "cell_type": "markdown",
   "metadata": {},
   "source": [
    "Больше всего на продажу выставлено квартир на 2 и 3 этажах. В целом, больше всего объявлений о продаже квартир на 1-5 этажах"
   ]
  },
  {
   "cell_type": "code",
   "execution_count": 43,
   "metadata": {},
   "outputs": [
    {
     "data": {
      "text/plain": [
       "<AxesSubplot:>"
      ]
     },
     "execution_count": 43,
     "metadata": {},
     "output_type": "execute_result"
    },
    {
     "data": {
      "image/png": "[encoded data removed]",
      "text/plain": [
       "<Figure size 432x288 with 1 Axes>"
      ]
     },
     "metadata": {
      "needs_background": "light"
     },
     "output_type": "display_data"
    }
   ],
   "source": [
    "data['floor_type'].hist(bins = 3)"
   ]
  },
  {
   "cell_type": "markdown",
   "metadata": {},
   "source": [
    "В основном на продаже выставлены квартиры, расположенные между первым и последним этажом. Это логично, потому что первых и последних этажей в домах меньше, чем тех, что попадают в категорию \"другие\" этажи"
   ]
  },
  {
   "cell_type": "code",
   "execution_count": 44,
   "metadata": {},
   "outputs": [
    {
     "data": {
      "text/plain": [
       "<AxesSubplot:>"
      ]
     },
     "execution_count": 44,
     "metadata": {},
     "output_type": "execute_result"
    },
    {
     "data": {
      "image/png": "[encoded data removed]",
      "text/plain": [
       "<Figure size 432x288 with 1 Axes>"
      ]
     },
     "metadata": {
      "needs_background": "light"
     },
     "output_type": "display_data"
    }
   ],
   "source": [
    "data['floors_total'].hist(bins = 40,range = (0,40))"
   ]
  },
  {
   "cell_type": "markdown",
   "metadata": {},
   "source": [
    "Большинство объектов недвижимости, выставленных на продажу, расположены в пятиэтажках и девятиэтажках"
   ]
  },
  {
   "cell_type": "code",
   "execution_count": 45,
   "metadata": {},
   "outputs": [
    {
     "data": {
      "text/plain": [
       "<AxesSubplot:>"
      ]
     },
     "execution_count": 45,
     "metadata": {},
     "output_type": "execute_result"
    },
    {
     "data": {
      "image/png": "[encoded data removed]",
      "text/plain": [
       "<Figure size 432x288 with 1 Axes>"
      ]
     },
     "metadata": {
      "needs_background": "light"
     },
     "output_type": "display_data"
    }
   ],
   "source": [
    "data['cityCenters_nearest'].hist(bins = 100)"
   ]
  },
  {
   "cell_type": "markdown",
   "metadata": {},
   "source": [
    "Большинство объектов недвижимости, выставленных на продажу, расположены на расстоянии 5-20 км от центра"
   ]
  },
  {
   "cell_type": "code",
   "execution_count": 46,
   "metadata": {},
   "outputs": [
    {
     "data": {
      "text/plain": [
       "<AxesSubplot:>"
      ]
     },
     "execution_count": 46,
     "metadata": {},
     "output_type": "execute_result"
    },
    {
     "data": {
      "image/png": "[encoded data removed]",
      "text/plain": [
       "<Figure size 432x288 with 1 Axes>"
      ]
     },
     "metadata": {
      "needs_background": "light"
     },
     "output_type": "display_data"
    }
   ],
   "source": [
    "data['airports_nearest'].hist(bins = 50)"
   ]
  },
  {
   "cell_type": "markdown",
   "metadata": {},
   "source": [
    "Большинство объектов недвижимости, для которых указана удаленность от аэропорта, расположены на растоянии 10-30 км от аэропорта"
   ]
  },
  {
   "cell_type": "code",
   "execution_count": 47,
   "metadata": {},
   "outputs": [
    {
     "data": {
      "text/plain": [
       "<AxesSubplot:>"
      ]
     },
     "execution_count": 47,
     "metadata": {},
     "output_type": "execute_result"
    },
    {
     "data": {
      "image/png": "[encoded data removed]",
      "text/plain": [
       "<Figure size 432x288 with 1 Axes>"
      ]
     },
     "metadata": {
      "needs_background": "light"
     },
     "output_type": "display_data"
    }
   ],
   "source": [
    "data['parks_nearest'].hist(bins = 100)"
   ]
  },
  {
   "cell_type": "markdown",
   "metadata": {},
   "source": [
    "Если удаленность от парка указана, то, парк расположен до 1км от недвижимости"
   ]
  },
  {
   "cell_type": "markdown",
   "metadata": {},
   "source": [
    "Выводы по графикам:\n",
    "  \n",
    "- переменные - общая жил площадь и площадь кухни имеют похожее распределение\n",
    "- на продажу выставлены по большей части квартиры на нижних этажах (до 5) в домах, в которых до 20 этажей \n",
    "- на продажу выставлены по большей части квартиры с удаленностью от центра в 10-20 км\n",
    "- больше всего объявлений публикуется 1 и 10 числа месяца\n",
    "- больше всего объявлений публикуется в феврале, марте и апреле, затем оно снижается и достигает минималього количества объявлений в мае.\n",
    "    Все лето количество объявлений примерно одинаковое, и осенью начинает расти. Меньше объявлений становится к новому году (в декабре-январе)\n",
    "    \n",
    "Другие интересные наблюдения: \n",
    "- В основном общая площадь, выставленных на продажу квартир, находятся в пределах 30-50 м2.\n",
    "- В основном жилая площадь, выставленных на продажу квартир, находятся в пределах 15-20 м2 и 25-35 м2.\n",
    "- В основном площадь кухни, выставленных на продажу квартир, находятся в пределах 5-12 м2. Большинство кухонь около 8,5 м2\n",
    "- В основном цены выставленных на продажу квартир находятся в пределах 2 млн. - 7,5 млн.\n",
    "- В основном в выставленных на продажу квартирах 1 или 2 комнаты, однушек чуть больше. На третьем месте по распространенности - трехкомнатные квартиры\n",
    "- В основном высота потолков в выставленных на продажу квартирах 2,5-3 метра\n",
    "- Больше всего на продажу выставлено квартир на 2 и 3 этажах. В целом, больше всего объявлений о продаже квартир на 1-5 этажах\n",
    "- В основном на продаже выставлены квартиры, расположенные между первым и последним этажом. Это логично, потому что первых и последних этажей в домах меньше, чем тех, что попадают в категорию \"другие\" этажи\n",
    "- Большинство объектов недвижимости, выставленных на продажу, расположены в пятиэтажках и девятиэтажках\n",
    "- Большинство объектов недвижимости, выставленных на продажу, расположены на расстоянии 5-20 км от центра\n",
    "- Большинство объектов недвижимости, для которых указана удаленность от аэропорта, расположены на растоянии 10-30 км от аэропорта\n",
    "- Если удаленность от парка указана, то, парк расположен до 1км от недвижимости\n"
   ]
  },
  {
   "cell_type": "markdown",
   "metadata": {},
   "source": [
    "#### Изучите, как быстро продавались квартиры (столбец days_exposition). \n",
    "\n",
    "Этот параметр показывает, сколько дней было размещено каждое объявление. \n",
    "Постройте гистограмму.\n",
    "Посчитайте среднее и медиану.\n",
    "В ячейке типа markdown опишите, сколько времени обычно занимает продажа. Какие продажи можно считать быстрыми, а какие — необычно долгими?"
   ]
  },
  {
   "cell_type": "code",
   "execution_count": 48,
   "metadata": {},
   "outputs": [
    {
     "data": {
      "text/plain": [
       "<AxesSubplot:>"
      ]
     },
     "execution_count": 48,
     "metadata": {},
     "output_type": "execute_result"
    },
    {
     "data": {
      "image/png": "[encoded data removed]",
      "text/plain": [
       "<Figure size 432x288 with 1 Axes>"
      ]
     },
     "metadata": {
      "needs_background": "light"
     },
     "output_type": "display_data"
    }
   ],
   "source": [
    "#шистограмма по кличеству дней размещения объявлений\n",
    "data['days_exposition'].hist(bins = 50)"
   ]
  },
  {
   "cell_type": "code",
   "execution_count": 49,
   "metadata": {},
   "outputs": [
    {
     "data": {
      "text/plain": [
       "count    20517.000000\n",
       "mean       180.892284\n",
       "std        219.732721\n",
       "min          1.000000\n",
       "25%         45.000000\n",
       "50%         95.000000\n",
       "75%        232.000000\n",
       "max       1580.000000\n",
       "Name: days_exposition, dtype: float64"
      ]
     },
     "execution_count": 49,
     "metadata": {},
     "output_type": "execute_result"
    }
   ],
   "source": [
    "#числовые показатели распределения переменной по кличеству дней размещения объявлений\n",
    "data['days_exposition'].describe()"
   ]
  },
  {
   "cell_type": "code",
   "execution_count": 50,
   "metadata": {},
   "outputs": [
    {
     "data": {
      "text/plain": [
       "<AxesSubplot:>"
      ]
     },
     "execution_count": 50,
     "metadata": {},
     "output_type": "execute_result"
    },
    {
     "data": {
      "image/png": "[encoded data removed]",
      "text/plain": [
       "<Figure size 432x288 with 1 Axes>"
      ]
     },
     "metadata": {
      "needs_background": "light"
     },
     "output_type": "display_data"
    }
   ],
   "source": [
    "data.boxplot('days_exposition')"
   ]
  },
  {
   "cell_type": "code",
   "execution_count": 51,
   "metadata": {},
   "outputs": [
    {
     "data": {
      "text/plain": [
       "512.5"
      ]
     },
     "execution_count": 51,
     "metadata": {},
     "output_type": "execute_result"
    }
   ],
   "source": [
    "#Верхняя граница уса\n",
    "(232-45)*1.5 + 232"
   ]
  },
  {
   "cell_type": "markdown",
   "metadata": {},
   "source": [
    "Обычно продажа квартиры заниамет 45 - 232 дня. Быстрыми можно считать продажи, если они состоялись в 1-44 день публикации объявления. Долгими  можно считать продажи, если они состоялись после 232 день публикации объявления. Слишком долгие продажи - те, что состоялись спустя 512 дней с публикации объявления"
   ]
  },
  {
   "cell_type": "markdown",
   "metadata": {},
   "source": [
    "#### Какие факторы больше всего влияют на общую (полную) стоимость объекта?\n",
    "Изучите, зависит ли цена от:\n",
    "- общей площади;\n",
    "- жилой площади;\n",
    "- площади кухни;\n",
    "- количества комнат;\n",
    "- этажа, на котором расположена квартира (первый, последний, другой);\n",
    "- даты размещения (день недели, месяц, год).\n",
    "\n",
    "Постройте графики, которые покажут зависимость цены от указанных выше параметров. Для подготовки данных перед визуализацией вы можете использовать сводные таблицы."
   ]
  },
  {
   "cell_type": "code",
   "execution_count": 52,
   "metadata": {},
   "outputs": [
    {
     "data": {
      "text/plain": [
       "last_price      1.000000\n",
       "total_area      0.643149\n",
       "living_area     0.559258\n",
       "kitchen_area    0.511200\n",
       "rooms           0.360350\n",
       "expo_weekday    0.002126\n",
       "expo_month      0.000215\n",
       "expo_year      -0.043880\n",
       "Name: last_price, dtype: float64"
      ]
     },
     "execution_count": 52,
     "metadata": {},
     "output_type": "execute_result"
    }
   ],
   "source": [
    "data[['last_price', 'total_area', 'living_area', 'kitchen_area',\n",
    "     'rooms', 'expo_weekday', 'expo_month', 'expo_year']].corr()['last_price']"
   ]
  },
  {
   "cell_type": "markdown",
   "metadata": {},
   "source": [
    "- Математически цена на недвижимость связана с общей площадью квартиры: чем больше площадь, тем больше цена. Аналогично, чем больше жилая площадь и площадь кухни, тем выше цена квартиры.\n",
    "- Количество комнат в квартире слабо, но связано с ценой: чем больше комнат, тем выше цена\n",
    "- день недели, месяц и год публикации объявления о продаже недвижимости не связаны со стоимостью недвижимости с т.з корреляции Пирсона, однако это не лучший показатель в данном случае, поскольку шкалы этих переменных скорее псевдо-интервальные"
   ]
  },
  {
   "cell_type": "code",
   "execution_count": 53,
   "metadata": {},
   "outputs": [
    {
     "data": {
      "text/plain": [
       "floor_type\n",
       "другой       4850000.0\n",
       "первый       3900000.0\n",
       "последний    4300000.0\n",
       "Name: last_price, dtype: Float64"
      ]
     },
     "execution_count": 53,
     "metadata": {},
     "output_type": "execute_result"
    }
   ],
   "source": [
    "#Для типа этажа не подходит корреляция Пирсона из-за категориаольной шкалы, поэтому посчитаем медианы по каждой подгруппе\n",
    "data.groupby('floor_type')['last_price'].agg('median')"
   ]
  },
  {
   "cell_type": "markdown",
   "metadata": {},
   "source": [
    "Самые дешевые квартиры на первом этаже, чуть дороже - на последнем эаже, самые дорогие - между первым и последним.\n",
    "Получается, тип этажа связан со стоимостью недвижимости."
   ]
  },
  {
   "cell_type": "code",
   "execution_count": 55,
   "metadata": {},
   "outputs": [
    {
     "data": {
      "text/plain": [
       "(0.0, 200.0)"
      ]
     },
     "execution_count": 55,
     "metadata": {},
     "output_type": "execute_result"
    },
    {
     "data": {
      "image/png": "[encoded data removed]",
      "text/plain": [
       "<Figure size 432x288 with 1 Axes>"
      ]
     },
     "metadata": {
      "needs_background": "light"
     },
     "output_type": "display_data"
    }
   ],
   "source": [
    "#Зависимость цены от общей площади\n",
    "data.plot(x= 'total_area' , y = 'last_price', kind = 'scatter')\n",
    "plt.ylim(500000, 50000000)\n",
    "plt.xlim(0,200)"
   ]
  },
  {
   "cell_type": "markdown",
   "metadata": {},
   "source": [
    "Вывод: чем больше общая площадь квартиры, тем выше ее цена"
   ]
  },
  {
   "cell_type": "code",
   "execution_count": 56,
   "metadata": {},
   "outputs": [
    {
     "data": {
      "text/plain": [
       "(0.0, 200.0)"
      ]
     },
     "execution_count": 56,
     "metadata": {},
     "output_type": "execute_result"
    },
    {
     "data": {
      "image/png": "[encoded data removed]",
      "text/plain": [
       "<Figure size 432x288 with 1 Axes>"
      ]
     },
     "metadata": {
      "needs_background": "light"
     },
     "output_type": "display_data"
    }
   ],
   "source": [
    "#Зависимость цены от жилой площади\n",
    "data.plot(x= 'living_area' , y = 'last_price', kind = 'scatter')\n",
    "plt.ylim(500000, 50000000)\n",
    "plt.xlim(0,200)"
   ]
  },
  {
   "cell_type": "markdown",
   "metadata": {},
   "source": [
    "Вывод: чем больше жилая площадь квартиры, тем выше ее цена"
   ]
  },
  {
   "cell_type": "code",
   "execution_count": 57,
   "metadata": {},
   "outputs": [
    {
     "data": {
      "text/plain": [
       "(0.0, 100.0)"
      ]
     },
     "execution_count": 57,
     "metadata": {},
     "output_type": "execute_result"
    },
    {
     "data": {
      "image/png": "[encoded data removed]",
      "text/plain": [
       "<Figure size 432x288 with 1 Axes>"
      ]
     },
     "metadata": {
      "needs_background": "light"
     },
     "output_type": "display_data"
    }
   ],
   "source": [
    "#Зависимость цены от площади кухни\n",
    "data.plot(x= 'kitchen_area' , y = 'last_price', kind = 'scatter')\n",
    "plt.ylim(500000, 100000000)\n",
    "plt.xlim(0,100)"
   ]
  },
  {
   "cell_type": "markdown",
   "metadata": {},
   "source": [
    "Для переменных общей, жилой и кухонной площади видим то же, что и в таблице корреляции. Связь есть, но данные не укладываются и близко в рисунок линейной функции"
   ]
  },
  {
   "cell_type": "code",
   "execution_count": 58,
   "metadata": {},
   "outputs": [
    {
     "data": {
      "text/plain": [
       "<AxesSubplot:xlabel='rooms'>"
      ]
     },
     "execution_count": 58,
     "metadata": {},
     "output_type": "execute_result"
    },
    {
     "data": {
      "image/png": "[encoded data removed]",
      "text/plain": [
       "<Figure size 432x288 with 1 Axes>"
      ]
     },
     "metadata": {
      "needs_background": "light"
     },
     "output_type": "display_data"
    }
   ],
   "source": [
    "#Зависимость цены от количества комнат\n",
    "rooms = data.pivot_table(index = 'rooms', values ='last_price', \n",
    "                 aggfunc =['count', 'sum'])\n",
    "rooms.columns = ['count', 'sum']\n",
    "rooms['mean'] = rooms['sum']/rooms['count']\n",
    "rooms.plot(y = 'mean', kind = 'bar')"
   ]
  },
  {
   "cell_type": "markdown",
   "metadata": {},
   "source": [
    "Видим,почему такая небольшая линейная связь получилась в таблице корреляции. Если разделить количество комнат на две группы - 1) до 7 комнат и 2) 7+ компант, то мы видим, что в первой группе линейная связь есть и довольно сильная, однако, если комнат более, чем 7, то их цена сначала снижается, а затем остается примерно одинаковой. То есть, мы можем говорить о связи для случаев, когда комнат 7 и менее. В этом случае, чем больше комнат, тем выше цена"
   ]
  },
  {
   "cell_type": "code",
   "execution_count": 59,
   "metadata": {},
   "outputs": [
    {
     "data": {
      "text/plain": [
       "<AxesSubplot:xlabel='expo_weekday'>"
      ]
     },
     "execution_count": 59,
     "metadata": {},
     "output_type": "execute_result"
    },
    {
     "data": {
      "image/png": "[encoded data removed]",
      "text/plain": [
       "<Figure size 432x288 with 1 Axes>"
      ]
     },
     "metadata": {
      "needs_background": "light"
     },
     "output_type": "display_data"
    }
   ],
   "source": [
    "#связь цены с expo_weekday\n",
    "weekday = data.pivot_table(index = 'expo_weekday', values ='last_price', \n",
    "                 aggfunc =['count', 'sum'])\n",
    "weekday.columns = ['count', 'sum']\n",
    "weekday['mean'] = weekday['sum']/weekday['count']\n",
    "weekday.plot(y = 'mean', kind = 'bar')"
   ]
  },
  {
   "cell_type": "markdown",
   "metadata": {},
   "source": [
    "По графику, цена не связана с днем публикации объявления. Аналогичный результат мы видели математически."
   ]
  },
  {
   "cell_type": "code",
   "execution_count": 60,
   "metadata": {},
   "outputs": [
    {
     "data": {
      "text/plain": [
       "<AxesSubplot:xlabel='expo_month'>"
      ]
     },
     "execution_count": 60,
     "metadata": {},
     "output_type": "execute_result"
    },
    {
     "data": {
      "image/png": "[encoded data removed]",
      "text/plain": [
       "<Figure size 432x288 with 1 Axes>"
      ]
     },
     "metadata": {
      "needs_background": "light"
     },
     "output_type": "display_data"
    }
   ],
   "source": [
    "#связь цены с expo_month\n",
    "expo_month = data.pivot_table(index = 'expo_month', values ='last_price', \n",
    "                 aggfunc =['count', 'sum'])\n",
    "expo_month.columns = ['count', 'sum']\n",
    "expo_month['mean'] = expo_month['sum']/expo_month['count']\n",
    "expo_month.plot(y = 'mean', kind = 'bar')"
   ]
  },
  {
   "cell_type": "markdown",
   "metadata": {},
   "source": [
    "По графику, цена не связана с месяцем публикации объявления. Аналогичный результат мы видели математически."
   ]
  },
  {
   "cell_type": "code",
   "execution_count": 61,
   "metadata": {},
   "outputs": [
    {
     "data": {
      "text/plain": [
       "<AxesSubplot:xlabel='expo_year'>"
      ]
     },
     "execution_count": 61,
     "metadata": {},
     "output_type": "execute_result"
    },
    {
     "data": {
      "image/png": "[encoded data removed]",
      "text/plain": [
       "<Figure size 432x288 with 1 Axes>"
      ]
     },
     "metadata": {
      "needs_background": "light"
     },
     "output_type": "display_data"
    }
   ],
   "source": [
    "#expo_year\n",
    "expo_year = data.pivot_table(index = 'expo_year', values ='last_price', \n",
    "                 aggfunc =['count', 'sum'])\n",
    "expo_year.columns = ['count', 'sum']\n",
    "expo_year['mean'] = expo_year['sum']/expo_year['count']\n",
    "expo_year.plot(y = 'mean', kind = 'bar')"
   ]
  },
  {
   "cell_type": "markdown",
   "metadata": {},
   "source": [
    "По графику, цена связана с годом публикации объявления. Чем более новое объявление, тем ниже цена, однако, в 16-19 годах стоимость недвижимости находится примерно на одном уровне, это объясняет, почему математически связи не было обнаружено."
   ]
  },
  {
   "cell_type": "code",
   "execution_count": 62,
   "metadata": {},
   "outputs": [
    {
     "data": {
      "text/plain": [
       "<AxesSubplot:xlabel='floor_type'>"
      ]
     },
     "execution_count": 62,
     "metadata": {},
     "output_type": "execute_result"
    },
    {
     "data": {
      "image/png": "[encoded data removed]",
      "text/plain": [
       "<Figure size 432x288 with 1 Axes>"
      ]
     },
     "metadata": {
      "needs_background": "light"
     },
     "output_type": "display_data"
    }
   ],
   "source": [
    "#floor_type\n",
    "\n",
    "floor_type = data.pivot_table(index = 'floor_type', values ='last_price', \n",
    "                 aggfunc =['count', 'sum'])\n",
    "floor_type.columns = ['count', 'sum']\n",
    "floor_type['mean'] = floor_type['sum']/floor_type['count']\n",
    "floor_type.plot(y = 'mean', kind = 'bar')"
   ]
  },
  {
   "cell_type": "markdown",
   "metadata": {},
   "source": [
    "Есть связь между этажом и стоимостью квартиры: квартиры на первом этаже самые дешевые, а на последнем - самые дорогие"
   ]
  },
  {
   "cell_type": "markdown",
   "metadata": {},
   "source": [
    "#### Посчитаем среднюю цену одного квадратного метра в 10 населённых пунктах с наибольшим числом объявлений. \n",
    "Выделим населённые пункты с самой высокой и низкой стоимостью квадратного метра."
   ]
  },
  {
   "cell_type": "code",
   "execution_count": 63,
   "metadata": {},
   "outputs": [
    {
     "data": {
      "text/html": [
       "<div>\n",
       "<style scoped>\n",
       "    .dataframe tbody tr th:only-of-type {\n",
       "        vertical-align: middle;\n",
       "    }\n",
       "\n",
       "    .dataframe tbody tr th {\n",
       "        vertical-align: top;\n",
       "    }\n",
       "\n",
       "    .dataframe thead th {\n",
       "        text-align: right;\n",
       "    }\n",
       "</style>\n",
       "<table border=\"1\" class=\"dataframe\">\n",
       "  <thead>\n",
       "    <tr style=\"text-align: right;\">\n",
       "      <th></th>\n",
       "      <th>median_metr_price</th>\n",
       "      <th>N</th>\n",
       "    </tr>\n",
       "    <tr>\n",
       "      <th>locality_new</th>\n",
       "      <th></th>\n",
       "      <th></th>\n",
       "    </tr>\n",
       "  </thead>\n",
       "  <tbody>\n",
       "    <tr>\n",
       "      <th>Выборг</th>\n",
       "      <td>58158.0</td>\n",
       "      <td>237</td>\n",
       "    </tr>\n",
       "    <tr>\n",
       "      <th>Всеволожск</th>\n",
       "      <td>65789.0</td>\n",
       "      <td>398</td>\n",
       "    </tr>\n",
       "    <tr>\n",
       "      <th>Гатчина</th>\n",
       "      <td>67797.0</td>\n",
       "      <td>307</td>\n",
       "    </tr>\n",
       "    <tr>\n",
       "      <th>Колпино</th>\n",
       "      <td>74723.5</td>\n",
       "      <td>338</td>\n",
       "    </tr>\n",
       "    <tr>\n",
       "      <th>Шушары</th>\n",
       "      <td>76876.0</td>\n",
       "      <td>440</td>\n",
       "    </tr>\n",
       "    <tr>\n",
       "      <th>Мурино</th>\n",
       "      <td>86175.5</td>\n",
       "      <td>590</td>\n",
       "    </tr>\n",
       "    <tr>\n",
       "      <th>Парголово</th>\n",
       "      <td>91643.0</td>\n",
       "      <td>327</td>\n",
       "    </tr>\n",
       "    <tr>\n",
       "      <th>Кудрово</th>\n",
       "      <td>95675.5</td>\n",
       "      <td>472</td>\n",
       "    </tr>\n",
       "    <tr>\n",
       "      <th>Пушкин</th>\n",
       "      <td>100000.0</td>\n",
       "      <td>369</td>\n",
       "    </tr>\n",
       "    <tr>\n",
       "      <th>Санкт-Петербург</th>\n",
       "      <td>104762.0</td>\n",
       "      <td>15720</td>\n",
       "    </tr>\n",
       "  </tbody>\n",
       "</table>\n",
       "</div>"
      ],
      "text/plain": [
       "                 median_metr_price      N\n",
       "locality_new                             \n",
       "Выборг                     58158.0    237\n",
       "Всеволожск                 65789.0    398\n",
       "Гатчина                    67797.0    307\n",
       "Колпино                    74723.5    338\n",
       "Шушары                     76876.0    440\n",
       "Мурино                     86175.5    590\n",
       "Парголово                  91643.0    327\n",
       "Кудрово                    95675.5    472\n",
       "Пушкин                    100000.0    369\n",
       "Санкт-Петербург           104762.0  15720"
      ]
     },
     "execution_count": 63,
     "metadata": {},
     "output_type": "execute_result"
    }
   ],
   "source": [
    "#делаем сводную таблицу по населенным пунктам, aggfunc = count считает кол-во объявлений\n",
    "places = data.pivot_table(index = 'locality_new', values = 'metr_price', aggfunc = ['median', 'count'])\n",
    "places.columns = ['median_metr_price', 'N'] #для удобства переименуем колонки\n",
    "\n",
    "#отберем в отдельную таблицу топ 10 локаций по количеству объявлений\n",
    "top_10_count = places.sort_values(by= 'N', ascending = False).head(10)\n",
    "top_10_count.sort_values(by= 'median_metr_price') # выведем таблицу топ 10 объявлений, отсортированную по средней цене м2"
   ]
  },
  {
   "cell_type": "markdown",
   "metadata": {},
   "source": [
    "Самая высокая средняя цена квадратного метра в культурной столице - в Санкт-Петербурге (114 826 р.), самая низкая средняя цена за квадратный метр в Выборге (58 141 р.)"
   ]
  },
  {
   "cell_type": "markdown",
   "metadata": {},
   "source": [
    "#### Теперь выделим квартиры в Санкт-Петербурге с помощью столбца locality_name и вычисляем среднюю цену каждого километра. \n"
   ]
  },
  {
   "cell_type": "code",
   "execution_count": 64,
   "metadata": {},
   "outputs": [],
   "source": [
    "#квартиры в Санкт-Петербурге\n",
    "spb = data[data['locality_new']=='Санкт-Петербург']"
   ]
  },
  {
   "cell_type": "code",
   "execution_count": 65,
   "metadata": {},
   "outputs": [
    {
     "data": {
      "text/plain": [
       "<AxesSubplot:xlabel='km_to_center'>"
      ]
     },
     "execution_count": 65,
     "metadata": {},
     "output_type": "execute_result"
    },
    {
     "data": {
      "image/png": "[encoded data removed]",
      "text/plain": [
       "<Figure size 432x288 with 1 Axes>"
      ]
     },
     "metadata": {
      "needs_background": "light"
     },
     "output_type": "display_data"
    }
   ],
   "source": [
    "spb.groupby(by='km_to_center')['last_price'].agg('mean').plot(y = 'last_price')"
   ]
  },
  {
   "cell_type": "markdown",
   "metadata": {},
   "source": [
    "Чем дальше от центра, тем дешевле цена недвижимости. Есть пики на 3-7 км и 26-27. Возможно там расположены отдельные престижные районы, где цена выше, чем в соседних"
   ]
  },
  {
   "cell_type": "markdown",
   "metadata": {},
   "source": [
    "### Общий вывод"
   ]
  },
  {
   "cell_type": "markdown",
   "metadata": {},
   "source": [
    "О предложении недвижимости в Санкт-Петербурге: \n",
    "- на продажу выставлены по большей части квартиры на нижних этажах (до 5) в домах, в которых до 20 этажей \n",
    "- на продажу выставлены по большей части квартиры с удаленностью от центра в 10-20 км\n",
    "- больше всего объявлений публикуется 1 и 10 числа месяца\n",
    "- больше всего объявлений публикуется в феврале, марте и апреле, затем оно снижается и достигает минималього количества объявлений в мае. Все лето количество объявлений примерно одинаковое, и осенью начинает расти. Меньше объявлений становится к новому году (в декабре-январе)\n",
    "- Санкт-Петербург, Мурино, Кудрово, Шушары, Всеволожск, Пушкин, Колпино, Парголово, Гатчина, Выборг - ТОП 10 локаций по количеству объявлений о продаже недвижимости. Из них самая высокая средняя цена квадратного метра в Санкт-Петербурге, а самая низкая в Выборге.\n",
    "\n",
    "\n",
    "Сроки продажи:\n",
    "\n",
    "- Обычно продажа квартиры заниамет 45 - 232 дня. Быстрыми можно считать продажи, если они состоялись в 1-44 день публикации объявления. Долгими  можно считать продажи, если они состоялись после 232 день публикации объявления. Слишком долгие продажи - те, что состоялись спустя 512 дней с публикации объявления\n",
    "\n",
    "\n",
    "Что влияет на стоимость недвижимости: \n",
    "\n",
    "- Наиболее значимый фактор - общая площадь квартиры: чем больше площадь, тем больше цена. Аналогично, чем больше жилая площадь и площадь кухни, тем выше цена.\n",
    "- Важно и расположение: ближе к центру квартиры дороже,дальше от центра - дешевле.\n",
    "- Есть связь между этажом и стоимостью квартиры: квартиры на первом этаже самые дешевые, а на последнем - самые дорогие.\n",
    "- Если рассматривать квартиры с числом до 7 комнат, то для них будет действовать положительная связь между количеством комнат и ценой недвижимости: чем больше комнат, тем выше цена."
   ]
  }
 ],
 "metadata": {
  "ExecuteTimeLog": [
   {
    "duration": 446,
    "start_time": "2023-01-12T10:02:18.145Z"
   },
   {
    "duration": 101,
    "start_time": "2023-01-12T10:02:18.593Z"
   },
   {
    "duration": 0,
    "start_time": "2023-01-12T10:02:18.697Z"
   },
   {
    "duration": 0,
    "start_time": "2023-01-12T10:02:18.698Z"
   },
   {
    "duration": 0,
    "start_time": "2023-01-12T10:02:18.700Z"
   },
   {
    "duration": 0,
    "start_time": "2023-01-12T10:02:18.701Z"
   },
   {
    "duration": 0,
    "start_time": "2023-01-12T10:02:18.703Z"
   },
   {
    "duration": 0,
    "start_time": "2023-01-12T10:02:18.705Z"
   },
   {
    "duration": 0,
    "start_time": "2023-01-12T10:02:18.706Z"
   },
   {
    "duration": 0,
    "start_time": "2023-01-12T10:02:18.708Z"
   },
   {
    "duration": 0,
    "start_time": "2023-01-12T10:02:18.712Z"
   },
   {
    "duration": 0,
    "start_time": "2023-01-12T10:02:18.714Z"
   },
   {
    "duration": 0,
    "start_time": "2023-01-12T10:02:18.715Z"
   },
   {
    "duration": 0,
    "start_time": "2023-01-12T10:02:18.716Z"
   },
   {
    "duration": 0,
    "start_time": "2023-01-12T10:02:18.717Z"
   },
   {
    "duration": 0,
    "start_time": "2023-01-12T10:02:18.719Z"
   },
   {
    "duration": 0,
    "start_time": "2023-01-12T10:02:18.720Z"
   },
   {
    "duration": 0,
    "start_time": "2023-01-12T10:02:18.722Z"
   },
   {
    "duration": 0,
    "start_time": "2023-01-12T10:02:18.723Z"
   },
   {
    "duration": 0,
    "start_time": "2023-01-12T10:02:18.725Z"
   },
   {
    "duration": 0,
    "start_time": "2023-01-12T10:02:18.727Z"
   },
   {
    "duration": 0,
    "start_time": "2023-01-12T10:02:18.728Z"
   },
   {
    "duration": 0,
    "start_time": "2023-01-12T10:02:18.730Z"
   },
   {
    "duration": 0,
    "start_time": "2023-01-12T10:02:18.731Z"
   },
   {
    "duration": 0,
    "start_time": "2023-01-12T10:02:18.733Z"
   },
   {
    "duration": 0,
    "start_time": "2023-01-12T10:02:18.734Z"
   },
   {
    "duration": 0,
    "start_time": "2023-01-12T10:02:18.736Z"
   },
   {
    "duration": 0,
    "start_time": "2023-01-12T10:02:18.736Z"
   },
   {
    "duration": 0,
    "start_time": "2023-01-12T10:02:18.737Z"
   },
   {
    "duration": 0,
    "start_time": "2023-01-12T10:02:18.738Z"
   },
   {
    "duration": 0,
    "start_time": "2023-01-12T10:02:18.739Z"
   },
   {
    "duration": 0,
    "start_time": "2023-01-12T10:02:18.740Z"
   },
   {
    "duration": 0,
    "start_time": "2023-01-12T10:02:18.741Z"
   },
   {
    "duration": 0,
    "start_time": "2023-01-12T10:02:18.742Z"
   },
   {
    "duration": 0,
    "start_time": "2023-01-12T10:02:18.743Z"
   },
   {
    "duration": 0,
    "start_time": "2023-01-12T10:02:18.745Z"
   },
   {
    "duration": 0,
    "start_time": "2023-01-12T10:02:18.746Z"
   },
   {
    "duration": 0,
    "start_time": "2023-01-12T10:02:18.747Z"
   },
   {
    "duration": 0,
    "start_time": "2023-01-12T10:02:18.811Z"
   },
   {
    "duration": 0,
    "start_time": "2023-01-12T10:02:18.813Z"
   },
   {
    "duration": 0,
    "start_time": "2023-01-12T10:02:18.814Z"
   },
   {
    "duration": 0,
    "start_time": "2023-01-12T10:02:18.815Z"
   },
   {
    "duration": 0,
    "start_time": "2023-01-12T10:02:18.816Z"
   },
   {
    "duration": 0,
    "start_time": "2023-01-12T10:02:18.818Z"
   },
   {
    "duration": 0,
    "start_time": "2023-01-12T10:02:18.818Z"
   },
   {
    "duration": 0,
    "start_time": "2023-01-12T10:02:18.819Z"
   },
   {
    "duration": 0,
    "start_time": "2023-01-12T10:02:18.820Z"
   },
   {
    "duration": 0,
    "start_time": "2023-01-12T10:02:18.822Z"
   },
   {
    "duration": 0,
    "start_time": "2023-01-12T10:02:18.824Z"
   },
   {
    "duration": 0,
    "start_time": "2023-01-12T10:02:18.825Z"
   },
   {
    "duration": 0,
    "start_time": "2023-01-12T10:02:18.826Z"
   },
   {
    "duration": 0,
    "start_time": "2023-01-12T10:02:18.827Z"
   },
   {
    "duration": 1,
    "start_time": "2023-01-12T10:02:18.828Z"
   },
   {
    "duration": 453,
    "start_time": "2023-01-12T10:03:21.287Z"
   },
   {
    "duration": 3,
    "start_time": "2023-01-12T10:03:21.742Z"
   },
   {
    "duration": 354,
    "start_time": "2023-01-12T10:03:21.746Z"
   },
   {
    "duration": 15,
    "start_time": "2023-01-12T10:03:22.103Z"
   },
   {
    "duration": 2433,
    "start_time": "2023-01-12T10:03:22.119Z"
   },
   {
    "duration": 9,
    "start_time": "2023-01-12T10:03:24.553Z"
   },
   {
    "duration": 9,
    "start_time": "2023-01-12T10:03:24.564Z"
   },
   {
    "duration": 6,
    "start_time": "2023-01-12T10:03:24.574Z"
   },
   {
    "duration": 7,
    "start_time": "2023-01-12T10:03:24.581Z"
   },
   {
    "duration": 13,
    "start_time": "2023-01-12T10:03:24.591Z"
   },
   {
    "duration": 8,
    "start_time": "2023-01-12T10:03:24.605Z"
   },
   {
    "duration": 15,
    "start_time": "2023-01-12T10:03:24.614Z"
   },
   {
    "duration": 12,
    "start_time": "2023-01-12T10:03:24.630Z"
   },
   {
    "duration": 9,
    "start_time": "2023-01-12T10:03:24.643Z"
   },
   {
    "duration": 6,
    "start_time": "2023-01-12T10:03:24.654Z"
   },
   {
    "duration": 16,
    "start_time": "2023-01-12T10:03:24.662Z"
   },
   {
    "duration": 9,
    "start_time": "2023-01-12T10:03:24.679Z"
   },
   {
    "duration": 27,
    "start_time": "2023-01-12T10:03:24.689Z"
   },
   {
    "duration": 6,
    "start_time": "2023-01-12T10:03:24.718Z"
   },
   {
    "duration": 156,
    "start_time": "2023-01-12T10:03:24.726Z"
   },
   {
    "duration": 30,
    "start_time": "2023-01-12T10:03:24.884Z"
   },
   {
    "duration": 8,
    "start_time": "2023-01-12T10:03:24.915Z"
   },
   {
    "duration": 8,
    "start_time": "2023-01-12T10:03:24.924Z"
   },
   {
    "duration": 129,
    "start_time": "2023-01-12T10:03:24.935Z"
   },
   {
    "duration": 12,
    "start_time": "2023-01-12T10:03:25.066Z"
   },
   {
    "duration": 132,
    "start_time": "2023-01-12T10:03:25.080Z"
   },
   {
    "duration": 6,
    "start_time": "2023-01-12T10:03:25.215Z"
   },
   {
    "duration": 76,
    "start_time": "2023-01-12T10:03:25.224Z"
   },
   {
    "duration": 0,
    "start_time": "2023-01-12T10:03:25.312Z"
   },
   {
    "duration": 0,
    "start_time": "2023-01-12T10:03:25.313Z"
   },
   {
    "duration": 0,
    "start_time": "2023-01-12T10:03:25.314Z"
   },
   {
    "duration": 0,
    "start_time": "2023-01-12T10:03:25.315Z"
   },
   {
    "duration": 0,
    "start_time": "2023-01-12T10:03:25.316Z"
   },
   {
    "duration": 0,
    "start_time": "2023-01-12T10:03:25.317Z"
   },
   {
    "duration": 0,
    "start_time": "2023-01-12T10:03:25.318Z"
   },
   {
    "duration": 0,
    "start_time": "2023-01-12T10:03:25.320Z"
   },
   {
    "duration": 0,
    "start_time": "2023-01-12T10:03:25.321Z"
   },
   {
    "duration": 0,
    "start_time": "2023-01-12T10:03:25.322Z"
   },
   {
    "duration": 0,
    "start_time": "2023-01-12T10:03:25.323Z"
   },
   {
    "duration": 0,
    "start_time": "2023-01-12T10:03:25.324Z"
   },
   {
    "duration": 0,
    "start_time": "2023-01-12T10:03:25.325Z"
   },
   {
    "duration": 0,
    "start_time": "2023-01-12T10:03:25.326Z"
   },
   {
    "duration": 0,
    "start_time": "2023-01-12T10:03:25.327Z"
   },
   {
    "duration": 0,
    "start_time": "2023-01-12T10:03:25.328Z"
   },
   {
    "duration": 0,
    "start_time": "2023-01-12T10:03:25.329Z"
   },
   {
    "duration": 0,
    "start_time": "2023-01-12T10:03:25.330Z"
   },
   {
    "duration": 0,
    "start_time": "2023-01-12T10:03:25.332Z"
   },
   {
    "duration": 0,
    "start_time": "2023-01-12T10:03:25.333Z"
   },
   {
    "duration": 0,
    "start_time": "2023-01-12T10:03:25.334Z"
   },
   {
    "duration": 0,
    "start_time": "2023-01-12T10:03:25.335Z"
   },
   {
    "duration": 0,
    "start_time": "2023-01-12T10:03:25.336Z"
   },
   {
    "duration": 0,
    "start_time": "2023-01-12T10:03:25.337Z"
   },
   {
    "duration": 0,
    "start_time": "2023-01-12T10:03:25.338Z"
   },
   {
    "duration": 0,
    "start_time": "2023-01-12T10:03:25.339Z"
   },
   {
    "duration": 14,
    "start_time": "2023-01-12T10:08:41.382Z"
   },
   {
    "duration": 446,
    "start_time": "2023-01-12T10:08:46.606Z"
   },
   {
    "duration": 3,
    "start_time": "2023-01-12T10:08:47.055Z"
   },
   {
    "duration": 171,
    "start_time": "2023-01-12T10:08:47.060Z"
   },
   {
    "duration": 19,
    "start_time": "2023-01-12T10:08:47.233Z"
   },
   {
    "duration": 2410,
    "start_time": "2023-01-12T10:08:47.254Z"
   },
   {
    "duration": 12,
    "start_time": "2023-01-12T10:08:49.666Z"
   },
   {
    "duration": 6,
    "start_time": "2023-01-12T10:08:49.680Z"
   },
   {
    "duration": 7,
    "start_time": "2023-01-12T10:08:49.688Z"
   },
   {
    "duration": 12,
    "start_time": "2023-01-12T10:08:49.697Z"
   },
   {
    "duration": 23,
    "start_time": "2023-01-12T10:08:49.711Z"
   },
   {
    "duration": 21,
    "start_time": "2023-01-12T10:08:49.736Z"
   },
   {
    "duration": 71,
    "start_time": "2023-01-12T10:08:49.759Z"
   },
   {
    "duration": 19,
    "start_time": "2023-01-12T10:08:49.831Z"
   },
   {
    "duration": 11,
    "start_time": "2023-01-12T10:08:49.852Z"
   },
   {
    "duration": 4,
    "start_time": "2023-01-12T10:08:49.865Z"
   },
   {
    "duration": 17,
    "start_time": "2023-01-12T10:08:49.871Z"
   },
   {
    "duration": 10,
    "start_time": "2023-01-12T10:08:49.889Z"
   },
   {
    "duration": 9,
    "start_time": "2023-01-12T10:08:49.901Z"
   },
   {
    "duration": 10,
    "start_time": "2023-01-12T10:08:49.912Z"
   },
   {
    "duration": 145,
    "start_time": "2023-01-12T10:08:49.924Z"
   },
   {
    "duration": 25,
    "start_time": "2023-01-12T10:08:50.070Z"
   },
   {
    "duration": 17,
    "start_time": "2023-01-12T10:08:50.096Z"
   },
   {
    "duration": 8,
    "start_time": "2023-01-12T10:08:50.115Z"
   },
   {
    "duration": 129,
    "start_time": "2023-01-12T10:08:50.125Z"
   },
   {
    "duration": 11,
    "start_time": "2023-01-12T10:08:50.256Z"
   },
   {
    "duration": 127,
    "start_time": "2023-01-12T10:08:50.268Z"
   },
   {
    "duration": 15,
    "start_time": "2023-01-12T10:08:50.397Z"
   },
   {
    "duration": 14,
    "start_time": "2023-01-12T10:08:50.417Z"
   },
   {
    "duration": 94,
    "start_time": "2023-01-12T10:08:50.433Z"
   },
   {
    "duration": 0,
    "start_time": "2023-01-12T10:08:50.529Z"
   },
   {
    "duration": 0,
    "start_time": "2023-01-12T10:08:50.531Z"
   },
   {
    "duration": 0,
    "start_time": "2023-01-12T10:08:50.533Z"
   },
   {
    "duration": 0,
    "start_time": "2023-01-12T10:08:50.535Z"
   },
   {
    "duration": 0,
    "start_time": "2023-01-12T10:08:50.536Z"
   },
   {
    "duration": 0,
    "start_time": "2023-01-12T10:08:50.538Z"
   },
   {
    "duration": 0,
    "start_time": "2023-01-12T10:08:50.539Z"
   },
   {
    "duration": 0,
    "start_time": "2023-01-12T10:08:50.541Z"
   },
   {
    "duration": 0,
    "start_time": "2023-01-12T10:08:50.543Z"
   },
   {
    "duration": 0,
    "start_time": "2023-01-12T10:08:50.544Z"
   },
   {
    "duration": 0,
    "start_time": "2023-01-12T10:08:50.546Z"
   },
   {
    "duration": 0,
    "start_time": "2023-01-12T10:08:50.547Z"
   },
   {
    "duration": 0,
    "start_time": "2023-01-12T10:08:50.549Z"
   },
   {
    "duration": 0,
    "start_time": "2023-01-12T10:08:50.550Z"
   },
   {
    "duration": 0,
    "start_time": "2023-01-12T10:08:50.551Z"
   },
   {
    "duration": 0,
    "start_time": "2023-01-12T10:08:50.553Z"
   },
   {
    "duration": 0,
    "start_time": "2023-01-12T10:08:50.554Z"
   },
   {
    "duration": 0,
    "start_time": "2023-01-12T10:08:50.556Z"
   },
   {
    "duration": 0,
    "start_time": "2023-01-12T10:08:50.557Z"
   },
   {
    "duration": 0,
    "start_time": "2023-01-12T10:08:50.559Z"
   },
   {
    "duration": 0,
    "start_time": "2023-01-12T10:08:50.560Z"
   },
   {
    "duration": 0,
    "start_time": "2023-01-12T10:08:50.562Z"
   },
   {
    "duration": 1,
    "start_time": "2023-01-12T10:08:50.612Z"
   },
   {
    "duration": 0,
    "start_time": "2023-01-12T10:08:50.613Z"
   },
   {
    "duration": 0,
    "start_time": "2023-01-12T10:08:50.615Z"
   },
   {
    "duration": 0,
    "start_time": "2023-01-12T10:08:50.616Z"
   },
   {
    "duration": 79,
    "start_time": "2023-01-12T12:11:31.364Z"
   },
   {
    "duration": 414,
    "start_time": "2023-01-12T12:13:27.184Z"
   },
   {
    "duration": 170,
    "start_time": "2023-01-12T12:13:27.600Z"
   },
   {
    "duration": 15,
    "start_time": "2023-01-12T12:13:27.772Z"
   },
   {
    "duration": 2339,
    "start_time": "2023-01-12T12:13:27.789Z"
   },
   {
    "duration": 8,
    "start_time": "2023-01-12T12:13:30.130Z"
   },
   {
    "duration": 7,
    "start_time": "2023-01-12T12:13:30.140Z"
   },
   {
    "duration": 7,
    "start_time": "2023-01-12T12:13:30.149Z"
   },
   {
    "duration": 8,
    "start_time": "2023-01-12T12:13:30.157Z"
   },
   {
    "duration": 21,
    "start_time": "2023-01-12T12:13:30.167Z"
   },
   {
    "duration": 7,
    "start_time": "2023-01-12T12:13:30.191Z"
   },
   {
    "duration": 15,
    "start_time": "2023-01-12T12:13:30.200Z"
   },
   {
    "duration": 12,
    "start_time": "2023-01-12T12:13:30.217Z"
   },
   {
    "duration": 13,
    "start_time": "2023-01-12T12:13:30.231Z"
   },
   {
    "duration": 6,
    "start_time": "2023-01-12T12:13:30.246Z"
   },
   {
    "duration": 16,
    "start_time": "2023-01-12T12:13:30.254Z"
   },
   {
    "duration": 8,
    "start_time": "2023-01-12T12:13:30.278Z"
   },
   {
    "duration": 18,
    "start_time": "2023-01-12T12:13:30.288Z"
   },
   {
    "duration": 16,
    "start_time": "2023-01-12T12:13:30.307Z"
   },
   {
    "duration": 131,
    "start_time": "2023-01-12T12:13:30.324Z"
   },
   {
    "duration": 29,
    "start_time": "2023-01-12T12:13:30.457Z"
   },
   {
    "duration": 8,
    "start_time": "2023-01-12T12:13:30.488Z"
   },
   {
    "duration": 30,
    "start_time": "2023-01-12T12:13:30.498Z"
   },
   {
    "duration": 131,
    "start_time": "2023-01-12T12:13:30.529Z"
   },
   {
    "duration": 18,
    "start_time": "2023-01-12T12:13:30.662Z"
   },
   {
    "duration": 142,
    "start_time": "2023-01-12T12:13:30.682Z"
   },
   {
    "duration": 5,
    "start_time": "2023-01-12T12:13:30.826Z"
   },
   {
    "duration": 111,
    "start_time": "2023-01-12T12:13:30.833Z"
   },
   {
    "duration": 0,
    "start_time": "2023-01-12T12:13:30.947Z"
   },
   {
    "duration": 0,
    "start_time": "2023-01-12T12:13:30.948Z"
   },
   {
    "duration": 0,
    "start_time": "2023-01-12T12:13:30.949Z"
   },
   {
    "duration": 1,
    "start_time": "2023-01-12T12:13:30.950Z"
   },
   {
    "duration": 0,
    "start_time": "2023-01-12T12:13:30.952Z"
   },
   {
    "duration": 0,
    "start_time": "2023-01-12T12:13:30.953Z"
   },
   {
    "duration": 1,
    "start_time": "2023-01-12T12:13:30.953Z"
   },
   {
    "duration": 0,
    "start_time": "2023-01-12T12:13:30.955Z"
   },
   {
    "duration": 0,
    "start_time": "2023-01-12T12:13:30.956Z"
   },
   {
    "duration": 0,
    "start_time": "2023-01-12T12:13:30.957Z"
   },
   {
    "duration": 0,
    "start_time": "2023-01-12T12:13:30.958Z"
   },
   {
    "duration": 0,
    "start_time": "2023-01-12T12:13:30.978Z"
   },
   {
    "duration": 0,
    "start_time": "2023-01-12T12:13:30.979Z"
   },
   {
    "duration": 0,
    "start_time": "2023-01-12T12:13:30.981Z"
   },
   {
    "duration": 0,
    "start_time": "2023-01-12T12:13:30.982Z"
   },
   {
    "duration": 0,
    "start_time": "2023-01-12T12:13:30.983Z"
   },
   {
    "duration": 0,
    "start_time": "2023-01-12T12:13:30.984Z"
   },
   {
    "duration": 0,
    "start_time": "2023-01-12T12:13:30.985Z"
   },
   {
    "duration": 0,
    "start_time": "2023-01-12T12:13:30.986Z"
   },
   {
    "duration": 0,
    "start_time": "2023-01-12T12:13:30.987Z"
   },
   {
    "duration": 0,
    "start_time": "2023-01-12T12:13:30.988Z"
   },
   {
    "duration": 0,
    "start_time": "2023-01-12T12:13:30.989Z"
   },
   {
    "duration": 0,
    "start_time": "2023-01-12T12:13:30.989Z"
   },
   {
    "duration": 0,
    "start_time": "2023-01-12T12:13:30.991Z"
   },
   {
    "duration": 0,
    "start_time": "2023-01-12T12:13:30.991Z"
   },
   {
    "duration": 1,
    "start_time": "2023-01-12T12:13:30.992Z"
   },
   {
    "duration": 8,
    "start_time": "2023-01-12T12:14:34.126Z"
   },
   {
    "duration": 388,
    "start_time": "2023-01-12T12:15:51.301Z"
   },
   {
    "duration": 127,
    "start_time": "2023-01-12T12:15:51.691Z"
   },
   {
    "duration": 15,
    "start_time": "2023-01-12T12:15:51.820Z"
   },
   {
    "duration": 2323,
    "start_time": "2023-01-12T12:15:51.837Z"
   },
   {
    "duration": 10,
    "start_time": "2023-01-12T12:15:54.162Z"
   },
   {
    "duration": 26,
    "start_time": "2023-01-12T12:15:54.173Z"
   },
   {
    "duration": 49,
    "start_time": "2023-01-12T12:15:54.201Z"
   },
   {
    "duration": 33,
    "start_time": "2023-01-12T12:15:54.252Z"
   },
   {
    "duration": 63,
    "start_time": "2023-01-12T12:15:54.287Z"
   },
   {
    "duration": 49,
    "start_time": "2023-01-12T12:15:54.353Z"
   },
   {
    "duration": 49,
    "start_time": "2023-01-12T12:15:54.404Z"
   },
   {
    "duration": 31,
    "start_time": "2023-01-12T12:15:54.455Z"
   },
   {
    "duration": 26,
    "start_time": "2023-01-12T12:15:54.488Z"
   },
   {
    "duration": 37,
    "start_time": "2023-01-12T12:15:54.516Z"
   },
   {
    "duration": 47,
    "start_time": "2023-01-12T12:15:54.555Z"
   },
   {
    "duration": 33,
    "start_time": "2023-01-12T12:15:54.604Z"
   },
   {
    "duration": 56,
    "start_time": "2023-01-12T12:15:54.639Z"
   },
   {
    "duration": 18,
    "start_time": "2023-01-12T12:15:54.696Z"
   },
   {
    "duration": 134,
    "start_time": "2023-01-12T12:15:54.715Z"
   },
   {
    "duration": 29,
    "start_time": "2023-01-12T12:15:54.851Z"
   },
   {
    "duration": 15,
    "start_time": "2023-01-12T12:15:54.882Z"
   },
   {
    "duration": 21,
    "start_time": "2023-01-12T12:15:54.899Z"
   },
   {
    "duration": 123,
    "start_time": "2023-01-12T12:15:54.922Z"
   },
   {
    "duration": 11,
    "start_time": "2023-01-12T12:15:55.047Z"
   },
   {
    "duration": 119,
    "start_time": "2023-01-12T12:15:55.059Z"
   },
   {
    "duration": 5,
    "start_time": "2023-01-12T12:15:55.179Z"
   },
   {
    "duration": 21,
    "start_time": "2023-01-12T12:15:55.186Z"
   },
   {
    "duration": 34,
    "start_time": "2023-01-12T12:15:55.210Z"
   },
   {
    "duration": 12,
    "start_time": "2023-01-12T12:15:55.245Z"
   },
   {
    "duration": 3315,
    "start_time": "2023-01-12T12:15:55.259Z"
   },
   {
    "duration": 76,
    "start_time": "2023-01-12T12:15:58.576Z"
   },
   {
    "duration": 0,
    "start_time": "2023-01-12T12:15:58.653Z"
   },
   {
    "duration": 0,
    "start_time": "2023-01-12T12:15:58.655Z"
   },
   {
    "duration": 0,
    "start_time": "2023-01-12T12:15:58.655Z"
   },
   {
    "duration": 0,
    "start_time": "2023-01-12T12:15:58.657Z"
   },
   {
    "duration": 0,
    "start_time": "2023-01-12T12:15:58.659Z"
   },
   {
    "duration": 0,
    "start_time": "2023-01-12T12:15:58.659Z"
   },
   {
    "duration": 0,
    "start_time": "2023-01-12T12:15:58.678Z"
   },
   {
    "duration": 0,
    "start_time": "2023-01-12T12:15:58.680Z"
   },
   {
    "duration": 0,
    "start_time": "2023-01-12T12:15:58.681Z"
   },
   {
    "duration": 0,
    "start_time": "2023-01-12T12:15:58.682Z"
   },
   {
    "duration": 0,
    "start_time": "2023-01-12T12:15:58.683Z"
   },
   {
    "duration": 1,
    "start_time": "2023-01-12T12:15:58.684Z"
   },
   {
    "duration": 1,
    "start_time": "2023-01-12T12:15:58.685Z"
   },
   {
    "duration": 1,
    "start_time": "2023-01-12T12:15:58.686Z"
   },
   {
    "duration": 0,
    "start_time": "2023-01-12T12:15:58.687Z"
   },
   {
    "duration": 0,
    "start_time": "2023-01-12T12:15:58.688Z"
   },
   {
    "duration": 0,
    "start_time": "2023-01-12T12:15:58.690Z"
   },
   {
    "duration": 0,
    "start_time": "2023-01-12T12:15:58.691Z"
   },
   {
    "duration": 0,
    "start_time": "2023-01-12T12:15:58.692Z"
   },
   {
    "duration": 0,
    "start_time": "2023-01-12T12:15:58.693Z"
   },
   {
    "duration": 0,
    "start_time": "2023-01-12T12:15:58.694Z"
   },
   {
    "duration": 0,
    "start_time": "2023-01-12T12:15:58.695Z"
   },
   {
    "duration": 15,
    "start_time": "2023-01-12T12:17:04.545Z"
   },
   {
    "duration": 49,
    "start_time": "2023-01-12T12:17:12.043Z"
   },
   {
    "duration": 1692,
    "start_time": "2023-01-12T12:17:16.395Z"
   },
   {
    "duration": 153,
    "start_time": "2023-01-12T12:17:18.088Z"
   },
   {
    "duration": 129,
    "start_time": "2023-01-12T12:17:18.243Z"
   },
   {
    "duration": 201,
    "start_time": "2023-01-12T12:17:18.378Z"
   },
   {
    "duration": 10,
    "start_time": "2023-01-12T12:17:18.581Z"
   },
   {
    "duration": 143,
    "start_time": "2023-01-12T12:17:18.592Z"
   },
   {
    "duration": 4,
    "start_time": "2023-01-12T12:17:18.737Z"
   },
   {
    "duration": 18,
    "start_time": "2023-01-12T12:17:18.742Z"
   },
   {
    "duration": 18,
    "start_time": "2023-01-12T12:17:18.762Z"
   },
   {
    "duration": 2,
    "start_time": "2023-01-12T12:17:18.839Z"
   },
   {
    "duration": 204,
    "start_time": "2023-01-12T12:17:19.023Z"
   },
   {
    "duration": 176,
    "start_time": "2023-01-12T12:17:19.349Z"
   },
   {
    "duration": 253,
    "start_time": "2023-01-12T12:17:19.673Z"
   },
   {
    "duration": 184,
    "start_time": "2023-01-12T12:17:19.992Z"
   },
   {
    "duration": 140,
    "start_time": "2023-01-12T12:17:20.300Z"
   },
   {
    "duration": 167,
    "start_time": "2023-01-12T12:17:20.641Z"
   },
   {
    "duration": 142,
    "start_time": "2023-01-12T12:17:20.949Z"
   },
   {
    "duration": 131,
    "start_time": "2023-01-12T12:17:21.293Z"
   },
   {
    "duration": 24,
    "start_time": "2023-01-12T12:17:21.768Z"
   },
   {
    "duration": 10,
    "start_time": "2023-01-12T12:17:22.358Z"
   },
   {
    "duration": 121,
    "start_time": "2023-01-12T12:17:22.522Z"
   },
   {
    "duration": 390,
    "start_time": "2023-01-12T12:26:25.474Z"
   },
   {
    "duration": 144,
    "start_time": "2023-01-12T12:26:25.867Z"
   },
   {
    "duration": 24,
    "start_time": "2023-01-12T12:26:26.013Z"
   },
   {
    "duration": 2560,
    "start_time": "2023-01-12T12:26:26.039Z"
   },
   {
    "duration": 15,
    "start_time": "2023-01-12T12:26:28.601Z"
   },
   {
    "duration": 14,
    "start_time": "2023-01-12T12:26:28.618Z"
   },
   {
    "duration": 6,
    "start_time": "2023-01-12T12:26:28.635Z"
   },
   {
    "duration": 16,
    "start_time": "2023-01-12T12:26:28.643Z"
   },
   {
    "duration": 16,
    "start_time": "2023-01-12T12:26:28.660Z"
   },
   {
    "duration": 8,
    "start_time": "2023-01-12T12:26:28.679Z"
   },
   {
    "duration": 26,
    "start_time": "2023-01-12T12:26:28.689Z"
   },
   {
    "duration": 16,
    "start_time": "2023-01-12T12:26:28.717Z"
   },
   {
    "duration": 12,
    "start_time": "2023-01-12T12:26:28.735Z"
   },
   {
    "duration": 6,
    "start_time": "2023-01-12T12:26:28.749Z"
   },
   {
    "duration": 12,
    "start_time": "2023-01-12T12:26:28.757Z"
   },
   {
    "duration": 11,
    "start_time": "2023-01-12T12:26:28.771Z"
   },
   {
    "duration": 11,
    "start_time": "2023-01-12T12:26:28.783Z"
   },
   {
    "duration": 25,
    "start_time": "2023-01-12T12:26:28.795Z"
   },
   {
    "duration": 144,
    "start_time": "2023-01-12T12:26:28.823Z"
   },
   {
    "duration": 24,
    "start_time": "2023-01-12T12:26:28.968Z"
   },
   {
    "duration": 9,
    "start_time": "2023-01-12T12:26:28.994Z"
   },
   {
    "duration": 9,
    "start_time": "2023-01-12T12:26:29.016Z"
   },
   {
    "duration": 133,
    "start_time": "2023-01-12T12:26:29.027Z"
   },
   {
    "duration": 13,
    "start_time": "2023-01-12T12:26:29.161Z"
   },
   {
    "duration": 125,
    "start_time": "2023-01-12T12:26:29.175Z"
   },
   {
    "duration": 11,
    "start_time": "2023-01-12T12:26:29.302Z"
   },
   {
    "duration": 37,
    "start_time": "2023-01-12T12:26:29.326Z"
   },
   {
    "duration": 21,
    "start_time": "2023-01-12T12:26:29.367Z"
   },
   {
    "duration": 9,
    "start_time": "2023-01-12T12:26:29.390Z"
   },
   {
    "duration": 3687,
    "start_time": "2023-01-12T12:26:29.401Z"
   },
   {
    "duration": 14,
    "start_time": "2023-01-12T12:26:33.090Z"
   },
   {
    "duration": 56,
    "start_time": "2023-01-12T12:26:33.115Z"
   },
   {
    "duration": 1907,
    "start_time": "2023-01-12T12:26:33.172Z"
   },
   {
    "duration": 184,
    "start_time": "2023-01-12T12:26:35.081Z"
   },
   {
    "duration": 147,
    "start_time": "2023-01-12T12:26:35.266Z"
   },
   {
    "duration": 219,
    "start_time": "2023-01-12T12:26:35.423Z"
   },
   {
    "duration": 10,
    "start_time": "2023-01-12T12:26:35.643Z"
   },
   {
    "duration": 146,
    "start_time": "2023-01-12T12:26:35.654Z"
   },
   {
    "duration": 20,
    "start_time": "2023-01-12T12:26:35.802Z"
   },
   {
    "duration": 18,
    "start_time": "2023-01-12T12:26:35.823Z"
   },
   {
    "duration": 8,
    "start_time": "2023-01-12T12:26:35.843Z"
   },
   {
    "duration": 3,
    "start_time": "2023-01-12T12:26:35.853Z"
   },
   {
    "duration": 243,
    "start_time": "2023-01-12T12:26:35.858Z"
   },
   {
    "duration": 238,
    "start_time": "2023-01-12T12:26:36.103Z"
   },
   {
    "duration": 350,
    "start_time": "2023-01-12T12:26:36.343Z"
   },
   {
    "duration": 236,
    "start_time": "2023-01-12T12:26:36.695Z"
   },
   {
    "duration": 177,
    "start_time": "2023-01-12T12:26:36.933Z"
   },
   {
    "duration": 205,
    "start_time": "2023-01-12T12:26:37.122Z"
   },
   {
    "duration": 169,
    "start_time": "2023-01-12T12:26:37.329Z"
   },
   {
    "duration": 176,
    "start_time": "2023-01-12T12:26:37.499Z"
   },
   {
    "duration": 41,
    "start_time": "2023-01-12T12:26:37.677Z"
   },
   {
    "duration": 12,
    "start_time": "2023-01-12T12:26:37.719Z"
   },
   {
    "duration": 151,
    "start_time": "2023-01-12T12:26:37.733Z"
   },
   {
    "duration": 46,
    "start_time": "2023-01-12T16:10:16.935Z"
   },
   {
    "duration": 470,
    "start_time": "2023-01-12T16:10:24.665Z"
   },
   {
    "duration": 374,
    "start_time": "2023-01-12T16:10:25.137Z"
   },
   {
    "duration": 15,
    "start_time": "2023-01-12T16:10:25.513Z"
   },
   {
    "duration": 2215,
    "start_time": "2023-01-12T16:10:25.530Z"
   },
   {
    "duration": 11,
    "start_time": "2023-01-12T16:10:27.747Z"
   },
   {
    "duration": 8,
    "start_time": "2023-01-12T16:10:27.760Z"
   },
   {
    "duration": 12,
    "start_time": "2023-01-12T16:10:27.769Z"
   },
   {
    "duration": 7,
    "start_time": "2023-01-12T16:10:27.783Z"
   },
   {
    "duration": 15,
    "start_time": "2023-01-12T16:10:27.792Z"
   },
   {
    "duration": 7,
    "start_time": "2023-01-12T16:10:27.809Z"
   },
   {
    "duration": 15,
    "start_time": "2023-01-12T16:10:27.818Z"
   },
   {
    "duration": 14,
    "start_time": "2023-01-12T16:10:27.835Z"
   },
   {
    "duration": 17,
    "start_time": "2023-01-12T16:10:27.850Z"
   },
   {
    "duration": 12,
    "start_time": "2023-01-12T16:10:27.868Z"
   },
   {
    "duration": 27,
    "start_time": "2023-01-12T16:10:27.881Z"
   },
   {
    "duration": 26,
    "start_time": "2023-01-12T16:10:27.910Z"
   },
   {
    "duration": 32,
    "start_time": "2023-01-12T16:10:27.938Z"
   },
   {
    "duration": 27,
    "start_time": "2023-01-12T16:10:27.971Z"
   },
   {
    "duration": 142,
    "start_time": "2023-01-12T16:10:27.999Z"
   },
   {
    "duration": 22,
    "start_time": "2023-01-12T16:10:28.143Z"
   },
   {
    "duration": 16,
    "start_time": "2023-01-12T16:10:28.166Z"
   },
   {
    "duration": 26,
    "start_time": "2023-01-12T16:10:28.183Z"
   },
   {
    "duration": 103,
    "start_time": "2023-01-12T16:10:28.211Z"
   },
   {
    "duration": 11,
    "start_time": "2023-01-12T16:10:28.315Z"
   },
   {
    "duration": 112,
    "start_time": "2023-01-12T16:10:28.327Z"
   },
   {
    "duration": 5,
    "start_time": "2023-01-12T16:10:28.440Z"
   },
   {
    "duration": 20,
    "start_time": "2023-01-12T16:10:28.446Z"
   },
   {
    "duration": 17,
    "start_time": "2023-01-12T16:10:28.469Z"
   },
   {
    "duration": 41,
    "start_time": "2023-01-12T16:10:28.487Z"
   },
   {
    "duration": 3104,
    "start_time": "2023-01-12T16:10:28.529Z"
   },
   {
    "duration": 15,
    "start_time": "2023-01-12T16:10:31.635Z"
   },
   {
    "duration": 59,
    "start_time": "2023-01-12T16:10:31.651Z"
   },
   {
    "duration": 1530,
    "start_time": "2023-01-12T16:10:31.711Z"
   },
   {
    "duration": 153,
    "start_time": "2023-01-12T16:10:33.243Z"
   },
   {
    "duration": 137,
    "start_time": "2023-01-12T16:10:33.398Z"
   },
   {
    "duration": 151,
    "start_time": "2023-01-12T16:10:33.536Z"
   },
   {
    "duration": 204,
    "start_time": "2023-01-12T16:10:33.689Z"
   },
   {
    "duration": 9,
    "start_time": "2023-01-12T16:10:33.894Z"
   },
   {
    "duration": 149,
    "start_time": "2023-01-12T16:10:33.905Z"
   },
   {
    "duration": 3,
    "start_time": "2023-01-12T16:10:34.055Z"
   },
   {
    "duration": 24,
    "start_time": "2023-01-12T16:10:34.060Z"
   },
   {
    "duration": 9,
    "start_time": "2023-01-12T16:10:34.086Z"
   },
   {
    "duration": 19,
    "start_time": "2023-01-12T16:10:34.096Z"
   },
   {
    "duration": 177,
    "start_time": "2023-01-12T16:10:34.117Z"
   },
   {
    "duration": 316,
    "start_time": "2023-01-12T16:10:34.296Z"
   },
   {
    "duration": 197,
    "start_time": "2023-01-12T16:10:34.613Z"
   },
   {
    "duration": 302,
    "start_time": "2023-01-12T16:10:34.812Z"
   },
   {
    "duration": 224,
    "start_time": "2023-01-12T16:10:35.116Z"
   },
   {
    "duration": 217,
    "start_time": "2023-01-12T16:10:35.342Z"
   },
   {
    "duration": 162,
    "start_time": "2023-01-12T16:10:35.561Z"
   },
   {
    "duration": 152,
    "start_time": "2023-01-12T16:10:35.725Z"
   },
   {
    "duration": 24,
    "start_time": "2023-01-12T16:10:35.878Z"
   },
   {
    "duration": 9,
    "start_time": "2023-01-12T16:10:35.903Z"
   },
   {
    "duration": 130,
    "start_time": "2023-01-12T16:10:35.913Z"
   },
   {
    "duration": 247,
    "start_time": "2023-01-12T16:10:47.230Z"
   },
   {
    "duration": 263,
    "start_time": "2023-01-12T16:11:05.483Z"
   },
   {
    "duration": 205,
    "start_time": "2023-01-12T16:11:11.526Z"
   },
   {
    "duration": 343,
    "start_time": "2023-01-12T16:12:10.227Z"
   },
   {
    "duration": 279,
    "start_time": "2023-01-12T16:12:15.794Z"
   },
   {
    "duration": 242,
    "start_time": "2023-01-12T16:12:25.311Z"
   },
   {
    "duration": 239,
    "start_time": "2023-01-12T16:12:29.841Z"
   },
   {
    "duration": 244,
    "start_time": "2023-01-12T16:12:47.030Z"
   },
   {
    "duration": 302,
    "start_time": "2023-01-12T16:12:54.834Z"
   },
   {
    "duration": 369,
    "start_time": "2023-01-12T16:13:01.434Z"
   },
   {
    "duration": 193,
    "start_time": "2023-01-12T16:13:13.518Z"
   },
   {
    "duration": 198,
    "start_time": "2023-01-12T16:13:29.642Z"
   },
   {
    "duration": 147,
    "start_time": "2023-01-12T16:13:34.593Z"
   },
   {
    "duration": 150,
    "start_time": "2023-01-12T16:14:16.669Z"
   },
   {
    "duration": 155,
    "start_time": "2023-01-12T16:14:24.858Z"
   },
   {
    "duration": 131,
    "start_time": "2023-01-12T16:14:30.876Z"
   },
   {
    "duration": 171,
    "start_time": "2023-01-12T16:14:34.123Z"
   },
   {
    "duration": 148,
    "start_time": "2023-01-12T16:14:44.608Z"
   },
   {
    "duration": 149,
    "start_time": "2023-01-12T16:14:48.542Z"
   },
   {
    "duration": 139,
    "start_time": "2023-01-12T16:14:57.890Z"
   },
   {
    "duration": 129,
    "start_time": "2023-01-12T16:15:10.789Z"
   },
   {
    "duration": 147,
    "start_time": "2023-01-12T16:15:16.021Z"
   },
   {
    "duration": 256,
    "start_time": "2023-01-12T16:15:32.937Z"
   },
   {
    "duration": 150,
    "start_time": "2023-01-12T16:15:40.445Z"
   },
   {
    "duration": 147,
    "start_time": "2023-01-12T16:16:03.124Z"
   },
   {
    "duration": 312,
    "start_time": "2023-01-12T16:16:32.724Z"
   },
   {
    "duration": 132,
    "start_time": "2023-01-12T16:16:41.951Z"
   },
   {
    "duration": 119,
    "start_time": "2023-01-12T16:16:47.635Z"
   },
   {
    "duration": 126,
    "start_time": "2023-01-12T16:16:55.610Z"
   },
   {
    "duration": 202,
    "start_time": "2023-01-12T16:17:20.945Z"
   },
   {
    "duration": 136,
    "start_time": "2023-01-12T16:17:32.795Z"
   },
   {
    "duration": 161,
    "start_time": "2023-01-12T16:17:45.082Z"
   },
   {
    "duration": 187,
    "start_time": "2023-01-12T16:17:58.003Z"
   },
   {
    "duration": 133,
    "start_time": "2023-01-12T16:18:18.206Z"
   },
   {
    "duration": 136,
    "start_time": "2023-01-12T16:18:37.145Z"
   },
   {
    "duration": 117,
    "start_time": "2023-01-12T16:18:50.783Z"
   },
   {
    "duration": 149,
    "start_time": "2023-01-12T16:18:58.175Z"
   },
   {
    "duration": 133,
    "start_time": "2023-01-12T16:19:25.759Z"
   },
   {
    "duration": 141,
    "start_time": "2023-01-12T16:19:36.284Z"
   },
   {
    "duration": 135,
    "start_time": "2023-01-12T16:19:56.215Z"
   },
   {
    "duration": 142,
    "start_time": "2023-01-12T16:20:25.302Z"
   },
   {
    "duration": 111,
    "start_time": "2023-01-12T16:20:31.056Z"
   },
   {
    "duration": 113,
    "start_time": "2023-01-12T16:20:52.270Z"
   },
   {
    "duration": 161,
    "start_time": "2023-01-12T16:21:04.530Z"
   },
   {
    "duration": 163,
    "start_time": "2023-01-12T16:21:35.749Z"
   },
   {
    "duration": 145,
    "start_time": "2023-01-12T16:22:00.240Z"
   },
   {
    "duration": 234,
    "start_time": "2023-01-12T16:22:07.257Z"
   },
   {
    "duration": 417,
    "start_time": "2023-01-12T16:22:30.219Z"
   },
   {
    "duration": 293,
    "start_time": "2023-01-12T16:23:05.208Z"
   },
   {
    "duration": 168,
    "start_time": "2023-01-12T16:26:53.370Z"
   },
   {
    "duration": 9,
    "start_time": "2023-01-12T16:30:35.516Z"
   },
   {
    "duration": 151,
    "start_time": "2023-01-12T16:32:57.454Z"
   },
   {
    "duration": 143,
    "start_time": "2023-01-12T16:33:05.618Z"
   },
   {
    "duration": 6,
    "start_time": "2023-01-12T16:33:59.341Z"
   },
   {
    "duration": 141,
    "start_time": "2023-01-12T16:34:24.160Z"
   },
   {
    "duration": 148,
    "start_time": "2023-01-12T16:34:27.000Z"
   },
   {
    "duration": 150,
    "start_time": "2023-01-12T16:34:59.943Z"
   },
   {
    "duration": 148,
    "start_time": "2023-01-12T16:35:06.278Z"
   },
   {
    "duration": 147,
    "start_time": "2023-01-12T16:37:38.666Z"
   },
   {
    "duration": 142,
    "start_time": "2023-01-12T16:45:49.696Z"
   },
   {
    "duration": 245,
    "start_time": "2023-01-12T16:46:52.905Z"
   },
   {
    "duration": 223,
    "start_time": "2023-01-12T16:48:31.055Z"
   },
   {
    "duration": 23,
    "start_time": "2023-01-12T16:58:05.941Z"
   },
   {
    "duration": 24,
    "start_time": "2023-01-12T16:58:38.579Z"
   },
   {
    "duration": 388,
    "start_time": "2023-01-12T16:59:57.303Z"
   },
   {
    "duration": 121,
    "start_time": "2023-01-12T16:59:57.693Z"
   },
   {
    "duration": 14,
    "start_time": "2023-01-12T16:59:57.816Z"
   },
   {
    "duration": 2005,
    "start_time": "2023-01-12T16:59:57.832Z"
   },
   {
    "duration": 9,
    "start_time": "2023-01-12T16:59:59.839Z"
   },
   {
    "duration": 15,
    "start_time": "2023-01-12T16:59:59.850Z"
   },
   {
    "duration": 7,
    "start_time": "2023-01-12T16:59:59.866Z"
   },
   {
    "duration": 19,
    "start_time": "2023-01-12T16:59:59.875Z"
   },
   {
    "duration": 13,
    "start_time": "2023-01-12T16:59:59.895Z"
   },
   {
    "duration": 7,
    "start_time": "2023-01-12T16:59:59.911Z"
   },
   {
    "duration": 10,
    "start_time": "2023-01-12T16:59:59.920Z"
   },
   {
    "duration": 10,
    "start_time": "2023-01-12T16:59:59.932Z"
   },
   {
    "duration": 10,
    "start_time": "2023-01-12T16:59:59.944Z"
   },
   {
    "duration": 3,
    "start_time": "2023-01-12T16:59:59.955Z"
   },
   {
    "duration": 21,
    "start_time": "2023-01-12T16:59:59.960Z"
   },
   {
    "duration": 5,
    "start_time": "2023-01-12T16:59:59.983Z"
   },
   {
    "duration": 5,
    "start_time": "2023-01-12T16:59:59.990Z"
   },
   {
    "duration": 6,
    "start_time": "2023-01-12T16:59:59.996Z"
   },
   {
    "duration": 142,
    "start_time": "2023-01-12T17:00:00.004Z"
   },
   {
    "duration": 29,
    "start_time": "2023-01-12T17:00:00.148Z"
   },
   {
    "duration": 7,
    "start_time": "2023-01-12T17:00:00.178Z"
   },
   {
    "duration": 13,
    "start_time": "2023-01-12T17:00:00.187Z"
   },
   {
    "duration": 109,
    "start_time": "2023-01-12T17:00:00.201Z"
   },
   {
    "duration": 12,
    "start_time": "2023-01-12T17:00:00.311Z"
   },
   {
    "duration": 128,
    "start_time": "2023-01-12T17:00:00.325Z"
   },
   {
    "duration": 5,
    "start_time": "2023-01-12T17:00:00.455Z"
   },
   {
    "duration": 29,
    "start_time": "2023-01-12T17:00:00.461Z"
   },
   {
    "duration": 22,
    "start_time": "2023-01-12T17:00:00.494Z"
   },
   {
    "duration": 18,
    "start_time": "2023-01-12T17:00:00.518Z"
   },
   {
    "duration": 3349,
    "start_time": "2023-01-12T17:00:00.538Z"
   },
   {
    "duration": 14,
    "start_time": "2023-01-12T17:00:03.889Z"
   },
   {
    "duration": 50,
    "start_time": "2023-01-12T17:00:03.905Z"
   },
   {
    "duration": 1810,
    "start_time": "2023-01-12T17:00:03.957Z"
   },
   {
    "duration": 149,
    "start_time": "2023-01-12T17:00:05.776Z"
   },
   {
    "duration": 125,
    "start_time": "2023-01-12T17:00:05.926Z"
   },
   {
    "duration": 231,
    "start_time": "2023-01-12T17:00:06.052Z"
   },
   {
    "duration": 235,
    "start_time": "2023-01-12T17:00:06.284Z"
   },
   {
    "duration": 165,
    "start_time": "2023-01-12T17:00:06.520Z"
   },
   {
    "duration": 253,
    "start_time": "2023-01-12T17:00:06.687Z"
   },
   {
    "duration": 141,
    "start_time": "2023-01-12T17:00:06.942Z"
   },
   {
    "duration": 147,
    "start_time": "2023-01-12T17:00:07.085Z"
   },
   {
    "duration": 167,
    "start_time": "2023-01-12T17:00:07.233Z"
   },
   {
    "duration": 119,
    "start_time": "2023-01-12T17:00:07.401Z"
   },
   {
    "duration": 196,
    "start_time": "2023-01-12T17:00:07.522Z"
   },
   {
    "duration": 262,
    "start_time": "2023-01-12T17:00:07.720Z"
   },
   {
    "duration": 185,
    "start_time": "2023-01-12T17:00:07.984Z"
   },
   {
    "duration": 250,
    "start_time": "2023-01-12T17:00:08.171Z"
   },
   {
    "duration": 214,
    "start_time": "2023-01-12T17:00:08.423Z"
   },
   {
    "duration": 9,
    "start_time": "2023-01-12T17:00:08.639Z"
   },
   {
    "duration": 265,
    "start_time": "2023-01-12T17:00:08.649Z"
   },
   {
    "duration": 4,
    "start_time": "2023-01-12T17:00:08.916Z"
   },
   {
    "duration": 17,
    "start_time": "2023-01-12T17:00:08.921Z"
   },
   {
    "duration": 8,
    "start_time": "2023-01-12T17:00:08.939Z"
   },
   {
    "duration": 2,
    "start_time": "2023-01-12T17:00:08.949Z"
   },
   {
    "duration": 208,
    "start_time": "2023-01-12T17:00:08.952Z"
   },
   {
    "duration": 182,
    "start_time": "2023-01-12T17:00:09.161Z"
   },
   {
    "duration": 164,
    "start_time": "2023-01-12T17:00:09.345Z"
   },
   {
    "duration": 193,
    "start_time": "2023-01-12T17:00:09.511Z"
   },
   {
    "duration": 154,
    "start_time": "2023-01-12T17:00:09.706Z"
   },
   {
    "duration": 192,
    "start_time": "2023-01-12T17:00:09.862Z"
   },
   {
    "duration": 145,
    "start_time": "2023-01-12T17:00:10.056Z"
   },
   {
    "duration": 141,
    "start_time": "2023-01-12T17:00:10.203Z"
   },
   {
    "duration": 33,
    "start_time": "2023-01-12T17:00:10.346Z"
   },
   {
    "duration": 9,
    "start_time": "2023-01-12T17:00:10.381Z"
   },
   {
    "duration": 125,
    "start_time": "2023-01-12T17:00:10.392Z"
   }
  ],
  "kernelspec": {
   "display_name": "Python 3 (ipykernel)",
   "language": "python",
   "name": "python3"
  },
  "language_info": {
   "codemirror_mode": {
    "name": "ipython",
    "version": 3
   },
   "file_extension": ".py",
   "mimetype": "text/x-python",
   "name": "python",
   "nbconvert_exporter": "python",
   "pygments_lexer": "ipython3",
   "version": "3.9.7"
  },
  "toc": {
   "base_numbering": 1,
   "nav_menu": {},
   "number_sections": true,
   "sideBar": true,
   "skip_h1_title": true,
   "title_cell": "Table of Contents",
   "title_sidebar": "Contents",
   "toc_cell": false,
   "toc_position": {},
   "toc_section_display": true,
   "toc_window_display": false
  }
 },
 "nbformat": 4,
 "nbformat_minor": 2
}
