{
 "cells": [
  {
   "cell_type": "markdown",
   "metadata": {
    "toc": true
   },
   "source": [
    "<h1>Содержание<span class=\"tocSkip\"></span></h1>\n",
    "<div class=\"toc\"><ul class=\"toc-item\"><li><span><a href=\"#Подготовка-данных\" data-toc-modified-id=\"Подготовка-данных-1\"><span class=\"toc-item-num\">1&nbsp;&nbsp;</span>Подготовка данных</a></span><ul class=\"toc-item\"><li><span><a href=\"#Загрузка-и-изучение-набора-данных\" data-toc-modified-id=\"Загрузка-и-изучение-набора-данных-1.1\"><span class=\"toc-item-num\">1.1&nbsp;&nbsp;</span>Загрузка и изучение набора данных</a></span></li><li><span><a href=\"#Обработка-пропусков\" data-toc-modified-id=\"Обработка-пропусков-1.2\"><span class=\"toc-item-num\">1.2&nbsp;&nbsp;</span>Обработка пропусков</a></span></li><li><span><a href=\"#Исследуем-данные-на-дубликаты\" data-toc-modified-id=\"Исследуем-данные-на-дубликаты-1.3\"><span class=\"toc-item-num\">1.3&nbsp;&nbsp;</span>Исследуем данные на дубликаты</a></span></li><li><span><a href=\"#Преобразование-переменных-для-моделирования\" data-toc-modified-id=\"Преобразование-переменных-для-моделирования-1.4\"><span class=\"toc-item-num\">1.4&nbsp;&nbsp;</span>Преобразование переменных для моделирования</a></span></li></ul></li><li><span><a href=\"#Исследование-задачи\" data-toc-modified-id=\"Исследование-задачи-2\"><span class=\"toc-item-num\">2&nbsp;&nbsp;</span>Исследование задачи</a></span><ul class=\"toc-item\"><li><span><a href=\"#Баланс-классов\" data-toc-modified-id=\"Баланс-классов-2.1\"><span class=\"toc-item-num\">2.1&nbsp;&nbsp;</span>Баланс классов</a></span></li><li><span><a href=\"#Формируем-обучающую,-валидационную-и-тестовую-выборки\" data-toc-modified-id=\"Формируем-обучающую,-валидационную-и-тестовую-выборки-2.2\"><span class=\"toc-item-num\">2.2&nbsp;&nbsp;</span>Формируем обучающую, валидационную и тестовую выборки</a></span></li><li><span><a href=\"#Логистическая-регрессия\" data-toc-modified-id=\"Логистическая-регрессия-2.3\"><span class=\"toc-item-num\">2.3&nbsp;&nbsp;</span>Логистическая регрессия</a></span></li><li><span><a href=\"#Дерево-решений\" data-toc-modified-id=\"Дерево-решений-2.4\"><span class=\"toc-item-num\">2.4&nbsp;&nbsp;</span>Дерево решений</a></span></li><li><span><a href=\"#Случйаный-лес\" data-toc-modified-id=\"Случйаный-лес-2.5\"><span class=\"toc-item-num\">2.5&nbsp;&nbsp;</span>Случйаный лес</a></span></li></ul></li><li><span><a href=\"#Борьба-с-дисбалансом\" data-toc-modified-id=\"Борьба-с-дисбалансом-3\"><span class=\"toc-item-num\">3&nbsp;&nbsp;</span>Борьба с дисбалансом</a></span><ul class=\"toc-item\"><li><span><a href=\"#Upsampling\" data-toc-modified-id=\"Upsampling-3.1\"><span class=\"toc-item-num\">3.1&nbsp;&nbsp;</span>Upsampling</a></span><ul class=\"toc-item\"><li><span><a href=\"#Logistic-Regression\" data-toc-modified-id=\"Logistic-Regression-3.1.1\"><span class=\"toc-item-num\">3.1.1&nbsp;&nbsp;</span>Logistic Regression</a></span></li><li><span><a href=\"#Decision-Tree\" data-toc-modified-id=\"Decision-Tree-3.1.2\"><span class=\"toc-item-num\">3.1.2&nbsp;&nbsp;</span>Decision Tree</a></span></li><li><span><a href=\"#Random-Forest\" data-toc-modified-id=\"Random-Forest-3.1.3\"><span class=\"toc-item-num\">3.1.3&nbsp;&nbsp;</span>Random Forest</a></span></li></ul></li><li><span><a href=\"#Downsampling\" data-toc-modified-id=\"Downsampling-3.2\"><span class=\"toc-item-num\">3.2&nbsp;&nbsp;</span>Downsampling</a></span><ul class=\"toc-item\"><li><span><a href=\"#Logistic-Regression\" data-toc-modified-id=\"Logistic-Regression-3.2.1\"><span class=\"toc-item-num\">3.2.1&nbsp;&nbsp;</span>Logistic Regression</a></span></li><li><span><a href=\"#Decision-Tree\" data-toc-modified-id=\"Decision-Tree-3.2.2\"><span class=\"toc-item-num\">3.2.2&nbsp;&nbsp;</span>Decision Tree</a></span></li><li><span><a href=\"#Random-Forest\" data-toc-modified-id=\"Random-Forest-3.2.3\"><span class=\"toc-item-num\">3.2.3&nbsp;&nbsp;</span>Random Forest</a></span></li></ul></li></ul></li><li><span><a href=\"#Тестирование-модели\" data-toc-modified-id=\"Тестирование-модели-4\"><span class=\"toc-item-num\">4&nbsp;&nbsp;</span>Тестирование модели</a></span></li><li><span><a href=\"#Чек-лист-готовности-проекта\" data-toc-modified-id=\"Чек-лист-готовности-проекта-5\"><span class=\"toc-item-num\">5&nbsp;&nbsp;</span>Чек-лист готовности проекта</a></span></li></ul></div>"
   ]
  },
  {
   "cell_type": "markdown",
   "metadata": {},
   "source": [
    "# Отток клиентов"
   ]
  },
  {
   "cell_type": "markdown",
   "metadata": {},
   "source": [
    "Из «Бета-Банка» стали уходить клиенты. Каждый месяц. Немного, но заметно. Банковские маркетологи посчитали: сохранять текущих клиентов дешевле, чем привлекать новых.\n",
    "\n",
    "Нужно спрогнозировать, уйдёт клиент из банка в ближайшее время или нет. Вам предоставлены исторические данные о поведении клиентов и расторжении договоров с банком. \n",
    "\n",
    "Постройте модель с предельно большим значением *F1*-меры. Чтобы сдать проект успешно, нужно довести метрику до 0.59. Проверьте *F1*-меру на тестовой выборке самостоятельно.\n",
    "\n",
    "Дополнительно измеряйте *AUC-ROC*, сравнивайте её значение с *F1*-мерой.\n",
    "\n",
    "Источник данных: [https://www.kaggle.com/barelydedicated/bank-customer-churn-modeling](https://www.kaggle.com/barelydedicated/bank-customer-churn-modeling)"
   ]
  },
  {
   "cell_type": "code",
   "execution_count": 1,
   "metadata": {},
   "outputs": [],
   "source": [
    "import pandas as pd\n",
    "import numpy as np\n",
    "import seaborn as sns\n",
    "import matplotlib.pyplot as plt\n",
    "import warnings\n",
    "warnings.filterwarnings(\"ignore\")\n",
    "from sklearn.preprocessing import StandardScaler\n",
    "from sklearn.model_selection import train_test_split, GridSearchCV\n",
    "from sklearn.tree import DecisionTreeClassifier\n",
    "from sklearn.ensemble import RandomForestClassifier\n",
    "from sklearn.linear_model import LogisticRegression\n",
    "from sklearn.metrics import f1_score, roc_curve, roc_auc_score\n",
    "from sklearn.utils import shuffle"
   ]
  },
  {
   "cell_type": "markdown",
   "metadata": {},
   "source": [
    "## Подготовка данных"
   ]
  },
  {
   "cell_type": "markdown",
   "metadata": {},
   "source": [
    "### Загрузка и изучение набора данных"
   ]
  },
  {
   "cell_type": "code",
   "execution_count": 2,
   "metadata": {},
   "outputs": [],
   "source": [
    "data = pd.read_csv('/datasets/Churn.csv')"
   ]
  },
  {
   "cell_type": "code",
   "execution_count": 3,
   "metadata": {
    "scrolled": true
   },
   "outputs": [
    {
     "name": "stdout",
     "output_type": "stream",
     "text": [
      "Размер датасета:  (10000, 14)\n",
      "\n",
      "Информация о переменных\n",
      "<class 'pandas.core.frame.DataFrame'>\n",
      "RangeIndex: 10000 entries, 0 to 9999\n",
      "Data columns (total 14 columns):\n",
      " #   Column           Non-Null Count  Dtype  \n",
      "---  ------           --------------  -----  \n",
      " 0   RowNumber        10000 non-null  int64  \n",
      " 1   CustomerId       10000 non-null  int64  \n",
      " 2   Surname          10000 non-null  object \n",
      " 3   CreditScore      10000 non-null  int64  \n",
      " 4   Geography        10000 non-null  object \n",
      " 5   Gender           10000 non-null  object \n",
      " 6   Age              10000 non-null  int64  \n",
      " 7   Tenure           9091 non-null   float64\n",
      " 8   Balance          10000 non-null  float64\n",
      " 9   NumOfProducts    10000 non-null  int64  \n",
      " 10  HasCrCard        10000 non-null  int64  \n",
      " 11  IsActiveMember   10000 non-null  int64  \n",
      " 12  EstimatedSalary  10000 non-null  float64\n",
      " 13  Exited           10000 non-null  int64  \n",
      "dtypes: float64(3), int64(8), object(3)\n",
      "memory usage: 1.1+ MB\n",
      "None\n",
      "\n"
     ]
    },
    {
     "data": {
      "text/html": [
       "<div>\n",
       "<style scoped>\n",
       "    .dataframe tbody tr th:only-of-type {\n",
       "        vertical-align: middle;\n",
       "    }\n",
       "\n",
       "    .dataframe tbody tr th {\n",
       "        vertical-align: top;\n",
       "    }\n",
       "\n",
       "    .dataframe thead th {\n",
       "        text-align: right;\n",
       "    }\n",
       "</style>\n",
       "<table border=\"1\" class=\"dataframe\">\n",
       "  <thead>\n",
       "    <tr style=\"text-align: right;\">\n",
       "      <th></th>\n",
       "      <th>RowNumber</th>\n",
       "      <th>CustomerId</th>\n",
       "      <th>Surname</th>\n",
       "      <th>CreditScore</th>\n",
       "      <th>Geography</th>\n",
       "      <th>Gender</th>\n",
       "      <th>Age</th>\n",
       "      <th>Tenure</th>\n",
       "      <th>Balance</th>\n",
       "      <th>NumOfProducts</th>\n",
       "      <th>HasCrCard</th>\n",
       "      <th>IsActiveMember</th>\n",
       "      <th>EstimatedSalary</th>\n",
       "      <th>Exited</th>\n",
       "    </tr>\n",
       "  </thead>\n",
       "  <tbody>\n",
       "    <tr>\n",
       "      <th>0</th>\n",
       "      <td>1</td>\n",
       "      <td>15634602</td>\n",
       "      <td>Hargrave</td>\n",
       "      <td>619</td>\n",
       "      <td>France</td>\n",
       "      <td>Female</td>\n",
       "      <td>42</td>\n",
       "      <td>2.0</td>\n",
       "      <td>0.00</td>\n",
       "      <td>1</td>\n",
       "      <td>1</td>\n",
       "      <td>1</td>\n",
       "      <td>101348.88</td>\n",
       "      <td>1</td>\n",
       "    </tr>\n",
       "    <tr>\n",
       "      <th>1</th>\n",
       "      <td>2</td>\n",
       "      <td>15647311</td>\n",
       "      <td>Hill</td>\n",
       "      <td>608</td>\n",
       "      <td>Spain</td>\n",
       "      <td>Female</td>\n",
       "      <td>41</td>\n",
       "      <td>1.0</td>\n",
       "      <td>83807.86</td>\n",
       "      <td>1</td>\n",
       "      <td>0</td>\n",
       "      <td>1</td>\n",
       "      <td>112542.58</td>\n",
       "      <td>0</td>\n",
       "    </tr>\n",
       "    <tr>\n",
       "      <th>2</th>\n",
       "      <td>3</td>\n",
       "      <td>15619304</td>\n",
       "      <td>Onio</td>\n",
       "      <td>502</td>\n",
       "      <td>France</td>\n",
       "      <td>Female</td>\n",
       "      <td>42</td>\n",
       "      <td>8.0</td>\n",
       "      <td>159660.80</td>\n",
       "      <td>3</td>\n",
       "      <td>1</td>\n",
       "      <td>0</td>\n",
       "      <td>113931.57</td>\n",
       "      <td>1</td>\n",
       "    </tr>\n",
       "    <tr>\n",
       "      <th>3</th>\n",
       "      <td>4</td>\n",
       "      <td>15701354</td>\n",
       "      <td>Boni</td>\n",
       "      <td>699</td>\n",
       "      <td>France</td>\n",
       "      <td>Female</td>\n",
       "      <td>39</td>\n",
       "      <td>1.0</td>\n",
       "      <td>0.00</td>\n",
       "      <td>2</td>\n",
       "      <td>0</td>\n",
       "      <td>0</td>\n",
       "      <td>93826.63</td>\n",
       "      <td>0</td>\n",
       "    </tr>\n",
       "    <tr>\n",
       "      <th>4</th>\n",
       "      <td>5</td>\n",
       "      <td>15737888</td>\n",
       "      <td>Mitchell</td>\n",
       "      <td>850</td>\n",
       "      <td>Spain</td>\n",
       "      <td>Female</td>\n",
       "      <td>43</td>\n",
       "      <td>2.0</td>\n",
       "      <td>125510.82</td>\n",
       "      <td>1</td>\n",
       "      <td>1</td>\n",
       "      <td>1</td>\n",
       "      <td>79084.10</td>\n",
       "      <td>0</td>\n",
       "    </tr>\n",
       "    <tr>\n",
       "      <th>5</th>\n",
       "      <td>6</td>\n",
       "      <td>15574012</td>\n",
       "      <td>Chu</td>\n",
       "      <td>645</td>\n",
       "      <td>Spain</td>\n",
       "      <td>Male</td>\n",
       "      <td>44</td>\n",
       "      <td>8.0</td>\n",
       "      <td>113755.78</td>\n",
       "      <td>2</td>\n",
       "      <td>1</td>\n",
       "      <td>0</td>\n",
       "      <td>149756.71</td>\n",
       "      <td>1</td>\n",
       "    </tr>\n",
       "    <tr>\n",
       "      <th>6</th>\n",
       "      <td>7</td>\n",
       "      <td>15592531</td>\n",
       "      <td>Bartlett</td>\n",
       "      <td>822</td>\n",
       "      <td>France</td>\n",
       "      <td>Male</td>\n",
       "      <td>50</td>\n",
       "      <td>7.0</td>\n",
       "      <td>0.00</td>\n",
       "      <td>2</td>\n",
       "      <td>1</td>\n",
       "      <td>1</td>\n",
       "      <td>10062.80</td>\n",
       "      <td>0</td>\n",
       "    </tr>\n",
       "    <tr>\n",
       "      <th>7</th>\n",
       "      <td>8</td>\n",
       "      <td>15656148</td>\n",
       "      <td>Obinna</td>\n",
       "      <td>376</td>\n",
       "      <td>Germany</td>\n",
       "      <td>Female</td>\n",
       "      <td>29</td>\n",
       "      <td>4.0</td>\n",
       "      <td>115046.74</td>\n",
       "      <td>4</td>\n",
       "      <td>1</td>\n",
       "      <td>0</td>\n",
       "      <td>119346.88</td>\n",
       "      <td>1</td>\n",
       "    </tr>\n",
       "    <tr>\n",
       "      <th>8</th>\n",
       "      <td>9</td>\n",
       "      <td>15792365</td>\n",
       "      <td>He</td>\n",
       "      <td>501</td>\n",
       "      <td>France</td>\n",
       "      <td>Male</td>\n",
       "      <td>44</td>\n",
       "      <td>4.0</td>\n",
       "      <td>142051.07</td>\n",
       "      <td>2</td>\n",
       "      <td>0</td>\n",
       "      <td>1</td>\n",
       "      <td>74940.50</td>\n",
       "      <td>0</td>\n",
       "    </tr>\n",
       "    <tr>\n",
       "      <th>9</th>\n",
       "      <td>10</td>\n",
       "      <td>15592389</td>\n",
       "      <td>H?</td>\n",
       "      <td>684</td>\n",
       "      <td>France</td>\n",
       "      <td>Male</td>\n",
       "      <td>27</td>\n",
       "      <td>2.0</td>\n",
       "      <td>134603.88</td>\n",
       "      <td>1</td>\n",
       "      <td>1</td>\n",
       "      <td>1</td>\n",
       "      <td>71725.73</td>\n",
       "      <td>0</td>\n",
       "    </tr>\n",
       "  </tbody>\n",
       "</table>\n",
       "</div>"
      ],
      "text/plain": [
       "   RowNumber  CustomerId   Surname  CreditScore Geography  Gender  Age  \\\n",
       "0          1    15634602  Hargrave          619    France  Female   42   \n",
       "1          2    15647311      Hill          608     Spain  Female   41   \n",
       "2          3    15619304      Onio          502    France  Female   42   \n",
       "3          4    15701354      Boni          699    France  Female   39   \n",
       "4          5    15737888  Mitchell          850     Spain  Female   43   \n",
       "5          6    15574012       Chu          645     Spain    Male   44   \n",
       "6          7    15592531  Bartlett          822    France    Male   50   \n",
       "7          8    15656148    Obinna          376   Germany  Female   29   \n",
       "8          9    15792365        He          501    France    Male   44   \n",
       "9         10    15592389        H?          684    France    Male   27   \n",
       "\n",
       "   Tenure    Balance  NumOfProducts  HasCrCard  IsActiveMember  \\\n",
       "0     2.0       0.00              1          1               1   \n",
       "1     1.0   83807.86              1          0               1   \n",
       "2     8.0  159660.80              3          1               0   \n",
       "3     1.0       0.00              2          0               0   \n",
       "4     2.0  125510.82              1          1               1   \n",
       "5     8.0  113755.78              2          1               0   \n",
       "6     7.0       0.00              2          1               1   \n",
       "7     4.0  115046.74              4          1               0   \n",
       "8     4.0  142051.07              2          0               1   \n",
       "9     2.0  134603.88              1          1               1   \n",
       "\n",
       "   EstimatedSalary  Exited  \n",
       "0        101348.88       1  \n",
       "1        112542.58       0  \n",
       "2        113931.57       1  \n",
       "3         93826.63       0  \n",
       "4         79084.10       0  \n",
       "5        149756.71       1  \n",
       "6         10062.80       0  \n",
       "7        119346.88       1  \n",
       "8         74940.50       0  \n",
       "9         71725.73       0  "
      ]
     },
     "execution_count": 3,
     "metadata": {},
     "output_type": "execute_result"
    }
   ],
   "source": [
    "print('Размер датасета: ', data.shape)\n",
    "print()\n",
    "print('Информация о переменных')\n",
    "print(data.info())\n",
    "print()\n",
    "data.head(10)"
   ]
  },
  {
   "cell_type": "code",
   "execution_count": 4,
   "metadata": {},
   "outputs": [],
   "source": [
    "#приведем названия переменных к нижнему регистру\n",
    "data = data.rename(columns ={'RowNumber':'row_number',\n",
    "                             'CustomerId':'customer_id',\n",
    "                             'Surname':'surname',\n",
    "                             'CreditScore':'credit_score',\n",
    "                             'Geography':'geography',\n",
    "                             'Gender':'gender',\n",
    "                             'Age':'age',\n",
    "                             'Tenure':'tenure',\n",
    "                             'Balance':'balance',\n",
    "                             'NumOfProducts':'num_of_products',\n",
    "                             'HasCrCard':'has_cr_card',\n",
    "                             'IsActiveMember':'is_active_member',\n",
    "                             'EstimatedSalary':'estimated_salary',\n",
    "                             'Exited':'exited'})"
   ]
  },
  {
   "cell_type": "code",
   "execution_count": 5,
   "metadata": {},
   "outputs": [
    {
     "data": {
      "image/png": "[encoded data removed]",
      "text/plain": [
       "<Figure size 720x576 with 2 Axes>"
      ]
     },
     "metadata": {
      "needs_background": "light"
     },
     "output_type": "display_data"
    }
   ],
   "source": [
    "#посмотрим на связь целевой переменной и признаков\n",
    "plt.figure(figsize=(10,8))\n",
    "sns.heatmap(data.corr(),\n",
    "            cmap='Blues', #палитра\n",
    "            annot=True);"
   ]
  },
  {
   "cell_type": "markdown",
   "metadata": {},
   "source": [
    "- Видим, что факт ухода клиента наиболее сильно связан с возрастом клиента, есть слабая положительная связь, r-Пирсона 0.29. Более возрастные клиенты имеют больше покидают банк.\n",
    "- Факт ухода клиента также связан с балансом на его счете, это слабая положительная связь, r-Пирсона 0.12. Более высокий баланс на счете клиента ассоциирован с тем, что клиент покинет банк.\n",
    "- Факт ухода клиента также связан с активностью клиента, это слабая отрицательная связь, r-Пирсона -0.16. Более активные клиенты меньше  покидают банк. \n",
    "- Стоит отметить, что в каждом из случаев выше связь нельзя назвать достаточно сильной."
   ]
  },
  {
   "cell_type": "markdown",
   "metadata": {},
   "source": [
    "### Обработка пропусков\n"
   ]
  },
  {
   "cell_type": "markdown",
   "metadata": {},
   "source": [
    "Пропуски есть только по переменногй Tenure. Логически она кажется важной для нас: можно предположить, что если человек уже долго является клиентом данного банка, то он с меньшей вероятностью вскоре его покинет, а если он новый клиент, то его лояльность более низкая и он более склонен покинуть банк"
   ]
  },
  {
   "cell_type": "code",
   "execution_count": 6,
   "metadata": {},
   "outputs": [
    {
     "data": {
      "text/html": [
       "<div>\n",
       "<style scoped>\n",
       "    .dataframe tbody tr th:only-of-type {\n",
       "        vertical-align: middle;\n",
       "    }\n",
       "\n",
       "    .dataframe tbody tr th {\n",
       "        vertical-align: top;\n",
       "    }\n",
       "\n",
       "    .dataframe thead th {\n",
       "        text-align: right;\n",
       "    }\n",
       "</style>\n",
       "<table border=\"1\" class=\"dataframe\">\n",
       "  <thead>\n",
       "    <tr style=\"text-align: right;\">\n",
       "      <th></th>\n",
       "      <th>row_number</th>\n",
       "      <th>customer_id</th>\n",
       "      <th>surname</th>\n",
       "      <th>credit_score</th>\n",
       "      <th>geography</th>\n",
       "      <th>gender</th>\n",
       "      <th>age</th>\n",
       "      <th>tenure</th>\n",
       "      <th>balance</th>\n",
       "      <th>num_of_products</th>\n",
       "      <th>has_cr_card</th>\n",
       "      <th>is_active_member</th>\n",
       "      <th>estimated_salary</th>\n",
       "      <th>exited</th>\n",
       "    </tr>\n",
       "  </thead>\n",
       "  <tbody>\n",
       "    <tr>\n",
       "      <th>30</th>\n",
       "      <td>31</td>\n",
       "      <td>15589475</td>\n",
       "      <td>Azikiwe</td>\n",
       "      <td>591</td>\n",
       "      <td>Spain</td>\n",
       "      <td>Female</td>\n",
       "      <td>39</td>\n",
       "      <td>NaN</td>\n",
       "      <td>0.00</td>\n",
       "      <td>3</td>\n",
       "      <td>1</td>\n",
       "      <td>0</td>\n",
       "      <td>140469.38</td>\n",
       "      <td>1</td>\n",
       "    </tr>\n",
       "    <tr>\n",
       "      <th>48</th>\n",
       "      <td>49</td>\n",
       "      <td>15766205</td>\n",
       "      <td>Yin</td>\n",
       "      <td>550</td>\n",
       "      <td>Germany</td>\n",
       "      <td>Male</td>\n",
       "      <td>38</td>\n",
       "      <td>NaN</td>\n",
       "      <td>103391.38</td>\n",
       "      <td>1</td>\n",
       "      <td>0</td>\n",
       "      <td>1</td>\n",
       "      <td>90878.13</td>\n",
       "      <td>0</td>\n",
       "    </tr>\n",
       "    <tr>\n",
       "      <th>51</th>\n",
       "      <td>52</td>\n",
       "      <td>15768193</td>\n",
       "      <td>Trevisani</td>\n",
       "      <td>585</td>\n",
       "      <td>Germany</td>\n",
       "      <td>Male</td>\n",
       "      <td>36</td>\n",
       "      <td>NaN</td>\n",
       "      <td>146050.97</td>\n",
       "      <td>2</td>\n",
       "      <td>0</td>\n",
       "      <td>0</td>\n",
       "      <td>86424.57</td>\n",
       "      <td>0</td>\n",
       "    </tr>\n",
       "    <tr>\n",
       "      <th>53</th>\n",
       "      <td>54</td>\n",
       "      <td>15702298</td>\n",
       "      <td>Parkhill</td>\n",
       "      <td>655</td>\n",
       "      <td>Germany</td>\n",
       "      <td>Male</td>\n",
       "      <td>41</td>\n",
       "      <td>NaN</td>\n",
       "      <td>125561.97</td>\n",
       "      <td>1</td>\n",
       "      <td>0</td>\n",
       "      <td>0</td>\n",
       "      <td>164040.94</td>\n",
       "      <td>1</td>\n",
       "    </tr>\n",
       "    <tr>\n",
       "      <th>60</th>\n",
       "      <td>61</td>\n",
       "      <td>15651280</td>\n",
       "      <td>Hunter</td>\n",
       "      <td>742</td>\n",
       "      <td>Germany</td>\n",
       "      <td>Male</td>\n",
       "      <td>35</td>\n",
       "      <td>NaN</td>\n",
       "      <td>136857.00</td>\n",
       "      <td>1</td>\n",
       "      <td>0</td>\n",
       "      <td>0</td>\n",
       "      <td>84509.57</td>\n",
       "      <td>0</td>\n",
       "    </tr>\n",
       "  </tbody>\n",
       "</table>\n",
       "</div>"
      ],
      "text/plain": [
       "    row_number  customer_id    surname  credit_score geography  gender  age  \\\n",
       "30          31     15589475    Azikiwe           591     Spain  Female   39   \n",
       "48          49     15766205        Yin           550   Germany    Male   38   \n",
       "51          52     15768193  Trevisani           585   Germany    Male   36   \n",
       "53          54     15702298   Parkhill           655   Germany    Male   41   \n",
       "60          61     15651280     Hunter           742   Germany    Male   35   \n",
       "\n",
       "    tenure    balance  num_of_products  has_cr_card  is_active_member  \\\n",
       "30     NaN       0.00                3            1                 0   \n",
       "48     NaN  103391.38                1            0                 1   \n",
       "51     NaN  146050.97                2            0                 0   \n",
       "53     NaN  125561.97                1            0                 0   \n",
       "60     NaN  136857.00                1            0                 0   \n",
       "\n",
       "    estimated_salary  exited  \n",
       "30         140469.38       1  \n",
       "48          90878.13       0  \n",
       "51          86424.57       0  \n",
       "53         164040.94       1  \n",
       "60          84509.57       0  "
      ]
     },
     "execution_count": 6,
     "metadata": {},
     "output_type": "execute_result"
    }
   ],
   "source": [
    "# посмотрим на наблюдения с пропусками\n",
    "data[data['tenure'].isna()].head()"
   ]
  },
  {
   "cell_type": "code",
   "execution_count": 7,
   "metadata": {},
   "outputs": [
    {
     "data": {
      "image/png": "[encoded data removed]",
      "text/plain": [
       "<Figure size 864x576 with 1 Axes>"
      ]
     },
     "metadata": {
      "needs_background": "light"
     },
     "output_type": "display_data"
    }
   ],
   "source": [
    "#ящик с усами для Tenure, чтобы оценить распределение\n",
    "data.boxplot(column = 'tenure', figsize = (12,8));"
   ]
  },
  {
   "cell_type": "markdown",
   "metadata": {},
   "source": [
    "Tenure распределена не равномерно, данные смещены в сторону более высоких значений, наблюдается сильный разброс в данных (IQR = 5)"
   ]
  },
  {
   "cell_type": "code",
   "execution_count": 8,
   "metadata": {},
   "outputs": [
    {
     "data": {
      "text/plain": [
       "row_number         -0.007322\n",
       "customer_id        -0.021418\n",
       "credit_score       -0.000062\n",
       "age                -0.013134\n",
       "tenure              1.000000\n",
       "balance            -0.007911\n",
       "num_of_products     0.011979\n",
       "has_cr_card         0.027232\n",
       "is_active_member   -0.032178\n",
       "estimated_salary    0.010520\n",
       "exited             -0.016761\n",
       "Name: tenure, dtype: float64"
      ]
     },
     "execution_count": 8,
     "metadata": {},
     "output_type": "execute_result"
    }
   ],
   "source": [
    "#поищем связь Tenure с какой-либо переменной в датасете\n",
    "data.corr()['tenure']"
   ]
  },
  {
   "cell_type": "markdown",
   "metadata": {},
   "source": [
    "Ни с одной из переменных связи нет"
   ]
  },
  {
   "cell_type": "code",
   "execution_count": 9,
   "metadata": {},
   "outputs": [
    {
     "data": {
      "text/html": [
       "<div>\n",
       "<style scoped>\n",
       "    .dataframe tbody tr th:only-of-type {\n",
       "        vertical-align: middle;\n",
       "    }\n",
       "\n",
       "    .dataframe tbody tr th {\n",
       "        vertical-align: top;\n",
       "    }\n",
       "\n",
       "    .dataframe thead th {\n",
       "        text-align: right;\n",
       "    }\n",
       "</style>\n",
       "<table border=\"1\" class=\"dataframe\">\n",
       "  <thead>\n",
       "    <tr style=\"text-align: right;\">\n",
       "      <th></th>\n",
       "      <th>mean</th>\n",
       "      <th>median</th>\n",
       "    </tr>\n",
       "    <tr>\n",
       "      <th>geography</th>\n",
       "      <th></th>\n",
       "      <th></th>\n",
       "    </tr>\n",
       "  </thead>\n",
       "  <tbody>\n",
       "    <tr>\n",
       "      <th>France</th>\n",
       "      <td>5.003956</td>\n",
       "      <td>5.0</td>\n",
       "    </tr>\n",
       "    <tr>\n",
       "      <th>Germany</th>\n",
       "      <td>4.981247</td>\n",
       "      <td>5.0</td>\n",
       "    </tr>\n",
       "    <tr>\n",
       "      <th>Spain</th>\n",
       "      <td>5.001779</td>\n",
       "      <td>5.0</td>\n",
       "    </tr>\n",
       "  </tbody>\n",
       "</table>\n",
       "</div>"
      ],
      "text/plain": [
       "               mean  median\n",
       "geography                  \n",
       "France     5.003956     5.0\n",
       "Germany    4.981247     5.0\n",
       "Spain      5.001779     5.0"
      ]
     },
     "execution_count": 9,
     "metadata": {},
     "output_type": "execute_result"
    }
   ],
   "source": [
    "#Восстановить данные по странам не получится, так как медиана и среднее примерно одинаковые \n",
    "data.groupby('geography')['tenure'].agg(['mean', 'median'])"
   ]
  },
  {
   "cell_type": "markdown",
   "metadata": {},
   "source": [
    "Допустим, что Tenure связан с возрастом клиента. Более возрастные клиенты более длолго являютсчя клиентами банка. Если моя гипотеза верна, то по возрасту клиентов, я смогу восстановить продолжительность их сотрудничества с банком."
   ]
  },
  {
   "cell_type": "code",
   "execution_count": 10,
   "metadata": {},
   "outputs": [
    {
     "data": {
      "image/png": "[encoded data removed]",
      "text/plain": [
       "<Figure size 1440x360 with 1 Axes>"
      ]
     },
     "metadata": {
      "needs_background": "light"
     },
     "output_type": "display_data"
    }
   ],
   "source": [
    "plt.figure(figsize = (20,5))\n",
    "sns.set_style('whitegrid')\n",
    "sns.barplot(x = 'age', y = 'tenure',\n",
    "            errcolor=\".5\",#чтобы бары дов интервалов (палочек) были светлее\n",
    "            estimator = np.mean, #это дефолтное значение\n",
    "            data = data, \n",
    "            palette = 'Pastel1') \n",
    "plt.yticks(np.arange(0, 11, step=1));"
   ]
  },
  {
   "cell_type": "markdown",
   "metadata": {},
   "source": [
    "Видим, что до возраста 73 лет tenure у людей не различается, оно находится на среднем уровне - 5 "
   ]
  },
  {
   "cell_type": "markdown",
   "metadata": {},
   "source": [
    "Нам не удалось восстановить пропущенные значения Tenure по другим переменным. \n",
    "Заменим пропуски по Tenure на медианное значение."
   ]
  },
  {
   "cell_type": "code",
   "execution_count": 11,
   "metadata": {},
   "outputs": [],
   "source": [
    "data['tenure'] = data['tenure'].fillna(data['tenure'].median())"
   ]
  },
  {
   "cell_type": "markdown",
   "metadata": {},
   "source": [
    "### Исследуем данные на дубликаты"
   ]
  },
  {
   "cell_type": "code",
   "execution_count": 12,
   "metadata": {},
   "outputs": [
    {
     "data": {
      "text/plain": [
       "0"
      ]
     },
     "execution_count": 12,
     "metadata": {},
     "output_type": "execute_result"
    }
   ],
   "source": [
    "#полных дубликатов в датасете нет\n",
    "data.duplicated().sum()"
   ]
  },
  {
   "cell_type": "code",
   "execution_count": 13,
   "metadata": {},
   "outputs": [
    {
     "data": {
      "text/plain": [
       "0"
      ]
     },
     "execution_count": 13,
     "metadata": {},
     "output_type": "execute_result"
    }
   ],
   "source": [
    "#id клиентов в базе не повторяются\n",
    "data['customer_id'].duplicated().sum()"
   ]
  },
  {
   "cell_type": "markdown",
   "metadata": {},
   "source": [
    "### Преобразование переменных для моделирования"
   ]
  },
  {
   "cell_type": "markdown",
   "metadata": {},
   "source": [
    "- RowNumber (индекс строки в данных) - *удалим, так как переменная не несет смысла для моделирования*\n",
    "- CustomerId (уникальный идентификатор клиента) - *удалим, так как переменная не несет смысла для моделирования*\n",
    "- Surname (фамилия) - *удалим, так как переменная не несет смысла для моделирования*\n",
    "- CreditScore (кредитный рейтинг) - *оставим, но маштабируем*\n",
    "- Geography (страна проживания) - *оставим, но разобьем на dummy (OHE)*\n",
    "- Gender (пол) - *оставим, но разобьем на dummy (OHE)*\n",
    "- Age (возраст) - *оставим, но маштабируем*\n",
    "- Tenure (сколько лет человек является клиентом банка) - *оставим, но маштабируем*\n",
    "- Balance (баланс на счёте) - *оставим, но маштабируем*\n",
    "- NumOfProducts (количество продуктов банка, используемых клиентом, измеряется от 1 до 4) - *оставим, но разобьем на dummy (OHE)*\n",
    "- HasCrCard (наличие кредитной карты) - *оставим, уже бинарная*\n",
    "- IsActiveMember (активность клиента) - *оставим, уже бинарная*\n",
    "- EstimatedSalary (предполагаемая зарплата) - *оставим, но маштабируем*"
   ]
  },
  {
   "cell_type": "code",
   "execution_count": 14,
   "metadata": {},
   "outputs": [],
   "source": [
    "data = data.drop(['row_number','customer_id','surname'], axis = 1)"
   ]
  },
  {
   "cell_type": "code",
   "execution_count": 15,
   "metadata": {},
   "outputs": [
    {
     "data": {
      "text/html": [
       "<div>\n",
       "<style scoped>\n",
       "    .dataframe tbody tr th:only-of-type {\n",
       "        vertical-align: middle;\n",
       "    }\n",
       "\n",
       "    .dataframe tbody tr th {\n",
       "        vertical-align: top;\n",
       "    }\n",
       "\n",
       "    .dataframe thead th {\n",
       "        text-align: right;\n",
       "    }\n",
       "</style>\n",
       "<table border=\"1\" class=\"dataframe\">\n",
       "  <thead>\n",
       "    <tr style=\"text-align: right;\">\n",
       "      <th></th>\n",
       "      <th>credit_score</th>\n",
       "      <th>age</th>\n",
       "      <th>tenure</th>\n",
       "      <th>balance</th>\n",
       "      <th>has_cr_card</th>\n",
       "      <th>is_active_member</th>\n",
       "      <th>estimated_salary</th>\n",
       "      <th>exited</th>\n",
       "      <th>geography_Germany</th>\n",
       "      <th>geography_Spain</th>\n",
       "      <th>gender_Male</th>\n",
       "      <th>num_of_products_2</th>\n",
       "      <th>num_of_products_3</th>\n",
       "      <th>num_of_products_4</th>\n",
       "    </tr>\n",
       "  </thead>\n",
       "  <tbody>\n",
       "    <tr>\n",
       "      <th>0</th>\n",
       "      <td>619</td>\n",
       "      <td>42</td>\n",
       "      <td>2.0</td>\n",
       "      <td>0.00</td>\n",
       "      <td>1</td>\n",
       "      <td>1</td>\n",
       "      <td>101348.88</td>\n",
       "      <td>1</td>\n",
       "      <td>0</td>\n",
       "      <td>0</td>\n",
       "      <td>0</td>\n",
       "      <td>0</td>\n",
       "      <td>0</td>\n",
       "      <td>0</td>\n",
       "    </tr>\n",
       "    <tr>\n",
       "      <th>1</th>\n",
       "      <td>608</td>\n",
       "      <td>41</td>\n",
       "      <td>1.0</td>\n",
       "      <td>83807.86</td>\n",
       "      <td>0</td>\n",
       "      <td>1</td>\n",
       "      <td>112542.58</td>\n",
       "      <td>0</td>\n",
       "      <td>0</td>\n",
       "      <td>1</td>\n",
       "      <td>0</td>\n",
       "      <td>0</td>\n",
       "      <td>0</td>\n",
       "      <td>0</td>\n",
       "    </tr>\n",
       "    <tr>\n",
       "      <th>2</th>\n",
       "      <td>502</td>\n",
       "      <td>42</td>\n",
       "      <td>8.0</td>\n",
       "      <td>159660.80</td>\n",
       "      <td>1</td>\n",
       "      <td>0</td>\n",
       "      <td>113931.57</td>\n",
       "      <td>1</td>\n",
       "      <td>0</td>\n",
       "      <td>0</td>\n",
       "      <td>0</td>\n",
       "      <td>0</td>\n",
       "      <td>1</td>\n",
       "      <td>0</td>\n",
       "    </tr>\n",
       "    <tr>\n",
       "      <th>3</th>\n",
       "      <td>699</td>\n",
       "      <td>39</td>\n",
       "      <td>1.0</td>\n",
       "      <td>0.00</td>\n",
       "      <td>0</td>\n",
       "      <td>0</td>\n",
       "      <td>93826.63</td>\n",
       "      <td>0</td>\n",
       "      <td>0</td>\n",
       "      <td>0</td>\n",
       "      <td>0</td>\n",
       "      <td>1</td>\n",
       "      <td>0</td>\n",
       "      <td>0</td>\n",
       "    </tr>\n",
       "    <tr>\n",
       "      <th>4</th>\n",
       "      <td>850</td>\n",
       "      <td>43</td>\n",
       "      <td>2.0</td>\n",
       "      <td>125510.82</td>\n",
       "      <td>1</td>\n",
       "      <td>1</td>\n",
       "      <td>79084.10</td>\n",
       "      <td>0</td>\n",
       "      <td>0</td>\n",
       "      <td>1</td>\n",
       "      <td>0</td>\n",
       "      <td>0</td>\n",
       "      <td>0</td>\n",
       "      <td>0</td>\n",
       "    </tr>\n",
       "  </tbody>\n",
       "</table>\n",
       "</div>"
      ],
      "text/plain": [
       "   credit_score  age  tenure    balance  has_cr_card  is_active_member  \\\n",
       "0           619   42     2.0       0.00            1                 1   \n",
       "1           608   41     1.0   83807.86            0                 1   \n",
       "2           502   42     8.0  159660.80            1                 0   \n",
       "3           699   39     1.0       0.00            0                 0   \n",
       "4           850   43     2.0  125510.82            1                 1   \n",
       "\n",
       "   estimated_salary  exited  geography_Germany  geography_Spain  gender_Male  \\\n",
       "0         101348.88       1                  0                0            0   \n",
       "1         112542.58       0                  0                1            0   \n",
       "2         113931.57       1                  0                0            0   \n",
       "3          93826.63       0                  0                0            0   \n",
       "4          79084.10       0                  0                1            0   \n",
       "\n",
       "   num_of_products_2  num_of_products_3  num_of_products_4  \n",
       "0                  0                  0                  0  \n",
       "1                  0                  0                  0  \n",
       "2                  0                  1                  0  \n",
       "3                  1                  0                  0  \n",
       "4                  0                  0                  0  "
      ]
     },
     "execution_count": 15,
     "metadata": {},
     "output_type": "execute_result"
    }
   ],
   "source": [
    "df = pd.get_dummies(data, columns=['geography', 'gender', 'num_of_products'], drop_first= True )\n",
    "df.head()"
   ]
  },
  {
   "cell_type": "markdown",
   "metadata": {},
   "source": [
    "Мы создали дамми переменные и удалили лишние переменные из датасета. Масштабирование признаков будет произведено после разбивки на обучающую, валидационную и тестовую выборки."
   ]
  },
  {
   "cell_type": "markdown",
   "metadata": {},
   "source": [
    "## Исследование задачи"
   ]
  },
  {
   "cell_type": "markdown",
   "metadata": {},
   "source": [
    "Исследуйте баланс классов, обучите модель без учёта дисбаланса. Кратко опишите выводы."
   ]
  },
  {
   "cell_type": "markdown",
   "metadata": {},
   "source": [
    "### Баланс классов"
   ]
  },
  {
   "cell_type": "code",
   "execution_count": 16,
   "metadata": {},
   "outputs": [
    {
     "data": {
      "image/png": "[encoded data removed]",
      "text/plain": [
       "<Figure size 432x288 with 1 Axes>"
      ]
     },
     "metadata": {},
     "output_type": "display_data"
    }
   ],
   "source": [
    "#баланс классов по целевой переменной\n",
    "sns.countplot(df['exited']);"
   ]
  },
  {
   "cell_type": "markdown",
   "metadata": {},
   "source": [
    "Видим, что есть сильный дисбаланс по У. Сначал построим модель без учета этого дисбаланса."
   ]
  },
  {
   "cell_type": "markdown",
   "metadata": {},
   "source": [
    "### Формируем обучающую, валидационную и тестовую выборки"
   ]
  },
  {
   "cell_type": "code",
   "execution_count": 17,
   "metadata": {},
   "outputs": [],
   "source": [
    "#отберем признаки и целевую переменную \n",
    "features = df.drop('exited', axis = 1)\n",
    "target = df['exited']"
   ]
  },
  {
   "cell_type": "code",
   "execution_count": 18,
   "metadata": {},
   "outputs": [],
   "source": [
    "#разделим выьорку на обучающую и тестовую\n",
    "features_train, features_test, target_train, target_test = train_test_split(\n",
    "    features, target, test_size=0.4, random_state=12345, shuffle = False) "
   ]
  },
  
  {
   "cell_type": "code",
   "execution_count": 19,
   "metadata": {},
   "outputs": [],
   "source": [
    "#разделим тестовую на валидационную и тестовую выборки \n",
    "features_test, features_val, target_test, target_val = train_test_split(\n",
    "    features_test, target_test, test_size=0.5, random_state=12345, shuffle = False) "
   ]
  },
  {
   "cell_type": "code",
   "execution_count": 20,
   "metadata": {},
   "outputs": [
    {
     "data": {
      "text/plain": [
       "'All Data:'"
      ]
     },
     "metadata": {},
     "output_type": "display_data"
    },
    {
     "data": {
      "text/plain": [
       "0    0.7963\n",
       "1    0.2037\n",
       "Name: exited, dtype: float64"
      ]
     },
     "metadata": {},
     "output_type": "display_data"
    },
    {
     "data": {
      "text/plain": [
       "'Train:'"
      ]
     },
     "metadata": {},
     "output_type": "display_data"
    },
    {
     "data": {
      "text/plain": [
       "0    0.791833\n",
       "1    0.208167\n",
       "Name: exited, dtype: float64"
      ]
     },
     "metadata": {},
     "output_type": "display_data"
    },
    {
     "data": {
      "text/plain": [
       "'Valid:'"
      ]
     },
     "metadata": {},
     "output_type": "display_data"
    },
    {
     "data": {
      "text/plain": [
       "0    0.805\n",
       "1    0.195\n",
       "Name: exited, dtype: float64"
      ]
     },
     "metadata": {},
     "output_type": "display_data"
    },
    {
     "data": {
      "text/plain": [
       "'Test:'"
      ]
     },
     "metadata": {},
     "output_type": "display_data"
    },
    {
     "data": {
      "text/plain": [
       "0    0.801\n",
       "1    0.199\n",
       "Name: exited, dtype: float64"
      ]
     },
     "metadata": {},
     "output_type": "display_data"
    }
   ],
   "source": [
    "display(\"All Data:\", target.value_counts(normalize=True))\n",
    "display(\"Train:\", target_train.value_counts(normalize=True))\n",
    "display(\"Valid:\", target_val.value_counts(normalize=True))\n",
    "display(\"Test:\", target_test.value_counts(normalize=True))"
   ]
  },
  {
   "cell_type": "code",
   "execution_count": 21,
   "metadata": {},
   "outputs": [
    {
     "name": "stdout",
     "output_type": "stream",
     "text": [
      "размер обучающей выборки (6000, 13)\n",
      "размер валидационной выборки (2000, 13)\n",
      "размер тестовой выборки (2000, 13)\n"
     ]
    }
   ],
   "source": [
    "print('размер обучающей выборки', features_train.shape)\n",
    "print('размер валидационной выборки', features_val.shape)\n",
    "print('размер тестовой выборки', features_test.shape)"
   ]
  },
  {
   "cell_type": "code",
   "execution_count": 22,
   "metadata": {},
   "outputs": [],
   "source": [
    "#для удобства все numeric переменные соберем в список \n",
    "numeric = ['credit_score', 'age', 'tenure', 'balance','estimated_salary']"
   ]
  },
  {
   "cell_type": "code",
   "execution_count": 23,
   "metadata": {},
   "outputs": [
    {
     "data": {
      "text/plain": [
       "StandardScaler()"
      ]
     },
     "execution_count": 23,
     "metadata": {},
     "output_type": "execute_result"
    }
   ],
   "source": [
    "scaler = StandardScaler() #импортируем scaler для стандартизации данных\n",
    "scaler.fit(features_train[numeric]) #обучаем scaler на наших данных "
   ]
  },
  {
   "cell_type": "code",
   "execution_count": 24,
   "metadata": {},
   "outputs": [],
   "source": [
    "features_train[numeric] = scaler.transform(features_train[numeric]) #применяем scaler на обучающей выборке"
   ]
  },
  {
   "cell_type": "code",
   "execution_count": 25,
   "metadata": {},
   "outputs": [],
   "source": [
    "#Scaling численные признаки валидационной выборки \n",
    "features_val[numeric] = scaler.transform(features_val[numeric])"
   ]
  },
  {
   "cell_type": "code",
   "execution_count": 26,
   "metadata": {},
   "outputs": [],
   "source": [
    "#Scaling численные признаки тестовой выборки \n",
    "features_test[numeric] = scaler.transform(features_test[numeric])"
   ]
  },
  {
   "cell_type": "markdown",
   "metadata": {},
   "source": [
    "Перед нами стоит задача классификации. Зависимая переменная - номинальная с двумя значениями (0,1). Классическая линейная регресия не подходит для решения данной задачи, поскольку зависимая переменная не количественая. Следовательно, в качестве моделей классификации мы рассматриваем: \n",
    "- Логистическую регрессию\n",
    "- Дерево решений\n",
    "- Случайный лес\n",
    "\n",
    "Начнем с логистической регрессии как с самой простой модели."
   ]
  },
  {
   "cell_type": "markdown",
   "metadata": {},
   "source": [
    "### Логистическая регрессия"
   ]
  },
  {
   "cell_type": "code",
   "execution_count": 27,
   "metadata": {},
   "outputs": [
    {
     "name": "stdout",
     "output_type": "stream",
     "text": [
      "Лучшая модель: LogisticRegression(max_iter=1000, random_state=12345, solver='liblinear')\n",
      "F1-score: 0.46023688663282564\n"
     ]
    }
   ],
   "source": [
    "solvers = ['liblinear', 'newton-cg', 'lbfgs', 'sag', 'saga']\n",
    "best_model = None\n",
    "best_f1 = 0\n",
    "for solver in solvers:\n",
    "    model = LogisticRegression(solver = solver, max_iter=1000, random_state=12345)\n",
    "    model.fit(features_train, target_train)\n",
    "    pred = model.predict(features_val)\n",
    "    f1 = f1_score(target_val, pred)\n",
    "    if f1>best_f1:\n",
    "        best_f1 = f1\n",
    "        best_model = model\n",
    "    \n",
    "print('Лучшая модель:',best_model)\n",
    "print('F1-score:', best_f1)"
   ]
  },
  {
   "cell_type": "code",
   "execution_count": 28,
   "metadata": {},
   "outputs": [
    {
     "data": {
      "text/plain": [
       "0.815588469501513"
      ]
     },
     "execution_count": 28,
     "metadata": {},
     "output_type": "execute_result"
    }
   ],
   "source": [
    "probabilities = best_model.predict_proba(features_val) \n",
    "probabilities_one_valid = probabilities[:, 1]\n",
    "auc_roc = roc_auc_score(target_val, probabilities_one_valid)\n",
    "auc_roc"
   ]
  },
  {
   "cell_type": "markdown",
   "metadata": {},
   "source": [
    "### Дерево решений"
   ]
  },
  {
   "cell_type": "code",
   "execution_count": 29,
   "metadata": {},
   "outputs": [
    {
     "name": "stdout",
     "output_type": "stream",
     "text": [
      "0.5109717868338558\n",
      "{'max_depth': 5, 'min_samples_leaf': 1, 'min_samples_split': 4}\n"
     ]
    }
   ],
   "source": [
    "model_tree = DecisionTreeClassifier()\n",
    "parametrs = { 'max_depth': range (1,13, 2),\n",
    "              'min_samples_leaf': range (1,8),\n",
    "              'min_samples_split': range (2,10,2) }\n",
    "grid = GridSearchCV(model_tree, parametrs, cv=5)\n",
    "grid.fit(features_train, target_train)\n",
    "pred = grid.best_estimator_.predict(features_val)\n",
    "f1_clf = f1_score(target_val, pred)\n",
    "print(f1_clf)\n",
    "print(grid.best_params_)"
   ]
  },
  {
   "cell_type": "code",
   "execution_count": 30,
   "metadata": {},
   "outputs": [
    {
     "data": {
      "text/plain": [
       "0.8134846313107182"
      ]
     },
     "execution_count": 30,
     "metadata": {},
     "output_type": "execute_result"
    }
   ],
   "source": [
    "probabilities = grid.best_estimator_.predict_proba(features_val) \n",
    "probabilities_one_valid = probabilities[:, 1]\n",
    "auc_roc = roc_auc_score(target_val, probabilities_one_valid)\n",
    "auc_roc"
   ]
  },
  {
   "cell_type": "markdown",
   "metadata": {},
   "source": [
    "### Случйаный лес"
   ]
  },
  {
   "cell_type": "code",
   "execution_count": 31,
   "metadata": {},
   "outputs": [
    {
     "name": "stdout",
     "output_type": "stream",
     "text": [
      "0.5357142857142857\n",
      "{'max_depth': 11, 'min_samples_leaf': 1, 'min_samples_split': 2, 'n_estimators': 50}\n",
      "CPU times: user 6min 45s, sys: 2.6 s, total: 6min 48s\n",
      "Wall time: 6min 48s\n"
     ]
    }
   ],
   "source": [
    "%%time\n",
    "clf = RandomForestClassifier()\n",
    "parametrs = { 'n_estimators': range (10, 51, 10),\n",
    "              'max_depth': range (1,13, 2),\n",
    "              'min_samples_leaf': range (1,8),\n",
    "              'min_samples_split': range (2,10,2) }\n",
    "grid = GridSearchCV(clf, parametrs,  cv=5)\n",
    "grid.fit(features_train, target_train)\n",
    "pred = grid.best_estimator_.predict(features_val)\n",
    "f1_clf = f1_score(target_val, pred)\n",
    "print(f1_clf)\n",
    "print(grid.best_params_)"
   ]
  },
  {
   "cell_type": "code",
   "execution_count": 32,
   "metadata": {},
   "outputs": [
    {
     "data": {
      "text/plain": [
       "0.8544163083293518"
      ]
     },
     "execution_count": 32,
     "metadata": {},
     "output_type": "execute_result"
    }
   ],
   "source": [
    "probabilities = grid.best_estimator_.predict_proba(features_val) \n",
    "probabilities_one_valid = probabilities[:, 1]\n",
    "auc_roc = roc_auc_score(target_val, probabilities_one_valid)\n",
    "auc_roc"
   ]
  },
  {
   "cell_type": "markdown",
   "metadata": {},
   "source": [
    "Если не учитывать дисбаланс классов, то лучшую модель на валидационной выборке удалось получить при помощи модели случайного леса, F score = 0.519"
   ]
  },
  {
   "cell_type": "markdown",
   "metadata": {},
   "source": [
    "## Борьба с дисбалансом"
   ]
  },
  {
   "cell_type": "markdown",
   "metadata": {},
   "source": [
    "### Upsampling"
   ]
  },
  {
   "cell_type": "code",
   "execution_count": 33,
   "metadata": {},
   "outputs": [],
   "source": [
    "#функция для upsampling\n",
    "def upsample(features, target, repeat): \n",
    "    features_zeros = features[target == 0] \n",
    "    features_ones = features[target == 1] \n",
    "    target_zeros = target[target == 0] \n",
    "    target_ones = target[target == 1]\n",
    "    \n",
    "    features_upsampled = pd.concat([features_zeros] + [features_ones] * repeat) \n",
    "    target_upsampled = pd.concat([target_zeros] + [target_ones] * repeat)\n",
    "    \n",
    "    features_upsampled, target_upsampled = shuffle( features_upsampled, target_upsampled, random_state=12345)\n",
    "    return features_upsampled, target_upsampled"
   ]
  },
  {
   "cell_type": "code",
   "execution_count": 34,
   "metadata": {},
   "outputs": [],
   "source": [
    "features_upsampled, target_upsampled = upsample(features_train, target_train, 4)"
   ]
  },
  {
   "cell_type": "code",
   "execution_count": 35,
   "metadata": {},
   "outputs": [
    {
     "data": {
      "image/png": "[encoded data removed]",
      "text/plain": [
       "<Figure size 432x288 with 1 Axes>"
      ]
     },
     "metadata": {},
     "output_type": "display_data"
    }
   ],
   "source": [
    "#баланс классов установлен\n",
    "sns.countplot(target_upsampled);"
   ]
  },
  {
   "cell_type": "markdown",
   "metadata": {},
   "source": [
    "Теперь обучим модели на upsampled данных"
   ]
  },
  {
   "cell_type": "markdown",
   "metadata": {},
   "source": [
    "#### Logistic Regression"
   ]
  },
  {
   "cell_type": "code",
   "execution_count": 36,
   "metadata": {},
   "outputs": [
    {
     "name": "stdout",
     "output_type": "stream",
     "text": [
      "Лучшая модель: LogisticRegression(max_iter=1000, random_state=12345, solver='liblinear')\n",
      "F1-score: 0.46023688663282564\n"
     ]
    }
   ],
   "source": [
    "solvers = ['liblinear', 'newton-cg', 'lbfgs', 'sag', 'saga']\n",
    "best_model = None\n",
    "best_f1 = 0\n",
    "for solver in solvers:\n",
    "    model = LogisticRegression(solver = solver, max_iter=1000, random_state=12345)\n",
    "    model.fit(features_train, target_train)\n",
    "    pred = model.predict(features_val)\n",
    "    f1 = f1_score(target_val, pred)\n",
    "    if f1>best_f1:\n",
    "        best_f1 = f1\n",
    "        best_model = model\n",
    "    \n",
    "print('Лучшая модель:',best_model)\n",
    "print('F1-score:', best_f1)"
   ]
  },
  {
   "cell_type": "code",
   "execution_count": 37,
   "metadata": {},
   "outputs": [
    {
     "data": {
      "text/plain": [
       "0.815588469501513"
      ]
     },
     "execution_count": 37,
     "metadata": {},
     "output_type": "execute_result"
    }
   ],
   "source": [
    "probabilities = best_model.predict_proba(features_val) \n",
    "probabilities_one_valid = probabilities[:, 1]\n",
    "auc_roc = roc_auc_score(target_val, probabilities_one_valid)\n",
    "auc_roc"
   ]
  },
  {
   "cell_type": "markdown",
   "metadata": {},
   "source": [
    "#### Decision Tree"
   ]
  },
  {
   "cell_type": "code",
   "execution_count": 38,
   "metadata": {},
   "outputs": [
    {
     "data": {
      "text/plain": [
       "0.5131995776135164"
      ]
     },
     "execution_count": 38,
     "metadata": {},
     "output_type": "execute_result"
    }
   ],
   "source": [
    "model_tree = DecisionTreeClassifier()\n",
    "parametrs = { 'max_depth': range (1,13, 2),\n",
    "              'min_samples_leaf': range (1,8),\n",
    "              'min_samples_split': range (2,10,2) }\n",
    "grid = GridSearchCV(model_tree, parametrs, cv=5)\n",
    "grid.fit(features_upsampled, target_upsampled)\n",
    "pred = grid.best_estimator_.predict(features_val)\n",
    "f1_score(target_val, pred)"
   ]
  },
  {
   "cell_type": "code",
   "execution_count": 39,
   "metadata": {},
   "outputs": [
    {
     "data": {
      "text/plain": [
       "0.7236916706481924"
      ]
     },
     "execution_count": 39,
     "metadata": {},
     "output_type": "execute_result"
    }
   ],
   "source": [
    "probabilities = grid.best_estimator_.predict_proba(features_val) \n",
    "probabilities_one_valid = probabilities[:, 1]\n",
    "auc_roc = roc_auc_score(target_val, probabilities_one_valid)\n",
    "auc_roc"
   ]
  },
  {
   "cell_type": "markdown",
   "metadata": {},
   "source": [
    "#### Random Forest"
   ]
  },
  {
   "cell_type": "code",
   "execution_count": 40,
   "metadata": {},
   "outputs": [
    {
     "name": "stdout",
     "output_type": "stream",
     "text": [
      "0.5923344947735192\n",
      "{'max_depth': 11, 'min_samples_leaf': 1, 'min_samples_split': 2, 'n_estimators': 40}\n",
      "CPU times: user 9min 3s, sys: 2.88 s, total: 9min 6s\n",
      "Wall time: 9min 7s\n"
     ]
    }
   ],
   "source": [
    "%%time\n",
    "clf = RandomForestClassifier()\n",
    "parametrs = {'n_estimators': range (10, 51, 10),\n",
    "              'max_depth': range (1,13, 2),\n",
    "              'min_samples_leaf': range (1,8),\n",
    "              'min_samples_split': range (2,10,2)}\n",
    "grid = GridSearchCV(clf, parametrs,  cv=5)\n",
    "grid.fit(features_upsampled, target_upsampled)\n",
    "pred = grid.best_estimator_.predict(features_val)\n",
    "f1_clf = f1_score(target_val, pred)\n",
    "print(f1_clf)\n",
    "print(grid.best_params_)"
   ]
  },
  {
   "cell_type": "code",
   "execution_count": 41,
   "metadata": {},
   "outputs": [
    {
     "data": {
      "text/plain": [
       "0.846735148909062"
      ]
     },
     "execution_count": 41,
     "metadata": {},
     "output_type": "execute_result"
    }
   ],
   "source": [
    "probabilities = grid.best_estimator_.predict_proba(features_val) \n",
    "probabilities_one_valid = probabilities[:, 1]\n",
    "auc_roc = roc_auc_score(target_val, probabilities_one_valid)\n",
    "auc_roc"
   ]
  },
  {
   "cell_type": "markdown",
   "metadata": {},
   "source": [
    "### Downsampling"
   ]
  },
  {
   "cell_type": "code",
   "execution_count": 42,
   "metadata": {},
   "outputs": [],
   "source": [
    "#функция для downsampling\n",
    "def downsample(features, target, fraction): \n",
    "    features_zeros = features[target == 0] \n",
    "    features_ones = features[target == 1] \n",
    "    target_zeros = target[target == 0] \n",
    "    target_ones = target[target == 1]\n",
    "    features_downsampled = pd.concat([features_zeros.sample(frac=fraction, random_state=12345)] + [features_ones])\n",
    "    target_downsampled = pd.concat([target_zeros.sample(frac=fraction, random_state=12345)] + [target_ones])\n",
    "    features_downsampled, target_downsampled = shuffle( features_downsampled, target_downsampled, random_state=12345)\n",
    "    return features_downsampled, target_downsampled"
   ]
  },
  {
   "cell_type": "code",
   "execution_count": 43,
   "metadata": {},
   "outputs": [],
   "source": [
    "features_downsampled, target_downsampled = downsample(features_train, target_train, 0.25)"
   ]
  },
  {
   "cell_type": "code",
   "execution_count": 44,
   "metadata": {},
   "outputs": [
    {
     "data": {
      "image/png": "[encoded data removed]",
      "text/plain": [
       "<Figure size 432x288 with 1 Axes>"
      ]
     },
     "metadata": {},
     "output_type": "display_data"
    }
   ],
   "source": [
    "#баланс классов установлен\n",
    "sns.countplot(target_downsampled);"
   ]
  },
  {
   "cell_type": "markdown",
   "metadata": {},
   "source": [
    "Теперь обучим модели на щdwnsampled данных"
   ]
  },
  {
   "cell_type": "markdown",
   "metadata": {},
   "source": [
    "#### Logistic Regression"
   ]
  },
  {
   "cell_type": "code",
   "execution_count": 45,
   "metadata": {},
   "outputs": [
    {
     "name": "stdout",
     "output_type": "stream",
     "text": [
      "Лучшая модель: LogisticRegression(max_iter=1000, random_state=12345, solver='liblinear')\n",
      "F1-score: 0.46023688663282564\n"
     ]
    }
   ],
   "source": [
    "solvers = ['liblinear', 'newton-cg', 'lbfgs', 'sag', 'saga']\n",
    "best_model = None\n",
    "best_f1 = 0\n",
    "for solver in solvers:\n",
    "    model = LogisticRegression(solver = solver, max_iter=1000, random_state=12345)\n",
    "    model.fit(features_train, target_train)\n",
    "    pred = model.predict(features_val)\n",
    "    f1 = f1_score(target_val, pred)\n",
    "    if f1>best_f1:\n",
    "        best_f1 = f1\n",
    "        best_model = model\n",
    "    \n",
    "print('Лучшая модель:',best_model)\n",
    "print('F1-score:', best_f1)"
   ]
  },
  {
   "cell_type": "code",
   "execution_count": 46,
   "metadata": {},
   "outputs": [
    {
     "data": {
      "text/plain": [
       "0.815588469501513"
      ]
     },
     "execution_count": 46,
     "metadata": {},
     "output_type": "execute_result"
    }
   ],
   "source": [
    "probabilities = best_model.predict_proba(features_val) \n",
    "probabilities_one_valid = probabilities[:, 1]\n",
    "auc_roc = roc_auc_score(target_val, probabilities_one_valid)\n",
    "auc_roc"
   ]
  },
  {
   "cell_type": "markdown",
   "metadata": {},
   "source": [
    "#### Decision Tree"
   ]
  },
  {
   "cell_type": "code",
   "execution_count": 47,
   "metadata": {},
   "outputs": [
    {
     "data": {
      "text/plain": [
       "0.5219435736677116"
      ]
     },
     "execution_count": 47,
     "metadata": {},
     "output_type": "execute_result"
    }
   ],
   "source": [
    "#построим деоево на downsampled данных\n",
    "model_tree = DecisionTreeClassifier()\n",
    "parametrs = { 'max_depth': range (1,13, 2),\n",
    "              'min_samples_leaf': range (1,8),\n",
    "              'min_samples_split': range (2,10,2) }\n",
    "grid = GridSearchCV(model_tree, parametrs, cv=5)\n",
    "grid.fit(features_downsampled, target_downsampled)\n",
    "pred = grid.best_estimator_.predict(features_val)\n",
    "f1_score(target_val, pred)"
   ]
  },
  {
   "cell_type": "code",
   "execution_count": 48,
   "metadata": {},
   "outputs": [
    {
     "data": {
      "text/plain": [
       "0.8284623347666826"
      ]
     },
     "execution_count": 48,
     "metadata": {},
     "output_type": "execute_result"
    }
   ],
   "source": [
    "probabilities = grid.best_estimator_.predict_proba(features_val) \n",
    "probabilities_one_valid = probabilities[:, 1]\n",
    "auc_roc = roc_auc_score(target_val, probabilities_one_valid)\n",
    "auc_roc"
   ]
  },
  {
   "cell_type": "markdown",
   "metadata": {},
   "source": [
    "#### Random Forest"
   ]
  },
  {
   "cell_type": "code",
   "execution_count": 49,
   "metadata": {},
   "outputs": [
    {
     "data": {
      "text/plain": [
       "0.5764023210831721"
      ]
     },
     "execution_count": 49,
     "metadata": {},
     "output_type": "execute_result"
    }
   ],
   "source": [
    "#построим случайный лес на downsampled данных\n",
    "clf = RandomForestClassifier()\n",
    "parametrs = {'n_estimators': range (10, 51, 10),\n",
    "              'max_depth': range (1,13, 2),\n",
    "              'min_samples_leaf': range (1,8),\n",
    "              'min_samples_split': range (2,10,2)}\n",
    "grid = GridSearchCV(clf, parametrs,  cv=5)\n",
    "grid.fit(features_downsampled, target_downsampled)\n",
    "pred = grid.best_estimator_.predict(features_val)\n",
    "f1_score(target_val, pred)"
   ]
  },
  {
   "cell_type": "code",
   "execution_count": 50,
   "metadata": {},
   "outputs": [
    {
     "data": {
      "text/plain": [
       "0.8514269788182831"
      ]
     },
     "execution_count": 50,
     "metadata": {},
     "output_type": "execute_result"
    }
   ],
   "source": [
    "probabilities = grid.best_estimator_.predict_proba(features_val) \n",
    "probabilities_one_valid = probabilities[:, 1]\n",
    "auc_roc = roc_auc_score(target_val, probabilities_one_valid)\n",
    "auc_roc"
   ]
  },
  {
   "cell_type": "markdown",
   "metadata": {},
   "source": [
    "Лучшая модель из получившихся - модель случайного леса с применением upsampling для снижения дисбаланса в классах: F-score 0.6, ROC-AUC - 0.84 (гиперпараметры - 'max_depth': 11, 'min_samples_leaf': 1, 'min_samples_split': 2, 'n_estimators': 50)"
   ]
  },
  {
   "cell_type": "markdown",
   "metadata": {},
   "source": [
    "## Тестирование модели"
   ]
  },
  {
   "cell_type": "markdown",
   "metadata": {},
   "source": [
    "Проведите финальное тестирование."
   ]
  },
  {
   "cell_type": "code",
   "execution_count": 51,
   "metadata": {},
   "outputs": [
    {
     "data": {
      "text/plain": [
       "0.6194690265486725"
      ]
     },
     "execution_count": 51,
     "metadata": {},
     "output_type": "execute_result"
    }
   ],
   "source": [
    "model_forest = RandomForestClassifier(n_estimators = 40,\n",
    "                                   max_depth= 11,\n",
    "                                   min_samples_leaf = 1,\n",
    "                                   min_samples_split = 2,\n",
    "                                   random_state = 12345)\n",
    "model_forest.fit(features_upsampled, target_upsampled) \n",
    "pred = model_forest.predict(features_test)\n",
    "f1_clf = f1_score(target_test, pred)\n",
    "f1_clf"
   ]
  },
  {
   "cell_type": "code",
   "execution_count": 52,
   "metadata": {},
   "outputs": [],
   "source": [
    "probabilities = model_forest.predict_proba(features_test) "
   ]
  },
  {
   "cell_type": "code",
   "execution_count": 53,
   "metadata": {},
   "outputs": [],
   "source": [
    "probabilities_one_valid = probabilities[:, 1]"
   ]
  },
  {
   "cell_type": "code",
   "execution_count": 54,
   "metadata": {},
   "outputs": [
    {
     "data": {
      "text/plain": [
       "0.8600234317655694"
      ]
     },
     "execution_count": 54,
     "metadata": {},
     "output_type": "execute_result"
    }
   ],
   "source": [
    "auc_roc = roc_auc_score(target_test, probabilities_one_valid)\n",
    "auc_roc"
   ]
  },
  {
   "cell_type": "code",
   "execution_count": 55,
   "metadata": {},
   "outputs": [],
   "source": [
    "fpr, tpr, thresholds = roc_curve(target_test, probabilities_one_valid)"
   ]
  },
  {
   "cell_type": "code",
   "execution_count": 56,
   "metadata": {},
   "outputs": [
    {
     "name": "stderr",
     "output_type": "stream",
     "text": [
      "No handles with labels found to put in legend.\n"
     ]
    },
    {
     "data": {
      "image/png": "[encoded data removed]",
      "text/plain": [
       "<Figure size 432x288 with 1 Axes>"
      ]
     },
     "metadata": {},
     "output_type": "display_data"
    }
   ],
   "source": [
    "plt.title('Receiver Operating Characteristic')\n",
    "plt.plot(fpr, tpr, 'b')\n",
    "plt.legend(loc = 'lower right')\n",
    "plt.plot([0, 1], [0, 1],'r--')\n",
    "plt.xlim([0, 1])\n",
    "plt.ylim([0, 1])\n",
    "plt.ylabel('True Positive Rate')\n",
    "plt.xlabel('False Positive Rate')\n",
    "plt.show();"
   ]
  },
  {
   "cell_type": "markdown",
   "metadata": {},
   "source": [
    "Модель выглядит значительно лучше случайной, AUC-ROC = 0.85, f-score модели 0.624. "
   ]
  },
  {
   "cell_type": "markdown",
   "metadata": {},
   "source": [
    "Выводы:\n",
    "- Мы построили три модели: логистической регрессии, дерева решений и случайного леса:\n",
    "    - на данных с несбалансированными классами целевого показателя (отношение 1 к 0 - 1:4) \n",
    "    - на данных со сбалансированными классами целевого показателя методом upsampling.Удалось достичь F-score с Random Forest = 0.6\n",
    "    - на данных со сбалансированными классами целевого показателя методом downsampling.Удалось достичь F-score с Random Forest = 0.58\n",
    "    - Upsampling сработал лучше downsampling\n",
    "- Для всех моделей на валидационной выборке наилучшие показатели F1 score показала **модель случайного леса**. Наиболее высокого показателя F1 score на валидационной выборке удалось добиться при помощи upsampling, F1 score (0.6). Эта модель также показала хорошие результаты на **тестовой выборке** - F1 score **(0.62)** и AUC-ROC = 0.86. **Таким образом, мы достигли поставленной в исследовании задачи - получили модель с F-score более 0.59.**\n"
   ]
  }
 ],
 "metadata": {
  "ExecuteTimeLog": [
   {
    "duration": 1703,
    "start_time": "2023-02-18T20:54:02.611Z"
   },
   {
    "duration": 193,
    "start_time": "2023-02-18T20:54:04.317Z"
   },
   {
    "duration": 0,
    "start_time": "2023-02-18T20:54:04.513Z"
   },
   {
    "duration": 0,
    "start_time": "2023-02-18T20:54:04.515Z"
   },
   {
    "duration": 0,
    "start_time": "2023-02-18T20:54:04.516Z"
   },
   {
    "duration": 0,
    "start_time": "2023-02-18T20:54:04.518Z"
   },
   {
    "duration": 0,
    "start_time": "2023-02-18T20:54:04.519Z"
   },
   {
    "duration": 0,
    "start_time": "2023-02-18T20:54:04.521Z"
   },
   {
    "duration": 0,
    "start_time": "2023-02-18T20:54:04.522Z"
   },
   {
    "duration": 0,
    "start_time": "2023-02-18T20:54:04.523Z"
   },
   {
    "duration": 0,
    "start_time": "2023-02-18T20:54:04.524Z"
   },
   {
    "duration": 0,
    "start_time": "2023-02-18T20:54:04.525Z"
   },
   {
    "duration": 0,
    "start_time": "2023-02-18T20:54:04.527Z"
   },
   {
    "duration": 0,
    "start_time": "2023-02-18T20:54:04.528Z"
   },
   {
    "duration": 0,
    "start_time": "2023-02-18T20:54:04.530Z"
   },
   {
    "duration": 0,
    "start_time": "2023-02-18T20:54:04.531Z"
   },
   {
    "duration": 0,
    "start_time": "2023-02-18T20:54:04.557Z"
   },
   {
    "duration": 0,
    "start_time": "2023-02-18T20:54:04.558Z"
   },
   {
    "duration": 0,
    "start_time": "2023-02-18T20:54:04.561Z"
   },
   {
    "duration": 0,
    "start_time": "2023-02-18T20:54:04.562Z"
   },
   {
    "duration": 0,
    "start_time": "2023-02-18T20:54:04.563Z"
   },
   {
    "duration": 0,
    "start_time": "2023-02-18T20:54:04.565Z"
   },
   {
    "duration": 0,
    "start_time": "2023-02-18T20:54:04.566Z"
   },
   {
    "duration": 0,
    "start_time": "2023-02-18T20:54:04.567Z"
   },
   {
    "duration": 0,
    "start_time": "2023-02-18T20:54:04.569Z"
   },
   {
    "duration": 0,
    "start_time": "2023-02-18T20:54:04.570Z"
   },
   {
    "duration": 0,
    "start_time": "2023-02-18T20:54:04.572Z"
   },
   {
    "duration": 0,
    "start_time": "2023-02-18T20:54:04.573Z"
   },
   {
    "duration": 0,
    "start_time": "2023-02-18T20:54:04.574Z"
   },
   {
    "duration": 0,
    "start_time": "2023-02-18T20:54:04.575Z"
   },
   {
    "duration": 0,
    "start_time": "2023-02-18T20:54:04.576Z"
   },
   {
    "duration": 0,
    "start_time": "2023-02-18T20:54:04.577Z"
   },
   {
    "duration": 0,
    "start_time": "2023-02-18T20:54:04.579Z"
   },
   {
    "duration": 0,
    "start_time": "2023-02-18T20:54:04.581Z"
   },
   {
    "duration": 0,
    "start_time": "2023-02-18T20:54:04.582Z"
   },
   {
    "duration": 0,
    "start_time": "2023-02-18T20:54:04.584Z"
   },
   {
    "duration": 0,
    "start_time": "2023-02-18T20:54:04.586Z"
   },
   {
    "duration": 0,
    "start_time": "2023-02-18T20:54:04.588Z"
   },
   {
    "duration": 0,
    "start_time": "2023-02-18T20:54:04.590Z"
   },
   {
    "duration": 0,
    "start_time": "2023-02-18T20:54:04.591Z"
   },
   {
    "duration": 0,
    "start_time": "2023-02-18T20:54:04.593Z"
   },
   {
    "duration": 0,
    "start_time": "2023-02-18T20:54:04.600Z"
   },
   {
    "duration": 0,
    "start_time": "2023-02-18T20:54:04.654Z"
   },
   {
    "duration": 0,
    "start_time": "2023-02-18T20:54:04.655Z"
   },
   {
    "duration": 0,
    "start_time": "2023-02-18T20:54:04.655Z"
   },
   {
    "duration": 0,
    "start_time": "2023-02-18T20:54:04.666Z"
   },
   {
    "duration": 0,
    "start_time": "2023-02-18T20:54:04.667Z"
   },
   {
    "duration": 0,
    "start_time": "2023-02-18T20:54:04.670Z"
   },
   {
    "duration": 0,
    "start_time": "2023-02-18T20:54:04.674Z"
   },
   {
    "duration": 0,
    "start_time": "2023-02-18T20:54:04.675Z"
   },
   {
    "duration": 0,
    "start_time": "2023-02-18T20:54:04.676Z"
   },
   {
    "duration": 0,
    "start_time": "2023-02-18T20:54:04.677Z"
   },
   {
    "duration": 0,
    "start_time": "2023-02-18T20:54:04.679Z"
   },
   {
    "duration": 0,
    "start_time": "2023-02-18T20:54:04.679Z"
   },
   {
    "duration": 0,
    "start_time": "2023-02-18T20:54:04.680Z"
   },
   {
    "duration": 0,
    "start_time": "2023-02-18T20:54:04.681Z"
   },
   {
    "duration": 110,
    "start_time": "2023-02-18T20:54:34.592Z"
   },
   {
    "duration": 1521,
    "start_time": "2023-02-18T20:54:38.876Z"
   },
   {
    "duration": 40,
    "start_time": "2023-02-18T20:54:40.400Z"
   },
   {
    "duration": 41,
    "start_time": "2023-02-18T20:54:40.442Z"
   },
   {
    "duration": 4,
    "start_time": "2023-02-18T20:54:40.485Z"
   },
   {
    "duration": 1277,
    "start_time": "2023-02-18T20:54:40.492Z"
   },
   {
    "duration": 20,
    "start_time": "2023-02-18T20:54:41.774Z"
   },
   {
    "duration": 152,
    "start_time": "2023-02-18T20:54:41.796Z"
   },
   {
    "duration": 13,
    "start_time": "2023-02-18T20:54:41.959Z"
   },
   {
    "duration": 18,
    "start_time": "2023-02-18T20:54:41.974Z"
   },
   {
    "duration": 3735,
    "start_time": "2023-02-18T20:54:41.996Z"
   },
   {
    "duration": 5,
    "start_time": "2023-02-18T20:54:45.734Z"
   },
   {
    "duration": 22,
    "start_time": "2023-02-18T20:54:45.753Z"
   },
   {
    "duration": 8,
    "start_time": "2023-02-18T20:54:45.777Z"
   },
   {
    "duration": 7,
    "start_time": "2023-02-18T20:54:45.788Z"
   },
   {
    "duration": 31,
    "start_time": "2023-02-18T20:54:45.796Z"
   },
   {
    "duration": 147,
    "start_time": "2023-02-18T20:54:45.828Z"
   },
   {
    "duration": 7,
    "start_time": "2023-02-18T20:54:45.976Z"
   },
   {
    "duration": 6,
    "start_time": "2023-02-18T20:54:45.984Z"
   },
   {
    "duration": 12,
    "start_time": "2023-02-18T20:54:45.992Z"
   },
   {
    "duration": 5,
    "start_time": "2023-02-18T20:54:46.006Z"
   },
   {
    "duration": 6,
    "start_time": "2023-02-18T20:54:46.013Z"
   },
   {
    "duration": 60,
    "start_time": "2023-02-18T20:54:46.021Z"
   },
   {
    "duration": 16,
    "start_time": "2023-02-18T20:54:46.083Z"
   },
   {
    "duration": 10,
    "start_time": "2023-02-18T20:54:46.101Z"
   },
   {
    "duration": 12,
    "start_time": "2023-02-18T20:54:46.113Z"
   },
   {
    "duration": 3727,
    "start_time": "2023-02-18T20:54:46.127Z"
   },
   {
    "duration": 102,
    "start_time": "2023-02-18T20:54:49.856Z"
   },
   {
    "duration": 13937,
    "start_time": "2023-02-18T20:54:49.960Z"
   },
   {
    "duration": 11,
    "start_time": "2023-02-18T20:55:03.898Z"
   },
   {
    "duration": 486988,
    "start_time": "2023-02-18T20:55:03.911Z"
   },
   {
    "duration": 20,
    "start_time": "2023-02-18T21:03:10.903Z"
   },
   {
    "duration": 143,
    "start_time": "2023-02-18T21:03:10.925Z"
   },
   {
    "duration": 0,
    "start_time": "2023-02-18T21:03:11.070Z"
   },
   {
    "duration": 0,
    "start_time": "2023-02-18T21:03:11.071Z"
   },
   {
    "duration": 0,
    "start_time": "2023-02-18T21:03:11.072Z"
   },
   {
    "duration": 0,
    "start_time": "2023-02-18T21:03:11.073Z"
   },
   {
    "duration": 0,
    "start_time": "2023-02-18T21:03:11.075Z"
   },
   {
    "duration": 0,
    "start_time": "2023-02-18T21:03:11.077Z"
   },
   {
    "duration": 0,
    "start_time": "2023-02-18T21:03:11.078Z"
   },
   {
    "duration": 0,
    "start_time": "2023-02-18T21:03:11.079Z"
   },
   {
    "duration": 0,
    "start_time": "2023-02-18T21:03:11.080Z"
   },
   {
    "duration": 0,
    "start_time": "2023-02-18T21:03:11.082Z"
   },
   {
    "duration": 0,
    "start_time": "2023-02-18T21:03:11.083Z"
   },
   {
    "duration": 0,
    "start_time": "2023-02-18T21:03:11.084Z"
   },
   {
    "duration": 0,
    "start_time": "2023-02-18T21:03:11.085Z"
   },
   {
    "duration": 0,
    "start_time": "2023-02-18T21:03:11.086Z"
   },
   {
    "duration": 0,
    "start_time": "2023-02-18T21:03:11.087Z"
   },
   {
    "duration": 0,
    "start_time": "2023-02-18T21:03:11.088Z"
   },
   {
    "duration": 0,
    "start_time": "2023-02-18T21:03:11.089Z"
   },
   {
    "duration": 0,
    "start_time": "2023-02-18T21:03:11.090Z"
   },
   {
    "duration": 0,
    "start_time": "2023-02-18T21:03:11.091Z"
   },
   {
    "duration": 0,
    "start_time": "2023-02-18T21:03:11.092Z"
   },
   {
    "duration": 0,
    "start_time": "2023-02-18T21:03:11.093Z"
   },
   {
    "duration": 0,
    "start_time": "2023-02-18T21:03:11.094Z"
   },
   {
    "duration": 0,
    "start_time": "2023-02-18T21:03:11.095Z"
   },
   {
    "duration": 0,
    "start_time": "2023-02-18T21:03:11.096Z"
   },
   {
    "duration": 9,
    "start_time": "2023-02-18T21:04:47.639Z"
   },
   {
    "duration": 59,
    "start_time": "2023-02-18T21:04:47.651Z"
   },
   {
    "duration": 164,
    "start_time": "2023-02-18T21:04:47.712Z"
   },
   {
    "duration": 2811,
    "start_time": "2023-02-18T21:04:47.878Z"
   },
   {
    "duration": 17,
    "start_time": "2023-02-18T21:04:50.756Z"
   },
   {
    "duration": 18612,
    "start_time": "2023-02-18T21:04:50.778Z"
   },
   {
    "duration": 11,
    "start_time": "2023-02-18T21:05:09.392Z"
   },
   {
    "duration": 648021,
    "start_time": "2023-02-18T21:05:09.406Z"
   },
   {
    "duration": 54,
    "start_time": "2023-02-18T21:15:57.429Z"
   },
   {
    "duration": 6,
    "start_time": "2023-02-18T21:15:57.485Z"
   },
   {
    "duration": 25,
    "start_time": "2023-02-18T21:15:57.494Z"
   },
   {
    "duration": 150,
    "start_time": "2023-02-18T21:15:57.521Z"
   },
   {
    "duration": 4290,
    "start_time": "2023-02-18T21:15:57.673Z"
   },
   {
    "duration": 103,
    "start_time": "2023-02-18T21:16:01.969Z"
   },
   {
    "duration": 109,
    "start_time": "2023-02-18T21:16:02.079Z"
   },
   {
    "duration": 0,
    "start_time": "2023-02-18T21:16:02.263Z"
   },
   {
    "duration": 0,
    "start_time": "2023-02-18T21:16:02.264Z"
   },
   {
    "duration": 0,
    "start_time": "2023-02-18T21:16:02.267Z"
   },
   {
    "duration": 1,
    "start_time": "2023-02-18T21:16:02.267Z"
   },
   {
    "duration": 0,
    "start_time": "2023-02-18T21:16:02.272Z"
   },
   {
    "duration": 0,
    "start_time": "2023-02-18T21:16:02.274Z"
   },
   {
    "duration": 0,
    "start_time": "2023-02-18T21:16:02.275Z"
   },
   {
    "duration": 0,
    "start_time": "2023-02-18T21:16:02.276Z"
   },
   {
    "duration": 0,
    "start_time": "2023-02-18T21:16:02.278Z"
   },
   {
    "duration": 6,
    "start_time": "2023-02-18T21:18:05.750Z"
   },
   {
    "duration": 43,
    "start_time": "2023-02-18T21:18:23.617Z"
   },
   {
    "duration": 7935,
    "start_time": "2023-02-18T21:18:30.168Z"
   },
   {
    "duration": 7590,
    "start_time": "2023-02-18T21:18:42.799Z"
   },
   {
    "duration": 8,
    "start_time": "2023-02-18T21:18:50.392Z"
   },
   {
    "duration": 6,
    "start_time": "2023-02-18T21:18:50.402Z"
   },
   {
    "duration": 0,
    "start_time": "2023-02-18T21:18:50.409Z"
   },
   {
    "duration": 0,
    "start_time": "2023-02-18T21:18:50.411Z"
   },
   {
    "duration": 0,
    "start_time": "2023-02-18T21:18:50.413Z"
   },
   {
    "duration": 0,
    "start_time": "2023-02-18T21:18:50.414Z"
   },
   {
    "duration": 0,
    "start_time": "2023-02-18T21:18:50.416Z"
   },
   {
    "duration": 0,
    "start_time": "2023-02-18T21:18:50.417Z"
   },
   {
    "duration": 0,
    "start_time": "2023-02-18T21:18:50.418Z"
   },
   {
    "duration": 309933,
    "start_time": "2023-02-18T21:19:05.312Z"
   },
   {
    "duration": 35,
    "start_time": "2023-02-18T21:24:15.248Z"
   },
   {
    "duration": 388,
    "start_time": "2023-02-18T21:24:15.285Z"
   },
   {
    "duration": 24,
    "start_time": "2023-02-18T21:24:15.675Z"
   },
   {
    "duration": 3,
    "start_time": "2023-02-18T21:24:15.701Z"
   },
   {
    "duration": 9,
    "start_time": "2023-02-18T21:24:15.706Z"
   },
   {
    "duration": 42,
    "start_time": "2023-02-18T21:24:15.717Z"
   },
   {
    "duration": 197,
    "start_time": "2023-02-18T21:24:15.761Z"
   },
   {
    "duration": 70,
    "start_time": "2023-02-19T20:22:49.584Z"
   },
   {
    "duration": 1921,
    "start_time": "2023-02-19T20:22:59.980Z"
   },
   {
    "duration": 161,
    "start_time": "2023-02-19T20:23:01.904Z"
   },
   {
    "duration": 32,
    "start_time": "2023-02-19T20:23:02.067Z"
   },
   {
    "duration": 15,
    "start_time": "2023-02-19T20:23:02.101Z"
   },
   {
    "duration": 1133,
    "start_time": "2023-02-19T20:23:02.119Z"
   },
   {
    "duration": 14,
    "start_time": "2023-02-19T20:23:03.253Z"
   },
   {
    "duration": 173,
    "start_time": "2023-02-19T20:23:03.269Z"
   },
   {
    "duration": 8,
    "start_time": "2023-02-19T20:23:03.444Z"
   },
   {
    "duration": 16,
    "start_time": "2023-02-19T20:23:03.453Z"
   },
   {
    "duration": 3403,
    "start_time": "2023-02-19T20:23:03.471Z"
   },
   {
    "duration": 5,
    "start_time": "2023-02-19T20:23:06.876Z"
   },
   {
    "duration": 22,
    "start_time": "2023-02-19T20:23:06.882Z"
   },
   {
    "duration": 4,
    "start_time": "2023-02-19T20:23:06.906Z"
   },
   {
    "duration": 4,
    "start_time": "2023-02-19T20:23:06.913Z"
   },
   {
    "duration": 22,
    "start_time": "2023-02-19T20:23:06.918Z"
   },
   {
    "duration": 138,
    "start_time": "2023-02-19T20:23:06.942Z"
   },
   {
    "duration": 12,
    "start_time": "2023-02-19T20:23:07.082Z"
   },
   {
    "duration": 8,
    "start_time": "2023-02-19T20:23:07.096Z"
   },
   {
    "duration": 17,
    "start_time": "2023-02-19T20:23:07.106Z"
   },
   {
    "duration": 162,
    "start_time": "2023-02-19T20:23:23.917Z"
   },
   {
    "duration": 119,
    "start_time": "2023-02-19T20:23:37.818Z"
   },
   {
    "duration": 145,
    "start_time": "2023-02-19T20:23:47.261Z"
   },
   {
    "duration": 128,
    "start_time": "2023-02-19T20:23:54.625Z"
   },
   {
    "duration": 6,
    "start_time": "2023-02-19T20:24:05.750Z"
   },
   {
    "duration": 103,
    "start_time": "2023-02-19T20:25:03.859Z"
   },
   {
    "duration": 92,
    "start_time": "2023-02-19T20:25:13.922Z"
   },
   {
    "duration": 1636,
    "start_time": "2023-02-20T16:18:43.576Z"
   },
   {
    "duration": 37,
    "start_time": "2023-02-20T16:18:45.214Z"
   },
   {
    "duration": 31,
    "start_time": "2023-02-20T16:18:45.253Z"
   },
   {
    "duration": 13,
    "start_time": "2023-02-20T16:18:45.285Z"
   },
   {
    "duration": 1304,
    "start_time": "2023-02-20T16:18:45.301Z"
   },
   {
    "duration": 15,
    "start_time": "2023-02-20T16:18:46.607Z"
   },
   {
    "duration": 140,
    "start_time": "2023-02-20T16:18:46.624Z"
   },
   {
    "duration": 24,
    "start_time": "2023-02-20T16:18:46.766Z"
   },
   {
    "duration": 13,
    "start_time": "2023-02-20T16:18:46.796Z"
   },
   {
    "duration": 3540,
    "start_time": "2023-02-20T16:18:46.929Z"
   },
   {
    "duration": 5,
    "start_time": "2023-02-20T16:18:50.471Z"
   },
   {
    "duration": 39,
    "start_time": "2023-02-20T16:18:50.477Z"
   },
   {
    "duration": 6,
    "start_time": "2023-02-20T16:18:50.518Z"
   },
   {
    "duration": 26,
    "start_time": "2023-02-20T16:18:50.526Z"
   },
   {
    "duration": 26,
    "start_time": "2023-02-20T16:18:50.553Z"
   },
   {
    "duration": 128,
    "start_time": "2023-02-20T16:18:52.672Z"
   },
   {
    "duration": 7,
    "start_time": "2023-02-20T16:18:54.919Z"
   },
   {
    "duration": 6,
    "start_time": "2023-02-20T16:18:55.315Z"
   },
   {
    "duration": 6,
    "start_time": "2023-02-20T16:18:56.545Z"
   },
   {
    "duration": 129,
    "start_time": "2023-02-20T16:18:57.580Z"
   },
   {
    "duration": 124,
    "start_time": "2023-02-20T16:18:58.483Z"
   },
   {
    "duration": 113,
    "start_time": "2023-02-20T16:18:58.993Z"
   },
   {
    "duration": 5,
    "start_time": "2023-02-20T16:19:00.940Z"
   },
   {
    "duration": 8,
    "start_time": "2023-02-20T16:19:11.621Z"
   },
   {
    "duration": 8,
    "start_time": "2023-02-20T16:19:21.114Z"
   },
   {
    "duration": 14,
    "start_time": "2023-02-20T16:19:35.624Z"
   },
   {
    "duration": 21,
    "start_time": "2023-02-20T16:19:46.384Z"
   },
   {
    "duration": 125,
    "start_time": "2023-02-20T16:20:09.729Z"
   },
   {
    "duration": 1189,
    "start_time": "2023-02-20T16:20:19.219Z"
   },
   {
    "duration": 22,
    "start_time": "2023-02-20T16:20:33.782Z"
   },
   {
    "duration": 87,
    "start_time": "2023-02-20T18:56:34.981Z"
   },
   {
    "duration": 45,
    "start_time": "2023-02-20T19:09:37.329Z"
   },
   {
    "duration": 7,
    "start_time": "2023-02-20T19:09:37.929Z"
   },
   {
    "duration": 1609,
    "start_time": "2023-02-20T19:09:44.481Z"
   },
   {
    "duration": 177,
    "start_time": "2023-02-20T19:09:46.519Z"
   },
   {
    "duration": 30,
    "start_time": "2023-02-20T19:09:47.033Z"
   },
   {
    "duration": 5,
    "start_time": "2023-02-20T19:09:56.660Z"
   },
   {
    "duration": 1110,
    "start_time": "2023-02-20T19:09:57.742Z"
   },
   {
    "duration": 1409,
    "start_time": "2023-04-25T20:17:16.104Z"
   },
   {
    "duration": 86,
    "start_time": "2023-04-25T20:17:17.515Z"
   },
   {
    "duration": 30,
    "start_time": "2023-04-25T20:17:17.603Z"
   },
   {
    "duration": 4,
    "start_time": "2023-04-25T20:17:17.635Z"
   },
   {
    "duration": 1075,
    "start_time": "2023-04-25T20:17:17.640Z"
   },
   {
    "duration": 21,
    "start_time": "2023-04-25T20:17:18.716Z"
   },
   {
    "duration": 128,
    "start_time": "2023-04-25T20:17:18.739Z"
   },
   {
    "duration": 8,
    "start_time": "2023-04-25T20:17:18.869Z"
   },
   {
    "duration": 10,
    "start_time": "2023-04-25T20:17:18.878Z"
   },
   {
    "duration": 3287,
    "start_time": "2023-04-25T20:17:18.889Z"
   },
   {
    "duration": 5,
    "start_time": "2023-04-25T20:17:22.177Z"
   },
   {
    "duration": 28,
    "start_time": "2023-04-25T20:17:22.183Z"
   },
   {
    "duration": 24,
    "start_time": "2023-04-25T20:17:22.213Z"
   },
   {
    "duration": 7,
    "start_time": "2023-04-25T20:17:22.240Z"
   },
   {
    "duration": 29,
    "start_time": "2023-04-25T20:17:22.249Z"
   },
   {
    "duration": 106,
    "start_time": "2023-04-25T20:17:22.280Z"
   },
   {
    "duration": 6,
    "start_time": "2023-04-25T20:17:22.388Z"
   },
   {
    "duration": 16,
    "start_time": "2023-04-25T20:17:22.395Z"
   },
   {
    "duration": 12,
    "start_time": "2023-04-25T20:17:22.413Z"
   },
   {
    "duration": 46,
    "start_time": "2023-04-25T20:17:22.426Z"
   },
   {
    "duration": 8,
    "start_time": "2023-04-25T20:17:22.473Z"
   },
   {
    "duration": 37,
    "start_time": "2023-04-25T20:17:22.482Z"
   },
   {
    "duration": 19,
    "start_time": "2023-04-25T20:17:22.521Z"
   },
   {
    "duration": 24,
    "start_time": "2023-04-25T20:17:22.542Z"
   },
   {
    "duration": 27,
    "start_time": "2023-04-25T20:17:22.567Z"
   },
   {
    "duration": 16,
    "start_time": "2023-04-25T20:17:22.595Z"
   },
   {
    "duration": 1423,
    "start_time": "2023-04-25T20:17:22.612Z"
   },
   {
    "duration": 104,
    "start_time": "2023-04-25T20:17:24.038Z"
   },
   {
    "duration": 11525,
    "start_time": "2023-04-25T20:17:24.145Z"
   },
   {
    "duration": 7,
    "start_time": "2023-04-25T20:17:35.671Z"
   },
   {
    "duration": 408624,
    "start_time": "2023-04-25T20:17:35.679Z"
   },
   {
    "duration": 37,
    "start_time": "2023-04-25T20:24:24.305Z"
   },
   {
    "duration": 4,
    "start_time": "2023-04-25T20:24:24.343Z"
   },
   {
    "duration": 21,
    "start_time": "2023-04-25T20:24:24.348Z"
   },
   {
    "duration": 104,
    "start_time": "2023-04-25T20:24:24.370Z"
   },
   {
    "duration": 1793,
    "start_time": "2023-04-25T20:24:24.476Z"
   },
   {
    "duration": 105,
    "start_time": "2023-04-25T20:24:26.335Z"
   },
   {
    "duration": 14959,
    "start_time": "2023-04-25T20:24:26.442Z"
   },
   {
    "duration": 7,
    "start_time": "2023-04-25T20:24:41.403Z"
   },
   {
    "duration": 547524,
    "start_time": "2023-04-25T20:24:41.411Z"
   },
   {
    "duration": 26,
    "start_time": "2023-04-25T20:33:48.939Z"
   },
   {
    "duration": 4,
    "start_time": "2023-04-25T20:33:48.966Z"
   },
   {
    "duration": 11,
    "start_time": "2023-04-25T20:33:48.972Z"
   },
   {
    "duration": 120,
    "start_time": "2023-04-25T20:33:48.985Z"
   },
   {
    "duration": 1563,
    "start_time": "2023-04-25T20:33:49.107Z"
   },
   {
    "duration": 101,
    "start_time": "2023-04-25T20:33:50.735Z"
   },
   {
    "duration": 6986,
    "start_time": "2023-04-25T20:33:50.838Z"
   },
   {
    "duration": 13,
    "start_time": "2023-04-25T20:33:57.825Z"
   },
   {
    "duration": 263355,
    "start_time": "2023-04-25T20:33:57.840Z"
   },
   {
    "duration": 43,
    "start_time": "2023-04-25T20:38:21.196Z"
   },
   {
    "duration": 319,
    "start_time": "2023-04-25T20:38:21.241Z"
   },
   {
    "duration": 21,
    "start_time": "2023-04-25T20:38:21.562Z"
   },
   {
    "duration": 3,
    "start_time": "2023-04-25T20:38:21.585Z"
   },
   {
    "duration": 21,
    "start_time": "2023-04-25T20:38:21.590Z"
   },
   {
    "duration": 30,
    "start_time": "2023-04-25T20:38:21.613Z"
   },
   {
    "duration": 159,
    "start_time": "2023-04-25T20:38:21.645Z"
   }
  ],
  "kernelspec": {
   "display_name": "Python 3 (ipykernel)",
   "language": "python",
   "name": "python3"
  },
  "language_info": {
   "codemirror_mode": {
    "name": "ipython",
    "version": 3
   },
   "file_extension": ".py",
   "mimetype": "text/x-python",
   "name": "python",
   "nbconvert_exporter": "python",
   "pygments_lexer": "ipython3",
   "version": "3.9.5"
  },
  "toc": {
   "base_numbering": 1,
   "nav_menu": {
    "height": "207px",
    "width": "278px"
   },
   "number_sections": true,
   "sideBar": true,
   "skip_h1_title": true,
   "title_cell": "Содержание",
   "title_sidebar": "Contents",
   "toc_cell": true,
   "toc_position": {
    "height": "calc(100% - 180px)",
    "left": "10px",
    "top": "150px",
    "width": "605px"
   },
   "toc_section_display": true,
   "toc_window_display": false
  }
 },
 "nbformat": 4,
 "nbformat_minor": 2
}
