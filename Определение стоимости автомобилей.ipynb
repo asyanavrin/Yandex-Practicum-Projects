{
 "cells": [
  {
   "cell_type": "markdown",
   "metadata": {
    "id": "MDglnJfBsOrT"
   },
   "source": [
    "# Определение стоимости автомобилей"
   ]
  },
  {
   "cell_type": "markdown",
   "metadata": {
    "id": "fFE-jm3vsOrU"
   },
   "source": [
    "**О проекте:** Сервис по продаже автомобилей с пробегом «Не бит, не крашен» разрабатывает приложение для привлечения новых клиентов. В нём можно быстро узнать рыночную стоимость своего автомобиля.  \n",
    "\n",
    "**Задача:** Построить модель для определения стоимости.\n",
    "\n",
    "**О данных:** Исторические данные: технические характеристики, комплектации и цены автомобилей.\n",
    "\n",
    "**Заказчику важны:**\n",
    "- качество предсказания;\n",
    "- скорость предсказания;\n",
    "- время обучения."
   ]
  },
  {
   "cell_type": "code",
   "execution_count": 1,
   "metadata": {
    "id": "sTCf2shJsOrV"
   },
   "outputs": [],
   "source": [
    "import matplotlib.pyplot as plt\n",
    "import pandas as pd\n",
    "import numpy as np\n",
    "import seaborn as sns\n",
    "from scipy.stats import mode\n",
    "from sklearn.model_selection import train_test_split\n",
    "from sklearn.metrics import mean_squared_error\n",
    "from catboost import CatBoostRegressor\n",
    "from lightgbm import LGBMRegressor\n",
    "from sklearn.ensemble import RandomForestRegressor\n",
    "from sklearn.model_selection import GridSearchCV"
   ]
  },
  {
   "cell_type": "markdown",
   "metadata": {
    "id": "ky82tuqusOrW"
   },
   "source": [
    "## Подготовка данных"
   ]
  },
  {
   "cell_type": "markdown",
   "metadata": {
    "id": "AcWqxTErsOrW"
   },
   "source": [
    "Изучите данные. Заполните пропущенные значения и обработайте аномалии в столбцах. Если среди признаков имеются неинформативные, удалите их."
   ]
  },
  {
   "cell_type": "code",
   "execution_count": 69,
   "metadata": {
    "id": "xnpGQJG1sOrW"
   },
   "outputs": [],
   "source": [
    "data = pd.read_csv('/datasets/autos.csv')"
   ]
  },
  {
   "cell_type": "code",
   "execution_count": 70,
   "metadata": {
    "colab": {
     "base_uri": "https://localhost:8080/",
     "height": 444
    },
    "id": "FD14PMX1sOrW",
    "outputId": "292dc5c6-1f9b-4dc0-b115-ef79f8cb730d"
   },
   "outputs": [
    {
     "data": {
      "text/html": [
       "\n",
       "  <div id=\"df-f321ddfb-9d03-48c3-8686-74a4b0185e51\">\n",
       "    <div class=\"colab-df-container\">\n",
       "      <div>\n",
       "<style scoped>\n",
       "    .dataframe tbody tr th:only-of-type {\n",
       "        vertical-align: middle;\n",
       "    }\n",
       "\n",
       "    .dataframe tbody tr th {\n",
       "        vertical-align: top;\n",
       "    }\n",
       "\n",
       "    .dataframe thead th {\n",
       "        text-align: right;\n",
       "    }\n",
       "</style>\n",
       "<table border=\"1\" class=\"dataframe\">\n",
       "  <thead>\n",
       "    <tr style=\"text-align: right;\">\n",
       "      <th></th>\n",
       "      <th>DateCrawled</th>\n",
       "      <th>Price</th>\n",
       "      <th>VehicleType</th>\n",
       "      <th>RegistrationYear</th>\n",
       "      <th>Gearbox</th>\n",
       "      <th>Power</th>\n",
       "      <th>Model</th>\n",
       "      <th>Kilometer</th>\n",
       "      <th>RegistrationMonth</th>\n",
       "      <th>FuelType</th>\n",
       "      <th>Brand</th>\n",
       "      <th>Repaired</th>\n",
       "      <th>DateCreated</th>\n",
       "      <th>NumberOfPictures</th>\n",
       "      <th>PostalCode</th>\n",
       "      <th>LastSeen</th>\n",
       "    </tr>\n",
       "  </thead>\n",
       "  <tbody>\n",
       "    <tr>\n",
       "      <th>0</th>\n",
       "      <td>2016-03-24 11:52:17</td>\n",
       "      <td>480</td>\n",
       "      <td>NaN</td>\n",
       "      <td>1993</td>\n",
       "      <td>manual</td>\n",
       "      <td>0</td>\n",
       "      <td>golf</td>\n",
       "      <td>150000</td>\n",
       "      <td>0</td>\n",
       "      <td>petrol</td>\n",
       "      <td>volkswagen</td>\n",
       "      <td>NaN</td>\n",
       "      <td>2016-03-24 00:00:00</td>\n",
       "      <td>0</td>\n",
       "      <td>70435</td>\n",
       "      <td>2016-04-07 03:16:57</td>\n",
       "    </tr>\n",
       "    <tr>\n",
       "      <th>1</th>\n",
       "      <td>2016-03-24 10:58:45</td>\n",
       "      <td>18300</td>\n",
       "      <td>coupe</td>\n",
       "      <td>2011</td>\n",
       "      <td>manual</td>\n",
       "      <td>190</td>\n",
       "      <td>NaN</td>\n",
       "      <td>125000</td>\n",
       "      <td>5</td>\n",
       "      <td>gasoline</td>\n",
       "      <td>audi</td>\n",
       "      <td>yes</td>\n",
       "      <td>2016-03-24 00:00:00</td>\n",
       "      <td>0</td>\n",
       "      <td>66954</td>\n",
       "      <td>2016-04-07 01:46:50</td>\n",
       "    </tr>\n",
       "    <tr>\n",
       "      <th>2</th>\n",
       "      <td>2016-03-14 12:52:21</td>\n",
       "      <td>9800</td>\n",
       "      <td>suv</td>\n",
       "      <td>2004</td>\n",
       "      <td>auto</td>\n",
       "      <td>163</td>\n",
       "      <td>grand</td>\n",
       "      <td>125000</td>\n",
       "      <td>8</td>\n",
       "      <td>gasoline</td>\n",
       "      <td>jeep</td>\n",
       "      <td>NaN</td>\n",
       "      <td>2016-03-14 00:00:00</td>\n",
       "      <td>0</td>\n",
       "      <td>90480</td>\n",
       "      <td>2016-04-05 12:47:46</td>\n",
       "    </tr>\n",
       "    <tr>\n",
       "      <th>3</th>\n",
       "      <td>2016-03-17 16:54:04</td>\n",
       "      <td>1500</td>\n",
       "      <td>small</td>\n",
       "      <td>2001</td>\n",
       "      <td>manual</td>\n",
       "      <td>75</td>\n",
       "      <td>golf</td>\n",
       "      <td>150000</td>\n",
       "      <td>6</td>\n",
       "      <td>petrol</td>\n",
       "      <td>volkswagen</td>\n",
       "      <td>no</td>\n",
       "      <td>2016-03-17 00:00:00</td>\n",
       "      <td>0</td>\n",
       "      <td>91074</td>\n",
       "      <td>2016-03-17 17:40:17</td>\n",
       "    </tr>\n",
       "    <tr>\n",
       "      <th>4</th>\n",
       "      <td>2016-03-31 17:25:20</td>\n",
       "      <td>3600</td>\n",
       "      <td>small</td>\n",
       "      <td>2008</td>\n",
       "      <td>manual</td>\n",
       "      <td>69</td>\n",
       "      <td>fabia</td>\n",
       "      <td>90000</td>\n",
       "      <td>7</td>\n",
       "      <td>gasoline</td>\n",
       "      <td>skoda</td>\n",
       "      <td>no</td>\n",
       "      <td>2016-03-31 00:00:00</td>\n",
       "      <td>0</td>\n",
       "      <td>60437</td>\n",
       "      <td>2016-04-06 10:17:21</td>\n",
       "    </tr>\n",
       "  </tbody>\n",
       "</table>\n",
       "</div>\n",
       "      <button class=\"colab-df-convert\" onclick=\"convertToInteractive('df-f321ddfb-9d03-48c3-8686-74a4b0185e51')\"\n",
       "              title=\"Convert this dataframe to an interactive table.\"\n",
       "              style=\"display:none;\">\n",
       "        \n",
       "  <svg xmlns=\"http://www.w3.org/2000/svg\" height=\"24px\"viewBox=\"0 0 24 24\"\n",
       "       width=\"24px\">\n",
       "    <path d=\"M0 0h24v24H0V0z\" fill=\"none\"/>\n",
       "    <path d=\"M18.56 5.44l.94 2.06.94-2.06 2.06-.94-2.06-.94-.94-2.06-.94 2.06-2.06.94zm-11 1L8.5 8.5l.94-2.06 2.06-.94-2.06-.94L8.5 2.5l-.94 2.06-2.06.94zm10 10l.94 2.06.94-2.06 2.06-.94-2.06-.94-.94-2.06-.94 2.06-2.06.94z\"/><path d=\"M17.41 7.96l-1.37-1.37c-.4-.4-.92-.59-1.43-.59-.52 0-1.04.2-1.43.59L10.3 9.45l-7.72 7.72c-.78.78-.78 2.05 0 2.83L4 21.41c.39.39.9.59 1.41.59.51 0 1.02-.2 1.41-.59l7.78-7.78 2.81-2.81c.8-.78.8-2.07 0-2.86zM5.41 20L4 18.59l7.72-7.72 1.47 1.35L5.41 20z\"/>\n",
       "  </svg>\n",
       "      </button>\n",
       "      \n",
       "  <style>\n",
       "    .colab-df-container {\n",
       "      display:flex;\n",
       "      flex-wrap:wrap;\n",
       "      gap: 12px;\n",
       "    }\n",
       "\n",
       "    .colab-df-convert {\n",
       "      background-color: #E8F0FE;\n",
       "      border: none;\n",
       "      border-radius: 50%;\n",
       "      cursor: pointer;\n",
       "      display: none;\n",
       "      fill: #1967D2;\n",
       "      height: 32px;\n",
       "      padding: 0 0 0 0;\n",
       "      width: 32px;\n",
       "    }\n",
       "\n",
       "    .colab-df-convert:hover {\n",
       "      background-color: #E2EBFA;\n",
       "      box-shadow: 0px 1px 2px rgba(60, 64, 67, 0.3), 0px 1px 3px 1px rgba(60, 64, 67, 0.15);\n",
       "      fill: #174EA6;\n",
       "    }\n",
       "\n",
       "    [theme=dark] .colab-df-convert {\n",
       "      background-color: #3B4455;\n",
       "      fill: #D2E3FC;\n",
       "    }\n",
       "\n",
       "    [theme=dark] .colab-df-convert:hover {\n",
       "      background-color: #434B5C;\n",
       "      box-shadow: 0px 1px 3px 1px rgba(0, 0, 0, 0.15);\n",
       "      filter: drop-shadow(0px 1px 2px rgba(0, 0, 0, 0.3));\n",
       "      fill: #FFFFFF;\n",
       "    }\n",
       "  </style>\n",
       "\n",
       "      <script>\n",
       "        const buttonEl =\n",
       "          document.querySelector('#df-f321ddfb-9d03-48c3-8686-74a4b0185e51 button.colab-df-convert');\n",
       "        buttonEl.style.display =\n",
       "          google.colab.kernel.accessAllowed ? 'block' : 'none';\n",
       "\n",
       "        async function convertToInteractive(key) {\n",
       "          const element = document.querySelector('#df-f321ddfb-9d03-48c3-8686-74a4b0185e51');\n",
       "          const dataTable =\n",
       "            await google.colab.kernel.invokeFunction('convertToInteractive',\n",
       "                                                     [key], {});\n",
       "          if (!dataTable) return;\n",
       "\n",
       "          const docLinkHtml = 'Like what you see? Visit the ' +\n",
       "            '<a target=\"_blank\" href=https://colab.research.google.com/notebooks/data_table.ipynb>data table notebook</a>'\n",
       "            + ' to learn more about interactive tables.';\n",
       "          element.innerHTML = '';\n",
       "          dataTable['output_type'] = 'display_data';\n",
       "          await google.colab.output.renderOutput(dataTable, element);\n",
       "          const docLink = document.createElement('div');\n",
       "          docLink.innerHTML = docLinkHtml;\n",
       "          element.appendChild(docLink);\n",
       "        }\n",
       "      </script>\n",
       "    </div>\n",
       "  </div>\n",
       "  "
      ],
      "text/plain": [
       "           DateCrawled  Price VehicleType  RegistrationYear Gearbox  Power  \\\n",
       "0  2016-03-24 11:52:17    480         NaN              1993  manual      0   \n",
       "1  2016-03-24 10:58:45  18300       coupe              2011  manual    190   \n",
       "2  2016-03-14 12:52:21   9800         suv              2004    auto    163   \n",
       "3  2016-03-17 16:54:04   1500       small              2001  manual     75   \n",
       "4  2016-03-31 17:25:20   3600       small              2008  manual     69   \n",
       "\n",
       "   Model  Kilometer  RegistrationMonth  FuelType       Brand Repaired  \\\n",
       "0   golf     150000                  0    petrol  volkswagen      NaN   \n",
       "1    NaN     125000                  5  gasoline        audi      yes   \n",
       "2  grand     125000                  8  gasoline        jeep      NaN   \n",
       "3   golf     150000                  6    petrol  volkswagen       no   \n",
       "4  fabia      90000                  7  gasoline       skoda       no   \n",
       "\n",
       "           DateCreated  NumberOfPictures  PostalCode             LastSeen  \n",
       "0  2016-03-24 00:00:00                 0       70435  2016-04-07 03:16:57  \n",
       "1  2016-03-24 00:00:00                 0       66954  2016-04-07 01:46:50  \n",
       "2  2016-03-14 00:00:00                 0       90480  2016-04-05 12:47:46  \n",
       "3  2016-03-17 00:00:00                 0       91074  2016-03-17 17:40:17  \n",
       "4  2016-03-31 00:00:00                 0       60437  2016-04-06 10:17:21  "
      ]
     },
     "execution_count": 70,
     "metadata": {},
     "output_type": "execute_result"
    }
   ],
   "source": [
    "data.head()"
   ]
  },
  {
   "cell_type": "code",
   "execution_count": 71,
   "metadata": {
    "colab": {
     "base_uri": "https://localhost:8080/"
    },
    "id": "ACE4ZPmOsOrW",
    "outputId": "c40bd0b5-87a3-42fc-cc6f-4a3237c0e66c"
   },
   "outputs": [
    {
     "data": {
      "text/plain": [
       "Index(['date_crawled', 'price', 'vehicle_type', 'registration_year', 'gearbox',\n",
       "       'power', 'model', 'kilometer', 'registration_month', 'fuel_type',\n",
       "       'brand', 'repaired', 'date_created', 'number_of_pictures',\n",
       "       'postal_code', 'last_seen'],\n",
       "      dtype='object')"
      ]
     },
     "execution_count": 71,
     "metadata": {},
     "output_type": "execute_result"
    }
   ],
   "source": [
    "data.columns = data.columns.str.lower()\n",
    "data = data.rename(columns = {'datecrawled':'date_crawled',\n",
    "                      'vehicletype':'vehicle_type',\n",
    "                      'registrationyear':'registration_year',\n",
    "                      'fueltype':'fuel_type',\n",
    "                      'datecreated':'date_created',\n",
    "                      'numberofpictures':'number_of_pictures',\n",
    "                      'postalcode':'postal_code',\n",
    "                      'lastseen':'last_seen',\n",
    "                             'registrationmonth':'registration_month'})\n",
    "data.columns "
   ]
  },
  {
   "cell_type": "code",
   "execution_count": 72,
   "metadata": {
    "colab": {
     "base_uri": "https://localhost:8080/"
    },
    "id": "F7X93lLHsOrW",
    "outputId": "e5752873-ea5f-4d5d-8402-ac0608a15f31"
   },
   "outputs": [
    {
     "data": {
      "text/plain": [
       "(354369, 16)"
      ]
     },
     "execution_count": 72,
     "metadata": {},
     "output_type": "execute_result"
    }
   ],
   "source": [
    "data.shape"
   ]
  },
  {
   "cell_type": "code",
   "execution_count": 73,
   "metadata": {
    "colab": {
     "base_uri": "https://localhost:8080/"
    },
    "id": "sxJLcuhTsOrW",
    "outputId": "9cadf8e2-d73d-4b1b-f881-ff6253ae443a"
   },
   "outputs": [
    {
     "name": "stdout",
     "output_type": "stream",
     "text": [
      "<class 'pandas.core.frame.DataFrame'>\n",
      "RangeIndex: 354369 entries, 0 to 354368\n",
      "Data columns (total 16 columns):\n",
      " #   Column              Non-Null Count   Dtype \n",
      "---  ------              --------------   ----- \n",
      " 0   date_crawled        354369 non-null  object\n",
      " 1   price               354369 non-null  int64 \n",
      " 2   vehicle_type        316879 non-null  object\n",
      " 3   registration_year   354369 non-null  int64 \n",
      " 4   gearbox             334536 non-null  object\n",
      " 5   power               354369 non-null  int64 \n",
      " 6   model               334664 non-null  object\n",
      " 7   kilometer           354369 non-null  int64 \n",
      " 8   registration_month  354369 non-null  int64 \n",
      " 9   fuel_type           321474 non-null  object\n",
      " 10  brand               354369 non-null  object\n",
      " 11  repaired            283215 non-null  object\n",
      " 12  date_created        354369 non-null  object\n",
      " 13  number_of_pictures  354369 non-null  int64 \n",
      " 14  postal_code         354369 non-null  int64 \n",
      " 15  last_seen           354369 non-null  object\n",
      "dtypes: int64(7), object(9)\n",
      "memory usage: 43.3+ MB\n"
     ]
    }
   ],
   "source": [
    "data.info()"
   ]
  },
  {
   "cell_type": "code",
   "execution_count": 74,
   "metadata": {
    "id": "ea2lVpJLsOrW"
   },
   "outputs": [],
   "source": [
    "data.postal_code = data.postal_code.astype('str')"
   ]
  },
  {
   "cell_type": "code",
   "execution_count": 75,
   "metadata": {
    "colab": {
     "base_uri": "https://localhost:8080/"
    },
    "id": "lKFnArjis1DE",
    "outputId": "f3d42567-12f9-468c-87a7-ff500872875d"
   },
   "outputs": [
    {
     "data": {
      "text/plain": [
       "0         2016-03-24 11:52:17\n",
       "1         2016-03-24 10:58:45\n",
       "2         2016-03-14 12:52:21\n",
       "3         2016-03-17 16:54:04\n",
       "4         2016-03-31 17:25:20\n",
       "                 ...         \n",
       "354364    2016-03-21 09:50:58\n",
       "354365    2016-03-14 17:48:27\n",
       "354366    2016-03-05 19:56:21\n",
       "354367    2016-03-19 18:57:12\n",
       "354368    2016-03-20 19:41:08\n",
       "Name: date_crawled, Length: 354369, dtype: object"
      ]
     },
     "execution_count": 75,
     "metadata": {},
     "output_type": "execute_result"
    }
   ],
   "source": [
    "data['date_crawled']"
   ]
  },
  {
   "cell_type": "code",
   "execution_count": 76,
   "metadata": {
    "id": "0Lm1d4wwsOrW"
   },
   "outputs": [],
   "source": [
    "to_d_type = ['date_crawled', 'date_created', 'last_seen']\n",
    "for date in to_d_type:\n",
    "    data[date] = pd.to_datetime(data[date], format = '%Y-%m-%d  %H:%M:%S')"
   ]
  },
  {
   "cell_type": "code",
   "execution_count": 77,
   "metadata": {
    "id": "xH6mhEnusOrW"
   },
   "outputs": [],
   "source": [
    "#удалим 4 дубликата\n",
    "data = data.drop_duplicates()"
   ]
  },
  {
   "cell_type": "markdown",
   "metadata": {
    "id": "ntiwIwxtsOrW"
   },
   "source": [
    "### Обработка пропусков"
   ]
  },
  {
   "cell_type": "markdown",
   "metadata": {
    "id": "laDF5p7ZsOrW"
   },
   "source": [
    "#### vehicle_type пропуски"
   ]
  },
  {
   "cell_type": "code",
   "execution_count": 78,
   "metadata": {
    "colab": {
     "base_uri": "https://localhost:8080/"
    },
    "id": "aBGTFg9hsOrW",
    "outputId": "1443e381-7e41-4086-f529-97171f1e0667"
   },
   "outputs": [
    {
     "data": {
      "text/plain": [
       "date_crawled              0\n",
       "price                     0\n",
       "vehicle_type          37490\n",
       "registration_year         0\n",
       "gearbox               19833\n",
       "power                     0\n",
       "model                 19705\n",
       "kilometer                 0\n",
       "registration_month        0\n",
       "fuel_type             32895\n",
       "brand                     0\n",
       "repaired              71154\n",
       "date_created              0\n",
       "number_of_pictures        0\n",
       "postal_code               0\n",
       "last_seen                 0\n",
       "dtype: int64"
      ]
     },
     "execution_count": 78,
     "metadata": {},
     "output_type": "execute_result"
    }
   ],
   "source": [
    "data.isna().sum()"
   ]
  },
  {
   "cell_type": "markdown",
   "metadata": {
    "id": "TrDrziRFsOrW"
   },
   "source": [
    "Пропуски мы будем восстанавливать по моделям, а не по брендам автомобилей, поскольку бренд, как правило, выпускает модели различных типов автомобилей и выбор модального может искажать данные"
   ]
  },
  {
   "cell_type": "code",
   "execution_count": 79,
   "metadata": {
    "colab": {
     "base_uri": "https://localhost:8080/"
    },
    "id": "KmF802kfsOrW",
    "outputId": "2deb965b-7ca2-477f-86e2-1147e6254374"
   },
   "outputs": [
    {
     "data": {
      "text/plain": [
       "{'100': 'sedan',\n",
       " '145': 'small',\n",
       " '147': 'sedan',\n",
       " '156': 'wagon',\n",
       " '159': 'wagon',\n",
       " '1_reihe': 'small',\n",
       " '1er': 'sedan',\n",
       " '200': 'sedan',\n",
       " '2_reihe': 'small',\n",
       " '300c': 'wagon',\n",
       " '3_reihe': 'sedan',\n",
       " '3er': 'sedan',\n",
       " '4_reihe': 'wagon',\n",
       " '500': 'small',\n",
       " '5_reihe': 'bus',\n",
       " '5er': 'sedan',\n",
       " '601': 'sedan',\n",
       " '6_reihe': 'wagon',\n",
       " '6er': 'coupe',\n",
       " '7er': 'sedan',\n",
       " '80': 'sedan',\n",
       " '850': 'wagon',\n",
       " '90': 'sedan',\n",
       " '900': 'convertible',\n",
       " '9000': 'sedan',\n",
       " '911': 'coupe',\n",
       " 'a1': 'small',\n",
       " 'a2': 'small',\n",
       " 'a3': 'sedan',\n",
       " 'a4': 'wagon',\n",
       " 'a5': 'coupe',\n",
       " 'a6': 'wagon',\n",
       " 'a8': 'sedan',\n",
       " 'a_klasse': 'sedan',\n",
       " 'accord': 'sedan',\n",
       " 'agila': 'small',\n",
       " 'alhambra': 'bus',\n",
       " 'almera': 'sedan',\n",
       " 'altea': 'bus',\n",
       " 'amarok': 'suv',\n",
       " 'antara': 'suv',\n",
       " 'arosa': 'small',\n",
       " 'astra': 'sedan',\n",
       " 'auris': 'sedan',\n",
       " 'avensis': 'wagon',\n",
       " 'aveo': 'small',\n",
       " 'aygo': 'small',\n",
       " 'b_klasse': 'bus',\n",
       " 'b_max': 'bus',\n",
       " 'beetle': 'sedan',\n",
       " 'berlingo': 'bus',\n",
       " 'bora': 'sedan',\n",
       " 'boxster': 'convertible',\n",
       " 'bravo': 'sedan',\n",
       " 'c1': 'small',\n",
       " 'c2': 'small',\n",
       " 'c3': 'small',\n",
       " 'c4': 'sedan',\n",
       " 'c5': 'wagon',\n",
       " 'c_klasse': 'sedan',\n",
       " 'c_max': 'bus',\n",
       " 'c_reihe': 'convertible',\n",
       " 'caddy': 'wagon',\n",
       " 'calibra': 'coupe',\n",
       " 'captiva': 'suv',\n",
       " 'carisma': 'sedan',\n",
       " 'carnival': 'bus',\n",
       " 'cayenne': 'suv',\n",
       " 'cc': 'coupe',\n",
       " 'ceed': 'sedan',\n",
       " 'charade': 'small',\n",
       " 'cherokee': 'suv',\n",
       " 'citigo': 'small',\n",
       " 'civic': 'sedan',\n",
       " 'cl': 'coupe',\n",
       " 'clio': 'small',\n",
       " 'clk': 'coupe',\n",
       " 'clubman': 'wagon',\n",
       " 'colt': 'sedan',\n",
       " 'combo': 'bus',\n",
       " 'cooper': 'small',\n",
       " 'cordoba': 'wagon',\n",
       " 'corolla': 'sedan',\n",
       " 'corsa': 'small',\n",
       " 'cr_reihe': 'suv',\n",
       " 'croma': 'wagon',\n",
       " 'crossfire': 'coupe',\n",
       " 'cuore': 'small',\n",
       " 'cx_reihe': 'suv',\n",
       " 'defender': 'suv',\n",
       " 'delta': 'sedan',\n",
       " 'discovery': 'suv',\n",
       " 'doblo': 'bus',\n",
       " 'ducato': 'bus',\n",
       " 'duster': 'suv',\n",
       " 'e_klasse': 'sedan',\n",
       " 'elefantino': 'small',\n",
       " 'eos': 'convertible',\n",
       " 'escort': 'sedan',\n",
       " 'espace': 'bus',\n",
       " 'exeo': 'wagon',\n",
       " 'fabia': 'small',\n",
       " 'fiesta': 'small',\n",
       " 'focus': 'wagon',\n",
       " 'forester': 'wagon',\n",
       " 'forfour': 'small',\n",
       " 'fortwo': 'small',\n",
       " 'fox': 'small',\n",
       " 'freelander': 'suv',\n",
       " 'fusion': 'small',\n",
       " 'g_klasse': 'suv',\n",
       " 'galant': 'sedan',\n",
       " 'galaxy': 'bus',\n",
       " 'getz': 'small',\n",
       " 'gl': 'suv',\n",
       " 'glk': 'suv',\n",
       " 'golf': 'sedan',\n",
       " 'grand': 'suv',\n",
       " 'i3': 'sedan',\n",
       " 'i_reihe': 'small',\n",
       " 'ibiza': 'small',\n",
       " 'impreza': 'sedan',\n",
       " 'insignia': 'wagon',\n",
       " 'jazz': 'small',\n",
       " 'jetta': 'sedan',\n",
       " 'jimny': 'suv',\n",
       " 'juke': 'small',\n",
       " 'justy': 'small',\n",
       " 'ka': 'small',\n",
       " 'kadett': 'sedan',\n",
       " 'kaefer': 'sedan',\n",
       " 'kalina': 'sedan',\n",
       " 'kalos': 'small',\n",
       " 'kangoo': 'bus',\n",
       " 'kappa': 'sedan',\n",
       " 'kuga': 'suv',\n",
       " 'laguna': 'wagon',\n",
       " 'lancer': 'sedan',\n",
       " 'lanos': 'small',\n",
       " 'legacy': 'wagon',\n",
       " 'leon': 'sedan',\n",
       " 'lodgy': 'bus',\n",
       " 'logan': 'wagon',\n",
       " 'lupo': 'small',\n",
       " 'lybra': 'wagon',\n",
       " 'm_klasse': 'suv',\n",
       " 'm_reihe': array(['coupe', 'sedan'], dtype=object),\n",
       " 'materia': 'wagon',\n",
       " 'matiz': 'small',\n",
       " 'megane': 'sedan',\n",
       " 'meriva': 'bus',\n",
       " 'micra': 'small',\n",
       " 'mii': 'small',\n",
       " 'modus': 'bus',\n",
       " 'mondeo': 'wagon',\n",
       " 'move': 'small',\n",
       " 'musa': 'bus',\n",
       " 'mustang': 'coupe',\n",
       " 'mx_reihe': 'convertible',\n",
       " 'navara': 'suv',\n",
       " 'niva': 'suv',\n",
       " 'note': 'bus',\n",
       " 'nubira': 'wagon',\n",
       " 'octavia': 'wagon',\n",
       " 'omega': 'wagon',\n",
       " 'one': 'small',\n",
       " 'other': 'sedan',\n",
       " 'outlander': 'suv',\n",
       " 'pajero': 'suv',\n",
       " 'panda': 'small',\n",
       " 'passat': 'wagon',\n",
       " 'phaeton': 'sedan',\n",
       " 'picanto': 'small',\n",
       " 'polo': 'small',\n",
       " 'primera': 'sedan',\n",
       " 'ptcruiser': 'wagon',\n",
       " 'punto': 'small',\n",
       " 'q3': 'sedan',\n",
       " 'q5': 'suv',\n",
       " 'q7': 'suv',\n",
       " 'qashqai': 'sedan',\n",
       " 'r19': 'sedan',\n",
       " 'range_rover': 'suv',\n",
       " 'range_rover_evoque': 'suv',\n",
       " 'range_rover_sport': 'suv',\n",
       " 'rangerover': array(['other', 'small', 'suv'], dtype=object),\n",
       " 'rav': 'suv',\n",
       " 'rio': 'small',\n",
       " 'roadster': 'convertible',\n",
       " 'roomster': 'bus',\n",
       " 'rx_reihe': 'coupe',\n",
       " 's60': 'sedan',\n",
       " 's_klasse': 'sedan',\n",
       " 's_max': 'bus',\n",
       " 's_type': 'sedan',\n",
       " 'samara': 'sedan',\n",
       " 'sandero': 'small',\n",
       " 'santa': 'suv',\n",
       " 'scenic': 'bus',\n",
       " 'scirocco': 'coupe',\n",
       " 'seicento': 'small',\n",
       " 'serie_1': 'wagon',\n",
       " 'serie_2': array(['other', 'suv'], dtype=object),\n",
       " 'serie_3': 'suv',\n",
       " 'sharan': 'bus',\n",
       " 'signum': 'wagon',\n",
       " 'sirion': 'small',\n",
       " 'sl': 'convertible',\n",
       " 'slk': 'convertible',\n",
       " 'sorento': 'suv',\n",
       " 'spark': 'small',\n",
       " 'spider': 'convertible',\n",
       " 'sportage': 'suv',\n",
       " 'sprinter': 'bus',\n",
       " 'stilo': 'sedan',\n",
       " 'superb': 'sedan',\n",
       " 'swift': 'small',\n",
       " 'terios': 'sedan',\n",
       " 'tigra': 'convertible',\n",
       " 'tiguan': 'suv',\n",
       " 'toledo': 'sedan',\n",
       " 'touareg': 'suv',\n",
       " 'touran': 'bus',\n",
       " 'transit': 'bus',\n",
       " 'transporter': 'bus',\n",
       " 'tt': 'coupe',\n",
       " 'tucson': 'suv',\n",
       " 'twingo': 'small',\n",
       " 'up': 'small',\n",
       " 'v40': 'wagon',\n",
       " 'v50': 'wagon',\n",
       " 'v60': 'wagon',\n",
       " 'v70': 'wagon',\n",
       " 'v_klasse': 'bus',\n",
       " 'vectra': 'sedan',\n",
       " 'verso': 'bus',\n",
       " 'viano': 'bus',\n",
       " 'vito': 'bus',\n",
       " 'vivaro': 'bus',\n",
       " 'voyager': 'bus',\n",
       " 'wrangler': 'suv',\n",
       " 'x_reihe': 'suv',\n",
       " 'x_trail': 'suv',\n",
       " 'x_type': 'sedan',\n",
       " 'xc_reihe': 'suv',\n",
       " 'yaris': 'small',\n",
       " 'yeti': 'suv',\n",
       " 'ypsilon': 'small',\n",
       " 'z_reihe': 'convertible',\n",
       " 'zafira': 'bus'}"
      ]
     },
     "execution_count": 79,
     "metadata": {},
     "output_type": "execute_result"
    }
   ],
   "source": [
    "vehicle_type_keys = data.pivot_table(index=['model'] ,values = 'vehicle_type',  aggfunc=lambda x: x.mode()).reset_index()\n",
    "vehicle_type_d = dict(vehicle_type_keys.values)\n",
    "vehicle_type_d"
   ]
  },
  {
   "cell_type": "code",
   "execution_count": 80,
   "metadata": {
    "id": "Qp63g_69sOrX"
   },
   "outputs": [],
   "source": [
    "#replace values in col2 based on dictionary values in col1\n",
    "data.loc[data['vehicle_type'].isna(), 'vehicle_type'] = data.loc[data['vehicle_type'].isna(),\\\n",
    "                                                                 'vehicle_type'].fillna(data['model'].map(vehicle_type_d),\\\n",
    "                                                                                     inplace = True)"
   ]
  },
  {
   "cell_type": "code",
   "execution_count": 81,
   "metadata": {
    "colab": {
     "base_uri": "https://localhost:8080/"
    },
    "id": "8WqEPr9Bx7Gx",
    "outputId": "d265aa04-8d0d-4844-f7ec-487da0aefaec"
   },
   "outputs": [
    {
     "data": {
      "text/plain": [
       "Index(['date_crawled', 'price', 'vehicle_type', 'registration_year', 'gearbox',\n",
       "       'power', 'model', 'kilometer', 'registration_month', 'fuel_type',\n",
       "       'brand', 'repaired', 'date_created', 'number_of_pictures',\n",
       "       'postal_code', 'last_seen'],\n",
       "      dtype='object')"
      ]
     },
     "execution_count": 81,
     "metadata": {},
     "output_type": "execute_result"
    }
   ],
   "source": [
    "data.columns"
   ]
  },
  {
   "cell_type": "code",
   "execution_count": 82,
   "metadata": {
    "id": "R9oy36DIsOrX"
   },
   "outputs": [],
   "source": [
    "data = data.dropna(subset = ['vehicle_type'], axis = 0)"
   ]
  },
  {
   "cell_type": "markdown",
   "metadata": {
    "id": "SpEqHQTnsOrX"
   },
   "source": [
    "#### gearbox пропуски"
   ]
  },
  {
   "cell_type": "code",
   "execution_count": 83,
   "metadata": {
    "colab": {
     "base_uri": "https://localhost:8080/"
    },
    "id": "HZjEhCVqsOrX",
    "outputId": "7f43ab45-de5a-450e-e597-ab54c7526492"
   },
   "outputs": [
    {
     "data": {
      "text/plain": [
       "{'100': 'manual',\n",
       " '145': 'manual',\n",
       " '147': 'manual',\n",
       " '156': 'manual',\n",
       " '159': 'manual',\n",
       " '1_reihe': 'manual',\n",
       " '1er': 'manual',\n",
       " '200': 'manual',\n",
       " '2_reihe': 'manual',\n",
       " '300c': 'auto',\n",
       " '3_reihe': 'manual',\n",
       " '3er': 'manual',\n",
       " '4_reihe': 'manual',\n",
       " '500': 'manual',\n",
       " '5_reihe': 'manual',\n",
       " '5er': 'auto',\n",
       " '601': 'manual',\n",
       " '6_reihe': 'manual',\n",
       " '6er': 'auto',\n",
       " '7er': 'auto',\n",
       " '80': 'manual',\n",
       " '850': 'manual',\n",
       " '90': 'manual',\n",
       " '900': 'manual',\n",
       " '9000': 'manual',\n",
       " '911': 'manual',\n",
       " 'a1': 'manual',\n",
       " 'a2': 'manual',\n",
       " 'a3': 'manual',\n",
       " 'a4': 'manual',\n",
       " 'a5': 'manual',\n",
       " 'a6': 'auto',\n",
       " 'a8': 'auto',\n",
       " 'a_klasse': 'manual',\n",
       " 'accord': 'manual',\n",
       " 'agila': 'manual',\n",
       " 'alhambra': 'manual',\n",
       " 'almera': 'manual',\n",
       " 'altea': 'manual',\n",
       " 'amarok': 'manual',\n",
       " 'antara': 'manual',\n",
       " 'arosa': 'manual',\n",
       " 'astra': 'manual',\n",
       " 'auris': 'manual',\n",
       " 'avensis': 'manual',\n",
       " 'aveo': 'manual',\n",
       " 'aygo': 'manual',\n",
       " 'b_klasse': 'manual',\n",
       " 'b_max': 'manual',\n",
       " 'beetle': 'manual',\n",
       " 'berlingo': 'manual',\n",
       " 'bora': 'manual',\n",
       " 'boxster': 'manual',\n",
       " 'bravo': 'manual',\n",
       " 'c1': 'manual',\n",
       " 'c2': 'manual',\n",
       " 'c3': 'manual',\n",
       " 'c4': 'manual',\n",
       " 'c5': 'manual',\n",
       " 'c_klasse': 'manual',\n",
       " 'c_max': 'manual',\n",
       " 'c_reihe': 'manual',\n",
       " 'caddy': 'manual',\n",
       " 'calibra': 'manual',\n",
       " 'captiva': 'manual',\n",
       " 'carisma': 'manual',\n",
       " 'carnival': 'manual',\n",
       " 'cayenne': 'auto',\n",
       " 'cc': 'manual',\n",
       " 'ceed': 'manual',\n",
       " 'charade': 'manual',\n",
       " 'cherokee': 'auto',\n",
       " 'citigo': 'manual',\n",
       " 'civic': 'manual',\n",
       " 'cl': 'auto',\n",
       " 'clio': 'manual',\n",
       " 'clk': 'auto',\n",
       " 'clubman': 'manual',\n",
       " 'colt': 'manual',\n",
       " 'combo': 'manual',\n",
       " 'cooper': 'manual',\n",
       " 'cordoba': 'manual',\n",
       " 'corolla': 'manual',\n",
       " 'corsa': 'manual',\n",
       " 'cr_reihe': 'manual',\n",
       " 'croma': 'manual',\n",
       " 'crossfire': 'auto',\n",
       " 'cuore': 'manual',\n",
       " 'cx_reihe': 'manual',\n",
       " 'defender': 'manual',\n",
       " 'delta': 'manual',\n",
       " 'discovery': 'auto',\n",
       " 'doblo': 'manual',\n",
       " 'ducato': 'manual',\n",
       " 'duster': 'manual',\n",
       " 'e_klasse': 'auto',\n",
       " 'elefantino': 'manual',\n",
       " 'eos': 'manual',\n",
       " 'escort': 'manual',\n",
       " 'espace': 'manual',\n",
       " 'exeo': 'manual',\n",
       " 'fabia': 'manual',\n",
       " 'fiesta': 'manual',\n",
       " 'focus': 'manual',\n",
       " 'forester': 'manual',\n",
       " 'forfour': 'manual',\n",
       " 'fortwo': 'auto',\n",
       " 'fox': 'manual',\n",
       " 'freelander': 'manual',\n",
       " 'fusion': 'manual',\n",
       " 'g_klasse': 'manual',\n",
       " 'galant': 'manual',\n",
       " 'galaxy': 'manual',\n",
       " 'getz': 'manual',\n",
       " 'gl': 'auto',\n",
       " 'glk': 'auto',\n",
       " 'golf': 'manual',\n",
       " 'grand': 'auto',\n",
       " 'i3': 'manual',\n",
       " 'i_reihe': 'manual',\n",
       " 'ibiza': 'manual',\n",
       " 'impreza': 'manual',\n",
       " 'insignia': 'manual',\n",
       " 'jazz': 'manual',\n",
       " 'jetta': 'manual',\n",
       " 'jimny': 'manual',\n",
       " 'juke': 'manual',\n",
       " 'justy': 'manual',\n",
       " 'ka': 'manual',\n",
       " 'kadett': 'manual',\n",
       " 'kaefer': 'manual',\n",
       " 'kalina': 'manual',\n",
       " 'kalos': 'manual',\n",
       " 'kangoo': 'manual',\n",
       " 'kappa': 'manual',\n",
       " 'kuga': 'manual',\n",
       " 'laguna': 'manual',\n",
       " 'lancer': 'manual',\n",
       " 'lanos': 'manual',\n",
       " 'legacy': 'manual',\n",
       " 'leon': 'manual',\n",
       " 'lodgy': 'manual',\n",
       " 'logan': 'manual',\n",
       " 'lupo': 'manual',\n",
       " 'lybra': 'manual',\n",
       " 'm_klasse': 'auto',\n",
       " 'm_reihe': 'manual',\n",
       " 'materia': 'manual',\n",
       " 'matiz': 'manual',\n",
       " 'megane': 'manual',\n",
       " 'meriva': 'manual',\n",
       " 'micra': 'manual',\n",
       " 'mii': 'manual',\n",
       " 'modus': 'manual',\n",
       " 'mondeo': 'manual',\n",
       " 'move': 'manual',\n",
       " 'musa': 'manual',\n",
       " 'mustang': 'auto',\n",
       " 'mx_reihe': 'manual',\n",
       " 'navara': 'manual',\n",
       " 'niva': 'manual',\n",
       " 'note': 'manual',\n",
       " 'nubira': 'manual',\n",
       " 'octavia': 'manual',\n",
       " 'omega': 'manual',\n",
       " 'one': 'manual',\n",
       " 'other': 'manual',\n",
       " 'outlander': 'manual',\n",
       " 'pajero': 'manual',\n",
       " 'panda': 'manual',\n",
       " 'passat': 'manual',\n",
       " 'phaeton': 'auto',\n",
       " 'picanto': 'manual',\n",
       " 'polo': 'manual',\n",
       " 'primera': 'manual',\n",
       " 'ptcruiser': 'manual',\n",
       " 'punto': 'manual',\n",
       " 'q3': 'manual',\n",
       " 'q5': 'auto',\n",
       " 'q7': 'auto',\n",
       " 'qashqai': 'manual',\n",
       " 'r19': 'manual',\n",
       " 'range_rover': 'auto',\n",
       " 'range_rover_evoque': 'auto',\n",
       " 'range_rover_sport': 'auto',\n",
       " 'rangerover': 'manual',\n",
       " 'rav': 'manual',\n",
       " 'rio': 'manual',\n",
       " 'roadster': 'auto',\n",
       " 'roomster': 'manual',\n",
       " 'rx_reihe': 'manual',\n",
       " 's60': 'manual',\n",
       " 's_klasse': 'auto',\n",
       " 's_max': 'manual',\n",
       " 's_type': 'auto',\n",
       " 'samara': 'manual',\n",
       " 'sandero': 'manual',\n",
       " 'santa': 'manual',\n",
       " 'scenic': 'manual',\n",
       " 'scirocco': 'manual',\n",
       " 'seicento': 'manual',\n",
       " 'serie_1': 'manual',\n",
       " 'serie_2': 'manual',\n",
       " 'serie_3': 'manual',\n",
       " 'sharan': 'manual',\n",
       " 'signum': 'manual',\n",
       " 'sirion': 'manual',\n",
       " 'sl': 'auto',\n",
       " 'slk': 'auto',\n",
       " 'sorento': 'auto',\n",
       " 'spark': 'manual',\n",
       " 'spider': 'manual',\n",
       " 'sportage': 'manual',\n",
       " 'sprinter': 'manual',\n",
       " 'stilo': 'manual',\n",
       " 'superb': 'manual',\n",
       " 'swift': 'manual',\n",
       " 'terios': 'manual',\n",
       " 'tigra': 'manual',\n",
       " 'tiguan': 'manual',\n",
       " 'toledo': 'manual',\n",
       " 'touareg': 'auto',\n",
       " 'touran': 'manual',\n",
       " 'transit': 'manual',\n",
       " 'transporter': 'manual',\n",
       " 'tt': 'manual',\n",
       " 'tucson': 'manual',\n",
       " 'twingo': 'manual',\n",
       " 'up': 'manual',\n",
       " 'v40': 'manual',\n",
       " 'v50': 'manual',\n",
       " 'v60': 'manual',\n",
       " 'v70': 'manual',\n",
       " 'v_klasse': 'manual',\n",
       " 'vectra': 'manual',\n",
       " 'verso': 'manual',\n",
       " 'viano': 'auto',\n",
       " 'vito': 'manual',\n",
       " 'vivaro': 'manual',\n",
       " 'voyager': 'manual',\n",
       " 'wrangler': 'manual',\n",
       " 'x_reihe': 'auto',\n",
       " 'x_trail': 'manual',\n",
       " 'x_type': 'manual',\n",
       " 'xc_reihe': 'auto',\n",
       " 'yaris': 'manual',\n",
       " 'yeti': 'manual',\n",
       " 'ypsilon': 'manual',\n",
       " 'z_reihe': 'manual',\n",
       " 'zafira': 'manual'}"
      ]
     },
     "execution_count": 83,
     "metadata": {},
     "output_type": "execute_result"
    }
   ],
   "source": [
    "gearbox_keys = data.pivot_table(index=['model'] ,values = 'gearbox',  aggfunc=lambda x: x.mode()).reset_index()\n",
    "gearbox_keys_d = dict(gearbox_keys.values)\n",
    "gearbox_keys_d"
   ]
  },
  {
   "cell_type": "code",
   "execution_count": 84,
   "metadata": {
    "id": "7eRpmoZHsOrX"
   },
   "outputs": [],
   "source": [
    "data.loc[data['gearbox'].isna(), 'gearbox'] = data.loc[data['gearbox'].isna(),\\\n",
    "                                                                 'gearbox'].fillna(data['model'].map(gearbox_keys_d),\\\n",
    "                                                                                     inplace = True)"
   ]
  },
  {
   "cell_type": "code",
   "execution_count": 85,
   "metadata": {
    "id": "eolSxLc_sOrX"
   },
   "outputs": [],
   "source": [
    "data = data.dropna(subset=['gearbox'])"
   ]
  },
  {
   "cell_type": "markdown",
   "metadata": {
    "id": "yV4seEtGsOrX"
   },
   "source": [
    "#### model пропуски"
   ]
  },
  {
   "cell_type": "markdown",
   "metadata": {
    "id": "IaFC3G8ksOrX"
   },
   "source": [
    "Пропуски по моделям удаляем, поскольку это критично важный для нас признак. Восстановить его наиболее достоверно не представляется возможным по тем данным, которые мы имеем."
   ]
  },
  {
   "cell_type": "code",
   "execution_count": 86,
   "metadata": {
    "colab": {
     "base_uri": "https://localhost:8080/"
    },
    "id": "nV8tILexsOrX",
    "outputId": "c1b74d0d-d9f3-4b1d-a764-9ea9ca931620"
   },
   "outputs": [
    {
     "name": "stderr",
     "output_type": "stream",
     "text": [
      "<ipython-input-86-b373227bdce6>:1: SettingWithCopyWarning: \n",
      "A value is trying to be set on a copy of a slice from a DataFrame.\n",
      "Try using .loc[row_indexer,col_indexer] = value instead\n",
      "\n",
      "See the caveats in the documentation: https://pandas.pydata.org/pandas-docs/stable/user_guide/indexing.html#returning-a-view-versus-a-copy\n",
      "  data['model'] = data['model'].fillna('unknown')\n"
     ]
    }
   ],
   "source": [
    "data['model'] = data['model'].fillna('unknown')"
   ]
  },
  {
   "cell_type": "markdown",
   "metadata": {
    "id": "V5bB_XynsOrX"
   },
   "source": [
    "#### fuel_type пропуски"
   ]
  },
  {
   "cell_type": "code",
   "execution_count": 87,
   "metadata": {
    "colab": {
     "base_uri": "https://localhost:8080/"
    },
    "id": "uupidVxWsOrX",
    "outputId": "c2451005-c397-4266-a926-40df69f4a8b9"
   },
   "outputs": [
    {
     "data": {
      "text/plain": [
       "{'100': 'petrol',\n",
       " '145': 'petrol',\n",
       " '147': 'petrol',\n",
       " '156': 'petrol',\n",
       " '159': 'gasoline',\n",
       " '1_reihe': 'petrol',\n",
       " '1er': 'petrol',\n",
       " '200': 'petrol',\n",
       " '2_reihe': 'petrol',\n",
       " '300c': 'gasoline',\n",
       " '3_reihe': 'petrol',\n",
       " '3er': 'petrol',\n",
       " '4_reihe': 'gasoline',\n",
       " '500': 'petrol',\n",
       " '5_reihe': 'gasoline',\n",
       " '5er': 'gasoline',\n",
       " '601': 'petrol',\n",
       " '6_reihe': 'petrol',\n",
       " '6er': 'petrol',\n",
       " '7er': 'petrol',\n",
       " '80': 'petrol',\n",
       " '850': 'petrol',\n",
       " '90': 'petrol',\n",
       " '900': 'petrol',\n",
       " '9000': 'petrol',\n",
       " '911': 'petrol',\n",
       " 'a1': 'petrol',\n",
       " 'a2': 'petrol',\n",
       " 'a3': 'petrol',\n",
       " 'a4': 'gasoline',\n",
       " 'a5': 'gasoline',\n",
       " 'a6': 'gasoline',\n",
       " 'a8': 'petrol',\n",
       " 'a_klasse': 'petrol',\n",
       " 'accord': 'petrol',\n",
       " 'agila': 'petrol',\n",
       " 'alhambra': 'gasoline',\n",
       " 'almera': 'petrol',\n",
       " 'altea': 'gasoline',\n",
       " 'amarok': 'gasoline',\n",
       " 'antara': 'gasoline',\n",
       " 'arosa': 'petrol',\n",
       " 'astra': 'petrol',\n",
       " 'auris': 'petrol',\n",
       " 'avensis': 'petrol',\n",
       " 'aveo': 'petrol',\n",
       " 'aygo': 'petrol',\n",
       " 'b_klasse': 'petrol',\n",
       " 'b_max': 'petrol',\n",
       " 'beetle': 'petrol',\n",
       " 'berlingo': 'petrol',\n",
       " 'bora': 'petrol',\n",
       " 'boxster': 'petrol',\n",
       " 'bravo': 'petrol',\n",
       " 'c1': 'petrol',\n",
       " 'c2': 'petrol',\n",
       " 'c3': 'petrol',\n",
       " 'c4': 'gasoline',\n",
       " 'c5': 'gasoline',\n",
       " 'c_klasse': 'petrol',\n",
       " 'c_max': array(['gasoline', 'petrol'], dtype=object),\n",
       " 'c_reihe': 'petrol',\n",
       " 'caddy': 'gasoline',\n",
       " 'calibra': 'petrol',\n",
       " 'captiva': 'gasoline',\n",
       " 'carisma': 'petrol',\n",
       " 'carnival': 'gasoline',\n",
       " 'cayenne': 'petrol',\n",
       " 'cc': 'gasoline',\n",
       " 'ceed': 'petrol',\n",
       " 'charade': 'petrol',\n",
       " 'cherokee': 'petrol',\n",
       " 'citigo': 'petrol',\n",
       " 'civic': 'petrol',\n",
       " 'cl': 'petrol',\n",
       " 'clio': 'petrol',\n",
       " 'clk': 'petrol',\n",
       " 'clubman': 'petrol',\n",
       " 'colt': 'petrol',\n",
       " 'combo': 'gasoline',\n",
       " 'cooper': 'petrol',\n",
       " 'cordoba': 'petrol',\n",
       " 'corolla': 'petrol',\n",
       " 'corsa': 'petrol',\n",
       " 'cr_reihe': 'petrol',\n",
       " 'croma': 'gasoline',\n",
       " 'crossfire': 'petrol',\n",
       " 'cuore': 'petrol',\n",
       " 'cx_reihe': 'gasoline',\n",
       " 'defender': 'gasoline',\n",
       " 'delta': 'petrol',\n",
       " 'discovery': 'gasoline',\n",
       " 'doblo': 'gasoline',\n",
       " 'ducato': 'gasoline',\n",
       " 'duster': 'petrol',\n",
       " 'e_klasse': 'gasoline',\n",
       " 'elefantino': 'petrol',\n",
       " 'eos': 'petrol',\n",
       " 'escort': 'petrol',\n",
       " 'espace': 'petrol',\n",
       " 'exeo': 'gasoline',\n",
       " 'fabia': 'petrol',\n",
       " 'fiesta': 'petrol',\n",
       " 'focus': 'petrol',\n",
       " 'forester': 'petrol',\n",
       " 'forfour': 'petrol',\n",
       " 'fortwo': 'petrol',\n",
       " 'fox': 'petrol',\n",
       " 'freelander': 'gasoline',\n",
       " 'fusion': 'petrol',\n",
       " 'g_klasse': 'gasoline',\n",
       " 'galant': 'petrol',\n",
       " 'galaxy': 'gasoline',\n",
       " 'getz': 'petrol',\n",
       " 'gl': 'gasoline',\n",
       " 'glk': 'gasoline',\n",
       " 'golf': 'petrol',\n",
       " 'grand': 'gasoline',\n",
       " 'i3': 'petrol',\n",
       " 'i_reihe': 'petrol',\n",
       " 'ibiza': 'petrol',\n",
       " 'impreza': 'petrol',\n",
       " 'insignia': 'gasoline',\n",
       " 'jazz': 'petrol',\n",
       " 'jetta': 'petrol',\n",
       " 'jimny': 'petrol',\n",
       " 'juke': 'petrol',\n",
       " 'justy': 'petrol',\n",
       " 'ka': 'petrol',\n",
       " 'kadett': 'petrol',\n",
       " 'kaefer': 'petrol',\n",
       " 'kalina': 'petrol',\n",
       " 'kalos': 'petrol',\n",
       " 'kangoo': 'petrol',\n",
       " 'kappa': 'petrol',\n",
       " 'kuga': 'gasoline',\n",
       " 'laguna': 'petrol',\n",
       " 'lancer': 'petrol',\n",
       " 'lanos': 'petrol',\n",
       " 'legacy': 'petrol',\n",
       " 'leon': 'petrol',\n",
       " 'lodgy': 'gasoline',\n",
       " 'logan': 'petrol',\n",
       " 'lupo': 'petrol',\n",
       " 'lybra': 'petrol',\n",
       " 'm_klasse': 'gasoline',\n",
       " 'm_reihe': 'petrol',\n",
       " 'materia': 'petrol',\n",
       " 'matiz': 'petrol',\n",
       " 'megane': 'petrol',\n",
       " 'meriva': 'petrol',\n",
       " 'micra': 'petrol',\n",
       " 'mii': 'petrol',\n",
       " 'modus': 'petrol',\n",
       " 'mondeo': 'petrol',\n",
       " 'move': 'petrol',\n",
       " 'musa': 'petrol',\n",
       " 'mustang': 'petrol',\n",
       " 'mx_reihe': 'petrol',\n",
       " 'navara': 'gasoline',\n",
       " 'niva': 'petrol',\n",
       " 'note': 'petrol',\n",
       " 'nubira': 'petrol',\n",
       " 'octavia': 'gasoline',\n",
       " 'omega': 'petrol',\n",
       " 'one': 'petrol',\n",
       " 'other': 'petrol',\n",
       " 'outlander': 'gasoline',\n",
       " 'pajero': 'gasoline',\n",
       " 'panda': 'petrol',\n",
       " 'passat': 'gasoline',\n",
       " 'phaeton': 'gasoline',\n",
       " 'picanto': 'petrol',\n",
       " 'polo': 'petrol',\n",
       " 'primera': 'petrol',\n",
       " 'ptcruiser': 'petrol',\n",
       " 'punto': 'petrol',\n",
       " 'q3': 'gasoline',\n",
       " 'q5': 'gasoline',\n",
       " 'q7': 'gasoline',\n",
       " 'qashqai': 'gasoline',\n",
       " 'r19': 'petrol',\n",
       " 'range_rover': 'petrol',\n",
       " 'range_rover_evoque': 'gasoline',\n",
       " 'range_rover_sport': 'gasoline',\n",
       " 'rangerover': 'gasoline',\n",
       " 'rav': 'petrol',\n",
       " 'rio': 'petrol',\n",
       " 'roadster': 'petrol',\n",
       " 'roomster': 'petrol',\n",
       " 'rx_reihe': 'petrol',\n",
       " 's60': 'petrol',\n",
       " 's_klasse': 'petrol',\n",
       " 's_max': 'gasoline',\n",
       " 's_type': 'petrol',\n",
       " 'samara': 'petrol',\n",
       " 'sandero': 'petrol',\n",
       " 'santa': 'gasoline',\n",
       " 'scenic': 'petrol',\n",
       " 'scirocco': 'petrol',\n",
       " 'seicento': 'petrol',\n",
       " 'serie_1': 'gasoline',\n",
       " 'serie_2': array(['gasoline', 'petrol'], dtype=object),\n",
       " 'serie_3': 'petrol',\n",
       " 'sharan': 'gasoline',\n",
       " 'signum': 'gasoline',\n",
       " 'sirion': 'petrol',\n",
       " 'sl': 'petrol',\n",
       " 'slk': 'petrol',\n",
       " 'sorento': 'gasoline',\n",
       " 'spark': 'petrol',\n",
       " 'spider': 'petrol',\n",
       " 'sportage': 'petrol',\n",
       " 'sprinter': 'gasoline',\n",
       " 'stilo': 'petrol',\n",
       " 'superb': 'gasoline',\n",
       " 'swift': 'petrol',\n",
       " 'terios': 'petrol',\n",
       " 'tigra': 'petrol',\n",
       " 'tiguan': 'gasoline',\n",
       " 'toledo': 'petrol',\n",
       " 'touareg': 'gasoline',\n",
       " 'touran': 'gasoline',\n",
       " 'transit': 'gasoline',\n",
       " 'transporter': 'gasoline',\n",
       " 'tt': 'petrol',\n",
       " 'tucson': 'petrol',\n",
       " 'twingo': 'petrol',\n",
       " 'unknown': 'petrol',\n",
       " 'up': 'petrol',\n",
       " 'v40': 'petrol',\n",
       " 'v50': 'gasoline',\n",
       " 'v60': 'gasoline',\n",
       " 'v70': 'petrol',\n",
       " 'v_klasse': 'gasoline',\n",
       " 'vectra': 'petrol',\n",
       " 'verso': 'petrol',\n",
       " 'viano': 'gasoline',\n",
       " 'vito': 'gasoline',\n",
       " 'vivaro': 'gasoline',\n",
       " 'voyager': 'petrol',\n",
       " 'wrangler': 'petrol',\n",
       " 'x_reihe': 'gasoline',\n",
       " 'x_trail': 'gasoline',\n",
       " 'x_type': 'petrol',\n",
       " 'xc_reihe': 'gasoline',\n",
       " 'yaris': 'petrol',\n",
       " 'yeti': 'petrol',\n",
       " 'ypsilon': 'petrol',\n",
       " 'z_reihe': 'petrol',\n",
       " 'zafira': 'petrol'}"
      ]
     },
     "execution_count": 87,
     "metadata": {},
     "output_type": "execute_result"
    }
   ],
   "source": [
    "fuel = data.pivot_table(index=['model'], values = 'fuel_type', aggfunc=lambda x: x.mode()).reset_index()\n",
    "fuel_d = dict(fuel.values)\n",
    "fuel_d"
   ]
  },
  {
   "cell_type": "code",
   "execution_count": 88,
   "metadata": {
    "id": "dGoffU_ssOrX"
   },
   "outputs": [],
   "source": [
    "data.loc[data['fuel_type'].isna(), 'fuel_type'] = data.loc[data['fuel_type'].isna(),\\\n",
    "                                                                 'fuel_type'].fillna(data['model'].map(fuel_d),\\\n",
    "                                                                                     inplace = True)"
   ]
  },
  {
   "cell_type": "code",
   "execution_count": 89,
   "metadata": {
    "id": "-FkSOAeHsOrX"
   },
   "outputs": [],
   "source": [
    "data = data.dropna(subset=['fuel_type'])"
   ]
  },
  {
   "cell_type": "markdown",
   "metadata": {
    "id": "cFlqbk-csOrX"
   },
   "source": [
    "### repaired пропуски"
   ]
  },
  {
   "cell_type": "code",
   "execution_count": 90,
   "metadata": {
    "colab": {
     "base_uri": "https://localhost:8080/",
     "height": 297
    },
    "id": "QU8Wp5jHsOrX",
    "outputId": "5d42fe86-5011-43b9-887a-d86031875356"
   },
   "outputs": [
    {
     "data": {
      "text/plain": [
       "<Axes: xlabel='repaired', ylabel='price'>"
      ]
     },
     "execution_count": 90,
     "metadata": {},
     "output_type": "execute_result"
    },
    {
     "data": {
      "image/png": "[encoded data removed]",
      "text/plain": [
       "<Figure size 432x288 with 1 Axes>"
      ]
     },
     "metadata": {
      "needs_background": "light"
     },
     "output_type": "display_data"
    }
   ],
   "source": [
    "sns.boxplot(x = 'repaired',\n",
    "            y = 'price',\n",
    "            data = data,\n",
    "            showmeans = True,\n",
    "            meanprops = {\"marker\":'o',\n",
    "                        \"markerfacecolor\":'white',\n",
    "                        \"markeredgecolor\":'black'},\n",
    "            palette = 'Pastel1')"
   ]
  },
  {
   "cell_type": "code",
   "execution_count": 91,
   "metadata": {
    "colab": {
     "base_uri": "https://localhost:8080/"
    },
    "id": "zTtL4-dDsOrX",
    "outputId": "16a43fee-a779-4f36-f662-9c99bf6ece04"
   },
   "outputs": [
    {
     "data": {
      "text/plain": [
       "{'100': 1200.0,\n",
       " '145': 750.0,\n",
       " '147': 2050.0,\n",
       " '156': 1300.0,\n",
       " '159': 6499.5,\n",
       " '1_reihe': 990.0,\n",
       " '1er': 9250.0,\n",
       " '200': 3500.0,\n",
       " '2_reihe': 2590.0,\n",
       " '300c': 9850.0,\n",
       " '3_reihe': 2000.0,\n",
       " '3er': 3700.0,\n",
       " '4_reihe': 2800.0,\n",
       " '500': 7690.0,\n",
       " '5_reihe': 6500.0,\n",
       " '5er': 5499.0,\n",
       " '601': 1399.0,\n",
       " '6_reihe': 2498.0,\n",
       " '6er': 14200.0,\n",
       " '7er': 5600.0,\n",
       " '80': 990.0,\n",
       " '850': 965.0,\n",
       " '90': 1400.0,\n",
       " '900': 1625.0,\n",
       " '9000': 2799.0,\n",
       " '911': 15895.0,\n",
       " 'a1': 13990.0,\n",
       " 'a2': 3800.0,\n",
       " 'a3': 5690.0,\n",
       " 'a4': 4800.0,\n",
       " 'a5': 16500.0,\n",
       " 'a6': 5600.0,\n",
       " 'a8': 8145.0,\n",
       " 'a_klasse': 2350.0,\n",
       " 'accord': 3700.0,\n",
       " 'agila': 1500.0,\n",
       " 'alhambra': 3700.0,\n",
       " 'almera': 1400.0,\n",
       " 'altea': 5500.0,\n",
       " 'amarok': 15120.0,\n",
       " 'antara': 9150.0,\n",
       " 'arosa': 999.0,\n",
       " 'astra': 1999.0,\n",
       " 'auris': 7950.0,\n",
       " 'avensis': 4850.0,\n",
       " 'aveo': 4250.0,\n",
       " 'aygo': 3999.0,\n",
       " 'b_klasse': 8500.0,\n",
       " 'b_max': 12675.0,\n",
       " 'beetle': 5300.0,\n",
       " 'berlingo': 2350.0,\n",
       " 'bora': 2390.0,\n",
       " 'boxster': 13900.0,\n",
       " 'bravo': 2999.5,\n",
       " 'c1': 3599.5,\n",
       " 'c2': 2500.0,\n",
       " 'c3': 3290.0,\n",
       " 'c4': 5500.0,\n",
       " 'c5': 2850.0,\n",
       " 'c_klasse': 3750.0,\n",
       " 'c_max': 4900.0,\n",
       " 'c_reihe': 7300.0,\n",
       " 'caddy': 5900.0,\n",
       " 'calibra': 1500.0,\n",
       " 'captiva': 9474.5,\n",
       " 'carisma': 850.0,\n",
       " 'carnival': 1850.0,\n",
       " 'cayenne': 12999.5,\n",
       " 'cc': 14990.0,\n",
       " 'ceed': 6375.0,\n",
       " 'charade': 750.0,\n",
       " 'cherokee': 4450.0,\n",
       " 'citigo': 7299.5,\n",
       " 'civic': 1599.0,\n",
       " 'cl': 7375.0,\n",
       " 'clio': 1499.0,\n",
       " 'clk': 5555.0,\n",
       " 'clubman': 9999.0,\n",
       " 'colt': 2324.5,\n",
       " 'combo': 2500.0,\n",
       " 'cooper': 9250.0,\n",
       " 'cordoba': 800.0,\n",
       " 'corolla': 2425.0,\n",
       " 'corsa': 1200.0,\n",
       " 'cr_reihe': 4900.0,\n",
       " 'croma': 3649.0,\n",
       " 'crossfire': 9800.0,\n",
       " 'cuore': 899.0,\n",
       " 'cx_reihe': 13450.0,\n",
       " 'defender': 12500.0,\n",
       " 'delta': 6349.5,\n",
       " 'discovery': 10250.0,\n",
       " 'doblo': 2900.0,\n",
       " 'ducato': 3200.0,\n",
       " 'duster': 9799.5,\n",
       " 'e_klasse': 4600.0,\n",
       " 'elefantino': 200.0,\n",
       " 'eos': 10500.0,\n",
       " 'escort': 600.0,\n",
       " 'espace': 1650.0,\n",
       " 'exeo': 11000.0,\n",
       " 'fabia': 3500.0,\n",
       " 'fiesta': 1695.0,\n",
       " 'focus': 2150.0,\n",
       " 'forester': 3994.5,\n",
       " 'forfour': 2600.0,\n",
       " 'fortwo': 3300.0,\n",
       " 'fox': 2800.0,\n",
       " 'freelander': 4200.0,\n",
       " 'fusion': 2825.0,\n",
       " 'g_klasse': 10800.0,\n",
       " 'galant': 800.0,\n",
       " 'galaxy': 2550.0,\n",
       " 'getz': 1950.0,\n",
       " 'gl': 18999.0,\n",
       " 'glk': 17949.5,\n",
       " 'golf': 2800.0,\n",
       " 'grand': 5800.0,\n",
       " 'i3': 3349.5,\n",
       " 'i_reihe': 7285.0,\n",
       " 'ibiza': 2950.0,\n",
       " 'impreza': 3000.0,\n",
       " 'insignia': 11422.0,\n",
       " 'jazz': 3950.0,\n",
       " 'jetta': 4999.0,\n",
       " 'jimny': 6333.0,\n",
       " 'juke': 11500.0,\n",
       " 'justy': 900.0,\n",
       " 'ka': 999.0,\n",
       " 'kadett': 1500.0,\n",
       " 'kaefer': 6000.0,\n",
       " 'kalina': 1749.5,\n",
       " 'kalos': 1450.0,\n",
       " 'kangoo': 1850.0,\n",
       " 'kappa': 1950.0,\n",
       " 'kuga': 14900.0,\n",
       " 'laguna': 1362.5,\n",
       " 'lancer': 2800.0,\n",
       " 'lanos': 600.0,\n",
       " 'legacy': 1200.0,\n",
       " 'leon': 6099.0,\n",
       " 'lodgy': 10675.0,\n",
       " 'logan': 2990.0,\n",
       " 'lupo': 1300.0,\n",
       " 'lybra': 750.0,\n",
       " 'm_klasse': 8370.0,\n",
       " 'm_reihe': 13649.5,\n",
       " 'materia': 4650.0,\n",
       " 'matiz': 1599.0,\n",
       " 'megane': 1999.0,\n",
       " 'meriva': 3900.0,\n",
       " 'micra': 1200.0,\n",
       " 'mii': 7550.0,\n",
       " 'modus': 2950.0,\n",
       " 'mondeo': 1500.0,\n",
       " 'move': 599.0,\n",
       " 'musa': 3400.0,\n",
       " 'mustang': 14994.5,\n",
       " 'mx_reihe': 4000.0,\n",
       " 'navara': 10850.0,\n",
       " 'niva': 3299.0,\n",
       " 'note': 4750.0,\n",
       " 'nubira': 850.0,\n",
       " 'octavia': 5999.0,\n",
       " 'omega': 950.0,\n",
       " 'one': 6800.0,\n",
       " 'other': 2900.0,\n",
       " 'outlander': 9890.0,\n",
       " 'pajero': 4894.5,\n",
       " 'panda': 2950.0,\n",
       " 'passat': 3450.0,\n",
       " 'phaeton': 9499.5,\n",
       " 'picanto': 2900.0,\n",
       " 'polo': 1550.0,\n",
       " 'primera': 1290.0,\n",
       " 'ptcruiser': 2200.0,\n",
       " 'punto': 1100.0,\n",
       " 'q3': 18324.5,\n",
       " 'q5': 16499.0,\n",
       " 'q7': 15500.0,\n",
       " 'qashqai': 12800.0,\n",
       " 'r19': 763.5,\n",
       " 'range_rover': 6000.0,\n",
       " 'range_rover_evoque': 12500.0,\n",
       " 'range_rover_sport': 15200.0,\n",
       " 'rangerover': 2500.0,\n",
       " 'rav': 6300.0,\n",
       " 'rio': 2650.0,\n",
       " 'roadster': 4990.0,\n",
       " 'roomster': 6225.0,\n",
       " 'rx_reihe': 4899.0,\n",
       " 's60': 4500.0,\n",
       " 's_klasse': 6000.0,\n",
       " 's_max': 9000.0,\n",
       " 's_type': 3500.0,\n",
       " 'samara': 600.0,\n",
       " 'sandero': 4400.0,\n",
       " 'santa': 4800.0,\n",
       " 'scenic': 1799.0,\n",
       " 'scirocco': 11000.0,\n",
       " 'seicento': 790.0,\n",
       " 'serie_1': 3800.0,\n",
       " 'serie_2': 8500.0,\n",
       " 'serie_3': 12500.0,\n",
       " 'sharan': 3850.0,\n",
       " 'signum': 3500.0,\n",
       " 'sirion': 2400.0,\n",
       " 'sl': 14000.0,\n",
       " 'slk': 7500.0,\n",
       " 'sorento': 6500.0,\n",
       " 'spark': 4969.0,\n",
       " 'spider': 5344.5,\n",
       " 'sportage': 12575.0,\n",
       " 'sprinter': 4900.0,\n",
       " 'stilo': 1600.0,\n",
       " 'superb': 10900.0,\n",
       " 'swift': 3990.0,\n",
       " 'terios': 5000.0,\n",
       " 'tigra': 3200.0,\n",
       " 'tiguan': 14700.0,\n",
       " 'toledo': 1500.0,\n",
       " 'touareg': 10100.0,\n",
       " 'touran': 6000.0,\n",
       " 'transit': 3250.0,\n",
       " 'transporter': 5800.0,\n",
       " 'tt': 8549.5,\n",
       " 'tucson': 6250.0,\n",
       " 'twingo': 999.0,\n",
       " 'unknown': 1900.0,\n",
       " 'up': 7980.0,\n",
       " 'v40': 1000.0,\n",
       " 'v50': 5500.0,\n",
       " 'v60': 16490.0,\n",
       " 'v70': 2925.0,\n",
       " 'v_klasse': 2999.0,\n",
       " 'vectra': 1200.0,\n",
       " 'verso': 6199.5,\n",
       " 'viano': 11500.0,\n",
       " 'vito': 5200.0,\n",
       " 'vivaro': 5900.0,\n",
       " 'voyager': 1250.0,\n",
       " 'wrangler': 7990.0,\n",
       " 'x_reihe': 11900.0,\n",
       " 'x_trail': 5399.5,\n",
       " 'x_type': 3945.0,\n",
       " 'xc_reihe': 10750.0,\n",
       " 'yaris': 3499.0,\n",
       " 'yeti': 12990.0,\n",
       " 'ypsilon': 990.0,\n",
       " 'z_reihe': 9850.0,\n",
       " 'zafira': 3200.0}"
      ]
     },
     "execution_count": 91,
     "metadata": {},
     "output_type": "execute_result"
    }
   ],
   "source": [
    "median_price_per_model = dict(data.pivot_table(index=['model'], values = 'price', aggfunc='median').reset_index().values)\n",
    "median_price_per_model"
   ]
  },
  {
   "cell_type": "code",
   "execution_count": 92,
   "metadata": {
    "colab": {
     "base_uri": "https://localhost:8080/"
    },
    "id": "GnmQ5wtJsOrX",
    "outputId": "e3bbd75e-4a77-4b07-fb21-0c1662f943da"
   },
   "outputs": [
    {
     "data": {
      "text/plain": [
       "1         1900.0\n",
       "2         5800.0\n",
       "3         2800.0\n",
       "4         3500.0\n",
       "5         3700.0\n",
       "           ...  \n",
       "354362    6099.0\n",
       "354363    3200.0\n",
       "354366    3300.0\n",
       "354367    5800.0\n",
       "354368    2800.0\n",
       "Name: median_price_per_model, Length: 293561, dtype: float64"
      ]
     },
     "execution_count": 92,
     "metadata": {},
     "output_type": "execute_result"
    }
   ],
   "source": [
    "data['median_price_per_model'] = data['model'].map(median_price_per_model)\n",
    "data['median_price_per_model']"
   ]
  },
  {
   "cell_type": "code",
   "execution_count": 93,
   "metadata": {
    "id": "Cq7aziKwsOrX"
   },
   "outputs": [],
   "source": [
    "data['repaired'] = np.where((data.repaired.isna())&(data.price<data['median_price_per_model']), 'yes', 'no')"
   ]
  },
  {
   "cell_type": "markdown",
   "metadata": {
    "id": "Q5HjzVi3sOrY"
   },
   "source": [
    "Видим, что машины, которые не были в ремонте дороже тех, которые в ремонте были"
   ]
  },
  {
   "cell_type": "code",
   "execution_count": 94,
   "metadata": {
    "id": "hHOo0Vk2sOrY"
   },
   "outputs": [],
   "source": [
    "missing_repaired_ind = data[data.repaired.isna()].index"
   ]
  },
  {
   "cell_type": "code",
   "execution_count": 95,
   "metadata": {
    "colab": {
     "base_uri": "https://localhost:8080/",
     "height": 661
    },
    "id": "CLTc6GEAsOrY",
    "outputId": "468f19ba-ef87-4427-96bf-f467cb4b2647"
   },
   "outputs": [
    {
     "data": {
      "text/html": [
       "\n",
       "  <div id=\"df-d6b0e60e-be86-4ecc-9077-90913ef0fdda\">\n",
       "    <div class=\"colab-df-container\">\n",
       "      <div>\n",
       "<style scoped>\n",
       "    .dataframe tbody tr th:only-of-type {\n",
       "        vertical-align: middle;\n",
       "    }\n",
       "\n",
       "    .dataframe tbody tr th {\n",
       "        vertical-align: top;\n",
       "    }\n",
       "\n",
       "    .dataframe thead th {\n",
       "        text-align: right;\n",
       "    }\n",
       "</style>\n",
       "<table border=\"1\" class=\"dataframe\">\n",
       "  <thead>\n",
       "    <tr style=\"text-align: right;\">\n",
       "      <th></th>\n",
       "      <th>date_crawled</th>\n",
       "      <th>price</th>\n",
       "      <th>vehicle_type</th>\n",
       "      <th>registration_year</th>\n",
       "      <th>gearbox</th>\n",
       "      <th>power</th>\n",
       "      <th>model</th>\n",
       "      <th>kilometer</th>\n",
       "      <th>registration_month</th>\n",
       "      <th>fuel_type</th>\n",
       "      <th>brand</th>\n",
       "      <th>repaired</th>\n",
       "      <th>date_created</th>\n",
       "      <th>number_of_pictures</th>\n",
       "      <th>postal_code</th>\n",
       "      <th>last_seen</th>\n",
       "      <th>median_price_per_model</th>\n",
       "    </tr>\n",
       "  </thead>\n",
       "  <tbody>\n",
       "    <tr>\n",
       "      <th>1</th>\n",
       "      <td>2016-03-24 10:58:45</td>\n",
       "      <td>18300</td>\n",
       "      <td>coupe</td>\n",
       "      <td>2011</td>\n",
       "      <td>manual</td>\n",
       "      <td>190</td>\n",
       "      <td>unknown</td>\n",
       "      <td>125000</td>\n",
       "      <td>5</td>\n",
       "      <td>gasoline</td>\n",
       "      <td>audi</td>\n",
       "      <td>no</td>\n",
       "      <td>2016-03-24</td>\n",
       "      <td>0</td>\n",
       "      <td>66954</td>\n",
       "      <td>2016-04-07 01:46:50</td>\n",
       "      <td>1900.0</td>\n",
       "    </tr>\n",
       "    <tr>\n",
       "      <th>2</th>\n",
       "      <td>2016-03-14 12:52:21</td>\n",
       "      <td>9800</td>\n",
       "      <td>suv</td>\n",
       "      <td>2004</td>\n",
       "      <td>auto</td>\n",
       "      <td>163</td>\n",
       "      <td>grand</td>\n",
       "      <td>125000</td>\n",
       "      <td>8</td>\n",
       "      <td>gasoline</td>\n",
       "      <td>jeep</td>\n",
       "      <td>no</td>\n",
       "      <td>2016-03-14</td>\n",
       "      <td>0</td>\n",
       "      <td>90480</td>\n",
       "      <td>2016-04-05 12:47:46</td>\n",
       "      <td>5800.0</td>\n",
       "    </tr>\n",
       "    <tr>\n",
       "      <th>3</th>\n",
       "      <td>2016-03-17 16:54:04</td>\n",
       "      <td>1500</td>\n",
       "      <td>small</td>\n",
       "      <td>2001</td>\n",
       "      <td>manual</td>\n",
       "      <td>75</td>\n",
       "      <td>golf</td>\n",
       "      <td>150000</td>\n",
       "      <td>6</td>\n",
       "      <td>petrol</td>\n",
       "      <td>volkswagen</td>\n",
       "      <td>no</td>\n",
       "      <td>2016-03-17</td>\n",
       "      <td>0</td>\n",
       "      <td>91074</td>\n",
       "      <td>2016-03-17 17:40:17</td>\n",
       "      <td>2800.0</td>\n",
       "    </tr>\n",
       "    <tr>\n",
       "      <th>4</th>\n",
       "      <td>2016-03-31 17:25:20</td>\n",
       "      <td>3600</td>\n",
       "      <td>small</td>\n",
       "      <td>2008</td>\n",
       "      <td>manual</td>\n",
       "      <td>69</td>\n",
       "      <td>fabia</td>\n",
       "      <td>90000</td>\n",
       "      <td>7</td>\n",
       "      <td>gasoline</td>\n",
       "      <td>skoda</td>\n",
       "      <td>no</td>\n",
       "      <td>2016-03-31</td>\n",
       "      <td>0</td>\n",
       "      <td>60437</td>\n",
       "      <td>2016-04-06 10:17:21</td>\n",
       "      <td>3500.0</td>\n",
       "    </tr>\n",
       "    <tr>\n",
       "      <th>5</th>\n",
       "      <td>2016-04-04 17:36:23</td>\n",
       "      <td>650</td>\n",
       "      <td>sedan</td>\n",
       "      <td>1995</td>\n",
       "      <td>manual</td>\n",
       "      <td>102</td>\n",
       "      <td>3er</td>\n",
       "      <td>150000</td>\n",
       "      <td>10</td>\n",
       "      <td>petrol</td>\n",
       "      <td>bmw</td>\n",
       "      <td>no</td>\n",
       "      <td>2016-04-04</td>\n",
       "      <td>0</td>\n",
       "      <td>33775</td>\n",
       "      <td>2016-04-06 19:17:07</td>\n",
       "      <td>3700.0</td>\n",
       "    </tr>\n",
       "    <tr>\n",
       "      <th>...</th>\n",
       "      <td>...</td>\n",
       "      <td>...</td>\n",
       "      <td>...</td>\n",
       "      <td>...</td>\n",
       "      <td>...</td>\n",
       "      <td>...</td>\n",
       "      <td>...</td>\n",
       "      <td>...</td>\n",
       "      <td>...</td>\n",
       "      <td>...</td>\n",
       "      <td>...</td>\n",
       "      <td>...</td>\n",
       "      <td>...</td>\n",
       "      <td>...</td>\n",
       "      <td>...</td>\n",
       "      <td>...</td>\n",
       "      <td>...</td>\n",
       "    </tr>\n",
       "    <tr>\n",
       "      <th>354362</th>\n",
       "      <td>2016-03-19 19:53:49</td>\n",
       "      <td>3200</td>\n",
       "      <td>sedan</td>\n",
       "      <td>2004</td>\n",
       "      <td>manual</td>\n",
       "      <td>225</td>\n",
       "      <td>leon</td>\n",
       "      <td>150000</td>\n",
       "      <td>5</td>\n",
       "      <td>petrol</td>\n",
       "      <td>seat</td>\n",
       "      <td>no</td>\n",
       "      <td>2016-03-19</td>\n",
       "      <td>0</td>\n",
       "      <td>96465</td>\n",
       "      <td>2016-03-19 20:44:43</td>\n",
       "      <td>6099.0</td>\n",
       "    </tr>\n",
       "    <tr>\n",
       "      <th>354363</th>\n",
       "      <td>2016-03-27 20:36:20</td>\n",
       "      <td>1150</td>\n",
       "      <td>bus</td>\n",
       "      <td>2000</td>\n",
       "      <td>manual</td>\n",
       "      <td>0</td>\n",
       "      <td>zafira</td>\n",
       "      <td>150000</td>\n",
       "      <td>3</td>\n",
       "      <td>petrol</td>\n",
       "      <td>opel</td>\n",
       "      <td>no</td>\n",
       "      <td>2016-03-27</td>\n",
       "      <td>0</td>\n",
       "      <td>26624</td>\n",
       "      <td>2016-03-29 10:17:23</td>\n",
       "      <td>3200.0</td>\n",
       "    </tr>\n",
       "    <tr>\n",
       "      <th>354366</th>\n",
       "      <td>2016-03-05 19:56:21</td>\n",
       "      <td>1199</td>\n",
       "      <td>convertible</td>\n",
       "      <td>2000</td>\n",
       "      <td>auto</td>\n",
       "      <td>101</td>\n",
       "      <td>fortwo</td>\n",
       "      <td>125000</td>\n",
       "      <td>3</td>\n",
       "      <td>petrol</td>\n",
       "      <td>smart</td>\n",
       "      <td>no</td>\n",
       "      <td>2016-03-05</td>\n",
       "      <td>0</td>\n",
       "      <td>26135</td>\n",
       "      <td>2016-03-11 18:17:12</td>\n",
       "      <td>3300.0</td>\n",
       "    </tr>\n",
       "    <tr>\n",
       "      <th>354367</th>\n",
       "      <td>2016-03-19 18:57:12</td>\n",
       "      <td>9200</td>\n",
       "      <td>bus</td>\n",
       "      <td>1996</td>\n",
       "      <td>manual</td>\n",
       "      <td>102</td>\n",
       "      <td>transporter</td>\n",
       "      <td>150000</td>\n",
       "      <td>3</td>\n",
       "      <td>gasoline</td>\n",
       "      <td>volkswagen</td>\n",
       "      <td>no</td>\n",
       "      <td>2016-03-19</td>\n",
       "      <td>0</td>\n",
       "      <td>87439</td>\n",
       "      <td>2016-04-07 07:15:26</td>\n",
       "      <td>5800.0</td>\n",
       "    </tr>\n",
       "    <tr>\n",
       "      <th>354368</th>\n",
       "      <td>2016-03-20 19:41:08</td>\n",
       "      <td>3400</td>\n",
       "      <td>wagon</td>\n",
       "      <td>2002</td>\n",
       "      <td>manual</td>\n",
       "      <td>100</td>\n",
       "      <td>golf</td>\n",
       "      <td>150000</td>\n",
       "      <td>6</td>\n",
       "      <td>gasoline</td>\n",
       "      <td>volkswagen</td>\n",
       "      <td>no</td>\n",
       "      <td>2016-03-20</td>\n",
       "      <td>0</td>\n",
       "      <td>40764</td>\n",
       "      <td>2016-03-24 12:45:21</td>\n",
       "      <td>2800.0</td>\n",
       "    </tr>\n",
       "  </tbody>\n",
       "</table>\n",
       "<p>293561 rows × 17 columns</p>\n",
       "</div>\n",
       "      <button class=\"colab-df-convert\" onclick=\"convertToInteractive('df-d6b0e60e-be86-4ecc-9077-90913ef0fdda')\"\n",
       "              title=\"Convert this dataframe to an interactive table.\"\n",
       "              style=\"display:none;\">\n",
       "        \n",
       "  <svg xmlns=\"http://www.w3.org/2000/svg\" height=\"24px\"viewBox=\"0 0 24 24\"\n",
       "       width=\"24px\">\n",
       "    <path d=\"M0 0h24v24H0V0z\" fill=\"none\"/>\n",
       "    <path d=\"M18.56 5.44l.94 2.06.94-2.06 2.06-.94-2.06-.94-.94-2.06-.94 2.06-2.06.94zm-11 1L8.5 8.5l.94-2.06 2.06-.94-2.06-.94L8.5 2.5l-.94 2.06-2.06.94zm10 10l.94 2.06.94-2.06 2.06-.94-2.06-.94-.94-2.06-.94 2.06-2.06.94z\"/><path d=\"M17.41 7.96l-1.37-1.37c-.4-.4-.92-.59-1.43-.59-.52 0-1.04.2-1.43.59L10.3 9.45l-7.72 7.72c-.78.78-.78 2.05 0 2.83L4 21.41c.39.39.9.59 1.41.59.51 0 1.02-.2 1.41-.59l7.78-7.78 2.81-2.81c.8-.78.8-2.07 0-2.86zM5.41 20L4 18.59l7.72-7.72 1.47 1.35L5.41 20z\"/>\n",
       "  </svg>\n",
       "      </button>\n",
       "      \n",
       "  <style>\n",
       "    .colab-df-container {\n",
       "      display:flex;\n",
       "      flex-wrap:wrap;\n",
       "      gap: 12px;\n",
       "    }\n",
       "\n",
       "    .colab-df-convert {\n",
       "      background-color: #E8F0FE;\n",
       "      border: none;\n",
       "      border-radius: 50%;\n",
       "      cursor: pointer;\n",
       "      display: none;\n",
       "      fill: #1967D2;\n",
       "      height: 32px;\n",
       "      padding: 0 0 0 0;\n",
       "      width: 32px;\n",
       "    }\n",
       "\n",
       "    .colab-df-convert:hover {\n",
       "      background-color: #E2EBFA;\n",
       "      box-shadow: 0px 1px 2px rgba(60, 64, 67, 0.3), 0px 1px 3px 1px rgba(60, 64, 67, 0.15);\n",
       "      fill: #174EA6;\n",
       "    }\n",
       "\n",
       "    [theme=dark] .colab-df-convert {\n",
       "      background-color: #3B4455;\n",
       "      fill: #D2E3FC;\n",
       "    }\n",
       "\n",
       "    [theme=dark] .colab-df-convert:hover {\n",
       "      background-color: #434B5C;\n",
       "      box-shadow: 0px 1px 3px 1px rgba(0, 0, 0, 0.15);\n",
       "      filter: drop-shadow(0px 1px 2px rgba(0, 0, 0, 0.3));\n",
       "      fill: #FFFFFF;\n",
       "    }\n",
       "  </style>\n",
       "\n",
       "      <script>\n",
       "        const buttonEl =\n",
       "          document.querySelector('#df-d6b0e60e-be86-4ecc-9077-90913ef0fdda button.colab-df-convert');\n",
       "        buttonEl.style.display =\n",
       "          google.colab.kernel.accessAllowed ? 'block' : 'none';\n",
       "\n",
       "        async function convertToInteractive(key) {\n",
       "          const element = document.querySelector('#df-d6b0e60e-be86-4ecc-9077-90913ef0fdda');\n",
       "          const dataTable =\n",
       "            await google.colab.kernel.invokeFunction('convertToInteractive',\n",
       "                                                     [key], {});\n",
       "          if (!dataTable) return;\n",
       "\n",
       "          const docLinkHtml = 'Like what you see? Visit the ' +\n",
       "            '<a target=\"_blank\" href=https://colab.research.google.com/notebooks/data_table.ipynb>data table notebook</a>'\n",
       "            + ' to learn more about interactive tables.';\n",
       "          element.innerHTML = '';\n",
       "          dataTable['output_type'] = 'display_data';\n",
       "          await google.colab.output.renderOutput(dataTable, element);\n",
       "          const docLink = document.createElement('div');\n",
       "          docLink.innerHTML = docLinkHtml;\n",
       "          element.appendChild(docLink);\n",
       "        }\n",
       "      </script>\n",
       "    </div>\n",
       "  </div>\n",
       "  "
      ],
      "text/plain": [
       "              date_crawled  price vehicle_type  registration_year gearbox  \\\n",
       "1      2016-03-24 10:58:45  18300        coupe               2011  manual   \n",
       "2      2016-03-14 12:52:21   9800          suv               2004    auto   \n",
       "3      2016-03-17 16:54:04   1500        small               2001  manual   \n",
       "4      2016-03-31 17:25:20   3600        small               2008  manual   \n",
       "5      2016-04-04 17:36:23    650        sedan               1995  manual   \n",
       "...                    ...    ...          ...                ...     ...   \n",
       "354362 2016-03-19 19:53:49   3200        sedan               2004  manual   \n",
       "354363 2016-03-27 20:36:20   1150          bus               2000  manual   \n",
       "354366 2016-03-05 19:56:21   1199  convertible               2000    auto   \n",
       "354367 2016-03-19 18:57:12   9200          bus               1996  manual   \n",
       "354368 2016-03-20 19:41:08   3400        wagon               2002  manual   \n",
       "\n",
       "        power        model  kilometer  registration_month fuel_type  \\\n",
       "1         190      unknown     125000                   5  gasoline   \n",
       "2         163        grand     125000                   8  gasoline   \n",
       "3          75         golf     150000                   6    petrol   \n",
       "4          69        fabia      90000                   7  gasoline   \n",
       "5         102          3er     150000                  10    petrol   \n",
       "...       ...          ...        ...                 ...       ...   \n",
       "354362    225         leon     150000                   5    petrol   \n",
       "354363      0       zafira     150000                   3    petrol   \n",
       "354366    101       fortwo     125000                   3    petrol   \n",
       "354367    102  transporter     150000                   3  gasoline   \n",
       "354368    100         golf     150000                   6  gasoline   \n",
       "\n",
       "             brand repaired date_created  number_of_pictures postal_code  \\\n",
       "1             audi       no   2016-03-24                   0       66954   \n",
       "2             jeep       no   2016-03-14                   0       90480   \n",
       "3       volkswagen       no   2016-03-17                   0       91074   \n",
       "4            skoda       no   2016-03-31                   0       60437   \n",
       "5              bmw       no   2016-04-04                   0       33775   \n",
       "...            ...      ...          ...                 ...         ...   \n",
       "354362        seat       no   2016-03-19                   0       96465   \n",
       "354363        opel       no   2016-03-27                   0       26624   \n",
       "354366       smart       no   2016-03-05                   0       26135   \n",
       "354367  volkswagen       no   2016-03-19                   0       87439   \n",
       "354368  volkswagen       no   2016-03-20                   0       40764   \n",
       "\n",
       "                 last_seen  median_price_per_model  \n",
       "1      2016-04-07 01:46:50                  1900.0  \n",
       "2      2016-04-05 12:47:46                  5800.0  \n",
       "3      2016-03-17 17:40:17                  2800.0  \n",
       "4      2016-04-06 10:17:21                  3500.0  \n",
       "5      2016-04-06 19:17:07                  3700.0  \n",
       "...                    ...                     ...  \n",
       "354362 2016-03-19 20:44:43                  6099.0  \n",
       "354363 2016-03-29 10:17:23                  3200.0  \n",
       "354366 2016-03-11 18:17:12                  3300.0  \n",
       "354367 2016-04-07 07:15:26                  5800.0  \n",
       "354368 2016-03-24 12:45:21                  2800.0  \n",
       "\n",
       "[293561 rows x 17 columns]"
      ]
     },
     "execution_count": 95,
     "metadata": {},
     "output_type": "execute_result"
    }
   ],
   "source": [
    "data"
   ]
  },
  {
   "cell_type": "markdown",
   "metadata": {
    "id": "bYc8NU-esOrY"
   },
   "source": [
    "### Удаление переменных"
   ]
  },
  {
   "cell_type": "code",
   "execution_count": 96,
   "metadata": {
    "colab": {
     "base_uri": "https://localhost:8080/",
     "height": 298
    },
    "id": "c_XQIcWAsOrY",
    "outputId": "50ad2f11-845c-41e1-b411-1d0f23e325fd"
   },
   "outputs": [
    {
     "data": {
      "text/plain": [
       "<Axes: xlabel='number_of_pictures', ylabel='price'>"
      ]
     },
     "execution_count": 96,
     "metadata": {},
     "output_type": "execute_result"
    },
    {
     "data": {
      "image/png": "[encoded data removed]",
      "text/plain": [
       "<Figure size 432x288 with 1 Axes>"
      ]
     },
     "metadata": {
      "needs_background": "light"
     },
     "output_type": "display_data"
    }
   ],
   "source": [
    "sns.scatterplot(data = data,\n",
    "                x = 'number_of_pictures',\n",
    "                y = 'price')"
   ]
  },
  {
   "cell_type": "markdown",
   "metadata": {
    "id": "yKUuHtgLsOrY"
   },
   "source": [
    "Для моделирования мне не понадобятся переменные date_crawled, date_created, last_seen, registration_month, postal_code - они мало информативны + median_price_per_model (я создавала ее для создания другой переменной, теперь могу удалить ее)"
   ]
  },
  {
   "cell_type": "markdown",
   "metadata": {
    "id": "3Q6PbW8OsOrY"
   },
   "source": [
    "Количество фото не имеет ни одного заполненного поля. Скорее всего произошла какая-то ошибка при выгрузке, удалим эту переменную."
   ]
  },
  {
   "cell_type": "code",
   "execution_count": 97,
   "metadata": {
    "id": "aY8dJxOisOrY"
   },
   "outputs": [],
   "source": [
    "df = data.copy()"
   ]
  },
  {
   "cell_type": "code",
   "execution_count": 98,
   "metadata": {
    "colab": {
     "base_uri": "https://localhost:8080/",
     "height": 206
    },
    "id": "rMvxe7y_sOrY",
    "outputId": "71df5a5b-0b70-4709-cdcf-64129ddcc77d",
    "scrolled": true
   },
   "outputs": [
    {
     "data": {
      "text/html": [
       "\n",
       "  <div id=\"df-b1a40995-2d39-421b-b178-6742f010356a\">\n",
       "    <div class=\"colab-df-container\">\n",
       "      <div>\n",
       "<style scoped>\n",
       "    .dataframe tbody tr th:only-of-type {\n",
       "        vertical-align: middle;\n",
       "    }\n",
       "\n",
       "    .dataframe tbody tr th {\n",
       "        vertical-align: top;\n",
       "    }\n",
       "\n",
       "    .dataframe thead th {\n",
       "        text-align: right;\n",
       "    }\n",
       "</style>\n",
       "<table border=\"1\" class=\"dataframe\">\n",
       "  <thead>\n",
       "    <tr style=\"text-align: right;\">\n",
       "      <th></th>\n",
       "      <th>price</th>\n",
       "      <th>vehicle_type</th>\n",
       "      <th>registration_year</th>\n",
       "      <th>gearbox</th>\n",
       "      <th>power</th>\n",
       "      <th>model</th>\n",
       "      <th>kilometer</th>\n",
       "      <th>fuel_type</th>\n",
       "      <th>brand</th>\n",
       "      <th>repaired</th>\n",
       "    </tr>\n",
       "  </thead>\n",
       "  <tbody>\n",
       "    <tr>\n",
       "      <th>1</th>\n",
       "      <td>18300</td>\n",
       "      <td>coupe</td>\n",
       "      <td>2011</td>\n",
       "      <td>manual</td>\n",
       "      <td>190</td>\n",
       "      <td>unknown</td>\n",
       "      <td>125000</td>\n",
       "      <td>gasoline</td>\n",
       "      <td>audi</td>\n",
       "      <td>no</td>\n",
       "    </tr>\n",
       "    <tr>\n",
       "      <th>2</th>\n",
       "      <td>9800</td>\n",
       "      <td>suv</td>\n",
       "      <td>2004</td>\n",
       "      <td>auto</td>\n",
       "      <td>163</td>\n",
       "      <td>grand</td>\n",
       "      <td>125000</td>\n",
       "      <td>gasoline</td>\n",
       "      <td>jeep</td>\n",
       "      <td>no</td>\n",
       "    </tr>\n",
       "    <tr>\n",
       "      <th>3</th>\n",
       "      <td>1500</td>\n",
       "      <td>small</td>\n",
       "      <td>2001</td>\n",
       "      <td>manual</td>\n",
       "      <td>75</td>\n",
       "      <td>golf</td>\n",
       "      <td>150000</td>\n",
       "      <td>petrol</td>\n",
       "      <td>volkswagen</td>\n",
       "      <td>no</td>\n",
       "    </tr>\n",
       "    <tr>\n",
       "      <th>4</th>\n",
       "      <td>3600</td>\n",
       "      <td>small</td>\n",
       "      <td>2008</td>\n",
       "      <td>manual</td>\n",
       "      <td>69</td>\n",
       "      <td>fabia</td>\n",
       "      <td>90000</td>\n",
       "      <td>gasoline</td>\n",
       "      <td>skoda</td>\n",
       "      <td>no</td>\n",
       "    </tr>\n",
       "    <tr>\n",
       "      <th>5</th>\n",
       "      <td>650</td>\n",
       "      <td>sedan</td>\n",
       "      <td>1995</td>\n",
       "      <td>manual</td>\n",
       "      <td>102</td>\n",
       "      <td>3er</td>\n",
       "      <td>150000</td>\n",
       "      <td>petrol</td>\n",
       "      <td>bmw</td>\n",
       "      <td>no</td>\n",
       "    </tr>\n",
       "  </tbody>\n",
       "</table>\n",
       "</div>\n",
       "      <button class=\"colab-df-convert\" onclick=\"convertToInteractive('df-b1a40995-2d39-421b-b178-6742f010356a')\"\n",
       "              title=\"Convert this dataframe to an interactive table.\"\n",
       "              style=\"display:none;\">\n",
       "        \n",
       "  <svg xmlns=\"http://www.w3.org/2000/svg\" height=\"24px\"viewBox=\"0 0 24 24\"\n",
       "       width=\"24px\">\n",
       "    <path d=\"M0 0h24v24H0V0z\" fill=\"none\"/>\n",
       "    <path d=\"M18.56 5.44l.94 2.06.94-2.06 2.06-.94-2.06-.94-.94-2.06-.94 2.06-2.06.94zm-11 1L8.5 8.5l.94-2.06 2.06-.94-2.06-.94L8.5 2.5l-.94 2.06-2.06.94zm10 10l.94 2.06.94-2.06 2.06-.94-2.06-.94-.94-2.06-.94 2.06-2.06.94z\"/><path d=\"M17.41 7.96l-1.37-1.37c-.4-.4-.92-.59-1.43-.59-.52 0-1.04.2-1.43.59L10.3 9.45l-7.72 7.72c-.78.78-.78 2.05 0 2.83L4 21.41c.39.39.9.59 1.41.59.51 0 1.02-.2 1.41-.59l7.78-7.78 2.81-2.81c.8-.78.8-2.07 0-2.86zM5.41 20L4 18.59l7.72-7.72 1.47 1.35L5.41 20z\"/>\n",
       "  </svg>\n",
       "      </button>\n",
       "      \n",
       "  <style>\n",
       "    .colab-df-container {\n",
       "      display:flex;\n",
       "      flex-wrap:wrap;\n",
       "      gap: 12px;\n",
       "    }\n",
       "\n",
       "    .colab-df-convert {\n",
       "      background-color: #E8F0FE;\n",
       "      border: none;\n",
       "      border-radius: 50%;\n",
       "      cursor: pointer;\n",
       "      display: none;\n",
       "      fill: #1967D2;\n",
       "      height: 32px;\n",
       "      padding: 0 0 0 0;\n",
       "      width: 32px;\n",
       "    }\n",
       "\n",
       "    .colab-df-convert:hover {\n",
       "      background-color: #E2EBFA;\n",
       "      box-shadow: 0px 1px 2px rgba(60, 64, 67, 0.3), 0px 1px 3px 1px rgba(60, 64, 67, 0.15);\n",
       "      fill: #174EA6;\n",
       "    }\n",
       "\n",
       "    [theme=dark] .colab-df-convert {\n",
       "      background-color: #3B4455;\n",
       "      fill: #D2E3FC;\n",
       "    }\n",
       "\n",
       "    [theme=dark] .colab-df-convert:hover {\n",
       "      background-color: #434B5C;\n",
       "      box-shadow: 0px 1px 3px 1px rgba(0, 0, 0, 0.15);\n",
       "      filter: drop-shadow(0px 1px 2px rgba(0, 0, 0, 0.3));\n",
       "      fill: #FFFFFF;\n",
       "    }\n",
       "  </style>\n",
       "\n",
       "      <script>\n",
       "        const buttonEl =\n",
       "          document.querySelector('#df-b1a40995-2d39-421b-b178-6742f010356a button.colab-df-convert');\n",
       "        buttonEl.style.display =\n",
       "          google.colab.kernel.accessAllowed ? 'block' : 'none';\n",
       "\n",
       "        async function convertToInteractive(key) {\n",
       "          const element = document.querySelector('#df-b1a40995-2d39-421b-b178-6742f010356a');\n",
       "          const dataTable =\n",
       "            await google.colab.kernel.invokeFunction('convertToInteractive',\n",
       "                                                     [key], {});\n",
       "          if (!dataTable) return;\n",
       "\n",
       "          const docLinkHtml = 'Like what you see? Visit the ' +\n",
       "            '<a target=\"_blank\" href=https://colab.research.google.com/notebooks/data_table.ipynb>data table notebook</a>'\n",
       "            + ' to learn more about interactive tables.';\n",
       "          element.innerHTML = '';\n",
       "          dataTable['output_type'] = 'display_data';\n",
       "          await google.colab.output.renderOutput(dataTable, element);\n",
       "          const docLink = document.createElement('div');\n",
       "          docLink.innerHTML = docLinkHtml;\n",
       "          element.appendChild(docLink);\n",
       "        }\n",
       "      </script>\n",
       "    </div>\n",
       "  </div>\n",
       "  "
      ],
      "text/plain": [
       "   price vehicle_type  registration_year gearbox  power    model  kilometer  \\\n",
       "1  18300        coupe               2011  manual    190  unknown     125000   \n",
       "2   9800          suv               2004    auto    163    grand     125000   \n",
       "3   1500        small               2001  manual     75     golf     150000   \n",
       "4   3600        small               2008  manual     69    fabia      90000   \n",
       "5    650        sedan               1995  manual    102      3er     150000   \n",
       "\n",
       "  fuel_type       brand repaired  \n",
       "1  gasoline        audi       no  \n",
       "2  gasoline        jeep       no  \n",
       "3    petrol  volkswagen       no  \n",
       "4  gasoline       skoda       no  \n",
       "5    petrol         bmw       no  "
      ]
     },
     "execution_count": 98,
     "metadata": {},
     "output_type": "execute_result"
    }
   ],
   "source": [
    "df = df.drop(columns = ['date_crawled', 'last_seen', 'number_of_pictures',\\\n",
    "              'registration_month', 'postal_code', \\\n",
    "              'median_price_per_model', 'date_created'])\n",
    "df.head()"
   ]
  },
  {
   "cell_type": "code",
   "execution_count": null,
   "metadata": {},
   "outputs": [],
   "source": [
    "df.duplicated().sum()"
   ]
  },
  {
   "cell_type": "markdown",
   "metadata": {
    "id": "LL02A-Z3sOrY"
   },
   "source": [
    "### Подозрительные значения"
   ]
  },
  {
   "cell_type": "markdown",
   "metadata": {
    "id": "vkkSkCdfsOrY"
   },
   "source": [
    "Посмотрим на описательную статистику "
   ]
  },
  {
   "cell_type": "code",
   "execution_count": 99,
   "metadata": {
    "colab": {
     "base_uri": "https://localhost:8080/",
     "height": 300
    },
    "id": "9b4YeXDTsOrY",
    "outputId": "316edcf9-04ec-4430-b4c0-da28bd13c8f6"
   },
   "outputs": [
    {
     "data": {
      "text/html": [
       "\n",
       "  <div id=\"df-9ef6d421-54ba-40c7-8213-dbfcb6b83cfc\">\n",
       "    <div class=\"colab-df-container\">\n",
       "      <div>\n",
       "<style scoped>\n",
       "    .dataframe tbody tr th:only-of-type {\n",
       "        vertical-align: middle;\n",
       "    }\n",
       "\n",
       "    .dataframe tbody tr th {\n",
       "        vertical-align: top;\n",
       "    }\n",
       "\n",
       "    .dataframe thead th {\n",
       "        text-align: right;\n",
       "    }\n",
       "</style>\n",
       "<table border=\"1\" class=\"dataframe\">\n",
       "  <thead>\n",
       "    <tr style=\"text-align: right;\">\n",
       "      <th></th>\n",
       "      <th>price</th>\n",
       "      <th>registration_year</th>\n",
       "      <th>power</th>\n",
       "      <th>kilometer</th>\n",
       "    </tr>\n",
       "  </thead>\n",
       "  <tbody>\n",
       "    <tr>\n",
       "      <th>count</th>\n",
       "      <td>293561.000000</td>\n",
       "      <td>293561.000000</td>\n",
       "      <td>293561.000000</td>\n",
       "      <td>293561.000000</td>\n",
       "    </tr>\n",
       "    <tr>\n",
       "      <th>mean</th>\n",
       "      <td>4811.888292</td>\n",
       "      <td>2002.438042</td>\n",
       "      <td>117.596360</td>\n",
       "      <td>128192.522167</td>\n",
       "    </tr>\n",
       "    <tr>\n",
       "      <th>std</th>\n",
       "      <td>4633.650693</td>\n",
       "      <td>6.418146</td>\n",
       "      <td>176.185971</td>\n",
       "      <td>36935.198823</td>\n",
       "    </tr>\n",
       "    <tr>\n",
       "      <th>min</th>\n",
       "      <td>0.000000</td>\n",
       "      <td>1910.000000</td>\n",
       "      <td>0.000000</td>\n",
       "      <td>5000.000000</td>\n",
       "    </tr>\n",
       "    <tr>\n",
       "      <th>25%</th>\n",
       "      <td>1299.000000</td>\n",
       "      <td>1999.000000</td>\n",
       "      <td>75.000000</td>\n",
       "      <td>125000.000000</td>\n",
       "    </tr>\n",
       "    <tr>\n",
       "      <th>50%</th>\n",
       "      <td>3100.000000</td>\n",
       "      <td>2003.000000</td>\n",
       "      <td>109.000000</td>\n",
       "      <td>150000.000000</td>\n",
       "    </tr>\n",
       "    <tr>\n",
       "      <th>75%</th>\n",
       "      <td>6990.000000</td>\n",
       "      <td>2007.000000</td>\n",
       "      <td>147.000000</td>\n",
       "      <td>150000.000000</td>\n",
       "    </tr>\n",
       "    <tr>\n",
       "      <th>max</th>\n",
       "      <td>20000.000000</td>\n",
       "      <td>2018.000000</td>\n",
       "      <td>20000.000000</td>\n",
       "      <td>150000.000000</td>\n",
       "    </tr>\n",
       "  </tbody>\n",
       "</table>\n",
       "</div>\n",
       "      <button class=\"colab-df-convert\" onclick=\"convertToInteractive('df-9ef6d421-54ba-40c7-8213-dbfcb6b83cfc')\"\n",
       "              title=\"Convert this dataframe to an interactive table.\"\n",
       "              style=\"display:none;\">\n",
       "        \n",
       "  <svg xmlns=\"http://www.w3.org/2000/svg\" height=\"24px\"viewBox=\"0 0 24 24\"\n",
       "       width=\"24px\">\n",
       "    <path d=\"M0 0h24v24H0V0z\" fill=\"none\"/>\n",
       "    <path d=\"M18.56 5.44l.94 2.06.94-2.06 2.06-.94-2.06-.94-.94-2.06-.94 2.06-2.06.94zm-11 1L8.5 8.5l.94-2.06 2.06-.94-2.06-.94L8.5 2.5l-.94 2.06-2.06.94zm10 10l.94 2.06.94-2.06 2.06-.94-2.06-.94-.94-2.06-.94 2.06-2.06.94z\"/><path d=\"M17.41 7.96l-1.37-1.37c-.4-.4-.92-.59-1.43-.59-.52 0-1.04.2-1.43.59L10.3 9.45l-7.72 7.72c-.78.78-.78 2.05 0 2.83L4 21.41c.39.39.9.59 1.41.59.51 0 1.02-.2 1.41-.59l7.78-7.78 2.81-2.81c.8-.78.8-2.07 0-2.86zM5.41 20L4 18.59l7.72-7.72 1.47 1.35L5.41 20z\"/>\n",
       "  </svg>\n",
       "      </button>\n",
       "      \n",
       "  <style>\n",
       "    .colab-df-container {\n",
       "      display:flex;\n",
       "      flex-wrap:wrap;\n",
       "      gap: 12px;\n",
       "    }\n",
       "\n",
       "    .colab-df-convert {\n",
       "      background-color: #E8F0FE;\n",
       "      border: none;\n",
       "      border-radius: 50%;\n",
       "      cursor: pointer;\n",
       "      display: none;\n",
       "      fill: #1967D2;\n",
       "      height: 32px;\n",
       "      padding: 0 0 0 0;\n",
       "      width: 32px;\n",
       "    }\n",
       "\n",
       "    .colab-df-convert:hover {\n",
       "      background-color: #E2EBFA;\n",
       "      box-shadow: 0px 1px 2px rgba(60, 64, 67, 0.3), 0px 1px 3px 1px rgba(60, 64, 67, 0.15);\n",
       "      fill: #174EA6;\n",
       "    }\n",
       "\n",
       "    [theme=dark] .colab-df-convert {\n",
       "      background-color: #3B4455;\n",
       "      fill: #D2E3FC;\n",
       "    }\n",
       "\n",
       "    [theme=dark] .colab-df-convert:hover {\n",
       "      background-color: #434B5C;\n",
       "      box-shadow: 0px 1px 3px 1px rgba(0, 0, 0, 0.15);\n",
       "      filter: drop-shadow(0px 1px 2px rgba(0, 0, 0, 0.3));\n",
       "      fill: #FFFFFF;\n",
       "    }\n",
       "  </style>\n",
       "\n",
       "      <script>\n",
       "        const buttonEl =\n",
       "          document.querySelector('#df-9ef6d421-54ba-40c7-8213-dbfcb6b83cfc button.colab-df-convert');\n",
       "        buttonEl.style.display =\n",
       "          google.colab.kernel.accessAllowed ? 'block' : 'none';\n",
       "\n",
       "        async function convertToInteractive(key) {\n",
       "          const element = document.querySelector('#df-9ef6d421-54ba-40c7-8213-dbfcb6b83cfc');\n",
       "          const dataTable =\n",
       "            await google.colab.kernel.invokeFunction('convertToInteractive',\n",
       "                                                     [key], {});\n",
       "          if (!dataTable) return;\n",
       "\n",
       "          const docLinkHtml = 'Like what you see? Visit the ' +\n",
       "            '<a target=\"_blank\" href=https://colab.research.google.com/notebooks/data_table.ipynb>data table notebook</a>'\n",
       "            + ' to learn more about interactive tables.';\n",
       "          element.innerHTML = '';\n",
       "          dataTable['output_type'] = 'display_data';\n",
       "          await google.colab.output.renderOutput(dataTable, element);\n",
       "          const docLink = document.createElement('div');\n",
       "          docLink.innerHTML = docLinkHtml;\n",
       "          element.appendChild(docLink);\n",
       "        }\n",
       "      </script>\n",
       "    </div>\n",
       "  </div>\n",
       "  "
      ],
      "text/plain": [
       "               price  registration_year          power      kilometer\n",
       "count  293561.000000      293561.000000  293561.000000  293561.000000\n",
       "mean     4811.888292        2002.438042     117.596360  128192.522167\n",
       "std      4633.650693           6.418146     176.185971   36935.198823\n",
       "min         0.000000        1910.000000       0.000000    5000.000000\n",
       "25%      1299.000000        1999.000000      75.000000  125000.000000\n",
       "50%      3100.000000        2003.000000     109.000000  150000.000000\n",
       "75%      6990.000000        2007.000000     147.000000  150000.000000\n",
       "max     20000.000000        2018.000000   20000.000000  150000.000000"
      ]
     },
     "execution_count": 99,
     "metadata": {},
     "output_type": "execute_result"
    }
   ],
   "source": [
    "df.describe()"
   ]
  },
  {
   "cell_type": "code",
   "execution_count": 100,
   "metadata": {
    "colab": {
     "base_uri": "https://localhost:8080/",
     "height": 252
    },
    "id": "aFCS2giwsOrY",
    "outputId": "a50033d6-23ef-4ac9-87f5-de01c07b113d",
    "scrolled": true
   },
   "outputs": [
    {
     "data": {
      "image/png": "[encoded data removed]",
      "text/plain": [
       "<Figure size 432x288 with 1 Axes>"
      ]
     },
     "metadata": {
      "needs_background": "light"
     },
     "output_type": "display_data"
    }
   ],
   "source": [
    "#по цене аномальные значения не наблюдаются\n",
    "sns.boxplot(y = df['price'], color = 'lightblue');"
   ]
  },
  {
   "cell_type": "markdown",
   "metadata": {
    "id": "sug29BPlsOrY"
   },
   "source": [
    "Выгрузка данных происходила в 2016, значит, те данные, где год регистрации автомобиля более 2016 должны быть удалены. Также первый автомобиль появился в 1806 году, поэтому автомобили с датой регистрации ранее, чем в 1806 году будут удалены"
   ]
  },
  {
   "cell_type": "code",
   "execution_count": 101,
   "metadata": {
    "id": "22bO1N-MsOrY"
   },
   "outputs": [],
   "source": [
    "df = df[(df['registration_year']<=2016)&(df['registration_year']>=1806)]"
   ]
  },
  {
   "cell_type": "code",
   "execution_count": 102,
   "metadata": {
    "colab": {
     "base_uri": "https://localhost:8080/",
     "height": 469
    },
    "id": "wiQiA7OasOrY",
    "outputId": "ef524ad5-5606-4d9b-9870-9325462fbea0"
   },
   "outputs": [
    {
     "data": {
      "image/png": "[encoded data removed]",
      "text/plain": [
       "<Figure size 360x576 with 1 Axes>"
      ]
     },
     "metadata": {
      "needs_background": "light"
     },
     "output_type": "display_data"
    }
   ],
   "source": [
    "#год регистраци\n",
    "plt.figure(figsize = (5,8))\n",
    "sns.boxplot(y = df['registration_year'], color = 'lightblue');"
   ]
  },
  {
   "cell_type": "code",
   "execution_count": 103,
   "metadata": {
    "colab": {
     "base_uri": "https://localhost:8080/"
    },
    "id": "h1sFzE7isOrY",
    "outputId": "f880fdb7-ca35-488c-9d2d-1f6d5d00890f",
    "scrolled": true
   },
   "outputs": [
    {
     "name": "stdout",
     "output_type": "stream",
     "text": [
      "87616\n",
      "9053\n",
      "4331\n",
      "2689\n",
      "248\n"
     ]
    }
   ],
   "source": [
    "print((df['registration_year']<=1999).sum())\n",
    "print((df['registration_year']<=1990).sum())\n",
    "print((df['registration_year']<=1985).sum())\n",
    "print((df['registration_year']<=1980).sum())\n",
    "print((df['registration_year']<=1960).sum())"
   ]
  },
  {
   "cell_type": "markdown",
   "metadata": {
    "id": "XLfO46yssOrY"
   },
   "source": [
    "Если наше приложение ориентировано на среднестатистического посетителя сайта по продаже автомобилей, а не коллекционера редких/старых экземпляров, то стоит приблизить распределение года регистрации к тому, которое будет интересовать потенциальног клиента. Предположим, что в 2016 году человек выбирает себе автомобиль для того, чтобы на нем ездить и не часто его чинить. Получается, его будут интересовать автомобили, зарегистрированные максимум 20 лет назад (и то кажется, что это много), поэтому ограничим наш датасет 1990 годом регистрации (если ограничивать его 1999 (Q1), то мы теряем 100 000 наблюдений, что крайне нежелательно)"
   ]
  },
  {
   "cell_type": "code",
   "execution_count": 104,
   "metadata": {
    "colab": {
     "base_uri": "https://localhost:8080/"
    },
    "id": "KbzsE_FesOrY",
    "outputId": "95d26bdd-7df2-4343-ead1-407441315a61"
   },
   "outputs": [
    {
     "data": {
      "text/plain": [
       "(286184, 10)"
      ]
     },
     "execution_count": 104,
     "metadata": {},
     "output_type": "execute_result"
    }
   ],
   "source": [
    "df = df[df['registration_year']>=1990]\n",
    "df.shape"
   ]
  },
  {
   "cell_type": "code",
   "execution_count": 105,
   "metadata": {
    "colab": {
     "base_uri": "https://localhost:8080/",
     "height": 469
    },
    "id": "llMLc68lsOrY",
    "outputId": "fc15d734-9775-48c0-84c9-177bf1bd97ab"
   },
   "outputs": [
    {
     "data": {
      "image/png": "[encoded data removed]",
      "text/plain": [
       "<Figure size 360x576 with 1 Axes>"
      ]
     },
     "metadata": {
      "needs_background": "light"
     },
     "output_type": "display_data"
    }
   ],
   "source": [
    "#лошадиные силы\n",
    "plt.figure(figsize = (5,8))\n",
    "sns.boxplot(y = df['power'], color = 'lightblue');"
   ]
  },
  {
   "cell_type": "code",
   "execution_count": 106,
   "metadata": {
    "colab": {
     "base_uri": "https://localhost:8080/"
    },
    "id": "CG1gaokXsOrY",
    "outputId": "a0f32769-934c-4e78-b9f8-ef784e85356a"
   },
   "outputs": [
    {
     "data": {
      "text/plain": [
       "603"
      ]
     },
     "execution_count": 106,
     "metadata": {},
     "output_type": "execute_result"
    }
   ],
   "source": [
    "(df['power']>=400).sum()"
   ]
  },
  {
   "cell_type": "code",
   "execution_count": 107,
   "metadata": {
    "id": "c_O-ucP-sOrY"
   },
   "outputs": [],
   "source": [
    "df = df[df['power']<=400]"
   ]
  },
  {
   "cell_type": "code",
   "execution_count": 108,
   "metadata": {
    "colab": {
     "base_uri": "https://localhost:8080/",
     "height": 469
    },
    "id": "CaMrvX5LsOrZ",
    "outputId": "b2023690-dcd7-4fab-e3d0-7174926abced"
   },
   "outputs": [
    {
     "data": {
      "image/png": "[encoded data removed]",
      "text/plain": [
       "<Figure size 360x576 with 1 Axes>"
      ]
     },
     "metadata": {
      "needs_background": "light"
     },
     "output_type": "display_data"
    }
   ],
   "source": [
    "#лошадиные силы\n",
    "plt.figure(figsize = (5,8))\n",
    "sns.boxplot(y = df['power'], color = 'lightblue');"
   ]
  },
  {
   "cell_type": "code",
   "execution_count": 109,
   "metadata": {
    "colab": {
     "base_uri": "https://localhost:8080/",
     "height": 469
    },
    "id": "Igm2-JfGsOrZ",
    "outputId": "cb841950-edb5-413b-deab-358b9656ff70"
   },
   "outputs": [
    {
     "data": {
      "image/png": "[encoded data removed]",
      "text/plain": [
       "<Figure size 360x576 with 1 Axes>"
      ]
     },
     "metadata": {
      "needs_background": "light"
     },
     "output_type": "display_data"
    }
   ],
   "source": [
    "#пробег\n",
    "plt.figure(figsize = (5,8))\n",
    "sns.boxplot(y = df['kilometer'], color = 'lightblue');\n"
   ]
  },
  {
   "cell_type": "code",
   "execution_count": 110,
   "metadata": {
    "colab": {
     "base_uri": "https://localhost:8080/"
    },
    "id": "HAy7JpkbsOrZ",
    "outputId": "d96f2208-2fe5-42af-8082-eb863e04d3e4"
   },
   "outputs": [
    {
     "data": {
      "text/plain": [
       "0.11853262658161372"
      ]
     },
     "execution_count": 110,
     "metadata": {},
     "output_type": "execute_result"
    }
   ],
   "source": [
    "(df['kilometer']<80000).sum()/df.shape[0]"
   ]
  },
  {
   "cell_type": "markdown",
   "metadata": {
    "id": "JJu11BVssOrZ"
   },
   "source": [
    "Выбросы по переменной пробега решено было не удалять, поскольку их доля значительна. Если итоговая модель получится неудовлетворительной, мы сможем вернуться к этой переменной и попробовать почистить ее от выбросов"
   ]
  },
  {
   "cell_type": "code",
   "execution_count": 111,
   "metadata": {
    "colab": {
     "base_uri": "https://localhost:8080/"
    },
    "id": "weWSit_EsOrZ",
    "outputId": "2a7e6d09-b569-4ece-82a4-d1a3f51c6396",
    "scrolled": true
   },
   "outputs": [
    {
     "name": "stdout",
     "output_type": "stream",
     "text": [
      "<class 'pandas.core.frame.DataFrame'>\n",
      "Int64Index: 285626 entries, 1 to 354368\n",
      "Data columns (total 10 columns):\n",
      " #   Column             Non-Null Count   Dtype \n",
      "---  ------             --------------   ----- \n",
      " 0   price              285626 non-null  int64 \n",
      " 1   vehicle_type       285626 non-null  object\n",
      " 2   registration_year  285626 non-null  int64 \n",
      " 3   gearbox            285626 non-null  object\n",
      " 4   power              285626 non-null  int64 \n",
      " 5   model              285626 non-null  object\n",
      " 6   kilometer          285626 non-null  int64 \n",
      " 7   fuel_type          285626 non-null  object\n",
      " 8   brand              285626 non-null  object\n",
      " 9   repaired           285626 non-null  object\n",
      "dtypes: int64(4), object(6)\n",
      "memory usage: 24.0+ MB\n"
     ]
    }
   ],
   "source": [
    "df.info()"
   ]
  },
  {
   "cell_type": "code",
   "execution_count": 112,
   "metadata": {
    "colab": {
     "base_uri": "https://localhost:8080/",
     "height": 297
    },
    "id": "c2ZB3fYSsOrZ",
    "outputId": "3f5426eb-cdd8-4107-a6d6-a3d51bd74646"
   },
   "outputs": [
    {
     "data": {
      "text/plain": [
       "<Axes: xlabel='repaired', ylabel='count'>"
      ]
     },
     "execution_count": 112,
     "metadata": {},
     "output_type": "execute_result"
    },
    {
     "data": {
      "image/png": "[encoded data removed]",
      "text/plain": [
       "<Figure size 432x288 with 1 Axes>"
      ]
     },
     "metadata": {
      "needs_background": "light"
     },
     "output_type": "display_data"
    }
   ],
   "source": [
    "sns.countplot(x = 'repaired', data = df, palette = 'Pastel1')"
   ]
  },
  {
   "cell_type": "code",
   "execution_count": 113,
   "metadata": {
    "colab": {
     "base_uri": "https://localhost:8080/",
     "height": 297
    },
    "id": "0qEKbA6csOrZ",
    "outputId": "9bdbfda1-269a-4485-c068-56fc66d75d4d"
   },
   "outputs": [
    {
     "data": {
      "text/plain": [
       "<Axes: xlabel='gearbox', ylabel='count'>"
      ]
     },
     "execution_count": 113,
     "metadata": {},
     "output_type": "execute_result"
    },
    {
     "data": {
      "image/png": "[encoded data removed]",
      "text/plain": [
       "<Figure size 432x288 with 1 Axes>"
      ]
     },
     "metadata": {
      "needs_background": "light"
     },
     "output_type": "display_data"
    }
   ],
   "source": [
    "sns.countplot(x = 'gearbox', data = df, palette = 'Pastel1')"
   ]
  },
  {
   "cell_type": "code",
   "execution_count": 114,
   "metadata": {
    "colab": {
     "base_uri": "https://localhost:8080/",
     "height": 335
    },
    "id": "rJn1d1VMsOrZ",
    "outputId": "89a52e28-088a-47bd-c6c8-8fda11e0ad85"
   },
   "outputs": [
    {
     "data": {
      "image/png": "[encoded data removed]",
      "text/plain": [
       "<Figure size 720x360 with 1 Axes>"
      ]
     },
     "metadata": {
      "needs_background": "light"
     },
     "output_type": "display_data"
    }
   ],
   "source": [
    "plt.figure(figsize = (10,5))\n",
    "sns.countplot(x = 'fuel_type', data = df, palette = 'Pastel1');"
   ]
  },
  {
   "cell_type": "code",
   "execution_count": 115,
   "metadata": {
    "colab": {
     "base_uri": "https://localhost:8080/"
    },
    "id": "LoYd2fzcsOrZ",
    "outputId": "dac5dcc3-f19d-4cc5-877c-a8e967c0fd66"
   },
   "outputs": [
    {
     "data": {
      "text/plain": [
       "petrol      189831\n",
       "gasoline     90113\n",
       "lpg           4809\n",
       "cng            501\n",
       "hybrid         213\n",
       "other           84\n",
       "electric        75\n",
       "Name: fuel_type, dtype: int64"
      ]
     },
     "execution_count": 115,
     "metadata": {},
     "output_type": "execute_result"
    }
   ],
   "source": [
    "df['fuel_type'].value_counts()"
   ]
  },
  {
   "cell_type": "code",
   "execution_count": 116,
   "metadata": {
    "id": "JiNMLLrdsOrZ"
   },
   "outputs": [],
   "source": [
    "#заменим мало наполненные категории на 'other'\n",
    "df['fuel_type'] = df['fuel_type'].replace(['lpg', 'cng', 'hybrid', 'electric'], 'other')"
   ]
  },
  {
   "cell_type": "code",
   "execution_count": 117,
   "metadata": {
    "colab": {
     "base_uri": "https://localhost:8080/",
     "height": 335
    },
    "id": "IkbpDgrpsOrZ",
    "outputId": "542c0681-4ce7-4f49-fbf7-d024c30e4b56"
   },
   "outputs": [
    {
     "data": {
      "image/png": "[encoded data removed]",
      "text/plain": [
       "<Figure size 720x360 with 1 Axes>"
      ]
     },
     "metadata": {
      "needs_background": "light"
     },
     "output_type": "display_data"
    }
   ],
   "source": [
    "plt.figure(figsize = (10,5))\n",
    "sns.countplot(x = 'fuel_type', data = df, palette = 'Pastel1');"
   ]
  },
  {
   "cell_type": "code",
   "execution_count": 118,
   "metadata": {
    "colab": {
     "base_uri": "https://localhost:8080/",
     "height": 335
    },
    "id": "jEy9HEo0sOrZ",
    "outputId": "a641fa5a-4def-4ce1-b6af-9a4b88c27c4f"
   },
   "outputs": [
    {
     "data": {
      "image/png": "[encoded data removed]",
      "text/plain": [
       "<Figure size 720x360 with 1 Axes>"
      ]
     },
     "metadata": {
      "needs_background": "light"
     },
     "output_type": "display_data"
    }
   ],
   "source": [
    "plt.figure(figsize = (10,5))\n",
    "sns.countplot(x = 'vehicle_type', data = df, palette = 'Pastel1');"
   ]
  },
  {
   "cell_type": "code",
   "execution_count": 119,
   "metadata": {
    "colab": {
     "base_uri": "https://localhost:8080/",
     "height": 606
    },
    "id": "mGe8puhEsOrZ",
    "outputId": "787f1664-45f4-4084-fd56-f0e5da5a2611"
   },
   "outputs": [
    {
     "data": {
      "image/png": "[encoded data removed]",
      "text/plain": [
       "<Figure size 1440x720 with 1 Axes>"
      ]
     },
     "metadata": {
      "needs_background": "light"
     },
     "output_type": "display_data"
    }
   ],
   "source": [
    "plt.figure(figsize = (20,10))\n",
    "sns.countplot(x = 'brand', data = df, palette = 'Pastel1');"
   ]
  },
  {
   "cell_type": "code",
   "execution_count": 120,
   "metadata": {
    "colab": {
     "base_uri": "https://localhost:8080/"
    },
    "id": "HMTWXHbXsOrZ",
    "outputId": "820fe14e-4062-45f6-eec8-17d6e8db2415"
   },
   "outputs": [
    {
     "name": "stdout",
     "output_type": "stream",
     "text": [
      "40\n"
     ]
    },
    {
     "data": {
      "text/plain": [
       "jaguar     421\n",
       "rover      357\n",
       "lancia     346\n",
       "lada       146\n",
       "trabant     36\n",
       "Name: brand, dtype: int64"
      ]
     },
     "execution_count": 120,
     "metadata": {},
     "output_type": "execute_result"
    }
   ],
   "source": [
    "print(len(df['brand'].unique()))\n",
    "df['brand'].value_counts().tail()"
   ]
  },
  {
   "cell_type": "code",
   "execution_count": 121,
   "metadata": {
    "colab": {
     "base_uri": "https://localhost:8080/"
    },
    "id": "nW6Rz7qCsOrZ",
    "outputId": "38843051-f97f-4383-8fac-d9c819e481ca"
   },
   "outputs": [
    {
     "name": "stdout",
     "output_type": "stream",
     "text": [
      "248\n"
     ]
    },
    {
     "data": {
      "text/plain": [
       "range_rover_sport     53\n",
       "nubira                50\n",
       "911                   44\n",
       "lybra                 43\n",
       "move                  43\n",
       "90                    39\n",
       "v60                   39\n",
       "croma                 35\n",
       "lodgy                 34\n",
       "145                   34\n",
       "terios                33\n",
       "kaefer                26\n",
       "b_max                 24\n",
       "delta                 22\n",
       "9000                  22\n",
       "601                   21\n",
       "musa                  20\n",
       "materia               18\n",
       "charade               15\n",
       "amarok                15\n",
       "q3                    14\n",
       "kappa                 13\n",
       "gl                    12\n",
       "samara                 7\n",
       "elefantino             7\n",
       "kalina                 6\n",
       "i3                     6\n",
       "rangerover             3\n",
       "200                    3\n",
       "range_rover_evoque     2\n",
       "Name: model, dtype: int64"
      ]
     },
     "execution_count": 121,
     "metadata": {},
     "output_type": "execute_result"
    }
   ],
   "source": [
    "print(len(df['model'].unique()))\n",
    "df['model'].value_counts().tail(30)"
   ]
  },
  {
   "cell_type": "markdown",
   "metadata": {
    "id": "jYpNHYhBsOrZ"
   },
   "source": [
    "## Обучение моделей"
   ]
  },
  {
   "cell_type": "code",
   "execution_count": 123,
   "metadata": {
    "id": "5dC9JFb_x7G4"
   },
   "outputs": [],
   "source": [
    "for feature in df.columns: # цикл по всем колонкас\n",
    "    if df[feature].dtype == 'object': # применять только к object столбцам\n",
    "        df[feature] = pd.Categorical(df[feature]).codes # строки меняем на целые"
   ]
  },
  {
   "cell_type": "code",
   "execution_count": 124,
   "metadata": {
    "colab": {
     "base_uri": "https://localhost:8080/"
    },
    "id": "stu_s0g5x7G4",
    "outputId": "cccb653b-612d-4908-ab0d-29ccca8b66e9"
   },
   "outputs": [
    {
     "name": "stdout",
     "output_type": "stream",
     "text": [
      "<class 'pandas.core.frame.DataFrame'>\n",
      "Int64Index: 285626 entries, 1 to 354368\n",
      "Data columns (total 10 columns):\n",
      " #   Column             Non-Null Count   Dtype\n",
      "---  ------             --------------   -----\n",
      " 0   price              285626 non-null  int64\n",
      " 1   vehicle_type       285626 non-null  int8 \n",
      " 2   registration_year  285626 non-null  int64\n",
      " 3   gearbox            285626 non-null  int8 \n",
      " 4   power              285626 non-null  int64\n",
      " 5   model              285626 non-null  int16\n",
      " 6   kilometer          285626 non-null  int64\n",
      " 7   fuel_type          285626 non-null  int8 \n",
      " 8   brand              285626 non-null  int8 \n",
      " 9   repaired           285626 non-null  int8 \n",
      "dtypes: int16(1), int64(4), int8(5)\n",
      "memory usage: 12.8 MB\n"
     ]
    }
   ],
   "source": [
    "df.info()"
   ]
  },
  {
   "cell_type": "code",
   "execution_count": 125,
   "metadata": {
    "id": "9acto1WDsOrZ"
   },
   "outputs": [],
   "source": [
    "features_train, features_valid, target_train, target_valid = train_test_split(\n",
    "    df.drop('price', axis=1), df.price, test_size=0.4, random_state=12345) "
   ]
  },
  {
   "cell_type": "code",
   "execution_count": 126,
   "metadata": {
    "id": "05mF2nn9x7G4"
   },
   "outputs": [],
   "source": [
    "features_valid, features_test, target_valid, target_test = train_test_split(\n",
    "    features_valid, target_valid, test_size=0.5, random_state=12345) "
   ]
  },
  {
   "cell_type": "code",
   "execution_count": 127,
   "metadata": {
    "colab": {
     "base_uri": "https://localhost:8080/"
    },
    "id": "NnjfGUMJx7G4",
    "outputId": "118ee4c6-cb4b-4aaa-a39b-1de866548b96"
   },
   "outputs": [
    {
     "name": "stdout",
     "output_type": "stream",
     "text": [
      "(171375, 9)\n",
      "(171375,)\n",
      "(57125, 9)\n",
      "(57125,)\n",
      "(57126, 9)\n",
      "(57126,)\n"
     ]
    }
   ],
   "source": [
    "print(features_train.shape)\n",
    "print(target_train.shape)\n",
    "print(features_valid.shape)\n",
    "print(target_valid.shape)\n",
    "print(features_test.shape)\n",
    "print(target_test.shape)"
   ]
  },
  {
   "cell_type": "markdown",
   "metadata": {
    "id": "fJap3JYDsOrZ"
   },
   "source": [
    "### CatBoost"
   ]
  },
  {
   "cell_type": "code",
   "execution_count": 128,
   "metadata": {
    "colab": {
     "base_uri": "https://localhost:8080/"
    },
    "id": "Abf62KiasOrZ",
    "outputId": "63bbc4c9-51df-492d-ba69-05477b1ec963"
   },
   "outputs": [
    {
     "data": {
      "text/plain": [
       "price                0\n",
       "vehicle_type         0\n",
       "registration_year    0\n",
       "gearbox              0\n",
       "power                0\n",
       "model                0\n",
       "kilometer            0\n",
       "fuel_type            0\n",
       "brand                0\n",
       "repaired             0\n",
       "dtype: int64"
      ]
     },
     "execution_count": 128,
     "metadata": {},
     "output_type": "execute_result"
    }
   ],
   "source": [
    "df.isnull().sum()"
   ]
  },
  {
   "cell_type": "code",
   "execution_count": 129,
   "metadata": {
    "id": "6giwI6WbsOrZ"
   },
   "outputs": [],
   "source": [
    "cat_features = ['vehicle_type', 'gearbox', 'model','fuel_type',\n",
    "                'brand', 'repaired']"
   ]
  },
  {
   "cell_type": "code",
   "execution_count": 130,
   "metadata": {
    "colab": {
     "base_uri": "https://localhost:8080/",
     "height": 338,
     "referenced_widgets": [
      "77cd2f87359f42ae8d95e9795099a626"
     ]
    },
    "id": "L1ELVclvx7G4",
    "outputId": "61c261f1-ab57-42b2-e81e-f1c8ffc97f1d"
   },
   "outputs": [
    {
     "data": {
      "application/vnd.jupyter.widget-view+json": {
       "model_id": "77cd2f87359f42ae8d95e9795099a626",
       "version_major": 2,
       "version_minor": 0
      },
      "text/plain": [
       "MetricVisualizer(layout=Layout(align_self='stretch', height='500px'))"
      ]
     },
     "metadata": {},
     "output_type": "display_data"
    },
    {
     "name": "stdout",
     "output_type": "stream",
     "text": [
      "0:\tlearn: 4457.7365019\ttest: 4458.9672215\tbest: 4458.9672215 (0)\ttotal: 200ms\tremaining: 3m 20s\n",
      "100:\tlearn: 1836.7980377\ttest: 1845.7139168\tbest: 1845.7139168 (100)\ttotal: 16.6s\tremaining: 2m 27s\n",
      "200:\tlearn: 1747.1850147\ttest: 1762.5350004\tbest: 1762.5350004 (200)\ttotal: 32s\tremaining: 2m 7s\n",
      "300:\tlearn: 1701.5472019\ttest: 1722.6245290\tbest: 1722.6245290 (300)\ttotal: 50.7s\tremaining: 1m 57s\n",
      "400:\tlearn: 1674.1322739\ttest: 1699.2225316\tbest: 1699.2225316 (400)\ttotal: 1m 6s\tremaining: 1m 38s\n",
      "500:\tlearn: 1655.5459541\ttest: 1684.3657267\tbest: 1684.3657267 (500)\ttotal: 1m 21s\tremaining: 1m 20s\n",
      "600:\tlearn: 1640.5167178\ttest: 1672.3464139\tbest: 1672.3464139 (600)\ttotal: 1m 36s\tremaining: 1m 4s\n",
      "700:\tlearn: 1627.8901943\ttest: 1663.2732233\tbest: 1663.2732233 (700)\ttotal: 1m 52s\tremaining: 47.8s\n",
      "800:\tlearn: 1616.4652718\ttest: 1655.5702494\tbest: 1655.5702494 (800)\ttotal: 2m 10s\tremaining: 32.4s\n",
      "900:\tlearn: 1606.1263303\ttest: 1648.5960715\tbest: 1648.5960715 (900)\ttotal: 2m 26s\tremaining: 16.1s\n",
      "999:\tlearn: 1597.5110550\ttest: 1643.0434811\tbest: 1643.0434811 (999)\ttotal: 2m 42s\tremaining: 0us\n",
      "\n",
      "bestTest = 1643.043481\n",
      "bestIteration = 999\n",
      "\n",
      "CPU times: user 4min 21s, sys: 3.4 s, total: 4min 24s\n",
      "Wall time: 2min 43s\n"
     ]
    },
    {
     "data": {
      "text/plain": [
       "<catboost.core.CatBoostRegressor at 0x7fa1156d76a0>"
      ]
     },
     "execution_count": 130,
     "metadata": {},
     "output_type": "execute_result"
    }
   ],
   "source": [
    "%%time\n",
    "rf = CatBoostRegressor(cat_features = ['vehicle_type', 'gearbox', 'model','fuel_type',\n",
    "                'brand', 'repaired'], eval_metric=\"RMSE\", learning_rate=0.05, iterations=1000, verbose=100\n",
    ")\n",
    "rf.fit(features_train, target_train, plot=True, eval_set=(features_valid, target_valid))"
   ]
  },
  {
   "cell_type": "code",
   "execution_count": 131,
   "metadata": {
    "colab": {
     "base_uri": "https://localhost:8080/"
    },
    "id": "fJHqrV5yx7G5",
    "outputId": "cd4a1d10-56f9-4992-9197-2f3416d5231a"
   },
   "outputs": [
    {
     "name": "stdout",
     "output_type": "stream",
     "text": [
      "CPU times: user 517 ms, sys: 21.9 ms, total: 539 ms\n",
      "Wall time: 330 ms\n"
     ]
    }
   ],
   "source": [
    "%%time\n",
    "pred_rf = rf.predict(features_test)"
   ]
  },
  {
   "cell_type": "code",
   "execution_count": 132,
   "metadata": {
    "colab": {
     "base_uri": "https://localhost:8080/"
    },
    "id": "MDwvosXgsOra",
    "outputId": "21352229-b351-47bf-8cf8-7ac7c7d80322",
    "scrolled": true
   },
   "outputs": [
    {
     "data": {
      "text/plain": [
       "1641.1660569521412"
      ]
     },
     "execution_count": 132,
     "metadata": {},
     "output_type": "execute_result"
    }
   ],
   "source": [
    "np.sqrt(mean_squared_error(target_test,pred_rf))"
   ]
  },
  {
   "cell_type": "code",
   "execution_count": 133,
   "metadata": {
    "colab": {
     "base_uri": "https://localhost:8080/",
     "height": 297
    },
    "id": "dOrSI4tCsOra",
    "outputId": "33974231-ff08-4d41-9b5e-9a7584e20a20"
   },
   "outputs": [
    {
     "data": {
      "text/plain": [
       "Text(0.5, 0, 'CatBoost Feature Importance')"
      ]
     },
     "execution_count": 133,
     "metadata": {},
     "output_type": "execute_result"
    },
    {
     "data": {
      "image/png": "[encoded data removed]",
      "text/plain": [
       "<Figure size 432x288 with 1 Axes>"
      ]
     },
     "metadata": {
      "needs_background": "light"
     },
     "output_type": "display_data"
    }
   ],
   "source": [
    "sorted_feature_importance = rf.feature_importances_.argsort()\n",
    "plt.barh(features_train.columns[sorted_feature_importance], \n",
    "        rf.feature_importances_[sorted_feature_importance], \n",
    "        color='lightblue')\n",
    "plt.xlabel(\"CatBoost Feature Importance\")"
   ]
  },
  {
   "cell_type": "markdown",
   "metadata": {
    "id": "Eia-F0gJsOra"
   },
   "source": [
    "### Lightgbm"
   ]
  },
  {
   "cell_type": "code",
   "execution_count": 169,
   "metadata": {
    "id": "x8gBh3gW2_Cq"
   },
   "outputs": [],
   "source": [
    "param_grid = {'learning_rate': [0.05,0.08],\n",
    "              'n_estimators': [1000,2000],\n",
    "              'max_depth': [5, 10]}"
   ]
  },
  {
   "cell_type": "code",
   "execution_count": 170,
   "metadata": {
    "id": "0X5tuacI3Qmv"
   },
   "outputs": [],
   "source": [
    "estimator = lightgbm.LGBMRegressor(objective='regression', random_state=12345)"
   ]
  },
  {
   "cell_type": "code",
   "execution_count": 171,
   "metadata": {
    "colab": {
     "base_uri": "https://localhost:8080/",
     "height": 153
    },
    "id": "VRTqFT__3U-1",
    "outputId": "7c527880-69b7-46a2-b3fb-b4c042ca72fb"
   },
   "outputs": [
    {
     "name": "stdout",
     "output_type": "stream",
     "text": [
      "CPU times: user 29 s, sys: 662 ms, total: 29.7 s\n",
      "Wall time: 6min 12s\n"
     ]
    },
    {
     "data": {
      "text/html": [
       "<style>#sk-container-id-4 {color: black;background-color: white;}#sk-container-id-4 pre{padding: 0;}#sk-container-id-4 div.sk-toggleable {background-color: white;}#sk-container-id-4 label.sk-toggleable__label {cursor: pointer;display: block;width: 100%;margin-bottom: 0;padding: 0.3em;box-sizing: border-box;text-align: center;}#sk-container-id-4 label.sk-toggleable__label-arrow:before {content: \"▸\";float: left;margin-right: 0.25em;color: #696969;}#sk-container-id-4 label.sk-toggleable__label-arrow:hover:before {color: black;}#sk-container-id-4 div.sk-estimator:hover label.sk-toggleable__label-arrow:before {color: black;}#sk-container-id-4 div.sk-toggleable__content {max-height: 0;max-width: 0;overflow: hidden;text-align: left;background-color: #f0f8ff;}#sk-container-id-4 div.sk-toggleable__content pre {margin: 0.2em;color: black;border-radius: 0.25em;background-color: #f0f8ff;}#sk-container-id-4 input.sk-toggleable__control:checked~div.sk-toggleable__content {max-height: 200px;max-width: 100%;overflow: auto;}#sk-container-id-4 input.sk-toggleable__control:checked~label.sk-toggleable__label-arrow:before {content: \"▾\";}#sk-container-id-4 div.sk-estimator input.sk-toggleable__control:checked~label.sk-toggleable__label {background-color: #d4ebff;}#sk-container-id-4 div.sk-label input.sk-toggleable__control:checked~label.sk-toggleable__label {background-color: #d4ebff;}#sk-container-id-4 input.sk-hidden--visually {border: 0;clip: rect(1px 1px 1px 1px);clip: rect(1px, 1px, 1px, 1px);height: 1px;margin: -1px;overflow: hidden;padding: 0;position: absolute;width: 1px;}#sk-container-id-4 div.sk-estimator {font-family: monospace;background-color: #f0f8ff;border: 1px dotted black;border-radius: 0.25em;box-sizing: border-box;margin-bottom: 0.5em;}#sk-container-id-4 div.sk-estimator:hover {background-color: #d4ebff;}#sk-container-id-4 div.sk-parallel-item::after {content: \"\";width: 100%;border-bottom: 1px solid gray;flex-grow: 1;}#sk-container-id-4 div.sk-label:hover label.sk-toggleable__label {background-color: #d4ebff;}#sk-container-id-4 div.sk-serial::before {content: \"\";position: absolute;border-left: 1px solid gray;box-sizing: border-box;top: 0;bottom: 0;left: 50%;z-index: 0;}#sk-container-id-4 div.sk-serial {display: flex;flex-direction: column;align-items: center;background-color: white;padding-right: 0.2em;padding-left: 0.2em;position: relative;}#sk-container-id-4 div.sk-item {position: relative;z-index: 1;}#sk-container-id-4 div.sk-parallel {display: flex;align-items: stretch;justify-content: center;background-color: white;position: relative;}#sk-container-id-4 div.sk-item::before, #sk-container-id-4 div.sk-parallel-item::before {content: \"\";position: absolute;border-left: 1px solid gray;box-sizing: border-box;top: 0;bottom: 0;left: 50%;z-index: -1;}#sk-container-id-4 div.sk-parallel-item {display: flex;flex-direction: column;z-index: 1;position: relative;background-color: white;}#sk-container-id-4 div.sk-parallel-item:first-child::after {align-self: flex-end;width: 50%;}#sk-container-id-4 div.sk-parallel-item:last-child::after {align-self: flex-start;width: 50%;}#sk-container-id-4 div.sk-parallel-item:only-child::after {width: 0;}#sk-container-id-4 div.sk-dashed-wrapped {border: 1px dashed gray;margin: 0 0.4em 0.5em 0.4em;box-sizing: border-box;padding-bottom: 0.4em;background-color: white;}#sk-container-id-4 div.sk-label label {font-family: monospace;font-weight: bold;display: inline-block;line-height: 1.2em;}#sk-container-id-4 div.sk-label-container {text-align: center;}#sk-container-id-4 div.sk-container {/* jupyter's `normalize.less` sets `[hidden] { display: none; }` but bootstrap.min.css set `[hidden] { display: none !important; }` so we also need the `!important` here to be able to override the default hidden behavior on the sphinx rendered scikit-learn.org. See: https://github.com/scikit-learn/scikit-learn/issues/21755 */display: inline-block !important;position: relative;}#sk-container-id-4 div.sk-text-repr-fallback {display: none;}</style><div id=\"sk-container-id-4\" class=\"sk-top-container\"><div class=\"sk-text-repr-fallback\"><pre>GridSearchCV(cv=3,\n",
       "             estimator=LGBMRegressor(objective=&#x27;regression&#x27;,\n",
       "                                     random_state=12345),\n",
       "             n_jobs=-1,\n",
       "             param_grid={&#x27;learning_rate&#x27;: [0.05, 0.08], &#x27;max_depth&#x27;: [5, 10],\n",
       "                         &#x27;n_estimators&#x27;: [1000, 2000]},\n",
       "             scoring=&#x27;neg_root_mean_squared_error&#x27;)</pre><b>In a Jupyter environment, please rerun this cell to show the HTML representation or trust the notebook. <br />On GitHub, the HTML representation is unable to render, please try loading this page with nbviewer.org.</b></div><div class=\"sk-container\" hidden><div class=\"sk-item sk-dashed-wrapped\"><div class=\"sk-label-container\"><div class=\"sk-label sk-toggleable\"><input class=\"sk-toggleable__control sk-hidden--visually\" id=\"sk-estimator-id-6\" type=\"checkbox\" ><label for=\"sk-estimator-id-6\" class=\"sk-toggleable__label sk-toggleable__label-arrow\">GridSearchCV</label><div class=\"sk-toggleable__content\"><pre>GridSearchCV(cv=3,\n",
       "             estimator=LGBMRegressor(objective=&#x27;regression&#x27;,\n",
       "                                     random_state=12345),\n",
       "             n_jobs=-1,\n",
       "             param_grid={&#x27;learning_rate&#x27;: [0.05, 0.08], &#x27;max_depth&#x27;: [5, 10],\n",
       "                         &#x27;n_estimators&#x27;: [1000, 2000]},\n",
       "             scoring=&#x27;neg_root_mean_squared_error&#x27;)</pre></div></div></div><div class=\"sk-parallel\"><div class=\"sk-parallel-item\"><div class=\"sk-item\"><div class=\"sk-label-container\"><div class=\"sk-label sk-toggleable\"><input class=\"sk-toggleable__control sk-hidden--visually\" id=\"sk-estimator-id-7\" type=\"checkbox\" ><label for=\"sk-estimator-id-7\" class=\"sk-toggleable__label sk-toggleable__label-arrow\">estimator: LGBMRegressor</label><div class=\"sk-toggleable__content\"><pre>LGBMRegressor(objective=&#x27;regression&#x27;, random_state=12345)</pre></div></div></div><div class=\"sk-serial\"><div class=\"sk-item\"><div class=\"sk-estimator sk-toggleable\"><input class=\"sk-toggleable__control sk-hidden--visually\" id=\"sk-estimator-id-8\" type=\"checkbox\" ><label for=\"sk-estimator-id-8\" class=\"sk-toggleable__label sk-toggleable__label-arrow\">LGBMRegressor</label><div class=\"sk-toggleable__content\"><pre>LGBMRegressor(objective=&#x27;regression&#x27;, random_state=12345)</pre></div></div></div></div></div></div></div></div></div></div>"
      ],
      "text/plain": [
       "GridSearchCV(cv=3,\n",
       "             estimator=LGBMRegressor(objective='regression',\n",
       "                                     random_state=12345),\n",
       "             n_jobs=-1,\n",
       "             param_grid={'learning_rate': [0.05, 0.08], 'max_depth': [5, 10],\n",
       "                         'n_estimators': [1000, 2000]},\n",
       "             scoring='neg_root_mean_squared_error')"
      ]
     },
     "execution_count": 171,
     "metadata": {},
     "output_type": "execute_result"
    }
   ],
   "source": [
    "%%time\n",
    "model = GridSearchCV(estimator=estimator, \n",
    "                     param_grid=param_grid,\n",
    "                     cv=3,\n",
    "                     n_jobs=-1, \n",
    "                     scoring='neg_root_mean_squared_error')\n",
    "model.fit(features_train, target_train)"
   ]
  },
  {
   "cell_type": "code",
   "execution_count": 174,
   "metadata": {
    "colab": {
     "base_uri": "https://localhost:8080/"
    },
    "id": "W2bclZ5Y3dWY",
    "outputId": "bfb65c7f-3e51-40ca-f49f-2127b5f0ea23"
   },
   "outputs": [
    {
     "name": "stdout",
     "output_type": "stream",
     "text": [
      "LGBMRegressor(learning_rate=0.08, max_depth=10, n_estimators=2000,\n",
      "              objective='regression', random_state=12345)\n"
     ]
    }
   ],
   "source": [
    "best_params = model.best_estimator_\n",
    "print(best_params)"
   ]
  },
  {
   "cell_type": "code",
   "execution_count": 175,
   "metadata": {
    "id": "tNRlMpSI3f3N"
   },
   "outputs": [],
   "source": [
    "features = features_train.columns\n",
    "importance_values = model.best_estimator_.feature_importances_"
   ]
  },
  {
   "cell_type": "code",
   "execution_count": 176,
   "metadata": {
    "colab": {
     "base_uri": "https://localhost:8080/",
     "height": 265
    },
    "id": "ydHfh7XH3jwf",
    "outputId": "7d6858f4-b6e9-46d2-f5c1-3e71ea0684bd"
   },
   "outputs": [
    {
     "data": {
      "image/png": "[encoded data removed]",
      "text/plain": [
       "<Figure size 432x288 with 1 Axes>"
      ]
     },
     "metadata": {
      "needs_background": "light"
     },
     "output_type": "display_data"
    }
   ],
   "source": [
    "plt.barh(y=range(len(features)),\n",
    "         width=importance_values,\n",
    "         tick_label=features)\n",
    "plt.show()"
   ]
  },
  {
   "cell_type": "code",
   "execution_count": 179,
   "metadata": {
    "colab": {
     "base_uri": "https://localhost:8080/",
     "height": 128
    },
    "id": "F59tVgcHDssS",
    "outputId": "a29a6a78-446a-4781-b6d4-eeec0dba865a"
   },
   "outputs": [
    {
     "name": "stdout",
     "output_type": "stream",
     "text": [
      "CPU times: user 30.6 s, sys: 284 ms, total: 30.8 s\n",
      "Wall time: 19.2 s\n"
     ]
    },
    {
     "data": {
      "text/html": [
       "<style>#sk-container-id-5 {color: black;background-color: white;}#sk-container-id-5 pre{padding: 0;}#sk-container-id-5 div.sk-toggleable {background-color: white;}#sk-container-id-5 label.sk-toggleable__label {cursor: pointer;display: block;width: 100%;margin-bottom: 0;padding: 0.3em;box-sizing: border-box;text-align: center;}#sk-container-id-5 label.sk-toggleable__label-arrow:before {content: \"▸\";float: left;margin-right: 0.25em;color: #696969;}#sk-container-id-5 label.sk-toggleable__label-arrow:hover:before {color: black;}#sk-container-id-5 div.sk-estimator:hover label.sk-toggleable__label-arrow:before {color: black;}#sk-container-id-5 div.sk-toggleable__content {max-height: 0;max-width: 0;overflow: hidden;text-align: left;background-color: #f0f8ff;}#sk-container-id-5 div.sk-toggleable__content pre {margin: 0.2em;color: black;border-radius: 0.25em;background-color: #f0f8ff;}#sk-container-id-5 input.sk-toggleable__control:checked~div.sk-toggleable__content {max-height: 200px;max-width: 100%;overflow: auto;}#sk-container-id-5 input.sk-toggleable__control:checked~label.sk-toggleable__label-arrow:before {content: \"▾\";}#sk-container-id-5 div.sk-estimator input.sk-toggleable__control:checked~label.sk-toggleable__label {background-color: #d4ebff;}#sk-container-id-5 div.sk-label input.sk-toggleable__control:checked~label.sk-toggleable__label {background-color: #d4ebff;}#sk-container-id-5 input.sk-hidden--visually {border: 0;clip: rect(1px 1px 1px 1px);clip: rect(1px, 1px, 1px, 1px);height: 1px;margin: -1px;overflow: hidden;padding: 0;position: absolute;width: 1px;}#sk-container-id-5 div.sk-estimator {font-family: monospace;background-color: #f0f8ff;border: 1px dotted black;border-radius: 0.25em;box-sizing: border-box;margin-bottom: 0.5em;}#sk-container-id-5 div.sk-estimator:hover {background-color: #d4ebff;}#sk-container-id-5 div.sk-parallel-item::after {content: \"\";width: 100%;border-bottom: 1px solid gray;flex-grow: 1;}#sk-container-id-5 div.sk-label:hover label.sk-toggleable__label {background-color: #d4ebff;}#sk-container-id-5 div.sk-serial::before {content: \"\";position: absolute;border-left: 1px solid gray;box-sizing: border-box;top: 0;bottom: 0;left: 50%;z-index: 0;}#sk-container-id-5 div.sk-serial {display: flex;flex-direction: column;align-items: center;background-color: white;padding-right: 0.2em;padding-left: 0.2em;position: relative;}#sk-container-id-5 div.sk-item {position: relative;z-index: 1;}#sk-container-id-5 div.sk-parallel {display: flex;align-items: stretch;justify-content: center;background-color: white;position: relative;}#sk-container-id-5 div.sk-item::before, #sk-container-id-5 div.sk-parallel-item::before {content: \"\";position: absolute;border-left: 1px solid gray;box-sizing: border-box;top: 0;bottom: 0;left: 50%;z-index: -1;}#sk-container-id-5 div.sk-parallel-item {display: flex;flex-direction: column;z-index: 1;position: relative;background-color: white;}#sk-container-id-5 div.sk-parallel-item:first-child::after {align-self: flex-end;width: 50%;}#sk-container-id-5 div.sk-parallel-item:last-child::after {align-self: flex-start;width: 50%;}#sk-container-id-5 div.sk-parallel-item:only-child::after {width: 0;}#sk-container-id-5 div.sk-dashed-wrapped {border: 1px dashed gray;margin: 0 0.4em 0.5em 0.4em;box-sizing: border-box;padding-bottom: 0.4em;background-color: white;}#sk-container-id-5 div.sk-label label {font-family: monospace;font-weight: bold;display: inline-block;line-height: 1.2em;}#sk-container-id-5 div.sk-label-container {text-align: center;}#sk-container-id-5 div.sk-container {/* jupyter's `normalize.less` sets `[hidden] { display: none; }` but bootstrap.min.css set `[hidden] { display: none !important; }` so we also need the `!important` here to be able to override the default hidden behavior on the sphinx rendered scikit-learn.org. See: https://github.com/scikit-learn/scikit-learn/issues/21755 */display: inline-block !important;position: relative;}#sk-container-id-5 div.sk-text-repr-fallback {display: none;}</style><div id=\"sk-container-id-5\" class=\"sk-top-container\"><div class=\"sk-text-repr-fallback\"><pre>LGBMRegressor(learning_rate=0.08, max_depth=10, n_estimators=2000,\n",
       "              objective=&#x27;regression&#x27;, random_state=12345)</pre><b>In a Jupyter environment, please rerun this cell to show the HTML representation or trust the notebook. <br />On GitHub, the HTML representation is unable to render, please try loading this page with nbviewer.org.</b></div><div class=\"sk-container\" hidden><div class=\"sk-item\"><div class=\"sk-estimator sk-toggleable\"><input class=\"sk-toggleable__control sk-hidden--visually\" id=\"sk-estimator-id-9\" type=\"checkbox\" checked><label for=\"sk-estimator-id-9\" class=\"sk-toggleable__label sk-toggleable__label-arrow\">LGBMRegressor</label><div class=\"sk-toggleable__content\"><pre>LGBMRegressor(learning_rate=0.08, max_depth=10, n_estimators=2000,\n",
       "              objective=&#x27;regression&#x27;, random_state=12345)</pre></div></div></div></div></div>"
      ],
      "text/plain": [
       "LGBMRegressor(learning_rate=0.08, max_depth=10, n_estimators=2000,\n",
       "              objective='regression', random_state=12345)"
      ]
     },
     "execution_count": 179,
     "metadata": {},
     "output_type": "execute_result"
    }
   ],
   "source": [
    "%%time \n",
    "#отдельно запустим только лучшую модель, чтобы оценить время обучения\n",
    "model_gbm = LGBMRegressor(learning_rate=0.08, max_depth=10, n_estimators=2000,\n",
    "              objective='regression', random_state=12345)\n",
    "model_gbm.fit(features_train, target_train)"
   ]
  },
  {
   "cell_type": "code",
   "execution_count": 178,
   "metadata": {
    "colab": {
     "base_uri": "https://localhost:8080/"
    },
    "id": "D8ojbkyl3oT7",
    "outputId": "3463e818-080f-4d84-b1bc-cadd41262a88"
   },
   "outputs": [
    {
     "name": "stdout",
     "output_type": "stream",
     "text": [
      "RMSE valid: 1574.586350578679\n",
      "RMSE test: 1574.156847261214\n",
      "CPU times: user 24.9 s, sys: 35.3 ms, total: 24.9 s\n",
      "Wall time: 14.3 s\n"
     ]
    }
   ],
   "source": [
    "%%time\n",
    "pred = best_params.predict(features_valid)\n",
    "pred_test = best_params.predict(features_test)\n",
    "print('RMSE valid:',mean_squared_error(target_valid, pred, squared=False))\n",
    "print('RMSE test:',mean_squared_error(target_test, pred_test, squared=False))"
   ]
  },
  {
   "cell_type": "markdown",
   "metadata": {
    "id": "igGQy7KksOra"
   },
   "source": [
    "### RandomForestRegressor"
   ]
  },
  {
   "cell_type": "code",
   "execution_count": 180,
   "metadata": {
    "id": "-qZaB6Rsx7G7"
   },
   "outputs": [],
   "source": [
    "forest=RandomForestRegressor(random_state=12345)"
   ]
  },
  {
   "cell_type": "code",
   "execution_count": 181,
   "metadata": {
    "colab": {
     "base_uri": "https://localhost:8080/",
     "height": 128
    },
    "id": "4HpMDQpu4laX",
    "outputId": "31b63d29-25ba-4de6-9c19-907d82c29c20"
   },
   "outputs": [
    {
     "name": "stdout",
     "output_type": "stream",
     "text": [
      "CPU times: user 5min 54s, sys: 1.13 s, total: 5min 55s\n",
      "Wall time: 6min 4s\n"
     ]
    },
    {
     "data": {
      "text/html": [
       "<style>#sk-container-id-6 {color: black;background-color: white;}#sk-container-id-6 pre{padding: 0;}#sk-container-id-6 div.sk-toggleable {background-color: white;}#sk-container-id-6 label.sk-toggleable__label {cursor: pointer;display: block;width: 100%;margin-bottom: 0;padding: 0.3em;box-sizing: border-box;text-align: center;}#sk-container-id-6 label.sk-toggleable__label-arrow:before {content: \"▸\";float: left;margin-right: 0.25em;color: #696969;}#sk-container-id-6 label.sk-toggleable__label-arrow:hover:before {color: black;}#sk-container-id-6 div.sk-estimator:hover label.sk-toggleable__label-arrow:before {color: black;}#sk-container-id-6 div.sk-toggleable__content {max-height: 0;max-width: 0;overflow: hidden;text-align: left;background-color: #f0f8ff;}#sk-container-id-6 div.sk-toggleable__content pre {margin: 0.2em;color: black;border-radius: 0.25em;background-color: #f0f8ff;}#sk-container-id-6 input.sk-toggleable__control:checked~div.sk-toggleable__content {max-height: 200px;max-width: 100%;overflow: auto;}#sk-container-id-6 input.sk-toggleable__control:checked~label.sk-toggleable__label-arrow:before {content: \"▾\";}#sk-container-id-6 div.sk-estimator input.sk-toggleable__control:checked~label.sk-toggleable__label {background-color: #d4ebff;}#sk-container-id-6 div.sk-label input.sk-toggleable__control:checked~label.sk-toggleable__label {background-color: #d4ebff;}#sk-container-id-6 input.sk-hidden--visually {border: 0;clip: rect(1px 1px 1px 1px);clip: rect(1px, 1px, 1px, 1px);height: 1px;margin: -1px;overflow: hidden;padding: 0;position: absolute;width: 1px;}#sk-container-id-6 div.sk-estimator {font-family: monospace;background-color: #f0f8ff;border: 1px dotted black;border-radius: 0.25em;box-sizing: border-box;margin-bottom: 0.5em;}#sk-container-id-6 div.sk-estimator:hover {background-color: #d4ebff;}#sk-container-id-6 div.sk-parallel-item::after {content: \"\";width: 100%;border-bottom: 1px solid gray;flex-grow: 1;}#sk-container-id-6 div.sk-label:hover label.sk-toggleable__label {background-color: #d4ebff;}#sk-container-id-6 div.sk-serial::before {content: \"\";position: absolute;border-left: 1px solid gray;box-sizing: border-box;top: 0;bottom: 0;left: 50%;z-index: 0;}#sk-container-id-6 div.sk-serial {display: flex;flex-direction: column;align-items: center;background-color: white;padding-right: 0.2em;padding-left: 0.2em;position: relative;}#sk-container-id-6 div.sk-item {position: relative;z-index: 1;}#sk-container-id-6 div.sk-parallel {display: flex;align-items: stretch;justify-content: center;background-color: white;position: relative;}#sk-container-id-6 div.sk-item::before, #sk-container-id-6 div.sk-parallel-item::before {content: \"\";position: absolute;border-left: 1px solid gray;box-sizing: border-box;top: 0;bottom: 0;left: 50%;z-index: -1;}#sk-container-id-6 div.sk-parallel-item {display: flex;flex-direction: column;z-index: 1;position: relative;background-color: white;}#sk-container-id-6 div.sk-parallel-item:first-child::after {align-self: flex-end;width: 50%;}#sk-container-id-6 div.sk-parallel-item:last-child::after {align-self: flex-start;width: 50%;}#sk-container-id-6 div.sk-parallel-item:only-child::after {width: 0;}#sk-container-id-6 div.sk-dashed-wrapped {border: 1px dashed gray;margin: 0 0.4em 0.5em 0.4em;box-sizing: border-box;padding-bottom: 0.4em;background-color: white;}#sk-container-id-6 div.sk-label label {font-family: monospace;font-weight: bold;display: inline-block;line-height: 1.2em;}#sk-container-id-6 div.sk-label-container {text-align: center;}#sk-container-id-6 div.sk-container {/* jupyter's `normalize.less` sets `[hidden] { display: none; }` but bootstrap.min.css set `[hidden] { display: none !important; }` so we also need the `!important` here to be able to override the default hidden behavior on the sphinx rendered scikit-learn.org. See: https://github.com/scikit-learn/scikit-learn/issues/21755 */display: inline-block !important;position: relative;}#sk-container-id-6 div.sk-text-repr-fallback {display: none;}</style><div id=\"sk-container-id-6\" class=\"sk-top-container\"><div class=\"sk-text-repr-fallback\"><pre>RandomForestRegressor(max_depth=16, min_samples_leaf=10, n_estimators=1000,\n",
       "                      random_state=12345)</pre><b>In a Jupyter environment, please rerun this cell to show the HTML representation or trust the notebook. <br />On GitHub, the HTML representation is unable to render, please try loading this page with nbviewer.org.</b></div><div class=\"sk-container\" hidden><div class=\"sk-item\"><div class=\"sk-estimator sk-toggleable\"><input class=\"sk-toggleable__control sk-hidden--visually\" id=\"sk-estimator-id-10\" type=\"checkbox\" checked><label for=\"sk-estimator-id-10\" class=\"sk-toggleable__label sk-toggleable__label-arrow\">RandomForestRegressor</label><div class=\"sk-toggleable__content\"><pre>RandomForestRegressor(max_depth=16, min_samples_leaf=10, n_estimators=1000,\n",
       "                      random_state=12345)</pre></div></div></div></div></div>"
      ],
      "text/plain": [
       "RandomForestRegressor(max_depth=16, min_samples_leaf=10, n_estimators=1000,\n",
       "                      random_state=12345)"
      ]
     },
     "execution_count": 181,
     "metadata": {},
     "output_type": "execute_result"
    }
   ],
   "source": [
    "%%time \n",
    "forest = RandomForestRegressor(n_estimators = 1000, max_depth = 16, min_samples_leaf = 10, random_state = 12345) \n",
    "forest.fit(features_train, target_train)"
   ]
  },
  {
   "cell_type": "code",
   "execution_count": 182,
   "metadata": {
    "colab": {
     "base_uri": "https://localhost:8080/"
    },
    "id": "2cBUEFVr_Ux5",
    "outputId": "a2c2130a-3cfe-47cc-b9f9-ec2479fa12e4"
   },
   "outputs": [
    {
     "name": "stdout",
     "output_type": "stream",
     "text": [
      "RMSE valid: 1695.4106496510565\n",
      "RMSE test: 1693.7856623944544\n",
      "CPU times: user 22.3 s, sys: 33.7 ms, total: 22.3 s\n",
      "Wall time: 23.9 s\n"
     ]
    }
   ],
   "source": [
    "%%time\n",
    "pred_v = forest.predict(features_valid)\n",
    "pred_t = forest.predict(features_test)\n",
    "print('RMSE valid:',mean_squared_error(target_valid, pred_v, squared=False))\n",
    "print('RMSE test:',mean_squared_error(target_test, pred_t, squared=False))"
   ]
  },
  {
   "cell_type": "markdown",
   "metadata": {
    "id": "t0rmMOB966-r"
   },
   "source": [
    "При увеличении количества независимых деревьев, улучшение качества леса не произошло."
   ]
  },
  {
   "cell_type": "markdown",
   "metadata": {
    "id": "G4WB8FTcsOra"
   },
   "source": [
    "## Анализ моделей"
   ]
  },
  {
   "cell_type": "markdown",
   "metadata": {
    "id": "uf6jhvE-CP0e"
   },
   "source": [
    "Модель 1 - CatBoost\n",
    "- время обучения 4 мин 21 сек\n",
    "- время предсказания 330 ms\n",
    "- RMSE на тестовой выборке: 1641.17"
   ]
  },
  {
   "cell_type": "markdown",
   "metadata": {
    "id": "FBPEqvf1DC6H"
   },
   "source": [
    "Модель 2 - LightGBM\n",
    "- время обучения 30.6 сек\n",
    "- время предсказания 14.3 секунды\n",
    "- RMSE на тестовой выборке: 1574.16"
   ]
  },
  {
   "cell_type": "markdown",
   "metadata": {
    "id": "oF1mUAAwDb-L"
   },
   "source": [
    "Модель 3 - RandomForestRegressor\n",
    "\n",
    "- время обучения 6 мин 4 сек\n",
    "- время предсказания 23.9 сек\n",
    "- RMSE на тестовой выборке: 1693.79"
   ]
  },
  {
   "cell_type": "markdown",
   "metadata": {
    "id": "TZyobdJyFYWS"
   },
   "source": [
    "## Вывод\n",
    "- На очищенных от пропусков, выбросов, аномалий и дубликатов данных были построены 3 моделей для предсказания цены автомобиля по его характеристикам (числовым и категориальным). Модели: CatBoost, LightGBM и RandomForestRegressor\n",
    "- Наилучшей моделью для предсказания цены автомобиля выбрана модель LightGBM. Модель получена при помощи перебора гиперпараметров в GridsearchCV. Модель выбрана как наилучшая по соотношению времени работы и полученного результата. Данная модель прогнозирует цену сошибкой около 1574 евро.\n",
    "- Также моделью были выделены наиболее важные для прогнозирования цены переменные. ТОП-3 таких переменных: мощность автомобиля в лошадиных силах, год регистрации автомобиля и его модель."
   ]
  }
 ],
 "metadata": {
  "ExecuteTimeLog": [
   {
    "duration": 3,
    "start_time": "2023-03-25T08:00:46.474Z"
   },
   {
    "duration": 1404,
    "start_time": "2023-03-25T08:00:46.479Z"
   },
   {
    "duration": 2709,
    "start_time": "2023-03-25T08:00:47.885Z"
   },
   {
    "duration": 14,
    "start_time": "2023-03-25T08:00:50.595Z"
   },
   {
    "duration": 48,
    "start_time": "2023-03-25T08:00:50.611Z"
   },
   {
    "duration": 8,
    "start_time": "2023-03-25T08:00:50.661Z"
   },
   {
    "duration": 104,
    "start_time": "2023-03-25T08:00:50.670Z"
   },
   {
    "duration": 182,
    "start_time": "2023-03-25T08:00:50.775Z"
   },
   {
    "duration": 12,
    "start_time": "2023-03-25T08:00:50.959Z"
   },
   {
    "duration": 1593,
    "start_time": "2023-03-25T08:00:50.972Z"
   },
   {
    "duration": 371,
    "start_time": "2023-03-25T08:00:52.568Z"
   },
   {
    "duration": 72,
    "start_time": "2023-03-25T08:00:52.940Z"
   },
   {
    "duration": 102,
    "start_time": "2023-03-25T08:00:53.013Z"
   },
   {
    "duration": 61,
    "start_time": "2023-03-25T08:00:53.117Z"
   },
   {
    "duration": 106,
    "start_time": "2023-03-25T08:00:53.180Z"
   },
   {
    "duration": 0,
    "start_time": "2023-03-25T08:00:53.289Z"
   },
   {
    "duration": 0,
    "start_time": "2023-03-25T08:00:53.291Z"
   },
   {
    "duration": 0,
    "start_time": "2023-03-25T08:00:53.292Z"
   },
   {
    "duration": 0,
    "start_time": "2023-03-25T08:00:53.293Z"
   },
   {
    "duration": 0,
    "start_time": "2023-03-25T08:00:53.294Z"
   },
   {
    "duration": 0,
    "start_time": "2023-03-25T08:00:53.295Z"
   },
   {
    "duration": 0,
    "start_time": "2023-03-25T08:00:53.296Z"
   },
   {
    "duration": 0,
    "start_time": "2023-03-25T08:00:53.298Z"
   },
   {
    "duration": 0,
    "start_time": "2023-03-25T08:00:53.299Z"
   },
   {
    "duration": 1,
    "start_time": "2023-03-25T08:00:53.300Z"
   },
   {
    "duration": 0,
    "start_time": "2023-03-25T08:00:53.302Z"
   },
   {
    "duration": 0,
    "start_time": "2023-03-25T08:00:53.303Z"
   },
   {
    "duration": 0,
    "start_time": "2023-03-25T08:00:53.304Z"
   },
   {
    "duration": 0,
    "start_time": "2023-03-25T08:00:53.305Z"
   },
   {
    "duration": 0,
    "start_time": "2023-03-25T08:00:53.307Z"
   },
   {
    "duration": 0,
    "start_time": "2023-03-25T08:00:53.313Z"
   },
   {
    "duration": 0,
    "start_time": "2023-03-25T08:00:53.315Z"
   },
   {
    "duration": 0,
    "start_time": "2023-03-25T08:00:53.316Z"
   },
   {
    "duration": 0,
    "start_time": "2023-03-25T08:00:53.317Z"
   },
   {
    "duration": 0,
    "start_time": "2023-03-25T08:00:53.318Z"
   },
   {
    "duration": 0,
    "start_time": "2023-03-25T08:00:53.319Z"
   },
   {
    "duration": 0,
    "start_time": "2023-03-25T08:00:53.321Z"
   },
   {
    "duration": 0,
    "start_time": "2023-03-25T08:00:53.371Z"
   },
   {
    "duration": 0,
    "start_time": "2023-03-25T08:00:53.373Z"
   },
   {
    "duration": 0,
    "start_time": "2023-03-25T08:00:53.374Z"
   },
   {
    "duration": 0,
    "start_time": "2023-03-25T08:00:53.375Z"
   },
   {
    "duration": 0,
    "start_time": "2023-03-25T08:00:53.376Z"
   },
   {
    "duration": 0,
    "start_time": "2023-03-25T08:00:53.378Z"
   },
   {
    "duration": 0,
    "start_time": "2023-03-25T08:00:53.379Z"
   },
   {
    "duration": 0,
    "start_time": "2023-03-25T08:00:53.381Z"
   },
   {
    "duration": 0,
    "start_time": "2023-03-25T08:00:53.382Z"
   },
   {
    "duration": 0,
    "start_time": "2023-03-25T08:00:53.383Z"
   },
   {
    "duration": 0,
    "start_time": "2023-03-25T08:00:53.384Z"
   },
   {
    "duration": 0,
    "start_time": "2023-03-25T08:00:53.386Z"
   },
   {
    "duration": 0,
    "start_time": "2023-03-25T08:00:53.388Z"
   },
   {
    "duration": 0,
    "start_time": "2023-03-25T08:00:53.389Z"
   },
   {
    "duration": 0,
    "start_time": "2023-03-25T08:00:53.390Z"
   },
   {
    "duration": 0,
    "start_time": "2023-03-25T08:00:53.391Z"
   },
   {
    "duration": 0,
    "start_time": "2023-03-25T08:00:53.392Z"
   },
   {
    "duration": 0,
    "start_time": "2023-03-25T08:00:53.394Z"
   },
   {
    "duration": 3,
    "start_time": "2023-03-25T08:01:24.787Z"
   },
   {
    "duration": 1268,
    "start_time": "2023-03-25T08:01:24.791Z"
   },
   {
    "duration": 661,
    "start_time": "2023-03-25T08:01:26.061Z"
   },
   {
    "duration": 14,
    "start_time": "2023-03-25T08:01:26.724Z"
   },
   {
    "duration": 54,
    "start_time": "2023-03-25T08:01:26.740Z"
   },
   {
    "duration": 3,
    "start_time": "2023-03-25T08:01:26.796Z"
   },
   {
    "duration": 108,
    "start_time": "2023-03-25T08:01:26.800Z"
   },
   {
    "duration": 193,
    "start_time": "2023-03-25T08:01:26.910Z"
   },
   {
    "duration": 6,
    "start_time": "2023-03-25T08:01:27.104Z"
   },
   {
    "duration": 1590,
    "start_time": "2023-03-25T08:01:27.111Z"
   },
   {
    "duration": 343,
    "start_time": "2023-03-25T08:01:28.703Z"
   },
   {
    "duration": 77,
    "start_time": "2023-03-25T08:01:29.048Z"
   },
   {
    "duration": 101,
    "start_time": "2023-03-25T08:01:29.127Z"
   },
   {
    "duration": 61,
    "start_time": "2023-03-25T08:01:29.230Z"
   },
   {
    "duration": 115,
    "start_time": "2023-03-25T08:01:29.292Z"
   },
   {
    "duration": 0,
    "start_time": "2023-03-25T08:01:29.410Z"
   },
   {
    "duration": 0,
    "start_time": "2023-03-25T08:01:29.411Z"
   },
   {
    "duration": 0,
    "start_time": "2023-03-25T08:01:29.412Z"
   },
   {
    "duration": 0,
    "start_time": "2023-03-25T08:01:29.414Z"
   },
   {
    "duration": 0,
    "start_time": "2023-03-25T08:01:29.415Z"
   },
   {
    "duration": 0,
    "start_time": "2023-03-25T08:01:29.415Z"
   },
   {
    "duration": 0,
    "start_time": "2023-03-25T08:01:29.416Z"
   },
   {
    "duration": 0,
    "start_time": "2023-03-25T08:01:29.417Z"
   },
   {
    "duration": 0,
    "start_time": "2023-03-25T08:01:29.418Z"
   },
   {
    "duration": 0,
    "start_time": "2023-03-25T08:01:29.419Z"
   },
   {
    "duration": 0,
    "start_time": "2023-03-25T08:01:29.420Z"
   },
   {
    "duration": 0,
    "start_time": "2023-03-25T08:01:29.421Z"
   },
   {
    "duration": 0,
    "start_time": "2023-03-25T08:01:29.421Z"
   },
   {
    "duration": 0,
    "start_time": "2023-03-25T08:01:29.423Z"
   },
   {
    "duration": 0,
    "start_time": "2023-03-25T08:01:29.424Z"
   },
   {
    "duration": 0,
    "start_time": "2023-03-25T08:01:29.424Z"
   },
   {
    "duration": 0,
    "start_time": "2023-03-25T08:01:29.425Z"
   },
   {
    "duration": 0,
    "start_time": "2023-03-25T08:01:29.426Z"
   },
   {
    "duration": 0,
    "start_time": "2023-03-25T08:01:29.427Z"
   },
   {
    "duration": 0,
    "start_time": "2023-03-25T08:01:29.428Z"
   },
   {
    "duration": 0,
    "start_time": "2023-03-25T08:01:29.429Z"
   },
   {
    "duration": 0,
    "start_time": "2023-03-25T08:01:29.430Z"
   },
   {
    "duration": 0,
    "start_time": "2023-03-25T08:01:29.431Z"
   },
   {
    "duration": 0,
    "start_time": "2023-03-25T08:01:29.432Z"
   },
   {
    "duration": 0,
    "start_time": "2023-03-25T08:01:29.433Z"
   },
   {
    "duration": 0,
    "start_time": "2023-03-25T08:01:29.434Z"
   },
   {
    "duration": 0,
    "start_time": "2023-03-25T08:01:29.468Z"
   },
   {
    "duration": 0,
    "start_time": "2023-03-25T08:01:29.469Z"
   },
   {
    "duration": 0,
    "start_time": "2023-03-25T08:01:29.470Z"
   },
   {
    "duration": 0,
    "start_time": "2023-03-25T08:01:29.471Z"
   },
   {
    "duration": 0,
    "start_time": "2023-03-25T08:01:29.471Z"
   },
   {
    "duration": 0,
    "start_time": "2023-03-25T08:01:29.472Z"
   },
   {
    "duration": 0,
    "start_time": "2023-03-25T08:01:29.473Z"
   },
   {
    "duration": 0,
    "start_time": "2023-03-25T08:01:29.474Z"
   },
   {
    "duration": 0,
    "start_time": "2023-03-25T08:01:29.474Z"
   },
   {
    "duration": 0,
    "start_time": "2023-03-25T08:01:29.475Z"
   },
   {
    "duration": 0,
    "start_time": "2023-03-25T08:01:29.476Z"
   },
   {
    "duration": 0,
    "start_time": "2023-03-25T08:01:29.477Z"
   },
   {
    "duration": 0,
    "start_time": "2023-03-25T08:01:29.478Z"
   },
   {
    "duration": 0,
    "start_time": "2023-03-25T08:01:29.479Z"
   },
   {
    "duration": 0,
    "start_time": "2023-03-25T08:01:29.480Z"
   },
   {
    "duration": 0,
    "start_time": "2023-03-25T08:01:29.481Z"
   },
   {
    "duration": 1,
    "start_time": "2023-03-25T08:01:29.481Z"
   },
   {
    "duration": 0,
    "start_time": "2023-03-25T08:01:29.482Z"
   },
   {
    "duration": 0,
    "start_time": "2023-03-25T08:01:29.483Z"
   },
   {
    "duration": 0,
    "start_time": "2023-03-25T08:01:29.484Z"
   },
   {
    "duration": 0,
    "start_time": "2023-03-25T08:01:29.485Z"
   },
   {
    "duration": 0,
    "start_time": "2023-03-25T08:01:29.486Z"
   },
   {
    "duration": 0,
    "start_time": "2023-03-25T08:01:29.487Z"
   },
   {
    "duration": 0,
    "start_time": "2023-03-25T08:01:29.488Z"
   },
   {
    "duration": 0,
    "start_time": "2023-03-25T08:01:29.489Z"
   },
   {
    "duration": 0,
    "start_time": "2023-03-25T08:01:29.490Z"
   },
   {
    "duration": 1,
    "start_time": "2023-03-25T08:01:29.490Z"
   },
   {
    "duration": 0,
    "start_time": "2023-03-25T08:01:29.491Z"
   },
   {
    "duration": 0,
    "start_time": "2023-03-25T08:01:29.493Z"
   },
   {
    "duration": 0,
    "start_time": "2023-03-25T08:01:29.493Z"
   },
   {
    "duration": 0,
    "start_time": "2023-03-25T08:01:29.494Z"
   },
   {
    "duration": 0,
    "start_time": "2023-03-25T08:01:29.495Z"
   },
   {
    "duration": 0,
    "start_time": "2023-03-25T08:01:29.496Z"
   },
   {
    "duration": 0,
    "start_time": "2023-03-25T08:01:29.497Z"
   },
   {
    "duration": 0,
    "start_time": "2023-03-25T08:01:29.498Z"
   },
   {
    "duration": 0,
    "start_time": "2023-03-25T08:01:29.499Z"
   },
   {
    "duration": 0,
    "start_time": "2023-03-25T08:01:29.500Z"
   },
   {
    "duration": 0,
    "start_time": "2023-03-25T08:01:29.501Z"
   },
   {
    "duration": 0,
    "start_time": "2023-03-25T08:01:29.502Z"
   },
   {
    "duration": 0,
    "start_time": "2023-03-25T08:01:29.502Z"
   },
   {
    "duration": 0,
    "start_time": "2023-03-25T08:01:29.503Z"
   },
   {
    "duration": 4,
    "start_time": "2023-03-25T08:01:48.275Z"
   },
   {
    "duration": 8,
    "start_time": "2023-03-25T08:01:55.092Z"
   },
   {
    "duration": 12,
    "start_time": "2023-03-25T08:01:59.150Z"
   },
   {
    "duration": 13,
    "start_time": "2023-03-25T08:02:51.491Z"
   },
   {
    "duration": 12,
    "start_time": "2023-03-25T08:03:04.845Z"
   },
   {
    "duration": 42,
    "start_time": "2023-03-25T08:04:16.581Z"
   },
   {
    "duration": 2,
    "start_time": "2023-03-25T08:04:37.451Z"
   },
   {
    "duration": 8,
    "start_time": "2023-03-25T08:04:37.455Z"
   },
   {
    "duration": 649,
    "start_time": "2023-03-25T08:04:37.464Z"
   },
   {
    "duration": 11,
    "start_time": "2023-03-25T08:04:38.114Z"
   },
   {
    "duration": 23,
    "start_time": "2023-03-25T08:04:38.127Z"
   },
   {
    "duration": 3,
    "start_time": "2023-03-25T08:04:38.151Z"
   },
   {
    "duration": 100,
    "start_time": "2023-03-25T08:04:38.168Z"
   },
   {
    "duration": 177,
    "start_time": "2023-03-25T08:04:38.269Z"
   },
   {
    "duration": 5,
    "start_time": "2023-03-25T08:04:38.448Z"
   },
   {
    "duration": 1614,
    "start_time": "2023-03-25T08:04:38.469Z"
   },
   {
    "duration": 340,
    "start_time": "2023-03-25T08:04:40.086Z"
   },
   {
    "duration": 73,
    "start_time": "2023-03-25T08:04:40.428Z"
   },
   {
    "duration": 100,
    "start_time": "2023-03-25T08:04:40.502Z"
   },
   {
    "duration": 54,
    "start_time": "2023-03-25T08:04:40.603Z"
   },
   {
    "duration": 11,
    "start_time": "2023-03-25T08:04:40.658Z"
   },
   {
    "duration": 41,
    "start_time": "2023-03-25T08:04:40.670Z"
   },
   {
    "duration": 99,
    "start_time": "2023-03-25T08:04:40.713Z"
   },
   {
    "duration": 55,
    "start_time": "2023-03-25T08:04:40.813Z"
   },
   {
    "duration": 12,
    "start_time": "2023-03-25T08:04:40.869Z"
   },
   {
    "duration": 0,
    "start_time": "2023-03-25T08:04:40.883Z"
   },
   {
    "duration": 0,
    "start_time": "2023-03-25T08:04:40.884Z"
   },
   {
    "duration": 0,
    "start_time": "2023-03-25T08:04:40.884Z"
   },
   {
    "duration": 0,
    "start_time": "2023-03-25T08:04:40.886Z"
   },
   {
    "duration": 0,
    "start_time": "2023-03-25T08:04:40.887Z"
   },
   {
    "duration": 0,
    "start_time": "2023-03-25T08:04:40.887Z"
   },
   {
    "duration": 0,
    "start_time": "2023-03-25T08:04:40.888Z"
   },
   {
    "duration": 0,
    "start_time": "2023-03-25T08:04:40.889Z"
   },
   {
    "duration": 0,
    "start_time": "2023-03-25T08:04:40.890Z"
   },
   {
    "duration": 0,
    "start_time": "2023-03-25T08:04:40.891Z"
   },
   {
    "duration": 0,
    "start_time": "2023-03-25T08:04:40.892Z"
   },
   {
    "duration": 0,
    "start_time": "2023-03-25T08:04:40.893Z"
   },
   {
    "duration": 0,
    "start_time": "2023-03-25T08:04:40.894Z"
   },
   {
    "duration": 0,
    "start_time": "2023-03-25T08:04:40.895Z"
   },
   {
    "duration": 0,
    "start_time": "2023-03-25T08:04:40.895Z"
   },
   {
    "duration": 0,
    "start_time": "2023-03-25T08:04:40.896Z"
   },
   {
    "duration": 0,
    "start_time": "2023-03-25T08:04:40.897Z"
   },
   {
    "duration": 0,
    "start_time": "2023-03-25T08:04:40.898Z"
   },
   {
    "duration": 0,
    "start_time": "2023-03-25T08:04:40.899Z"
   },
   {
    "duration": 0,
    "start_time": "2023-03-25T08:04:40.900Z"
   },
   {
    "duration": 0,
    "start_time": "2023-03-25T08:04:40.901Z"
   },
   {
    "duration": 0,
    "start_time": "2023-03-25T08:04:40.901Z"
   },
   {
    "duration": 0,
    "start_time": "2023-03-25T08:04:40.902Z"
   },
   {
    "duration": 0,
    "start_time": "2023-03-25T08:04:40.904Z"
   },
   {
    "duration": 0,
    "start_time": "2023-03-25T08:04:40.905Z"
   },
   {
    "duration": 0,
    "start_time": "2023-03-25T08:04:40.905Z"
   },
   {
    "duration": 0,
    "start_time": "2023-03-25T08:04:40.906Z"
   },
   {
    "duration": 0,
    "start_time": "2023-03-25T08:04:40.907Z"
   },
   {
    "duration": 0,
    "start_time": "2023-03-25T08:04:40.908Z"
   },
   {
    "duration": 0,
    "start_time": "2023-03-25T08:04:40.909Z"
   },
   {
    "duration": 0,
    "start_time": "2023-03-25T08:04:40.910Z"
   },
   {
    "duration": 0,
    "start_time": "2023-03-25T08:04:40.911Z"
   },
   {
    "duration": 0,
    "start_time": "2023-03-25T08:04:40.912Z"
   },
   {
    "duration": 0,
    "start_time": "2023-03-25T08:04:40.913Z"
   },
   {
    "duration": 0,
    "start_time": "2023-03-25T08:04:40.914Z"
   },
   {
    "duration": 0,
    "start_time": "2023-03-25T08:04:40.968Z"
   },
   {
    "duration": 0,
    "start_time": "2023-03-25T08:04:40.969Z"
   },
   {
    "duration": 42,
    "start_time": "2023-03-25T08:04:51.260Z"
   },
   {
    "duration": 2,
    "start_time": "2023-03-25T08:05:08.132Z"
   },
   {
    "duration": 5,
    "start_time": "2023-03-25T08:05:08.136Z"
   },
   {
    "duration": 668,
    "start_time": "2023-03-25T08:05:08.142Z"
   },
   {
    "duration": 12,
    "start_time": "2023-03-25T08:05:08.811Z"
   },
   {
    "duration": 58,
    "start_time": "2023-03-25T08:05:08.825Z"
   },
   {
    "duration": 3,
    "start_time": "2023-03-25T08:05:08.884Z"
   },
   {
    "duration": 114,
    "start_time": "2023-03-25T08:05:08.888Z"
   },
   {
    "duration": 200,
    "start_time": "2023-03-25T08:05:09.003Z"
   },
   {
    "duration": 5,
    "start_time": "2023-03-25T08:05:09.205Z"
   },
   {
    "duration": 1615,
    "start_time": "2023-03-25T08:05:09.211Z"
   },
   {
    "duration": 310,
    "start_time": "2023-03-25T08:05:10.828Z"
   },
   {
    "duration": 80,
    "start_time": "2023-03-25T08:05:11.139Z"
   },
   {
    "duration": 102,
    "start_time": "2023-03-25T08:05:11.221Z"
   },
   {
    "duration": 63,
    "start_time": "2023-03-25T08:05:11.325Z"
   },
   {
    "duration": 4,
    "start_time": "2023-03-25T08:05:11.389Z"
   },
   {
    "duration": 45,
    "start_time": "2023-03-25T08:05:11.394Z"
   },
   {
    "duration": 98,
    "start_time": "2023-03-25T08:05:11.441Z"
   },
   {
    "duration": 55,
    "start_time": "2023-03-25T08:05:11.541Z"
   },
   {
    "duration": 38,
    "start_time": "2023-03-25T08:05:11.597Z"
   },
   {
    "duration": 14,
    "start_time": "2023-03-25T08:05:11.636Z"
   },
   {
    "duration": 102,
    "start_time": "2023-03-25T08:05:11.651Z"
   },
   {
    "duration": 54,
    "start_time": "2023-03-25T08:05:11.755Z"
   },
   {
    "duration": 11,
    "start_time": "2023-03-25T08:05:11.810Z"
   },
   {
    "duration": 0,
    "start_time": "2023-03-25T08:05:11.823Z"
   },
   {
    "duration": 0,
    "start_time": "2023-03-25T08:05:11.824Z"
   },
   {
    "duration": 0,
    "start_time": "2023-03-25T08:05:11.825Z"
   },
   {
    "duration": 0,
    "start_time": "2023-03-25T08:05:11.826Z"
   },
   {
    "duration": 0,
    "start_time": "2023-03-25T08:05:11.827Z"
   },
   {
    "duration": 0,
    "start_time": "2023-03-25T08:05:11.828Z"
   },
   {
    "duration": 0,
    "start_time": "2023-03-25T08:05:11.829Z"
   },
   {
    "duration": 0,
    "start_time": "2023-03-25T08:05:11.830Z"
   },
   {
    "duration": 0,
    "start_time": "2023-03-25T08:05:11.831Z"
   },
   {
    "duration": 0,
    "start_time": "2023-03-25T08:05:11.832Z"
   },
   {
    "duration": 0,
    "start_time": "2023-03-25T08:05:11.833Z"
   },
   {
    "duration": 0,
    "start_time": "2023-03-25T08:05:11.834Z"
   },
   {
    "duration": 0,
    "start_time": "2023-03-25T08:05:11.835Z"
   },
   {
    "duration": 0,
    "start_time": "2023-03-25T08:05:11.836Z"
   },
   {
    "duration": 0,
    "start_time": "2023-03-25T08:05:11.837Z"
   },
   {
    "duration": 0,
    "start_time": "2023-03-25T08:05:11.838Z"
   },
   {
    "duration": 1,
    "start_time": "2023-03-25T08:05:11.868Z"
   },
   {
    "duration": 0,
    "start_time": "2023-03-25T08:05:11.870Z"
   },
   {
    "duration": 0,
    "start_time": "2023-03-25T08:05:11.871Z"
   },
   {
    "duration": 0,
    "start_time": "2023-03-25T08:05:11.872Z"
   },
   {
    "duration": 0,
    "start_time": "2023-03-25T08:05:11.873Z"
   },
   {
    "duration": 0,
    "start_time": "2023-03-25T08:05:11.874Z"
   },
   {
    "duration": 0,
    "start_time": "2023-03-25T08:05:11.875Z"
   },
   {
    "duration": 0,
    "start_time": "2023-03-25T08:05:11.876Z"
   },
   {
    "duration": 0,
    "start_time": "2023-03-25T08:05:11.877Z"
   },
   {
    "duration": 0,
    "start_time": "2023-03-25T08:05:11.878Z"
   },
   {
    "duration": 0,
    "start_time": "2023-03-25T08:05:11.879Z"
   },
   {
    "duration": 0,
    "start_time": "2023-03-25T08:05:11.880Z"
   },
   {
    "duration": 0,
    "start_time": "2023-03-25T08:05:11.881Z"
   },
   {
    "duration": 0,
    "start_time": "2023-03-25T08:05:11.882Z"
   },
   {
    "duration": 0,
    "start_time": "2023-03-25T08:05:11.883Z"
   },
   {
    "duration": 0,
    "start_time": "2023-03-25T08:05:11.884Z"
   },
   {
    "duration": 0,
    "start_time": "2023-03-25T08:05:11.884Z"
   },
   {
    "duration": 35,
    "start_time": "2023-03-25T08:05:19.627Z"
   },
   {
    "duration": 3,
    "start_time": "2023-03-25T08:05:43.175Z"
   },
   {
    "duration": 8,
    "start_time": "2023-03-25T08:05:43.179Z"
   },
   {
    "duration": 630,
    "start_time": "2023-03-25T08:05:43.188Z"
   },
   {
    "duration": 12,
    "start_time": "2023-03-25T08:05:43.820Z"
   },
   {
    "duration": 37,
    "start_time": "2023-03-25T08:05:43.833Z"
   },
   {
    "duration": 3,
    "start_time": "2023-03-25T08:05:43.871Z"
   },
   {
    "duration": 100,
    "start_time": "2023-03-25T08:05:43.875Z"
   },
   {
    "duration": 183,
    "start_time": "2023-03-25T08:05:43.976Z"
   },
   {
    "duration": 10,
    "start_time": "2023-03-25T08:05:44.161Z"
   },
   {
    "duration": 1564,
    "start_time": "2023-03-25T08:05:44.172Z"
   },
   {
    "duration": 326,
    "start_time": "2023-03-25T08:05:45.738Z"
   },
   {
    "duration": 74,
    "start_time": "2023-03-25T08:05:46.065Z"
   },
   {
    "duration": 105,
    "start_time": "2023-03-25T08:05:46.141Z"
   },
   {
    "duration": 62,
    "start_time": "2023-03-25T08:05:46.248Z"
   },
   {
    "duration": 4,
    "start_time": "2023-03-25T08:05:46.311Z"
   },
   {
    "duration": 49,
    "start_time": "2023-03-25T08:05:46.316Z"
   },
   {
    "duration": 87,
    "start_time": "2023-03-25T08:05:46.366Z"
   },
   {
    "duration": 55,
    "start_time": "2023-03-25T08:05:46.455Z"
   },
   {
    "duration": 41,
    "start_time": "2023-03-25T08:05:46.512Z"
   },
   {
    "duration": 23,
    "start_time": "2023-03-25T08:05:46.555Z"
   },
   {
    "duration": 102,
    "start_time": "2023-03-25T08:05:46.580Z"
   },
   {
    "duration": 48,
    "start_time": "2023-03-25T08:05:46.683Z"
   },
   {
    "duration": 56,
    "start_time": "2023-03-25T08:05:46.732Z"
   },
   {
    "duration": 220,
    "start_time": "2023-03-25T08:05:46.789Z"
   },
   {
    "duration": 38,
    "start_time": "2023-03-25T08:05:47.011Z"
   },
   {
    "duration": 36,
    "start_time": "2023-03-25T08:05:47.050Z"
   },
   {
    "duration": 39,
    "start_time": "2023-03-25T08:05:47.087Z"
   },
   {
    "duration": 59,
    "start_time": "2023-03-25T08:05:47.127Z"
   },
   {
    "duration": 22,
    "start_time": "2023-03-25T08:05:47.188Z"
   },
   {
    "duration": 532,
    "start_time": "2023-03-25T08:05:47.212Z"
   },
   {
    "duration": 26,
    "start_time": "2023-03-25T08:05:47.745Z"
   },
   {
    "duration": 31,
    "start_time": "2023-03-25T08:05:47.773Z"
   },
   {
    "duration": 46,
    "start_time": "2023-03-25T08:05:47.805Z"
   },
   {
    "duration": 194,
    "start_time": "2023-03-25T08:05:47.852Z"
   },
   {
    "duration": 25,
    "start_time": "2023-03-25T08:05:48.048Z"
   },
   {
    "duration": 105,
    "start_time": "2023-03-25T08:05:48.075Z"
   },
   {
    "duration": 8,
    "start_time": "2023-03-25T08:05:48.182Z"
   },
   {
    "duration": 22,
    "start_time": "2023-03-25T08:05:48.191Z"
   },
   {
    "duration": 134,
    "start_time": "2023-03-25T08:05:48.215Z"
   },
   {
    "duration": 5,
    "start_time": "2023-03-25T08:05:48.351Z"
   },
   {
    "duration": 34,
    "start_time": "2023-03-25T08:05:48.369Z"
   },
   {
    "duration": 122,
    "start_time": "2023-03-25T08:05:48.405Z"
   },
   {
    "duration": 163,
    "start_time": "2023-03-25T08:05:48.529Z"
   },
   {
    "duration": 5,
    "start_time": "2023-03-25T08:05:48.693Z"
   },
   {
    "duration": 54,
    "start_time": "2023-03-25T08:05:48.699Z"
   },
   {
    "duration": 236,
    "start_time": "2023-03-25T08:05:48.755Z"
   },
   {
    "duration": 196,
    "start_time": "2023-03-25T08:05:48.993Z"
   },
   {
    "duration": 229,
    "start_time": "2023-03-25T08:05:49.191Z"
   },
   {
    "duration": 26,
    "start_time": "2023-03-25T08:05:49.422Z"
   },
   {
    "duration": 42,
    "start_time": "2023-03-25T08:05:49.450Z"
   },
   {
    "duration": 211,
    "start_time": "2023-03-25T08:05:49.493Z"
   },
   {
    "duration": 281,
    "start_time": "2023-03-25T08:05:49.706Z"
   },
   {
    "duration": 500,
    "start_time": "2023-03-25T08:05:49.988Z"
   },
   {
    "duration": 43,
    "start_time": "2023-03-25T08:05:50.490Z"
   },
   {
    "duration": 64,
    "start_time": "2023-03-25T08:05:50.534Z"
   },
   {
    "duration": 2,
    "start_time": "2023-03-25T08:05:50.600Z"
   },
   {
    "duration": 80,
    "start_time": "2023-03-25T08:05:57.658Z"
   },
   {
    "duration": 4,
    "start_time": "2023-03-25T08:06:56.655Z"
   },
   {
    "duration": 85,
    "start_time": "2023-03-25T08:08:46.165Z"
   },
   {
    "duration": 4,
    "start_time": "2023-03-25T08:08:46.898Z"
   },
   {
    "duration": 29,
    "start_time": "2023-03-25T08:09:24.937Z"
   },
   {
    "duration": 4,
    "start_time": "2023-03-25T08:09:59.151Z"
   },
   {
    "duration": 108,
    "start_time": "2023-03-25T08:11:13.482Z"
   },
   {
    "duration": 50,
    "start_time": "2023-03-25T08:11:57.014Z"
   },
   {
    "duration": 2,
    "start_time": "2023-03-25T08:11:57.995Z"
   },
   {
    "duration": 11278,
    "start_time": "2023-03-25T08:11:58.981Z"
   },
   {
    "duration": 2,
    "start_time": "2023-03-25T08:13:01.589Z"
   },
   {
    "duration": 27,
    "start_time": "2023-03-25T08:13:01.593Z"
   },
   {
    "duration": 649,
    "start_time": "2023-03-25T08:13:01.622Z"
   },
   {
    "duration": 15,
    "start_time": "2023-03-25T08:13:02.273Z"
   },
   {
    "duration": 61,
    "start_time": "2023-03-25T08:13:02.291Z"
   },
   {
    "duration": 3,
    "start_time": "2023-03-25T08:13:02.354Z"
   },
   {
    "duration": 116,
    "start_time": "2023-03-25T08:13:02.359Z"
   },
   {
    "duration": 214,
    "start_time": "2023-03-25T08:13:02.477Z"
   },
   {
    "duration": 5,
    "start_time": "2023-03-25T08:13:02.693Z"
   },
   {
    "duration": 1648,
    "start_time": "2023-03-25T08:13:02.699Z"
   },
   {
    "duration": 331,
    "start_time": "2023-03-25T08:13:04.349Z"
   },
   {
    "duration": 72,
    "start_time": "2023-03-25T08:13:04.682Z"
   },
   {
    "duration": 100,
    "start_time": "2023-03-25T08:13:04.755Z"
   },
   {
    "duration": 70,
    "start_time": "2023-03-25T08:13:04.857Z"
   },
   {
    "duration": 3,
    "start_time": "2023-03-25T08:13:04.928Z"
   },
   {
    "duration": 52,
    "start_time": "2023-03-25T08:13:04.932Z"
   },
   {
    "duration": 99,
    "start_time": "2023-03-25T08:13:04.985Z"
   },
   {
    "duration": 50,
    "start_time": "2023-03-25T08:13:05.086Z"
   },
   {
    "duration": 48,
    "start_time": "2023-03-25T08:13:05.138Z"
   },
   {
    "duration": 14,
    "start_time": "2023-03-25T08:13:05.187Z"
   },
   {
    "duration": 96,
    "start_time": "2023-03-25T08:13:05.203Z"
   },
   {
    "duration": 47,
    "start_time": "2023-03-25T08:13:05.300Z"
   },
   {
    "duration": 47,
    "start_time": "2023-03-25T08:13:05.349Z"
   },
   {
    "duration": 215,
    "start_time": "2023-03-25T08:13:05.398Z"
   },
   {
    "duration": 36,
    "start_time": "2023-03-25T08:13:05.615Z"
   },
   {
    "duration": 34,
    "start_time": "2023-03-25T08:13:05.653Z"
   },
   {
    "duration": 46,
    "start_time": "2023-03-25T08:13:05.689Z"
   },
   {
    "duration": 61,
    "start_time": "2023-03-25T08:13:05.737Z"
   },
   {
    "duration": 22,
    "start_time": "2023-03-25T08:13:05.802Z"
   },
   {
    "duration": 629,
    "start_time": "2023-03-25T08:13:05.826Z"
   },
   {
    "duration": 23,
    "start_time": "2023-03-25T08:13:06.456Z"
   },
   {
    "duration": 28,
    "start_time": "2023-03-25T08:13:06.480Z"
   },
   {
    "duration": 40,
    "start_time": "2023-03-25T08:13:06.509Z"
   },
   {
    "duration": 125,
    "start_time": "2023-03-25T08:13:06.551Z"
   },
   {
    "duration": 18,
    "start_time": "2023-03-25T08:13:06.678Z"
   },
   {
    "duration": 104,
    "start_time": "2023-03-25T08:13:06.697Z"
   },
   {
    "duration": 7,
    "start_time": "2023-03-25T08:13:06.802Z"
   },
   {
    "duration": 22,
    "start_time": "2023-03-25T08:13:06.811Z"
   },
   {
    "duration": 118,
    "start_time": "2023-03-25T08:13:06.834Z"
   },
   {
    "duration": 15,
    "start_time": "2023-03-25T08:13:06.954Z"
   },
   {
    "duration": 22,
    "start_time": "2023-03-25T08:13:06.971Z"
   },
   {
    "duration": 116,
    "start_time": "2023-03-25T08:13:06.995Z"
   },
   {
    "duration": 155,
    "start_time": "2023-03-25T08:13:07.113Z"
   },
   {
    "duration": 4,
    "start_time": "2023-03-25T08:13:07.270Z"
   },
   {
    "duration": 57,
    "start_time": "2023-03-25T08:13:07.275Z"
   },
   {
    "duration": 252,
    "start_time": "2023-03-25T08:13:07.333Z"
   },
   {
    "duration": 175,
    "start_time": "2023-03-25T08:13:07.587Z"
   },
   {
    "duration": 213,
    "start_time": "2023-03-25T08:13:07.769Z"
   },
   {
    "duration": 21,
    "start_time": "2023-03-25T08:13:07.983Z"
   },
   {
    "duration": 37,
    "start_time": "2023-03-25T08:13:08.005Z"
   },
   {
    "duration": 199,
    "start_time": "2023-03-25T08:13:08.043Z"
   },
   {
    "duration": 220,
    "start_time": "2023-03-25T08:13:08.243Z"
   },
   {
    "duration": 417,
    "start_time": "2023-03-25T08:13:08.468Z"
   },
   {
    "duration": 34,
    "start_time": "2023-03-25T08:13:08.886Z"
   },
   {
    "duration": 51,
    "start_time": "2023-03-25T08:13:08.922Z"
   },
   {
    "duration": 2,
    "start_time": "2023-03-25T08:13:08.974Z"
   },
   {
    "duration": 2534,
    "start_time": "2023-03-25T08:13:32.789Z"
   },
   {
    "duration": 114169,
    "start_time": "2023-03-25T08:17:05.224Z"
   },
   {
    "duration": 274,
    "start_time": "2023-03-25T08:20:17.502Z"
   },
   {
    "duration": 5,
    "start_time": "2023-03-25T08:21:21.299Z"
   },
   {
    "duration": 121,
    "start_time": "2023-03-25T08:23:28.175Z"
   },
   {
    "duration": 3,
    "start_time": "2023-03-25T08:23:45.253Z"
   },
   {
    "duration": 2,
    "start_time": "2023-03-25T08:23:48.004Z"
   },
   {
    "duration": 99,
    "start_time": "2023-03-25T08:23:49.903Z"
   },
   {
    "duration": 3,
    "start_time": "2023-03-25T08:24:06.020Z"
   },
   {
    "duration": 37,
    "start_time": "2023-03-25T08:24:43.275Z"
   },
   {
    "duration": 13,
    "start_time": "2023-03-25T08:27:16.482Z"
   },
   {
    "duration": 9,
    "start_time": "2023-03-25T08:28:07.412Z"
   },
   {
    "duration": 3,
    "start_time": "2023-03-25T08:28:30.503Z"
   },
   {
    "duration": 3,
    "start_time": "2023-03-25T08:28:40.535Z"
   },
   {
    "duration": 12,
    "start_time": "2023-03-25T08:30:22.257Z"
   },
   {
    "duration": 12,
    "start_time": "2023-03-25T08:30:32.719Z"
   },
   {
    "duration": 15,
    "start_time": "2023-03-25T08:30:40.009Z"
   },
   {
    "duration": 3,
    "start_time": "2023-03-25T08:31:41.948Z"
   },
   {
    "duration": 14,
    "start_time": "2023-03-25T08:32:21.791Z"
   },
   {
    "duration": 440,
    "start_time": "2023-03-25T08:35:18.092Z"
   },
   {
    "duration": 55,
    "start_time": "2023-03-25T08:37:38.698Z"
   },
   {
    "duration": 2,
    "start_time": "2023-03-25T08:38:21.714Z"
   },
   {
    "duration": 6,
    "start_time": "2023-03-25T08:38:21.718Z"
   },
   {
    "duration": 635,
    "start_time": "2023-03-25T08:38:21.725Z"
   },
   {
    "duration": 14,
    "start_time": "2023-03-25T08:38:22.362Z"
   },
   {
    "duration": 54,
    "start_time": "2023-03-25T08:38:22.378Z"
   },
   {
    "duration": 5,
    "start_time": "2023-03-25T08:38:22.433Z"
   },
   {
    "duration": 139,
    "start_time": "2023-03-25T08:38:22.440Z"
   },
   {
    "duration": 179,
    "start_time": "2023-03-25T08:38:22.581Z"
   },
   {
    "duration": 9,
    "start_time": "2023-03-25T08:38:22.762Z"
   },
   {
    "duration": 1611,
    "start_time": "2023-03-25T08:38:22.772Z"
   },
   {
    "duration": 348,
    "start_time": "2023-03-25T08:38:24.385Z"
   },
   {
    "duration": 74,
    "start_time": "2023-03-25T08:38:24.735Z"
   },
   {
    "duration": 99,
    "start_time": "2023-03-25T08:38:24.810Z"
   },
   {
    "duration": 59,
    "start_time": "2023-03-25T08:38:24.910Z"
   },
   {
    "duration": 3,
    "start_time": "2023-03-25T08:38:24.971Z"
   },
   {
    "duration": 44,
    "start_time": "2023-03-25T08:38:24.975Z"
   },
   {
    "duration": 107,
    "start_time": "2023-03-25T08:38:25.021Z"
   },
   {
    "duration": 50,
    "start_time": "2023-03-25T08:38:25.130Z"
   },
   {
    "duration": 39,
    "start_time": "2023-03-25T08:38:25.182Z"
   },
   {
    "duration": 14,
    "start_time": "2023-03-25T08:38:25.223Z"
   },
   {
    "duration": 104,
    "start_time": "2023-03-25T08:38:25.238Z"
   },
   {
    "duration": 53,
    "start_time": "2023-03-25T08:38:25.344Z"
   },
   {
    "duration": 38,
    "start_time": "2023-03-25T08:38:25.398Z"
   },
   {
    "duration": 213,
    "start_time": "2023-03-25T08:38:25.440Z"
   },
   {
    "duration": 44,
    "start_time": "2023-03-25T08:38:25.654Z"
   },
   {
    "duration": 22,
    "start_time": "2023-03-25T08:38:25.700Z"
   },
   {
    "duration": 60,
    "start_time": "2023-03-25T08:38:25.724Z"
   },
   {
    "duration": 51,
    "start_time": "2023-03-25T08:38:25.785Z"
   },
   {
    "duration": 37,
    "start_time": "2023-03-25T08:38:25.837Z"
   },
   {
    "duration": 525,
    "start_time": "2023-03-25T08:38:25.876Z"
   },
   {
    "duration": 29,
    "start_time": "2023-03-25T08:38:26.402Z"
   },
   {
    "duration": 39,
    "start_time": "2023-03-25T08:38:26.432Z"
   },
   {
    "duration": 49,
    "start_time": "2023-03-25T08:38:26.472Z"
   },
   {
    "duration": 113,
    "start_time": "2023-03-25T08:38:26.522Z"
   },
   {
    "duration": 18,
    "start_time": "2023-03-25T08:38:26.637Z"
   },
   {
    "duration": 104,
    "start_time": "2023-03-25T08:38:26.657Z"
   },
   {
    "duration": 9,
    "start_time": "2023-03-25T08:38:26.762Z"
   },
   {
    "duration": 23,
    "start_time": "2023-03-25T08:38:26.772Z"
   },
   {
    "duration": 125,
    "start_time": "2023-03-25T08:38:26.796Z"
   },
   {
    "duration": 4,
    "start_time": "2023-03-25T08:38:26.923Z"
   },
   {
    "duration": 23,
    "start_time": "2023-03-25T08:38:26.928Z"
   },
   {
    "duration": 123,
    "start_time": "2023-03-25T08:38:26.952Z"
   },
   {
    "duration": 159,
    "start_time": "2023-03-25T08:38:27.076Z"
   },
   {
    "duration": 5,
    "start_time": "2023-03-25T08:38:27.236Z"
   },
   {
    "duration": 70,
    "start_time": "2023-03-25T08:38:27.242Z"
   },
   {
    "duration": 255,
    "start_time": "2023-03-25T08:38:27.313Z"
   },
   {
    "duration": 175,
    "start_time": "2023-03-25T08:38:27.570Z"
   },
   {
    "duration": 223,
    "start_time": "2023-03-25T08:38:27.747Z"
   },
   {
    "duration": 22,
    "start_time": "2023-03-25T08:38:27.971Z"
   },
   {
    "duration": 40,
    "start_time": "2023-03-25T08:38:27.994Z"
   },
   {
    "duration": 200,
    "start_time": "2023-03-25T08:38:28.035Z"
   },
   {
    "duration": 314,
    "start_time": "2023-03-25T08:38:28.236Z"
   },
   {
    "duration": 430,
    "start_time": "2023-03-25T08:38:28.552Z"
   },
   {
    "duration": 36,
    "start_time": "2023-03-25T08:38:28.984Z"
   },
   {
    "duration": 64,
    "start_time": "2023-03-25T08:38:29.021Z"
   },
   {
    "duration": 2,
    "start_time": "2023-03-25T08:38:29.087Z"
   },
   {
    "duration": 148,
    "start_time": "2023-03-25T08:38:29.090Z"
   },
   {
    "duration": 29,
    "start_time": "2023-03-25T08:38:29.240Z"
   },
   {
    "duration": 15,
    "start_time": "2023-03-25T08:38:29.271Z"
   },
   {
    "duration": 4,
    "start_time": "2023-03-25T08:38:29.287Z"
   },
   {
    "duration": 9,
    "start_time": "2023-03-25T08:38:29.292Z"
   },
   {
    "duration": 2,
    "start_time": "2023-03-25T08:38:29.302Z"
   },
   {
    "duration": 112793,
    "start_time": "2023-03-25T08:38:29.306Z"
   },
   {
    "duration": 224,
    "start_time": "2023-03-25T08:40:22.100Z"
   },
   {
    "duration": 5,
    "start_time": "2023-03-25T08:40:22.326Z"
   },
   {
    "duration": 262,
    "start_time": "2023-03-25T08:40:22.333Z"
   },
   {
    "duration": 4,
    "start_time": "2023-03-25T08:40:22.596Z"
   },
   {
    "duration": 5,
    "start_time": "2023-03-25T08:40:22.601Z"
   },
   {
    "duration": 136384,
    "start_time": "2023-03-25T08:40:37.903Z"
   },
   {
    "duration": 3,
    "start_time": "2023-03-25T08:43:29.603Z"
   },
   {
    "duration": 3,
    "start_time": "2023-03-25T08:43:30.425Z"
   },
   {
    "duration": 251132,
    "start_time": "2023-03-25T08:43:30.719Z"
   },
   {
    "duration": 3,
    "start_time": "2023-03-25T08:47:51.101Z"
   },
   {
    "duration": 2,
    "start_time": "2023-03-25T08:47:51.613Z"
   },
   {
    "duration": 131251,
    "start_time": "2023-03-25T08:47:52.119Z"
   },
   {
    "duration": 4,
    "start_time": "2023-03-25T08:50:11.008Z"
   },
   {
    "duration": 3,
    "start_time": "2023-03-25T08:50:27.284Z"
   },
   {
    "duration": 3,
    "start_time": "2023-03-25T08:50:27.672Z"
   },
   {
    "duration": 4,
    "start_time": "2023-03-25T08:50:28.177Z"
   },
   {
    "duration": 80,
    "start_time": "2023-03-25T08:50:28.731Z"
   },
   {
    "duration": 783890,
    "start_time": "2023-03-25T08:50:42.375Z"
   },
   {
    "duration": 1306,
    "start_time": "2023-03-25T09:03:51.333Z"
   },
   {
    "duration": 1218,
    "start_time": "2023-03-25T09:04:05.892Z"
   },
   {
    "duration": 137678,
    "start_time": "2023-03-25T09:07:55.512Z"
   },
   {
    "duration": 3,
    "start_time": "2023-03-25T09:10:13.192Z"
   },
   {
    "duration": 2478,
    "start_time": "2023-03-25T09:10:13.196Z"
   },
   {
    "duration": 14954,
    "start_time": "2023-03-25T09:10:57.527Z"
   },
   {
    "duration": 163288,
    "start_time": "2023-03-25T09:11:17.723Z"
   },
   {
    "duration": 3,
    "start_time": "2023-03-25T09:14:30.230Z"
   },
   {
    "duration": 166532,
    "start_time": "2023-03-25T09:14:30.580Z"
   },
   {
    "duration": 5,
    "start_time": "2023-03-25T09:20:30.070Z"
   },
   {
    "duration": 1313,
    "start_time": "2023-03-25T09:20:30.076Z"
   },
   {
    "duration": 674,
    "start_time": "2023-03-25T09:20:31.390Z"
   },
   {
    "duration": 15,
    "start_time": "2023-03-25T09:20:32.066Z"
   },
   {
    "duration": 49,
    "start_time": "2023-03-25T09:20:32.082Z"
   },
   {
    "duration": 4,
    "start_time": "2023-03-25T09:20:32.132Z"
   },
   {
    "duration": 120,
    "start_time": "2023-03-25T09:20:32.137Z"
   },
   {
    "duration": 178,
    "start_time": "2023-03-25T09:20:32.259Z"
   },
   {
    "duration": 5,
    "start_time": "2023-03-25T09:20:32.440Z"
   },
   {
    "duration": 1789,
    "start_time": "2023-03-25T09:20:32.446Z"
   },
   {
    "duration": 355,
    "start_time": "2023-03-25T09:20:34.237Z"
   },
   {
    "duration": 75,
    "start_time": "2023-03-25T09:20:34.594Z"
   },
   {
    "duration": 102,
    "start_time": "2023-03-25T09:20:34.671Z"
   },
   {
    "duration": 57,
    "start_time": "2023-03-25T09:20:34.774Z"
   },
   {
    "duration": 3,
    "start_time": "2023-03-25T09:20:34.833Z"
   },
   {
    "duration": 64,
    "start_time": "2023-03-25T09:20:34.837Z"
   },
   {
    "duration": 96,
    "start_time": "2023-03-25T09:20:34.902Z"
   },
   {
    "duration": 50,
    "start_time": "2023-03-25T09:20:34.999Z"
   },
   {
    "duration": 46,
    "start_time": "2023-03-25T09:20:35.051Z"
   },
   {
    "duration": 14,
    "start_time": "2023-03-25T09:20:35.098Z"
   },
   {
    "duration": 119,
    "start_time": "2023-03-25T09:20:35.114Z"
   },
   {
    "duration": 61,
    "start_time": "2023-03-25T09:20:35.235Z"
   },
   {
    "duration": 36,
    "start_time": "2023-03-25T09:20:35.298Z"
   },
   {
    "duration": 225,
    "start_time": "2023-03-25T09:20:35.338Z"
   },
   {
    "duration": 36,
    "start_time": "2023-03-25T09:20:35.568Z"
   },
   {
    "duration": 23,
    "start_time": "2023-03-25T09:20:35.605Z"
   },
   {
    "duration": 68,
    "start_time": "2023-03-25T09:20:35.630Z"
   },
   {
    "duration": 83,
    "start_time": "2023-03-25T09:20:35.699Z"
   },
   {
    "duration": 22,
    "start_time": "2023-03-25T09:20:35.783Z"
   },
   {
    "duration": 539,
    "start_time": "2023-03-25T09:20:35.807Z"
   },
   {
    "duration": 38,
    "start_time": "2023-03-25T09:20:36.347Z"
   },
   {
    "duration": 32,
    "start_time": "2023-03-25T09:20:36.387Z"
   },
   {
    "duration": 53,
    "start_time": "2023-03-25T09:20:36.421Z"
   },
   {
    "duration": 117,
    "start_time": "2023-03-25T09:20:36.476Z"
   },
   {
    "duration": 19,
    "start_time": "2023-03-25T09:20:36.594Z"
   },
   {
    "duration": 173,
    "start_time": "2023-03-25T09:20:36.615Z"
   },
   {
    "duration": 8,
    "start_time": "2023-03-25T09:20:36.790Z"
   },
   {
    "duration": 31,
    "start_time": "2023-03-25T09:20:36.799Z"
   },
   {
    "duration": 121,
    "start_time": "2023-03-25T09:20:36.832Z"
   },
   {
    "duration": 14,
    "start_time": "2023-03-25T09:20:36.955Z"
   },
   {
    "duration": 23,
    "start_time": "2023-03-25T09:20:36.970Z"
   },
   {
    "duration": 114,
    "start_time": "2023-03-25T09:20:36.994Z"
   },
   {
    "duration": 159,
    "start_time": "2023-03-25T09:20:37.110Z"
   },
   {
    "duration": 5,
    "start_time": "2023-03-25T09:20:37.271Z"
   },
   {
    "duration": 58,
    "start_time": "2023-03-25T09:20:37.278Z"
   },
   {
    "duration": 277,
    "start_time": "2023-03-25T09:20:37.337Z"
   },
   {
    "duration": 187,
    "start_time": "2023-03-25T09:20:37.616Z"
   },
   {
    "duration": 227,
    "start_time": "2023-03-25T09:20:37.805Z"
   },
   {
    "duration": 22,
    "start_time": "2023-03-25T09:20:38.034Z"
   },
   {
    "duration": 43,
    "start_time": "2023-03-25T09:20:38.057Z"
   },
   {
    "duration": 204,
    "start_time": "2023-03-25T09:20:38.101Z"
   },
   {
    "duration": 266,
    "start_time": "2023-03-25T09:20:38.307Z"
   },
   {
    "duration": 424,
    "start_time": "2023-03-25T09:20:38.575Z"
   },
   {
    "duration": 42,
    "start_time": "2023-03-25T09:20:39.001Z"
   },
   {
    "duration": 81,
    "start_time": "2023-03-25T09:20:39.045Z"
   },
   {
    "duration": 2,
    "start_time": "2023-03-25T09:20:39.128Z"
   },
   {
    "duration": 147,
    "start_time": "2023-03-25T09:20:39.132Z"
   },
   {
    "duration": 13,
    "start_time": "2023-03-25T09:20:39.281Z"
   },
   {
    "duration": 26,
    "start_time": "2023-03-25T09:20:39.296Z"
   },
   {
    "duration": 11,
    "start_time": "2023-03-25T09:20:39.324Z"
   },
   {
    "duration": 4,
    "start_time": "2023-03-25T09:20:39.336Z"
   },
   {
    "duration": 31,
    "start_time": "2023-03-25T09:20:39.341Z"
   },
   {
    "duration": 3,
    "start_time": "2023-03-25T09:20:39.373Z"
   },
   {
    "duration": 116289,
    "start_time": "2023-03-25T09:20:39.377Z"
   },
   {
    "duration": 253,
    "start_time": "2023-03-25T09:22:35.667Z"
   },
   {
    "duration": 4,
    "start_time": "2023-03-25T09:22:35.921Z"
   },
   {
    "duration": 137,
    "start_time": "2023-03-25T09:22:35.927Z"
   },
   {
    "duration": 97,
    "start_time": "2023-03-25T09:22:36.065Z"
   },
   {
    "duration": 0,
    "start_time": "2023-03-25T09:22:36.168Z"
   },
   {
    "duration": 0,
    "start_time": "2023-03-25T09:22:36.169Z"
   },
   {
    "duration": 0,
    "start_time": "2023-03-25T09:22:36.171Z"
   },
   {
    "duration": 0,
    "start_time": "2023-03-25T09:22:36.171Z"
   },
   {
    "duration": 0,
    "start_time": "2023-03-25T09:22:36.172Z"
   },
   {
    "duration": 0,
    "start_time": "2023-03-25T09:22:36.174Z"
   },
   {
    "duration": 0,
    "start_time": "2023-03-25T09:22:36.174Z"
   },
   {
    "duration": 0,
    "start_time": "2023-03-25T09:22:36.175Z"
   },
   {
    "duration": 0,
    "start_time": "2023-03-25T09:22:36.176Z"
   },
   {
    "duration": 0,
    "start_time": "2023-03-25T09:22:36.177Z"
   },
   {
    "duration": 0,
    "start_time": "2023-03-25T09:22:36.178Z"
   },
   {
    "duration": 0,
    "start_time": "2023-03-25T09:22:36.179Z"
   },
   {
    "duration": 0,
    "start_time": "2023-03-25T09:22:36.180Z"
   },
   {
    "duration": 0,
    "start_time": "2023-03-25T09:22:36.181Z"
   },
   {
    "duration": 0,
    "start_time": "2023-03-25T09:22:36.182Z"
   },
   {
    "duration": 0,
    "start_time": "2023-03-25T09:22:36.183Z"
   },
   {
    "duration": 3,
    "start_time": "2023-03-25T09:23:15.975Z"
   },
   {
    "duration": 3,
    "start_time": "2023-03-25T09:23:16.669Z"
   },
   {
    "duration": 56049,
    "start_time": "2023-03-25T09:23:19.307Z"
   },
   {
    "duration": 5,
    "start_time": "2023-03-25T09:25:19.425Z"
   },
   {
    "duration": 4,
    "start_time": "2023-03-25T09:27:08.664Z"
   },
   {
    "duration": 77584,
    "start_time": "2023-03-25T09:27:55.502Z"
   },
   {
    "duration": 3,
    "start_time": "2023-03-25T09:29:28.863Z"
   },
   {
    "duration": 2,
    "start_time": "2023-03-25T09:29:30.396Z"
   },
   {
    "duration": 52869,
    "start_time": "2023-03-25T09:29:31.102Z"
   },
   {
    "duration": 149742,
    "start_time": "2023-03-25T09:30:29.127Z"
   },
   {
    "duration": 8072,
    "start_time": "2023-03-25T09:33:16.110Z"
   },
   {
    "duration": 7958,
    "start_time": "2023-03-25T09:33:36.847Z"
   },
   {
    "duration": 14,
    "start_time": "2023-03-25T09:33:48.092Z"
   },
   {
    "duration": 5,
    "start_time": "2023-03-25T09:33:57.352Z"
   },
   {
    "duration": 136,
    "start_time": "2023-03-25T09:34:47.132Z"
   },
   {
    "duration": 22093,
    "start_time": "2023-03-25T09:35:33.224Z"
   },
   {
    "duration": 810,
    "start_time": "2023-03-25T09:36:11.343Z"
   },
   {
    "duration": 5,
    "start_time": "2023-03-25T09:36:48.628Z"
   },
   {
    "duration": 106691,
    "start_time": "2023-03-25T09:45:10.575Z"
   },
   {
    "duration": 2,
    "start_time": "2023-03-25T09:47:41.485Z"
   },
   {
    "duration": 3,
    "start_time": "2023-03-25T09:47:49.051Z"
   },
   {
    "duration": 3,
    "start_time": "2023-03-25T09:52:05.751Z"
   },
   {
    "duration": 4953,
    "start_time": "2023-03-25T09:52:44.143Z"
   },
   {
    "duration": 3,
    "start_time": "2023-03-25T15:06:29.674Z"
   },
   {
    "duration": 1443,
    "start_time": "2023-03-25T15:06:29.678Z"
   },
   {
    "duration": 894,
    "start_time": "2023-03-25T15:06:31.122Z"
   },
   {
    "duration": 14,
    "start_time": "2023-03-25T15:06:32.017Z"
   },
   {
    "duration": 52,
    "start_time": "2023-03-25T15:06:32.033Z"
   },
   {
    "duration": 3,
    "start_time": "2023-03-25T15:06:32.086Z"
   },
   {
    "duration": 111,
    "start_time": "2023-03-25T15:06:32.090Z"
   },
   {
    "duration": 220,
    "start_time": "2023-03-25T15:06:32.202Z"
   },
   {
    "duration": 9,
    "start_time": "2023-03-25T15:06:32.423Z"
   },
   {
    "duration": 1689,
    "start_time": "2023-03-25T15:06:32.433Z"
   },
   {
    "duration": 348,
    "start_time": "2023-03-25T15:06:34.125Z"
   },
   {
    "duration": 144,
    "start_time": "2023-03-25T15:06:34.475Z"
   },
   {
    "duration": 116,
    "start_time": "2023-03-25T15:06:34.620Z"
   },
   {
    "duration": 58,
    "start_time": "2023-03-25T15:06:34.737Z"
   },
   {
    "duration": 4,
    "start_time": "2023-03-25T15:06:34.796Z"
   },
   {
    "duration": 70,
    "start_time": "2023-03-25T15:06:34.802Z"
   },
   {
    "duration": 89,
    "start_time": "2023-03-25T15:06:34.874Z"
   },
   {
    "duration": 50,
    "start_time": "2023-03-25T15:06:34.964Z"
   },
   {
    "duration": 57,
    "start_time": "2023-03-25T15:06:35.015Z"
   },
   {
    "duration": 13,
    "start_time": "2023-03-25T15:06:35.073Z"
   },
   {
    "duration": 115,
    "start_time": "2023-03-25T15:06:35.088Z"
   },
   {
    "duration": 69,
    "start_time": "2023-03-25T15:06:35.205Z"
   },
   {
    "duration": 46,
    "start_time": "2023-03-25T15:06:35.276Z"
   },
   {
    "duration": 230,
    "start_time": "2023-03-25T15:06:35.323Z"
   },
   {
    "duration": 41,
    "start_time": "2023-03-25T15:06:35.554Z"
   },
   {
    "duration": 23,
    "start_time": "2023-03-25T15:06:35.596Z"
   },
   {
    "duration": 62,
    "start_time": "2023-03-25T15:06:35.620Z"
   },
   {
    "duration": 43,
    "start_time": "2023-03-25T15:06:35.684Z"
   },
   {
    "duration": 32,
    "start_time": "2023-03-25T15:06:35.731Z"
   },
   {
    "duration": 545,
    "start_time": "2023-03-25T15:06:35.764Z"
   },
   {
    "duration": 29,
    "start_time": "2023-03-25T15:06:36.311Z"
   },
   {
    "duration": 31,
    "start_time": "2023-03-25T15:06:36.348Z"
   },
   {
    "duration": 54,
    "start_time": "2023-03-25T15:06:36.381Z"
   },
   {
    "duration": 114,
    "start_time": "2023-03-25T15:06:36.436Z"
   },
   {
    "duration": 18,
    "start_time": "2023-03-25T15:06:36.551Z"
   },
   {
    "duration": 163,
    "start_time": "2023-03-25T15:06:36.571Z"
   },
   {
    "duration": 13,
    "start_time": "2023-03-25T15:06:36.736Z"
   },
   {
    "duration": 31,
    "start_time": "2023-03-25T15:06:36.750Z"
   },
   {
    "duration": 120,
    "start_time": "2023-03-25T15:06:36.782Z"
   },
   {
    "duration": 4,
    "start_time": "2023-03-25T15:06:36.904Z"
   },
   {
    "duration": 34,
    "start_time": "2023-03-25T15:06:36.909Z"
   },
   {
    "duration": 106,
    "start_time": "2023-03-25T15:06:36.944Z"
   },
   {
    "duration": 163,
    "start_time": "2023-03-25T15:06:37.051Z"
   },
   {
    "duration": 4,
    "start_time": "2023-03-25T15:06:37.215Z"
   },
   {
    "duration": 75,
    "start_time": "2023-03-25T15:06:37.220Z"
   },
   {
    "duration": 247,
    "start_time": "2023-03-25T15:06:37.296Z"
   },
   {
    "duration": 179,
    "start_time": "2023-03-25T15:06:37.548Z"
   },
   {
    "duration": 221,
    "start_time": "2023-03-25T15:06:37.729Z"
   },
   {
    "duration": 23,
    "start_time": "2023-03-25T15:06:37.951Z"
   },
   {
    "duration": 48,
    "start_time": "2023-03-25T15:06:37.975Z"
   },
   {
    "duration": 202,
    "start_time": "2023-03-25T15:06:38.025Z"
   },
   {
    "duration": 235,
    "start_time": "2023-03-25T15:06:38.229Z"
   },
   {
    "duration": 419,
    "start_time": "2023-03-25T15:06:38.465Z"
   },
   {
    "duration": 37,
    "start_time": "2023-03-25T15:06:38.885Z"
   },
   {
    "duration": 53,
    "start_time": "2023-03-25T15:06:38.924Z"
   },
   {
    "duration": 2,
    "start_time": "2023-03-25T15:06:38.979Z"
   },
   {
    "duration": 159,
    "start_time": "2023-03-25T15:06:38.982Z"
   },
   {
    "duration": 14,
    "start_time": "2023-03-25T15:06:39.142Z"
   },
   {
    "duration": 24,
    "start_time": "2023-03-25T15:06:39.158Z"
   },
   {
    "duration": 11,
    "start_time": "2023-03-25T15:06:39.183Z"
   },
   {
    "duration": 5,
    "start_time": "2023-03-25T15:06:39.195Z"
   },
   {
    "duration": 9,
    "start_time": "2023-03-25T15:06:39.201Z"
   },
   {
    "duration": 3,
    "start_time": "2023-03-25T15:06:39.211Z"
   },
   {
    "duration": 123028,
    "start_time": "2023-03-25T15:06:39.215Z"
   },
   {
    "duration": 281,
    "start_time": "2023-03-25T15:08:42.244Z"
   },
   {
    "duration": 5,
    "start_time": "2023-03-25T15:08:42.526Z"
   },
   {
    "duration": 148,
    "start_time": "2023-03-25T15:08:42.533Z"
   },
   {
    "duration": 4,
    "start_time": "2023-03-25T15:08:42.683Z"
   },
   {
    "duration": 4,
    "start_time": "2023-03-25T15:08:42.688Z"
   },
   {
    "duration": 9,
    "start_time": "2023-03-25T15:08:42.694Z"
   },
   {
    "duration": 3,
    "start_time": "2023-03-25T17:00:16.572Z"
   },
   {
    "duration": 1376,
    "start_time": "2023-03-25T17:00:16.577Z"
   },
   {
    "duration": 764,
    "start_time": "2023-03-25T17:00:17.954Z"
   },
   {
    "duration": 14,
    "start_time": "2023-03-25T17:00:18.720Z"
   },
   {
    "duration": 86,
    "start_time": "2023-03-25T17:00:18.736Z"
   },
   {
    "duration": 5,
    "start_time": "2023-03-25T17:00:18.823Z"
   },
   {
    "duration": 139,
    "start_time": "2023-03-25T17:00:18.829Z"
   },
   {
    "duration": 254,
    "start_time": "2023-03-25T17:00:18.972Z"
   },
   {
    "duration": 18,
    "start_time": "2023-03-25T17:00:19.228Z"
   },
   {
    "duration": 1985,
    "start_time": "2023-03-25T17:00:19.247Z"
   },
   {
    "duration": 353,
    "start_time": "2023-03-25T17:00:21.233Z"
   },
   {
    "duration": 105,
    "start_time": "2023-03-25T17:00:21.588Z"
   },
   {
    "duration": 110,
    "start_time": "2023-03-25T17:00:21.695Z"
   },
   {
    "duration": 101,
    "start_time": "2023-03-25T17:00:21.808Z"
   },
   {
    "duration": 5,
    "start_time": "2023-03-25T17:00:21.910Z"
   },
   {
    "duration": 71,
    "start_time": "2023-03-25T17:00:21.916Z"
   },
   {
    "duration": 106,
    "start_time": "2023-03-25T17:00:21.989Z"
   },
   {
    "duration": 93,
    "start_time": "2023-03-25T17:00:22.097Z"
   },
   {
    "duration": 57,
    "start_time": "2023-03-25T17:00:22.192Z"
   },
   {
    "duration": 25,
    "start_time": "2023-03-25T17:00:22.251Z"
   },
   {
    "duration": 124,
    "start_time": "2023-03-25T17:00:22.279Z"
   },
   {
    "duration": 67,
    "start_time": "2023-03-25T17:00:22.404Z"
   },
   {
    "duration": 46,
    "start_time": "2023-03-25T17:00:22.472Z"
   },
   {
    "duration": 250,
    "start_time": "2023-03-25T17:00:22.519Z"
   },
   {
    "duration": 58,
    "start_time": "2023-03-25T17:00:22.770Z"
   },
   {
    "duration": 49,
    "start_time": "2023-03-25T17:00:22.829Z"
   },
   {
    "duration": 51,
    "start_time": "2023-03-25T17:00:22.880Z"
   },
   {
    "duration": 59,
    "start_time": "2023-03-25T17:00:22.933Z"
   },
   {
    "duration": 23,
    "start_time": "2023-03-25T17:00:22.993Z"
   },
   {
    "duration": 584,
    "start_time": "2023-03-25T17:00:23.017Z"
   },
   {
    "duration": 29,
    "start_time": "2023-03-25T17:00:23.603Z"
   },
   {
    "duration": 43,
    "start_time": "2023-03-25T17:00:23.633Z"
   },
   {
    "duration": 45,
    "start_time": "2023-03-25T17:00:23.677Z"
   },
   {
    "duration": 149,
    "start_time": "2023-03-25T17:00:23.724Z"
   },
   {
    "duration": 19,
    "start_time": "2023-03-25T17:00:23.874Z"
   },
   {
    "duration": 172,
    "start_time": "2023-03-25T17:00:23.895Z"
   },
   {
    "duration": 10,
    "start_time": "2023-03-25T17:00:24.069Z"
   },
   {
    "duration": 34,
    "start_time": "2023-03-25T17:00:24.080Z"
   },
   {
    "duration": 143,
    "start_time": "2023-03-25T17:00:24.116Z"
   },
   {
    "duration": 5,
    "start_time": "2023-03-25T17:00:24.260Z"
   },
   {
    "duration": 30,
    "start_time": "2023-03-25T17:00:24.274Z"
   },
   {
    "duration": 120,
    "start_time": "2023-03-25T17:00:24.305Z"
   },
   {
    "duration": 223,
    "start_time": "2023-03-25T17:00:24.427Z"
   },
   {
    "duration": 6,
    "start_time": "2023-03-25T17:00:24.651Z"
   },
   {
    "duration": 153,
    "start_time": "2023-03-25T17:00:24.658Z"
   },
   {
    "duration": 272,
    "start_time": "2023-03-25T17:00:24.812Z"
   },
   {
    "duration": 206,
    "start_time": "2023-03-25T17:00:25.085Z"
   },
   {
    "duration": 243,
    "start_time": "2023-03-25T17:00:25.293Z"
   },
   {
    "duration": 34,
    "start_time": "2023-03-25T17:00:25.537Z"
   },
   {
    "duration": 41,
    "start_time": "2023-03-25T17:00:25.572Z"
   },
   {
    "duration": 231,
    "start_time": "2023-03-25T17:00:25.614Z"
   },
   {
    "duration": 256,
    "start_time": "2023-03-25T17:00:25.848Z"
   },
   {
    "duration": 448,
    "start_time": "2023-03-25T17:00:26.105Z"
   },
   {
    "duration": 70,
    "start_time": "2023-03-25T17:00:26.554Z"
   },
   {
    "duration": 69,
    "start_time": "2023-03-25T17:00:26.625Z"
   },
   {
    "duration": 3,
    "start_time": "2023-03-25T17:00:26.696Z"
   },
   {
    "duration": 185,
    "start_time": "2023-03-25T17:00:26.700Z"
   },
   {
    "duration": 12,
    "start_time": "2023-03-25T17:00:26.887Z"
   },
   {
    "duration": 25,
    "start_time": "2023-03-25T17:00:26.900Z"
   },
   {
    "duration": 35,
    "start_time": "2023-03-25T17:00:26.927Z"
   },
   {
    "duration": 7,
    "start_time": "2023-03-25T17:00:26.964Z"
   },
   {
    "duration": 14,
    "start_time": "2023-03-25T17:00:26.972Z"
   },
   {
    "duration": 3,
    "start_time": "2023-03-25T17:00:26.988Z"
   },
   {
    "duration": 137513,
    "start_time": "2023-03-25T17:00:26.993Z"
   },
   {
    "duration": 373,
    "start_time": "2023-03-25T17:02:44.508Z"
   },
   {
    "duration": 6,
    "start_time": "2023-03-25T17:02:44.884Z"
   },
   {
    "duration": 210,
    "start_time": "2023-03-25T17:02:44.892Z"
   },
   {
    "duration": 3,
    "start_time": "2023-03-25T17:02:45.104Z"
   },
   {
    "duration": 8,
    "start_time": "2023-03-25T17:02:45.109Z"
   },
   {
    "duration": 4,
    "start_time": "2023-03-25T17:02:45.119Z"
   },
   {
    "duration": 437382,
    "start_time": "2023-03-25T17:02:45.125Z"
   },
   {
    "duration": 330,
    "start_time": "2023-03-25T17:10:02.508Z"
   },
   {
    "duration": 8,
    "start_time": "2023-03-25T17:10:02.839Z"
   },
   {
    "duration": 0,
    "start_time": "2023-03-25T17:10:02.848Z"
   },
   {
    "duration": 0,
    "start_time": "2023-03-25T17:10:02.849Z"
   },
   {
    "duration": 0,
    "start_time": "2023-03-25T17:10:02.850Z"
   },
   {
    "duration": 0,
    "start_time": "2023-03-25T17:10:02.851Z"
   },
   {
    "duration": 0,
    "start_time": "2023-03-25T17:10:02.852Z"
   },
   {
    "duration": 413969,
    "start_time": "2023-03-25T17:10:12.269Z"
   },
   {
    "duration": 1550,
    "start_time": "2023-04-26T09:27:56.345Z"
   }
  ],
  "colab": {
   "provenance": []
  },
  "kernelspec": {
   "display_name": "Python 3 (ipykernel)",
   "language": "python",
   "name": "python3"
  },
  "language_info": {
   "codemirror_mode": {
    "name": "ipython",
    "version": 3
   },
   "file_extension": ".py",
   "mimetype": "text/x-python",
   "name": "python",
   "nbconvert_exporter": "python",
   "pygments_lexer": "ipython3",
   "version": "3.9.5"
  },
  "toc": {
   "base_numbering": 1,
   "nav_menu": {
    "height": "283px",
    "width": "279px"
   },
   "number_sections": true,
   "sideBar": true,
   "skip_h1_title": true,
   "title_cell": "Table of Contents",
   "title_sidebar": "Contents",
   "toc_cell": false,
   "toc_position": {},
   "toc_section_display": true,
   "toc_window_display": false
  },
  "widgets": {
   "application/vnd.jupyter.widget-state+json": {
    "77cd2f87359f42ae8d95e9795099a626": {
     "model_module": "catboost-widget",
     "model_module_version": "^1.0.0",
     "model_name": "CatboostWidgetModel",
     "state": {
      "_dom_classes": [],
      "_model_module": "catboost-widget",
      "_model_module_version": "^1.0.0",
      "_model_name": "CatboostWidgetModel",
      "_view_count": null,
      "_view_module": "catboost-widget",
      "_view_module_version": "^1.0.0",
      "_view_name": "CatboostWidgetView",
      "data": {
       "catboost_info": {
        "content": {
         "data": {
          "iterations": [
           {
            "iteration": 0,
            "learn": [
             4457.736502
            ],
            "passed_time": 0.2003210675,
            "remaining_time": 200.1207464,
            "test": [
             4458.967222
            ]
           },
           {
            "iteration": 1,
            "learn": [
             4307.778712
            ],
            "passed_time": 0.3727462499,
            "remaining_time": 186.0003787,
            "test": [
             4309.547342
            ]
           },
           {
            "iteration": 2,
            "learn": [
             4165.285994
            ],
            "passed_time": 0.563596117,
            "remaining_time": 187.3017762,
            "test": [
             4168.045027
            ]
           },
           {
            "iteration": 3,
            "learn": [
             4030.783243
            ],
            "passed_time": 0.7234901378,
            "remaining_time": 180.1490443,
            "test": [
             4034.177644
            ]
           },
           {
            "iteration": 4,
            "learn": [
             3903.990563
            ],
            "passed_time": 0.9276486103,
            "remaining_time": 184.6020734,
            "test": [
             3908.354472
            ]
           },
           {
            "iteration": 5,
            "learn": [
             3786.277215
            ],
            "passed_time": 1.094096637,
            "remaining_time": 181.2553429,
            "test": [
             3791.289322
            ]
           },
           {
            "iteration": 6,
            "learn": [
             3673.240115
            ],
            "passed_time": 1.2539054,
            "remaining_time": 177.8754374,
            "test": [
             3678.783127
            ]
           },
           {
            "iteration": 7,
            "learn": [
             3566.067146
            ],
            "passed_time": 1.394836591,
            "remaining_time": 172.9597373,
            "test": [
             3572.802918
            ]
           },
           {
            "iteration": 8,
            "learn": [
             3466.518766
            ],
            "passed_time": 1.572866978,
            "remaining_time": 173.1901305,
            "test": [
             3473.429862
            ]
           },
           {
            "iteration": 9,
            "learn": [
             3371.599558
            ],
            "passed_time": 1.742607869,
            "remaining_time": 172.518179,
            "test": [
             3379.304411
            ]
           },
           {
            "iteration": 10,
            "learn": [
             3284.281703
            ],
            "passed_time": 1.904068532,
            "remaining_time": 171.1930707,
            "test": [
             3292.311507
            ]
           },
           {
            "iteration": 11,
            "learn": [
             3202.857886
            ],
            "passed_time": 2.086805184,
            "remaining_time": 171.8136268,
            "test": [
             3211.214856
            ]
           },
           {
            "iteration": 12,
            "learn": [
             3125.058151
            ],
            "passed_time": 2.264243875,
            "remaining_time": 171.9083619,
            "test": [
             3134.077167
            ]
           },
           {
            "iteration": 13,
            "learn": [
             3051.531254
            ],
            "passed_time": 2.411481722,
            "remaining_time": 169.8372127,
            "test": [
             3060.837429
            ]
           },
           {
            "iteration": 14,
            "learn": [
             2981.572745
            ],
            "passed_time": 2.597741529,
            "remaining_time": 170.5850271,
            "test": [
             2991.299356
            ]
           },
           {
            "iteration": 15,
            "learn": [
             2917.660277
            ],
            "passed_time": 2.751404868,
            "remaining_time": 169.2113994,
            "test": [
             2927.660951
            ]
           },
           {
            "iteration": 16,
            "learn": [
             2857.830353
            ],
            "passed_time": 2.898833453,
            "remaining_time": 167.6207814,
            "test": [
             2868.013273
            ]
           },
           {
            "iteration": 17,
            "learn": [
             2800.347658
            ],
            "passed_time": 3.048994928,
            "remaining_time": 166.3396122,
            "test": [
             2810.955678
            ]
           },
           {
            "iteration": 18,
            "learn": [
             2745.831302
            ],
            "passed_time": 3.20875526,
            "remaining_time": 165.6731005,
            "test": [
             2757.301468
            ]
           },
           {
            "iteration": 19,
            "learn": [
             2695.741332
            ],
            "passed_time": 3.387515506,
            "remaining_time": 165.9882598,
            "test": [
             2707.999613
            ]
           },
           {
            "iteration": 20,
            "learn": [
             2648.561285
            ],
            "passed_time": 3.549816137,
            "remaining_time": 165.4890475,
            "test": [
             2661.465357
            ]
           },
           {
            "iteration": 21,
            "learn": [
             2603.805135
            ],
            "passed_time": 3.685695472,
            "remaining_time": 163.8459169,
            "test": [
             2617.063721
            ]
           },
           {
            "iteration": 22,
            "learn": [
             2561.199914
            ],
            "passed_time": 3.807733626,
            "remaining_time": 161.7459023,
            "test": [
             2574.326937
            ]
           },
           {
            "iteration": 23,
            "learn": [
             2522.31814
            ],
            "passed_time": 3.988783329,
            "remaining_time": 162.210522,
            "test": [
             2535.542434
            ]
           },
           {
            "iteration": 24,
            "learn": [
             2485.464289
            ],
            "passed_time": 4.126922812,
            "remaining_time": 160.9499897,
            "test": [
             2498.511555
            ]
           },
           {
            "iteration": 25,
            "learn": [
             2450.475725
            ],
            "passed_time": 4.265344107,
            "remaining_time": 159.7863523,
            "test": [
             2463.936112
            ]
           },
           {
            "iteration": 26,
            "learn": [
             2416.68042
            ],
            "passed_time": 4.391224411,
            "remaining_time": 158.2467167,
            "test": [
             2430.650149
            ]
           },
           {
            "iteration": 27,
            "learn": [
             2387.218895
            ],
            "passed_time": 4.546313834,
            "remaining_time": 157.8220374,
            "test": [
             2401.327484
            ]
           },
           {
            "iteration": 28,
            "learn": [
             2359.414045
            ],
            "passed_time": 4.697614938,
            "remaining_time": 157.2891071,
            "test": [
             2373.844835
            ]
           },
           {
            "iteration": 29,
            "learn": [
             2330.255686
            ],
            "passed_time": 4.830540071,
            "remaining_time": 156.1874623,
            "test": [
             2344.172738
            ]
           },
           {
            "iteration": 30,
            "learn": [
             2306.044278
            ],
            "passed_time": 5.018128579,
            "remaining_time": 156.8569869,
            "test": [
             2320.217804
            ]
           },
           {
            "iteration": 31,
            "learn": [
             2279.716408
            ],
            "passed_time": 5.165691396,
            "remaining_time": 156.2621647,
            "test": [
             2293.783116
            ]
           },
           {
            "iteration": 32,
            "learn": [
             2256.376817
            ],
            "passed_time": 5.304549188,
            "remaining_time": 155.4393656,
            "test": [
             2270.102858
            ]
           },
           {
            "iteration": 33,
            "learn": [
             2235.828955
            ],
            "passed_time": 5.485304236,
            "remaining_time": 155.8471733,
            "test": [
             2249.642204
            ]
           },
           {
            "iteration": 34,
            "learn": [
             2216.340986
            ],
            "passed_time": 5.599693589,
            "remaining_time": 154.3915518,
            "test": [
             2230.674404
            ]
           },
           {
            "iteration": 35,
            "learn": [
             2195.725645
            ],
            "passed_time": 5.764700081,
            "remaining_time": 154.3658577,
            "test": [
             2209.766517
            ]
           },
           {
            "iteration": 36,
            "learn": [
             2179.403784
            ],
            "passed_time": 5.94579124,
            "remaining_time": 154.7512693,
            "test": [
             2193.456238
            ]
           },
           {
            "iteration": 37,
            "learn": [
             2163.95599
            ],
            "passed_time": 6.064857711,
            "remaining_time": 153.536661,
            "test": [
             2178.025425
            ]
           },
           {
            "iteration": 38,
            "learn": [
             2148.479827
            ],
            "passed_time": 6.210956674,
            "remaining_time": 153.0443427,
            "test": [
             2162.623674
            ]
           },
           {
            "iteration": 39,
            "learn": [
             2132.406268
            ],
            "passed_time": 6.365621812,
            "remaining_time": 152.7749235,
            "test": [
             2145.865095
            ]
           },
           {
            "iteration": 40,
            "learn": [
             2117.054712
            ],
            "passed_time": 6.51647245,
            "remaining_time": 152.42188,
            "test": [
             2130.651274
            ]
           },
           {
            "iteration": 41,
            "learn": [
             2103.309395
            ],
            "passed_time": 6.659743562,
            "remaining_time": 151.9055793,
            "test": [
             2116.71784
            ]
           },
           {
            "iteration": 42,
            "learn": [
             2090.462116
            ],
            "passed_time": 6.818413997,
            "remaining_time": 151.7493534,
            "test": [
             2103.860388
            ]
           },
           {
            "iteration": 43,
            "learn": [
             2076.713971
            ],
            "passed_time": 6.977843809,
            "remaining_time": 151.6095155,
            "test": [
             2090.073393
            ]
           },
           {
            "iteration": 44,
            "learn": [
             2065.991567
            ],
            "passed_time": 7.101540169,
            "remaining_time": 150.7104636,
            "test": [
             2078.6776
            ]
           },
           {
            "iteration": 45,
            "learn": [
             2056.086144
            ],
            "passed_time": 7.229555761,
            "remaining_time": 149.9346999,
            "test": [
             2068.099943
            ]
           },
           {
            "iteration": 46,
            "learn": [
             2045.059921
            ],
            "passed_time": 7.350783613,
            "remaining_time": 149.0488677,
            "test": [
             2056.878718
            ]
           },
           {
            "iteration": 47,
            "learn": [
             2036.186088
            ],
            "passed_time": 7.498905048,
            "remaining_time": 148.7282835,
            "test": [
             2047.67954
            ]
           },
           {
            "iteration": 48,
            "learn": [
             2026.266712
            ],
            "passed_time": 7.668836761,
            "remaining_time": 148.8380359,
            "test": [
             2037.268249
            ]
           },
           {
            "iteration": 49,
            "learn": [
             2019.089981
            ],
            "passed_time": 7.791597944,
            "remaining_time": 148.0403609,
            "test": [
             2029.455718
            ]
           },
           {
            "iteration": 50,
            "learn": [
             2009.518625
            ],
            "passed_time": 7.937018479,
            "remaining_time": 147.6907948,
            "test": [
             2019.836704
            ]
           },
           {
            "iteration": 51,
            "learn": [
             2001.829467
            ],
            "passed_time": 8.120722376,
            "remaining_time": 148.0470156,
            "test": [
             2012.093045
            ]
           },
           {
            "iteration": 52,
            "learn": [
             1995.170618
            ],
            "passed_time": 8.248200054,
            "remaining_time": 147.3782161,
            "test": [
             2005.301123
            ]
           },
           {
            "iteration": 53,
            "learn": [
             1988.869233
            ],
            "passed_time": 8.413863695,
            "remaining_time": 147.3984269,
            "test": [
             1998.379424
            ]
           },
           {
            "iteration": 54,
            "learn": [
             1982.881745
            ],
            "passed_time": 8.545201208,
            "remaining_time": 146.8220935,
            "test": [
             1992.25863
            ]
           },
           {
            "iteration": 55,
            "learn": [
             1976.209462
            ],
            "passed_time": 8.786238836,
            "remaining_time": 148.1108832,
            "test": [
             1985.460038
            ]
           },
           {
            "iteration": 56,
            "learn": [
             1970.009487
            ],
            "passed_time": 8.985075157,
            "remaining_time": 148.6478223,
            "test": [
             1979.362048
            ]
           },
           {
            "iteration": 57,
            "learn": [
             1964.560297
            ],
            "passed_time": 9.313422541,
            "remaining_time": 151.2628282,
            "test": [
             1973.871153
            ]
           },
           {
            "iteration": 58,
            "learn": [
             1959.698488
            ],
            "passed_time": 9.58129876,
            "remaining_time": 152.8135955,
            "test": [
             1969.093384
            ]
           },
           {
            "iteration": 59,
            "learn": [
             1954.570074
            ],
            "passed_time": 9.804005675,
            "remaining_time": 153.5960889,
            "test": [
             1963.988576
            ]
           },
           {
            "iteration": 60,
            "learn": [
             1949.535692
            ],
            "passed_time": 10.0796651,
            "remaining_time": 155.1607463,
            "test": [
             1958.883239
            ]
           },
           {
            "iteration": 61,
            "learn": [
             1944.424525
            ],
            "passed_time": 10.38756084,
            "remaining_time": 157.1537431,
            "test": [
             1953.747894
            ]
           },
           {
            "iteration": 62,
            "learn": [
             1939.617481
            ],
            "passed_time": 10.71028082,
            "remaining_time": 159.2941767,
            "test": [
             1948.725527
            ]
           },
           {
            "iteration": 63,
            "learn": [
             1935.565845
            ],
            "passed_time": 10.96480953,
            "remaining_time": 160.3603394,
            "test": [
             1944.653191
            ]
           },
           {
            "iteration": 64,
            "learn": [
             1929.480474
            ],
            "passed_time": 11.20300593,
            "remaining_time": 161.1509315,
            "test": [
             1938.626816
            ]
           },
           {
            "iteration": 65,
            "learn": [
             1923.800336
            ],
            "passed_time": 11.43565639,
            "remaining_time": 161.8318647,
            "test": [
             1933.134244
            ]
           },
           {
            "iteration": 66,
            "learn": [
             1920.341006
            ],
            "passed_time": 11.70609448,
            "remaining_time": 163.0117336,
            "test": [
             1929.227963
            ]
           },
           {
            "iteration": 67,
            "learn": [
             1916.707568
            ],
            "passed_time": 11.86870005,
            "remaining_time": 162.6710065,
            "test": [
             1925.320292
            ]
           },
           {
            "iteration": 68,
            "learn": [
             1913.340377
            ],
            "passed_time": 12.02206931,
            "remaining_time": 162.2108192,
            "test": [
             1921.972127
            ]
           },
           {
            "iteration": 69,
            "learn": [
             1909.663537
            ],
            "passed_time": 12.16508964,
            "remaining_time": 161.6219052,
            "test": [
             1918.25601
            ]
           },
           {
            "iteration": 70,
            "learn": [
             1906.674485
            ],
            "passed_time": 12.32410463,
            "remaining_time": 161.2548339,
            "test": [
             1914.963572
            ]
           },
           {
            "iteration": 71,
            "learn": [
             1903.1583
            ],
            "passed_time": 12.50211865,
            "remaining_time": 161.1384182,
            "test": [
             1911.340464
            ]
           },
           {
            "iteration": 72,
            "learn": [
             1898.857588
            ],
            "passed_time": 12.60202836,
            "remaining_time": 160.0284972,
            "test": [
             1907.447856
            ]
           },
           {
            "iteration": 73,
            "learn": [
             1895.954965
            ],
            "passed_time": 12.71661056,
            "remaining_time": 159.129478,
            "test": [
             1904.639075
            ]
           },
           {
            "iteration": 74,
            "learn": [
             1893.288828
            ],
            "passed_time": 12.88154693,
            "remaining_time": 158.8724121,
            "test": [
             1902.047226
            ]
           },
           {
            "iteration": 75,
            "learn": [
             1889.618788
            ],
            "passed_time": 12.9620848,
            "remaining_time": 157.5916625,
            "test": [
             1898.752665
            ]
           },
           {
            "iteration": 76,
            "learn": [
             1886.628372
            ],
            "passed_time": 13.13626088,
            "remaining_time": 157.4645298,
            "test": [
             1895.706788
            ]
           },
           {
            "iteration": 77,
            "learn": [
             1884.015347
            ],
            "passed_time": 13.30399111,
            "remaining_time": 157.2599975,
            "test": [
             1893.168369
            ]
           },
           {
            "iteration": 78,
            "learn": [
             1880.905742
            ],
            "passed_time": 13.42302664,
            "remaining_time": 156.488703,
            "test": [
             1890.058767
            ]
           },
           {
            "iteration": 79,
            "learn": [
             1878.430054
            ],
            "passed_time": 13.59612503,
            "remaining_time": 156.3554379,
            "test": [
             1887.377037
            ]
           },
           {
            "iteration": 80,
            "learn": [
             1876.222828
            ],
            "passed_time": 13.77433201,
            "remaining_time": 156.2791496,
            "test": [
             1884.928412
            ]
           },
           {
            "iteration": 81,
            "learn": [
             1874.072124
            ],
            "passed_time": 13.91684737,
            "remaining_time": 155.8008035,
            "test": [
             1882.496223
            ]
           },
           {
            "iteration": 82,
            "learn": [
             1871.509269
            ],
            "passed_time": 14.08225258,
            "remaining_time": 155.5834412,
            "test": [
             1880.102452
            ]
           },
           {
            "iteration": 83,
            "learn": [
             1869.764363
            ],
            "passed_time": 14.19657629,
            "remaining_time": 154.8102843,
            "test": [
             1878.386235
            ]
           },
           {
            "iteration": 84,
            "learn": [
             1867.764311
            ],
            "passed_time": 14.31022183,
            "remaining_time": 154.0453291,
            "test": [
             1876.453558
            ]
           },
           {
            "iteration": 85,
            "learn": [
             1865.014291
            ],
            "passed_time": 14.42600181,
            "remaining_time": 153.3182053,
            "test": [
             1873.829237
            ]
           },
           {
            "iteration": 86,
            "learn": [
             1861.816125
            ],
            "passed_time": 14.56568592,
            "remaining_time": 152.8559913,
            "test": [
             1870.82956
            ]
           },
           {
            "iteration": 87,
            "learn": [
             1859.569264
            ],
            "passed_time": 14.67273539,
            "remaining_time": 152.0628941,
            "test": [
             1868.620713
            ]
           },
           {
            "iteration": 88,
            "learn": [
             1857.475879
            ],
            "passed_time": 14.78296973,
            "remaining_time": 151.3178138,
            "test": [
             1866.640632
            ]
           },
           {
            "iteration": 89,
            "learn": [
             1855.385972
            ],
            "passed_time": 14.89410843,
            "remaining_time": 150.5959853,
            "test": [
             1864.550838
            ]
           },
           {
            "iteration": 90,
            "learn": [
             1853.699465
            ],
            "passed_time": 15.05652041,
            "remaining_time": 150.3997478,
            "test": [
             1862.887859
            ]
           },
           {
            "iteration": 91,
            "learn": [
             1851.78372
            ],
            "passed_time": 15.19394073,
            "remaining_time": 149.9575889,
            "test": [
             1860.753295
            ]
           },
           {
            "iteration": 92,
            "learn": [
             1849.941682
            ],
            "passed_time": 15.37473248,
            "remaining_time": 149.9449716,
            "test": [
             1858.753537
            ]
           },
           {
            "iteration": 93,
            "learn": [
             1848.520758
            ],
            "passed_time": 15.55316415,
            "remaining_time": 149.906029,
            "test": [
             1857.133068
            ]
           },
           {
            "iteration": 94,
            "learn": [
             1846.835717
            ],
            "passed_time": 15.72097954,
            "remaining_time": 149.7630156,
            "test": [
             1855.47694
            ]
           },
           {
            "iteration": 95,
            "learn": [
             1845.344663
            ],
            "passed_time": 15.83462734,
            "remaining_time": 149.1094075,
            "test": [
             1854.306729
            ]
           },
           {
            "iteration": 96,
            "learn": [
             1843.585993
            ],
            "passed_time": 15.92951795,
            "remaining_time": 148.2923166,
            "test": [
             1852.612604
            ]
           },
           {
            "iteration": 97,
            "learn": [
             1841.964604
            ],
            "passed_time": 16.12265789,
            "remaining_time": 148.3942594,
            "test": [
             1850.849033
            ]
           },
           {
            "iteration": 98,
            "learn": [
             1840.323743
            ],
            "passed_time": 16.2896805,
            "remaining_time": 148.2525467,
            "test": [
             1849.37588
            ]
           },
           {
            "iteration": 99,
            "learn": [
             1838.792725
            ],
            "passed_time": 16.4673416,
            "remaining_time": 148.2060744,
            "test": [
             1847.708831
            ]
           },
           {
            "iteration": 100,
            "learn": [
             1836.798038
            ],
            "passed_time": 16.60733064,
            "remaining_time": 147.8216856,
            "test": [
             1845.713917
            ]
           },
           {
            "iteration": 101,
            "learn": [
             1835.435072
            ],
            "passed_time": 16.78141017,
            "remaining_time": 147.742219,
            "test": [
             1844.393477
            ]
           },
           {
            "iteration": 102,
            "learn": [
             1834.18127
            ],
            "passed_time": 16.95291186,
            "remaining_time": 147.6384654,
            "test": [
             1843.21959
            ]
           },
           {
            "iteration": 103,
            "learn": [
             1832.607796
            ],
            "passed_time": 17.06911948,
            "remaining_time": 147.0570294,
            "test": [
             1841.584578
            ]
           },
           {
            "iteration": 104,
            "learn": [
             1831.086714
            ],
            "passed_time": 17.21319485,
            "remaining_time": 146.7219942,
            "test": [
             1840.122859
            ]
           },
           {
            "iteration": 105,
            "learn": [
             1829.990164
            ],
            "passed_time": 17.33340147,
            "remaining_time": 146.1892539,
            "test": [
             1839.142525
            ]
           },
           {
            "iteration": 106,
            "learn": [
             1828.817997
            ],
            "passed_time": 17.47003805,
            "remaining_time": 145.8013456,
            "test": [
             1838.114042
            ]
           },
           {
            "iteration": 107,
            "learn": [
             1827.426153
            ],
            "passed_time": 17.60778478,
            "remaining_time": 145.4272595,
            "test": [
             1836.64611
            ]
           },
           {
            "iteration": 108,
            "learn": [
             1826.140757
            ],
            "passed_time": 17.71890093,
            "remaining_time": 144.8398232,
            "test": [
             1835.373743
            ]
           },
           {
            "iteration": 109,
            "learn": [
             1825.069759
            ],
            "passed_time": 17.88776615,
            "remaining_time": 144.7282898,
            "test": [
             1834.332518
            ]
           },
           {
            "iteration": 110,
            "learn": [
             1823.583503
            ],
            "passed_time": 18.06537473,
            "remaining_time": 144.685749,
            "test": [
             1832.911531
            ]
           },
           {
            "iteration": 111,
            "learn": [
             1822.326876
            ],
            "passed_time": 18.24624046,
            "remaining_time": 144.6666208,
            "test": [
             1831.486904
            ]
           },
           {
            "iteration": 112,
            "learn": [
             1820.634266
            ],
            "passed_time": 18.35379263,
            "remaining_time": 144.069151,
            "test": [
             1829.940461
            ]
           },
           {
            "iteration": 113,
            "learn": [
             1819.856363
            ],
            "passed_time": 18.4949743,
            "remaining_time": 143.7416424,
            "test": [
             1829.202492
            ]
           },
           {
            "iteration": 114,
            "learn": [
             1818.674143
            ],
            "passed_time": 18.60442274,
            "remaining_time": 143.1731663,
            "test": [
             1828.097211
            ]
           },
           {
            "iteration": 115,
            "learn": [
             1817.528535
            ],
            "passed_time": 18.75259265,
            "remaining_time": 142.9076888,
            "test": [
             1827.041347
            ]
           },
           {
            "iteration": 116,
            "learn": [
             1816.33382
            ],
            "passed_time": 18.87452918,
            "remaining_time": 142.4462331,
            "test": [
             1825.977464
            ]
           },
           {
            "iteration": 117,
            "learn": [
             1815.501965
            ],
            "passed_time": 19.06057696,
            "remaining_time": 142.4697363,
            "test": [
             1825.20962
            ]
           },
           {
            "iteration": 118,
            "learn": [
             1814.02776
            ],
            "passed_time": 19.23976329,
            "remaining_time": 142.4389198,
            "test": [
             1823.69663
            ]
           },
           {
            "iteration": 119,
            "learn": [
             1813.246306
            ],
            "passed_time": 19.36355389,
            "remaining_time": 141.9993952,
            "test": [
             1823.021376
            ]
           },
           {
            "iteration": 120,
            "learn": [
             1811.340513
            ],
            "passed_time": 19.49435095,
            "remaining_time": 141.6159875,
            "test": [
             1821.344278
            ]
           },
           {
            "iteration": 121,
            "learn": [
             1809.441765
            ],
            "passed_time": 19.674917,
            "remaining_time": 141.5948945,
            "test": [
             1819.667877
            ]
           },
           {
            "iteration": 122,
            "learn": [
             1807.951504
            ],
            "passed_time": 19.78992146,
            "remaining_time": 141.103749,
            "test": [
             1818.305432
            ]
           },
           {
            "iteration": 123,
            "learn": [
             1806.368845
            ],
            "passed_time": 19.87071881,
            "remaining_time": 140.3770135,
            "test": [
             1816.913454
            ]
           },
           {
            "iteration": 124,
            "learn": [
             1805.108462
            ],
            "passed_time": 19.99590464,
            "remaining_time": 139.9713325,
            "test": [
             1815.759391
            ]
           },
           {
            "iteration": 125,
            "learn": [
             1803.925636
            ],
            "passed_time": 20.1144327,
            "remaining_time": 139.523922,
            "test": [
             1814.791412
            ]
           },
           {
            "iteration": 126,
            "learn": [
             1802.891592
            ],
            "passed_time": 20.29744919,
            "remaining_time": 139.5249854,
            "test": [
             1813.831519
            ]
           },
           {
            "iteration": 127,
            "learn": [
             1801.771661
            ],
            "passed_time": 20.46367287,
            "remaining_time": 139.4087714,
            "test": [
             1812.642513
            ]
           },
           {
            "iteration": 128,
            "learn": [
             1800.527725
            ],
            "passed_time": 20.62430631,
            "remaining_time": 139.2540372,
            "test": [
             1811.409253
            ]
           },
           {
            "iteration": 129,
            "learn": [
             1799.634092
            ],
            "passed_time": 20.75257876,
            "remaining_time": 138.8826424,
            "test": [
             1810.770016
            ]
           },
           {
            "iteration": 130,
            "learn": [
             1798.409574
            ],
            "passed_time": 20.91028994,
            "remaining_time": 138.710244,
            "test": [
             1809.531221
            ]
           },
           {
            "iteration": 131,
            "learn": [
             1797.320729
            ],
            "passed_time": 21.0490272,
            "remaining_time": 138.4133001,
            "test": [
             1808.596484
            ]
           },
           {
            "iteration": 132,
            "learn": [
             1796.66665
            ],
            "passed_time": 21.1573969,
            "remaining_time": 137.9207753,
            "test": [
             1807.985165
            ]
           },
           {
            "iteration": 133,
            "learn": [
             1796.015542
            ],
            "passed_time": 21.25569172,
            "remaining_time": 137.3688733,
            "test": [
             1807.272232
            ]
           },
           {
            "iteration": 134,
            "learn": [
             1795.14266
            ],
            "passed_time": 21.36557147,
            "remaining_time": 136.8979209,
            "test": [
             1806.602126
            ]
           },
           {
            "iteration": 135,
            "learn": [
             1794.184261
            ],
            "passed_time": 21.47672284,
            "remaining_time": 136.4403569,
            "test": [
             1805.849453
            ]
           },
           {
            "iteration": 136,
            "learn": [
             1793.286874
            ],
            "passed_time": 21.63450612,
            "remaining_time": 136.281597,
            "test": [
             1804.816199
            ]
           },
           {
            "iteration": 137,
            "learn": [
             1792.422989
            ],
            "passed_time": 21.86513461,
            "remaining_time": 136.5778698,
            "test": [
             1803.994753
            ]
           },
           {
            "iteration": 138,
            "learn": [
             1791.677486
            ],
            "passed_time": 22.19242474,
            "remaining_time": 137.4653072,
            "test": [
             1803.193809
            ]
           },
           {
            "iteration": 139,
            "learn": [
             1790.854965
            ],
            "passed_time": 22.43273872,
            "remaining_time": 137.8011093,
            "test": [
             1802.537633
            ]
           },
           {
            "iteration": 140,
            "learn": [
             1789.640249
            ],
            "passed_time": 22.71390906,
            "remaining_time": 138.3776446,
            "test": [
             1801.380242
            ]
           },
           {
            "iteration": 141,
            "learn": [
             1788.457762
            ],
            "passed_time": 22.92569563,
            "remaining_time": 138.5228651,
            "test": [
             1800.501183
            ]
           },
           {
            "iteration": 142,
            "learn": [
             1787.117417
            ],
            "passed_time": 23.25266804,
            "remaining_time": 139.3534021,
            "test": [
             1799.075926
            ]
           },
           {
            "iteration": 143,
            "learn": [
             1785.880217
            ],
            "passed_time": 23.57278987,
            "remaining_time": 140.1271398,
            "test": [
             1797.908957
            ]
           },
           {
            "iteration": 144,
            "learn": [
             1785.320574
            ],
            "passed_time": 23.81386104,
            "remaining_time": 140.4196634,
            "test": [
             1797.489706
            ]
           },
           {
            "iteration": 145,
            "learn": [
             1784.72074
            ],
            "passed_time": 24.14876534,
            "remaining_time": 141.253737,
            "test": [
             1796.904398
            ]
           },
           {
            "iteration": 146,
            "learn": [
             1784.172133
            ],
            "passed_time": 24.42122951,
            "remaining_time": 141.7095835,
            "test": [
             1796.495749
            ]
           },
           {
            "iteration": 147,
            "learn": [
             1783.260557
            ],
            "passed_time": 24.68242833,
            "remaining_time": 142.090736,
            "test": [
             1795.724826
            ]
           },
           {
            "iteration": 148,
            "learn": [
             1782.596626
            ],
            "passed_time": 24.83049639,
            "remaining_time": 141.8171304,
            "test": [
             1795.061757
            ]
           },
           {
            "iteration": 149,
            "learn": [
             1781.989952
            ],
            "passed_time": 24.96694882,
            "remaining_time": 141.4793766,
            "test": [
             1794.465007
            ]
           },
           {
            "iteration": 150,
            "learn": [
             1781.207948
            ],
            "passed_time": 25.08168035,
            "remaining_time": 141.022163,
            "test": [
             1793.802302
            ]
           },
           {
            "iteration": 151,
            "learn": [
             1780.036425
            ],
            "passed_time": 25.22731711,
            "remaining_time": 140.7418744,
            "test": [
             1792.747383
            ]
           },
           {
            "iteration": 152,
            "learn": [
             1779.36576
            ],
            "passed_time": 25.3480435,
            "remaining_time": 140.3254434,
            "test": [
             1792.133225
            ]
           },
           {
            "iteration": 153,
            "learn": [
             1778.213448
            ],
            "passed_time": 25.52209589,
            "remaining_time": 140.2057995,
            "test": [
             1790.807348
            ]
           },
           {
            "iteration": 154,
            "learn": [
             1777.450991
            ],
            "passed_time": 25.66296353,
            "remaining_time": 139.9045431,
            "test": [
             1790.073202
            ]
           },
           {
            "iteration": 155,
            "learn": [
             1776.743133
            ],
            "passed_time": 25.80652139,
            "remaining_time": 139.6198978,
            "test": [
             1789.39204
            ]
           },
           {
            "iteration": 156,
            "learn": [
             1776.168119
            ],
            "passed_time": 25.92703199,
            "remaining_time": 139.2132991,
            "test": [
             1788.936106
            ]
           },
           {
            "iteration": 157,
            "learn": [
             1775.481145
            ],
            "passed_time": 26.06852141,
            "remaining_time": 138.9221204,
            "test": [
             1788.352109
            ]
           },
           {
            "iteration": 158,
            "learn": [
             1774.991078
            ],
            "passed_time": 26.20329655,
            "remaining_time": 138.5973107,
            "test": [
             1787.874031
            ]
           },
           {
            "iteration": 159,
            "learn": [
             1774.097122
            ],
            "passed_time": 26.33495622,
            "remaining_time": 138.2585202,
            "test": [
             1786.90124
            ]
           },
           {
            "iteration": 160,
            "learn": [
             1772.969127
            ],
            "passed_time": 26.50750497,
            "remaining_time": 138.1353831,
            "test": [
             1785.848386
            ]
           },
           {
            "iteration": 161,
            "learn": [
             1771.970713
            ],
            "passed_time": 26.63927265,
            "remaining_time": 137.800682,
            "test": [
             1784.77512
            ]
           },
           {
            "iteration": 162,
            "learn": [
             1770.916906
            ],
            "passed_time": 26.81414083,
            "remaining_time": 137.6897906,
            "test": [
             1783.678738
            ]
           },
           {
            "iteration": 163,
            "learn": [
             1769.552062
            ],
            "passed_time": 26.94166766,
            "remaining_time": 137.3367937,
            "test": [
             1782.469068
            ]
           },
           {
            "iteration": 164,
            "learn": [
             1769.021127
            ],
            "passed_time": 27.04209841,
            "remaining_time": 136.8494071,
            "test": [
             1782.056066
            ]
           },
           {
            "iteration": 165,
            "learn": [
             1768.455251
            ],
            "passed_time": 27.16302929,
            "remaining_time": 136.4696773,
            "test": [
             1781.63103
            ]
           },
           {
            "iteration": 166,
            "learn": [
             1767.686021
            ],
            "passed_time": 27.28305715,
            "remaining_time": 136.0885425,
            "test": [
             1780.913523
            ]
           },
           {
            "iteration": 167,
            "learn": [
             1767.112724
            ],
            "passed_time": 27.44353968,
            "remaining_time": 135.9108632,
            "test": [
             1780.418476
            ]
           },
           {
            "iteration": 168,
            "learn": [
             1766.420126
            ],
            "passed_time": 27.57393559,
            "remaining_time": 135.5854466,
            "test": [
             1780.017757
            ]
           },
           {
            "iteration": 169,
            "learn": [
             1765.86347
            ],
            "passed_time": 27.74973499,
            "remaining_time": 135.4840003,
            "test": [
             1779.397392
            ]
           },
           {
            "iteration": 170,
            "learn": [
             1765.278739
            ],
            "passed_time": 27.92567872,
            "remaining_time": 135.382384,
            "test": [
             1778.827427
            ]
           },
           {
            "iteration": 171,
            "learn": [
             1764.748123
            ],
            "passed_time": 28.02787395,
            "remaining_time": 134.9248816,
            "test": [
             1778.385402
            ]
           },
           {
            "iteration": 172,
            "learn": [
             1764.101123
            ],
            "passed_time": 28.20701471,
            "remaining_time": 134.8393131,
            "test": [
             1777.666944
            ]
           },
           {
            "iteration": 173,
            "learn": [
             1763.527103
            ],
            "passed_time": 28.33102702,
            "remaining_time": 134.4909674,
            "test": [
             1777.144868
            ]
           },
           {
            "iteration": 174,
            "learn": [
             1762.689262
            ],
            "passed_time": 28.45929443,
            "remaining_time": 134.1652452,
            "test": [
             1776.476126
            ]
           },
           {
            "iteration": 175,
            "learn": [
             1761.807188
            ],
            "passed_time": 28.59170183,
            "remaining_time": 133.8611495,
            "test": [
             1775.582941
            ]
           },
           {
            "iteration": 176,
            "learn": [
             1761.12753
            ],
            "passed_time": 28.73319845,
            "remaining_time": 133.6012561,
            "test": [
             1775.012793
            ]
           },
           {
            "iteration": 177,
            "learn": [
             1760.816474
            ],
            "passed_time": 28.82776769,
            "remaining_time": 133.1259834,
            "test": [
             1774.779001
            ]
           },
           {
            "iteration": 178,
            "learn": [
             1759.983492
            ],
            "passed_time": 28.95114682,
            "remaining_time": 132.7871036,
            "test": [
             1773.854174
            ]
           },
           {
            "iteration": 179,
            "learn": [
             1759.451298
            ],
            "passed_time": 29.10278757,
            "remaining_time": 132.5793656,
            "test": [
             1773.324245
            ]
           },
           {
            "iteration": 180,
            "learn": [
             1758.513061
            ],
            "passed_time": 29.27300449,
            "remaining_time": 132.4563021,
            "test": [
             1772.471849
            ]
           },
           {
            "iteration": 181,
            "learn": [
             1758.109234
            ],
            "passed_time": 29.38054924,
            "remaining_time": 132.05104,
            "test": [
             1772.143537
            ]
           },
           {
            "iteration": 182,
            "learn": [
             1757.574452
            ],
            "passed_time": 29.54994359,
            "remaining_time": 131.925158,
            "test": [
             1771.666618
            ]
           },
           {
            "iteration": 183,
            "learn": [
             1757.219779
            ],
            "passed_time": 29.67328883,
            "remaining_time": 131.5945852,
            "test": [
             1771.254168
            ]
           },
           {
            "iteration": 184,
            "learn": [
             1756.709344
            ],
            "passed_time": 29.80547376,
            "remaining_time": 131.3051952,
            "test": [
             1770.846428
            ]
           },
           {
            "iteration": 185,
            "learn": [
             1756.204708
            ],
            "passed_time": 29.96730593,
            "remaining_time": 131.1472421,
            "test": [
             1770.288476
            ]
           },
           {
            "iteration": 186,
            "learn": [
             1755.620104
            ],
            "passed_time": 30.11499527,
            "remaining_time": 130.9277602,
            "test": [
             1769.743355
            ]
           },
           {
            "iteration": 187,
            "learn": [
             1754.813995
            ],
            "passed_time": 30.25287511,
            "remaining_time": 130.6666734,
            "test": [
             1768.983504
            ]
           },
           {
            "iteration": 188,
            "learn": [
             1754.12782
            ],
            "passed_time": 30.37408606,
            "remaining_time": 130.335364,
            "test": [
             1768.458716
            ]
           },
           {
            "iteration": 189,
            "learn": [
             1753.588375
            ],
            "passed_time": 30.51515797,
            "remaining_time": 130.0909366,
            "test": [
             1768.101101
            ]
           },
           {
            "iteration": 190,
            "learn": [
             1753.056449
            ],
            "passed_time": 30.673001,
            "remaining_time": 129.9186273,
            "test": [
             1767.66597
            ]
           },
           {
            "iteration": 191,
            "learn": [
             1752.381233
            ],
            "passed_time": 30.78016116,
            "remaining_time": 129.5331782,
            "test": [
             1767.124931
            ]
           },
           {
            "iteration": 192,
            "learn": [
             1751.644639
            ],
            "passed_time": 30.91718397,
            "remaining_time": 129.2754791,
            "test": [
             1766.401816
            ]
           },
           {
            "iteration": 193,
            "learn": [
             1751.18664
            ],
            "passed_time": 31.06935728,
            "remaining_time": 129.0819689,
            "test": [
             1765.975352
            ]
           },
           {
            "iteration": 194,
            "learn": [
             1750.362062
            ],
            "passed_time": 31.23856471,
            "remaining_time": 128.959203,
            "test": [
             1765.283316
            ]
           },
           {
            "iteration": 195,
            "learn": [
             1749.738061
            ],
            "passed_time": 31.36559877,
            "remaining_time": 128.6629664,
            "test": [
             1764.676773
            ]
           },
           {
            "iteration": 196,
            "learn": [
             1749.063991
            ],
            "passed_time": 31.48782248,
            "remaining_time": 128.3488399,
            "test": [
             1764.157239
            ]
           },
           {
            "iteration": 197,
            "learn": [
             1748.517278
            ],
            "passed_time": 31.61686195,
            "remaining_time": 128.064259,
            "test": [
             1763.735818
            ]
           },
           {
            "iteration": 198,
            "learn": [
             1747.991274
            ],
            "passed_time": 31.75275091,
            "remaining_time": 127.8088115,
            "test": [
             1763.331806
            ]
           },
           {
            "iteration": 199,
            "learn": [
             1747.648221
            ],
            "passed_time": 31.88828668,
            "remaining_time": 127.5531467,
            "test": [
             1763.002709
            ]
           },
           {
            "iteration": 200,
            "learn": [
             1747.185015
            ],
            "passed_time": 32.04064711,
            "remaining_time": 127.3655574,
            "test": [
             1762.535
            ]
           },
           {
            "iteration": 201,
            "learn": [
             1746.683106
            ],
            "passed_time": 32.1607691,
            "remaining_time": 127.0509591,
            "test": [
             1762.089452
            ]
           },
           {
            "iteration": 202,
            "learn": [
             1746.197877
            ],
            "passed_time": 32.29065269,
            "remaining_time": 126.7766019,
            "test": [
             1761.598692
            ]
           },
           {
            "iteration": 203,
            "learn": [
             1745.783016
            ],
            "passed_time": 32.41225728,
            "remaining_time": 126.4713568,
            "test": [
             1761.23378
            ]
           },
           {
            "iteration": 204,
            "learn": [
             1745.150516
            ],
            "passed_time": 32.56672898,
            "remaining_time": 126.2953636,
            "test": [
             1760.516219
            ]
           },
           {
            "iteration": 205,
            "learn": [
             1744.467949
            ],
            "passed_time": 32.72085028,
            "remaining_time": 126.1182288,
            "test": [
             1759.682502
            ]
           },
           {
            "iteration": 206,
            "learn": [
             1743.956499
            ],
            "passed_time": 32.86442139,
            "remaining_time": 125.9008993,
            "test": [
             1759.328522
            ]
           },
           {
            "iteration": 207,
            "learn": [
             1743.52249
            ],
            "passed_time": 33.02197221,
            "remaining_time": 125.7375096,
            "test": [
             1758.960962
            ]
           },
           {
            "iteration": 208,
            "learn": [
             1743.068751
            ],
            "passed_time": 33.16075617,
            "remaining_time": 125.503149,
            "test": [
             1758.638072
            ]
           },
           {
            "iteration": 209,
            "learn": [
             1742.628243
            ],
            "passed_time": 33.36279007,
            "remaining_time": 125.5076388,
            "test": [
             1758.171778
            ]
           },
           {
            "iteration": 210,
            "learn": [
             1742.151193
            ],
            "passed_time": 33.52306174,
            "remaining_time": 125.3540081,
            "test": [
             1757.740414
            ]
           },
           {
            "iteration": 211,
            "learn": [
             1741.841181
            ],
            "passed_time": 33.65814757,
            "remaining_time": 125.1066995,
            "test": [
             1757.480443
            ]
           },
           {
            "iteration": 212,
            "learn": [
             1741.295059
            ],
            "passed_time": 33.77479316,
            "remaining_time": 124.7923109,
            "test": [
             1757.055135
            ]
           },
           {
            "iteration": 213,
            "learn": [
             1740.494773
            ],
            "passed_time": 33.91028602,
            "remaining_time": 124.5489945,
            "test": [
             1756.319979
            ]
           },
           {
            "iteration": 214,
            "learn": [
             1739.820287
            ],
            "passed_time": 34.00539261,
            "remaining_time": 124.1592242,
            "test": [
             1755.772634
            ]
           },
           {
            "iteration": 215,
            "learn": [
             1739.508282
            ],
            "passed_time": 34.15508783,
            "remaining_time": 123.9703188,
            "test": [
             1755.369004
            ]
           },
           {
            "iteration": 216,
            "learn": [
             1739.099423
            ],
            "passed_time": 34.34786027,
            "remaining_time": 123.9372101,
            "test": [
             1754.897436
            ]
           },
           {
            "iteration": 217,
            "learn": [
             1738.607079
            ],
            "passed_time": 34.4712512,
            "remaining_time": 123.6537543,
            "test": [
             1754.461728
            ]
           },
           {
            "iteration": 218,
            "learn": [
             1737.566457
            ],
            "passed_time": 34.64086357,
            "remaining_time": 123.5365956,
            "test": [
             1753.622483
            ]
           },
           {
            "iteration": 219,
            "learn": [
             1737.148279
            ],
            "passed_time": 34.86337758,
            "remaining_time": 123.6065205,
            "test": [
             1753.33346
            ]
           },
           {
            "iteration": 220,
            "learn": [
             1736.758152
            ],
            "passed_time": 35.19397254,
            "remaining_time": 124.054772,
            "test": [
             1753.079179
            ]
           },
           {
            "iteration": 221,
            "learn": [
             1735.987327
            ],
            "passed_time": 35.58869131,
            "remaining_time": 124.720729,
            "test": [
             1752.401792
            ]
           },
           {
            "iteration": 222,
            "learn": [
             1735.413041
            ],
            "passed_time": 35.88688747,
            "remaining_time": 125.040859,
            "test": [
             1751.835662
            ]
           },
           {
            "iteration": 223,
            "learn": [
             1734.443188
            ],
            "passed_time": 36.11061077,
            "remaining_time": 125.097473,
            "test": [
             1750.968938
            ]
           },
           {
            "iteration": 224,
            "learn": [
             1733.997505
            ],
            "passed_time": 36.34837976,
            "remaining_time": 125.1999747,
            "test": [
             1750.553851
            ]
           },
           {
            "iteration": 225,
            "learn": [
             1733.617655
            ],
            "passed_time": 36.6541139,
            "remaining_time": 125.5322308,
            "test": [
             1750.205608
            ]
           },
           {
            "iteration": 226,
            "learn": [
             1733.188028
            ],
            "passed_time": 36.97145223,
            "remaining_time": 125.8983814,
            "test": [
             1749.873188
            ]
           },
           {
            "iteration": 227,
            "learn": [
             1732.585691
            ],
            "passed_time": 37.16422927,
            "remaining_time": 125.8367763,
            "test": [
             1749.335606
            ]
           },
           {
            "iteration": 228,
            "learn": [
             1732.169003
            ],
            "passed_time": 37.52532506,
            "remaining_time": 126.3407232,
            "test": [
             1749.053727
            ]
           },
           {
            "iteration": 229,
            "learn": [
             1731.697295
            ],
            "passed_time": 37.93289333,
            "remaining_time": 126.9927298,
            "test": [
             1748.716385
            ]
           },
           {
            "iteration": 230,
            "learn": [
             1731.207266
            ],
            "passed_time": 38.16698802,
            "remaining_time": 127.0580684,
            "test": [
             1748.350542
            ]
           },
           {
            "iteration": 231,
            "learn": [
             1730.772425
            ],
            "passed_time": 38.33059278,
            "remaining_time": 126.8874796,
            "test": [
             1748.004253
            ]
           },
           {
            "iteration": 232,
            "learn": [
             1730.490569
            ],
            "passed_time": 38.56703814,
            "remaining_time": 126.9567307,
            "test": [
             1747.692187
            ]
           },
           {
            "iteration": 233,
            "learn": [
             1730.007993
            ],
            "passed_time": 38.76476572,
            "remaining_time": 126.8966262,
            "test": [
             1747.241673
            ]
           },
           {
            "iteration": 234,
            "learn": [
             1729.451461
            ],
            "passed_time": 39.04773293,
            "remaining_time": 127.1128327,
            "test": [
             1746.599232
            ]
           },
           {
            "iteration": 235,
            "learn": [
             1728.843334
            ],
            "passed_time": 39.27566534,
            "remaining_time": 127.1466454,
            "test": [
             1746.112681
            ]
           },
           {
            "iteration": 236,
            "learn": [
             1728.304753
            ],
            "passed_time": 39.46751461,
            "remaining_time": 127.0620829,
            "test": [
             1745.637
            ]
           },
           {
            "iteration": 237,
            "learn": [
             1727.864017
            ],
            "passed_time": 39.72508489,
            "remaining_time": 127.1870365,
            "test": [
             1745.317179
            ]
           },
           {
            "iteration": 238,
            "learn": [
             1727.153106
            ],
            "passed_time": 39.90166544,
            "remaining_time": 127.0509096,
            "test": [
             1744.719452
            ]
           },
           {
            "iteration": 239,
            "learn": [
             1726.606978
            ],
            "passed_time": 40.10349896,
            "remaining_time": 126.9944134,
            "test": [
             1744.469084
            ]
           },
           {
            "iteration": 240,
            "learn": [
             1726.105607
            ],
            "passed_time": 40.26139763,
            "remaining_time": 126.7983436,
            "test": [
             1743.924411
            ]
           },
           {
            "iteration": 241,
            "learn": [
             1725.47449
            ],
            "passed_time": 40.48014401,
            "remaining_time": 126.7931784,
            "test": [
             1743.39323
            ]
           },
           {
            "iteration": 242,
            "learn": [
             1725.012254
            ],
            "passed_time": 40.6983328,
            "remaining_time": 126.7845182,
            "test": [
             1743.168425
            ]
           },
           {
            "iteration": 243,
            "learn": [
             1724.622384
            ],
            "passed_time": 40.97332941,
            "remaining_time": 126.9501518,
            "test": [
             1742.769878
            ]
           },
           {
            "iteration": 244,
            "learn": [
             1724.282209
            ],
            "passed_time": 41.26235106,
            "remaining_time": 127.1554084,
            "test": [
             1742.51428
            ]
           },
           {
            "iteration": 245,
            "learn": [
             1723.861423
            ],
            "passed_time": 41.47361697,
            "remaining_time": 127.1183219,
            "test": [
             1742.076721
            ]
           },
           {
            "iteration": 246,
            "learn": [
             1723.602767
            ],
            "passed_time": 41.64126633,
            "remaining_time": 126.9468565,
            "test": [
             1741.878133
            ]
           },
           {
            "iteration": 247,
            "learn": [
             1723.105412
            ],
            "passed_time": 41.80048805,
            "remaining_time": 126.749867,
            "test": [
             1741.412147
            ]
           },
           {
            "iteration": 248,
            "learn": [
             1722.384682
            ],
            "passed_time": 41.94011359,
            "remaining_time": 126.4940775,
            "test": [
             1740.841642
            ]
           },
           {
            "iteration": 249,
            "learn": [
             1721.848261
            ],
            "passed_time": 42.06397366,
            "remaining_time": 126.191921,
            "test": [
             1740.484871
            ]
           },
           {
            "iteration": 250,
            "learn": [
             1721.5238
            ],
            "passed_time": 42.24480591,
            "remaining_time": 126.0611937,
            "test": [
             1740.123906
            ]
           },
           {
            "iteration": 251,
            "learn": [
             1721.119177
            ],
            "passed_time": 42.39328161,
            "remaining_time": 125.8340264,
            "test": [
             1739.839397
            ]
           },
           {
            "iteration": 252,
            "learn": [
             1720.854314
            ],
            "passed_time": 42.56052517,
            "remaining_time": 125.6628945,
            "test": [
             1739.514138
            ]
           },
           {
            "iteration": 253,
            "learn": [
             1720.306943
            ],
            "passed_time": 42.69813505,
            "remaining_time": 125.4047589,
            "test": [
             1739.271955
            ]
           },
           {
            "iteration": 254,
            "learn": [
             1719.772738
            ],
            "passed_time": 42.80236697,
            "remaining_time": 125.0500525,
            "test": [
             1738.906431
            ]
           },
           {
            "iteration": 255,
            "learn": [
             1719.369751
            ],
            "passed_time": 42.95021827,
            "remaining_time": 124.8240718,
            "test": [
             1738.519984
            ]
           },
           {
            "iteration": 256,
            "learn": [
             1718.955473
            ],
            "passed_time": 43.07489515,
            "remaining_time": 124.5317008,
            "test": [
             1738.064505
            ]
           },
           {
            "iteration": 257,
            "learn": [
             1718.418673
            ],
            "passed_time": 43.24613774,
            "remaining_time": 124.3745512,
            "test": [
             1737.511396
            ]
           },
           {
            "iteration": 258,
            "learn": [
             1717.89038
            ],
            "passed_time": 43.41407727,
            "remaining_time": 124.2078427,
            "test": [
             1736.993703
            ]
           },
           {
            "iteration": 259,
            "learn": [
             1717.513194
            ],
            "passed_time": 43.52975774,
            "remaining_time": 123.8923874,
            "test": [
             1736.602883
            ]
           },
           {
            "iteration": 260,
            "learn": [
             1717.177214
            ],
            "passed_time": 43.7104294,
            "remaining_time": 123.7624802,
            "test": [
             1736.220025
            ]
           },
           {
            "iteration": 261,
            "learn": [
             1716.692859
            ],
            "passed_time": 43.89549555,
            "remaining_time": 123.6445638,
            "test": [
             1735.827702
            ]
           },
           {
            "iteration": 262,
            "learn": [
             1716.211347
            ],
            "passed_time": 44.076471,
            "remaining_time": 123.5146735,
            "test": [
             1735.357477
            ]
           },
           {
            "iteration": 263,
            "learn": [
             1715.769206
            ],
            "passed_time": 44.20867979,
            "remaining_time": 123.2484406,
            "test": [
             1735.009833
            ]
           },
           {
            "iteration": 264,
            "learn": [
             1715.413221
            ],
            "passed_time": 44.37210897,
            "remaining_time": 123.0698117,
            "test": [
             1734.771629
            ]
           },
           {
            "iteration": 265,
            "learn": [
             1715.007968
            ],
            "passed_time": 44.49762429,
            "remaining_time": 122.7866775,
            "test": [
             1734.462411
            ]
           },
           {
            "iteration": 266,
            "learn": [
             1714.788588
            ],
            "passed_time": 44.66814812,
            "remaining_time": 122.6282868,
            "test": [
             1734.22708
            ]
           },
           {
            "iteration": 267,
            "learn": [
             1714.463969
            ],
            "passed_time": 44.7923579,
            "remaining_time": 122.3433059,
            "test": [
             1733.981117
            ]
           },
           {
            "iteration": 268,
            "learn": [
             1714.002568
            ],
            "passed_time": 44.94084199,
            "remaining_time": 122.1254851,
            "test": [
             1733.560638
            ]
           },
           {
            "iteration": 269,
            "learn": [
             1713.618165
            ],
            "passed_time": 45.09614993,
            "remaining_time": 121.9266276,
            "test": [
             1733.176648
            ]
           },
           {
            "iteration": 270,
            "learn": [
             1712.940582
            ],
            "passed_time": 45.23785826,
            "remaining_time": 121.691508,
            "test": [
             1732.717291
            ]
           },
           {
            "iteration": 271,
            "learn": [
             1712.455035
            ],
            "passed_time": 45.35823652,
            "remaining_time": 121.399986,
            "test": [
             1732.284245
            ]
           },
           {
            "iteration": 272,
            "learn": [
             1711.841692
            ],
            "passed_time": 45.51540988,
            "remaining_time": 121.2077032,
            "test": [
             1731.670059
            ]
           },
           {
            "iteration": 273,
            "learn": [
             1711.380334
            ],
            "passed_time": 45.68331871,
            "remaining_time": 121.0441218,
            "test": [
             1731.196008
            ]
           },
           {
            "iteration": 274,
            "learn": [
             1710.875345
            ],
            "passed_time": 45.82793463,
            "remaining_time": 120.8191004,
            "test": [
             1730.769386
            ]
           },
           {
            "iteration": 275,
            "learn": [
             1710.392896
            ],
            "passed_time": 45.93023864,
            "remaining_time": 120.4836695,
            "test": [
             1730.395128
            ]
           },
           {
            "iteration": 276,
            "learn": [
             1710.184122
            ],
            "passed_time": 46.10230244,
            "remaining_time": 120.3320024,
            "test": [
             1730.175439
            ]
           },
           {
            "iteration": 277,
            "learn": [
             1709.688369
            ],
            "passed_time": 46.25249901,
            "remaining_time": 120.1233967,
            "test": [
             1729.782852
            ]
           },
           {
            "iteration": 278,
            "learn": [
             1709.291101
            ],
            "passed_time": 46.40841237,
            "remaining_time": 119.9299832,
            "test": [
             1729.428233
            ]
           },
           {
            "iteration": 279,
            "learn": [
             1708.9963
            ],
            "passed_time": 46.52883655,
            "remaining_time": 119.6455797,
            "test": [
             1729.156696
            ]
           },
           {
            "iteration": 280,
            "learn": [
             1708.557517
            ],
            "passed_time": 46.65047943,
            "remaining_time": 119.3654616,
            "test": [
             1728.745531
            ]
           },
           {
            "iteration": 281,
            "learn": [
             1708.140846
            ],
            "passed_time": 46.80879123,
            "remaining_time": 119.1798302,
            "test": [
             1728.325498
            ]
           },
           {
            "iteration": 282,
            "learn": [
             1707.754701
            ],
            "passed_time": 46.95292752,
            "remaining_time": 118.9584771,
            "test": [
             1727.990075
            ]
           },
           {
            "iteration": 283,
            "learn": [
             1707.275457
            ],
            "passed_time": 47.1102377,
            "remaining_time": 118.770881,
            "test": [
             1727.579
            ]
           },
           {
            "iteration": 284,
            "learn": [
             1706.721252
            ],
            "passed_time": 47.24938806,
            "remaining_time": 118.5379385,
            "test": [
             1727.090098
            ]
           },
           {
            "iteration": 285,
            "learn": [
             1706.545976
            ],
            "passed_time": 47.37904485,
            "remaining_time": 118.2819511,
            "test": [
             1726.892313
            ]
           },
           {
            "iteration": 286,
            "learn": [
             1706.358484
            ],
            "passed_time": 47.5403193,
            "remaining_time": 118.1053925,
            "test": [
             1726.660723
            ]
           },
           {
            "iteration": 287,
            "learn": [
             1706.052525
            ],
            "passed_time": 47.6568434,
            "remaining_time": 117.8183073,
            "test": [
             1726.418358
            ]
           },
           {
            "iteration": 288,
            "learn": [
             1705.733741
            ],
            "passed_time": 47.80317124,
            "remaining_time": 117.6057258,
            "test": [
             1726.178711
            ]
           },
           {
            "iteration": 289,
            "learn": [
             1705.336704
            ],
            "passed_time": 47.93782271,
            "remaining_time": 117.3650142,
            "test": [
             1725.904932
            ]
           },
           {
            "iteration": 290,
            "learn": [
             1705.058713
            ],
            "passed_time": 48.01543028,
            "remaining_time": 116.9860484,
            "test": [
             1725.6422
            ]
           },
           {
            "iteration": 291,
            "learn": [
             1704.660491
            ],
            "passed_time": 48.18176659,
            "remaining_time": 116.8242834,
            "test": [
             1725.193514
            ]
           },
           {
            "iteration": 292,
            "learn": [
             1704.303146
            ],
            "passed_time": 48.43204503,
            "remaining_time": 116.865037,
            "test": [
             1724.905318
            ]
           },
           {
            "iteration": 293,
            "learn": [
             1703.963022
            ],
            "passed_time": 48.72274745,
            "remaining_time": 117.0008833,
            "test": [
             1724.671391
            ]
           },
           {
            "iteration": 294,
            "learn": [
             1703.397756
            ],
            "passed_time": 49.05683909,
            "remaining_time": 117.2375307,
            "test": [
             1724.061529
            ]
           },
           {
            "iteration": 295,
            "learn": [
             1703.115263
            ],
            "passed_time": 49.40134095,
            "remaining_time": 117.4950812,
            "test": [
             1723.805239
            ]
           },
           {
            "iteration": 296,
            "learn": [
             1702.729636
            ],
            "passed_time": 49.67945802,
            "remaining_time": 117.5914444,
            "test": [
             1723.54403
            ]
           },
           {
            "iteration": 297,
            "learn": [
             1702.440989
            ],
            "passed_time": 50.00253163,
            "remaining_time": 117.7911987,
            "test": [
             1723.234199
            ]
           },
           {
            "iteration": 298,
            "learn": [
             1702.145804
            ],
            "passed_time": 50.26881613,
            "remaining_time": 117.8543147,
            "test": [
             1723.018328
            ]
           },
           {
            "iteration": 299,
            "learn": [
             1701.835131
            ],
            "passed_time": 50.47717206,
            "remaining_time": 117.7800681,
            "test": [
             1722.826087
            ]
           },
           {
            "iteration": 300,
            "learn": [
             1701.547202
            ],
            "passed_time": 50.74491492,
            "remaining_time": 117.8428423,
            "test": [
             1722.624529
            ]
           },
           {
            "iteration": 301,
            "learn": [
             1701.154893
            ],
            "passed_time": 51.11238267,
            "remaining_time": 118.1339176,
            "test": [
             1722.248309
            ]
           },
           {
            "iteration": 302,
            "learn": [
             1700.859872
            ],
            "passed_time": 51.41130323,
            "remaining_time": 118.2629649,
            "test": [
             1721.957933
            ]
           },
           {
            "iteration": 303,
            "learn": [
             1700.528147
            ],
            "passed_time": 51.57316417,
            "remaining_time": 118.0754022,
            "test": [
             1721.60675
            ]
           },
           {
            "iteration": 304,
            "learn": [
             1700.150459
            ],
            "passed_time": 51.69026293,
            "remaining_time": 117.786009,
            "test": [
             1721.331613
            ]
           },
           {
            "iteration": 305,
            "learn": [
             1699.814383
            ],
            "passed_time": 51.82318752,
            "remaining_time": 117.5336344,
            "test": [
             1721.10817
            ]
           },
           {
            "iteration": 306,
            "learn": [
             1699.559735
            ],
            "passed_time": 51.93328429,
            "remaining_time": 117.2305082,
            "test": [
             1720.971963
            ]
           },
           {
            "iteration": 307,
            "learn": [
             1699.319705
            ],
            "passed_time": 52.07074238,
            "remaining_time": 116.9901095,
            "test": [
             1720.694872
            ]
           },
           {
            "iteration": 308,
            "learn": [
             1699.100936
            ],
            "passed_time": 52.16856025,
            "remaining_time": 116.6617318,
            "test": [
             1720.525542
            ]
           },
           {
            "iteration": 309,
            "learn": [
             1698.483783
            ],
            "passed_time": 52.30518889,
            "remaining_time": 116.4212269,
            "test": [
             1719.876618
            ]
           },
           {
            "iteration": 310,
            "learn": [
             1698.239826
            ],
            "passed_time": 52.38370191,
            "remaining_time": 116.0526386,
            "test": [
             1719.743639
            ]
           },
           {
            "iteration": 311,
            "learn": [
             1697.963778
            ],
            "passed_time": 52.52237028,
            "remaining_time": 115.8185601,
            "test": [
             1719.447524
            ]
           },
           {
            "iteration": 312,
            "learn": [
             1697.758423
            ],
            "passed_time": 52.5989866,
            "remaining_time": 115.4488939,
            "test": [
             1719.314118
            ]
           },
           {
            "iteration": 313,
            "learn": [
             1697.217692
            ],
            "passed_time": 52.74279024,
            "remaining_time": 115.2278793,
            "test": [
             1718.815503
            ]
           },
           {
            "iteration": 314,
            "learn": [
             1696.803776
            ],
            "passed_time": 52.90707964,
            "remaining_time": 115.0519034,
            "test": [
             1718.470183
            ]
           },
           {
            "iteration": 315,
            "learn": [
             1696.541775
            ],
            "passed_time": 53.02326264,
            "remaining_time": 114.7718723,
            "test": [
             1718.331968
            ]
           },
           {
            "iteration": 316,
            "learn": [
             1696.326457
            ],
            "passed_time": 53.13979128,
            "remaining_time": 114.4936197,
            "test": [
             1718.186737
            ]
           },
           {
            "iteration": 317,
            "learn": [
             1695.970786
            ],
            "passed_time": 53.27806894,
            "remaining_time": 114.2630284,
            "test": [
             1717.899025
            ]
           },
           {
            "iteration": 318,
            "learn": [
             1695.631234
            ],
            "passed_time": 53.40946095,
            "remaining_time": 114.0183163,
            "test": [
             1717.607588
            ]
           },
           {
            "iteration": 319,
            "learn": [
             1695.454804
            ],
            "passed_time": 53.57881602,
            "remaining_time": 113.854984,
            "test": [
             1717.407963
            ]
           },
           {
            "iteration": 320,
            "learn": [
             1695.269308
            ],
            "passed_time": 53.66597007,
            "remaining_time": 113.5177373,
            "test": [
             1717.305154
            ]
           },
           {
            "iteration": 321,
            "learn": [
             1694.993994
            ],
            "passed_time": 53.77873446,
            "remaining_time": 113.2359688,
            "test": [
             1717.057687
            ]
           },
           {
            "iteration": 322,
            "learn": [
             1694.557586
            ],
            "passed_time": 53.93277621,
            "remaining_time": 113.0417631,
            "test": [
             1716.702468
            ]
           },
           {
            "iteration": 323,
            "learn": [
             1694.189227
            ],
            "passed_time": 54.03953278,
            "remaining_time": 112.7491486,
            "test": [
             1716.496033
            ]
           },
           {
            "iteration": 324,
            "learn": [
             1693.817008
            ],
            "passed_time": 54.19718861,
            "remaining_time": 112.5633917,
            "test": [
             1716.082665
            ]
           },
           {
            "iteration": 325,
            "learn": [
             1693.6461
            ],
            "passed_time": 54.3734535,
            "remaining_time": 112.4162812,
            "test": [
             1715.92711
            ]
           },
           {
            "iteration": 326,
            "learn": [
             1693.345071
            ],
            "passed_time": 54.57426834,
            "remaining_time": 112.3195186,
            "test": [
             1715.623691
            ]
           },
           {
            "iteration": 327,
            "learn": [
             1693.190722
            ],
            "passed_time": 54.71903392,
            "remaining_time": 112.107289,
            "test": [
             1715.510387
            ]
           },
           {
            "iteration": 328,
            "learn": [
             1692.951858
            ],
            "passed_time": 54.82395441,
            "remaining_time": 111.8142049,
            "test": [
             1715.378656
            ]
           },
           {
            "iteration": 329,
            "learn": [
             1692.743789
            ],
            "passed_time": 54.97954934,
            "remaining_time": 111.6251456,
            "test": [
             1715.142253
            ]
           },
           {
            "iteration": 330,
            "learn": [
             1692.241965
            ],
            "passed_time": 55.13849911,
            "remaining_time": 111.4430692,
            "test": [
             1714.717013
            ]
           },
           {
            "iteration": 331,
            "learn": [
             1691.933967
            ],
            "passed_time": 55.27210656,
            "remaining_time": 111.2101421,
            "test": [
             1714.476103
            ]
           },
           {
            "iteration": 332,
            "learn": [
             1691.631481
            ],
            "passed_time": 55.37649222,
            "remaining_time": 110.9192802,
            "test": [
             1714.31768
            ]
           },
           {
            "iteration": 333,
            "learn": [
             1691.42577
            ],
            "passed_time": 55.52012907,
            "remaining_time": 110.7078023,
            "test": [
             1714.140905
            ]
           },
           {
            "iteration": 334,
            "learn": [
             1691.098076
            ],
            "passed_time": 55.70791456,
            "remaining_time": 110.5843677,
            "test": [
             1713.849874
            ]
           },
           {
            "iteration": 335,
            "learn": [
             1690.832404
            ],
            "passed_time": 55.82455639,
            "remaining_time": 110.3199567,
            "test": [
             1713.561992
            ]
           },
           {
            "iteration": 336,
            "learn": [
             1690.66305
            ],
            "passed_time": 55.96948201,
            "remaining_time": 110.112067,
            "test": [
             1713.430847
            ]
           },
           {
            "iteration": 337,
            "learn": [
             1690.437886
            ],
            "passed_time": 56.10367672,
            "remaining_time": 109.8835325,
            "test": [
             1713.30936
            ]
           },
           {
            "iteration": 338,
            "learn": [
             1690.203101
            ],
            "passed_time": 56.23653627,
            "remaining_time": 109.6529513,
            "test": [
             1713.168052
            ]
           },
           {
            "iteration": 339,
            "learn": [
             1689.816448
            ],
            "passed_time": 56.36365068,
            "remaining_time": 109.4117925,
            "test": [
             1712.771015
            ]
           },
           {
            "iteration": 340,
            "learn": [
             1689.519137
            ],
            "passed_time": 56.5128551,
            "remaining_time": 109.2139927,
            "test": [
             1712.524416
            ]
           },
           {
            "iteration": 341,
            "learn": [
             1689.314577
            ],
            "passed_time": 56.64046349,
            "remaining_time": 108.9749268,
            "test": [
             1712.408868
            ]
           },
           {
            "iteration": 342,
            "learn": [
             1689.126724
            ],
            "passed_time": 56.77358899,
            "remaining_time": 108.7470786,
            "test": [
             1712.230984
            ]
           },
           {
            "iteration": 343,
            "learn": [
             1688.801602
            ],
            "passed_time": 56.90090258,
            "remaining_time": 108.5086979,
            "test": [
             1711.98933
            ]
           },
           {
            "iteration": 344,
            "learn": [
             1688.445753
            ],
            "passed_time": 57.07066716,
            "remaining_time": 108.3515565,
            "test": [
             1711.579197
            ]
           },
           {
            "iteration": 345,
            "learn": [
             1688.100975
            ],
            "passed_time": 57.23259643,
            "remaining_time": 108.179532,
            "test": [
             1711.240814
            ]
           },
           {
            "iteration": 346,
            "learn": [
             1687.690167
            ],
            "passed_time": 57.39614604,
            "remaining_time": 108.0106149,
            "test": [
             1710.839766
            ]
           },
           {
            "iteration": 347,
            "learn": [
             1687.183639
            ],
            "passed_time": 57.53319515,
            "remaining_time": 107.7920783,
            "test": [
             1710.383515
            ]
           },
           {
            "iteration": 348,
            "learn": [
             1686.89439
            ],
            "passed_time": 57.69417319,
            "remaining_time": 107.618644,
            "test": [
             1710.10959
            ]
           },
           {
            "iteration": 349,
            "learn": [
             1686.573853
            ],
            "passed_time": 57.8429111,
            "remaining_time": 107.4225492,
            "test": [
             1709.80707
            ]
           },
           {
            "iteration": 350,
            "learn": [
             1686.336803
            ],
            "passed_time": 58.00880993,
            "remaining_time": 107.2584548,
            "test": [
             1709.63812
            ]
           },
           {
            "iteration": 351,
            "learn": [
             1686.087544
            ],
            "passed_time": 58.16741989,
            "remaining_time": 107.0809321,
            "test": [
             1709.398511
            ]
           },
           {
            "iteration": 352,
            "learn": [
             1685.697612
            ],
            "passed_time": 58.31382301,
            "remaining_time": 106.881143,
            "test": [
             1709.042359
            ]
           },
           {
            "iteration": 353,
            "learn": [
             1685.271442
            ],
            "passed_time": 58.45787656,
            "remaining_time": 106.677368,
            "test": [
             1708.584705
            ]
           },
           {
            "iteration": 354,
            "learn": [
             1684.978786
            ],
            "passed_time": 58.61101547,
            "remaining_time": 106.4904366,
            "test": [
             1708.360901
            ]
           },
           {
            "iteration": 355,
            "learn": [
             1684.744552
            ],
            "passed_time": 58.71967467,
            "remaining_time": 106.2232317,
            "test": [
             1708.093143
            ]
           },
           {
            "iteration": 356,
            "learn": [
             1684.529357
            ],
            "passed_time": 58.84539397,
            "remaining_time": 105.9876424,
            "test": [
             1707.903321
            ]
           },
           {
            "iteration": 357,
            "learn": [
             1684.340988
            ],
            "passed_time": 59.02444304,
            "remaining_time": 105.8483029,
            "test": [
             1707.748812
            ]
           },
           {
            "iteration": 358,
            "learn": [
             1683.994689
            ],
            "passed_time": 59.15990241,
            "remaining_time": 105.6309121,
            "test": [
             1707.541137
            ]
           },
           {
            "iteration": 359,
            "learn": [
             1683.715443
            ],
            "passed_time": 59.30099778,
            "remaining_time": 105.4239961,
            "test": [
             1707.342443
            ]
           },
           {
            "iteration": 360,
            "learn": [
             1683.45363
            ],
            "passed_time": 59.46493287,
            "remaining_time": 105.2578729,
            "test": [
             1707.141419
            ]
           },
           {
            "iteration": 361,
            "learn": [
             1683.209729
            ],
            "passed_time": 59.62963639,
            "remaining_time": 105.0931161,
            "test": [
             1706.868535
            ]
           },
           {
            "iteration": 362,
            "learn": [
             1683.005402
            ],
            "passed_time": 59.78305191,
            "remaining_time": 104.9085512,
            "test": [
             1706.742281
            ]
           },
           {
            "iteration": 363,
            "learn": [
             1682.877596
            ],
            "passed_time": 59.91014308,
            "remaining_time": 104.6781621,
            "test": [
             1706.661138
            ]
           },
           {
            "iteration": 364,
            "learn": [
             1682.686801
            ],
            "passed_time": 60.05634699,
            "remaining_time": 104.48159,
            "test": [
             1706.531292
            ]
           },
           {
            "iteration": 365,
            "learn": [
             1682.357453
            ],
            "passed_time": 60.21085621,
            "remaining_time": 104.2996799,
            "test": [
             1706.275645
            ]
           },
           {
            "iteration": 366,
            "learn": [
             1681.951441
            ],
            "passed_time": 60.34241335,
            "remaining_time": 104.0783315,
            "test": [
             1705.924597
            ]
           },
           {
            "iteration": 367,
            "learn": [
             1681.794597
            ],
            "passed_time": 60.47924927,
            "remaining_time": 103.8665368,
            "test": [
             1705.73176
            ]
           },
           {
            "iteration": 368,
            "learn": [
             1681.544304
            ],
            "passed_time": 60.56908747,
            "remaining_time": 103.574781,
            "test": [
             1705.640519
            ]
           },
           {
            "iteration": 369,
            "learn": [
             1681.424968
            ],
            "passed_time": 60.74150081,
            "remaining_time": 103.4247176,
            "test": [
             1705.512222
            ]
           },
           {
            "iteration": 370,
            "learn": [
             1681.220006
            ],
            "passed_time": 60.87639506,
            "remaining_time": 103.2109232,
            "test": [
             1705.397571
            ]
           },
           {
            "iteration": 371,
            "learn": [
             1681.029765
            ],
            "passed_time": 60.9979661,
            "remaining_time": 102.9750611,
            "test": [
             1705.210085
            ]
           },
           {
            "iteration": 372,
            "learn": [
             1680.770399
            ],
            "passed_time": 61.15281007,
            "remaining_time": 102.7957424,
            "test": [
             1705.000497
            ]
           },
           {
            "iteration": 373,
            "learn": [
             1680.434346
            ],
            "passed_time": 61.28630755,
            "remaining_time": 102.5808249,
            "test": [
             1704.712649
            ]
           },
           {
            "iteration": 374,
            "learn": [
             1680.095851
            ],
            "passed_time": 61.48276663,
            "remaining_time": 102.4712777,
            "test": [
             1704.401404
            ]
           },
           {
            "iteration": 375,
            "learn": [
             1679.858984
            ],
            "passed_time": 61.63575788,
            "remaining_time": 102.2891301,
            "test": [
             1704.212727
            ]
           },
           {
            "iteration": 376,
            "learn": [
             1679.642287
            ],
            "passed_time": 61.89577263,
            "remaining_time": 102.2839956,
            "test": [
             1704.015983
            ]
           },
           {
            "iteration": 377,
            "learn": [
             1679.448171
            ],
            "passed_time": 62.1669759,
            "remaining_time": 102.2959233,
            "test": [
             1703.843336
            ]
           },
           {
            "iteration": 378,
            "learn": [
             1679.314232
            ],
            "passed_time": 62.33381156,
            "remaining_time": 102.1353482,
            "test": [
             1703.702173
            ]
           },
           {
            "iteration": 379,
            "learn": [
             1679.017519
            ],
            "passed_time": 62.63605974,
            "remaining_time": 102.1956764,
            "test": [
             1703.416824
            ]
           },
           {
            "iteration": 380,
            "learn": [
             1678.691692
            ],
            "passed_time": 62.89359377,
            "remaining_time": 102.1814555,
            "test": [
             1703.16138
            ]
           },
           {
            "iteration": 381,
            "learn": [
             1678.506953
            ],
            "passed_time": 63.0515995,
            "remaining_time": 102.0049437,
            "test": [
             1703.060227
            ]
           },
           {
            "iteration": 382,
            "learn": [
             1678.200733
            ],
            "passed_time": 63.32319547,
            "remaining_time": 102.0115186,
            "test": [
             1702.785571
            ]
           },
           {
            "iteration": 383,
            "learn": [
             1677.988239
            ],
            "passed_time": 63.52717381,
            "remaining_time": 101.9081747,
            "test": [
             1702.617727
            ]
           },
           {
            "iteration": 384,
            "learn": [
             1677.687676
            ],
            "passed_time": 63.76152949,
            "remaining_time": 101.8528328,
            "test": [
             1702.329222
            ]
           },
           {
            "iteration": 385,
            "learn": [
             1677.453222
            ],
            "passed_time": 64.02074451,
            "remaining_time": 101.8361065,
            "test": [
             1702.119606
            ]
           },
           {
            "iteration": 386,
            "learn": [
             1677.367573
            ],
            "passed_time": 64.29544996,
            "remaining_time": 101.8426636,
            "test": [
             1702.054707
            ]
           },
           {
            "iteration": 387,
            "learn": [
             1677.061308
            ],
            "passed_time": 64.44133298,
            "remaining_time": 101.6445768,
            "test": [
             1701.781079
            ]
           },
           {
            "iteration": 388,
            "learn": [
             1676.984213
            ],
            "passed_time": 64.53646532,
            "remaining_time": 101.3670445,
            "test": [
             1701.733718
            ]
           },
           {
            "iteration": 389,
            "learn": [
             1676.735912
            ],
            "passed_time": 64.71576715,
            "remaining_time": 101.2220973,
            "test": [
             1701.464606
            ]
           },
           {
            "iteration": 390,
            "learn": [
             1676.526769
            ],
            "passed_time": 64.85038773,
            "remaining_time": 101.0073814,
            "test": [
             1701.222613
            ]
           },
           {
            "iteration": 391,
            "learn": [
             1676.298778
            ],
            "passed_time": 64.95986542,
            "remaining_time": 100.754077,
            "test": [
             1701.024194
            ]
           },
           {
            "iteration": 392,
            "learn": [
             1676.147439
            ],
            "passed_time": 65.09845357,
            "remaining_time": 100.5464665,
            "test": [
             1700.964636
            ]
           },
           {
            "iteration": 393,
            "learn": [
             1675.857136
            ],
            "passed_time": 65.22314867,
            "remaining_time": 100.3178378,
            "test": [
             1700.719877
            ]
           },
           {
            "iteration": 394,
            "learn": [
             1675.586534
            ],
            "passed_time": 65.40029096,
            "remaining_time": 100.1700659,
            "test": [
             1700.509638
            ]
           },
           {
            "iteration": 395,
            "learn": [
             1675.290431
            ],
            "passed_time": 65.56553032,
            "remaining_time": 100.0039907,
            "test": [
             1700.240762
            ]
           },
           {
            "iteration": 396,
            "learn": [
             1675.04514
            ],
            "passed_time": 65.65168355,
            "remaining_time": 99.71779642,
            "test": [
             1700.065234
            ]
           },
           {
            "iteration": 397,
            "learn": [
             1674.913135
            ],
            "passed_time": 65.75388596,
            "remaining_time": 99.45688279,
            "test": [
             1700.009793
            ]
           },
           {
            "iteration": 398,
            "learn": [
             1674.631192
            ],
            "passed_time": 65.91107547,
            "remaining_time": 99.27958986,
            "test": [
             1699.740654
            ]
           },
           {
            "iteration": 399,
            "learn": [
             1674.251173
            ],
            "passed_time": 66.05421082,
            "remaining_time": 99.08131623,
            "test": [
             1699.312544
            ]
           },
           {
            "iteration": 400,
            "learn": [
             1674.132274
            ],
            "passed_time": 66.1456331,
            "remaining_time": 98.80607039,
            "test": [
             1699.222532
            ]
           },
           {
            "iteration": 401,
            "learn": [
             1673.884189
            ],
            "passed_time": 66.33623461,
            "remaining_time": 98.67927437,
            "test": [
             1698.945632
            ]
           },
           {
            "iteration": 402,
            "learn": [
             1673.702377
            ],
            "passed_time": 66.4941768,
            "remaining_time": 98.50378053,
            "test": [
             1698.813667
            ]
           },
           {
            "iteration": 403,
            "learn": [
             1673.54944
            ],
            "passed_time": 66.59789832,
            "remaining_time": 98.24838465,
            "test": [
             1698.721203
            ]
           },
           {
            "iteration": 404,
            "learn": [
             1673.279017
            ],
            "passed_time": 66.72219295,
            "remaining_time": 98.02396248,
            "test": [
             1698.529533
            ]
           },
           {
            "iteration": 405,
            "learn": [
             1673.050968
            ],
            "passed_time": 66.87218292,
            "remaining_time": 97.83762723,
            "test": [
             1698.323981
            ]
           },
           {
            "iteration": 406,
            "learn": [
             1672.821731
            ],
            "passed_time": 67.01170103,
            "remaining_time": 97.63621305,
            "test": [
             1698.144508
            ]
           },
           {
            "iteration": 407,
            "learn": [
             1672.480968
            ],
            "passed_time": 67.1468731,
            "remaining_time": 97.42879627,
            "test": [
             1697.757654
            ]
           },
           {
            "iteration": 408,
            "learn": [
             1672.173136
            ],
            "passed_time": 67.23460622,
            "remaining_time": 97.15318405,
            "test": [
             1697.405671
            ]
           },
           {
            "iteration": 409,
            "learn": [
             1672.030905
            ],
            "passed_time": 67.39890855,
            "remaining_time": 96.98867328,
            "test": [
             1697.263974
            ]
           },
           {
            "iteration": 410,
            "learn": [
             1671.817791
            ],
            "passed_time": 67.49042711,
            "remaining_time": 96.71985782,
            "test": [
             1697.127581
            ]
           },
           {
            "iteration": 411,
            "learn": [
             1671.672356
            ],
            "passed_time": 67.56516807,
            "remaining_time": 96.42795832,
            "test": [
             1696.969875
            ]
           },
           {
            "iteration": 412,
            "learn": [
             1671.421728
            ],
            "passed_time": 67.65042413,
            "remaining_time": 96.1520556,
            "test": [
             1696.765114
            ]
           },
           {
            "iteration": 413,
            "learn": [
             1671.126576
            ],
            "passed_time": 67.78763155,
            "remaining_time": 95.95060891,
            "test": [
             1696.538771
            ]
           },
           {
            "iteration": 414,
            "learn": [
             1670.861489
            ],
            "passed_time": 67.93478593,
            "remaining_time": 95.76349342,
            "test": [
             1696.32854
            ]
           },
           {
            "iteration": 415,
            "learn": [
             1670.687103
            ],
            "passed_time": 68.09099293,
            "remaining_time": 95.58927854,
            "test": [
             1696.184128
            ]
           },
           {
            "iteration": 416,
            "learn": [
             1670.512528
            ],
            "passed_time": 68.23111452,
            "remaining_time": 95.39266131,
            "test": [
             1696.070803
            ]
           },
           {
            "iteration": 417,
            "learn": [
             1670.409649
            ],
            "passed_time": 68.31702263,
            "remaining_time": 95.12083055,
            "test": [
             1696.014677
            ]
           },
           {
            "iteration": 418,
            "learn": [
             1670.224819
            ],
            "passed_time": 68.49478394,
            "remaining_time": 94.97725411,
            "test": [
             1695.804761
            ]
           },
           {
            "iteration": 419,
            "learn": [
             1670.09864
            ],
            "passed_time": 68.6424645,
            "remaining_time": 94.79197478,
            "test": [
             1695.701147
            ]
           },
           {
            "iteration": 420,
            "learn": [
             1669.913358
            ],
            "passed_time": 68.7584936,
            "remaining_time": 94.56334393,
            "test": [
             1695.536457
            ]
           },
           {
            "iteration": 421,
            "learn": [
             1669.751279
            ],
            "passed_time": 68.93088225,
            "remaining_time": 94.41244061,
            "test": [
             1695.416092
            ]
           },
           {
            "iteration": 422,
            "learn": [
             1669.509108
            ],
            "passed_time": 69.07296033,
            "remaining_time": 94.2200901,
            "test": [
             1695.159164
            ]
           },
           {
            "iteration": 423,
            "learn": [
             1669.299471
            ],
            "passed_time": 69.17502471,
            "remaining_time": 93.97361848,
            "test": [
             1694.972944
            ]
           },
           {
            "iteration": 424,
            "learn": [
             1669.148005
            ],
            "passed_time": 69.29836267,
            "remaining_time": 93.75660832,
            "test": [
             1694.856242
            ]
           },
           {
            "iteration": 425,
            "learn": [
             1668.915059
            ],
            "passed_time": 69.45285653,
            "remaining_time": 93.58201795,
            "test": [
             1694.68408
            ]
           },
           {
            "iteration": 426,
            "learn": [
             1668.776519
            ],
            "passed_time": 69.58642139,
            "remaining_time": 93.37943667,
            "test": [
             1694.595743
            ]
           },
           {
            "iteration": 427,
            "learn": [
             1668.60927
            ],
            "passed_time": 69.72701209,
            "remaining_time": 93.18656756,
            "test": [
             1694.476483
            ]
           },
           {
            "iteration": 428,
            "learn": [
             1668.343128
            ],
            "passed_time": 69.86365059,
            "remaining_time": 92.98868178,
            "test": [
             1694.295031
            ]
           },
           {
            "iteration": 429,
            "learn": [
             1668.059015
            ],
            "passed_time": 69.97731264,
            "remaining_time": 92.76062373,
            "test": [
             1693.991217
            ]
           },
           {
            "iteration": 430,
            "learn": [
             1667.837353
            ],
            "passed_time": 70.11887513,
            "remaining_time": 92.56993027,
            "test": [
             1693.804089
            ]
           },
           {
            "iteration": 431,
            "learn": [
             1667.529701
            ],
            "passed_time": 70.25163058,
            "remaining_time": 92.36788465,
            "test": [
             1693.472213
            ]
           },
           {
            "iteration": 432,
            "learn": [
             1667.318274
            ],
            "passed_time": 70.40791368,
            "remaining_time": 92.19696779,
            "test": [
             1693.332112
            ]
           },
           {
            "iteration": 433,
            "learn": [
             1667.080306
            ],
            "passed_time": 70.49505959,
            "remaining_time": 91.93595328,
            "test": [
             1693.152006
            ]
           },
           {
            "iteration": 434,
            "learn": [
             1666.999528
            ],
            "passed_time": 70.64494508,
            "remaining_time": 91.75722752,
            "test": [
             1693.109823
            ]
           },
           {
            "iteration": 435,
            "learn": [
             1666.887306
            ],
            "passed_time": 70.72063094,
            "remaining_time": 91.48265103,
            "test": [
             1692.990518
            ]
           },
           {
            "iteration": 436,
            "learn": [
             1666.589112
            ],
            "passed_time": 70.834094,
            "remaining_time": 91.25765429,
            "test": [
             1692.758428
            ]
           },
           {
            "iteration": 437,
            "learn": [
             1666.385964
            ],
            "passed_time": 70.94434376,
            "remaining_time": 91.02904382,
            "test": [
             1692.603751
            ]
           },
           {
            "iteration": 438,
            "learn": [
             1666.16341
            ],
            "passed_time": 71.06952683,
            "remaining_time": 90.82005593,
            "test": [
             1692.406783
            ]
           },
           {
            "iteration": 439,
            "learn": [
             1666.018918
            ],
            "passed_time": 71.1874383,
            "remaining_time": 90.60219421,
            "test": [
             1692.301743
            ]
           },
           {
            "iteration": 440,
            "learn": [
             1665.765499
            ],
            "passed_time": 71.31092535,
            "remaining_time": 90.39185322,
            "test": [
             1691.99989
            ]
           },
           {
            "iteration": 441,
            "learn": [
             1665.435647
            ],
            "passed_time": 71.45555331,
            "remaining_time": 90.20859445,
            "test": [
             1691.764591
            ]
           },
           {
            "iteration": 442,
            "learn": [
             1665.170455
            ],
            "passed_time": 71.59722952,
            "remaining_time": 90.02179874,
            "test": [
             1691.47627
            ]
           },
           {
            "iteration": 443,
            "learn": [
             1665.043106
            ],
            "passed_time": 71.67538209,
            "remaining_time": 89.75565866,
            "test": [
             1691.413511
            ]
           },
           {
            "iteration": 444,
            "learn": [
             1664.789178
            ],
            "passed_time": 71.79881294,
            "remaining_time": 89.54683412,
            "test": [
             1691.256937
            ]
           },
           {
            "iteration": 445,
            "learn": [
             1664.696499
            ],
            "passed_time": 71.87226237,
            "remaining_time": 89.27630796,
            "test": [
             1691.22499
            ]
           },
           {
            "iteration": 446,
            "learn": [
             1664.530554
            ],
            "passed_time": 72.00542574,
            "remaining_time": 89.08053789,
            "test": [
             1691.020652
            ]
           },
           {
            "iteration": 447,
            "learn": [
             1664.349618
            ],
            "passed_time": 72.18862645,
            "remaining_time": 88.94670044,
            "test": [
             1690.86895
            ]
           },
           {
            "iteration": 448,
            "learn": [
             1664.10044
            ],
            "passed_time": 72.32469371,
            "remaining_time": 88.75480231,
            "test": [
             1690.622765
            ]
           },
           {
            "iteration": 449,
            "learn": [
             1663.934196
            ],
            "passed_time": 72.70974256,
            "remaining_time": 88.86746312,
            "test": [
             1690.446842
            ]
           },
           {
            "iteration": 450,
            "learn": [
             1663.689961
            ],
            "passed_time": 72.85883962,
            "remaining_time": 88.69069391,
            "test": [
             1690.315318
            ]
           },
           {
            "iteration": 451,
            "learn": [
             1663.47688
            ],
            "passed_time": 73.00908628,
            "remaining_time": 88.51544089,
            "test": [
             1690.189962
            ]
           },
           {
            "iteration": 452,
            "learn": [
             1663.373842
            ],
            "passed_time": 73.14052205,
            "remaining_time": 88.31758402,
            "test": [
             1690.121476
            ]
           },
           {
            "iteration": 453,
            "learn": [
             1663.205366
            ],
            "passed_time": 73.26426457,
            "remaining_time": 88.11076752,
            "test": [
             1689.965019
            ]
           },
           {
            "iteration": 454,
            "learn": [
             1662.982736
            ],
            "passed_time": 73.40511922,
            "remaining_time": 87.92481313,
            "test": [
             1689.837938
            ]
           },
           {
            "iteration": 455,
            "learn": [
             1662.76783
            ],
            "passed_time": 73.54068705,
            "remaining_time": 87.73274946,
            "test": [
             1689.679363
            ]
           },
           {
            "iteration": 456,
            "learn": [
             1662.554339
            ],
            "passed_time": 73.67786257,
            "remaining_time": 87.54284327,
            "test": [
             1689.544196
            ]
           },
           {
            "iteration": 457,
            "learn": [
             1662.438888
            ],
            "passed_time": 73.80403908,
            "remaining_time": 87.34015106,
            "test": [
             1689.488194
            ]
           },
           {
            "iteration": 458,
            "learn": [
             1662.245531
            ],
            "passed_time": 73.94937444,
            "remaining_time": 87.1603738,
            "test": [
             1689.361797
            ]
           },
           {
            "iteration": 459,
            "learn": [
             1662.11594
            ],
            "passed_time": 74.07297106,
            "remaining_time": 86.95522689,
            "test": [
             1689.276494
            ]
           },
           {
            "iteration": 460,
            "learn": [
             1661.912201
            ],
            "passed_time": 74.2147624,
            "remaining_time": 86.77170701,
            "test": [
             1689.10839
            ]
           },
           {
            "iteration": 461,
            "learn": [
             1661.681464
            ],
            "passed_time": 74.47209414,
            "remaining_time": 86.72291482,
            "test": [
             1688.927913
            ]
           },
           {
            "iteration": 462,
            "learn": [
             1661.500218
            ],
            "passed_time": 74.86009081,
            "remaining_time": 86.82477056,
            "test": [
             1688.757727
            ]
           },
           {
            "iteration": 463,
            "learn": [
             1661.275425
            ],
            "passed_time": 75.1401168,
            "remaining_time": 86.7997901,
            "test": [
             1688.570017
            ]
           },
           {
            "iteration": 464,
            "learn": [
             1661.111084
            ],
            "passed_time": 75.40549911,
            "remaining_time": 86.75686456,
            "test": [
             1688.416846
            ]
           },
           {
            "iteration": 465,
            "learn": [
             1661.019701
            ],
            "passed_time": 75.76321173,
            "remaining_time": 86.81878769,
            "test": [
             1688.371147
            ]
           },
           {
            "iteration": 466,
            "learn": [
             1660.716695
            ],
            "passed_time": 76.10173701,
            "remaining_time": 86.85701462,
            "test": [
             1688.070286
            ]
           },
           {
            "iteration": 467,
            "learn": [
             1660.597328
            ],
            "passed_time": 76.40183199,
            "remaining_time": 86.84994576,
            "test": [
             1687.992315
            ]
           },
           {
            "iteration": 468,
            "learn": [
             1660.507582
            ],
            "passed_time": 76.67226819,
            "remaining_time": 86.80804778,
            "test": [
             1687.913861
            ]
           },
           {
            "iteration": 469,
            "learn": [
             1660.335829
            ],
            "passed_time": 76.92433214,
            "remaining_time": 86.74445965,
            "test": [
             1687.852424
            ]
           },
           {
            "iteration": 470,
            "learn": [
             1660.195547
            ],
            "passed_time": 77.19750043,
            "remaining_time": 86.70377437,
            "test": [
             1687.778671
            ]
           },
           {
            "iteration": 471,
            "learn": [
             1660.114658
            ],
            "passed_time": 77.27675598,
            "remaining_time": 86.44518465,
            "test": [
             1687.753193
            ]
           },
           {
            "iteration": 472,
            "learn": [
             1659.912395
            ],
            "passed_time": 77.41646582,
            "remaining_time": 86.25470928,
            "test": [
             1687.599347
            ]
           },
           {
            "iteration": 473,
            "learn": [
             1659.699891
            ],
            "passed_time": 77.5493726,
            "remaining_time": 86.05689871,
            "test": [
             1687.428797
            ]
           },
           {
            "iteration": 474,
            "learn": [
             1659.578589
            ],
            "passed_time": 77.66019701,
            "remaining_time": 85.83495459,
            "test": [
             1687.322771
            ]
           },
           {
            "iteration": 475,
            "learn": [
             1659.495507
            ],
            "passed_time": 77.80939328,
            "remaining_time": 85.65571865,
            "test": [
             1687.278671
            ]
           },
           {
            "iteration": 476,
            "learn": [
             1659.403123
            ],
            "passed_time": 77.92011255,
            "remaining_time": 85.43442109,
            "test": [
             1687.2004
            ]
           },
           {
            "iteration": 477,
            "learn": [
             1659.201493
            ],
            "passed_time": 78.09443642,
            "remaining_time": 85.28304563,
            "test": [
             1687.019058
            ]
           },
           {
            "iteration": 478,
            "learn": [
             1658.9029
            ],
            "passed_time": 78.23438188,
            "remaining_time": 85.09418155,
            "test": [
             1686.821121
            ]
           },
           {
            "iteration": 479,
            "learn": [
             1658.828995
            ],
            "passed_time": 78.35913024,
            "remaining_time": 84.88905776,
            "test": [
             1686.759847
            ]
           },
           {
            "iteration": 480,
            "learn": [
             1658.582676
            ],
            "passed_time": 78.53484277,
            "remaining_time": 84.73925862,
            "test": [
             1686.68163
            ]
           },
           {
            "iteration": 481,
            "learn": [
             1658.45798
            ],
            "passed_time": 78.68692389,
            "remaining_time": 84.56395555,
            "test": [
             1686.580385
            ]
           },
           {
            "iteration": 482,
            "learn": [
             1658.347363
            ],
            "passed_time": 78.77741095,
            "remaining_time": 84.32281876,
            "test": [
             1686.500316
            ]
           },
           {
            "iteration": 483,
            "learn": [
             1658.261604
            ],
            "passed_time": 78.87448329,
            "remaining_time": 84.08932516,
            "test": [
             1686.446455
            ]
           },
           {
            "iteration": 484,
            "learn": [
             1658.079031
            ],
            "passed_time": 79.03973708,
            "remaining_time": 83.92879299,
            "test": [
             1686.291511
            ]
           },
           {
            "iteration": 485,
            "learn": [
             1657.771535
            ],
            "passed_time": 79.19867948,
            "remaining_time": 83.76156636,
            "test": [
             1686.007199
            ]
           },
           {
            "iteration": 486,
            "learn": [
             1657.715263
            ],
            "passed_time": 79.40780299,
            "remaining_time": 83.64723395,
            "test": [
             1685.983315
            ]
           },
           {
            "iteration": 487,
            "learn": [
             1657.557983
            ],
            "passed_time": 79.58447691,
            "remaining_time": 83.49846758,
            "test": [
             1685.862216
            ]
           },
           {
            "iteration": 488,
            "learn": [
             1657.28782
            ],
            "passed_time": 79.72406106,
            "remaining_time": 83.31082863,
            "test": [
             1685.653195
            ]
           },
           {
            "iteration": 489,
            "learn": [
             1657.183774
            ],
            "passed_time": 79.82887763,
            "remaining_time": 83.08719916,
            "test": [
             1685.568172
            ]
           },
           {
            "iteration": 490,
            "learn": [
             1657.056194
            ],
            "passed_time": 79.95192969,
            "remaining_time": 82.88295766,
            "test": [
             1685.442532
            ]
           },
           {
            "iteration": 491,
            "learn": [
             1656.979186
            ],
            "passed_time": 80.09025083,
            "remaining_time": 82.69481183,
            "test": [
             1685.392586
            ]
           },
           {
            "iteration": 492,
            "learn": [
             1656.8302
            ],
            "passed_time": 80.20684417,
            "remaining_time": 82.48452331,
            "test": [
             1685.373508
            ]
           },
           {
            "iteration": 493,
            "learn": [
             1656.578619
            ],
            "passed_time": 80.36480475,
            "remaining_time": 82.31698624,
            "test": [
             1685.169753
            ]
           },
           {
            "iteration": 494,
            "learn": [
             1656.353256
            ],
            "passed_time": 80.50112404,
            "remaining_time": 82.12740937,
            "test": [
             1685.043815
            ]
           },
           {
            "iteration": 495,
            "learn": [
             1656.269214
            ],
            "passed_time": 80.61271401,
            "remaining_time": 81.91291908,
            "test": [
             1684.989368
            ]
           },
           {
            "iteration": 496,
            "learn": [
             1656.05676
            ],
            "passed_time": 80.73061229,
            "remaining_time": 81.70522733,
            "test": [
             1684.781521
            ]
           },
           {
            "iteration": 497,
            "learn": [
             1655.948244
            ],
            "passed_time": 80.84871416,
            "remaining_time": 81.49810143,
            "test": [
             1684.676417
            ]
           },
           {
            "iteration": 498,
            "learn": [
             1655.870995
            ],
            "passed_time": 80.95926335,
            "remaining_time": 81.28374937,
            "test": [
             1684.627055
            ]
           },
           {
            "iteration": 499,
            "learn": [
             1655.645082
            ],
            "passed_time": 81.12387869,
            "remaining_time": 81.12387869,
            "test": [
             1684.461713
            ]
           },
           {
            "iteration": 500,
            "learn": [
             1655.545954
            ],
            "passed_time": 81.21703607,
            "remaining_time": 80.89281637,
            "test": [
             1684.365727
            ]
           },
           {
            "iteration": 501,
            "learn": [
             1655.438265
            ],
            "passed_time": 81.37954038,
            "remaining_time": 80.73109783,
            "test": [
             1684.313794
            ]
           },
           {
            "iteration": 502,
            "learn": [
             1655.27061
            ],
            "passed_time": 81.52907514,
            "remaining_time": 80.55656132,
            "test": [
             1684.231021
            ]
           },
           {
            "iteration": 503,
            "learn": [
             1655.021064
            ],
            "passed_time": 81.68186792,
            "remaining_time": 80.38533033,
            "test": [
             1684.019847
            ]
           },
           {
            "iteration": 504,
            "learn": [
             1654.654629
            ],
            "passed_time": 81.78912859,
            "remaining_time": 80.16954189,
            "test": [
             1683.637229
            ]
           },
           {
            "iteration": 505,
            "learn": [
             1654.590042
            ],
            "passed_time": 81.87945877,
            "remaining_time": 79.93765342,
            "test": [
             1683.569592
            ]
           },
           {
            "iteration": 506,
            "learn": [
             1654.454299
            ],
            "passed_time": 82.00784636,
            "remaining_time": 79.74332989,
            "test": [
             1683.460964
            ]
           },
           {
            "iteration": 507,
            "learn": [
             1654.201396
            ],
            "passed_time": 82.13475124,
            "remaining_time": 79.54782994,
            "test": [
             1683.180232
            ]
           },
           {
            "iteration": 508,
            "learn": [
             1654.108304
            ],
            "passed_time": 82.26311734,
            "remaining_time": 79.35400907,
            "test": [
             1683.122261
            ]
           },
           {
            "iteration": 509,
            "learn": [
             1654.035866
            ],
            "passed_time": 82.4506533,
            "remaining_time": 79.21729435,
            "test": [
             1683.118563
            ]
           },
           {
            "iteration": 510,
            "learn": [
             1653.753899
            ],
            "passed_time": 82.58599701,
            "remaining_time": 79.03043549,
            "test": [
             1682.854556
            ]
           },
           {
            "iteration": 511,
            "learn": [
             1653.614093
            ],
            "passed_time": 82.74918274,
            "remaining_time": 78.8703148,
            "test": [
             1682.747576
            ]
           },
           {
            "iteration": 512,
            "learn": [
             1653.481602
            ],
            "passed_time": 82.90150644,
            "remaining_time": 78.69987063,
            "test": [
             1682.679164
            ]
           },
           {
            "iteration": 513,
            "learn": [
             1653.329756
            ],
            "passed_time": 83.00994684,
            "remaining_time": 78.48800422,
            "test": [
             1682.580154
            ]
           },
           {
            "iteration": 514,
            "learn": [
             1653.108076
            ],
            "passed_time": 83.09721875,
            "remaining_time": 78.25660407,
            "test": [
             1682.379326
            ]
           },
           {
            "iteration": 515,
            "learn": [
             1653.039264
            ],
            "passed_time": 83.31735817,
            "remaining_time": 78.15039022,
            "test": [
             1682.288666
            ]
           },
           {
            "iteration": 516,
            "learn": [
             1652.911394
            ],
            "passed_time": 83.43622011,
            "remaining_time": 77.94911859,
            "test": [
             1682.187908
            ]
           },
           {
            "iteration": 517,
            "learn": [
             1652.705004
            ],
            "passed_time": 83.53160882,
            "remaining_time": 77.72632326,
            "test": [
             1681.942844
            ]
           },
           {
            "iteration": 518,
            "learn": [
             1652.498449
            ],
            "passed_time": 83.69332352,
            "remaining_time": 77.56548866,
            "test": [
             1681.887193
            ]
           },
           {
            "iteration": 519,
            "learn": [
             1652.290404
            ],
            "passed_time": 83.76673145,
            "remaining_time": 77.32313672,
            "test": [
             1681.620176
            ]
           },
           {
            "iteration": 520,
            "learn": [
             1652.104717
            ],
            "passed_time": 83.90122087,
            "remaining_time": 77.13759078,
            "test": [
             1681.46806
            ]
           },
           {
            "iteration": 521,
            "learn": [
             1651.943951
            ],
            "passed_time": 84.04187067,
            "remaining_time": 76.95788157,
            "test": [
             1681.326865
            ]
           },
           {
            "iteration": 522,
            "learn": [
             1651.676643
            ],
            "passed_time": 84.22774485,
            "remaining_time": 76.81956844,
            "test": [
             1681.016448
            ]
           },
           {
            "iteration": 523,
            "learn": [
             1651.535019
            ],
            "passed_time": 84.36344706,
            "remaining_time": 76.63549771,
            "test": [
             1680.924284
            ]
           },
           {
            "iteration": 524,
            "learn": [
             1651.301583
            ],
            "passed_time": 84.45607073,
            "remaining_time": 76.41263542,
            "test": [
             1680.683514
            ]
           },
           {
            "iteration": 525,
            "learn": [
             1651.155601
            ],
            "passed_time": 84.61256321,
            "remaining_time": 76.24782312,
            "test": [
             1680.542743
            ]
           },
           {
            "iteration": 526,
            "learn": [
             1650.97287
            ],
            "passed_time": 84.76581462,
            "remaining_time": 76.08013343,
            "test": [
             1680.446352
            ]
           },
           {
            "iteration": 527,
            "learn": [
             1650.762708
            ],
            "passed_time": 84.8618623,
            "remaining_time": 75.86136176,
            "test": [
             1680.255485
            ]
           },
           {
            "iteration": 528,
            "learn": [
             1650.617871
            ],
            "passed_time": 84.9528129,
            "remaining_time": 75.63851583,
            "test": [
             1680.192835
            ]
           },
           {
            "iteration": 529,
            "learn": [
             1650.450256
            ],
            "passed_time": 85.07728534,
            "remaining_time": 75.44589455,
            "test": [
             1680.10585
            ]
           },
           {
            "iteration": 530,
            "learn": [
             1650.241217
            ],
            "passed_time": 85.17170249,
            "remaining_time": 75.22698394,
            "test": [
             1679.868513
            ]
           },
           {
            "iteration": 531,
            "learn": [
             1650.13297
            ],
            "passed_time": 85.28650015,
            "remaining_time": 75.02647006,
            "test": [
             1679.767408
            ]
           },
           {
            "iteration": 532,
            "learn": [
             1649.992852
            ],
            "passed_time": 85.44253878,
            "remaining_time": 74.86241203,
            "test": [
             1679.72562
            ]
           },
           {
            "iteration": 533,
            "learn": [
             1649.735023
            ],
            "passed_time": 85.5374727,
            "remaining_time": 74.64506044,
            "test": [
             1679.488152
            ]
           },
           {
            "iteration": 534,
            "learn": [
             1649.577272
            ],
            "passed_time": 85.67079287,
            "remaining_time": 74.46153025,
            "test": [
             1679.386109
            ]
           },
           {
            "iteration": 535,
            "learn": [
             1649.376557
            ],
            "passed_time": 85.82132402,
            "remaining_time": 74.29308647,
            "test": [
             1679.197853
            ]
           },
           {
            "iteration": 536,
            "learn": [
             1649.235323
            ],
            "passed_time": 85.93573546,
            "remaining_time": 74.09356707,
            "test": [
             1679.120974
            ]
           },
           {
            "iteration": 537,
            "learn": [
             1649.07499
            ],
            "passed_time": 86.03250162,
            "remaining_time": 73.87921143,
            "test": [
             1678.962529
            ]
           },
           {
            "iteration": 538,
            "learn": [
             1648.789974
            ],
            "passed_time": 86.15583566,
            "remaining_time": 73.68801529,
            "test": [
             1678.765124
            ]
           },
           {
            "iteration": 539,
            "learn": [
             1648.643904
            ],
            "passed_time": 86.35962983,
            "remaining_time": 73.5656106,
            "test": [
             1678.64162
            ]
           },
           {
            "iteration": 540,
            "learn": [
             1648.481177
            ],
            "passed_time": 86.54377567,
            "remaining_time": 73.42623481,
            "test": [
             1678.518866
            ]
           },
           {
            "iteration": 541,
            "learn": [
             1648.250791
            ],
            "passed_time": 86.63980445,
            "remaining_time": 73.21223328,
            "test": [
             1678.302258
            ]
           },
           {
            "iteration": 542,
            "learn": [
             1648.185267
            ],
            "passed_time": 86.73495001,
            "remaining_time": 72.99792294,
            "test": [
             1678.277283
            ]
           },
           {
            "iteration": 543,
            "learn": [
             1647.888615
            ],
            "passed_time": 86.88644921,
            "remaining_time": 72.83128831,
            "test": [
             1678.007833
            ]
           },
           {
            "iteration": 544,
            "learn": [
             1647.684068
            ],
            "passed_time": 87.00210645,
            "remaining_time": 72.63478612,
            "test": [
             1677.872982
            ]
           },
           {
            "iteration": 545,
            "learn": [
             1647.632653
            ],
            "passed_time": 87.23531214,
            "remaining_time": 72.53632181,
            "test": [
             1677.846916
            ]
           },
           {
            "iteration": 546,
            "learn": [
             1647.409169
            ],
            "passed_time": 87.52143374,
            "remaining_time": 72.48118735,
            "test": [
             1677.676744
            ]
           },
           {
            "iteration": 547,
            "learn": [
             1647.320929
            ],
            "passed_time": 87.67663709,
            "remaining_time": 72.31722622,
            "test": [
             1677.604135
            ]
           },
           {
            "iteration": 548,
            "learn": [
             1647.203896
            ],
            "passed_time": 87.89580424,
            "remaining_time": 72.20584283,
            "test": [
             1677.505207
            ]
           },
           {
            "iteration": 549,
            "learn": [
             1646.908291
            ],
            "passed_time": 88.12522386,
            "remaining_time": 72.10245589,
            "test": [
             1677.332414
            ]
           },
           {
            "iteration": 550,
            "learn": [
             1646.820956
            ],
            "passed_time": 88.30987652,
            "remaining_time": 71.96213168,
            "test": [
             1677.280944
            ]
           },
           {
            "iteration": 551,
            "learn": [
             1646.6963
            ],
            "passed_time": 88.55838197,
            "remaining_time": 71.87346942,
            "test": [
             1677.250061
            ]
           },
           {
            "iteration": 552,
            "learn": [
             1646.546174
            ],
            "passed_time": 88.8184319,
            "remaining_time": 71.79356069,
            "test": [
             1677.09134
            ]
           },
           {
            "iteration": 553,
            "learn": [
             1646.339068
            ],
            "passed_time": 89.06087719,
            "remaining_time": 71.69882893,
            "test": [
             1676.919173
            ]
           },
           {
            "iteration": 554,
            "learn": [
             1646.287775
            ],
            "passed_time": 89.37661299,
            "remaining_time": 71.66232933,
            "test": [
             1676.898228
            ]
           },
           {
            "iteration": 555,
            "learn": [
             1646.107586
            ],
            "passed_time": 89.62243004,
            "remaining_time": 71.56899089,
            "test": [
             1676.730006
            ]
           },
           {
            "iteration": 556,
            "learn": [
             1645.917333
            ],
            "passed_time": 89.84442753,
            "remaining_time": 71.45616049,
            "test": [
             1676.547857
            ]
           },
           {
            "iteration": 557,
            "learn": [
             1645.87865
            ],
            "passed_time": 90.04975794,
            "remaining_time": 71.32973657,
            "test": [
             1676.524936
            ]
           },
           {
            "iteration": 558,
            "learn": [
             1645.785738
            ],
            "passed_time": 90.25255756,
            "remaining_time": 71.20103378,
            "test": [
             1676.482068
            ]
           },
           {
            "iteration": 559,
            "learn": [
             1645.567282
            ],
            "passed_time": 90.39933226,
            "remaining_time": 71.02804677,
            "test": [
             1676.287385
            ]
           },
           {
            "iteration": 560,
            "learn": [
             1645.425549
            ],
            "passed_time": 90.54259232,
            "remaining_time": 70.8524029,
            "test": [
             1676.182941
            ]
           },
           {
            "iteration": 561,
            "learn": [
             1645.322835
            ],
            "passed_time": 90.71391554,
            "remaining_time": 70.69874557,
            "test": [
             1676.085657
            ]
           },
           {
            "iteration": 562,
            "learn": [
             1645.193557
            ],
            "passed_time": 90.80572115,
            "remaining_time": 70.48330399,
            "test": [
             1675.991409
            ]
           },
           {
            "iteration": 563,
            "learn": [
             1645.052011
            ],
            "passed_time": 90.92386126,
            "remaining_time": 70.28865871,
            "test": [
             1675.856406
            ]
           },
           {
            "iteration": 564,
            "learn": [
             1644.992911
            ],
            "passed_time": 91.09205618,
            "remaining_time": 70.13282201,
            "test": [
             1675.77698
            ]
           },
           {
            "iteration": 565,
            "learn": [
             1644.931147
            ],
            "passed_time": 91.22543274,
            "remaining_time": 69.95024348,
            "test": [
             1675.733563
            ]
           },
           {
            "iteration": 566,
            "learn": [
             1644.748585
            ],
            "passed_time": 91.35969963,
            "remaining_time": 69.76851841,
            "test": [
             1675.639587
            ]
           },
           {
            "iteration": 567,
            "learn": [
             1644.709401
            ],
            "passed_time": 91.45061036,
            "remaining_time": 69.55398534,
            "test": [
             1675.622465
            ]
           },
           {
            "iteration": 568,
            "learn": [
             1644.532077
            ],
            "passed_time": 91.54151849,
            "remaining_time": 69.33988483,
            "test": [
             1675.419552
            ]
           },
           {
            "iteration": 569,
            "learn": [
             1644.347647
            ],
            "passed_time": 91.70181029,
            "remaining_time": 69.17855864,
            "test": [
             1675.25841
            ]
           },
           {
            "iteration": 570,
            "learn": [
             1644.211501
            ],
            "passed_time": 91.83772831,
            "remaining_time": 68.99892372,
            "test": [
             1675.20094
            ]
           },
           {
            "iteration": 571,
            "learn": [
             1644.085777
            ],
            "passed_time": 91.98137259,
            "remaining_time": 68.82522284,
            "test": [
             1675.095514
            ]
           },
           {
            "iteration": 572,
            "learn": [
             1643.909323
            ],
            "passed_time": 92.11942192,
            "remaining_time": 68.64745752,
            "test": [
             1674.951798
            ]
           },
           {
            "iteration": 573,
            "learn": [
             1643.695596
            ],
            "passed_time": 92.26290955,
            "remaining_time": 68.47386667,
            "test": [
             1674.767922
            ]
           },
           {
            "iteration": 574,
            "learn": [
             1643.48587
            ],
            "passed_time": 92.37971545,
            "remaining_time": 68.28065925,
            "test": [
             1674.596107
            ]
           },
           {
            "iteration": 575,
            "learn": [
             1643.419246
            ],
            "passed_time": 92.46065476,
            "remaining_time": 68.06131531,
            "test": [
             1674.58056
            ]
           },
           {
            "iteration": 576,
            "learn": [
             1643.312792
            ],
            "passed_time": 92.76606323,
            "remaining_time": 68.00700996,
            "test": [
             1674.500947
            ]
           },
           {
            "iteration": 577,
            "learn": [
             1643.262286
            ],
            "passed_time": 93.30571366,
            "remaining_time": 68.12285669,
            "test": [
             1674.438563
            ]
           },
           {
            "iteration": 578,
            "learn": [
             1643.120461
            ],
            "passed_time": 93.65075344,
            "remaining_time": 68.09493471,
            "test": [
             1674.348502
            ]
           },
           {
            "iteration": 579,
            "learn": [
             1642.905149
            ],
            "passed_time": 93.93651444,
            "remaining_time": 68.02299322,
            "test": [
             1674.164933
            ]
           },
           {
            "iteration": 580,
            "learn": [
             1642.681669
            ],
            "passed_time": 94.04048596,
            "remaining_time": 67.81921448,
            "test": [
             1673.96998
            ]
           },
           {
            "iteration": 581,
            "learn": [
             1642.573639
            ],
            "passed_time": 94.18650515,
            "remaining_time": 67.64597792,
            "test": [
             1673.907911
            ]
           },
           {
            "iteration": 582,
            "learn": [
             1642.511433
            ],
            "passed_time": 94.30998918,
            "remaining_time": 67.4567161,
            "test": [
             1673.870776
            ]
           },
           {
            "iteration": 583,
            "learn": [
             1642.336971
            ],
            "passed_time": 94.45877534,
            "remaining_time": 67.28570298,
            "test": [
             1673.725192
            ]
           },
           {
            "iteration": 584,
            "learn": [
             1642.291182
            ],
            "passed_time": 94.55244609,
            "remaining_time": 67.07566688,
            "test": [
             1673.686788
            ]
           },
           {
            "iteration": 585,
            "learn": [
             1642.122578
            ],
            "passed_time": 94.67668958,
            "remaining_time": 66.88762711,
            "test": [
             1673.525709
            ]
           },
           {
            "iteration": 586,
            "learn": [
             1641.890251
            ],
            "passed_time": 94.80023511,
            "remaining_time": 66.69931363,
            "test": [
             1673.347317
            ]
           },
           {
            "iteration": 587,
            "learn": [
             1641.825124
            ],
            "passed_time": 94.95607938,
            "remaining_time": 66.53385154,
            "test": [
             1673.310017
            ]
           },
           {
            "iteration": 588,
            "learn": [
             1641.699522
            ],
            "passed_time": 95.08002152,
            "remaining_time": 66.34616103,
            "test": [
             1673.264188
            ]
           },
           {
            "iteration": 589,
            "learn": [
             1641.642745
            ],
            "passed_time": 95.15676343,
            "remaining_time": 66.12588645,
            "test": [
             1673.231775
            ]
           },
           {
            "iteration": 590,
            "learn": [
             1641.558024
            ],
            "passed_time": 95.31774906,
            "remaining_time": 65.96439825,
            "test": [
             1673.207857
            ]
           },
           {
            "iteration": 591,
            "learn": [
             1641.403202
            ],
            "passed_time": 95.47203117,
            "remaining_time": 65.79829176,
            "test": [
             1673.051363
            ]
           },
           {
            "iteration": 592,
            "learn": [
             1641.343463
            ],
            "passed_time": 95.60586473,
            "remaining_time": 65.61819046,
            "test": [
             1673.018256
            ]
           },
           {
            "iteration": 593,
            "learn": [
             1641.276359
            ],
            "passed_time": 95.71624003,
            "remaining_time": 65.4222112,
            "test": [
             1672.949961
            ]
           },
           {
            "iteration": 594,
            "learn": [
             1641.239529
            ],
            "passed_time": 95.82093413,
            "remaining_time": 65.22265264,
            "test": [
             1672.935329
            ]
           },
           {
            "iteration": 595,
            "learn": [
             1641.109213
            ],
            "passed_time": 96.03193264,
            "remaining_time": 65.09547112,
            "test": [
             1672.853081
            ]
           },
           {
            "iteration": 596,
            "learn": [
             1640.985665
            ],
            "passed_time": 96.17064323,
            "remaining_time": 64.91921142,
            "test": [
             1672.706822
            ]
           },
           {
            "iteration": 597,
            "learn": [
             1640.823772
            ],
            "passed_time": 96.32265913,
            "remaining_time": 64.75202169,
            "test": [
             1672.550206
            ]
           },
           {
            "iteration": 598,
            "learn": [
             1640.701539
            ],
            "passed_time": 96.49971242,
            "remaining_time": 64.60164387,
            "test": [
             1672.440524
            ]
           },
           {
            "iteration": 599,
            "learn": [
             1640.628379
            ],
            "passed_time": 96.65484386,
            "remaining_time": 64.43656257,
            "test": [
             1672.426362
            ]
           },
           {
            "iteration": 600,
            "learn": [
             1640.516718
            ],
            "passed_time": 96.80020297,
            "remaining_time": 64.26502659,
            "test": [
             1672.346414
            ]
           },
           {
            "iteration": 601,
            "learn": [
             1640.435839
            ],
            "passed_time": 96.99538287,
            "remaining_time": 64.12651558,
            "test": [
             1672.269819
            ]
           },
           {
            "iteration": 602,
            "learn": [
             1640.401438
            ],
            "passed_time": 97.1294898,
            "remaining_time": 63.94760771,
            "test": [
             1672.243703
            ]
           },
           {
            "iteration": 603,
            "learn": [
             1640.190807
            ],
            "passed_time": 97.26587116,
            "remaining_time": 63.77033937,
            "test": [
             1672.083911
            ]
           },
           {
            "iteration": 604,
            "learn": [
             1640.043144
            ],
            "passed_time": 97.40107377,
            "remaining_time": 63.5924366,
            "test": [
             1672.00958
            ]
           },
           {
            "iteration": 605,
            "learn": [
             1639.967776
            ],
            "passed_time": 97.49452129,
            "remaining_time": 63.38752704,
            "test": [
             1671.927282
            ]
           },
           {
            "iteration": 606,
            "learn": [
             1639.740557
            ],
            "passed_time": 97.58529179,
            "remaining_time": 63.18125152,
            "test": [
             1671.898194
            ]
           },
           {
            "iteration": 607,
            "learn": [
             1639.652931
            ],
            "passed_time": 97.681821,
            "remaining_time": 62.9790688,
            "test": [
             1671.850536
            ]
           },
           {
            "iteration": 608,
            "learn": [
             1639.562367
            ],
            "passed_time": 97.8675948,
            "remaining_time": 62.83453131,
            "test": [
             1671.769368
            ]
           },
           {
            "iteration": 609,
            "learn": [
             1639.458203
            ],
            "passed_time": 98.08230004,
            "remaining_time": 62.70835576,
            "test": [
             1671.686994
            ]
           },
           {
            "iteration": 610,
            "learn": [
             1639.349995
            ],
            "passed_time": 98.24429059,
            "remaining_time": 62.54832903,
            "test": [
             1671.614307
            ]
           },
           {
            "iteration": 611,
            "learn": [
             1639.140286
            ],
            "passed_time": 98.36248753,
            "remaining_time": 62.36053131,
            "test": [
             1671.444633
            ]
           },
           {
            "iteration": 612,
            "learn": [
             1638.888562
            ],
            "passed_time": 98.49684497,
            "remaining_time": 62.18316314,
            "test": [
             1671.193739
            ]
           },
           {
            "iteration": 613,
            "learn": [
             1638.685551
            ],
            "passed_time": 98.65976156,
            "remaining_time": 62.02388919,
            "test": [
             1671.076009
            ]
           },
           {
            "iteration": 614,
            "learn": [
             1638.451394
            ],
            "passed_time": 98.80893969,
            "remaining_time": 61.85600289,
            "test": [
             1670.889345
            ]
           },
           {
            "iteration": 615,
            "learn": [
             1638.267763
            ],
            "passed_time": 98.9422772,
            "remaining_time": 61.67830267,
            "test": [
             1670.723792
            ]
           },
           {
            "iteration": 616,
            "learn": [
             1638.059052
            ],
            "passed_time": 99.09474865,
            "remaining_time": 61.51262355,
            "test": [
             1670.554787
            ]
           },
           {
            "iteration": 617,
            "learn": [
             1637.919749
            ],
            "passed_time": 99.23661568,
            "remaining_time": 61.34043234,
            "test": [
             1670.429536
            ]
           },
           {
            "iteration": 618,
            "learn": [
             1637.753531
            ],
            "passed_time": 99.39626646,
            "remaining_time": 61.17928517,
            "test": [
             1670.295426
            ]
           },
           {
            "iteration": 619,
            "learn": [
             1637.724873
            ],
            "passed_time": 99.5519234,
            "remaining_time": 61.01569499,
            "test": [
             1670.275682
            ]
           },
           {
            "iteration": 620,
            "learn": [
             1637.502513
            ],
            "passed_time": 99.70541746,
            "remaining_time": 60.85081034,
            "test": [
             1670.119208
            ]
           },
           {
            "iteration": 621,
            "learn": [
             1637.392929
            ],
            "passed_time": 99.86194345,
            "remaining_time": 60.68780486,
            "test": [
             1670.056018
            ]
           },
           {
            "iteration": 622,
            "learn": [
             1637.261903
            ],
            "passed_time": 100.0716318,
            "remaining_time": 60.55699069,
            "test": [
             1669.998166
            ]
           },
           {
            "iteration": 623,
            "learn": [
             1637.040974
            ],
            "passed_time": 100.3205713,
            "remaining_time": 60.449575,
            "test": [
             1669.820067
            ]
           },
           {
            "iteration": 624,
            "learn": [
             1636.842954
            ],
            "passed_time": 100.5423136,
            "remaining_time": 60.32538818,
            "test": [
             1669.701357
            ]
           },
           {
            "iteration": 625,
            "learn": [
             1636.604887
            ],
            "passed_time": 100.7910941,
            "remaining_time": 60.21704342,
            "test": [
             1669.456636
            ]
           },
           {
            "iteration": 626,
            "learn": [
             1636.448455
            ],
            "passed_time": 101.0249175,
            "remaining_time": 60.09935283,
            "test": [
             1669.308898
            ]
           },
           {
            "iteration": 627,
            "learn": [
             1636.369494
            ],
            "passed_time": 101.2650718,
            "remaining_time": 59.98504251,
            "test": [
             1669.274863
            ]
           },
           {
            "iteration": 628,
            "learn": [
             1636.314552
            ],
            "passed_time": 101.533195,
            "remaining_time": 59.88682885,
            "test": [
             1669.224944
            ]
           },
           {
            "iteration": 629,
            "learn": [
             1636.128886
            ],
            "passed_time": 101.8333193,
            "remaining_time": 59.80687007,
            "test": [
             1669.138571
            ]
           },
           {
            "iteration": 630,
            "learn": [
             1636.096554
            ],
            "passed_time": 102.0154559,
            "remaining_time": 59.6572159,
            "test": [
             1669.122693
            ]
           },
           {
            "iteration": 631,
            "learn": [
             1636.066295
            ],
            "passed_time": 102.1547645,
            "remaining_time": 59.48252109,
            "test": [
             1669.108133
            ]
           },
           {
            "iteration": 632,
            "learn": [
             1635.932793
            ],
            "passed_time": 102.6406901,
            "remaining_time": 59.50889933,
            "test": [
             1669.118889
            ]
           },
           {
            "iteration": 633,
            "learn": [
             1635.796461
            ],
            "passed_time": 102.9471642,
            "remaining_time": 59.43006641,
            "test": [
             1669.026841
            ]
           },
           {
            "iteration": 634,
            "learn": [
             1635.751344
            ],
            "passed_time": 103.1291844,
            "remaining_time": 59.27898001,
            "test": [
             1668.984392
            ]
           },
           {
            "iteration": 635,
            "learn": [
             1635.635965
            ],
            "passed_time": 103.2662153,
            "remaining_time": 59.10204773,
            "test": [
             1668.9505
            ]
           },
           {
            "iteration": 636,
            "learn": [
             1635.490095
            ],
            "passed_time": 103.4170706,
            "remaining_time": 58.9331187,
            "test": [
             1668.814615
            ]
           },
           {
            "iteration": 637,
            "learn": [
             1635.442193
            ],
            "passed_time": 103.5976648,
            "remaining_time": 58.78112018,
            "test": [
             1668.797338
            ]
           },
           {
            "iteration": 638,
            "learn": [
             1635.122863
            ],
            "passed_time": 103.705643,
            "remaining_time": 58.58800804,
            "test": [
             1668.549642
            ]
           },
           {
            "iteration": 639,
            "learn": [
             1634.963612
            ],
            "passed_time": 103.8547554,
            "remaining_time": 58.41829989,
            "test": [
             1668.375048
            ]
           },
           {
            "iteration": 640,
            "learn": [
             1634.918278
            ],
            "passed_time": 103.9513221,
            "remaining_time": 58.21922719,
            "test": [
             1668.359801
            ]
           },
           {
            "iteration": 641,
            "learn": [
             1634.839646
            ],
            "passed_time": 104.0418688,
            "remaining_time": 58.01711685,
            "test": [
             1668.29887
            ]
           },
           {
            "iteration": 642,
            "learn": [
             1634.743431
            ],
            "passed_time": 104.1770143,
            "remaining_time": 57.84011523,
            "test": [
             1668.252245
            ]
           },
           {
            "iteration": 643,
            "learn": [
             1634.568544
            ],
            "passed_time": 104.3182506,
            "remaining_time": 57.66661057,
            "test": [
             1668.15089
            ]
           },
           {
            "iteration": 644,
            "learn": [
             1634.416108
            ],
            "passed_time": 104.4346761,
            "remaining_time": 57.47955039,
            "test": [
             1668.005743
            ]
           },
           {
            "iteration": 645,
            "learn": [
             1634.191569
            ],
            "passed_time": 104.5271177,
            "remaining_time": 57.27956606,
            "test": [
             1667.889425
            ]
           },
           {
            "iteration": 646,
            "learn": [
             1633.986646
            ],
            "passed_time": 104.7037878,
            "remaining_time": 57.12586879,
            "test": [
             1667.760996
            ]
           },
           {
            "iteration": 647,
            "learn": [
             1633.944849
            ],
            "passed_time": 104.7815561,
            "remaining_time": 56.91837616,
            "test": [
             1667.74744
            ]
           },
           {
            "iteration": 648,
            "learn": [
             1633.751145
            ],
            "passed_time": 104.9178421,
            "remaining_time": 56.74293153,
            "test": [
             1667.56648
            ]
           },
           {
            "iteration": 649,
            "learn": [
             1633.682282
            ],
            "passed_time": 105.0409688,
            "remaining_time": 56.56052168,
            "test": [
             1667.486218
            ]
           },
           {
            "iteration": 650,
            "learn": [
             1633.633665
            ],
            "passed_time": 105.173644,
            "remaining_time": 56.38341282,
            "test": [
             1667.46307
            ]
           },
           {
            "iteration": 651,
            "learn": [
             1633.612994
            ],
            "passed_time": 105.2406076,
            "remaining_time": 56.17136723,
            "test": [
             1667.460279
            ]
           },
           {
            "iteration": 652,
            "learn": [
             1633.403524
            ],
            "passed_time": 105.3761384,
            "remaining_time": 55.99620219,
            "test": [
             1667.268776
            ]
           },
           {
            "iteration": 653,
            "learn": [
             1633.339958
            ],
            "passed_time": 105.4916588,
            "remaining_time": 55.81057179,
            "test": [
             1667.208428
            ]
           },
           {
            "iteration": 654,
            "learn": [
             1633.097025
            ],
            "passed_time": 105.6687544,
            "remaining_time": 55.65758818,
            "test": [
             1666.967469
            ]
           },
           {
            "iteration": 655,
            "learn": [
             1632.96516
            ],
            "passed_time": 105.800399,
            "remaining_time": 55.48069704,
            "test": [
             1666.85873
            ]
           },
           {
            "iteration": 656,
            "learn": [
             1632.897068
            ],
            "passed_time": 105.9143505,
            "remaining_time": 55.29470658,
            "test": [
             1666.835196
            ]
           },
           {
            "iteration": 657,
            "learn": [
             1632.844217
            ],
            "passed_time": 106.0677975,
            "remaining_time": 55.12946312,
            "test": [
             1666.809902
            ]
           },
           {
            "iteration": 658,
            "learn": [
             1632.766579
            ],
            "passed_time": 106.2038174,
            "remaining_time": 54.95523783,
            "test": [
             1666.771125
            ]
           },
           {
            "iteration": 659,
            "learn": [
             1632.646647
            ],
            "passed_time": 106.3455165,
            "remaining_time": 54.78405394,
            "test": [
             1666.695589
            ]
           },
           {
            "iteration": 660,
            "learn": [
             1632.447551
            ],
            "passed_time": 106.4385569,
            "remaining_time": 54.58800422,
            "test": [
             1666.525782
            ]
           },
           {
            "iteration": 661,
            "learn": [
             1632.271769
            ],
            "passed_time": 106.658306,
            "remaining_time": 54.45695989,
            "test": [
             1666.346487
            ]
           },
           {
            "iteration": 662,
            "learn": [
             1632.237823
            ],
            "passed_time": 106.7932969,
            "remaining_time": 54.28256567,
            "test": [
             1666.336778
            ]
           },
           {
            "iteration": 663,
            "learn": [
             1632.144779
            ],
            "passed_time": 106.9688553,
            "remaining_time": 54.12881833,
            "test": [
             1666.283477
            ]
           },
           {
            "iteration": 664,
            "learn": [
             1631.983401
            ],
            "passed_time": 107.0718315,
            "remaining_time": 53.93844143,
            "test": [
             1666.185962
            ]
           },
           {
            "iteration": 665,
            "learn": [
             1631.821877
            ],
            "passed_time": 107.1897531,
            "remaining_time": 53.7558221,
            "test": [
             1666.037331
            ]
           },
           {
            "iteration": 666,
            "learn": [
             1631.700387
            ],
            "passed_time": 107.3323001,
            "remaining_time": 53.58569104,
            "test": [
             1665.883479
            ]
           },
           {
            "iteration": 667,
            "learn": [
             1631.603262
            ],
            "passed_time": 107.4723145,
            "remaining_time": 53.41438385,
            "test": [
             1665.830978
            ]
           },
           {
            "iteration": 668,
            "learn": [
             1631.47003
            ],
            "passed_time": 107.6047702,
            "remaining_time": 53.23943038,
            "test": [
             1665.696011
            ]
           },
           {
            "iteration": 669,
            "learn": [
             1631.320441
            ],
            "passed_time": 107.8207203,
            "remaining_time": 53.10572792,
            "test": [
             1665.618863
            ]
           },
           {
            "iteration": 670,
            "learn": [
             1631.13263
            ],
            "passed_time": 107.9799965,
            "remaining_time": 52.94399232,
            "test": [
             1665.423331
            ]
           },
           {
            "iteration": 671,
            "learn": [
             1631.071815
            ],
            "passed_time": 108.1265194,
            "remaining_time": 52.77603923,
            "test": [
             1665.352705
            ]
           },
           {
            "iteration": 672,
            "learn": [
             1630.919056
            ],
            "passed_time": 108.2755287,
            "remaining_time": 52.60935795,
            "test": [
             1665.263065
            ]
           },
           {
            "iteration": 673,
            "learn": [
             1630.845219
            ],
            "passed_time": 108.3747962,
            "remaining_time": 52.41866998,
            "test": [
             1665.226039
            ]
           },
           {
            "iteration": 674,
            "learn": [
             1630.605382
            ],
            "passed_time": 108.5247303,
            "remaining_time": 52.25264794,
            "test": [
             1665.159896
            ]
           },
           {
            "iteration": 675,
            "learn": [
             1630.572747
            ],
            "passed_time": 108.6555996,
            "remaining_time": 52.0775359,
            "test": [
             1665.141653
            ]
           },
           {
            "iteration": 676,
            "learn": [
             1630.524434
            ],
            "passed_time": 108.8400125,
            "remaining_time": 51.92810051,
            "test": [
             1665.117792
            ]
           },
           {
            "iteration": 677,
            "learn": [
             1630.362925
            ],
            "passed_time": 108.9718434,
            "remaining_time": 51.75358934,
            "test": [
             1665.003215
            ]
           },
           {
            "iteration": 678,
            "learn": [
             1630.251026
            ],
            "passed_time": 109.1334047,
            "remaining_time": 51.59325906,
            "test": [
             1664.930624
            ]
           },
           {
            "iteration": 679,
            "learn": [
             1630.216975
            ],
            "passed_time": 109.2090202,
            "remaining_time": 51.3924801,
            "test": [
             1664.921102
            ]
           },
           {
            "iteration": 680,
            "learn": [
             1630.12205
            ],
            "passed_time": 109.3949104,
            "remaining_time": 51.24372454,
            "test": [
             1664.876063
            ]
           },
           {
            "iteration": 681,
            "learn": [
             1629.985464
            ],
            "passed_time": 109.5644874,
            "remaining_time": 51.08725367,
            "test": [
             1664.80788
            ]
           },
           {
            "iteration": 682,
            "learn": [
             1629.935609
            ],
            "passed_time": 109.7666953,
            "remaining_time": 50.94588931,
            "test": [
             1664.792085
            ]
           },
           {
            "iteration": 683,
            "learn": [
             1629.746367
            ],
            "passed_time": 109.906095,
            "remaining_time": 50.77533042,
            "test": [
             1664.606861
            ]
           },
           {
            "iteration": 684,
            "learn": [
             1629.655715
            ],
            "passed_time": 110.0387536,
            "remaining_time": 50.60176258,
            "test": [
             1664.57466
            ]
           },
           {
            "iteration": 685,
            "learn": [
             1629.528175
            ],
            "passed_time": 110.157077,
            "remaining_time": 50.42175244,
            "test": [
             1664.495595
            ]
           },
           {
            "iteration": 686,
            "learn": [
             1629.500039
            ],
            "passed_time": 110.2637986,
            "remaining_time": 50.23663602,
            "test": [
             1664.487678
            ]
           },
           {
            "iteration": 687,
            "learn": [
             1629.35807
            ],
            "passed_time": 110.4157207,
            "remaining_time": 50.07224544,
            "test": [
             1664.410891
            ]
           },
           {
            "iteration": 688,
            "learn": [
             1629.291955
            ],
            "passed_time": 110.5341454,
            "remaining_time": 49.89277098,
            "test": [
             1664.40458
            ]
           },
           {
            "iteration": 689,
            "learn": [
             1629.246517
            ],
            "passed_time": 110.603097,
            "remaining_time": 49.69124649,
            "test": [
             1664.378243
            ]
           },
           {
            "iteration": 690,
            "learn": [
             1629.068154
            ],
            "passed_time": 110.7399177,
            "remaining_time": 49.52045525,
            "test": [
             1664.155287
            ]
           },
           {
            "iteration": 691,
            "learn": [
             1628.930272
            ],
            "passed_time": 110.8860202,
            "remaining_time": 49.35389338,
            "test": [
             1664.02467
            ]
           },
           {
            "iteration": 692,
            "learn": [
             1628.75867
            ],
            "passed_time": 110.9762191,
            "remaining_time": 49.16262522,
            "test": [
             1663.943602
            ]
           },
           {
            "iteration": 693,
            "learn": [
             1628.632601
            ],
            "passed_time": 111.1647321,
            "remaining_time": 49.01499715,
            "test": [
             1663.812335
            ]
           },
           {
            "iteration": 694,
            "learn": [
             1628.54124
            ],
            "passed_time": 111.2786714,
            "remaining_time": 48.83452484,
            "test": [
             1663.750053
            ]
           },
           {
            "iteration": 695,
            "learn": [
             1628.349289
            ],
            "passed_time": 111.3925735,
            "remaining_time": 48.65422751,
            "test": [
             1663.613836
            ]
           },
           {
            "iteration": 696,
            "learn": [
             1628.181441
            ],
            "passed_time": 111.5212763,
            "remaining_time": 48.48055483,
            "test": [
             1663.449823
            ]
           },
           {
            "iteration": 697,
            "learn": [
             1628.144009
            ],
            "passed_time": 111.6636777,
            "remaining_time": 48.31293791,
            "test": [
             1663.447688
            ]
           },
           {
            "iteration": 698,
            "learn": [
             1628.031973
            ],
            "passed_time": 111.7988591,
            "remaining_time": 48.14228412,
            "test": [
             1663.385009
            ]
           },
           {
            "iteration": 699,
            "learn": [
             1627.96265
            ],
            "passed_time": 111.9372883,
            "remaining_time": 47.97312354,
            "test": [
             1663.324629
            ]
           },
           {
            "iteration": 700,
            "learn": [
             1627.890194
            ],
            "passed_time": 112.0244325,
            "remaining_time": 47.78217593,
            "test": [
             1663.273223
            ]
           },
           {
            "iteration": 701,
            "learn": [
             1627.668679
            ],
            "passed_time": 112.1575672,
            "remaining_time": 47.61104703,
            "test": [
             1663.084927
            ]
           },
           {
            "iteration": 702,
            "learn": [
             1627.517337
            ],
            "passed_time": 112.293984,
            "remaining_time": 47.44141288,
            "test": [
             1662.999733
            ]
           },
           {
            "iteration": 703,
            "learn": [
             1627.389832
            ],
            "passed_time": 112.4400515,
            "remaining_time": 47.27593076,
            "test": [
             1662.841563
            ]
           },
           {
            "iteration": 704,
            "learn": [
             1627.344219
            ],
            "passed_time": 112.587483,
            "remaining_time": 47.11107446,
            "test": [
             1662.810487
            ]
           },
           {
            "iteration": 705,
            "learn": [
             1627.108016
            ],
            "passed_time": 112.6917232,
            "remaining_time": 46.92828132,
            "test": [
             1662.60731
            ]
           },
           {
            "iteration": 706,
            "learn": [
             1627.02053
            ],
            "passed_time": 112.8450067,
            "remaining_time": 46.76603532,
            "test": [
             1662.553267
            ]
           },
           {
            "iteration": 707,
            "learn": [
             1626.880114
            ],
            "passed_time": 113.0365685,
            "remaining_time": 46.6196017,
            "test": [
             1662.417192
            ]
           },
           {
            "iteration": 708,
            "learn": [
             1626.751902
            ],
            "passed_time": 113.3153887,
            "remaining_time": 46.5088549,
            "test": [
             1662.270616
            ]
           },
           {
            "iteration": 709,
            "learn": [
             1626.643704
            ],
            "passed_time": 113.5315277,
            "remaining_time": 46.37203243,
            "test": [
             1662.169857
            ]
           },
           {
            "iteration": 710,
            "learn": [
             1626.479339
            ],
            "passed_time": 113.7911641,
            "remaining_time": 46.25266724,
            "test": [
             1662.083133
            ]
           },
           {
            "iteration": 711,
            "learn": [
             1626.319741
            ],
            "passed_time": 114.1781906,
            "remaining_time": 46.18443664,
            "test": [
             1662.027341
            ]
           },
           {
            "iteration": 712,
            "learn": [
             1626.047764
            ],
            "passed_time": 114.4050966,
            "remaining_time": 46.05085938,
            "test": [
             1661.851768
            ]
           },
           {
            "iteration": 713,
            "learn": [
             1625.887464
            ],
            "passed_time": 114.6314411,
            "remaining_time": 45.91679573,
            "test": [
             1661.729969
            ]
           },
           {
            "iteration": 714,
            "learn": [
             1625.797688
            ],
            "passed_time": 114.7963652,
            "remaining_time": 45.75799172,
            "test": [
             1661.674579
            ]
           },
           {
            "iteration": 715,
            "learn": [
             1625.725077
            ],
            "passed_time": 115.1711516,
            "remaining_time": 45.68241209,
            "test": [
             1661.620942
            ]
           },
           {
            "iteration": 716,
            "learn": [
             1625.599106
            ],
            "passed_time": 115.4705002,
            "remaining_time": 45.57622254,
            "test": [
             1661.537487
            ]
           },
           {
            "iteration": 717,
            "learn": [
             1625.440593
            ],
            "passed_time": 115.7522323,
            "remaining_time": 45.46257592,
            "test": [
             1661.408395
            ]
           },
           {
            "iteration": 718,
            "learn": [
             1625.381212
            ],
            "passed_time": 115.9358562,
            "remaining_time": 45.31011903,
            "test": [
             1661.388393
            ]
           },
           {
            "iteration": 719,
            "learn": [
             1625.142617
            ],
            "passed_time": 116.0633926,
            "remaining_time": 45.1357638,
            "test": [
             1661.167967
            ]
           },
           {
            "iteration": 720,
            "learn": [
             1625.080661
            ],
            "passed_time": 116.2557799,
            "remaining_time": 44.98663329,
            "test": [
             1661.190326
            ]
           },
           {
            "iteration": 721,
            "learn": [
             1624.98857
            ],
            "passed_time": 116.3928682,
            "remaining_time": 44.81609054,
            "test": [
             1661.192099
            ]
           },
           {
            "iteration": 722,
            "learn": [
             1624.805644
            ],
            "passed_time": 116.5437841,
            "remaining_time": 44.65093803,
            "test": [
             1661.02508
            ]
           },
           {
            "iteration": 723,
            "learn": [
             1624.778354
            ],
            "passed_time": 116.6340968,
            "remaining_time": 44.46272198,
            "test": [
             1661.035682
            ]
           },
           {
            "iteration": 724,
            "learn": [
             1624.691611
            ],
            "passed_time": 116.7838767,
            "remaining_time": 44.29733256,
            "test": [
             1660.962012
            ]
           },
           {
            "iteration": 725,
            "learn": [
             1624.551709
            ],
            "passed_time": 116.9145163,
            "remaining_time": 44.12476234,
            "test": [
             1660.883424
            ]
           },
           {
            "iteration": 726,
            "learn": [
             1624.443659
            ],
            "passed_time": 117.065884,
            "remaining_time": 43.96009123,
            "test": [
             1660.835901
            ]
           },
           {
            "iteration": 727,
            "learn": [
             1624.15728
            ],
            "passed_time": 117.2734301,
            "remaining_time": 43.8164464,
            "test": [
             1660.700668
            ]
           },
           {
            "iteration": 728,
            "learn": [
             1624.086301
            ],
            "passed_time": 117.3731386,
            "remaining_time": 43.63253851,
            "test": [
             1660.646626
            ]
           },
           {
            "iteration": 729,
            "learn": [
             1623.935042
            ],
            "passed_time": 117.5119697,
            "remaining_time": 43.46333127,
            "test": [
             1660.455852
            ]
           },
           {
            "iteration": 730,
            "learn": [
             1623.826977
            ],
            "passed_time": 117.6550788,
            "remaining_time": 43.29578138,
            "test": [
             1660.396814
            ]
           },
           {
            "iteration": 731,
            "learn": [
             1623.681323
            ],
            "passed_time": 117.8268885,
            "remaining_time": 43.13880616,
            "test": [
             1660.339555
            ]
           },
           {
            "iteration": 732,
            "learn": [
             1623.522846
            ],
            "passed_time": 117.9854064,
            "remaining_time": 42.97694885,
            "test": [
             1660.268987
            ]
           },
           {
            "iteration": 733,
            "learn": [
             1623.424166
            ],
            "passed_time": 118.1320229,
            "remaining_time": 42.81078759,
            "test": [
             1660.227884
            ]
           },
           {
            "iteration": 734,
            "learn": [
             1623.292506
            ],
            "passed_time": 118.3381541,
            "remaining_time": 42.6661372,
            "test": [
             1660.161858
            ]
           },
           {
            "iteration": 735,
            "learn": [
             1623.159752
            ],
            "passed_time": 118.4874544,
            "remaining_time": 42.50093472,
            "test": [
             1660.047275
            ]
           },
           {
            "iteration": 736,
            "learn": [
             1622.981622
            ],
            "passed_time": 118.6358927,
            "remaining_time": 42.33546783,
            "test": [
             1659.921369
            ]
           },
           {
            "iteration": 737,
            "learn": [
             1622.821931
            ],
            "passed_time": 118.7224189,
            "remaining_time": 42.14806741,
            "test": [
             1659.780339
            ]
           },
           {
            "iteration": 738,
            "learn": [
             1622.697257
            ],
            "passed_time": 118.8703137,
            "remaining_time": 41.98261418,
            "test": [
             1659.730672
            ]
           },
           {
            "iteration": 739,
            "learn": [
             1622.583234
            ],
            "passed_time": 118.9875516,
            "remaining_time": 41.80643706,
            "test": [
             1659.63558
            ]
           },
           {
            "iteration": 740,
            "learn": [
             1622.432276
            ],
            "passed_time": 119.0913405,
            "remaining_time": 41.62571821,
            "test": [
             1659.466407
            ]
           },
           {
            "iteration": 741,
            "learn": [
             1622.384784
            ],
            "passed_time": 119.2533667,
            "remaining_time": 41.46545634,
            "test": [
             1659.445084
            ]
           },
           {
            "iteration": 742,
            "learn": [
             1622.317085
            ],
            "passed_time": 119.5260997,
            "remaining_time": 41.34348267,
            "test": [
             1659.367857
            ]
           },
           {
            "iteration": 743,
            "learn": [
             1622.226517
            ],
            "passed_time": 119.6846068,
            "remaining_time": 41.18180019,
            "test": [
             1659.332398
            ]
           },
           {
            "iteration": 744,
            "learn": [
             1622.077442
            ],
            "passed_time": 119.8268727,
            "remaining_time": 41.01456717,
            "test": [
             1659.233591
            ]
           },
           {
            "iteration": 745,
            "learn": [
             1621.842166
            ],
            "passed_time": 119.9460593,
            "remaining_time": 40.83954298,
            "test": [
             1659.02641
            ]
           },
           {
            "iteration": 746,
            "learn": [
             1621.765471
            ],
            "passed_time": 120.1094452,
            "remaining_time": 40.67963805,
            "test": [
             1658.981026
            ]
           },
           {
            "iteration": 747,
            "learn": [
             1621.701884
            ],
            "passed_time": 120.2679733,
            "remaining_time": 40.51808727,
            "test": [
             1658.935697
            ]
           },
           {
            "iteration": 748,
            "learn": [
             1621.591732
            ],
            "passed_time": 120.4381421,
            "remaining_time": 40.36044548,
            "test": [
             1658.808788
            ]
           },
           {
            "iteration": 749,
            "learn": [
             1621.522345
            ],
            "passed_time": 120.5529538,
            "remaining_time": 40.18431792,
            "test": [
             1658.725167
            ]
           },
           {
            "iteration": 750,
            "learn": [
             1621.43203
            ],
            "passed_time": 120.6379278,
            "remaining_time": 39.99846074,
            "test": [
             1658.677624
            ]
           },
           {
            "iteration": 751,
            "learn": [
             1621.287843
            ],
            "passed_time": 120.7843804,
            "remaining_time": 39.83314672,
            "test": [
             1658.664877
            ]
           },
           {
            "iteration": 752,
            "learn": [
             1621.142774
            ],
            "passed_time": 120.9233396,
            "remaining_time": 39.6654248,
            "test": [
             1658.542548
            ]
           },
           {
            "iteration": 753,
            "learn": [
             1621.079414
            ],
            "passed_time": 121.0783398,
            "remaining_time": 39.50301273,
            "test": [
             1658.515757
            ]
           },
           {
            "iteration": 754,
            "learn": [
             1620.918065
            ],
            "passed_time": 121.1902859,
            "remaining_time": 39.32664908,
            "test": [
             1658.364702
            ]
           },
           {
            "iteration": 755,
            "learn": [
             1620.879376
            ],
            "passed_time": 121.3077062,
            "remaining_time": 39.15222264,
            "test": [
             1658.347745
            ]
           },
           {
            "iteration": 756,
            "learn": [
             1620.771821
            ],
            "passed_time": 121.487683,
            "remaining_time": 38.9980277,
            "test": [
             1658.30969
            ]
           },
           {
            "iteration": 757,
            "learn": [
             1620.762628
            ],
            "passed_time": 121.5973334,
            "remaining_time": 38.82131223,
            "test": [
             1658.308327
            ]
           },
           {
            "iteration": 758,
            "learn": [
             1620.676928
            ],
            "passed_time": 121.734141,
            "remaining_time": 38.65339655,
            "test": [
             1658.24578
            ]
           },
           {
            "iteration": 759,
            "learn": [
             1620.651798
            ],
            "passed_time": 121.877761,
            "remaining_time": 38.48771399,
            "test": [
             1658.234394
            ]
           },
           {
            "iteration": 760,
            "learn": [
             1620.586795
            ],
            "passed_time": 122.0221184,
            "remaining_time": 38.32232103,
            "test": [
             1658.217439
            ]
           },
           {
            "iteration": 761,
            "learn": [
             1620.549305
            ],
            "passed_time": 122.1542898,
            "remaining_time": 38.15317712,
            "test": [
             1658.201395
            ]
           },
           {
            "iteration": 762,
            "learn": [
             1620.467446
            ],
            "passed_time": 122.3027538,
            "remaining_time": 37.9891909,
            "test": [
             1658.173004
            ]
           },
           {
            "iteration": 763,
            "learn": [
             1620.417155
            ],
            "passed_time": 122.4944957,
            "remaining_time": 37.83861386,
            "test": [
             1658.130546
            ]
           },
           {
            "iteration": 764,
            "learn": [
             1620.372983
            ],
            "passed_time": 122.6507963,
            "remaining_time": 37.67704201,
            "test": [
             1658.090879
            ]
           },
           {
            "iteration": 765,
            "learn": [
             1620.260433
            ],
            "passed_time": 122.7737542,
            "remaining_time": 37.50529828,
            "test": [
             1657.996574
            ]
           },
           {
            "iteration": 766,
            "learn": [
             1620.083874
            ],
            "passed_time": 122.9344421,
            "remaining_time": 37.34514343,
            "test": [
             1657.885108
            ]
           },
           {
            "iteration": 767,
            "learn": [
             1620.041799
            ],
            "passed_time": 123.0884481,
            "remaining_time": 37.18296871,
            "test": [
             1657.891121
            ]
           },
           {
            "iteration": 768,
            "learn": [
             1619.98122
            ],
            "passed_time": 123.2357357,
            "remaining_time": 37.01879706,
            "test": [
             1657.855726
            ]
           },
           {
            "iteration": 769,
            "learn": [
             1619.904142
            ],
            "passed_time": 123.3855335,
            "remaining_time": 36.85541909,
            "test": [
             1657.771465
            ]
           },
           {
            "iteration": 770,
            "learn": [
             1619.868554
            ],
            "passed_time": 123.573216,
            "remaining_time": 36.70332876,
            "test": [
             1657.754023
            ]
           },
           {
            "iteration": 771,
            "learn": [
             1619.768979
            ],
            "passed_time": 123.7087565,
            "remaining_time": 36.53574673,
            "test": [
             1657.720169
            ]
           },
           {
            "iteration": 772,
            "learn": [
             1619.680941
            ],
            "passed_time": 123.8403423,
            "remaining_time": 36.3670863,
            "test": [
             1657.679625
            ]
           },
           {
            "iteration": 773,
            "learn": [
             1619.532458
            ],
            "passed_time": 124.0059014,
            "remaining_time": 36.2084415,
            "test": [
             1657.528237
            ]
           },
           {
            "iteration": 774,
            "learn": [
             1619.49175
            ],
            "passed_time": 124.1387196,
            "remaining_time": 36.04027343,
            "test": [
             1657.521967
            ]
           },
           {
            "iteration": 775,
            "learn": [
             1619.384349
            ],
            "passed_time": 124.2955453,
            "remaining_time": 35.87912647,
            "test": [
             1657.442885
            ]
           },
           {
            "iteration": 776,
            "learn": [
             1619.345645
            ],
            "passed_time": 124.4184218,
            "remaining_time": 35.70824718,
            "test": [
             1657.398824
            ]
           },
           {
            "iteration": 777,
            "learn": [
             1619.189901
            ],
            "passed_time": 124.5837639,
            "remaining_time": 35.54960871,
            "test": [
             1657.296166
            ]
           },
           {
            "iteration": 778,
            "learn": [
             1619.063348
            ],
            "passed_time": 124.7376182,
            "remaining_time": 35.387694,
            "test": [
             1657.211965
            ]
           },
           {
            "iteration": 779,
            "learn": [
             1619.026544
            ],
            "passed_time": 124.8752869,
            "remaining_time": 35.22123476,
            "test": [
             1657.187592
            ]
           },
           {
            "iteration": 780,
            "learn": [
             1619.010961
            ],
            "passed_time": 124.996555,
            "remaining_time": 35.05025037,
            "test": [
             1657.18129
            ]
           },
           {
            "iteration": 781,
            "learn": [
             1618.876178
            ],
            "passed_time": 125.0723799,
            "remaining_time": 34.86672484,
            "test": [
             1657.124196
            ]
           },
           {
            "iteration": 782,
            "learn": [
             1618.842285
            ],
            "passed_time": 125.1883236,
            "remaining_time": 34.69459288,
            "test": [
             1657.102487
            ]
           },
           {
            "iteration": 783,
            "learn": [
             1618.739125
            ],
            "passed_time": 125.3420109,
            "remaining_time": 34.53300301,
            "test": [
             1657.058879
            ]
           },
           {
            "iteration": 784,
            "learn": [
             1618.682148
            ],
            "passed_time": 125.4425622,
            "remaining_time": 34.35688009,
            "test": [
             1657.024076
            ]
           },
           {
            "iteration": 785,
            "learn": [
             1618.650853
            ],
            "passed_time": 125.7566204,
            "remaining_time": 34.23907985,
            "test": [
             1657.012686
            ]
           },
           {
            "iteration": 786,
            "learn": [
             1618.455667
            ],
            "passed_time": 126.0020548,
            "remaining_time": 34.10220796,
            "test": [
             1656.840658
            ]
           },
           {
            "iteration": 787,
            "learn": [
             1618.316644
            ],
            "passed_time": 126.2422638,
            "remaining_time": 33.96365472,
            "test": [
             1656.743695
            ]
           },
           {
            "iteration": 788,
            "learn": [
             1618.156857
            ],
            "passed_time": 126.607781,
            "remaining_time": 33.85835462,
            "test": [
             1656.61904
            ]
           },
           {
            "iteration": 789,
            "learn": [
             1617.981734
            ],
            "passed_time": 126.863216,
            "remaining_time": 33.72313336,
            "test": [
             1656.564491
            ]
           },
           {
            "iteration": 790,
            "learn": [
             1617.850967
            ],
            "passed_time": 127.1716563,
            "remaining_time": 33.60161337,
            "test": [
             1656.507986
            ]
           },
           {
            "iteration": 791,
            "learn": [
             1617.716151
            ],
            "passed_time": 127.4230734,
            "remaining_time": 33.46464554,
            "test": [
             1656.454937
            ]
           },
           {
            "iteration": 792,
            "learn": [
             1617.583909
            ],
            "passed_time": 127.6818027,
            "remaining_time": 33.32929782,
            "test": [
             1656.374061
            ]
           },
           {
            "iteration": 793,
            "learn": [
             1617.435776
            ],
            "passed_time": 128.0418669,
            "remaining_time": 33.21993021,
            "test": [
             1656.214209
            ]
           },
           {
            "iteration": 794,
            "learn": [
             1617.288493
            ],
            "passed_time": 128.3076555,
            "remaining_time": 33.08562187,
            "test": [
             1656.101049
            ]
           },
           {
            "iteration": 795,
            "learn": [
             1617.114477
            ],
            "passed_time": 128.6061491,
            "remaining_time": 32.95936483,
            "test": [
             1656.010417
            ]
           },
           {
            "iteration": 796,
            "learn": [
             1616.99882
            ],
            "passed_time": 128.9677589,
            "remaining_time": 32.84875165,
            "test": [
             1655.960048
            ]
           },
           {
            "iteration": 797,
            "learn": [
             1616.865364
            ],
            "passed_time": 129.3657227,
            "remaining_time": 32.74671176,
            "test": [
             1655.843604
            ]
           },
           {
            "iteration": 798,
            "learn": [
             1616.659511
            ],
            "passed_time": 129.6506874,
            "remaining_time": 32.61550459,
            "test": [
             1655.666712
            ]
           },
           {
            "iteration": 799,
            "learn": [
             1616.478632
            ],
            "passed_time": 129.9298606,
            "remaining_time": 32.48246516,
            "test": [
             1655.586936
            ]
           },
           {
            "iteration": 800,
            "learn": [
             1616.465272
            ],
            "passed_time": 130.3542595,
            "remaining_time": 32.38514062,
            "test": [
             1655.570249
            ]
           },
           {
            "iteration": 801,
            "learn": [
             1616.284929
            ],
            "passed_time": 130.5979661,
            "remaining_time": 32.24239064,
            "test": [
             1655.404378
            ]
           },
           {
            "iteration": 802,
            "learn": [
             1616.130192
            ],
            "passed_time": 130.862204,
            "remaining_time": 32.10442614,
            "test": [
             1655.27956
            ]
           },
           {
            "iteration": 803,
            "learn": [
             1616.077329
            ],
            "passed_time": 131.0740795,
            "remaining_time": 31.95338257,
            "test": [
             1655.246848
            ]
           },
           {
            "iteration": 804,
            "learn": [
             1615.928793
            ],
            "passed_time": 131.240956,
            "remaining_time": 31.79128748,
            "test": [
             1655.129111
            ]
           },
           {
            "iteration": 805,
            "learn": [
             1615.867423
            ],
            "passed_time": 131.5690745,
            "remaining_time": 31.66799064,
            "test": [
             1655.090474
            ]
           },
           {
            "iteration": 806,
            "learn": [
             1615.763899
            ],
            "passed_time": 131.7366553,
            "remaining_time": 31.5057924,
            "test": [
             1655.039191
            ]
           },
           {
            "iteration": 807,
            "learn": [
             1615.626654
            ],
            "passed_time": 131.8908841,
            "remaining_time": 31.3404081,
            "test": [
             1654.960454
            ]
           },
           {
            "iteration": 808,
            "learn": [
             1615.464899
            ],
            "passed_time": 132.0606926,
            "remaining_time": 31.17872965,
            "test": [
             1654.851437
            ]
           },
           {
            "iteration": 809,
            "learn": [
             1615.33441
            ],
            "passed_time": 132.2026115,
            "remaining_time": 31.01048911,
            "test": [
             1654.761873
            ]
           },
           {
            "iteration": 810,
            "learn": [
             1615.18647
            ],
            "passed_time": 132.3409676,
            "remaining_time": 30.8414832,
            "test": [
             1654.711239
            ]
           },
           {
            "iteration": 811,
            "learn": [
             1615.038391
            ],
            "passed_time": 132.5348719,
            "remaining_time": 30.68541368,
            "test": [
             1654.598525
            ]
           },
           {
            "iteration": 812,
            "learn": [
             1614.987076
            ],
            "passed_time": 132.7178193,
            "remaining_time": 30.52673089,
            "test": [
             1654.577989
            ]
           },
           {
            "iteration": 813,
            "learn": [
             1614.85719
            ],
            "passed_time": 132.8294332,
            "remaining_time": 30.35168867,
            "test": [
             1654.428792
            ]
           },
           {
            "iteration": 814,
            "learn": [
             1614.776783
            ],
            "passed_time": 132.9581746,
            "remaining_time": 30.18068995,
            "test": [
             1654.362128
            ]
           },
           {
            "iteration": 815,
            "learn": [
             1614.693195
            ],
            "passed_time": 133.1207517,
            "remaining_time": 30.0174244,
            "test": [
             1654.315919
            ]
           },
           {
            "iteration": 816,
            "learn": [
             1614.562486
            ],
            "passed_time": 133.2632547,
            "remaining_time": 29.84966415,
            "test": [
             1654.199859
            ]
           },
           {
            "iteration": 817,
            "learn": [
             1614.501356
            ],
            "passed_time": 133.4193094,
            "remaining_time": 29.68498081,
            "test": [
             1654.149156
            ]
           },
           {
            "iteration": 818,
            "learn": [
             1614.390627
            ],
            "passed_time": 133.5842931,
            "remaining_time": 29.52229189,
            "test": [
             1654.102728
            ]
           },
           {
            "iteration": 819,
            "learn": [
             1614.326865
            ],
            "passed_time": 133.7144835,
            "remaining_time": 29.35195978,
            "test": [
             1654.058543
            ]
           },
           {
            "iteration": 820,
            "learn": [
             1614.21698
            ],
            "passed_time": 133.8579577,
            "remaining_time": 29.18462172,
            "test": [
             1654.049249
            ]
           },
           {
            "iteration": 821,
            "learn": [
             1614.035264
            ],
            "passed_time": 133.9605079,
            "remaining_time": 29.00847981,
            "test": [
             1653.825061
            ]
           },
           {
            "iteration": 822,
            "learn": [
             1613.938628
            ],
            "passed_time": 134.1105148,
            "remaining_time": 28.8427231,
            "test": [
             1653.788684
            ]
           },
           {
            "iteration": 823,
            "learn": [
             1613.827684
            ],
            "passed_time": 134.2438409,
            "remaining_time": 28.67344175,
            "test": [
             1653.773076
            ]
           },
           {
            "iteration": 824,
            "learn": [
             1613.71774
            ],
            "passed_time": 134.3833207,
            "remaining_time": 28.50555287,
            "test": [
             1653.746503
            ]
           },
           {
            "iteration": 825,
            "learn": [
             1613.512699
            ],
            "passed_time": 134.557531,
            "remaining_time": 28.3450489,
            "test": [
             1653.568451
            ]
           },
           {
            "iteration": 826,
            "learn": [
             1613.397944
            ],
            "passed_time": 134.7226589,
            "remaining_time": 28.18261185,
            "test": [
             1653.512094
            ]
           },
           {
            "iteration": 827,
            "learn": [
             1613.337618
            ],
            "passed_time": 134.8534524,
            "remaining_time": 28.01303601,
            "test": [
             1653.432979
            ]
           },
           {
            "iteration": 828,
            "learn": [
             1613.258028
            ],
            "passed_time": 134.9786882,
            "remaining_time": 27.84240734,
            "test": [
             1653.335649
            ]
           },
           {
            "iteration": 829,
            "learn": [
             1613.15589
            ],
            "passed_time": 135.1110168,
            "remaining_time": 27.6733408,
            "test": [
             1653.355092
            ]
           },
           {
            "iteration": 830,
            "learn": [
             1613.109886
            ],
            "passed_time": 135.2244216,
            "remaining_time": 27.50051415,
            "test": [
             1653.328497
            ]
           },
           {
            "iteration": 831,
            "learn": [
             1612.995759
            ],
            "passed_time": 135.3674876,
            "remaining_time": 27.33381961,
            "test": [
             1653.260037
            ]
           },
           {
            "iteration": 832,
            "learn": [
             1612.943032
            ],
            "passed_time": 135.4994022,
            "remaining_time": 27.16494619,
            "test": [
             1653.176586
            ]
           },
           {
            "iteration": 833,
            "learn": [
             1612.822955
            ],
            "passed_time": 135.6796988,
            "remaining_time": 27.00579137,
            "test": [
             1653.114307
            ]
           },
           {
            "iteration": 834,
            "learn": [
             1612.694178
            ],
            "passed_time": 135.8277184,
            "remaining_time": 26.84020783,
            "test": [
             1652.962732
            ]
           },
           {
            "iteration": 835,
            "learn": [
             1612.5851
            ],
            "passed_time": 135.9769155,
            "remaining_time": 26.67489731,
            "test": [
             1652.89593
            ]
           },
           {
            "iteration": 836,
            "learn": [
             1612.535035
            ],
            "passed_time": 136.1269751,
            "remaining_time": 26.50979324,
            "test": [
             1652.872171
            ]
           },
           {
            "iteration": 837,
            "learn": [
             1612.429273
            ],
            "passed_time": 136.2823659,
            "remaining_time": 26.3457557,
            "test": [
             1652.830284
            ]
           },
           {
            "iteration": 838,
            "learn": [
             1612.384739
            ],
            "passed_time": 136.4485721,
            "remaining_time": 26.18381419,
            "test": [
             1652.777463
            ]
           },
           {
            "iteration": 839,
            "learn": [
             1612.29588
            ],
            "passed_time": 136.5760985,
            "remaining_time": 26.01449494,
            "test": [
             1652.737536
            ]
           },
           {
            "iteration": 840,
            "learn": [
             1612.224631
            ],
            "passed_time": 136.7769297,
            "remaining_time": 25.85913415,
            "test": [
             1652.655937
            ]
           },
           {
            "iteration": 841,
            "learn": [
             1612.109221
            ],
            "passed_time": 136.9058371,
            "remaining_time": 25.69016896,
            "test": [
             1652.600022
            ]
           },
           {
            "iteration": 842,
            "learn": [
             1611.970647
            ],
            "passed_time": 137.0587739,
            "remaining_time": 25.52577403,
            "test": [
             1652.556764
            ]
           },
           {
            "iteration": 843,
            "learn": [
             1611.831803
            ],
            "passed_time": 137.2034429,
            "remaining_time": 25.35987807,
            "test": [
             1652.448447
            ]
           },
           {
            "iteration": 844,
            "learn": [
             1611.712342
            ],
            "passed_time": 137.3493327,
            "remaining_time": 25.1942563,
            "test": [
             1652.342434
            ]
           },
           {
            "iteration": 845,
            "learn": [
             1611.664154
            ],
            "passed_time": 137.5092198,
            "remaining_time": 25.03122914,
            "test": [
             1652.323937
            ]
           },
           {
            "iteration": 846,
            "learn": [
             1611.526453
            ],
            "passed_time": 137.6241827,
            "remaining_time": 24.86009439,
            "test": [
             1652.17637
            ]
           },
           {
            "iteration": 847,
            "learn": [
             1611.450208
            ],
            "passed_time": 137.7968477,
            "remaining_time": 24.69943496,
            "test": [
             1652.165454
            ]
           },
           {
            "iteration": 848,
            "learn": [
             1611.346586
            ],
            "passed_time": 137.9323396,
            "remaining_time": 24.53213579,
            "test": [
             1652.108688
            ]
           },
           {
            "iteration": 849,
            "learn": [
             1611.242185
            ],
            "passed_time": 138.1332438,
            "remaining_time": 24.37645479,
            "test": [
             1651.970916
            ]
           },
           {
            "iteration": 850,
            "learn": [
             1611.159094
            ],
            "passed_time": 138.2709567,
            "remaining_time": 24.20960347,
            "test": [
             1651.930126
            ]
           },
           {
            "iteration": 851,
            "learn": [
             1611.117042
            ],
            "passed_time": 138.3877769,
            "remaining_time": 24.03919129,
            "test": [
             1651.906298
            ]
           },
           {
            "iteration": 852,
            "learn": [
             1611.066206
            ],
            "passed_time": 138.5557928,
            "remaining_time": 23.87772748,
            "test": [
             1651.876654
            ]
           },
           {
            "iteration": 853,
            "learn": [
             1610.994832
            ],
            "passed_time": 138.6593,
            "remaining_time": 23.70521991,
            "test": [
             1651.817993
            ]
           },
           {
            "iteration": 854,
            "learn": [
             1610.931156
            ],
            "passed_time": 138.8716979,
            "remaining_time": 23.55134057,
            "test": [
             1651.76098
            ]
           },
           {
            "iteration": 855,
            "learn": [
             1610.910141
            ],
            "passed_time": 138.9786104,
            "remaining_time": 23.37957932,
            "test": [
             1651.748817
            ]
           },
           {
            "iteration": 856,
            "learn": [
             1610.770732
            ],
            "passed_time": 139.1220257,
            "remaining_time": 23.21406029,
            "test": [
             1651.60009
            ]
           },
           {
            "iteration": 857,
            "learn": [
             1610.672289
            ],
            "passed_time": 139.2567019,
            "remaining_time": 23.04714646,
            "test": [
             1651.586841
            ]
           },
           {
            "iteration": 858,
            "learn": [
             1610.606383
            ],
            "passed_time": 139.3758425,
            "remaining_time": 22.87775761,
            "test": [
             1651.583007
            ]
           },
           {
            "iteration": 859,
            "learn": [
             1610.556824
            ],
            "passed_time": 139.4971946,
            "remaining_time": 22.70884564,
            "test": [
             1651.559376
            ]
           },
           {
            "iteration": 860,
            "learn": [
             1610.499541
            ],
            "passed_time": 139.6826353,
            "remaining_time": 22.5503906,
            "test": [
             1651.526534
            ]
           },
           {
            "iteration": 861,
            "learn": [
             1610.280711
            ],
            "passed_time": 139.8561292,
            "remaining_time": 22.38996036,
            "test": [
             1651.392615
            ]
           },
           {
            "iteration": 862,
            "learn": [
             1610.152744
            ],
            "passed_time": 140.0097254,
            "remaining_time": 22.22634111,
            "test": [
             1651.273054
            ]
           },
           {
            "iteration": 863,
            "learn": [
             1609.865199
            ],
            "passed_time": 140.1242086,
            "remaining_time": 22.05658838,
            "test": [
             1651.039842
            ]
           },
           {
            "iteration": 864,
            "learn": [
             1609.798052
            ],
            "passed_time": 140.21679,
            "remaining_time": 21.88354525,
            "test": [
             1651.028034
            ]
           },
           {
            "iteration": 865,
            "learn": [
             1609.743987
            ],
            "passed_time": 140.3727966,
            "remaining_time": 21.72050201,
            "test": [
             1650.984457
            ]
           },
           {
            "iteration": 866,
            "learn": [
             1609.695665
            ],
            "passed_time": 140.5313558,
            "remaining_time": 21.55786658,
            "test": [
             1650.969409
            ]
           },
           {
            "iteration": 867,
            "learn": [
             1609.649528
            ],
            "passed_time": 140.6517854,
            "remaining_time": 21.38944202,
            "test": [
             1650.910231
            ]
           },
           {
            "iteration": 868,
            "learn": [
             1609.604457
            ],
            "passed_time": 140.8677133,
            "remaining_time": 21.2355241,
            "test": [
             1650.896196
            ]
           },
           {
            "iteration": 869,
            "learn": [
             1609.45628
            ],
            "passed_time": 140.9902887,
            "remaining_time": 21.06751441,
            "test": [
             1650.758974
            ]
           },
           {
            "iteration": 870,
            "learn": [
             1609.357151
            ],
            "passed_time": 141.0790355,
            "remaining_time": 20.89459883,
            "test": [
             1650.719145
            ]
           },
           {
            "iteration": 871,
            "learn": [
             1609.300143
            ],
            "passed_time": 141.239094,
            "remaining_time": 20.73234407,
            "test": [
             1650.688494
            ]
           },
           {
            "iteration": 872,
            "learn": [
             1609.159024
            ],
            "passed_time": 141.4343422,
            "remaining_time": 20.57521358,
            "test": [
             1650.599514
            ]
           },
           {
            "iteration": 873,
            "learn": [
             1609.091208
            ],
            "passed_time": 141.587417,
            "remaining_time": 20.41191595,
            "test": [
             1650.574956
            ]
           },
           {
            "iteration": 874,
            "learn": [
             1609.036514
            ],
            "passed_time": 141.8261669,
            "remaining_time": 20.26088098,
            "test": [
             1650.556462
            ]
           },
           {
            "iteration": 875,
            "learn": [
             1608.99579
            ],
            "passed_time": 142.0591453,
            "remaining_time": 20.10882878,
            "test": [
             1650.518954
            ]
           },
           {
            "iteration": 876,
            "learn": [
             1608.848348
            ],
            "passed_time": 142.3431603,
            "remaining_time": 19.96374996,
            "test": [
             1650.394052
            ]
           },
           {
            "iteration": 877,
            "learn": [
             1608.669102
            ],
            "passed_time": 142.6619558,
            "remaining_time": 19.82318747,
            "test": [
             1650.235105
            ]
           },
           {
            "iteration": 878,
            "learn": [
             1608.589252
            ],
            "passed_time": 142.9703253,
            "remaining_time": 19.68078426,
            "test": [
             1650.183313
            ]
           },
           {
            "iteration": 879,
            "learn": [
             1608.41401
            ],
            "passed_time": 143.4563549,
            "remaining_time": 19.56223022,
            "test": [
             1649.976338
            ]
           },
           {
            "iteration": 880,
            "learn": [
             1608.313157
            ],
            "passed_time": 143.7141539,
            "remaining_time": 19.41201398,
            "test": [
             1649.849849
            ]
           },
           {
            "iteration": 881,
            "learn": [
             1608.180879
            ],
            "passed_time": 143.9548103,
            "remaining_time": 19.25926034,
            "test": [
             1649.755691
            ]
           },
           {
            "iteration": 882,
            "learn": [
             1608.036446
            ],
            "passed_time": 144.1356249,
            "remaining_time": 19.09837839,
            "test": [
             1649.70277
            ]
           },
           {
            "iteration": 883,
            "learn": [
             1607.94156
            ],
            "passed_time": 144.295589,
            "remaining_time": 18.9347153,
            "test": [
             1649.68949
            ]
           },
           {
            "iteration": 884,
            "learn": [
             1607.832169
            ],
            "passed_time": 144.4852246,
            "remaining_time": 18.77491619,
            "test": [
             1649.677924
            ]
           },
           {
            "iteration": 885,
            "learn": [
             1607.653086
            ],
            "passed_time": 144.6114261,
            "remaining_time": 18.60688778,
            "test": [
             1649.549285
            ]
           },
           {
            "iteration": 886,
            "learn": [
             1607.61252
            ],
            "passed_time": 144.7449451,
            "remaining_time": 18.4398859,
            "test": [
             1649.539998
            ]
           },
           {
            "iteration": 887,
            "learn": [
             1607.384163
            ],
            "passed_time": 144.868492,
            "remaining_time": 18.27170169,
            "test": [
             1649.436716
            ]
           },
           {
            "iteration": 888,
            "learn": [
             1607.237347
            ],
            "passed_time": 144.9957986,
            "remaining_time": 18.10408733,
            "test": [
             1649.322018
            ]
           },
           {
            "iteration": 889,
            "learn": [
             1607.179021
            ],
            "passed_time": 145.1027061,
            "remaining_time": 17.93404233,
            "test": [
             1649.256919
            ]
           },
           {
            "iteration": 890,
            "learn": [
             1607.111309
            ],
            "passed_time": 145.2418794,
            "remaining_time": 17.76808625,
            "test": [
             1649.217363
            ]
           },
           {
            "iteration": 891,
            "learn": [
             1607.028478
            ],
            "passed_time": 145.3716157,
            "remaining_time": 17.60104765,
            "test": [
             1649.172273
            ]
           },
           {
            "iteration": 892,
            "learn": [
             1606.924173
            ],
            "passed_time": 145.5293633,
            "remaining_time": 17.43744891,
            "test": [
             1649.132108
            ]
           },
           {
            "iteration": 893,
            "learn": [
             1606.867249
            ],
            "passed_time": 145.6796746,
            "remaining_time": 17.27298155,
            "test": [
             1649.107947
            ]
           },
           {
            "iteration": 894,
            "learn": [
             1606.79657
            ],
            "passed_time": 145.8128059,
            "remaining_time": 17.1065303,
            "test": [
             1649.050999
            ]
           },
           {
            "iteration": 895,
            "learn": [
             1606.706115
            ],
            "passed_time": 145.9711866,
            "remaining_time": 16.94308415,
            "test": [
             1649.007167
            ]
           },
           {
            "iteration": 896,
            "learn": [
             1606.550138
            ],
            "passed_time": 146.1116668,
            "remaining_time": 16.77759385,
            "test": [
             1648.839426
            ]
           },
           {
            "iteration": 897,
            "learn": [
             1606.415825
            ],
            "passed_time": 146.2389309,
            "remaining_time": 16.61065807,
            "test": [
             1648.730847
            ]
           },
           {
            "iteration": 898,
            "learn": [
             1606.364055
            ],
            "passed_time": 146.3357241,
            "remaining_time": 16.44038724,
            "test": [
             1648.710093
            ]
           },
           {
            "iteration": 899,
            "learn": [
             1606.306788
            ],
            "passed_time": 146.4594807,
            "remaining_time": 16.27327564,
            "test": [
             1648.689673
            ]
           },
           {
            "iteration": 900,
            "learn": [
             1606.12633
            ],
            "passed_time": 146.612004,
            "remaining_time": 16.10942108,
            "test": [
             1648.596072
            ]
           },
           {
            "iteration": 901,
            "learn": [
             1606.07631
            ],
            "passed_time": 146.732684,
            "remaining_time": 15.94213197,
            "test": [
             1648.577686
            ]
           },
           {
            "iteration": 902,
            "learn": [
             1605.940126
            ],
            "passed_time": 146.9121234,
            "remaining_time": 15.781258,
            "test": [
             1648.48211
            ]
           },
           {
            "iteration": 903,
            "learn": [
             1605.821831
            ],
            "passed_time": 147.0186942,
            "remaining_time": 15.61260469,
            "test": [
             1648.383804
            ]
           },
           {
            "iteration": 904,
            "learn": [
             1605.679641
            ],
            "passed_time": 147.1887241,
            "remaining_time": 15.45075004,
            "test": [
             1648.233812
            ]
           },
           {
            "iteration": 905,
            "learn": [
             1605.562442
            ],
            "passed_time": 147.3450298,
            "remaining_time": 15.28745342,
            "test": [
             1648.164004
            ]
           },
           {
            "iteration": 906,
            "learn": [
             1605.441752
            ],
            "passed_time": 147.4697645,
            "remaining_time": 15.12093505,
            "test": [
             1648.068198
            ]
           },
           {
            "iteration": 907,
            "learn": [
             1605.370313
            ],
            "passed_time": 147.6674916,
            "remaining_time": 14.96190444,
            "test": [
             1647.992998
            ]
           },
           {
            "iteration": 908,
            "learn": [
             1605.192889
            ],
            "passed_time": 147.7804863,
            "remaining_time": 14.79430611,
            "test": [
             1647.868957
            ]
           },
           {
            "iteration": 909,
            "learn": [
             1605.08557
            ],
            "passed_time": 147.8934265,
            "remaining_time": 14.6268224,
            "test": [
             1647.80682
            ]
           },
           {
            "iteration": 910,
            "learn": [
             1604.915243
            ],
            "passed_time": 148.0372306,
            "remaining_time": 14.46247368,
            "test": [
             1647.63449
            ]
           },
           {
            "iteration": 911,
            "learn": [
             1604.904504
            ],
            "passed_time": 148.2209599,
            "remaining_time": 14.30202245,
            "test": [
             1647.621028
            ]
           },
           {
            "iteration": 912,
            "learn": [
             1604.822293
            ],
            "passed_time": 148.4047131,
            "remaining_time": 14.14152249,
            "test": [
             1647.554949
            ]
           },
           {
            "iteration": 913,
            "learn": [
             1604.737661
            ],
            "passed_time": 148.5143927,
            "remaining_time": 13.97400194,
            "test": [
             1647.523243
            ]
           },
           {
            "iteration": 914,
            "learn": [
             1604.626551
            ],
            "passed_time": 148.687586,
            "remaining_time": 13.81250799,
            "test": [
             1647.430854
            ]
           },
           {
            "iteration": 915,
            "learn": [
             1604.503106
            ],
            "passed_time": 148.8816445,
            "remaining_time": 13.6529019,
            "test": [
             1647.36563
            ]
           },
           {
            "iteration": 916,
            "learn": [
             1604.488027
            ],
            "passed_time": 149.0367657,
            "remaining_time": 13.48969635,
            "test": [
             1647.368609
            ]
           },
           {
            "iteration": 917,
            "learn": [
             1604.373751
            ],
            "passed_time": 149.1895496,
            "remaining_time": 13.32629964,
            "test": [
             1647.275923
            ]
           },
           {
            "iteration": 918,
            "learn": [
             1604.296166
            ],
            "passed_time": 149.27613,
            "remaining_time": 13.15709089,
            "test": [
             1647.248448
            ]
           },
           {
            "iteration": 919,
            "learn": [
             1604.173733
            ],
            "passed_time": 149.4166063,
            "remaining_time": 12.99274837,
            "test": [
             1647.174933
            ]
           },
           {
            "iteration": 920,
            "learn": [
             1604.12108
            ],
            "passed_time": 149.5319477,
            "remaining_time": 12.82630171,
            "test": [
             1647.147924
            ]
           },
           {
            "iteration": 921,
            "learn": [
             1604.072919
            ],
            "passed_time": 149.6245645,
            "remaining_time": 12.65804342,
            "test": [
             1647.09606
            ]
           },
           {
            "iteration": 922,
            "learn": [
             1603.979659
            ],
            "passed_time": 149.8199039,
            "remaining_time": 12.49851853,
            "test": [
             1647.032029
            ]
           },
           {
            "iteration": 923,
            "learn": [
             1603.909512
            ],
            "passed_time": 149.9661728,
            "remaining_time": 12.33488001,
            "test": [
             1647.001563
            ]
           },
           {
            "iteration": 924,
            "learn": [
             1603.805291
            ],
            "passed_time": 150.0535835,
            "remaining_time": 12.16650677,
            "test": [
             1646.927579
            ]
           },
           {
            "iteration": 925,
            "learn": [
             1603.728421
            ],
            "passed_time": 150.2046085,
            "remaining_time": 12.00339204,
            "test": [
             1646.909974
            ]
           },
           {
            "iteration": 926,
            "learn": [
             1603.714523
            ],
            "passed_time": 150.3344422,
            "remaining_time": 11.83863461,
            "test": [
             1646.913309
            ]
           },
           {
            "iteration": 927,
            "learn": [
             1603.644358
            ],
            "passed_time": 150.4181171,
            "remaining_time": 11.67037115,
            "test": [
             1646.890064
            ]
           },
           {
            "iteration": 928,
            "learn": [
             1603.537296
            ],
            "passed_time": 150.5758804,
            "remaining_time": 11.50795211,
            "test": [
             1646.850854
            ]
           },
           {
            "iteration": 929,
            "learn": [
             1603.317139
            ],
            "passed_time": 150.6811326,
            "remaining_time": 11.34159062,
            "test": [
             1646.672816
            ]
           },
           {
            "iteration": 930,
            "learn": [
             1603.239697
            ],
            "passed_time": 150.8851087,
            "remaining_time": 11.18267723,
            "test": [
             1646.637393
            ]
           },
           {
            "iteration": 931,
            "learn": [
             1603.226792
            ],
            "passed_time": 151.0264664,
            "remaining_time": 11.01909841,
            "test": [
             1646.640775
            ]
           },
           {
            "iteration": 932,
            "learn": [
             1603.092507
            ],
            "passed_time": 151.1482592,
            "remaining_time": 10.85416224,
            "test": [
             1646.587667
            ]
           },
           {
            "iteration": 933,
            "learn": [
             1603.03845
            ],
            "passed_time": 151.2977431,
            "remaining_time": 10.69127521,
            "test": [
             1646.541255
            ]
           },
           {
            "iteration": 934,
            "learn": [
             1602.99246
            ],
            "passed_time": 151.4448062,
            "remaining_time": 10.52824856,
            "test": [
             1646.509257
            ]
           },
           {
            "iteration": 935,
            "learn": [
             1602.837294
            ],
            "passed_time": 151.595846,
            "remaining_time": 10.36552793,
            "test": [
             1646.355276
            ]
           },
           {
            "iteration": 936,
            "learn": [
             1602.769383
            ],
            "passed_time": 151.7218012,
            "remaining_time": 10.20114565,
            "test": [
             1646.315635
            ]
           },
           {
            "iteration": 937,
            "learn": [
             1602.703647
            ],
            "passed_time": 151.9014599,
            "remaining_time": 10.040395,
            "test": [
             1646.315609
            ]
           },
           {
            "iteration": 938,
            "learn": [
             1602.657377
            ],
            "passed_time": 152.0831834,
            "remaining_time": 9.879738218,
            "test": [
             1646.275282
            ]
           },
           {
            "iteration": 939,
            "learn": [
             1602.606669
            ],
            "passed_time": 152.2548892,
            "remaining_time": 9.718397181,
            "test": [
             1646.259178
            ]
           },
           {
            "iteration": 940,
            "learn": [
             1602.53587
            ],
            "passed_time": 152.3305415,
            "remaining_time": 9.551011638,
            "test": [
             1646.225302
            ]
           },
           {
            "iteration": 941,
            "learn": [
             1602.506657
            ],
            "passed_time": 152.46366,
            "remaining_time": 9.387359107,
            "test": [
             1646.224613
            ]
           },
           {
            "iteration": 942,
            "learn": [
             1602.443311
            ],
            "passed_time": 152.5875847,
            "remaining_time": 9.223215616,
            "test": [
             1646.198807
            ]
           },
           {
            "iteration": 943,
            "learn": [
             1602.298364
            ],
            "passed_time": 152.746483,
            "remaining_time": 9.061232042,
            "test": [
             1646.046788
            ]
           },
           {
            "iteration": 944,
            "learn": [
             1602.148726
            ],
            "passed_time": 152.9596048,
            "remaining_time": 8.902410863,
            "test": [
             1646.029976
            ]
           },
           {
            "iteration": 945,
            "learn": [
             1602.070782
            ],
            "passed_time": 153.1135348,
            "remaining_time": 8.740096065,
            "test": [
             1646.024677
            ]
           },
           {
            "iteration": 946,
            "learn": [
             1602.050261
            ],
            "passed_time": 153.236658,
            "remaining_time": 8.576074839,
            "test": [
             1646.020796
            ]
           },
           {
            "iteration": 947,
            "learn": [
             1601.999256
            ],
            "passed_time": 153.4078702,
            "remaining_time": 8.414777688,
            "test": [
             1645.981459
            ]
           },
           {
            "iteration": 948,
            "learn": [
             1601.909573
            ],
            "passed_time": 153.5339705,
            "remaining_time": 8.251035296,
            "test": [
             1645.930769
            ]
           },
           {
            "iteration": 949,
            "learn": [
             1601.8121
            ],
            "passed_time": 153.691776,
            "remaining_time": 8.089040845,
            "test": [
             1645.89542
            ]
           },
           {
            "iteration": 950,
            "learn": [
             1601.800832
            ],
            "passed_time": 153.7937942,
            "remaining_time": 7.924180776,
            "test": [
             1645.893945
            ]
           },
           {
            "iteration": 951,
            "learn": [
             1601.654904
            ],
            "passed_time": 154.0407267,
            "remaining_time": 7.766759328,
            "test": [
             1645.784457
            ]
           },
           {
            "iteration": 952,
            "learn": [
             1601.555727
            ],
            "passed_time": 154.259514,
            "remaining_time": 7.607761969,
            "test": [
             1645.696244
            ]
           },
           {
            "iteration": 953,
            "learn": [
             1601.484099
            ],
            "passed_time": 154.5191592,
            "remaining_time": 7.450609355,
            "test": [
             1645.626904
            ]
           },
           {
            "iteration": 954,
            "learn": [
             1601.450871
            ],
            "passed_time": 154.7347962,
            "remaining_time": 7.291168406,
            "test": [
             1645.606671
            ]
           },
           {
            "iteration": 955,
            "learn": [
             1601.305649
            ],
            "passed_time": 155.1256029,
            "remaining_time": 7.139672101,
            "test": [
             1645.488046
            ]
           },
           {
            "iteration": 956,
            "learn": [
             1601.238181
            ],
            "passed_time": 155.4224789,
            "remaining_time": 6.983455164,
            "test": [
             1645.467679
            ]
           },
           {
            "iteration": 957,
            "learn": [
             1601.155022
            ],
            "passed_time": 155.6431224,
            "remaining_time": 6.823602442,
            "test": [
             1645.345465
            ]
           },
           {
            "iteration": 958,
            "learn": [
             1601.111727
            ],
            "passed_time": 155.8085021,
            "remaining_time": 6.661260258,
            "test": [
             1645.328642
            ]
           },
           {
            "iteration": 959,
            "learn": [
             1600.997013
            ],
            "passed_time": 156.0697074,
            "remaining_time": 6.502904474,
            "test": [
             1645.280978
            ]
           },
           {
            "iteration": 960,
            "learn": [
             1600.787382
            ],
            "passed_time": 156.3871198,
            "remaining_time": 6.346615684,
            "test": [
             1645.137721
            ]
           },
           {
            "iteration": 961,
            "learn": [
             1600.654458
            ],
            "passed_time": 156.618458,
            "remaining_time": 6.186591898,
            "test": [
             1644.974079
            ]
           },
           {
            "iteration": 962,
            "learn": [
             1600.498469
            ],
            "passed_time": 156.9099266,
            "remaining_time": 6.028730305,
            "test": [
             1644.84086
            ]
           },
           {
            "iteration": 963,
            "learn": [
             1600.407648
            ],
            "passed_time": 157.1058299,
            "remaining_time": 5.867022692,
            "test": [
             1644.799599
            ]
           },
           {
            "iteration": 964,
            "learn": [
             1600.373834
            ],
            "passed_time": 157.3493945,
            "remaining_time": 5.706972859,
            "test": [
             1644.781925
            ]
           },
           {
            "iteration": 965,
            "learn": [
             1600.193976
            ],
            "passed_time": 157.4547875,
            "remaining_time": 5.541886931,
            "test": [
             1644.673225
            ]
           },
           {
            "iteration": 966,
            "learn": [
             1600.073495
            ],
            "passed_time": 157.5419111,
            "remaining_time": 5.376300998,
            "test": [
             1644.529032
            ]
           },
           {
            "iteration": 967,
            "learn": [
             1600.01673
            ],
            "passed_time": 157.6742087,
            "remaining_time": 5.212370537,
            "test": [
             1644.483104
            ]
           },
           {
            "iteration": 968,
            "learn": [
             1599.96834
            ],
            "passed_time": 157.8028979,
            "remaining_time": 5.048389922,
            "test": [
             1644.463862
            ]
           },
           {
            "iteration": 969,
            "learn": [
             1599.957881
            ],
            "passed_time": 157.9153317,
            "remaining_time": 4.883979331,
            "test": [
             1644.467391
            ]
           },
           {
            "iteration": 970,
            "learn": [
             1599.804324
            ],
            "passed_time": 158.0137661,
            "remaining_time": 4.71925769,
            "test": [
             1644.327547
            ]
           },
           {
            "iteration": 971,
            "learn": [
             1599.761975
            ],
            "passed_time": 158.1724345,
            "remaining_time": 4.556407579,
            "test": [
             1644.314595
            ]
           },
           {
            "iteration": 972,
            "learn": [
             1599.619323
            ],
            "passed_time": 158.3674733,
            "remaining_time": 4.394575313,
            "test": [
             1644.213393
            ]
           },
           {
            "iteration": 973,
            "learn": [
             1599.572511
            ],
            "passed_time": 158.5334699,
            "remaining_time": 4.231899607,
            "test": [
             1644.189143
            ]
           },
           {
            "iteration": 974,
            "learn": [
             1599.506469
            ],
            "passed_time": 158.7208737,
            "remaining_time": 4.069765991,
            "test": [
             1644.171418
            ]
           },
           {
            "iteration": 975,
            "learn": [
             1599.45986
            ],
            "passed_time": 158.8679386,
            "remaining_time": 3.906588655,
            "test": [
             1644.137444
            ]
           },
           {
            "iteration": 976,
            "learn": [
             1599.414256
            ],
            "passed_time": 158.994904,
            "remaining_time": 3.742971127,
            "test": [
             1644.150286
            ]
           },
           {
            "iteration": 977,
            "learn": [
             1599.306189
            ],
            "passed_time": 159.1301114,
            "remaining_time": 3.579613957,
            "test": [
             1644.066356
            ]
           },
           {
            "iteration": 978,
            "learn": [
             1599.281213
            ],
            "passed_time": 159.2371663,
            "remaining_time": 3.41571041,
            "test": [
             1644.072651
            ]
           },
           {
            "iteration": 979,
            "learn": [
             1599.246138
            ],
            "passed_time": 159.3756328,
            "remaining_time": 3.252563935,
            "test": [
             1644.042975
            ]
           },
           {
            "iteration": 980,
            "learn": [
             1599.190745
            ],
            "passed_time": 159.5420003,
            "remaining_time": 3.090008161,
            "test": [
             1644.041752
            ]
           },
           {
            "iteration": 981,
            "learn": [
             1599.008684
            ],
            "passed_time": 159.6913916,
            "remaining_time": 2.927133451,
            "test": [
             1643.884622
            ]
           },
           {
            "iteration": 982,
            "learn": [
             1598.962416
            ],
            "passed_time": 159.8498308,
            "remaining_time": 2.764442649,
            "test": [
             1643.875931
            ]
           },
           {
            "iteration": 983,
            "learn": [
             1598.897346
            ],
            "passed_time": 159.9853212,
            "remaining_time": 2.601387336,
            "test": [
             1643.855527
            ]
           },
           {
            "iteration": 984,
            "learn": [
             1598.848715
            ],
            "passed_time": 160.1004113,
            "remaining_time": 2.43807733,
            "test": [
             1643.79762
            ]
           },
           {
            "iteration": 985,
            "learn": [
             1598.758112
            ],
            "passed_time": 160.2345754,
            "remaining_time": 2.275135959,
            "test": [
             1643.768202
            ]
           },
           {
            "iteration": 986,
            "learn": [
             1598.712634
            ],
            "passed_time": 160.3257051,
            "remaining_time": 2.111686085,
            "test": [
             1643.762494
            ]
           },
           {
            "iteration": 987,
            "learn": [
             1598.605059
            ],
            "passed_time": 160.5205249,
            "remaining_time": 1.949642003,
            "test": [
             1643.6814
            ]
           },
           {
            "iteration": 988,
            "learn": [
             1598.563469
            ],
            "passed_time": 160.6184244,
            "remaining_time": 1.786453658,
            "test": [
             1643.671081
            ]
           },
           {
            "iteration": 989,
            "learn": [
             1598.512839
            ],
            "passed_time": 160.7624553,
            "remaining_time": 1.623863185,
            "test": [
             1643.669355
            ]
           },
           {
            "iteration": 990,
            "learn": [
             1598.36707
            ],
            "passed_time": 160.9216502,
            "remaining_time": 1.461447883,
            "test": [
             1643.570543
            ]
           },
           {
            "iteration": 991,
            "learn": [
             1598.321586
            ],
            "passed_time": 161.047906,
            "remaining_time": 1.298773435,
            "test": [
             1643.575142
            ]
           },
           {
            "iteration": 992,
            "learn": [
             1598.282669
            ],
            "passed_time": 161.161553,
            "remaining_time": 1.136083455,
            "test": [
             1643.526313
            ]
           },
           {
            "iteration": 993,
            "learn": [
             1598.127404
            ],
            "passed_time": 161.2731727,
            "remaining_time": 0.9734799156,
            "test": [
             1643.392746
            ]
           },
           {
            "iteration": 994,
            "learn": [
             1598.04787
            ],
            "passed_time": 161.4057229,
            "remaining_time": 0.8110840347,
            "test": [
             1643.356533
            ]
           },
           {
            "iteration": 995,
            "learn": [
             1597.870204
            ],
            "passed_time": 161.7537029,
            "remaining_time": 0.6496132645,
            "test": [
             1643.235615
            ]
           },
           {
            "iteration": 996,
            "learn": [
             1597.821461
            ],
            "passed_time": 161.9127795,
            "remaining_time": 0.4871999384,
            "test": [
             1643.204531
            ]
           },
           {
            "iteration": 997,
            "learn": [
             1597.729127
            ],
            "passed_time": 162.0851264,
            "remaining_time": 0.3248198926,
            "test": [
             1643.200555
            ]
           },
           {
            "iteration": 998,
            "learn": [
             1597.616576
            ],
            "passed_time": 162.2066674,
            "remaining_time": 0.1623690365,
            "test": [
             1643.085036
            ]
           },
           {
            "iteration": 999,
            "learn": [
             1597.511055
            ],
            "passed_time": 162.3518325,
            "remaining_time": 0,
            "test": [
             1643.043481
            ]
           }
          ],
          "meta": {
           "iteration_count": 1000,
           "launch_mode": "Train",
           "learn_metrics": [
            {
             "best_value": "Min",
             "name": "RMSE"
            }
           ],
           "learn_sets": [
            "learn"
           ],
           "name": "experiment",
           "parameters": "",
           "test_metrics": [
            {
             "best_value": "Min",
             "name": "RMSE"
            }
           ],
           "test_sets": [
            "test"
           ]
          }
         },
         "passed_iterations": 999,
         "total_iterations": 1000
        },
        "name": "catboost_info",
        "path": "catboost_info"
       }
      },
      "layout": "IPY_MODEL_043e4999660744a680aa644db5b313b2"
     }
    }
   }
  }
 },
 "nbformat": 4,
 "nbformat_minor": 1
}
